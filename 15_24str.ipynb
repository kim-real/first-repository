{
 "cells": [
  {
   "cell_type": "code",
   "execution_count": 1,
   "id": "416c7055",
   "metadata": {},
   "outputs": [
    {
     "data": {
      "text/plain": [
       "'Hello, Python'"
      ]
     },
     "execution_count": 1,
     "metadata": {},
     "output_type": "execute_result"
    }
   ],
   "source": [
    "# 24.1 문자열 조작하기\n",
    "s = 'Hello, world!'\n",
    "s = s.replace('world!', 'Python')\n",
    "s"
   ]
  },
  {
   "cell_type": "code",
   "execution_count": 1,
   "id": "f67e860c",
   "metadata": {},
   "outputs": [
    {
     "data": {
      "text/plain": [
       "'1ppl2'"
      ]
     },
     "execution_count": 1,
     "metadata": {},
     "output_type": "execute_result"
    }
   ],
   "source": [
    "#24.1.2  문자 바꾸기\n",
    "table = str.maketrans('aeiou', '12345')\n",
    "'apple'.translate(table)"
   ]
  },
  {
   "cell_type": "code",
   "execution_count": 4,
   "id": "f7f2da18",
   "metadata": {},
   "outputs": [
    {
     "data": {
      "text/plain": [
       "['apple', 'pear', 'grape', 'pineapple', 'orange']"
      ]
     },
     "execution_count": 4,
     "metadata": {},
     "output_type": "execute_result"
    }
   ],
   "source": [
    "#24.1.3  문자열 분리하기\n",
    "'apple pear grape pineapple orange'.split()\n",
    "['apple', 'pear', 'grape', 'pineapple', 'orange']\n",
    "'apple, pear, grape, pineapple, orange'.split(', ')\n",
    "['apple', 'pear', 'grape', 'pineapple', 'orange']"
   ]
  },
  {
   "cell_type": "code",
   "execution_count": 8,
   "id": "55a4c6d0",
   "metadata": {},
   "outputs": [
    {
     "data": {
      "text/plain": [
       "'apple-pear-grape-pineapple-orange'"
      ]
     },
     "execution_count": 8,
     "metadata": {},
     "output_type": "execute_result"
    }
   ],
   "source": [
    "# 24.1.4  구분자 문자열과 문자열 리스트 연결하기\n",
    "' '.join(['apple', 'pear', 'grape', 'pineapple', 'orange'])\n",
    "'apple pear grape pineapple orange'\n",
    "'-'.join(['apple', 'pear', 'grape', 'pineapple', 'orange'])\n",
    "'apple-pear-grape-pineapple-orange'"
   ]
  },
  {
   "cell_type": "code",
   "execution_count": 12,
   "id": "88871893",
   "metadata": {},
   "outputs": [
    {
     "data": {
      "text/plain": [
       "'Python'"
      ]
     },
     "execution_count": 12,
     "metadata": {},
     "output_type": "execute_result"
    }
   ],
   "source": [
    "#24.1.7  왼쪽 공백 삭제하기\n",
    "#'   Python   '.lstrip()\n",
    "#'   Python   '.rstrip()\n",
    "'   Python   '.strip()"
   ]
  },
  {
   "cell_type": "code",
   "execution_count": 24,
   "id": "9387cacb",
   "metadata": {},
   "outputs": [
    {
     "data": {
      "text/plain": [
       "'python'"
      ]
     },
     "execution_count": 24,
     "metadata": {},
     "output_type": "execute_result"
    }
   ],
   "source": [
    "#24.1.10   특정 문자 삭제하기\n",
    "import string\n",
    "#string.punctuation\n",
    "#', python.'.lstrip(',.')\n",
    "#', python.'.rstrip(',.')\n",
    "#', python.'.strip(',.')\n",
    "#', python.'.strip(' ,.')\n",
    "#', python.'.strip(string.punctuation)\n",
    "#', python.'.strip(string.punctuation + ' ')\n",
    "#', python.'.strip(string.punctuation).strip()"
   ]
  },
  {
   "cell_type": "code",
   "execution_count": 27,
   "id": "303a5818",
   "metadata": {},
   "outputs": [
    {
     "data": {
      "text/plain": [
       "'   python  '"
      ]
     },
     "execution_count": 27,
     "metadata": {},
     "output_type": "execute_result"
    }
   ],
   "source": [
    "#24.1.13  자열을 왼쪽 정렬하기\n",
    "#'python'.ljust(10)\n",
    "#'python'.rjust(10)\n",
    "'python'.center(11)"
   ]
  },
  {
   "cell_type": "code",
   "execution_count": 28,
   "id": "e921e3ef",
   "metadata": {},
   "outputs": [
    {
     "data": {
      "text/plain": [
       "'    PYTHON'"
      ]
     },
     "execution_count": 28,
     "metadata": {},
     "output_type": "execute_result"
    }
   ],
   "source": [
    "#24.1.16                메서드 체이닝\n",
    "'python'.rjust(10).upper()"
   ]
  },
  {
   "cell_type": "code",
   "execution_count": 29,
   "id": "0bd84a90",
   "metadata": {},
   "outputs": [
    {
     "data": {
      "text/plain": [
       "'0035'"
      ]
     },
     "execution_count": 29,
     "metadata": {},
     "output_type": "execute_result"
    }
   ],
   "source": [
    "#24.1.17                문자열 왼쪽에 0 채우기\n",
    "'35'.zfill(4)"
   ]
  },
  {
   "cell_type": "code",
   "execution_count": 33,
   "id": "eaf94da9",
   "metadata": {},
   "outputs": [
    {
     "data": {
      "text/plain": [
       "2"
      ]
     },
     "execution_count": 33,
     "metadata": {},
     "output_type": "execute_result"
    }
   ],
   "source": [
    "#24.1.18                문자열 위치 찾기\n",
    "#'apple pineapple'.find('pl')\n",
    "#'apple pineapple'.find('xy')\n",
    "#'apple pineapple'.rfind('pl')\n",
    "'apple pineapple'.index('pl')       #rindex\n",
    "#'apple pineapple'.count('pl')"
   ]
  },
  {
   "cell_type": "code",
   "execution_count": 39,
   "id": "908a0c9c",
   "metadata": {},
   "outputs": [
    {
     "data": {
      "text/plain": [
       "'2.30'"
      ]
     },
     "execution_count": 39,
     "metadata": {},
     "output_type": "execute_result"
    }
   ],
   "source": [
    "#문자열 서식 지정자와 포매팅 사용하기\n",
    "#'I am %s.' % 'james'     #문자영 혹은 변수\n",
    "\n",
    "#name = 'maria'\n",
    "#'I am %s.' % name\n",
    "#'I am %d years old.' % 20\n",
    "#'%f' % 2.3\n",
    "'%.2f' % 2.3"
   ]
  },
  {
   "cell_type": "code",
   "execution_count": 42,
   "id": "b96cafa8",
   "metadata": {},
   "outputs": [
    {
     "data": {
      "text/plain": [
       "'Today is 3 April.'"
      ]
     },
     "execution_count": 42,
     "metadata": {},
     "output_type": "execute_result"
    }
   ],
   "source": [
    "#24.2.4  서식 지정자로 문자열 정렬하기\n",
    "#'%10s' % 'python'\n",
    "'Today is %d %s.' % (3, 'April')"
   ]
  },
  {
   "cell_type": "code",
   "execution_count": null,
   "id": "8afdcc54",
   "metadata": {},
   "outputs": [],
   "source": [
    "# 24.2.6  format 메서드 사용하기\n",
    "'Hello, {0}'.format('world!')\n",
    "'Hello, {0} {2} {1}'.format('Python', 'Script', 3.6)\n",
    "'{0} {0} {1} {1}'.format('Python', 'Script')\n",
    "'Hello, {} {} {}'.format('Python', 'Script', 3.6)"
   ]
  },
  {
   "cell_type": "code",
   "execution_count": 44,
   "id": "264bf012",
   "metadata": {},
   "outputs": [
    {
     "data": {
      "text/plain": [
       "'Hello, Python Script 3.6'"
      ]
     },
     "execution_count": 44,
     "metadata": {},
     "output_type": "execute_result"
    }
   ],
   "source": [
    "#24.2.11                문자열 포매팅에 변수를 그대로 사용하기\n",
    "language = 'Python'\n",
    "version = 3.6\n",
    "#f'Hello, {language} {version}'\n",
    "'Hello, {} {} {}'.format('Python', 'Script', 3.6)\n",
    "#'Hello, {language} {version}'.format(language='Python', version=3.6)"
   ]
  },
  {
   "cell_type": "code",
   "execution_count": null,
   "id": "e740a227",
   "metadata": {},
   "outputs": [],
   "source": [
    "#format 메서드로 문자열 정렬하기\n",
    "'{0:<10}'.format('python')"
   ]
  },
  {
   "cell_type": "code",
   "execution_count": null,
   "id": "9ed2b2e2",
   "metadata": {},
   "outputs": [],
   "source": [
    "#   숫자 개수 맞추기\n",
    " '%03d' % 1\n",
    "    '{0:03d}'.format(35)\n",
    "    '%08.2f' % 3.6\n",
    "    '{0:08.2f}'.format(150.37)"
   ]
  },
  {
   "cell_type": "code",
   "execution_count": null,
   "id": "ab612c61",
   "metadata": {},
   "outputs": [],
   "source": [
    "#채우기와 정렬을 조합해서 사용하기\n",
    "'{0:0<10}'.format(15)    # 길이 10, 왼쪽으로 정렬하고 남는 공간은 0으로 채움\n",
    "'{0:0>10}'.format(15)    # 길이 10, 오른쪽으로 정렬하고 남는 공간은 0으로 채움"
   ]
  },
  {
   "cell_type": "code",
   "execution_count": 46,
   "id": "8e10805f",
   "metadata": {},
   "outputs": [
    {
     "name": "stdout",
     "output_type": "stream",
     "text": [
      "python.exe\n"
     ]
    }
   ],
   "source": [
    "#24.4 연습문제: 파일 경로에서 파일명만 가져오기\n",
    "path = 'C:\\\\Users\\\\dojang\\\\AppData\\\\Local\\\\Programs\\\\Python\\\\Python36-32\\\\python.exe'\n",
    "x=path.split('\\\\')\n",
    "print(x[-1])"
   ]
  },
  {
   "cell_type": "code",
   "execution_count": 59,
   "id": "a16f7515",
   "metadata": {},
   "outputs": [
    {
     "name": "stdout",
     "output_type": "stream",
     "text": [
      "the grown-ups' response, this time, was to advise me to lay aside my drawings of boa constrictors, whether from the inside or the outside, and devote myself instead to geography, history, arithmetic, and grammar. That is why, at the, age of six, I gave up what might have been a magnificent career as a painter. I had been disheartened by the failure of my Drawing Number One and my Drawing Number Two. Grown-ups never understand anything by themselves, and it is tiresome for children to be always and forever explaining things to the.\n",
      "6\n"
     ]
    }
   ],
   "source": [
    "#24.4 연습문제: 파일 경로에서 파일명만 가져오기\n",
    "para=input().split()\n",
    "\n",
    "count=0\n",
    "num=0\n",
    "for i in para:\n",
    "    a=''\n",
    "    a=para[num].strip('.,')\n",
    "    if a == 'the':\n",
    "        count=count+1\n",
    "    num += 1\n",
    "print(count)"
   ]
  },
  {
   "cell_type": "code",
   "execution_count": null,
   "id": "f60664a8",
   "metadata": {},
   "outputs": [],
   "source": []
  }
 ],
 "metadata": {
  "kernelspec": {
   "display_name": "Python 3 (ipykernel)",
   "language": "python",
   "name": "python3"
  },
  "language_info": {
   "codemirror_mode": {
    "name": "ipython",
    "version": 3
   },
   "file_extension": ".py",
   "mimetype": "text/x-python",
   "name": "python",
   "nbconvert_exporter": "python",
   "pygments_lexer": "ipython3",
   "version": "3.9.7"
  }
 },
 "nbformat": 4,
 "nbformat_minor": 5
}
