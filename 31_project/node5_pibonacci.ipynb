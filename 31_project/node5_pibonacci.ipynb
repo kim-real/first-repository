{
 "cells": [
  {
   "cell_type": "code",
   "execution_count": 1,
   "id": "e881b9e1",
   "metadata": {},
   "outputs": [
    {
     "name": "stdout",
     "output_type": "stream",
     "text": [
      "D\n",
      "C\n",
      "A\n",
      "B\n"
     ]
    }
   ],
   "source": [
    "#노드5\n",
    "def print_two(word1, word2):\n",
    "    print(word1)\n",
    "    print(word2)\n",
    "\n",
    "def print_and_return(word1, word2, word3):\n",
    "    print_two(word3, word2)\n",
    "    return word1\n",
    "\n",
    "print_two('A', print_and_return('B', 'C', 'D'))   # 함수먼저 print_and_return('B', 'C', 'D') 처리하고 b리턴, two함수 a,b 진행"
   ]
  },
  {
   "cell_type": "code",
   "execution_count": 2,
   "id": "0593a5c8",
   "metadata": {
    "scrolled": true
   },
   "outputs": [
    {
     "name": "stdout",
     "output_type": "stream",
     "text": [
      "1\n",
      "1\n",
      "2\n",
      "3\n",
      "5\n",
      "8\n",
      "13\n",
      "21\n",
      "34\n",
      "55\n",
      "89\n",
      "144\n",
      "233\n",
      "377\n",
      "610\n",
      "987\n",
      "1597\n",
      "2584\n",
      "4181\n",
      "6765\n",
      "끝!\n"
     ]
    }
   ],
   "source": [
    "# 노드5 피ㅗ나치\n",
    "def fibonacci(n):\n",
    "    if n <= 2:\n",
    "        return 1\n",
    "    else:\n",
    "        return fibonacci(n-2) + fibonacci(n-1)\n",
    "\n",
    "n = 1\n",
    "while n <= 20:\n",
    "    print(fibonacci(n))\n",
    "    n = n + 1\n",
    "print('끝!')"
   ]
  },
  {
   "cell_type": "code",
   "execution_count": 4,
   "id": "6049bd0f",
   "metadata": {},
   "outputs": [
    {
     "name": "stdout",
     "output_type": "stream",
     "text": [
      "True\n",
      "False\n"
     ]
    }
   ],
   "source": [
    "print(1 == 1.0)\n",
    "print(type(1) == type(1.0))"
   ]
  },
  {
   "cell_type": "code",
   "execution_count": 7,
   "id": "b9294932",
   "metadata": {},
   "outputs": [
    {
     "name": "stdout",
     "output_type": "stream",
     "text": [
      "True\n"
     ]
    }
   ],
   "source": [
    "print(0.1+0.1 == 0.2)"
   ]
  },
  {
   "cell_type": "code",
   "execution_count": 15,
   "id": "d7872ad4",
   "metadata": {},
   "outputs": [
    {
     "name": "stdout",
     "output_type": "stream",
     "text": [
      "aaPhoneNumber\n",
      "None\n"
     ]
    }
   ],
   "source": [
    "def get_mobile_phonenum(value):\n",
    "    if len(value) >= 11:     # 010XXXXYYYY 의 길이는 11 이상\n",
    "        return PhoneNumber(value)\n",
    "def PhoneNumber(value):\n",
    "    print('aaPhoneNumber')\n",
    "    \n",
    "\n",
    "print(get_mobile_phonenum('01234567890'))"
   ]
  },
  {
   "cell_type": "code",
   "execution_count": 33,
   "id": "5b33b610",
   "metadata": {},
   "outputs": [
    {
     "name": "stdout",
     "output_type": "stream",
     "text": [
      "13\n"
     ]
    }
   ],
   "source": [
    "# 피보나치 닭\n",
    "def FibonaChicken(n):\n",
    "    if n <= 2:\n",
    "        return 1\n",
    "    else:\n",
    "        return FibonaChicken(n-2) + FibonaChicken(n-1)\n",
    "    print(n)\n",
    "    return n-1\n",
    "\n",
    "print(FibonaChicken(7))"
   ]
  },
  {
   "cell_type": "code",
   "execution_count": 19,
   "id": "c1d82332",
   "metadata": {},
   "outputs": [
    {
     "name": "stdout",
     "output_type": "stream",
     "text": [
      "자연수: 78\n",
      "황금비: 48\n"
     ]
    }
   ],
   "source": [
    "def chicken(x):\n",
    "    if x == 0: return 0\n",
    "    if x == 1: return 1\n",
    "    a,b = 1,1\n",
    "    while 1:\n",
    "        c = a+b\n",
    "        if c > x: return a + chicken(x-b)\n",
    "        elif c == x: return b\n",
    "        a, b = b, c\n",
    "\n",
    "num = int(input('사람 : '))\n",
    "print('황금비: {}'.format(chicken(num)))"
   ]
  },
  {
   "cell_type": "code",
   "execution_count": null,
   "id": "5e43501b",
   "metadata": {},
   "outputs": [],
   "source": []
  },
  {
   "cell_type": "code",
   "execution_count": null,
   "id": "046a7ce3",
   "metadata": {},
   "outputs": [],
   "source": []
  }
 ],
 "metadata": {
  "kernelspec": {
   "display_name": "Python 3 (ipykernel)",
   "language": "python",
   "name": "python3"
  },
  "language_info": {
   "codemirror_mode": {
    "name": "ipython",
    "version": 3
   },
   "file_extension": ".py",
   "mimetype": "text/x-python",
   "name": "python",
   "nbconvert_exporter": "python",
   "pygments_lexer": "ipython3",
   "version": "3.9.7"
  }
 },
 "nbformat": 4,
 "nbformat_minor": 5
}
