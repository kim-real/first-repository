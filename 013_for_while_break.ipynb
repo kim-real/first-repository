{
 "cells": [
  {
   "cell_type": "code",
   "execution_count": null,
   "id": "4d7d4435",
   "metadata": {},
   "outputs": [],
   "source": [
    "#16.1 for와 range 사용하기\n",
    "for i in range(5):\n",
    "    print('Hello World!',i)\n",
    "\n",
    "#16.2 for와 range 응용하기\n",
    "#for i in range(7,12):\n",
    "#    print('Hello World!',i)\n",
    "    \n",
    "#for i in range(0,10,2):\n",
    "#    print('Hello World!',i)\n",
    "    \n",
    "#for i in range(1,10,2):\n",
    "#    print('Hello World!',i)\n",
    "    \n",
    "#for i in range(10,0,-2):\n",
    "#    print('Hello World!',i)\n",
    "    \n",
    "#for i in reversed(range(10)):\n",
    "#    print('Hello World!',i)"
   ]
  },
  {
   "cell_type": "code",
   "execution_count": 5,
   "id": "9990146d",
   "metadata": {},
   "outputs": [
    {
     "name": "stdout",
     "output_type": "stream",
     "text": [
      "10 0\n",
      "20 1\n",
      "30 2\n",
      "40 3\n",
      "50 4\n"
     ]
    }
   ],
   "source": [
    "#16.3 시퀀스 객체로 반복하기\n",
    "a = [10,20,30,40,50]\n",
    "for i in a:\n",
    "    print(i,a.index(i));"
   ]
  },
  {
   "cell_type": "code",
   "execution_count": 22,
   "id": "2fa97b4f",
   "metadata": {},
   "outputs": [
    {
     "name": "stdout",
     "output_type": "stream",
     "text": [
      "490 , -170 , 250 , 1020 , 80 , 620 , 210 , "
     ]
    }
   ],
   "source": [
    "#16.5 연습문제: 리스트의 요소에 10을 곱해서 출력하기\n",
    "x = [49, -17, 25, 102, 8, 62, 21]\n",
    "for i in x:\n",
    "    print('{} ,'.format(i*10),end= ' ')"
   ]
  },
  {
   "cell_type": "code",
   "execution_count": 28,
   "id": "df8c3e25",
   "metadata": {},
   "outputs": [
    {
     "name": "stdout",
     "output_type": "stream",
     "text": [
      "3\n",
      "3 * 1 = 3\n",
      "3 * 2 = 6\n",
      "3 * 3 = 9\n",
      "3 * 4 = 12\n",
      "3 * 5 = 15\n",
      "3 * 6 = 18\n",
      "3 * 7 = 21\n",
      "3 * 8 = 24\n",
      "3 * 9 = 27\n",
      "[2, 4, 6, 8, 10, 12, 14, 16, 18, 3, 6, 9, 12, 15, 18, 21, 24, 27, 4, 8, 12, 16, 20, 24, 28, 32, 36, 5, 10, 15, 20, 25, 30, 35, 40, 45, 6, 12, 18, 24, 30, 36, 42, 48, 54, 7, 14, 21, 28, 35, 42, 49, 56, 63, 8, 16, 24, 32, 40, 48, 56, 64, 72, 9, 18, 27, 36, 45, 54, 63, 72, 81]\n"
     ]
    }
   ],
   "source": [
    "#16.6 구구단\n",
    "a=int(input())\n",
    "for i in range(1,10):\n",
    "    print('{} * {} = {}'.format(a,i,a*i))\n",
    "\n",
    "\n",
    "# 구구단\n",
    "\n",
    "list=[]\n",
    "for i in range(2,10):\n",
    "    for j in range(1,10):\n",
    "        list.append(i*j)\n",
    "        \n",
    "print(list)    "
   ]
  },
  {
   "cell_type": "code",
   "execution_count": 39,
   "id": "429b2efa",
   "metadata": {},
   "outputs": [
    {
     "name": "stdout",
     "output_type": "stream",
     "text": [
      "Hello Worldi 0\n",
      "Hello Worldi 1\n",
      "Hello Worldi 2\n",
      "Hello Worldi 3\n",
      "Hello Worldi 4\n",
      "Hello Worldi 1\n",
      "Hello Worldi 3\n",
      "Hello Worldi 5\n",
      "Hello Worldi 2\n",
      "Hello Worldi 4\n",
      "Hello Worldi 5\n",
      "Hello Worldi 4\n",
      "Hello Worldi 3\n",
      "Hello Worldi 2\n",
      "Hello Worldi 1\n"
     ]
    }
   ],
   "source": [
    "#17.1 while 반복문 사용하기\n",
    "i = 0\n",
    "while i < 5:\n",
    "    print('Hello Worldi',i)\n",
    "    i += 1\n",
    "    \n",
    "#홀수\n",
    "i = 1\n",
    "while i <= 5:\n",
    "    print('Hello Worldi',i)\n",
    "    i += 2\n",
    "    \n",
    "#짝수\n",
    "i = 2\n",
    "while i <= 5:\n",
    "    print('Hello Worldi',i)\n",
    "    i += 2\n",
    "    \n",
    "#거꾸로\n",
    "i = 5\n",
    "while i > 0:\n",
    "    print('Hello Worldi',i)\n",
    "    i -= 1"
   ]
  },
  {
   "cell_type": "code",
   "execution_count": 50,
   "id": "8720e25d",
   "metadata": {},
   "outputs": [
    {
     "name": "stdout",
     "output_type": "stream",
     "text": [
      "6 4 6 2 2 5 1 1 2 3  2 5  4 4  8 3  16 2  32 1 3000\n",
      " 지금 금액은 =  1650\n",
      " 지금 금액은 =  300\n"
     ]
    }
   ],
   "source": [
    "#17.2 반복 횟수가 정해지지 않은 경우\n",
    "import random\n",
    "\n",
    "i = 0 \n",
    "while i != 3:\n",
    "    i = random.randint(1,6)\n",
    "    print('{}'.format(i), end= ' ')  \n",
    "    \n",
    "# 17.5 연습문제: 변수 두 개를 다르게 반복하기   2 5, 4 4, 8 3, 16 2, 32 1\n",
    "i = 2\n",
    "j = 5\n",
    "\n",
    "while i <= 32 or j >= 1:\n",
    "    print(' {} {}'.format(i,j), end= ' ')\n",
    "    i *= 2; j -= 1\n",
    "    \n",
    "# 17.5 연습문제: 변수 두 개를 다르게 반복하기\n",
    "amount = int(input())\n",
    "\n",
    "while amount >= 1350:  \n",
    "    if amount >= 1350:\n",
    "        amount -= 1350\n",
    "        print(' 지금 금액은 = ',amount)"
   ]
  },
  {
   "cell_type": "code",
   "execution_count": 57,
   "id": "5c626d6b",
   "metadata": {},
   "outputs": [
    {
     "name": "stdout",
     "output_type": "stream",
     "text": [
      "0\n",
      "1\n",
      "2\n",
      "3\n",
      "4\n",
      "1\n",
      "3\n",
      "3 13 23 33 43 53 63 73 2 24\n",
      "2 4 5 6 7 8 9 10 11 12 14 15 16 17 18 19 20 21 22 24 "
     ]
    }
   ],
   "source": [
    "#18.1 break로 반복문 끝내기  WHILE,for 문 사용 break,\n",
    "i = 0\n",
    "while True:\n",
    "    print(i)\n",
    "    i += 1\n",
    "    if i == 5:\n",
    "        break\n",
    "\n",
    "#18.2 continue로 코드 실행 건너뛰기\n",
    "\n",
    "for i in range(5):\n",
    "    if i % 2 == 0:\n",
    "        continue\n",
    "    print(i)\n",
    "    \n",
    "#118.5 연습문제: 3으로 끝나는 숫자만 출력하기\n",
    "i = 0\n",
    "while True:\n",
    "    if i % 10 == 3:\n",
    "        print(i, end=' ')\n",
    "    if i < 0 or i > 73:\n",
    "        break    \n",
    "    i += 1\n",
    "    \n",
    "#  18.5 연습문제: 3으로 끝나는 숫자만 출력하기\n",
    "start, stop = map(int, input().split())\n",
    "\n",
    "for i in range(start,stop+1):\n",
    "    if i % 10 == 3:\n",
    "        continue\n",
    "    print(i, end=' ')"
   ]
  },
  {
   "cell_type": "code",
   "execution_count": 95,
   "id": "704e1bbd",
   "metadata": {},
   "outputs": [
    {
     "name": "stdout",
     "output_type": "stream",
     "text": [
      "*\n",
      "**\n",
      "***\n",
      "****\n",
      "*****\n",
      "j:0 j:1 j:2 j:3 j:4 i:0\\n\n",
      "j:0 j:1 j:2 j:3 j:4 i:1\\n\n",
      "j:0 j:1 j:2 j:3 j:4 i:2\\n\n",
      "j:0 j:1 j:2 j:3 j:4 i:3\\n\n",
      "j:0 j:1 j:2 j:3 j:4 i:4\\n\n",
      "*****\n",
      "*****\n",
      "*****\n",
      "*****\n",
      "*****\n",
      "*******************\n",
      "***\n",
      "**\n",
      "*\n",
      "\n"
     ]
    }
   ],
   "source": [
    "#19.1 중첩 루프 사용하기\n",
    "\n",
    "for i in range(5):\n",
    "    for j in range(5):\n",
    "        if j == i:\n",
    "            print((i+1)*'*')\n",
    "            \n",
    "for i in range(5):\n",
    "    for j in range(5):\n",
    "        print('j:',j,sep='',end=' ')\n",
    "    print('i:',i,'\\\\n',sep='')\n",
    "\n",
    "#19.2 사각형으로 별 출력하기\n",
    "for i in range(5):\n",
    "    for j in range(5):\n",
    "        print('*',end='')\n",
    "    print()\n",
    "    \n",
    "#19.3 계단식으로 별 출력하기\n",
    "for i in range(5):\n",
    "    for j in range(5):\n",
    "        if j <= i:\n",
    "            print('*',end='')\n",
    "        else:\n",
    "            print('',end='')\n",
    "\n",
    "#19.5 연습문제: 역삼각형 모양으로 별 출력하기\n",
    "for i in (range(5)):\n",
    "    for j in (range(5)):\n",
    "        if j > i:\n",
    "            print('*',end='')\n",
    "        else:\n",
    "            print('',end='')\n",
    "    print()\n",
    "    \n"
   ]
  },
  {
   "cell_type": "code",
   "execution_count": 94,
   "id": "f43c9193",
   "metadata": {},
   "outputs": [
    {
     "name": "stdout",
     "output_type": "stream",
     "text": [
      "*****\n",
      "******\n",
      "*******\n",
      "********\n",
      "*********\n"
     ]
    }
   ],
   "source": [
    "#19.5 연습문제: 역삼각형 모양으로 별 출력하기\n",
    "for i in range(5):\n",
    "    for j in range(5):\n",
    "        if j <= i:\n",
    "            print('*',end='')\n",
    "        else:\n",
    "            print('',end='')\n",
    "    print()"
   ]
  },
  {
   "cell_type": "code",
   "execution_count": 102,
   "id": "535571fc",
   "metadata": {},
   "outputs": [
    {
     "name": "stdout",
     "output_type": "stream",
     "text": [
      "*\n",
      "**\n",
      "***\n",
      "****\n",
      "*****\n"
     ]
    }
   ],
   "source": [
    "for i in range(5):\n",
    "    for j in range(5):\n",
    "        if j <= i:\n",
    "            print('*',end='')\n",
    "        else:\n",
    "            print('',end='')\n",
    "    print()"
   ]
  },
  {
   "cell_type": "code",
   "execution_count": null,
   "id": "68535a24",
   "metadata": {},
   "outputs": [],
   "source": []
  }
 ],
 "metadata": {
  "kernelspec": {
   "display_name": "Python 3 (ipykernel)",
   "language": "python",
   "name": "python3"
  },
  "language_info": {
   "codemirror_mode": {
    "name": "ipython",
    "version": 3
   },
   "file_extension": ".py",
   "mimetype": "text/x-python",
   "name": "python",
   "nbconvert_exporter": "python",
   "pygments_lexer": "ipython3",
   "version": "3.9.7"
  }
 },
 "nbformat": 4,
 "nbformat_minor": 5
}
