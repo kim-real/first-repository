{
 "cells": [
  {
   "cell_type": "markdown",
   "id": "48ceba17",
   "metadata": {},
   "source": [
    "     exnode 8. movie text analysis\n",
    "        1. library loding\n",
    "        2. data loding\n",
    "            1) data 전처리\n",
    "        3. Embedding 레이어 : vector로 바꾼 결과\n",
    "            1) text max len \n",
    "            2) text length same  > padding\n",
    "            3) train , val data 생성 \n",
    "        4. 모델링 .. 3번 기준           dropout\n",
    "            1) RNN ........... 84.36     85.02\n",
    "            2) CNN ........... 84.72     84.84\n",
    "            3) MAX POOLING ... 82.44     84.56(epoch = 5)      \n",
    "        5. word2vec\n",
    "        6. 모델링... 5번 기준           dropout\n",
    "            1) RNN   ......... 83.30     85.02\n",
    "            2) CNN   ......... 84.78     84.89\n",
    "            3) MAX POOLING ... 82.60     84.24(epoch = 10) \n",
    "        7. 비교 \n",
    "           - 유사단어와 사전학습한 정확도가 비슷하게 도출되었으나 \n",
    "             사전학습한 결과가 다소 유리하다고 판단됨.\n",
    "           - 학습결과 정확도 85% 달성이 다소 힘들었슴 \n",
    "             dropout을 이용하여 85% 달성\n",
    "           - MAX POOLING으로 도출한 정확도가 다소 떨어짐 \n",
    "           - 모델의 Parameter 활용 및 이 문제에 적합한 모델 선정을 좀 더 배워야 할 듯 합니다."
   ]
  },
  {
   "cell_type": "code",
   "execution_count": 90,
   "id": "f29ddf2c",
   "metadata": {},
   "outputs": [
    {
     "name": "stdout",
     "output_type": "stream",
     "text": [
      "1.3.3\n",
      "0.5.2\n",
      "4.1.2\n"
     ]
    }
   ],
   "source": [
    "#1. library loding\n",
    "import pandas\n",
    "import konlpy\n",
    "import gensim\n",
    "import tensorflow as tf\n",
    "import pandas as pd\n",
    "import os\n",
    "import warnings\n",
    "warnings.filterwarnings('ignore')\n",
    "\n",
    "print(pandas.__version__)\n",
    "print(konlpy.__version__)\n",
    "print(gensim.__version__)"
   ]
  },
  {
   "cell_type": "code",
   "execution_count": 91,
   "id": "0c1a7f09",
   "metadata": {},
   "outputs": [
    {
     "data": {
      "text/html": [
       "<div>\n",
       "<style scoped>\n",
       "    .dataframe tbody tr th:only-of-type {\n",
       "        vertical-align: middle;\n",
       "    }\n",
       "\n",
       "    .dataframe tbody tr th {\n",
       "        vertical-align: top;\n",
       "    }\n",
       "\n",
       "    .dataframe thead th {\n",
       "        text-align: right;\n",
       "    }\n",
       "</style>\n",
       "<table border=\"1\" class=\"dataframe\">\n",
       "  <thead>\n",
       "    <tr style=\"text-align: right;\">\n",
       "      <th></th>\n",
       "      <th>id</th>\n",
       "      <th>document</th>\n",
       "      <th>label</th>\n",
       "    </tr>\n",
       "  </thead>\n",
       "  <tbody>\n",
       "    <tr>\n",
       "      <th>0</th>\n",
       "      <td>9976970</td>\n",
       "      <td>아 더빙.. 진짜 짜증나네요 목소리</td>\n",
       "      <td>0</td>\n",
       "    </tr>\n",
       "    <tr>\n",
       "      <th>1</th>\n",
       "      <td>3819312</td>\n",
       "      <td>흠...포스터보고 초딩영화줄....오버연기조차 가볍지 않구나</td>\n",
       "      <td>1</td>\n",
       "    </tr>\n",
       "    <tr>\n",
       "      <th>2</th>\n",
       "      <td>10265843</td>\n",
       "      <td>너무재밓었다그래서보는것을추천한다</td>\n",
       "      <td>0</td>\n",
       "    </tr>\n",
       "    <tr>\n",
       "      <th>3</th>\n",
       "      <td>9045019</td>\n",
       "      <td>교도소 이야기구먼 ..솔직히 재미는 없다..평점 조정</td>\n",
       "      <td>0</td>\n",
       "    </tr>\n",
       "    <tr>\n",
       "      <th>4</th>\n",
       "      <td>6483659</td>\n",
       "      <td>사이몬페그의 익살스런 연기가 돋보였던 영화!스파이더맨에서 늙어보이기만 했던 커스틴 ...</td>\n",
       "      <td>1</td>\n",
       "    </tr>\n",
       "  </tbody>\n",
       "</table>\n",
       "</div>"
      ],
      "text/plain": [
       "         id                                           document  label\n",
       "0   9976970                                아 더빙.. 진짜 짜증나네요 목소리      0\n",
       "1   3819312                  흠...포스터보고 초딩영화줄....오버연기조차 가볍지 않구나      1\n",
       "2  10265843                                  너무재밓었다그래서보는것을추천한다      0\n",
       "3   9045019                      교도소 이야기구먼 ..솔직히 재미는 없다..평점 조정      0\n",
       "4   6483659  사이몬페그의 익살스런 연기가 돋보였던 영화!스파이더맨에서 늙어보이기만 했던 커스틴 ...      1"
      ]
     },
     "execution_count": 91,
     "metadata": {},
     "output_type": "execute_result"
    }
   ],
   "source": [
    "#2. data loding\n",
    "# 데이터를 읽어봅시다. \n",
    "train_data = pd.read_table('~/aiffel/sentiment_classification/data/ratings_train.txt')\n",
    "test_data = pd.read_table('~/aiffel/sentiment_classification/data/ratings_test.txt')\n",
    "\n",
    "train_data.head()"
   ]
  },
  {
   "cell_type": "code",
   "execution_count": 92,
   "id": "a96864e9",
   "metadata": {},
   "outputs": [
    {
     "name": "stdout",
     "output_type": "stream",
     "text": [
      "훈련 샘플 개수: 146182, 테스트 개수: 49157\n"
     ]
    }
   ],
   "source": [
    "#2-1) 전처리\n",
    "from konlpy.tag import Mecab\n",
    "import numpy as np\n",
    "from collections import Counter\n",
    "\n",
    "tokenizer = Mecab()\n",
    "stopwords = ['의','가','이','은','들','는','좀','잘','걍','과','도','를','으로','자','에','와','한','하다']\n",
    "\n",
    "def load_data(train_data, test_data, num_words=10000):\n",
    "    train_data.drop_duplicates(subset=['document'], inplace=True)\n",
    "    train_data = train_data.dropna(how = 'any') \n",
    "    test_data.drop_duplicates(subset=['document'], inplace=True)\n",
    "    test_data = test_data.dropna(how = 'any') \n",
    "    \n",
    "    X_train = []\n",
    "    for sentence in train_data['document']:\n",
    "        temp_X = tokenizer.morphs(sentence) # 토큰화\n",
    "        temp_X = [word for word in temp_X if not word in stopwords] # 불용어 제거\n",
    "        X_train.append(temp_X)\n",
    "\n",
    "    X_test = []\n",
    "    for sentence in test_data['document']:\n",
    "        temp_X = tokenizer.morphs(sentence) # 토큰화\n",
    "        temp_X = [word for word in temp_X if not word in stopwords] # 불용어 제거\n",
    "        X_test.append(temp_X)\n",
    "    \n",
    "    words = np.concatenate(X_train).tolist()\n",
    "    counter = Counter(words)\n",
    "    counter = counter.most_common(10000-4)\n",
    "    vocab = ['', '', '', ''] + [key for key, _ in counter]\n",
    "    word_to_index = {word:index for index, word in enumerate(vocab)}\n",
    "        \n",
    "    def wordlist_to_indexlist(wordlist):\n",
    "        return [word_to_index[word] if word in word_to_index else word_to_index[''] for word in wordlist]\n",
    "        \n",
    "    X_train = list(map(wordlist_to_indexlist, X_train))\n",
    "    X_test = list(map(wordlist_to_indexlist, X_test))\n",
    "        \n",
    "    return X_train, np.array(list(train_data['label'])), X_test, np.array(list(test_data['label'])), word_to_index\n",
    "    \n",
    "X_train, y_train, X_test, y_test, word_to_index = load_data(train_data, test_data)\n",
    "\n",
    "print(\"훈련 샘플 개수: {}, 테스트 개수: {}\".format(len(X_train), len(X_test)))"
   ]
  },
  {
   "cell_type": "code",
   "execution_count": 93,
   "id": "8af0cb21",
   "metadata": {},
   "outputs": [],
   "source": [
    "#2-1) 전처리 ... word_to_index 0-2 만듬  ... 새로 copy ----------------------------------------\n",
    "word_to_index['<PAD>']=0 # 패딩용 단어\n",
    "word_to_index['<BOS>']=1  # 문장의 시작지점\n",
    "word_to_index['<UNK>']=2  # 사전에 없는(Unknown) 단어"
   ]
  },
  {
   "cell_type": "code",
   "execution_count": 94,
   "id": "809befc7",
   "metadata": {},
   "outputs": [],
   "source": [
    "#2-1) 전처리 ... index_to_word  ... 새로 copy ------------------------------------------------------------------\n",
    "index_to_word = {index:word for word, index in word_to_index.items()}"
   ]
  },
  {
   "cell_type": "code",
   "execution_count": 95,
   "id": "a66bfb24",
   "metadata": {},
   "outputs": [],
   "source": [
    "#2-1) 전처리 ... index 만들고 1-3 \n",
    "#index_to_word = {index:word for word, index in word_to_index.items()}\n",
    "#index_to_word[0]='<PAD>'  # 패딩용 단어\n",
    "#index_to_word[1]='<BOS>'  # 문장의 시작지점\n",
    "#index_to_word[2]='<UNK>'  # 사전에 없는(Unknown) 단어"
   ]
  },
  {
   "cell_type": "code",
   "execution_count": 96,
   "id": "b2b71896",
   "metadata": {},
   "outputs": [],
   "source": [
    "#2-1) 전처리 ... 변환 함수 \n",
    "# 문장 1개를 활용할 딕셔너리와 함께 주면, 단어 인덱스 리스트 벡터로 변환해 주는 함수입니다. \n",
    "# 단, 모든 문장은 <BOS>로 시작하는 것으로 합니다. \n",
    "def get_encoded_sentence(sentence, word_to_index):\n",
    "    return [word_to_index['<BOS>']]+[word_to_index[word] if word in word_to_index else word_to_index['<UNK>'] for word in sentence.split()]\n",
    "\n",
    "# 여러 개의 문장 리스트를 한꺼번에 단어 인덱스 리스트 벡터로 encode해 주는 함수입니다. \n",
    "def get_encoded_sentences(sentences, word_to_index):\n",
    "    return [get_encoded_sentence(sentence, word_to_index) for sentence in sentences]\n",
    "\n",
    "# 숫자 벡터로 encode된 문장을 원래대로 decode하는 함수입니다. \n",
    "def get_decoded_sentence(encoded_sentence, index_to_word):\n",
    "    return ' '.join(index_to_word[index] if index in index_to_word else '<UNK>' for index in encoded_sentence[1:])  #[1:]를 통해 <BOS>를 제외\n",
    "\n",
    "# 여러 개의 숫자 벡터로 encode된 문장을 한꺼번에 원래대로 decode하는 함수입니다. \n",
    "def get_decoded_sentences(encoded_sentences, index_to_word):\n",
    "    return [get_decoded_sentence(encoded_sentence, index_to_word) for encoded_sentence in encoded_sentences]"
   ]
  },
  {
   "cell_type": "code",
   "execution_count": 97,
   "id": "ed6b5a4e",
   "metadata": {},
   "outputs": [],
   "source": [
    "#2-1) 전처리  ... 0-3 처리 \n",
    "#word_to_index={word:index-1 for index, word in index_to_word.items()}\n",
    "#print(word_to_index)"
   ]
  },
  {
   "cell_type": "code",
   "execution_count": 98,
   "id": "9032a131",
   "metadata": {},
   "outputs": [
    {
     "name": "stdout",
     "output_type": "stream",
     "text": [
      "문장길이 평균 :  15.96940191154864\n",
      "문장길이 최대 :  116\n",
      "문장길이 표준편차 :  12.843571191092\n",
      "pad_sequences maxlen :  41\n",
      "전체 문장의 0.9342988343341575%가 maxlen 설정값 이내에 포함됩니다. \n"
     ]
    }
   ],
   "source": [
    "#3-1) Embedding 레이어.. text max len \n",
    "total_data_text = list(X_train) + list(X_test)\n",
    "# 텍스트데이터 문장길이의 리스트를 생성한 후\n",
    "num_tokens = [len(tokens) for tokens in total_data_text]\n",
    "num_tokens = np.array(num_tokens)\n",
    "# 문장길이의 평균값, 최대값, 표준편차를 계산해 본다. \n",
    "print('문장길이 평균 : ', np.mean(num_tokens))\n",
    "print('문장길이 최대 : ', np.max(num_tokens))\n",
    "print('문장길이 표준편차 : ', np.std(num_tokens))\n",
    "\n",
    "# 예를들어, 최대 길이를 (평균 + 2*표준편차)로 한다면,  \n",
    "max_tokens = np.mean(num_tokens) + 2 * np.std(num_tokens)\n",
    "maxlen = int(max_tokens)\n",
    "print('pad_sequences maxlen : ', maxlen)\n",
    "print('전체 문장의 {}%가 maxlen 설정값 이내에 포함됩니다. '.format(np.sum(num_tokens < max_tokens) / len(num_tokens)))"
   ]
  },
  {
   "cell_type": "code",
   "execution_count": 99,
   "id": "47d8b487",
   "metadata": {},
   "outputs": [
    {
     "name": "stdout",
     "output_type": "stream",
     "text": [
      "(146182, 41)\n",
      "(146182,)\n"
     ]
    }
   ],
   "source": [
    "#3-2) Embedding 레이어  ...padding\n",
    "X_train = tf.keras.preprocessing.sequence.pad_sequences(X_train,\n",
    "                                                        value=word_to_index[\"<PAD>\"],\n",
    "                                                        padding='post', # 혹은 'pre'\n",
    "                                                        maxlen=maxlen)\n",
    "\n",
    "X_test = tf.keras.preprocessing.sequence.pad_sequences(X_test,\n",
    "                                                       value=word_to_index[\"<PAD>\"],\n",
    "                                                       padding='post', # 혹은 'pre'\n",
    "                                                       maxlen=maxlen)\n",
    "\n",
    "print(X_train.shape)\n",
    "print(y_train.shape)"
   ]
  },
  {
   "cell_type": "code",
   "execution_count": 100,
   "id": "e1b121dd",
   "metadata": {},
   "outputs": [
    {
     "name": "stdout",
     "output_type": "stream",
     "text": [
      "(116182, 41)\n",
      "(116182,)\n"
     ]
    }
   ],
   "source": [
    "#3-3) Embedding 레이어 ... validation set creation\n",
    "# validation set 30000건 분리\n",
    "X_val = X_train[:30000]   \n",
    "y_val = y_train[:30000]\n",
    "\n",
    "# validation set을 제외한 나머지 116182건\n",
    "partial_X_train = X_train[30000:]  \n",
    "partial_y_train = y_train[30000:]\n",
    "\n",
    "print(partial_X_train.shape)\n",
    "print(partial_y_train.shape)"
   ]
  },
  {
   "cell_type": "code",
   "execution_count": 101,
   "id": "2e2d1e94",
   "metadata": {},
   "outputs": [
    {
     "name": "stdout",
     "output_type": "stream",
     "text": [
      "Model: \"sequential_40\"\n",
      "_________________________________________________________________\n",
      "Layer (type)                 Output Shape              Param #   \n",
      "=================================================================\n",
      "embedding_39 (Embedding)     (None, None, 32)          320000    \n",
      "_________________________________________________________________\n",
      "lstm_12 (LSTM)               (None, 32)                8320      \n",
      "_________________________________________________________________\n",
      "dense_68 (Dense)             (None, 8)                 264       \n",
      "_________________________________________________________________\n",
      "dense_69 (Dense)             (None, 1)                 9         \n",
      "=================================================================\n",
      "Total params: 328,593\n",
      "Trainable params: 328,593\n",
      "Non-trainable params: 0\n",
      "_________________________________________________________________\n"
     ]
    }
   ],
   "source": [
    "#4-1) RNN 모델 구성 \n",
    "vocab_size = 10000    # 어휘 사전의 크기입니다(10,000개의 단어)\n",
    "word_vector_dim = 32  # 워드 벡터의 차원 수 (변경 가능한 하이퍼파라미터)\n",
    "\n",
    "# model 설계 - 딥러닝 모델 코드를 직접 작성해 주세요.\n",
    "model = tf.keras.Sequential()\n",
    "model.add(tf.keras.layers.Embedding(vocab_size, word_vector_dim, input_shape=(None,)))\n",
    "model.add(tf.keras.layers.LSTM(32, dropout=0.5))\n",
    "#model.add(tf.keras.layers.LSTM(16))   # 가장 널리 쓰이는 RNN인 LSTM 레이어를 사용하였습니다. (변경 가능)\n",
    "model.add(tf.keras.layers.Dense(8, activation='relu'))\n",
    "model.add(tf.keras.layers.Dense(1, activation='sigmoid'))  # 최종 출력은 긍정/부정을 나타내는 1dim 입니다.\n",
    "\n",
    "model.summary()"
   ]
  },
  {
   "cell_type": "code",
   "execution_count": 102,
   "id": "272be335",
   "metadata": {},
   "outputs": [
    {
     "name": "stdout",
     "output_type": "stream",
     "text": [
      "Epoch 1/20\n",
      "114/114 [==============================] - 3s 11ms/step - loss: 0.6090 - accuracy: 0.6268 - val_loss: 0.4058 - val_accuracy: 0.8262\n",
      "Epoch 2/20\n",
      "114/114 [==============================] - 1s 7ms/step - loss: 0.3802 - accuracy: 0.8346 - val_loss: 0.3567 - val_accuracy: 0.8451\n",
      "Epoch 3/20\n",
      "114/114 [==============================] - 1s 7ms/step - loss: 0.3456 - accuracy: 0.8517 - val_loss: 0.3490 - val_accuracy: 0.8480\n",
      "Epoch 4/20\n",
      "114/114 [==============================] - 1s 7ms/step - loss: 0.3320 - accuracy: 0.8581 - val_loss: 0.3461 - val_accuracy: 0.8500\n",
      "Epoch 5/20\n",
      "114/114 [==============================] - 1s 7ms/step - loss: 0.3223 - accuracy: 0.8638 - val_loss: 0.3477 - val_accuracy: 0.8481\n",
      "Epoch 6/20\n",
      "114/114 [==============================] - 1s 7ms/step - loss: 0.3164 - accuracy: 0.8667 - val_loss: 0.3472 - val_accuracy: 0.8506\n",
      "Epoch 7/20\n",
      "114/114 [==============================] - 1s 7ms/step - loss: 0.3099 - accuracy: 0.8697 - val_loss: 0.3455 - val_accuracy: 0.8503\n",
      "Epoch 8/20\n",
      "114/114 [==============================] - 1s 7ms/step - loss: 0.3050 - accuracy: 0.8714 - val_loss: 0.3471 - val_accuracy: 0.8477\n",
      "Epoch 9/20\n",
      "114/114 [==============================] - 1s 7ms/step - loss: 0.2976 - accuracy: 0.8743 - val_loss: 0.3511 - val_accuracy: 0.8505\n",
      "Epoch 10/20\n",
      "114/114 [==============================] - 1s 7ms/step - loss: 0.2943 - accuracy: 0.8753 - val_loss: 0.3490 - val_accuracy: 0.8499\n",
      "Epoch 11/20\n",
      "114/114 [==============================] - 1s 7ms/step - loss: 0.2891 - accuracy: 0.8770 - val_loss: 0.3546 - val_accuracy: 0.8496\n",
      "Epoch 12/20\n",
      "114/114 [==============================] - 1s 7ms/step - loss: 0.2857 - accuracy: 0.8785 - val_loss: 0.3560 - val_accuracy: 0.8495\n",
      "Epoch 13/20\n",
      "114/114 [==============================] - 1s 7ms/step - loss: 0.2806 - accuracy: 0.8811 - val_loss: 0.3605 - val_accuracy: 0.8474\n",
      "Epoch 14/20\n",
      "114/114 [==============================] - 1s 7ms/step - loss: 0.2760 - accuracy: 0.8825 - val_loss: 0.3690 - val_accuracy: 0.8484\n",
      "Epoch 15/20\n",
      "114/114 [==============================] - 1s 7ms/step - loss: 0.2724 - accuracy: 0.8835 - val_loss: 0.3656 - val_accuracy: 0.8503\n",
      "Epoch 16/20\n",
      "114/114 [==============================] - 1s 7ms/step - loss: 0.2667 - accuracy: 0.8868 - val_loss: 0.3685 - val_accuracy: 0.8461\n",
      "Epoch 17/20\n",
      "114/114 [==============================] - 1s 7ms/step - loss: 0.2637 - accuracy: 0.8878 - val_loss: 0.3649 - val_accuracy: 0.8515\n",
      "Epoch 18/20\n",
      "114/114 [==============================] - 1s 7ms/step - loss: 0.2561 - accuracy: 0.8918 - val_loss: 0.3635 - val_accuracy: 0.8491\n",
      "Epoch 19/20\n",
      "114/114 [==============================] - 1s 7ms/step - loss: 0.2535 - accuracy: 0.8924 - val_loss: 0.3594 - val_accuracy: 0.8539\n",
      "Epoch 20/20\n",
      "114/114 [==============================] - 1s 7ms/step - loss: 0.2476 - accuracy: 0.8953 - val_loss: 0.3615 - val_accuracy: 0.8526\n"
     ]
    }
   ],
   "source": [
    "#4-1) RNN Modeling ... Model training\n",
    "model.compile(optimizer='adam',\n",
    "              loss='binary_crossentropy',\n",
    "              metrics=['accuracy'])\n",
    "              \n",
    "epochs=20  # 몇 epoch를 훈련하면 좋을지 결과를 보면서 바꾸어 봅시다. \n",
    "\n",
    "history = model.fit(partial_X_train,\n",
    "                    partial_y_train,\n",
    "                    epochs=epochs,\n",
    "                    batch_size=1024,\n",
    "                    validation_data=(X_val, y_val),\n",
    "                    verbose=1)"
   ]
  },
  {
   "cell_type": "code",
   "execution_count": 103,
   "id": "94c6a48f",
   "metadata": {},
   "outputs": [
    {
     "name": "stdout",
     "output_type": "stream",
     "text": [
      "1537/1537 - 3s - loss: 0.3669 - accuracy: 0.8502\n",
      "[0.36690688133239746, 0.8501739501953125]\n"
     ]
    }
   ],
   "source": [
    "#4-1) RNN Modeling  ... Model test data apply\n",
    "results = model.evaluate(X_test,  y_test, verbose=2)\n",
    "\n",
    "print(results)"
   ]
  },
  {
   "cell_type": "code",
   "execution_count": 104,
   "id": "adb83199",
   "metadata": {},
   "outputs": [
    {
     "name": "stdout",
     "output_type": "stream",
     "text": [
      "dict_keys(['loss', 'accuracy', 'val_loss', 'val_accuracy'])\n"
     ]
    }
   ],
   "source": [
    "#4-1) RNN Modeling  ... Model graph  그려볼 수 있는 항목들\n",
    "history_dict = history.history\n",
    "print(history_dict.keys()) # epoch에 따른 그래프를 그려볼 수 있는 항목들"
   ]
  },
  {
   "cell_type": "code",
   "execution_count": 105,
   "id": "c08fe0a6",
   "metadata": {},
   "outputs": [
    {
     "data": {
      "image/png": "[encoded data removed]",
      "text/plain": [
       "<Figure size 432x288 with 1 Axes>"
      ]
     },
     "metadata": {
      "needs_background": "light"
     },
     "output_type": "display_data"
    }
   ],
   "source": [
    "#4-1) RNN Modeling  ... Model graph  ...  loss graph \n",
    "import matplotlib.pyplot as plt\n",
    "\n",
    "acc = history_dict['accuracy']\n",
    "val_acc = history_dict['val_accuracy']\n",
    "loss = history_dict['loss']\n",
    "val_loss = history_dict['val_loss']\n",
    "\n",
    "epochs = range(1, len(acc) + 1)\n",
    "\n",
    "# \"bo\"는 \"파란색 점\"입니다\n",
    "plt.plot(epochs, loss, 'bo', label='Training loss')\n",
    "# b는 \"파란 실선\"입니다\n",
    "plt.plot(epochs, val_loss, 'b', label='Validation loss')\n",
    "plt.title('Training and validation loss')\n",
    "plt.xlabel('Epochs')\n",
    "plt.ylabel('Loss')\n",
    "plt.legend()\n",
    "\n",
    "plt.show()"
   ]
  },
  {
   "cell_type": "code",
   "execution_count": 115,
   "id": "ff4a16ac",
   "metadata": {},
   "outputs": [
    {
     "data": {
      "image/png": "[encoded data removed]",
      "text/plain": [
       "<Figure size 432x288 with 1 Axes>"
      ]
     },
     "metadata": {
      "needs_background": "light"
     },
     "output_type": "display_data"
    }
   ],
   "source": [
    "#4-1) RNN  Modeling  ... Model graph  ...  accuracy graph \n",
    "plt.clf()   # 그림을 초기화합니다\n",
    "\n",
    "plt.plot(epochs, acc, 'bo', label='Training acc')\n",
    "plt.plot(epochs, val_acc, 'b', label='Validation acc')\n",
    "plt.title('Training and validation accuracy')\n",
    "plt.xlabel('Epochs')\n",
    "plt.ylabel('Accuracy')\n",
    "plt.legend()\n",
    "\n",
    "plt.show()"
   ]
  },
  {
   "cell_type": "code",
   "execution_count": 143,
   "id": "07db5afc",
   "metadata": {},
   "outputs": [
    {
     "name": "stdout",
     "output_type": "stream",
     "text": [
      "Model: \"sequential_57\"\n",
      "_________________________________________________________________\n",
      "Layer (type)                 Output Shape              Param #   \n",
      "=================================================================\n",
      "embedding_56 (Embedding)     (None, None, 32)          320000    \n",
      "_________________________________________________________________\n",
      "conv1d_76 (Conv1D)           (None, None, 32)          7200      \n",
      "_________________________________________________________________\n",
      "max_pooling1d_38 (MaxPooling (None, None, 32)          0         \n",
      "_________________________________________________________________\n",
      "dropout_44 (Dropout)         (None, None, 32)          0         \n",
      "_________________________________________________________________\n",
      "conv1d_77 (Conv1D)           (None, None, 64)          14400     \n",
      "_________________________________________________________________\n",
      "global_max_pooling1d_37 (Glo (None, 64)                0         \n",
      "_________________________________________________________________\n",
      "dense_102 (Dense)            (None, 32)                2080      \n",
      "_________________________________________________________________\n",
      "dropout_45 (Dropout)         (None, 32)                0         \n",
      "_________________________________________________________________\n",
      "dense_103 (Dense)            (None, 1)                 33        \n",
      "=================================================================\n",
      "Total params: 343,713\n",
      "Trainable params: 343,713\n",
      "Non-trainable params: 0\n",
      "_________________________________________________________________\n"
     ]
    }
   ],
   "source": [
    "#4-2) cnn 모델 구성 \n",
    "from tensorflow.keras import layers\n",
    "from tensorflow import keras\n",
    "from tensorflow.keras import optimizers\n",
    "from keras.layers import Dense, Conv2D, MaxPooling2D, Dropout, Flatten\n",
    "        \n",
    "vocab_size = 10000     # 어휘 사전의 크기입니다(10000개의 단어)\n",
    "word_vector_dim = 32   # 단어 하나를 표현하는 임베딩 벡터의 차원 수입니다. \n",
    "\n",
    "model = tf.keras.Sequential()\n",
    "model.add(tf.keras.layers.Embedding(vocab_size, word_vector_dim, input_shape=(None,)))\n",
    "model.add(tf.keras.layers.Conv1D(32, 7, activation='relu'))\n",
    "model.add(tf.keras.layers.MaxPooling1D(5))\n",
    "model.add(Dropout(0.2))\n",
    "model.add(tf.keras.layers.Conv1D(64, 7, activation='relu'))\n",
    "model.add(tf.keras.layers.GlobalMaxPooling1D())\n",
    "model.add(tf.keras.layers.Dense(32, activation='relu'))\n",
    "model.add(Dropout(0.2))\n",
    "model.add(tf.keras.layers.Dense(1, activation='sigmoid'))  # 최종 출력은 긍정/부정을 나타내는 1dim 입니다.\n",
    "\n",
    "model.summary()"
   ]
  },
  {
   "cell_type": "code",
   "execution_count": 144,
   "id": "ae220bd8",
   "metadata": {},
   "outputs": [
    {
     "name": "stdout",
     "output_type": "stream",
     "text": [
      "Epoch 1/20\n",
      "114/114 [==============================] - 2s 7ms/step - loss: 0.6921 - accuracy: 0.5342 - val_loss: 0.6894 - val_accuracy: 0.6113\n",
      "Epoch 2/20\n",
      "114/114 [==============================] - 1s 6ms/step - loss: 0.6781 - accuracy: 0.6474 - val_loss: 0.6566 - val_accuracy: 0.7120\n",
      "Epoch 3/20\n",
      "114/114 [==============================] - 1s 6ms/step - loss: 0.6177 - accuracy: 0.7237 - val_loss: 0.5665 - val_accuracy: 0.7549\n",
      "Epoch 4/20\n",
      "114/114 [==============================] - 1s 6ms/step - loss: 0.5249 - accuracy: 0.7671 - val_loss: 0.4783 - val_accuracy: 0.7910\n",
      "Epoch 5/20\n",
      "114/114 [==============================] - 1s 6ms/step - loss: 0.4578 - accuracy: 0.7952 - val_loss: 0.4306 - val_accuracy: 0.8092\n",
      "Epoch 6/20\n",
      "114/114 [==============================] - 1s 6ms/step - loss: 0.4174 - accuracy: 0.8168 - val_loss: 0.3983 - val_accuracy: 0.8252\n",
      "Epoch 7/20\n",
      "114/114 [==============================] - 1s 6ms/step - loss: 0.3916 - accuracy: 0.8302 - val_loss: 0.3808 - val_accuracy: 0.8332\n",
      "Epoch 8/20\n",
      "114/114 [==============================] - 1s 6ms/step - loss: 0.3743 - accuracy: 0.8397 - val_loss: 0.3706 - val_accuracy: 0.8389\n",
      "Epoch 9/20\n",
      "114/114 [==============================] - 1s 6ms/step - loss: 0.3624 - accuracy: 0.8459 - val_loss: 0.3647 - val_accuracy: 0.8410\n",
      "Epoch 10/20\n",
      "114/114 [==============================] - 1s 6ms/step - loss: 0.3536 - accuracy: 0.8516 - val_loss: 0.3592 - val_accuracy: 0.8439\n",
      "Epoch 11/20\n",
      "114/114 [==============================] - 1s 6ms/step - loss: 0.3458 - accuracy: 0.8560 - val_loss: 0.3563 - val_accuracy: 0.8454\n",
      "Epoch 12/20\n",
      "114/114 [==============================] - 1s 6ms/step - loss: 0.3403 - accuracy: 0.8576 - val_loss: 0.3530 - val_accuracy: 0.8476\n",
      "Epoch 13/20\n",
      "114/114 [==============================] - 1s 6ms/step - loss: 0.3333 - accuracy: 0.8611 - val_loss: 0.3507 - val_accuracy: 0.8487\n",
      "Epoch 14/20\n",
      "114/114 [==============================] - 1s 6ms/step - loss: 0.3286 - accuracy: 0.8640 - val_loss: 0.3491 - val_accuracy: 0.8492\n",
      "Epoch 15/20\n",
      "114/114 [==============================] - 1s 6ms/step - loss: 0.3242 - accuracy: 0.8665 - val_loss: 0.3481 - val_accuracy: 0.8502\n",
      "Epoch 16/20\n",
      "114/114 [==============================] - 1s 6ms/step - loss: 0.3205 - accuracy: 0.8680 - val_loss: 0.3466 - val_accuracy: 0.8510\n",
      "Epoch 17/20\n",
      "114/114 [==============================] - 1s 6ms/step - loss: 0.3171 - accuracy: 0.8695 - val_loss: 0.3470 - val_accuracy: 0.8501\n",
      "Epoch 18/20\n",
      "114/114 [==============================] - 1s 6ms/step - loss: 0.3137 - accuracy: 0.8718 - val_loss: 0.3449 - val_accuracy: 0.8520\n",
      "Epoch 19/20\n",
      "114/114 [==============================] - 1s 6ms/step - loss: 0.3108 - accuracy: 0.8729 - val_loss: 0.3444 - val_accuracy: 0.8530\n",
      "Epoch 20/20\n",
      "114/114 [==============================] - 1s 6ms/step - loss: 0.3065 - accuracy: 0.8746 - val_loss: 0.3447 - val_accuracy: 0.8532\n"
     ]
    }
   ],
   "source": [
    "#4-2) cnn Modeling ... Model training \n",
    "              \n",
    "model.compile(optimizer=optimizers.RMSprop(lr=1e-4),\n",
    "              loss='binary_crossentropy',\n",
    "              metrics=['accuracy'])\n",
    "\n",
    "epochs=20  # 몇 epoch를 훈련하면 좋을지 결과를 보면서 바꾸어 봅시다. \n",
    "\n",
    "history = model.fit(partial_X_train,\n",
    "                    partial_y_train,\n",
    "                    epochs=epochs,\n",
    "                    batch_size=1024,\n",
    "                    validation_data=(X_val, y_val),\n",
    "                    verbose=1)\n"
   ]
  },
  {
   "cell_type": "code",
   "execution_count": 145,
   "id": "f4ce6d33",
   "metadata": {},
   "outputs": [
    {
     "name": "stdout",
     "output_type": "stream",
     "text": [
      "1537/1537 - 2s - loss: 0.3549 - accuracy: 0.8484\n",
      "[0.3548949658870697, 0.8483837246894836]\n"
     ]
    }
   ],
   "source": [
    "#4-2) cnn Modeling  ... Model test data apply\n",
    "results = model.evaluate(X_test,  y_test, verbose=2)\n",
    "\n",
    "print(results)"
   ]
  },
  {
   "cell_type": "code",
   "execution_count": 203,
   "id": "354e2abb",
   "metadata": {},
   "outputs": [
    {
     "name": "stdout",
     "output_type": "stream",
     "text": [
      "dict_keys(['loss', 'accuracy', 'val_loss', 'val_accuracy'])\n"
     ]
    }
   ],
   "source": [
    "#4-2) cnn Modeling  ... Model graph  그려볼 수 있는 항목들\n",
    "history_dict = history.history\n",
    "print(history_dict.keys()) # epoch에 따른 그래프를 그려볼 수 있는 항목들"
   ]
  },
  {
   "cell_type": "code",
   "execution_count": 204,
   "id": "00ce0809",
   "metadata": {},
   "outputs": [
    {
     "data": {
      "image/png": "[encoded data removed]",
      "text/plain": [
       "<Figure size 432x288 with 1 Axes>"
      ]
     },
     "metadata": {
      "needs_background": "light"
     },
     "output_type": "display_data"
    }
   ],
   "source": [
    "#4-2) cnn Modeling  ... Model graph  ...  loss graph \n",
    "import matplotlib.pyplot as plt\n",
    "\n",
    "acc = history_dict['accuracy']\n",
    "val_acc = history_dict['val_accuracy']\n",
    "loss = history_dict['loss']\n",
    "val_loss = history_dict['val_loss']\n",
    "\n",
    "epochs = range(1, len(acc) + 1)\n",
    "\n",
    "# \"bo\"는 \"파란색 점\"입니다\n",
    "plt.plot(epochs, loss, 'bo', label='Training loss')\n",
    "# b는 \"파란 실선\"입니다\n",
    "plt.plot(epochs, val_loss, 'b', label='Validation loss')\n",
    "plt.title('Training and validation loss')\n",
    "plt.xlabel('Epochs')\n",
    "plt.ylabel('Loss')\n",
    "plt.legend()\n",
    "\n",
    "plt.show()"
   ]
  },
  {
   "cell_type": "code",
   "execution_count": 205,
   "id": "8cdd9cc0",
   "metadata": {},
   "outputs": [
    {
     "data": {
      "image/png": "[encoded data removed]",
      "text/plain": [
       "<Figure size 432x288 with 1 Axes>"
      ]
     },
     "metadata": {
      "needs_background": "light"
     },
     "output_type": "display_data"
    }
   ],
   "source": [
    "#4-2) cnn Modeling  ... Model graph  ...  accuracy graph \n",
    "plt.clf()   # 그림을 초기화합니다\n",
    "\n",
    "plt.plot(epochs, acc, 'bo', label='Training acc')\n",
    "plt.plot(epochs, val_acc, 'b', label='Validation acc')\n",
    "plt.title('Training and validation accuracy')\n",
    "plt.xlabel('Epochs')\n",
    "plt.ylabel('Accuracy')\n",
    "plt.legend()\n",
    "\n",
    "plt.show()"
   ]
  },
  {
   "cell_type": "code",
   "execution_count": 159,
   "id": "6768054e",
   "metadata": {},
   "outputs": [
    {
     "name": "stdout",
     "output_type": "stream",
     "text": [
      "Model: \"sequential_63\"\n",
      "_________________________________________________________________\n",
      "Layer (type)                 Output Shape              Param #   \n",
      "=================================================================\n",
      "embedding_62 (Embedding)     (None, None, 32)          320000    \n",
      "_________________________________________________________________\n",
      "global_max_pooling1d_43 (Glo (None, 32)                0         \n",
      "_________________________________________________________________\n",
      "dropout_51 (Dropout)         (None, 32)                0         \n",
      "_________________________________________________________________\n",
      "dense_114 (Dense)            (None, 32)                1056      \n",
      "_________________________________________________________________\n",
      "dense_115 (Dense)            (None, 1)                 33        \n",
      "=================================================================\n",
      "Total params: 321,089\n",
      "Trainable params: 321,089\n",
      "Non-trainable params: 0\n",
      "_________________________________________________________________\n"
     ]
    }
   ],
   "source": [
    "#4-3) GlobalMaxPooling1D() \n",
    "ocab_size = 10000  # 어휘 사전의 크기입니다(10000개의 단어)\n",
    "word_vector_dim = 32   # 단어 하나를 표현하는 임베딩 벡터의 차원 수입니다. \n",
    "\n",
    "model = tf.keras.Sequential()\n",
    "model.add(tf.keras.layers.Embedding(vocab_size, word_vector_dim, input_shape=(None,)))\n",
    "model.add(tf.keras.layers.GlobalMaxPooling1D())\n",
    "model.add(Dropout(0.2))\n",
    "model.add(tf.keras.layers.Dense(32, activation='relu'))\n",
    "model.add(tf.keras.layers.Dense(1, activation='sigmoid'))  # 최종 출력은 긍정/부정을 나타내는 1dim 입니다.\n",
    "\n",
    "model.summary()"
   ]
  },
  {
   "cell_type": "code",
   "execution_count": 160,
   "id": "6be23772",
   "metadata": {},
   "outputs": [
    {
     "name": "stdout",
     "output_type": "stream",
     "text": [
      "Epoch 1/5\n",
      "114/114 [==============================] - 1s 5ms/step - loss: 0.6156 - accuracy: 0.7257 - val_loss: 0.4506 - val_accuracy: 0.8154\n",
      "Epoch 2/5\n",
      "114/114 [==============================] - 0s 4ms/step - loss: 0.3958 - accuracy: 0.8291 - val_loss: 0.3583 - val_accuracy: 0.8412\n",
      "Epoch 3/5\n",
      "114/114 [==============================] - 0s 4ms/step - loss: 0.3427 - accuracy: 0.8540 - val_loss: 0.3460 - val_accuracy: 0.8484\n",
      "Epoch 4/5\n",
      "114/114 [==============================] - 0s 4ms/step - loss: 0.3174 - accuracy: 0.8673 - val_loss: 0.3442 - val_accuracy: 0.8496\n",
      "Epoch 5/5\n",
      "114/114 [==============================] - 0s 4ms/step - loss: 0.3005 - accuracy: 0.8745 - val_loss: 0.3452 - val_accuracy: 0.8505\n"
     ]
    }
   ],
   "source": [
    "#4-3) GlobalMaxPooling1D Modeling ... Model training\n",
    "model.compile(optimizer='adam',               \n",
    "              loss='binary_crossentropy',\n",
    "              metrics=['accuracy'])\n",
    "\n",
    "\n",
    "epochs=5  # 몇 epoch를 훈련하면 좋을지 결과를 보면서 바꾸어 봅시다. \n",
    "\n",
    "history = model.fit(partial_X_train,\n",
    "                    partial_y_train,\n",
    "                    epochs=epochs,\n",
    "                    batch_size=1024,\n",
    "                    validation_data=(X_val, y_val),\n",
    "                    verbose=1)"
   ]
  },
  {
   "cell_type": "code",
   "execution_count": 161,
   "id": "b56a9c25",
   "metadata": {},
   "outputs": [
    {
     "name": "stdout",
     "output_type": "stream",
     "text": [
      "1537/1537 - 2s - loss: 0.3548 - accuracy: 0.8456\n",
      "[0.3547510504722595, 0.8455560803413391]\n"
     ]
    }
   ],
   "source": [
    "#4-3) GlobalMaxPooling1D Modeling  ... Model test data apply\n",
    "results = model.evaluate(X_test,  y_test, verbose=2)\n",
    "\n",
    "print(results)"
   ]
  },
  {
   "cell_type": "code",
   "execution_count": 162,
   "id": "c7882f08",
   "metadata": {},
   "outputs": [
    {
     "name": "stdout",
     "output_type": "stream",
     "text": [
      "dict_keys(['loss', 'accuracy', 'val_loss', 'val_accuracy'])\n"
     ]
    }
   ],
   "source": [
    "#4-3) GlobalMaxPooling1D Modeling  ... Model graph  그려볼 수 있는 항목들\n",
    "history_dict = history.history\n",
    "print(history_dict.keys()) # epoch에 따른 그래프를 그려볼 수 있는 항목들"
   ]
  },
  {
   "cell_type": "code",
   "execution_count": 163,
   "id": "486f42e9",
   "metadata": {},
   "outputs": [
    {
     "data": {
      "image/png": "[encoded data removed]",
      "text/plain": [
       "<Figure size 432x288 with 1 Axes>"
      ]
     },
     "metadata": {
      "needs_background": "light"
     },
     "output_type": "display_data"
    }
   ],
   "source": [
    "#4-3) GlobalMaxPooling1D Modeling  ... Model graph  ...  loss graph \n",
    "import matplotlib.pyplot as plt\n",
    "\n",
    "acc = history_dict['accuracy']\n",
    "val_acc = history_dict['val_accuracy']\n",
    "loss = history_dict['loss']\n",
    "val_loss = history_dict['val_loss']\n",
    "\n",
    "epochs = range(1, len(acc) + 1)\n",
    "\n",
    "# \"bo\"는 \"파란색 점\"입니다\n",
    "plt.plot(epochs, loss, 'bo', label='Training loss')\n",
    "# b는 \"파란 실선\"입니다\n",
    "plt.plot(epochs, val_loss, 'b', label='Validation loss')\n",
    "plt.title('Training and validation loss')\n",
    "plt.xlabel('Epochs')\n",
    "plt.ylabel('Loss')\n",
    "plt.legend()\n",
    "\n",
    "plt.show()"
   ]
  },
  {
   "cell_type": "code",
   "execution_count": 164,
   "id": "1ec0c04e",
   "metadata": {},
   "outputs": [
    {
     "data": {
      "image/png": "[encoded data removed]",
      "text/plain": [
       "<Figure size 432x288 with 1 Axes>"
      ]
     },
     "metadata": {
      "needs_background": "light"
     },
     "output_type": "display_data"
    }
   ],
   "source": [
    "#4-3) GlobalMaxPooling1D Modeling  ... Model graph  ...  accuracy graph \n",
    "plt.clf()   # 그림을 초기화합니다\n",
    "\n",
    "plt.plot(epochs, acc, 'bo', label='Training acc')\n",
    "plt.plot(epochs, val_acc, 'b', label='Validation acc')\n",
    "plt.title('Training and validation accuracy')\n",
    "plt.xlabel('Epochs')\n",
    "plt.ylabel('Accuracy')\n",
    "plt.legend()\n",
    "\n",
    "plt.show()"
   ]
  },
  {
   "cell_type": "code",
   "execution_count": 165,
   "id": "644c0c90",
   "metadata": {},
   "outputs": [],
   "source": [
    "#5) word2vec  .. 단어사전\n",
    "from gensim.models.keyedvectors import Word2VecKeyedVectors\n",
    "\n",
    "word2vec_path = os.getenv('HOME')+'/data/word2vec_ko.model'\n",
    "word_vectors = Word2VecKeyedVectors.load(word2vec_path)\n",
    "vector = word_vectors.wv['끝']"
   ]
  },
  {
   "cell_type": "code",
   "execution_count": 166,
   "id": "77245c7e",
   "metadata": {},
   "outputs": [],
   "source": [
    "#5) word2vec ... 임베딩 레이어 변경\n",
    "vocab_size = 10000    # 어휘 사전의 크기입니다(10,000개의 단어)\n",
    "word_vector_dim = 100  # 워드 벡터의 차원수 (변경가능한 하이퍼파라미터)\n",
    "\n",
    "embedding_matrix = np.random.rand(vocab_size, word_vector_dim)\n",
    "\n",
    "# embedding_matrix에 Word2Vec 워드벡터를 단어 하나씩마다 차례차례 카피\n",
    "for i in range(4,vocab_size):\n",
    "    if index_to_word[i] in word_vectors.wv:\n",
    "        embedding_matrix[i] = word_vectors.wv[index_to_word[i]]\n"
   ]
  },
  {
   "cell_type": "code",
   "execution_count": 185,
   "id": "406da190",
   "metadata": {},
   "outputs": [
    {
     "name": "stdout",
     "output_type": "stream",
     "text": [
      "Model: \"sequential_69\"\n",
      "_________________________________________________________________\n",
      "Layer (type)                 Output Shape              Param #   \n",
      "=================================================================\n",
      "embedding_68 (Embedding)     (None, None, 32)          320000    \n",
      "_________________________________________________________________\n",
      "lstm_18 (LSTM)               (None, 128)               82432     \n",
      "_________________________________________________________________\n",
      "dropout_56 (Dropout)         (None, 128)               0         \n",
      "_________________________________________________________________\n",
      "dense_126 (Dense)            (None, 8)                 1032      \n",
      "_________________________________________________________________\n",
      "dense_127 (Dense)            (None, 1)                 9         \n",
      "=================================================================\n",
      "Total params: 403,473\n",
      "Trainable params: 403,473\n",
      "Non-trainable params: 0\n",
      "_________________________________________________________________\n"
     ]
    }
   ],
   "source": [
    "#6) RNN 모델 구성 \n",
    "from tensorflow.keras.initializers import Constant\n",
    "\n",
    "vocab_size = 10000    # 어휘 사전의 크기입니다(10,000개의 단어)\n",
    "word_vector_dim = 32  # 워드 벡터의 차원 수 \n",
    "\n",
    "# 모델 구성\n",
    "model = tf.keras.Sequential()\n",
    "model.add(tf.keras.layers.Embedding(vocab_size, word_vector_dim, input_shape=(None,)))\n",
    "model.add(tf.keras.layers.LSTM(128, dropout=0.5))\n",
    "model.add(Dropout(0.2))\n",
    "#model.add(tf.keras.layers.LSTM(16))   # 가장 널리 쓰이는 RNN인 LSTM 레이어를 사용하였습니다. (변경 가능)\n",
    "model.add(tf.keras.layers.Dense(8, activation='relu'))\n",
    "model.add(tf.keras.layers.Dense(1, activation='sigmoid'))  # 최종 출력은 긍정/부정을 나타내는 1dim 입니다.\n",
    "\n",
    "model.summary()"
   ]
  },
  {
   "cell_type": "code",
   "execution_count": 186,
   "id": "22284172",
   "metadata": {},
   "outputs": [
    {
     "name": "stdout",
     "output_type": "stream",
     "text": [
      "Epoch 1/10\n",
      "114/114 [==============================] - 4s 24ms/step - loss: 0.5584 - accuracy: 0.6714 - val_loss: 0.3814 - val_accuracy: 0.8296\n",
      "Epoch 2/10\n",
      "114/114 [==============================] - 2s 16ms/step - loss: 0.3764 - accuracy: 0.8357 - val_loss: 0.3630 - val_accuracy: 0.8412\n",
      "Epoch 3/10\n",
      "114/114 [==============================] - 2s 16ms/step - loss: 0.3478 - accuracy: 0.8509 - val_loss: 0.3499 - val_accuracy: 0.8498\n",
      "Epoch 4/10\n",
      "114/114 [==============================] - 2s 16ms/step - loss: 0.3305 - accuracy: 0.8596 - val_loss: 0.3473 - val_accuracy: 0.8484\n",
      "Epoch 5/10\n",
      "114/114 [==============================] - 2s 16ms/step - loss: 0.3192 - accuracy: 0.8641 - val_loss: 0.3464 - val_accuracy: 0.8509\n",
      "Epoch 6/10\n",
      "114/114 [==============================] - 2s 16ms/step - loss: 0.3092 - accuracy: 0.8690 - val_loss: 0.3499 - val_accuracy: 0.8489\n",
      "Epoch 7/10\n",
      "114/114 [==============================] - 2s 16ms/step - loss: 0.3023 - accuracy: 0.8724 - val_loss: 0.3505 - val_accuracy: 0.8526\n",
      "Epoch 8/10\n",
      "114/114 [==============================] - 2s 16ms/step - loss: 0.2949 - accuracy: 0.8745 - val_loss: 0.3428 - val_accuracy: 0.8531\n",
      "Epoch 9/10\n",
      "114/114 [==============================] - 2s 16ms/step - loss: 0.2897 - accuracy: 0.8768 - val_loss: 0.3398 - val_accuracy: 0.8538\n",
      "Epoch 10/10\n",
      "114/114 [==============================] - 2s 16ms/step - loss: 0.2820 - accuracy: 0.8801 - val_loss: 0.3417 - val_accuracy: 0.8534\n"
     ]
    }
   ],
   "source": [
    "#6-1) RNN Modeling ... Model training\n",
    "model.compile(optimizer='adam',\n",
    "              loss='binary_crossentropy',\n",
    "              metrics=['accuracy'])\n",
    "              \n",
    "epochs=10  # 몇 epoch를 훈련하면 좋을지 결과를 보면서 바꾸어 봅시다. \n",
    "\n",
    "history = model.fit(partial_X_train,\n",
    "                    partial_y_train,\n",
    "                    epochs=epochs,\n",
    "                    batch_size=1024,\n",
    "                    validation_data=(X_val, y_val),\n",
    "                    verbose=1)"
   ]
  },
  {
   "cell_type": "code",
   "execution_count": 187,
   "id": "d5b830a8",
   "metadata": {},
   "outputs": [
    {
     "name": "stdout",
     "output_type": "stream",
     "text": [
      "1537/1537 - 3s - loss: 0.3498 - accuracy: 0.8502\n",
      "[0.3498317301273346, 0.8501535654067993]\n"
     ]
    }
   ],
   "source": [
    "#6-1) RNN Modeling  ... Model test data apply\n",
    "results = model.evaluate(X_test,  y_test, verbose=2)\n",
    "\n",
    "print(results)"
   ]
  },
  {
   "cell_type": "code",
   "execution_count": 133,
   "id": "19d6c33a",
   "metadata": {},
   "outputs": [
    {
     "name": "stdout",
     "output_type": "stream",
     "text": [
      "dict_keys(['loss', 'accuracy', 'val_loss', 'val_accuracy'])\n"
     ]
    }
   ],
   "source": [
    "#6-1) RNN Modeling  ... Model graph  그려볼 수 있는 항목들\n",
    "history_dict = history.history\n",
    "print(history_dict.keys()) # epoch에 따른 그래프를 그려볼 수 있는 항목들"
   ]
  },
  {
   "cell_type": "code",
   "execution_count": 134,
   "id": "909c1802",
   "metadata": {},
   "outputs": [
    {
     "data": {
      "image/png": "[encoded data removed]",
      "text/plain": [
       "<Figure size 432x288 with 1 Axes>"
      ]
     },
     "metadata": {
      "needs_background": "light"
     },
     "output_type": "display_data"
    }
   ],
   "source": [
    "#6-1) RNN Modeling  ... Model graph  ...  loss graph \n",
    "import matplotlib.pyplot as plt\n",
    "\n",
    "acc = history_dict['accuracy']\n",
    "val_acc = history_dict['val_accuracy']\n",
    "loss = history_dict['loss']\n",
    "val_loss = history_dict['val_loss']\n",
    "\n",
    "epochs = range(1, len(acc) + 1)\n",
    "\n",
    "# \"bo\"는 \"파란색 점\"입니다\n",
    "plt.plot(epochs, loss, 'bo', label='Training loss')\n",
    "# b는 \"파란 실선\"입니다\n",
    "plt.plot(epochs, val_loss, 'b', label='Validation loss')\n",
    "plt.title('Training and validation loss')\n",
    "plt.xlabel('Epochs')\n",
    "plt.ylabel('Loss')\n",
    "plt.legend()\n",
    "\n",
    "plt.show()"
   ]
  },
  {
   "cell_type": "code",
   "execution_count": 135,
   "id": "fa8d7eae",
   "metadata": {},
   "outputs": [
    {
     "data": {
      "image/png": "[encoded data removed]",
      "text/plain": [
       "<Figure size 432x288 with 1 Axes>"
      ]
     },
     "metadata": {
      "needs_background": "light"
     },
     "output_type": "display_data"
    }
   ],
   "source": [
    "#6-1) RNN  Modeling  ... Model graph  ...  accuracy graph \n",
    "plt.clf()   # 그림을 초기화합니다\n",
    "\n",
    "plt.plot(epochs, acc, 'bo', label='Training acc')\n",
    "plt.plot(epochs, val_acc, 'b', label='Validation acc')\n",
    "plt.title('Training and validation accuracy')\n",
    "plt.xlabel('Epochs')\n",
    "plt.ylabel('Accuracy')\n",
    "plt.legend()\n",
    "\n",
    "plt.show()"
   ]
  },
  {
   "cell_type": "code",
   "execution_count": 200,
   "id": "9b7e148c",
   "metadata": {},
   "outputs": [
    {
     "name": "stdout",
     "output_type": "stream",
     "text": [
      "Model: \"sequential_74\"\n",
      "_________________________________________________________________\n",
      "Layer (type)                 Output Shape              Param #   \n",
      "=================================================================\n",
      "embedding_73 (Embedding)     (None, None, 32)          320000    \n",
      "_________________________________________________________________\n",
      "conv1d_86 (Conv1D)           (None, None, 64)          14400     \n",
      "_________________________________________________________________\n",
      "max_pooling1d_43 (MaxPooling (None, None, 64)          0         \n",
      "_________________________________________________________________\n",
      "dropout_65 (Dropout)         (None, None, 64)          0         \n",
      "_________________________________________________________________\n",
      "conv1d_87 (Conv1D)           (None, None, 64)          28736     \n",
      "_________________________________________________________________\n",
      "global_max_pooling1d_48 (Glo (None, 64)                0         \n",
      "_________________________________________________________________\n",
      "dense_136 (Dense)            (None, 32)                2080      \n",
      "_________________________________________________________________\n",
      "dropout_66 (Dropout)         (None, 32)                0         \n",
      "_________________________________________________________________\n",
      "dense_137 (Dense)            (None, 1)                 33        \n",
      "=================================================================\n",
      "Total params: 365,249\n",
      "Trainable params: 365,249\n",
      "Non-trainable params: 0\n",
      "_________________________________________________________________\n"
     ]
    }
   ],
   "source": [
    "#6-2) cnn 모델 구성 \n",
    "from tensorflow.keras import layers\n",
    "from tensorflow import keras\n",
    "from tensorflow.keras import optimizers\n",
    "        \n",
    "vocab_size = 10000     # 어휘 사전의 크기입니다(10000개의 단어)\n",
    "word_vector_dim = 32   # 단어 하나를 표현하는 임베딩 벡터의 차원 수입니다. \n",
    "\n",
    "model = tf.keras.Sequential()\n",
    "model.add(tf.keras.layers.Embedding(vocab_size, word_vector_dim, input_shape=(None,)))\n",
    "model.add(tf.keras.layers.Conv1D(64, 7, activation='relu'))\n",
    "model.add(tf.keras.layers.MaxPooling1D(5))\n",
    "model.add(Dropout(0.4))\n",
    "model.add(tf.keras.layers.Conv1D(64, 7, activation='relu'))\n",
    "model.add(tf.keras.layers.GlobalMaxPooling1D())\n",
    "model.add(tf.keras.layers.Dense(32, activation='relu'))\n",
    "model.add(Dropout(0.5))\n",
    "model.add(tf.keras.layers.Dense(1, activation='sigmoid'))  # 최종 출력은 긍정/부정을 나타내는 1dim 입니다.\n",
    "\n",
    "model.summary()"
   ]
  },
  {
   "cell_type": "code",
   "execution_count": 201,
   "id": "e1c77097",
   "metadata": {},
   "outputs": [
    {
     "name": "stdout",
     "output_type": "stream",
     "text": [
      "Epoch 1/20\n",
      "114/114 [==============================] - 2s 9ms/step - loss: 0.6927 - accuracy: 0.5131 - val_loss: 0.6917 - val_accuracy: 0.5430\n",
      "Epoch 2/20\n",
      "114/114 [==============================] - 1s 7ms/step - loss: 0.6888 - accuracy: 0.5578 - val_loss: 0.6796 - val_accuracy: 0.6739\n",
      "Epoch 3/20\n",
      "114/114 [==============================] - 1s 7ms/step - loss: 0.6572 - accuracy: 0.6656 - val_loss: 0.6126 - val_accuracy: 0.7312\n",
      "Epoch 4/20\n",
      "114/114 [==============================] - 1s 7ms/step - loss: 0.5723 - accuracy: 0.7384 - val_loss: 0.5064 - val_accuracy: 0.7847\n",
      "Epoch 5/20\n",
      "114/114 [==============================] - 1s 7ms/step - loss: 0.4919 - accuracy: 0.7817 - val_loss: 0.4404 - val_accuracy: 0.8085\n",
      "Epoch 6/20\n",
      "114/114 [==============================] - 1s 7ms/step - loss: 0.4431 - accuracy: 0.8078 - val_loss: 0.4047 - val_accuracy: 0.8241\n",
      "Epoch 7/20\n",
      "114/114 [==============================] - 1s 7ms/step - loss: 0.4145 - accuracy: 0.8249 - val_loss: 0.3842 - val_accuracy: 0.8320\n",
      "Epoch 8/20\n",
      "114/114 [==============================] - 1s 7ms/step - loss: 0.3943 - accuracy: 0.8358 - val_loss: 0.3721 - val_accuracy: 0.8394\n",
      "Epoch 9/20\n",
      "114/114 [==============================] - 1s 7ms/step - loss: 0.3793 - accuracy: 0.8429 - val_loss: 0.3636 - val_accuracy: 0.8428\n",
      "Epoch 10/20\n",
      "114/114 [==============================] - 1s 7ms/step - loss: 0.3684 - accuracy: 0.8483 - val_loss: 0.3585 - val_accuracy: 0.8448\n",
      "Epoch 11/20\n",
      "114/114 [==============================] - 1s 7ms/step - loss: 0.3602 - accuracy: 0.8538 - val_loss: 0.3548 - val_accuracy: 0.8453\n",
      "Epoch 12/20\n",
      "114/114 [==============================] - 1s 7ms/step - loss: 0.3539 - accuracy: 0.8560 - val_loss: 0.3506 - val_accuracy: 0.8488\n",
      "Epoch 13/20\n",
      "114/114 [==============================] - 1s 7ms/step - loss: 0.3471 - accuracy: 0.8601 - val_loss: 0.3485 - val_accuracy: 0.8493\n",
      "Epoch 14/20\n",
      "114/114 [==============================] - 1s 7ms/step - loss: 0.3422 - accuracy: 0.8624 - val_loss: 0.3469 - val_accuracy: 0.8498\n",
      "Epoch 15/20\n",
      "114/114 [==============================] - 1s 7ms/step - loss: 0.3392 - accuracy: 0.8642 - val_loss: 0.3456 - val_accuracy: 0.8504\n",
      "Epoch 16/20\n",
      "114/114 [==============================] - 1s 7ms/step - loss: 0.3341 - accuracy: 0.8667 - val_loss: 0.3446 - val_accuracy: 0.8506\n",
      "Epoch 17/20\n",
      "114/114 [==============================] - 1s 7ms/step - loss: 0.3313 - accuracy: 0.8675 - val_loss: 0.3440 - val_accuracy: 0.8509\n",
      "Epoch 18/20\n",
      "114/114 [==============================] - 1s 7ms/step - loss: 0.3291 - accuracy: 0.8689 - val_loss: 0.3433 - val_accuracy: 0.8523\n",
      "Epoch 19/20\n",
      "114/114 [==============================] - 1s 7ms/step - loss: 0.3254 - accuracy: 0.8705 - val_loss: 0.3426 - val_accuracy: 0.8523\n",
      "Epoch 20/20\n",
      "114/114 [==============================] - 1s 7ms/step - loss: 0.3227 - accuracy: 0.8725 - val_loss: 0.3427 - val_accuracy: 0.8528\n"
     ]
    }
   ],
   "source": [
    "#6-2) cnn Modeling ... Model training \n",
    "#model.compile(optimizer='adam',               \n",
    "#              loss='binary_crossentropy',\n",
    "#              metrics=['accuracy'])\n",
    "              \n",
    "model.compile(optimizer=optimizers.RMSprop(lr=1e-4),\n",
    "              loss='binary_crossentropy',\n",
    "              metrics=['accuracy'])\n",
    "\n",
    "epochs=20  # 몇 epoch를 훈련하면 좋을지 결과를 보면서 바꾸어 봅시다. \n",
    "\n",
    "history = model.fit(partial_X_train,\n",
    "                    partial_y_train,\n",
    "                    epochs=epochs,\n",
    "                    batch_size=1024,\n",
    "                    validation_data=(X_val, y_val),\n",
    "                    verbose=1)"
   ]
  },
  {
   "cell_type": "code",
   "execution_count": 202,
   "id": "9b0dde9a",
   "metadata": {},
   "outputs": [
    {
     "name": "stdout",
     "output_type": "stream",
     "text": [
      "1537/1537 - 3s - loss: 0.3538 - accuracy: 0.8489\n",
      "[0.3537951409816742, 0.8488516211509705]\n"
     ]
    }
   ],
   "source": [
    "#6-2) cnn Modeling  ... Model test data apply\n",
    "results = model.evaluate(X_test,  y_test, verbose=2)\n",
    "\n",
    "print(results)"
   ]
  },
  {
   "cell_type": "code",
   "execution_count": 206,
   "id": "9a9e41f0",
   "metadata": {},
   "outputs": [
    {
     "name": "stdout",
     "output_type": "stream",
     "text": [
      "dict_keys(['loss', 'accuracy', 'val_loss', 'val_accuracy'])\n"
     ]
    }
   ],
   "source": [
    "#6-2) cnn Modeling  ... Model graph  그려볼 수 있는 항목들\n",
    "history_dict = history.history\n",
    "print(history_dict.keys()) # epoch에 따른 그래프를 그려볼 수 있는 항목들"
   ]
  },
  {
   "cell_type": "code",
   "execution_count": 207,
   "id": "f2e01c0a",
   "metadata": {},
   "outputs": [
    {
     "data": {
      "image/png": "[encoded data removed]",
      "text/plain": [
       "<Figure size 432x288 with 1 Axes>"
      ]
     },
     "metadata": {
      "needs_background": "light"
     },
     "output_type": "display_data"
    }
   ],
   "source": [
    "#6-2) cnn Modeling  ... Model graph  ...  loss graph \n",
    "import matplotlib.pyplot as plt\n",
    "\n",
    "acc = history_dict['accuracy']\n",
    "val_acc = history_dict['val_accuracy']\n",
    "loss = history_dict['loss']\n",
    "val_loss = history_dict['val_loss']\n",
    "\n",
    "epochs = range(1, len(acc) + 1)\n",
    "\n",
    "# \"bo\"는 \"파란색 점\"입니다\n",
    "plt.plot(epochs, loss, 'bo', label='Training loss')\n",
    "# b는 \"파란 실선\"입니다\n",
    "plt.plot(epochs, val_loss, 'b', label='Validation loss')\n",
    "plt.title('Training and validation loss')\n",
    "plt.xlabel('Epochs')\n",
    "plt.ylabel('Loss')\n",
    "plt.legend()\n",
    "\n",
    "plt.show()"
   ]
  },
  {
   "cell_type": "code",
   "execution_count": 208,
   "id": "7de9eff5",
   "metadata": {},
   "outputs": [
    {
     "data": {
      "image/png": "[encoded data removed]",
      "text/plain": [
       "<Figure size 432x288 with 1 Axes>"
      ]
     },
     "metadata": {
      "needs_background": "light"
     },
     "output_type": "display_data"
    }
   ],
   "source": [
    "#6-2) cnn Modeling  ... Model graph  ...  accuracy graph \n",
    "plt.clf()   # 그림을 초기화합니다\n",
    "\n",
    "plt.plot(epochs, acc, 'bo', label='Training acc')\n",
    "plt.plot(epochs, val_acc, 'b', label='Validation acc')\n",
    "plt.title('Training and validation accuracy')\n",
    "plt.xlabel('Epochs')\n",
    "plt.ylabel('Accuracy')\n",
    "plt.legend()\n",
    "\n",
    "plt.show()"
   ]
  },
  {
   "cell_type": "code",
   "execution_count": 212,
   "id": "739f6110",
   "metadata": {},
   "outputs": [
    {
     "name": "stdout",
     "output_type": "stream",
     "text": [
      "Model: \"sequential_76\"\n",
      "_________________________________________________________________\n",
      "Layer (type)                 Output Shape              Param #   \n",
      "=================================================================\n",
      "embedding_75 (Embedding)     (None, None, 32)          320000    \n",
      "_________________________________________________________________\n",
      "global_max_pooling1d_50 (Glo (None, 32)                0         \n",
      "_________________________________________________________________\n",
      "dropout_68 (Dropout)         (None, 32)                0         \n",
      "_________________________________________________________________\n",
      "dense_140 (Dense)            (None, 8)                 264       \n",
      "_________________________________________________________________\n",
      "dense_141 (Dense)            (None, 1)                 9         \n",
      "=================================================================\n",
      "Total params: 320,273\n",
      "Trainable params: 320,273\n",
      "Non-trainable params: 0\n",
      "_________________________________________________________________\n"
     ]
    }
   ],
   "source": [
    "#6-3) GlobalMaxPooling1D() \n",
    "ocab_size = 10000  # 어휘 사전의 크기입니다(10000개의 단어)\n",
    "word_vector_dim = 32   # 단어 하나를 표현하는 임베딩 벡터의 차원 수입니다. \n",
    "\n",
    "model = tf.keras.Sequential()\n",
    "model.add(tf.keras.layers.Embedding(vocab_size, word_vector_dim, input_shape=(None,)))\n",
    "model.add(tf.keras.layers.GlobalMaxPooling1D())\n",
    "model.add(Dropout(0.5))\n",
    "model.add(tf.keras.layers.Dense(8, activation='relu'))\n",
    "model.add(tf.keras.layers.Dense(1, activation='sigmoid'))  # 최종 출력은 긍정/부정을 나타내는 1dim 입니다.\n",
    "\n",
    "model.summary()"
   ]
  },
  {
   "cell_type": "code",
   "execution_count": 213,
   "id": "9910b339",
   "metadata": {},
   "outputs": [
    {
     "name": "stdout",
     "output_type": "stream",
     "text": [
      "Epoch 1/10\n",
      "114/114 [==============================] - 1s 5ms/step - loss: 0.6558 - accuracy: 0.6575 - val_loss: 0.5639 - val_accuracy: 0.8009\n",
      "Epoch 2/10\n",
      "114/114 [==============================] - 0s 4ms/step - loss: 0.4919 - accuracy: 0.7922 - val_loss: 0.3992 - val_accuracy: 0.8305\n",
      "Epoch 3/10\n",
      "114/114 [==============================] - 0s 4ms/step - loss: 0.4095 - accuracy: 0.8234 - val_loss: 0.3665 - val_accuracy: 0.8397\n",
      "Epoch 4/10\n",
      "114/114 [==============================] - 0s 4ms/step - loss: 0.3815 - accuracy: 0.8375 - val_loss: 0.3561 - val_accuracy: 0.8434\n",
      "Epoch 5/10\n",
      "114/114 [==============================] - 0s 4ms/step - loss: 0.3651 - accuracy: 0.8457 - val_loss: 0.3520 - val_accuracy: 0.8453\n",
      "Epoch 6/10\n",
      "114/114 [==============================] - 0s 4ms/step - loss: 0.3513 - accuracy: 0.8518 - val_loss: 0.3501 - val_accuracy: 0.8476\n",
      "Epoch 7/10\n",
      "114/114 [==============================] - 0s 4ms/step - loss: 0.3411 - accuracy: 0.8570 - val_loss: 0.3504 - val_accuracy: 0.8481\n",
      "Epoch 8/10\n",
      "114/114 [==============================] - 0s 4ms/step - loss: 0.3305 - accuracy: 0.8607 - val_loss: 0.3514 - val_accuracy: 0.8467\n",
      "Epoch 9/10\n",
      "114/114 [==============================] - 0s 4ms/step - loss: 0.3246 - accuracy: 0.8636 - val_loss: 0.3522 - val_accuracy: 0.8480\n",
      "Epoch 10/10\n",
      "114/114 [==============================] - 0s 4ms/step - loss: 0.3178 - accuracy: 0.8674 - val_loss: 0.3543 - val_accuracy: 0.8466\n"
     ]
    }
   ],
   "source": [
    "#6-3) GlobalMaxPooling1D Modeling ... Model training\n",
    "model.compile(optimizer='adam',               \n",
    "              loss='binary_crossentropy',\n",
    "              metrics=['accuracy'])\n",
    "\n",
    "\n",
    "epochs=10  # 몇 epoch를 훈련하면 좋을지 결과를 보면서 바꾸어 봅시다. \n",
    "\n",
    "history = model.fit(partial_X_train,\n",
    "                    partial_y_train,\n",
    "                    epochs=epochs,\n",
    "                    batch_size=1024,\n",
    "                    validation_data=(X_val, y_val),\n",
    "                    verbose=1)"
   ]
  },
  {
   "cell_type": "code",
   "execution_count": 214,
   "id": "0794aa7b",
   "metadata": {},
   "outputs": [
    {
     "name": "stdout",
     "output_type": "stream",
     "text": [
      "1537/1537 - 2s - loss: 0.3628 - accuracy: 0.8424\n",
      "[0.36277860403060913, 0.842443585395813]\n"
     ]
    }
   ],
   "source": [
    "#6-3) GlobalMaxPooling1D Modeling  ... Model test data apply\n",
    "results = model.evaluate(X_test,  y_test, verbose=2)\n",
    "print(results)"
   ]
  },
  {
   "cell_type": "code",
   "execution_count": 215,
   "id": "6b04ef30",
   "metadata": {},
   "outputs": [
    {
     "name": "stdout",
     "output_type": "stream",
     "text": [
      "dict_keys(['loss', 'accuracy', 'val_loss', 'val_accuracy'])\n"
     ]
    }
   ],
   "source": [
    "#6-3) GlobalMaxPooling1D Modeling  ... Model graph  그려볼 수 있는 항목들\n",
    "history_dict = history.history\n",
    "print(history_dict.keys()) # epoch에 따른 그래프를 그려볼 수 있는 항목들"
   ]
  },
  {
   "cell_type": "code",
   "execution_count": 217,
   "id": "a589037c",
   "metadata": {},
   "outputs": [
    {
     "data": {
      "image/png": "[encoded data removed]",
      "text/plain": [
       "<Figure size 432x288 with 1 Axes>"
      ]
     },
     "metadata": {
      "needs_background": "light"
     },
     "output_type": "display_data"
    }
   ],
   "source": [
    "#6-3) GlobalMaxPooling1D Modeling  ... Model graph  ...  loss graph \n",
    "import matplotlib.pyplot as plt\n",
    "\n",
    "acc = history_dict['accuracy']\n",
    "val_acc = history_dict['val_accuracy']\n",
    "loss = history_dict['loss']\n",
    "val_loss = history_dict['val_loss']\n",
    "\n",
    "epochs = range(1, len(acc) + 1)\n",
    "\n",
    "# \"bo\"는 \"파란색 점\"입니다\n",
    "plt.plot(epochs, loss, 'bo', label='Training loss')\n",
    "# b는 \"파란 실선\"입니다\n",
    "plt.plot(epochs, val_loss, 'b', label='Validation loss')\n",
    "plt.title('Training and validation loss')\n",
    "plt.xlabel('Epochs')\n",
    "plt.ylabel('Loss')\n",
    "plt.legend()\n",
    "\n",
    "plt.show()"
   ]
  },
  {
   "cell_type": "code",
   "execution_count": 218,
   "id": "e5990783",
   "metadata": {},
   "outputs": [
    {
     "data": {
      "image/png": "[encoded data removed]",
      "text/plain": [
       "<Figure size 432x288 with 1 Axes>"
      ]
     },
     "metadata": {
      "needs_background": "light"
     },
     "output_type": "display_data"
    }
   ],
   "source": [
    "#6-3) GlobalMaxPooling1D Modeling  ... Model graph  ...  accuracy graph \n",
    "plt.clf()   # 그림을 초기화합니다\n",
    "\n",
    "plt.plot(epochs, acc, 'bo', label='Training acc')\n",
    "plt.plot(epochs, val_acc, 'b', label='Validation acc')\n",
    "plt.title('Training and validation accuracy')\n",
    "plt.xlabel('Epochs')\n",
    "plt.ylabel('Accuracy')\n",
    "plt.legend()\n",
    "\n",
    "plt.show()"
   ]
  },
  {
   "cell_type": "code",
   "execution_count": null,
   "id": "5e8e7f4d",
   "metadata": {},
   "outputs": [],
   "source": []
  }
 ],
 "metadata": {
  "kernelspec": {
   "display_name": "Python 3 (ipykernel)",
   "language": "python",
   "name": "python3"
  },
  "language_info": {
   "codemirror_mode": {
    "name": "ipython",
    "version": 3
   },
   "file_extension": ".py",
   "mimetype": "text/x-python",
   "name": "python",
   "nbconvert_exporter": "python",
   "pygments_lexer": "ipython3",
   "version": "3.9.7"
  }
 },
 "nbformat": 4,
 "nbformat_minor": 5
}
