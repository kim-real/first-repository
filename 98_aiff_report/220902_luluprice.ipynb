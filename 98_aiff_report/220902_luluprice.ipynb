{
 "cells": [
  {
   "cell_type": "code",
   "execution_count": 1,
   "id": "a4366a0d",
   "metadata": {},
   "outputs": [
    {
     "data": {
      "image/png": "[encoded data removed]",
      "text/plain": [
       "<Figure size 432x288 with 1 Axes>"
      ]
     },
     "metadata": {
      "needs_background": "light"
     },
     "output_type": "display_data"
    }
   ],
   "source": [
    "# lulu 주가 추이\n",
    "import pandas as pd\n",
    "import numpy as np\n",
    "import seaborn as sns\n",
    "import os\n",
    "import matplotlib.pyplot as plt\n",
    "%matplotlib inline \n",
    "\n",
    "# 그래프 데이터 \n",
    "csv_path = os.getenv(\"HOME\") + \"/aiffel/lulu.csv\"\n",
    "data = pd.read_csv(csv_path ,encoding='utf-8', index_col=0, parse_dates=True)\n",
    "price = data['Close']\n",
    "\n",
    "fig = plt.figure()             \n",
    "ax = fig.add_subplot(1,1,1)     \n",
    "\n",
    "# 눈금 \n",
    "price.plot(ax=ax, style='black')              \n",
    "#plt.ylim([100, 500])                          \n",
    "plt.xlim(['2020-09-01','2022-09-02'])\n",
    "\n",
    "ax.bar(price[0],price[1])\n",
    "\n",
    "\n",
    "# 라벨, 타이틀 달기\n",
    "plt.xlabel('DATE')\n",
    "plt.ylabel('Stock Price')\n",
    "plt.title(\"LULU'S STOCK PRICE\")\n",
    "\n",
    "# 보여주기\n",
    "plt.savefig('./barplot.png')  # 그래프를 이미지로 출력\n",
    "plt.show()                    # 그래프를 화면으로 출력\n"
   ]
  },
  {
   "cell_type": "code",
   "execution_count": 13,
   "id": "1a693e0d",
   "metadata": {},
   "outputs": [
    {
     "data": {
      "text/html": [
       "<div>\n",
       "<style scoped>\n",
       "    .dataframe tbody tr th:only-of-type {\n",
       "        vertical-align: middle;\n",
       "    }\n",
       "\n",
       "    .dataframe tbody tr th {\n",
       "        vertical-align: top;\n",
       "    }\n",
       "\n",
       "    .dataframe thead th {\n",
       "        text-align: right;\n",
       "    }\n",
       "</style>\n",
       "<table border=\"1\" class=\"dataframe\">\n",
       "  <thead>\n",
       "    <tr style=\"text-align: right;\">\n",
       "      <th></th>\n",
       "      <th>Close</th>\n",
       "    </tr>\n",
       "    <tr>\n",
       "      <th>Date</th>\n",
       "      <th></th>\n",
       "    </tr>\n",
       "  </thead>\n",
       "  <tbody>\n",
       "    <tr>\n",
       "      <th>2020-09-01</th>\n",
       "      <td>391.160004</td>\n",
       "    </tr>\n",
       "    <tr>\n",
       "      <th>2020-09-02</th>\n",
       "      <td>398.290009</td>\n",
       "    </tr>\n",
       "    <tr>\n",
       "      <th>2020-09-03</th>\n",
       "      <td>377.869995</td>\n",
       "    </tr>\n",
       "    <tr>\n",
       "      <th>2020-09-04</th>\n",
       "      <td>361.410004</td>\n",
       "    </tr>\n",
       "    <tr>\n",
       "      <th>2020-09-08</th>\n",
       "      <td>349.799988</td>\n",
       "    </tr>\n",
       "  </tbody>\n",
       "</table>\n",
       "</div>"
      ],
      "text/plain": [
       "                 Close\n",
       "Date                  \n",
       "2020-09-01  391.160004\n",
       "2020-09-02  398.290009\n",
       "2020-09-03  377.869995\n",
       "2020-09-04  361.410004\n",
       "2020-09-08  349.799988"
      ]
     },
     "execution_count": 13,
     "metadata": {},
     "output_type": "execute_result"
    }
   ],
   "source": [
    "df = pd.DataFrame(price)     #tip > data frame 전환\n",
    "df.head()                   # head 5줄 보기\n"
   ]
  },
  {
   "cell_type": "code",
   "execution_count": 4,
   "id": "ed7cfb8f",
   "metadata": {},
   "outputs": [
    {
     "data": {
      "text/plain": [
       "(505, 1)"
      ]
     },
     "execution_count": 4,
     "metadata": {},
     "output_type": "execute_result"
    }
   ],
   "source": [
    "df.shape"
   ]
  },
  {
   "cell_type": "code",
   "execution_count": 11,
   "id": "07f63683",
   "metadata": {},
   "outputs": [
    {
     "data": {
      "text/html": [
       "<div>\n",
       "<style scoped>\n",
       "    .dataframe tbody tr th:only-of-type {\n",
       "        vertical-align: middle;\n",
       "    }\n",
       "\n",
       "    .dataframe tbody tr th {\n",
       "        vertical-align: top;\n",
       "    }\n",
       "\n",
       "    .dataframe thead th {\n",
       "        text-align: right;\n",
       "    }\n",
       "</style>\n",
       "<table border=\"1\" class=\"dataframe\">\n",
       "  <thead>\n",
       "    <tr style=\"text-align: right;\">\n",
       "      <th></th>\n",
       "      <th>Close</th>\n",
       "    </tr>\n",
       "  </thead>\n",
       "  <tbody>\n",
       "    <tr>\n",
       "      <th>count</th>\n",
       "      <td>505.000000</td>\n",
       "    </tr>\n",
       "    <tr>\n",
       "      <th>mean</th>\n",
       "      <td>349.162871</td>\n",
       "    </tr>\n",
       "    <tr>\n",
       "      <th>std</th>\n",
       "      <td>46.983118</td>\n",
       "    </tr>\n",
       "    <tr>\n",
       "      <th>min</th>\n",
       "      <td>257.510010</td>\n",
       "    </tr>\n",
       "    <tr>\n",
       "      <th>25%</th>\n",
       "      <td>315.029999</td>\n",
       "    </tr>\n",
       "    <tr>\n",
       "      <th>50%</th>\n",
       "      <td>337.869995</td>\n",
       "    </tr>\n",
       "    <tr>\n",
       "      <th>75%</th>\n",
       "      <td>379.230011</td>\n",
       "    </tr>\n",
       "    <tr>\n",
       "      <th>max</th>\n",
       "      <td>477.910004</td>\n",
       "    </tr>\n",
       "  </tbody>\n",
       "</table>\n",
       "</div>"
      ],
      "text/plain": [
       "            Close\n",
       "count  505.000000\n",
       "mean   349.162871\n",
       "std     46.983118\n",
       "min    257.510010\n",
       "25%    315.029999\n",
       "50%    337.869995\n",
       "75%    379.230011\n",
       "max    477.910004"
      ]
     },
     "execution_count": 11,
     "metadata": {},
     "output_type": "execute_result"
    }
   ],
   "source": [
    "df.describe()\n"
   ]
  },
  {
   "cell_type": "code",
   "execution_count": 12,
   "id": "4252de34",
   "metadata": {},
   "outputs": [
    {
     "name": "stdout",
     "output_type": "stream",
     "text": [
      "<class 'pandas.core.frame.DataFrame'>\n",
      "DatetimeIndex: 505 entries, 2020-09-01 to 2022-09-01\n",
      "Data columns (total 1 columns):\n",
      " #   Column  Non-Null Count  Dtype  \n",
      "---  ------  --------------  -----  \n",
      " 0   Close   505 non-null    float64\n",
      "dtypes: float64(1)\n",
      "memory usage: 7.9 KB\n"
     ]
    }
   ],
   "source": [
    "df.info()"
   ]
  },
  {
   "cell_type": "code",
   "execution_count": 24,
   "id": "b9a766bb",
   "metadata": {},
   "outputs": [
    {
     "data": {
      "image/png": "[encoded data removed]",
      "text/plain": [
       "<Figure size 432x288 with 1 Axes>"
      ]
     },
     "metadata": {
      "needs_background": "light"
     },
     "output_type": "display_data"
    }
   ],
   "source": [
    "# lulu 주가 추이\n",
    "import pandas as pd\n",
    "import numpy as np\n",
    "import seaborn as sns\n",
    "import os\n",
    "import matplotlib.pyplot as plt\n",
    "%matplotlib inline \n",
    "\n",
    "# 그래프 데이터 \n",
    "csv_path = os.getenv(\"HOME\") + \"/aiffel/lulu.csv\"\n",
    "data = pd.read_csv(csv_path ,encoding='utf-8', index_col=0, parse_dates=True)\n",
    "price = data['Close']\n",
    "Open = data['Open']  \n",
    "High = data['High'] \n",
    "Adj_Close = data['Adj Close'] \n",
    "Volume = data['Volume'] \n",
    "Low = data['Low'] \n",
    "df = pd.DataFrame(np.random.rand(6,4), columns=pd.Index(['A','B','C','D']))\n",
    "\n",
    "fig = plt.figure()             \n",
    "ax = fig.add_subplot(1,1,1)     \n",
    "\n",
    "# 눈금 \n",
    "price.plot(ax=ax, style='black')              \n",
    "#plt.ylim([100, 500])                          \n",
    "plt.xlim(['2020-09-01','2022-09-02'])\n",
    "\n",
    "ax.bar(price[0],price[1])\n",
    "\n",
    "\n",
    "# 라벨, 타이틀 달기\n",
    "plt.xlabel('DATE')\n",
    "plt.ylabel('Stock Price')\n",
    "plt.title(\"LULU'S STOCK PRICE\")\n",
    "\n",
    "# 보여주기\n",
    "plt.savefig('./barplot.png')  # 그래프를 이미지로 출력\n",
    "plt.show()                    # 그래프를 화면으로 출력"
   ]
  },
  {
   "cell_type": "code",
   "execution_count": 5,
   "id": "7417a3a8",
   "metadata": {},
   "outputs": [
    {
     "data": {
      "text/html": [
       "<div>\n",
       "<style scoped>\n",
       "    .dataframe tbody tr th:only-of-type {\n",
       "        vertical-align: middle;\n",
       "    }\n",
       "\n",
       "    .dataframe tbody tr th {\n",
       "        vertical-align: top;\n",
       "    }\n",
       "\n",
       "    .dataframe thead th {\n",
       "        text-align: right;\n",
       "    }\n",
       "</style>\n",
       "<table border=\"1\" class=\"dataframe\">\n",
       "  <thead>\n",
       "    <tr style=\"text-align: right;\">\n",
       "      <th></th>\n",
       "      <th>Date</th>\n",
       "      <th>Open</th>\n",
       "      <th>High</th>\n",
       "      <th>Low</th>\n",
       "      <th>Close</th>\n",
       "      <th>Adj Close</th>\n",
       "      <th>Volume</th>\n",
       "    </tr>\n",
       "  </thead>\n",
       "  <tbody>\n",
       "    <tr>\n",
       "      <th>0</th>\n",
       "      <td>2020-09-01</td>\n",
       "      <td>376.600006</td>\n",
       "      <td>391.380005</td>\n",
       "      <td>373.559998</td>\n",
       "      <td>391.160004</td>\n",
       "      <td>391.160004</td>\n",
       "      <td>1363100</td>\n",
       "    </tr>\n",
       "    <tr>\n",
       "      <th>1</th>\n",
       "      <td>2020-09-02</td>\n",
       "      <td>398.109985</td>\n",
       "      <td>399.899994</td>\n",
       "      <td>387.079987</td>\n",
       "      <td>398.290009</td>\n",
       "      <td>398.290009</td>\n",
       "      <td>1631300</td>\n",
       "    </tr>\n",
       "    <tr>\n",
       "      <th>2</th>\n",
       "      <td>2020-09-03</td>\n",
       "      <td>393.390015</td>\n",
       "      <td>396.829987</td>\n",
       "      <td>376.369995</td>\n",
       "      <td>377.869995</td>\n",
       "      <td>377.869995</td>\n",
       "      <td>2412900</td>\n",
       "    </tr>\n",
       "    <tr>\n",
       "      <th>3</th>\n",
       "      <td>2020-09-04</td>\n",
       "      <td>372.390015</td>\n",
       "      <td>376.399994</td>\n",
       "      <td>345.970001</td>\n",
       "      <td>361.410004</td>\n",
       "      <td>361.410004</td>\n",
       "      <td>3111700</td>\n",
       "    </tr>\n",
       "    <tr>\n",
       "      <th>4</th>\n",
       "      <td>2020-09-08</td>\n",
       "      <td>351.010010</td>\n",
       "      <td>365.000000</td>\n",
       "      <td>348.500000</td>\n",
       "      <td>349.799988</td>\n",
       "      <td>349.799988</td>\n",
       "      <td>3512500</td>\n",
       "    </tr>\n",
       "    <tr>\n",
       "      <th>...</th>\n",
       "      <td>...</td>\n",
       "      <td>...</td>\n",
       "      <td>...</td>\n",
       "      <td>...</td>\n",
       "      <td>...</td>\n",
       "      <td>...</td>\n",
       "      <td>...</td>\n",
       "    </tr>\n",
       "    <tr>\n",
       "      <th>500</th>\n",
       "      <td>2022-08-26</td>\n",
       "      <td>323.200012</td>\n",
       "      <td>324.899994</td>\n",
       "      <td>310.140015</td>\n",
       "      <td>311.309998</td>\n",
       "      <td>311.309998</td>\n",
       "      <td>1111600</td>\n",
       "    </tr>\n",
       "    <tr>\n",
       "      <th>501</th>\n",
       "      <td>2022-08-29</td>\n",
       "      <td>304.980011</td>\n",
       "      <td>311.970001</td>\n",
       "      <td>303.660004</td>\n",
       "      <td>307.500000</td>\n",
       "      <td>307.500000</td>\n",
       "      <td>1165100</td>\n",
       "    </tr>\n",
       "    <tr>\n",
       "      <th>502</th>\n",
       "      <td>2022-08-30</td>\n",
       "      <td>311.359985</td>\n",
       "      <td>312.000000</td>\n",
       "      <td>302.500000</td>\n",
       "      <td>307.070007</td>\n",
       "      <td>307.070007</td>\n",
       "      <td>1179200</td>\n",
       "    </tr>\n",
       "    <tr>\n",
       "      <th>503</th>\n",
       "      <td>2022-08-31</td>\n",
       "      <td>307.959991</td>\n",
       "      <td>310.489990</td>\n",
       "      <td>295.540009</td>\n",
       "      <td>299.959991</td>\n",
       "      <td>299.959991</td>\n",
       "      <td>1915300</td>\n",
       "    </tr>\n",
       "    <tr>\n",
       "      <th>504</th>\n",
       "      <td>2022-09-01</td>\n",
       "      <td>293.970001</td>\n",
       "      <td>294.880005</td>\n",
       "      <td>283.309998</td>\n",
       "      <td>294.450012</td>\n",
       "      <td>294.450012</td>\n",
       "      <td>3467100</td>\n",
       "    </tr>\n",
       "  </tbody>\n",
       "</table>\n",
       "<p>505 rows × 7 columns</p>\n",
       "</div>"
      ],
      "text/plain": [
       "           Date        Open        High         Low       Close   Adj Close  \\\n",
       "0    2020-09-01  376.600006  391.380005  373.559998  391.160004  391.160004   \n",
       "1    2020-09-02  398.109985  399.899994  387.079987  398.290009  398.290009   \n",
       "2    2020-09-03  393.390015  396.829987  376.369995  377.869995  377.869995   \n",
       "3    2020-09-04  372.390015  376.399994  345.970001  361.410004  361.410004   \n",
       "4    2020-09-08  351.010010  365.000000  348.500000  349.799988  349.799988   \n",
       "..          ...         ...         ...         ...         ...         ...   \n",
       "500  2022-08-26  323.200012  324.899994  310.140015  311.309998  311.309998   \n",
       "501  2022-08-29  304.980011  311.970001  303.660004  307.500000  307.500000   \n",
       "502  2022-08-30  311.359985  312.000000  302.500000  307.070007  307.070007   \n",
       "503  2022-08-31  307.959991  310.489990  295.540009  299.959991  299.959991   \n",
       "504  2022-09-01  293.970001  294.880005  283.309998  294.450012  294.450012   \n",
       "\n",
       "      Volume  \n",
       "0    1363100  \n",
       "1    1631300  \n",
       "2    2412900  \n",
       "3    3111700  \n",
       "4    3512500  \n",
       "..       ...  \n",
       "500  1111600  \n",
       "501  1165100  \n",
       "502  1179200  \n",
       "503  1915300  \n",
       "504  3467100  \n",
       "\n",
       "[505 rows x 7 columns]"
      ]
     },
     "execution_count": 5,
     "metadata": {},
     "output_type": "execute_result"
    }
   ],
   "source": [
    "# lulu 주가 추이\n",
    "import pandas as pd\n",
    "import numpy as np\n",
    "import seaborn as sns\n",
    "import os\n",
    "import matplotlib.pyplot as plt\n",
    "%matplotlib inline \n",
    "\n",
    "# 그래프 데이터 \n",
    "df = pd.read_csv('~/aiffel/lulu.csv')\n",
    "df"
   ]
  },
  {
   "cell_type": "code",
   "execution_count": 6,
   "id": "bad69a55",
   "metadata": {},
   "outputs": [
    {
     "data": {
      "text/plain": [
       "(505, 7)"
      ]
     },
     "execution_count": 6,
     "metadata": {},
     "output_type": "execute_result"
    }
   ],
   "source": [
    "#행열 구성  244행 7열\n",
    "df.shape"
   ]
  },
  {
   "cell_type": "code",
   "execution_count": 7,
   "id": "46178a6d",
   "metadata": {},
   "outputs": [
    {
     "data": {
      "text/html": [
       "<div>\n",
       "<style scoped>\n",
       "    .dataframe tbody tr th:only-of-type {\n",
       "        vertical-align: middle;\n",
       "    }\n",
       "\n",
       "    .dataframe tbody tr th {\n",
       "        vertical-align: top;\n",
       "    }\n",
       "\n",
       "    .dataframe thead th {\n",
       "        text-align: right;\n",
       "    }\n",
       "</style>\n",
       "<table border=\"1\" class=\"dataframe\">\n",
       "  <thead>\n",
       "    <tr style=\"text-align: right;\">\n",
       "      <th></th>\n",
       "      <th>Open</th>\n",
       "      <th>High</th>\n",
       "      <th>Low</th>\n",
       "      <th>Close</th>\n",
       "      <th>Adj Close</th>\n",
       "      <th>Volume</th>\n",
       "    </tr>\n",
       "  </thead>\n",
       "  <tbody>\n",
       "    <tr>\n",
       "      <th>count</th>\n",
       "      <td>505.000000</td>\n",
       "      <td>505.000000</td>\n",
       "      <td>505.000000</td>\n",
       "      <td>505.000000</td>\n",
       "      <td>505.000000</td>\n",
       "      <td>5.050000e+02</td>\n",
       "    </tr>\n",
       "    <tr>\n",
       "      <th>mean</th>\n",
       "      <td>349.592198</td>\n",
       "      <td>354.604198</td>\n",
       "      <td>343.647465</td>\n",
       "      <td>349.162871</td>\n",
       "      <td>349.162871</td>\n",
       "      <td>1.342849e+06</td>\n",
       "    </tr>\n",
       "    <tr>\n",
       "      <th>std</th>\n",
       "      <td>47.383980</td>\n",
       "      <td>47.152747</td>\n",
       "      <td>47.275411</td>\n",
       "      <td>46.983118</td>\n",
       "      <td>46.983118</td>\n",
       "      <td>8.870446e+05</td>\n",
       "    </tr>\n",
       "    <tr>\n",
       "      <th>min</th>\n",
       "      <td>254.880005</td>\n",
       "      <td>264.600006</td>\n",
       "      <td>251.509995</td>\n",
       "      <td>257.510010</td>\n",
       "      <td>257.510010</td>\n",
       "      <td>3.974000e+05</td>\n",
       "    </tr>\n",
       "    <tr>\n",
       "      <th>25%</th>\n",
       "      <td>314.880005</td>\n",
       "      <td>319.700012</td>\n",
       "      <td>309.000000</td>\n",
       "      <td>315.029999</td>\n",
       "      <td>315.029999</td>\n",
       "      <td>8.403000e+05</td>\n",
       "    </tr>\n",
       "    <tr>\n",
       "      <th>50%</th>\n",
       "      <td>337.000000</td>\n",
       "      <td>342.329987</td>\n",
       "      <td>333.100006</td>\n",
       "      <td>337.869995</td>\n",
       "      <td>337.869995</td>\n",
       "      <td>1.131000e+06</td>\n",
       "    </tr>\n",
       "    <tr>\n",
       "      <th>75%</th>\n",
       "      <td>379.609985</td>\n",
       "      <td>387.220001</td>\n",
       "      <td>373.559998</td>\n",
       "      <td>379.230011</td>\n",
       "      <td>379.230011</td>\n",
       "      <td>1.546500e+06</td>\n",
       "    </tr>\n",
       "    <tr>\n",
       "      <th>max</th>\n",
       "      <td>476.779999</td>\n",
       "      <td>485.829987</td>\n",
       "      <td>469.089996</td>\n",
       "      <td>477.910004</td>\n",
       "      <td>477.910004</td>\n",
       "      <td>8.543100e+06</td>\n",
       "    </tr>\n",
       "  </tbody>\n",
       "</table>\n",
       "</div>"
      ],
      "text/plain": [
       "             Open        High         Low       Close   Adj Close  \\\n",
       "count  505.000000  505.000000  505.000000  505.000000  505.000000   \n",
       "mean   349.592198  354.604198  343.647465  349.162871  349.162871   \n",
       "std     47.383980   47.152747   47.275411   46.983118   46.983118   \n",
       "min    254.880005  264.600006  251.509995  257.510010  257.510010   \n",
       "25%    314.880005  319.700012  309.000000  315.029999  315.029999   \n",
       "50%    337.000000  342.329987  333.100006  337.869995  337.869995   \n",
       "75%    379.609985  387.220001  373.559998  379.230011  379.230011   \n",
       "max    476.779999  485.829987  469.089996  477.910004  477.910004   \n",
       "\n",
       "             Volume  \n",
       "count  5.050000e+02  \n",
       "mean   1.342849e+06  \n",
       "std    8.870446e+05  \n",
       "min    3.974000e+05  \n",
       "25%    8.403000e+05  \n",
       "50%    1.131000e+06  \n",
       "75%    1.546500e+06  \n",
       "max    8.543100e+06  "
      ]
     },
     "execution_count": 7,
     "metadata": {},
     "output_type": "execute_result"
    }
   ],
   "source": [
    "# 통계 자료 \n",
    "df.describe()"
   ]
  },
  {
   "cell_type": "code",
   "execution_count": 8,
   "id": "33f3f177",
   "metadata": {},
   "outputs": [
    {
     "name": "stdout",
     "output_type": "stream",
     "text": [
      "<class 'pandas.core.frame.DataFrame'>\n",
      "RangeIndex: 505 entries, 0 to 504\n",
      "Data columns (total 7 columns):\n",
      " #   Column     Non-Null Count  Dtype  \n",
      "---  ------     --------------  -----  \n",
      " 0   Date       505 non-null    object \n",
      " 1   Open       505 non-null    float64\n",
      " 2   High       505 non-null    float64\n",
      " 3   Low        505 non-null    float64\n",
      " 4   Close      505 non-null    float64\n",
      " 5   Adj Close  505 non-null    float64\n",
      " 6   Volume     505 non-null    int64  \n",
      "dtypes: float64(5), int64(1), object(1)\n",
      "memory usage: 27.7+ KB\n"
     ]
    }
   ],
   "source": [
    "# data frame이고 , 행열 모양 , col의 정보 ; name, data type,, 객제타입 , 메모리, 결측치 표현\n",
    "df.info()\n"
   ]
  },
  {
   "cell_type": "code",
   "execution_count": 3,
   "id": "d80f28f5",
   "metadata": {},
   "outputs": [
    {
     "ename": "NameError",
     "evalue": "name 'df' is not defined",
     "output_type": "error",
     "traceback": [
      "\u001b[0;31m---------------------------------------------------------------------------\u001b[0m",
      "\u001b[0;31mNameError\u001b[0m                                 Traceback (most recent call last)",
      "\u001b[0;32m/tmp/ipykernel_31/2932899024.py\u001b[0m in \u001b[0;36m<module>\u001b[0;34m\u001b[0m\n\u001b[0;32m----> 1\u001b[0;31m \u001b[0mdf1\u001b[0m \u001b[0;34m=\u001b[0m \u001b[0mdf\u001b[0m\u001b[0;34m(\u001b[0m\u001b[0mindex\u001b[0m\u001b[0;34m=\u001b[0m\u001b[0;34m[\u001b[0m\u001b[0;34m'Date'\u001b[0m\u001b[0;34m]\u001b[0m\u001b[0;34m,\u001b[0m \u001b[0mcolumns\u001b[0m\u001b[0;34m=\u001b[0m\u001b[0;34m[\u001b[0m\u001b[0;34m'Close'\u001b[0m\u001b[0;34m]\u001b[0m\u001b[0;34m)\u001b[0m\u001b[0;34m\u001b[0m\u001b[0;34m\u001b[0m\u001b[0m\n\u001b[0m\u001b[1;32m      2\u001b[0m \u001b[0mdf1\u001b[0m\u001b[0;34m.\u001b[0m\u001b[0mplot\u001b[0m\u001b[0;34m(\u001b[0m\u001b[0mkind\u001b[0m\u001b[0;34m=\u001b[0m\u001b[0;34m'line'\u001b[0m\u001b[0;34m)\u001b[0m\u001b[0;34m\u001b[0m\u001b[0;34m\u001b[0m\u001b[0m\n",
      "\u001b[0;31mNameError\u001b[0m: name 'df' is not defined"
     ]
    }
   ],
   "source": [
    "import pyupbit\n",
    "\n",
    "df1 = df(index=['Date'], columns=['Close'])\n",
    "df1.plot(kind='line')"
   ]
  },
  {
   "cell_type": "code",
   "execution_count": 6,
   "id": "3f8e329f",
   "metadata": {},
   "outputs": [
    {
     "data": {
      "text/html": [
       "<div>\n",
       "<style scoped>\n",
       "    .dataframe tbody tr th:only-of-type {\n",
       "        vertical-align: middle;\n",
       "    }\n",
       "\n",
       "    .dataframe tbody tr th {\n",
       "        vertical-align: top;\n",
       "    }\n",
       "\n",
       "    .dataframe thead th {\n",
       "        text-align: right;\n",
       "    }\n",
       "</style>\n",
       "<table border=\"1\" class=\"dataframe\">\n",
       "  <thead>\n",
       "    <tr style=\"text-align: right;\">\n",
       "      <th></th>\n",
       "      <th>Date</th>\n",
       "      <th>Open</th>\n",
       "      <th>High</th>\n",
       "      <th>Low</th>\n",
       "      <th>Close</th>\n",
       "      <th>Adj Close</th>\n",
       "      <th>Volume</th>\n",
       "    </tr>\n",
       "  </thead>\n",
       "  <tbody>\n",
       "    <tr>\n",
       "      <th>0</th>\n",
       "      <td>2020-09-01</td>\n",
       "      <td>376.600006</td>\n",
       "      <td>391.380005</td>\n",
       "      <td>373.559998</td>\n",
       "      <td>391.160004</td>\n",
       "      <td>391.160004</td>\n",
       "      <td>1363100</td>\n",
       "    </tr>\n",
       "    <tr>\n",
       "      <th>1</th>\n",
       "      <td>2020-09-02</td>\n",
       "      <td>398.109985</td>\n",
       "      <td>399.899994</td>\n",
       "      <td>387.079987</td>\n",
       "      <td>398.290009</td>\n",
       "      <td>398.290009</td>\n",
       "      <td>1631300</td>\n",
       "    </tr>\n",
       "    <tr>\n",
       "      <th>2</th>\n",
       "      <td>2020-09-03</td>\n",
       "      <td>393.390015</td>\n",
       "      <td>396.829987</td>\n",
       "      <td>376.369995</td>\n",
       "      <td>377.869995</td>\n",
       "      <td>377.869995</td>\n",
       "      <td>2412900</td>\n",
       "    </tr>\n",
       "    <tr>\n",
       "      <th>3</th>\n",
       "      <td>2020-09-04</td>\n",
       "      <td>372.390015</td>\n",
       "      <td>376.399994</td>\n",
       "      <td>345.970001</td>\n",
       "      <td>361.410004</td>\n",
       "      <td>361.410004</td>\n",
       "      <td>3111700</td>\n",
       "    </tr>\n",
       "    <tr>\n",
       "      <th>4</th>\n",
       "      <td>2020-09-08</td>\n",
       "      <td>351.010010</td>\n",
       "      <td>365.000000</td>\n",
       "      <td>348.500000</td>\n",
       "      <td>349.799988</td>\n",
       "      <td>349.799988</td>\n",
       "      <td>3512500</td>\n",
       "    </tr>\n",
       "    <tr>\n",
       "      <th>...</th>\n",
       "      <td>...</td>\n",
       "      <td>...</td>\n",
       "      <td>...</td>\n",
       "      <td>...</td>\n",
       "      <td>...</td>\n",
       "      <td>...</td>\n",
       "      <td>...</td>\n",
       "    </tr>\n",
       "    <tr>\n",
       "      <th>500</th>\n",
       "      <td>2022-08-26</td>\n",
       "      <td>323.200012</td>\n",
       "      <td>324.899994</td>\n",
       "      <td>310.140015</td>\n",
       "      <td>311.309998</td>\n",
       "      <td>311.309998</td>\n",
       "      <td>1111600</td>\n",
       "    </tr>\n",
       "    <tr>\n",
       "      <th>501</th>\n",
       "      <td>2022-08-29</td>\n",
       "      <td>304.980011</td>\n",
       "      <td>311.970001</td>\n",
       "      <td>303.660004</td>\n",
       "      <td>307.500000</td>\n",
       "      <td>307.500000</td>\n",
       "      <td>1165100</td>\n",
       "    </tr>\n",
       "    <tr>\n",
       "      <th>502</th>\n",
       "      <td>2022-08-30</td>\n",
       "      <td>311.359985</td>\n",
       "      <td>312.000000</td>\n",
       "      <td>302.500000</td>\n",
       "      <td>307.070007</td>\n",
       "      <td>307.070007</td>\n",
       "      <td>1179200</td>\n",
       "    </tr>\n",
       "    <tr>\n",
       "      <th>503</th>\n",
       "      <td>2022-08-31</td>\n",
       "      <td>307.959991</td>\n",
       "      <td>310.489990</td>\n",
       "      <td>295.540009</td>\n",
       "      <td>299.959991</td>\n",
       "      <td>299.959991</td>\n",
       "      <td>1915300</td>\n",
       "    </tr>\n",
       "    <tr>\n",
       "      <th>504</th>\n",
       "      <td>2022-09-01</td>\n",
       "      <td>293.970001</td>\n",
       "      <td>294.880005</td>\n",
       "      <td>283.309998</td>\n",
       "      <td>294.450012</td>\n",
       "      <td>294.450012</td>\n",
       "      <td>3467100</td>\n",
       "    </tr>\n",
       "  </tbody>\n",
       "</table>\n",
       "<p>505 rows × 7 columns</p>\n",
       "</div>"
      ],
      "text/plain": [
       "           Date        Open        High         Low       Close   Adj Close  \\\n",
       "0    2020-09-01  376.600006  391.380005  373.559998  391.160004  391.160004   \n",
       "1    2020-09-02  398.109985  399.899994  387.079987  398.290009  398.290009   \n",
       "2    2020-09-03  393.390015  396.829987  376.369995  377.869995  377.869995   \n",
       "3    2020-09-04  372.390015  376.399994  345.970001  361.410004  361.410004   \n",
       "4    2020-09-08  351.010010  365.000000  348.500000  349.799988  349.799988   \n",
       "..          ...         ...         ...         ...         ...         ...   \n",
       "500  2022-08-26  323.200012  324.899994  310.140015  311.309998  311.309998   \n",
       "501  2022-08-29  304.980011  311.970001  303.660004  307.500000  307.500000   \n",
       "502  2022-08-30  311.359985  312.000000  302.500000  307.070007  307.070007   \n",
       "503  2022-08-31  307.959991  310.489990  295.540009  299.959991  299.959991   \n",
       "504  2022-09-01  293.970001  294.880005  283.309998  294.450012  294.450012   \n",
       "\n",
       "      Volume  \n",
       "0    1363100  \n",
       "1    1631300  \n",
       "2    2412900  \n",
       "3    3111700  \n",
       "4    3512500  \n",
       "..       ...  \n",
       "500  1111600  \n",
       "501  1165100  \n",
       "502  1179200  \n",
       "503  1915300  \n",
       "504  3467100  \n",
       "\n",
       "[505 rows x 7 columns]"
      ]
     },
     "execution_count": 6,
     "metadata": {},
     "output_type": "execute_result"
    }
   ],
   "source": [
    "# lulu 주가 추이\n",
    "import pandas as pd\n",
    "import numpy as np\n",
    "import seaborn as sns\n",
    "import os\n",
    "import matplotlib.pyplot as plt\n",
    "%matplotlib inline \n",
    "\n",
    "# 프레임데이터 \n",
    "df = pd.read_csv('~/aiffel/lulu.csv')\n",
    "df\n",
    "\n"
   ]
  },
  {
   "cell_type": "code",
   "execution_count": 7,
   "id": "67ac4772",
   "metadata": {},
   "outputs": [
    {
     "name": "stdout",
     "output_type": "stream",
     "text": [
      "<class 'pandas.core.frame.DataFrame'>\n",
      "RangeIndex: 505 entries, 0 to 504\n",
      "Data columns (total 7 columns):\n",
      " #   Column     Non-Null Count  Dtype  \n",
      "---  ------     --------------  -----  \n",
      " 0   Date       505 non-null    object \n",
      " 1   Open       505 non-null    float64\n",
      " 2   High       505 non-null    float64\n",
      " 3   Low        505 non-null    float64\n",
      " 4   Close      505 non-null    float64\n",
      " 5   Adj Close  505 non-null    float64\n",
      " 6   Volume     505 non-null    int64  \n",
      "dtypes: float64(5), int64(1), object(1)\n",
      "memory usage: 27.7+ KB\n"
     ]
    }
   ],
   "source": [
    "#행열 구성  244행 7열\n",
    "df.shape\n",
    "\n",
    "# 통계 자료 \n",
    "df.describe()\n",
    "\n",
    "# data frame이고 , 행열 모양 , col의 정보 ; name, data type,, 객제타입 , 메모리, 결측치 표현\n",
    "df.info()\n"
   ]
  },
  {
   "cell_type": "code",
   "execution_count": 20,
   "id": "bc531a03",
   "metadata": {},
   "outputs": [
    {
     "ename": "TypeError",
     "evalue": "'AxesSubplot' object is not subscriptable",
     "output_type": "error",
     "traceback": [
      "\u001b[0;31m---------------------------------------------------------------------------\u001b[0m",
      "\u001b[0;31mTypeError\u001b[0m                                 Traceback (most recent call last)",
      "\u001b[0;32m/tmp/ipykernel_31/1257972835.py\u001b[0m in \u001b[0;36m<module>\u001b[0;34m\u001b[0m\n\u001b[1;32m      1\u001b[0m \u001b[0;31m#df.columns.name = \"Close\"\u001b[0m\u001b[0;34m\u001b[0m\u001b[0;34m\u001b[0m\u001b[0m\n\u001b[0;32m----> 2\u001b[0;31m \u001b[0mdf\u001b[0m\u001b[0;34m.\u001b[0m\u001b[0mplot\u001b[0m\u001b[0;34m(\u001b[0m\u001b[0;36m0\u001b[0m\u001b[0;34m)\u001b[0m\u001b[0;34m[\u001b[0m\u001b[0;36m5\u001b[0m\u001b[0;34m]\u001b[0m\u001b[0;34m\u001b[0m\u001b[0;34m\u001b[0m\u001b[0m\n\u001b[0m",
      "\u001b[0;31mTypeError\u001b[0m: 'AxesSubplot' object is not subscriptable"
     ]
    },
    {
     "data": {
      "image/png": "[encoded data removed]",
      "text/plain": [
       "<Figure size 432x288 with 1 Axes>"
      ]
     },
     "metadata": {
      "needs_background": "light"
     },
     "output_type": "display_data"
    }
   ],
   "source": [
    "#df.columns.name = \"Close\"\n",
    "df.plot(0)\n"
   ]
  },
  {
   "cell_type": "code",
   "execution_count": null,
   "id": "94b25e71",
   "metadata": {},
   "outputs": [],
   "source": [
    "iris.sepal_length[:20].plot(kind='bar', rot=0)\n",
    "plt.title(\"꽃받침의 길이 시각화\")\n",
    "plt.xlabel(\"Data\")\n",
    "plt.ylabel(\"꽃받침의 길이\")\n",
    "plt.show()"
   ]
  },
  {
   "cell_type": "code",
   "execution_count": 28,
   "id": "257db59a",
   "metadata": {},
   "outputs": [
    {
     "data": {
      "text/plain": [
       "<AxesSubplot:ylabel='Frequency'>"
      ]
     },
     "execution_count": 28,
     "metadata": {},
     "output_type": "execute_result"
    },
    {
     "data": {
      "image/png": "[encoded data removed]",
      "text/plain": [
       "<Figure size 432x288 with 1 Axes>"
      ]
     },
     "metadata": {
      "needs_background": "light"
     },
     "output_type": "display_data"
    }
   ],
   "source": [
    "df.plot.hist()"
   ]
  },
  {
   "cell_type": "code",
   "execution_count": 43,
   "id": "553f2bac",
   "metadata": {},
   "outputs": [
    {
     "data": {
      "text/plain": [
       "<AxesSubplot:>"
      ]
     },
     "execution_count": 43,
     "metadata": {},
     "output_type": "execute_result"
    },
    {
     "data": {
      "image/png": "[encoded data removed]",
      "text/plain": [
       "<Figure size 432x288 with 1 Axes>"
      ]
     },
     "metadata": {
      "needs_background": "light"
     },
     "output_type": "display_data"
    }
   ],
   "source": [
    "\n",
    "df['Close'].plot()"
   ]
  },
  {
   "cell_type": "code",
   "execution_count": 38,
   "id": "e029be5f",
   "metadata": {},
   "outputs": [
    {
     "data": {
      "text/plain": [
       "Text(0.5, 1.0, \"LULU'S STOCK PRICE\")"
      ]
     },
     "execution_count": 38,
     "metadata": {},
     "output_type": "execute_result"
    },
    {
     "data": {
      "image/png": "[encoded data removed]",
      "text/plain": [
       "<Figure size 432x288 with 1 Axes>"
      ]
     },
     "metadata": {
      "needs_background": "light"
     },
     "output_type": "display_data"
    }
   ],
   "source": [
    "df1=df[['Date','Close']]\n",
    "fig = plt.figure()             \n",
    "ax = fig.add_subplot(1,1,1)     \n",
    "\n",
    "# 눈금 \n",
    "df1.plot(ax=ax, style='black')              \n",
    "plt.ylim([100, 500])                          \n",
    "plt.xlim(['2020-09-01','2022-09-02'])\n",
    "\n",
    "#ax.bar(df1[0],df1[1])\n",
    "\n",
    "\n",
    "# 라벨, 타이틀 달기\n",
    "plt.xlabel('DATE')\n",
    "plt.ylabel('Stock Price')\n",
    "plt.title(\"LULU'S STOCK PRICE\")"
   ]
  },
  {
   "cell_type": "code",
   "execution_count": 37,
   "id": "f0ede9fd",
   "metadata": {},
   "outputs": [
    {
     "data": {
      "text/plain": [
       "<AxesSubplot:>"
      ]
     },
     "execution_count": 37,
     "metadata": {},
     "output_type": "execute_result"
    },
    {
     "data": {
      "image/png": "[encoded data removed]",
      "text/plain": [
       "<Figure size 432x288 with 1 Axes>"
      ]
     },
     "metadata": {
      "needs_background": "light"
     },
     "output_type": "display_data"
    }
   ],
   "source": [
    "df1=df[['Date','Close']]\n",
    "df1.plot()\n"
   ]
  },
  {
   "cell_type": "code",
   "execution_count": 41,
   "id": "4e63ef8a",
   "metadata": {},
   "outputs": [
    {
     "data": {
      "text/html": [
       "<div>\n",
       "<style scoped>\n",
       "    .dataframe tbody tr th:only-of-type {\n",
       "        vertical-align: middle;\n",
       "    }\n",
       "\n",
       "    .dataframe tbody tr th {\n",
       "        vertical-align: top;\n",
       "    }\n",
       "\n",
       "    .dataframe thead th {\n",
       "        text-align: right;\n",
       "    }\n",
       "</style>\n",
       "<table border=\"1\" class=\"dataframe\">\n",
       "  <thead>\n",
       "    <tr style=\"text-align: right;\">\n",
       "      <th>Close</th>\n",
       "      <th>Date</th>\n",
       "    </tr>\n",
       "  </thead>\n",
       "  <tbody>\n",
       "    <tr>\n",
       "      <th>0</th>\n",
       "      <td>2020-09-01</td>\n",
       "    </tr>\n",
       "    <tr>\n",
       "      <th>1</th>\n",
       "      <td>2020-09-02</td>\n",
       "    </tr>\n",
       "    <tr>\n",
       "      <th>2</th>\n",
       "      <td>2020-09-03</td>\n",
       "    </tr>\n",
       "    <tr>\n",
       "      <th>3</th>\n",
       "      <td>2020-09-04</td>\n",
       "    </tr>\n",
       "    <tr>\n",
       "      <th>4</th>\n",
       "      <td>2020-09-08</td>\n",
       "    </tr>\n",
       "    <tr>\n",
       "      <th>...</th>\n",
       "      <td>...</td>\n",
       "    </tr>\n",
       "    <tr>\n",
       "      <th>500</th>\n",
       "      <td>2022-08-26</td>\n",
       "    </tr>\n",
       "    <tr>\n",
       "      <th>501</th>\n",
       "      <td>2022-08-29</td>\n",
       "    </tr>\n",
       "    <tr>\n",
       "      <th>502</th>\n",
       "      <td>2022-08-30</td>\n",
       "    </tr>\n",
       "    <tr>\n",
       "      <th>503</th>\n",
       "      <td>2022-08-31</td>\n",
       "    </tr>\n",
       "    <tr>\n",
       "      <th>504</th>\n",
       "      <td>2022-09-01</td>\n",
       "    </tr>\n",
       "  </tbody>\n",
       "</table>\n",
       "<p>505 rows × 1 columns</p>\n",
       "</div>"
      ],
      "text/plain": [
       "Close        Date\n",
       "0      2020-09-01\n",
       "1      2020-09-02\n",
       "2      2020-09-03\n",
       "3      2020-09-04\n",
       "4      2020-09-08\n",
       "..            ...\n",
       "500    2022-08-26\n",
       "501    2022-08-29\n",
       "502    2022-08-30\n",
       "503    2022-08-31\n",
       "504    2022-09-01\n",
       "\n",
       "[505 rows x 1 columns]"
      ]
     },
     "execution_count": 41,
     "metadata": {},
     "output_type": "execute_result"
    }
   ],
   "source": [
    "df1=df[['Date']]\n",
    "df1"
   ]
  },
  {
   "cell_type": "code",
   "execution_count": 47,
   "id": "d954e3a1",
   "metadata": {},
   "outputs": [
    {
     "data": {
      "text/html": [
       "<div>\n",
       "<style scoped>\n",
       "    .dataframe tbody tr th:only-of-type {\n",
       "        vertical-align: middle;\n",
       "    }\n",
       "\n",
       "    .dataframe tbody tr th {\n",
       "        vertical-align: top;\n",
       "    }\n",
       "\n",
       "    .dataframe thead th {\n",
       "        text-align: right;\n",
       "    }\n",
       "</style>\n",
       "<table border=\"1\" class=\"dataframe\">\n",
       "  <thead>\n",
       "    <tr style=\"text-align: right;\">\n",
       "      <th>Close</th>\n",
       "      <th>Date</th>\n",
       "      <th>Close</th>\n",
       "    </tr>\n",
       "  </thead>\n",
       "  <tbody>\n",
       "    <tr>\n",
       "      <th>0</th>\n",
       "      <td>2020-09-01</td>\n",
       "      <td>391.160004</td>\n",
       "    </tr>\n",
       "    <tr>\n",
       "      <th>1</th>\n",
       "      <td>2020-09-02</td>\n",
       "      <td>398.290009</td>\n",
       "    </tr>\n",
       "    <tr>\n",
       "      <th>2</th>\n",
       "      <td>2020-09-03</td>\n",
       "      <td>377.869995</td>\n",
       "    </tr>\n",
       "    <tr>\n",
       "      <th>3</th>\n",
       "      <td>2020-09-04</td>\n",
       "      <td>361.410004</td>\n",
       "    </tr>\n",
       "    <tr>\n",
       "      <th>4</th>\n",
       "      <td>2020-09-08</td>\n",
       "      <td>349.799988</td>\n",
       "    </tr>\n",
       "    <tr>\n",
       "      <th>...</th>\n",
       "      <td>...</td>\n",
       "      <td>...</td>\n",
       "    </tr>\n",
       "    <tr>\n",
       "      <th>500</th>\n",
       "      <td>2022-08-26</td>\n",
       "      <td>311.309998</td>\n",
       "    </tr>\n",
       "    <tr>\n",
       "      <th>501</th>\n",
       "      <td>2022-08-29</td>\n",
       "      <td>307.500000</td>\n",
       "    </tr>\n",
       "    <tr>\n",
       "      <th>502</th>\n",
       "      <td>2022-08-30</td>\n",
       "      <td>307.070007</td>\n",
       "    </tr>\n",
       "    <tr>\n",
       "      <th>503</th>\n",
       "      <td>2022-08-31</td>\n",
       "      <td>299.959991</td>\n",
       "    </tr>\n",
       "    <tr>\n",
       "      <th>504</th>\n",
       "      <td>2022-09-01</td>\n",
       "      <td>294.450012</td>\n",
       "    </tr>\n",
       "  </tbody>\n",
       "</table>\n",
       "<p>505 rows × 2 columns</p>\n",
       "</div>"
      ],
      "text/plain": [
       "Close        Date       Close\n",
       "0      2020-09-01  391.160004\n",
       "1      2020-09-02  398.290009\n",
       "2      2020-09-03  377.869995\n",
       "3      2020-09-04  361.410004\n",
       "4      2020-09-08  349.799988\n",
       "..            ...         ...\n",
       "500    2022-08-26  311.309998\n",
       "501    2022-08-29  307.500000\n",
       "502    2022-08-30  307.070007\n",
       "503    2022-08-31  299.959991\n",
       "504    2022-09-01  294.450012\n",
       "\n",
       "[505 rows x 2 columns]"
      ]
     },
     "execution_count": 47,
     "metadata": {},
     "output_type": "execute_result"
    }
   ],
   "source": [
    "df2=df.iloc[:,[0,4]]\n",
    "df2"
   ]
  },
  {
   "cell_type": "code",
   "execution_count": null,
   "id": "ba35cc2e",
   "metadata": {},
   "outputs": [],
   "source": []
  }
 ],
 "metadata": {
  "kernelspec": {
   "display_name": "Python 3 (ipykernel)",
   "language": "python",
   "name": "python3"
  },
  "language_info": {
   "codemirror_mode": {
    "name": "ipython",
    "version": 3
   },
   "file_extension": ".py",
   "mimetype": "text/x-python",
   "name": "python",
   "nbconvert_exporter": "python",
   "pygments_lexer": "ipython3",
   "version": "3.9.7"
  }
 },
 "nbformat": 4,
 "nbformat_minor": 5
}
