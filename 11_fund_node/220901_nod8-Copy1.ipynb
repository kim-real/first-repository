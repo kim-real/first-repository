{
 "cells": [
  {
   "cell_type": "code",
   "execution_count": null,
   "id": "04972b85",
   "metadata": {},
   "outputs": [],
   "source": [
    "#8-2. 배열은 가까이에~ 기본 통계 데이터를 계산해 볼까? (1) 평균 계산하기\n",
    "total = 0\n",
    "count = 0\n",
    "numbers = input(\"Enter a number :  (<Enter Key> to quit)\")\n",
    "while numbers != \"\":\n",
    "    try:\n",
    "        x = float(numbers)\n",
    "        count += 1\n",
    "        total = total + x\n",
    "    except ValueError:\n",
    "        print('NOT a number! Ignored..')\n",
    "    numbers = input(\"Enter a number :  (<Enter Key> to quit)\")\n",
    "avg = total / count\n",
    "print(\"\\n average is\", avg)"
   ]
  },
  {
   "cell_type": "code",
   "execution_count": 1,
   "id": "a30f827a",
   "metadata": {},
   "outputs": [
    {
     "name": "stdout",
     "output_type": "stream",
     "text": [
      "Enter a number (<Enter key> to quit)5\n",
      "Enter a number (<Enter key> to quit)8\n",
      "Enter a number (<Enter key> to quit)9\n",
      "Enter a number (<Enter key> to quit)\n",
      "당신이 입력한 숫자[5.0, 8.0, 9.0]의 \n",
      "중앙값은8.0, 평균은7.333333333333333, 표준편차는1.699673171197595입니다.\n"
     ]
    }
   ],
   "source": [
    "#평균,편차\n",
    "def numbers():\n",
    "    X=[]\n",
    "    while True:\n",
    "        number = input(\"Enter a number (<Enter key> to quit)\") \n",
    "        while number !=\"\":\n",
    "            try:\n",
    "                x = float(number)\n",
    "                X.append(x)\n",
    "            except ValueError:\n",
    "                print('>>> NOT a number! Ignored..')\n",
    "            number = input(\"Enter a number (<Enter key> to quit)\")\n",
    "        if len(X) > 1:\n",
    "            return X\n",
    "\n",
    "def median(nums): \n",
    "    nums.sort()\n",
    "    size = len(nums)\n",
    "    p = size // 2\n",
    "    if size % 2 == 0:\n",
    "        pr = p\n",
    "        pl = p-1\n",
    "        mid = float((nums[pl]+nums[pr])/2)\n",
    "    else:\n",
    "        mid = nums[p]\n",
    "    return mid\n",
    "\n",
    "def means(nums):\n",
    "    total = 0.0\n",
    "    for i in range(len(nums)):\n",
    "        total = total + nums[i]\n",
    "    return total / len(nums)\n",
    "\n",
    "def std_dev(nums, avg):\n",
    "    texp = 0.0\n",
    "    for i in range(len(nums)):\n",
    "        texp = texp + (nums[i] - avg) ** 2\n",
    "    return (texp/len(nums)) ** 0.5\n",
    "def main():\n",
    "    X = numbers()\n",
    "    med = median(X)\n",
    "    avg = means(X)\n",
    "    std = std_dev(X, avg)\n",
    "    print(\"당신이 입력한 숫자{}의 \".format(X))\n",
    "    print(\"중앙값은{}, 평균은{}, 표준편차는{}입니다.\".format(med, avg, std))\n",
    "\n",
    "if __name__ == '__main__':\n",
    "    main()"
   ]
  },
  {
   "cell_type": "code",
   "execution_count": 2,
   "id": "8a52c1e6",
   "metadata": {},
   "outputs": [
    {
     "name": "stdout",
     "output_type": "stream",
     "text": [
      "[0 1 2 3 4]\n",
      "<class 'numpy.ndarray'>\n",
      "--------------------------\n",
      "[0 1 2 3 4]\n",
      "<class 'numpy.ndarray'>\n",
      "--------------------------\n",
      "['0' '1' '2' '3' '4']\n",
      "<class 'numpy.ndarray'>\n",
      "--------------------------\n",
      "[0 1 2 3 4]\n",
      "<class 'numpy.ndarray'>\n",
      "행렬의 모양: (2, 5)\n",
      "행렬의 축 개수: 2\n",
      "행렬 내 원소의 개수: 10\n"
     ]
    }
   ],
   "source": [
    "#8-4. 끝판왕 등장! NumPy로 이 모든 걸 한방에! (1) NumPy 소개\n",
    "import numpy as np\n",
    "\n",
    "# 아래 A와 B는 결과적으로 같은 ndarray 객체를 생성합니다. \n",
    "A = np.arange(5)\n",
    "B = np.array([0,1,2,3,4])  # 파이썬 리스트를 numpy ndarray로 변환\n",
    "\n",
    "# 하지만 C는 좀 다를 것입니다. \n",
    "C = np.array([0,1,2,3,'4'])\n",
    "\n",
    "# D도 A, B와 같은 결과를 내겠지만, B의 방법을 권합니다. \n",
    "D = np.ndarray((5,), np.int64, np.array([0,1,2,3,4]))\n",
    "\n",
    "print(A)\n",
    "print(type(A))\n",
    "print(\"--------------------------\")\n",
    "print(B)\n",
    "print(type(B))\n",
    "print(\"--------------------------\")\n",
    "print(C)\n",
    "print(type(C))\n",
    "print(\"--------------------------\")\n",
    "print(D)\n",
    "print(type(D))\n",
    "\n",
    "#2) 크기 (size, shape, ndim) \n",
    "#ndarray.size\n",
    "#ndarray.shape\n",
    "#ndarray.ndim\n",
    "#reshape()\n",
    "A = np.arange(10).reshape(2, 5)   # 길이 10의 1차원 행렬을 2X5 2차원 행렬로 바꿔봅니다.\n",
    "print(\"행렬의 모양:\", A.shape)\n",
    "print(\"행렬의 축 개수:\", A.ndim)\n",
    "print(\"행렬 내 원소의 개수:\", A.size)"
   ]
  },
  {
   "cell_type": "code",
   "execution_count": 3,
   "id": "506f6cf6",
   "metadata": {},
   "outputs": [
    {
     "name": "stdout",
     "output_type": "stream",
     "text": [
      "[[0 1 2]\n",
      " [3 4 5]]\n",
      "int64\n",
      "<class 'numpy.ndarray'>\n",
      "-------------------------\n",
      "[0 1 2 3 4 5]\n",
      "int64\n",
      "<class 'numpy.ndarray'>\n",
      "-------------------------\n",
      "['0' '1' '2' '3' '4' '5']\n",
      "<U21\n",
      "<class 'numpy.ndarray'>\n",
      "-------------------------\n",
      "[0 1 2 3 list([4, 5]) 6]\n",
      "object\n",
      "<class 'numpy.ndarray'>\n"
     ]
    }
   ],
   "source": [
    "A= np.arange(6).reshape(2, 3)\n",
    "print(A)\n",
    "print(A.dtype)\n",
    "print(type(A))\n",
    "print(\"-------------------------\")\n",
    "\n",
    "B = np.array([0, 1, 2, 3, 4, 5])  \n",
    "print(B)\n",
    "print(B.dtype)\n",
    "print(type(B))\n",
    "print(\"-------------------------\")\n",
    "\n",
    "C = np.array([0, 1, 2, 3, '4', 5])\n",
    "print(C)\n",
    "print(C.dtype)\n",
    "print(type(C))\n",
    "print(\"-------------------------\")\n",
    "\n",
    "D = np.array([0, 1, 2, 3, [4, 5], 6],dtype=object)  # 이런 ndarray도 만들어질까요?\n",
    "print(D)\n",
    "print(D.dtype)\n",
    "print(type(D))"
   ]
  },
  {
   "cell_type": "code",
   "execution_count": null,
   "id": "4f3d11e9",
   "metadata": {},
   "outputs": [],
   "source": [
    "# 단위행렬\n",
    "np.eye(3)\n",
    "# 0 행렬\n",
    "np.zeros([2,3])\n",
    "# 1행렬\n",
    "np.ones([3,3])"
   ]
  },
  {
   "cell_type": "code",
   "execution_count": null,
   "id": "18fd9069",
   "metadata": {},
   "outputs": [],
   "source": [
    "# 3 X 3 행렬의 첫번째 행을 구해 봅시다. \n",
    "A = np.arange(9).reshape(3,3)\n",
    "print(\"A:\", A)\n",
    "B = A[0]\n",
    "print(\"B:\", B)\n",
    "\n",
    "# 0, 1을 인덱싱 하면 A의 첫번째 행에서 두번째 값을 참조합니다.\n",
    "# 아래 두 결과는 정확히 같습니다.\n",
    "print(A[0, 1])\n",
    "print(B[1])\n",
    "\n",
    "# 슬라이싱도 비슷합니다.\n",
    "A[:-1]"
   ]
  },
  {
   "cell_type": "code",
   "execution_count": 6,
   "id": "e6a4bdfe",
   "metadata": {},
   "outputs": [
    {
     "name": "stdout",
     "output_type": "stream",
     "text": [
      "[[2]\n",
      " [5]]\n",
      "--------------\n",
      "[[1 2]\n",
      " [4 5]]\n",
      "--------------\n",
      "[[0 1 2]\n",
      " [3 4 5]]\n",
      "--------------\n",
      "[[2]\n",
      " [5]]\n",
      "--------------\n",
      "[[1 2]\n",
      " [4 5]]\n",
      "--------------\n",
      "[[0 1 2]\n",
      " [3 4 5]]\n"
     ]
    }
   ],
   "source": [
    "# 이 슬라이싱의 결과는 \n",
    "print(A[:,2:])\n",
    "print(\"--------------\")\n",
    "print(A[:,1:])\n",
    "print(\"--------------\")\n",
    "print(A[:,:])\n",
    "print(\"--------------\")\n",
    "# 이 슬라이싱의 결과와 동일합니다.\n",
    "print(A[:,-1:])\n",
    "print(\"--------------\")\n",
    "print(A[:,-2:])\n",
    "print(\"--------------\")\n",
    "print(A[:,-3:])\n",
    "\n",
    "# 위 그림과 비교해서 이해해 보세요."
   ]
  },
  {
   "cell_type": "code",
   "execution_count": 8,
   "id": "00358401",
   "metadata": {},
   "outputs": [
    {
     "data": {
      "text/plain": [
       "array([2, 5, 8])"
      ]
     },
     "execution_count": 8,
     "metadata": {},
     "output_type": "execute_result"
    }
   ],
   "source": [
    "A = np.arange(9).reshape(3,3)\n",
    "A[1,:2]\n",
    "A[:2, 1:]\n",
    "A[:,-1]"
   ]
  },
  {
   "cell_type": "code",
   "execution_count": 11,
   "id": "62895f9e",
   "metadata": {},
   "outputs": [
    {
     "name": "stdout",
     "output_type": "stream",
     "text": [
      "0.02710081949633525\n",
      "1\n",
      "5\n"
     ]
    }
   ],
   "source": [
    "#7) random\n",
    "#NumPy에서도 다양한 의사 난수를 지원합니다.#\n",
    "#앞으로 많이 쓰일 기능이니 익혀두세요. 아래는 주로 많이 쓰이는 것들이지만,\n",
    "#np.random 패키지 안에는 이보다 훨씬 많은 기능이 내장되어 있습니다.\n",
    "'''\n",
    "np.random.randint()\n",
    "np.random.choice()\n",
    "np.random.permutation()\n",
    "np.random.normal()\n",
    "np.random.uniform()\n",
    "'''\n",
    "# 의사 난수를 생성하는 예제입니다. 여러번 실행해 보세요.\n",
    "\n",
    "print(np.random.random())   # 0에서 1사이의 실수형 난수 하나를 생성합니다. \n",
    "\n",
    "print(np.random.randint(0,10))   # 0~9 사이 1개 정수형 난수 하나를 생성합니다. \n",
    "\n",
    "print(np.random.choice([0,1,2,3,4,5,6,7,8,9]))   # 리스트에 주어진 값 중 하나를 랜덤하게 골라줍니다.\n",
    "\n"
   ]
  },
  {
   "cell_type": "code",
   "execution_count": 12,
   "id": "bbd3d89a",
   "metadata": {},
   "outputs": [
    {
     "name": "stdout",
     "output_type": "stream",
     "text": [
      "[8 5 0 7 9 3 4 2 6 1]\n",
      "[1 3 5 4 9 7 0 8 2 6]\n"
     ]
    }
   ],
   "source": [
    "# 무작위로 섞인 배열을 만들어 줍니다. \n",
    "# 아래 2가지는 기능면에서 동일합니다. \n",
    "\n",
    "print(np.random.permutation(10))   \n",
    "print(np.random.permutation([0,1,2,3,4,5,6,7,8,9]))"
   ]
  },
  {
   "cell_type": "code",
   "execution_count": 13,
   "id": "b8dbcab4",
   "metadata": {},
   "outputs": [
    {
     "name": "stdout",
     "output_type": "stream",
     "text": [
      "[ 1.42416495  0.59268589  1.64425972  0.77595074 -0.43309891]\n",
      "[ 0.19390275  0.72167389  0.2281375  -0.39681052 -0.49473391]\n"
     ]
    }
   ],
   "source": [
    "# 아래 기능들은 어떤 분포를 따르는 변수를 임의로 표본추출해 줍니다. \n",
    "\n",
    "# 이것은 정규분포를 따릅니다.\n",
    "print(np.random.normal(loc=0, scale=1, size=5))    # 평균(loc), 표준편차(scale), 추출개수(size)를 조절해 보세요.\n",
    "\n",
    "# 이것은 균등분포를 따릅니다. \n",
    "print(np.random.uniform(low=-1, high=1, size=5))  # 최소(low), 최대(high), 추출개수(size)를 조절해 보세요."
   ]
  },
  {
   "cell_type": "code",
   "execution_count": 14,
   "id": "758ae6cf",
   "metadata": {},
   "outputs": [
    {
     "name": "stdout",
     "output_type": "stream",
     "text": [
      "A: [[[ 0  1  2  3]\n",
      "  [ 4  5  6  7]\n",
      "  [ 8  9 10 11]]\n",
      "\n",
      " [[12 13 14 15]\n",
      "  [16 17 18 19]\n",
      "  [20 21 22 23]]]\n",
      "A의 전치행렬: [[[ 0 12]\n",
      "  [ 4 16]\n",
      "  [ 8 20]]\n",
      "\n",
      " [[ 1 13]\n",
      "  [ 5 17]\n",
      "  [ 9 21]]\n",
      "\n",
      " [[ 2 14]\n",
      "  [ 6 18]\n",
      "  [10 22]]\n",
      "\n",
      " [[ 3 15]\n",
      "  [ 7 19]\n",
      "  [11 23]]]\n",
      "A의 전치행렬의 shape: (4, 3, 2)\n"
     ]
    }
   ],
   "source": [
    "#8) 전치행렬\n",
    "#arr.T: 행렬의 행과 열 맞바꾸기\n",
    "#np.transpose: 축을 기준으로 행렬의 행과 열 바꾸기\n",
    "A = np.arange(24).reshape(2,3,4)\n",
    "print(\"A:\", A)               # A는 (2,3,4)의 shape를 가진 행렬입니다. \n",
    "print(\"A의 전치행렬:\", A.T)            \n",
    "print(\"A의 전치행렬의 shape:\", A.T.shape) # A의 전치행렬은 (4,3,2)의 shape를 가진 행렬입니다.\n"
   ]
  },
  {
   "cell_type": "code",
   "execution_count": 15,
   "id": "701142a3",
   "metadata": {},
   "outputs": [
    {
     "name": "stdout",
     "output_type": "stream",
     "text": [
      "A: [[[ 0  1  2  3]\n",
      "  [ 4  5  6  7]\n",
      "  [ 8  9 10 11]]\n",
      "\n",
      " [[12 13 14 15]\n",
      "  [16 17 18 19]\n",
      "  [20 21 22 23]]]\n",
      "B: [[[ 0  4  8]\n",
      "  [12 16 20]]\n",
      "\n",
      " [[ 1  5  9]\n",
      "  [13 17 21]]\n",
      "\n",
      " [[ 2  6 10]\n",
      "  [14 18 22]]\n",
      "\n",
      " [[ 3  7 11]\n",
      "  [15 19 23]]]\n",
      "B.shape: (4, 2, 3)\n"
     ]
    }
   ],
   "source": [
    "# np.transpose는 행렬의 축을 어떻게 변환해 줄지 임의로 지정해 줄 수 있는 일반적인 행렬 전치 함수입니다. \n",
    "# np.transpose(A, (2,1,0)) 은 A.T와 정확히 같습니다.\n",
    "\n",
    "B = np.transpose(A, (2,0,1))\n",
    "print(\"A:\", A)             # A는 (2,3,4)의 shape를 가진 행렬입니다. \n",
    "print(\"B:\", B)             # B는 A의 3, 1, 2번째 축을 자신의 1, 2, 3번째 축으로 가진 행렬입니다.\n",
    "print(\"B.shape:\", B.shape)  # B는 (4,2,3)의 shape를 가진 행렬입니다."
   ]
  },
  {
   "cell_type": "code",
   "execution_count": null,
   "id": "a527e78a",
   "metadata": {},
   "outputs": [],
   "source": [
    "#8-6. 끝판왕 등장! NumPy로 이 모든 걸 한방에! (3) NumPy로 기본 통계 데이터 계산해 보기\n",
    "import numpy as np\n",
    "\n",
    "def numbers():\n",
    "    X = []\n",
    "    number = input(\"Enter a number (<Enter key> to quit)\") \n",
    "    # 하지만 2개 이상의 숫자를 받아야 한다는 제약조건을 제외하였습니다.\n",
    "    while number != \"\":\n",
    "        try:\n",
    "            x = float(number)\n",
    "            X.append(x)\n",
    "        except ValueError:\n",
    "            print('>>> NOT a number! Ignored..')\n",
    "        number = input(\"Enter a number (<Enter key> to quit)\")\n",
    "    return X\n",
    "\n",
    "def main():\n",
    "    nums = numbers()       # 이것은 파이썬 리스트입니다. \n",
    "    num = np.array(nums)   # 리스트를 Numpy ndarray로 변환합니다.\n",
    "    print(\"합\", num.sum())\n",
    "    print(\"평균값\",num.mean())\n",
    "    print(\"표준편차\",num.std())\n",
    "    print(\"중앙값\",np.median(num))   # num.median() 이 아님에 유의해 주세요.\n",
    "\n",
    "main()"
   ]
  },
  {
   "cell_type": "code",
   "execution_count": null,
   "id": "1100834a",
   "metadata": {},
   "outputs": [],
   "source": [
    "#8-8. 데이터의 행렬 변환 (2) 이미지의 행렬 변환\n",
    "import matplotlib as mpl\n",
    "import PIL\n",
    "\n",
    "print( f'# matplotlib: {mpl.__version__}' )  \n",
    "print(f'# PIL:  {PIL.__version__}')"
   ]
  },
  {
   "cell_type": "code",
   "execution_count": 16,
   "id": "40541015",
   "metadata": {},
   "outputs": [
    {
     "name": "stdout",
     "output_type": "stream",
     "text": [
      "/aiffel/aiffel/data_represent/image/newyork.jpg\n",
      "<class 'PIL.JpegImagePlugin.JpegImageFile'>\n",
      "(212, 300)\n",
      "JPEG\n",
      "(212, 300)\n",
      "RGB\n"
     ]
    }
   ],
   "source": [
    "'''이미지 조작에 쓰이는 메서드\n",
    "\n",
    "open : Image.open()\n",
    "size : Image.size\n",
    "filename : Image.filename\n",
    "crop : Image.crop((x0, y0, xt, yt))\n",
    "resize : Image.resize((w,h))\n",
    "save : Image.save()\n",
    "'''\n",
    "from PIL import Image, ImageColor\n",
    "import os\n",
    "img_path = os.getenv(\"HOME\") + \"/aiffel/data_represent/image/newyork.jpg\"\n",
    "img = Image.open(img_path)\n",
    "print(img_path)\n",
    "print(type(img))\n",
    "img\n",
    "\n",
    "img.size\n",
    "\n",
    "W, H = img.size\n",
    "print((W, H))\n",
    "\n",
    "print(img.format)\n",
    "print(img.size)\n",
    "print(img.mode)"
   ]
  },
  {
   "cell_type": "code",
   "execution_count": 19,
   "id": "47bff61e",
   "metadata": {},
   "outputs": [
    {
     "name": "stdout",
     "output_type": "stream",
     "text": [
      "저장 완료!\n",
      "/aiffel/aiffel/data_represent/image/cropped_img.jpg\n",
      "<class 'PIL.JpegImagePlugin.JpegImageFile'>\n",
      "<class 'numpy.ndarray'>\n",
      "(300, 212, 3)\n",
      "3\n"
     ]
    }
   ],
   "source": [
    "#자르기\n",
    "img.crop((30,30,100,100))\n",
    "#저장\n",
    "# 새로운 이미지 파일명\n",
    "cropped_img_path = os.getenv(\"HOME\") + \"/aiffel/data_represent/image/cropped_img.jpg\"\n",
    "img.crop((30,30,100,100)).save(cropped_img_path)\n",
    "print(\"저장 완료!\")\n",
    "\n",
    "!ls ~/aiffel/data_represent/image/cropped_img.jpg\n",
    "\n",
    "import numpy as np\n",
    "img_arr = np.array(img)\n",
    "print(type(img))\n",
    "print(type(img_arr))\n",
    "print(img_arr.shape)\n",
    "print(img_arr.ndim)"
   ]
  },
  {
   "cell_type": "code",
   "execution_count": 20,
   "id": "ad52c368",
   "metadata": {},
   "outputs": [
    {
     "data": {
      "text/plain": [
       "array([[[133, 180, 250],\n",
       "        [133, 180, 250],\n",
       "        [133, 180, 250],\n",
       "        ...,\n",
       "        [133, 180, 250],\n",
       "        [133, 180, 250],\n",
       "        [133, 180, 250]],\n",
       "\n",
       "       [[133, 180, 250],\n",
       "        [133, 180, 250],\n",
       "        [133, 180, 250],\n",
       "        ...,\n",
       "        [133, 180, 250],\n",
       "        [133, 180, 250],\n",
       "        [133, 180, 250]],\n",
       "\n",
       "       [[133, 180, 250],\n",
       "        [133, 180, 250],\n",
       "        [133, 180, 250],\n",
       "        ...,\n",
       "        [133, 180, 250],\n",
       "        [133, 180, 250],\n",
       "        [133, 180, 250]],\n",
       "\n",
       "       ...,\n",
       "\n",
       "       [[164, 199, 255],\n",
       "        [164, 199, 255],\n",
       "        [164, 199, 255],\n",
       "        ...,\n",
       "        [164, 199, 255],\n",
       "        [164, 199, 255],\n",
       "        [164, 199, 255]],\n",
       "\n",
       "       [[164, 199, 255],\n",
       "        [164, 199, 255],\n",
       "        [164, 199, 255],\n",
       "        ...,\n",
       "        [164, 199, 255],\n",
       "        [164, 199, 255],\n",
       "        [164, 199, 255]],\n",
       "\n",
       "       [[164, 199, 255],\n",
       "        [164, 199, 255],\n",
       "        [164, 199, 255],\n",
       "        ...,\n",
       "        [164, 199, 255],\n",
       "        [164, 199, 255],\n",
       "        [164, 199, 255]]], dtype=uint8)"
      ]
     },
     "execution_count": 20,
     "metadata": {},
     "output_type": "execute_result"
    }
   ],
   "source": [
    "#확인\n",
    "img_arr"
   ]
  },
  {
   "cell_type": "code",
   "execution_count": 29,
   "id": "c2dfe9ba",
   "metadata": {},
   "outputs": [
    {
     "name": "stdout",
     "output_type": "stream",
     "text": [
      "<class 'numpy.ndarray'>\n",
      "(300, 212)\n",
      "2\n"
     ]
    },
    {
     "data": {
      "text/plain": [
       "array([[174, 174, 174, ..., 174, 174, 174],\n",
       "       [174, 174, 174, ..., 174, 174, 174],\n",
       "       [174, 174, 174, ..., 174, 174, 174],\n",
       "       ...,\n",
       "       [195, 195, 195, ..., 195, 195, 195],\n",
       "       [195, 195, 195, ..., 195, 195, 195],\n",
       "       [195, 195, 195, ..., 195, 195, 195]], dtype=uint8)"
      ]
     },
     "execution_count": 29,
     "metadata": {},
     "output_type": "execute_result"
    }
   ],
   "source": [
    "#흑백\n",
    "img_g_arr = np.array(img_g)\n",
    "print(type(img_g_arr))\n",
    "print(img_g_arr.shape)\n",
    "print(img_g_arr.ndim)\n",
    "\n",
    "img_g = Image.open(img_path).convert('L')\n",
    "\n",
    "img_g_arr"
   ]
  },
  {
   "cell_type": "code",
   "execution_count": 30,
   "id": "482915e4",
   "metadata": {},
   "outputs": [
    {
     "name": "stdout",
     "output_type": "stream",
     "text": [
      "(255, 0, 0)\n",
      "(255, 0, 0, 255)\n",
      "(255, 255, 0)\n"
     ]
    }
   ],
   "source": [
    "# color\n",
    "red = ImageColor.getcolor('RED','RGB')\n",
    "reda = ImageColor.getcolor('red','RGBA')\n",
    "yellow = ImageColor.getcolor('yellow','RGB')\n",
    "print(red)\n",
    "print(reda)\n",
    "print(yellow)"
   ]
  },
  {
   "cell_type": "code",
   "execution_count": null,
   "id": "4a952939",
   "metadata": {},
   "outputs": [],
   "source": [
    "#구조화 data\n",
    "# 파이썬 dict 로 표현한 전화번호부입니다. \n",
    "Country_PhoneNumber = {'Korea': 82, 'America': 1, 'Swiss': 41, 'Italy': 39, 'Japan': 81, 'China': 86, 'Rusia': 7}\n",
    "Country_PhoneNumber['Korea']  # 키를 가지고 값을 조회할 수 있습니다."
   ]
  },
  {
   "cell_type": "code",
   "execution_count": 31,
   "id": "e4bcf92d",
   "metadata": {},
   "outputs": [
    {
     "name": "stdout",
     "output_type": "stream",
     "text": [
      "Congraturation!! you got a treasure box\n",
      "you have rope 2pcs\n",
      "you have apple 10pcs\n",
      "you have torch 6pcs\n",
      "you have gold coin 50pcs\n",
      "you have knife 1pcs\n",
      "you have arrow 30pcs\n"
     ]
    }
   ],
   "source": [
    "#보물박스\n",
    "treasure_box = {'rope':2, \n",
    "                'apple':10, \n",
    "                'torch': 6, \n",
    "                'gold coin': 50, \n",
    "                'knife': 1, \n",
    "                'arrow': 30}\n",
    "\n",
    "def display_stuff(treasure_box):\n",
    "    print(\"Congraturation!! you got a treasure box\")\n",
    "    for k, v in treasure_box.items():\n",
    "        print(\"you have {} {}pcs\".format(k, v))\n",
    "display_stuff(treasure_box)"
   ]
  },
  {
   "cell_type": "code",
   "execution_count": 32,
   "id": "1fb0ff58",
   "metadata": {},
   "outputs": [
    {
     "name": "stdout",
     "output_type": "stream",
     "text": [
      "rope : 1coins/pcs * 2pcs = 2 coins\n",
      "apple : 2coins/pcs * 10pcs = 20 coins\n",
      "torch : 2coins/pcs * 6pcs = 12 coins\n",
      "gold coin : 5coins/pcs * 50pcs = 250 coins\n",
      "knife : 30coins/pcs * 1pcs = 30 coins\n",
      "arrow : 1coins/pcs * 30pcs = 30 coins\n",
      "total_coin :  344\n"
     ]
    }
   ],
   "source": [
    "#은화 교환\n",
    "coin_per_treasure = {'rope':1,\n",
    "        'apple':2,\n",
    "        'torch': 2,\n",
    "        'gold coin': 5, \n",
    "        'knife': 30,\n",
    "        'arrow': 1}\n",
    "\n",
    "def total_silver(treasure_box, coin_per_treasure):\n",
    "    total_coin = 0\n",
    "    for treasure in treasure_box:\n",
    "        coin = coin_per_treasure[treasure] * treasure_box[treasure]\n",
    "        print(\"{} : {}coins/pcs * {}pcs = {} coins\".format(\n",
    "          treasure, coin_per_treasure[treasure], treasure_box[treasure], coin))\n",
    "        total_coin += coin\n",
    "    print('total_coin : ', total_coin)\n",
    "total_silver(treasure_box, coin_per_treasure)"
   ]
  },
  {
   "cell_type": "code",
   "execution_count": 33,
   "id": "1668f7df",
   "metadata": {},
   "outputs": [
    {
     "data": {
      "text/plain": [
       "{'coin': 1, 'pcs': 2}"
      ]
     },
     "execution_count": 33,
     "metadata": {},
     "output_type": "execute_result"
    }
   ],
   "source": [
    "#결과\n",
    "treasure_box = {'rope': {'coin': 1, 'pcs': 2},\n",
    "                'apple': {'coin': 2, 'pcs': 10},\n",
    "                'torch': {'coin': 2, 'pcs': 6},\n",
    "                'gold coin': {'coin': 5, 'pcs': 50},\n",
    "                'knife': {'coin': 30, 'pcs': 1},\n",
    "               \t'arrow': {'coin': 1, 'pcs': 30}\n",
    "               }\n",
    "treasure_box['rope']"
   ]
  },
  {
   "cell_type": "code",
   "execution_count": 35,
   "id": "4df1ce88",
   "metadata": {},
   "outputs": [
    {
     "data": {
      "text/plain": [
       "array(['a', 'b', 'c', 3], dtype=object)"
      ]
     },
     "execution_count": 35,
     "metadata": {},
     "output_type": "execute_result"
    }
   ],
   "source": [
    "#series\n",
    "import pandas as pd\n",
    "ser = pd.Series(['a','b','c',3])\n",
    "ser\n"
   ]
  },
  {
   "cell_type": "code",
   "execution_count": 36,
   "id": "89d76cb0",
   "metadata": {},
   "outputs": [
    {
     "data": {
      "text/plain": [
       "RangeIndex(start=0, stop=4, step=1)"
      ]
     },
     "execution_count": 36,
     "metadata": {},
     "output_type": "execute_result"
    }
   ],
   "source": [
    "##series 통제\n",
    "ser.values\n",
    "\n"
   ]
  },
  {
   "cell_type": "code",
   "execution_count": 37,
   "id": "a139cb05",
   "metadata": {},
   "outputs": [
    {
     "data": {
      "text/plain": [
       "RangeIndex(start=0, stop=4, step=1)"
      ]
     },
     "execution_count": 37,
     "metadata": {},
     "output_type": "execute_result"
    }
   ],
   "source": [
    "##series 통제\n",
    "\n",
    "\n",
    "ser.index"
   ]
  },
  {
   "cell_type": "code",
   "execution_count": 38,
   "id": "f7fbd46c",
   "metadata": {},
   "outputs": [
    {
     "data": {
      "text/plain": [
       "i    a\n",
       "j    b\n",
       "k    c\n",
       "h    3\n",
       "dtype: object"
      ]
     },
     "execution_count": 38,
     "metadata": {},
     "output_type": "execute_result"
    }
   ],
   "source": [
    "#시리즈 인자 교체\n",
    "ser2 = pd.Series(['a', 'b', 'c', 3], index=['i','j','k','h'])\n",
    "ser2"
   ]
  },
  {
   "cell_type": "code",
   "execution_count": 39,
   "id": "69c59390",
   "metadata": {},
   "outputs": [
    {
     "data": {
      "text/plain": [
       "Jhon     a\n",
       "Steve    b\n",
       "Jack     c\n",
       "Bob      3\n",
       "dtype: object"
      ]
     },
     "execution_count": 39,
     "metadata": {},
     "output_type": "execute_result"
    }
   ],
   "source": [
    "# 시리즈 할당 \n",
    "ser2.index = ['Jhon', 'Steve', 'Jack', 'Bob']\n",
    "ser2"
   ]
  },
  {
   "cell_type": "code",
   "execution_count": 40,
   "id": "da8b3bd9",
   "metadata": {},
   "outputs": [
    {
     "data": {
      "text/plain": [
       "Index(['Jhon', 'Steve', 'Jack', 'Bob'], dtype='object')"
      ]
     },
     "execution_count": 40,
     "metadata": {},
     "output_type": "execute_result"
    }
   ],
   "source": [
    "#index 표시\n",
    "ser2.index"
   ]
  },
  {
   "cell_type": "code",
   "execution_count": 41,
   "id": "4bf39354",
   "metadata": {},
   "outputs": [
    {
     "data": {
      "text/plain": [
       "Korea      82\n",
       "America     1\n",
       "Swiss      41\n",
       "Italy      39\n",
       "Japan      81\n",
       "China      86\n",
       "Rusia       7\n",
       "dtype: int64"
      ]
     },
     "execution_count": 41,
     "metadata": {},
     "output_type": "execute_result"
    }
   ],
   "source": [
    "#country\n",
    "Country_PhoneNumber = {'Korea': 82, 'America': 1, 'Swiss': 41, 'Italy': 39, 'Japan': 81, 'China': 86, 'Rusia': 7}\n",
    "ser3 = pd.Series(Country_PhoneNumber)\n",
    "ser3"
   ]
  },
  {
   "cell_type": "code",
   "execution_count": 42,
   "id": "f3605b7a",
   "metadata": {},
   "outputs": [
    {
     "data": {
      "text/plain": [
       "82"
      ]
     },
     "execution_count": 42,
     "metadata": {},
     "output_type": "execute_result"
    }
   ],
   "source": [
    "ser3['Korea']"
   ]
  },
  {
   "cell_type": "code",
   "execution_count": 43,
   "id": "6ac6e34d",
   "metadata": {},
   "outputs": [
    {
     "data": {
      "text/plain": [
       "Italy    39\n",
       "Japan    81\n",
       "China    86\n",
       "Rusia     7\n",
       "dtype: int64"
      ]
     },
     "execution_count": 43,
     "metadata": {},
     "output_type": "execute_result"
    }
   ],
   "source": [
    "ser3['Italy':]"
   ]
  },
  {
   "cell_type": "code",
   "execution_count": 44,
   "id": "8055c014",
   "metadata": {},
   "outputs": [
    {
     "data": {
      "text/plain": [
       "Country_Name\n",
       "Korea      82\n",
       "America     1\n",
       "Swiss      41\n",
       "Italy      39\n",
       "Japan      81\n",
       "China      86\n",
       "Rusia       7\n",
       "Name: Country_PhoneNumber, dtype: int64"
      ]
     },
     "execution_count": 44,
     "metadata": {},
     "output_type": "execute_result"
    }
   ],
   "source": [
    "ser3.name = 'Country_PhoneNumber'\n",
    "ser3.index.name = 'Country_Name'\n",
    "ser3"
   ]
  },
  {
   "cell_type": "code",
   "execution_count": 45,
   "id": "51e4dc05",
   "metadata": {},
   "outputs": [
    {
     "data": {
      "text/plain": [
       "Country_Name\n",
       "Korea      82\n",
       "America     1\n",
       "Swiss      41\n",
       "Italy      39\n",
       "Japan      81\n",
       "China      86\n",
       "Rusia       7\n",
       "Name: Country_PhoneNumber, dtype: int64"
      ]
     },
     "execution_count": 45,
     "metadata": {},
     "output_type": "execute_result"
    }
   ],
   "source": [
    "#시리즈\n",
    "ser3.name = 'Country_PhoneNumber'\n",
    "ser3.index.name = 'Country_Name'\n",
    "ser3"
   ]
  },
  {
   "cell_type": "code",
   "execution_count": 47,
   "id": "68aeee6c",
   "metadata": {},
   "outputs": [
    {
     "data": {
      "text/html": [
       "<div>\n",
       "<style scoped>\n",
       "    .dataframe tbody tr th:only-of-type {\n",
       "        vertical-align: middle;\n",
       "    }\n",
       "\n",
       "    .dataframe tbody tr th {\n",
       "        vertical-align: top;\n",
       "    }\n",
       "\n",
       "    .dataframe thead th {\n",
       "        text-align: right;\n",
       "    }\n",
       "</style>\n",
       "<table border=\"1\" class=\"dataframe\">\n",
       "  <thead>\n",
       "    <tr style=\"text-align: right;\">\n",
       "      <th></th>\n",
       "      <th>Region</th>\n",
       "      <th>Sales</th>\n",
       "      <th>Amount</th>\n",
       "      <th>Employee</th>\n",
       "    </tr>\n",
       "  </thead>\n",
       "  <tbody>\n",
       "    <tr>\n",
       "      <th>0</th>\n",
       "      <td>Korea</td>\n",
       "      <td>300</td>\n",
       "      <td>90</td>\n",
       "      <td>20</td>\n",
       "    </tr>\n",
       "    <tr>\n",
       "      <th>1</th>\n",
       "      <td>America</td>\n",
       "      <td>200</td>\n",
       "      <td>80</td>\n",
       "      <td>10</td>\n",
       "    </tr>\n",
       "    <tr>\n",
       "      <th>2</th>\n",
       "      <td>Chaina</td>\n",
       "      <td>500</td>\n",
       "      <td>100</td>\n",
       "      <td>30</td>\n",
       "    </tr>\n",
       "    <tr>\n",
       "      <th>3</th>\n",
       "      <td>Canada</td>\n",
       "      <td>150</td>\n",
       "      <td>30</td>\n",
       "      <td>5</td>\n",
       "    </tr>\n",
       "    <tr>\n",
       "      <th>4</th>\n",
       "      <td>Italy</td>\n",
       "      <td>50</td>\n",
       "      <td>10</td>\n",
       "      <td>3</td>\n",
       "    </tr>\n",
       "  </tbody>\n",
       "</table>\n",
       "</div>"
      ],
      "text/plain": [
       "    Region  Sales  Amount  Employee\n",
       "0    Korea    300      90        20\n",
       "1  America    200      80        10\n",
       "2   Chaina    500     100        30\n",
       "3   Canada    150      30         5\n",
       "4    Italy     50      10         3"
      ]
     },
     "execution_count": 47,
     "metadata": {},
     "output_type": "execute_result"
    }
   ],
   "source": [
    "#data frame\n",
    "data = {'Region' : ['Korea', 'America', 'Chaina', 'Canada', 'Italy'],\n",
    "        'Sales' : [300, 200, 500, 150, 50],\n",
    "        'Amount' : [90, 80, 100, 30, 10],\n",
    "        'Employee' : [20, 10, 30, 5, 3]\n",
    "        }\n",
    "s = pd.Series(data)\n",
    "s\n",
    "\n",
    "d = pd.DataFrame(data)\n",
    "d"
   ]
  },
  {
   "cell_type": "code",
   "execution_count": 48,
   "id": "b6491f71",
   "metadata": {},
   "outputs": [
    {
     "data": {
      "text/plain": [
       "Index(['Region', 'Sales', 'Amount', 'Employee'], dtype='object')"
      ]
     },
     "execution_count": 48,
     "metadata": {},
     "output_type": "execute_result"
    }
   ],
   "source": [
    "d.columns"
   ]
  },
  {
   "cell_type": "code",
   "execution_count": 49,
   "id": "61ff2848",
   "metadata": {},
   "outputs": [
    {
     "data": {
      "text/plain": [
       "RangeIndex(start=0, stop=5, step=1)"
      ]
     },
     "execution_count": 49,
     "metadata": {},
     "output_type": "execute_result"
    }
   ],
   "source": [
    "d.index"
   ]
  },
  {
   "cell_type": "code",
   "execution_count": 50,
   "id": "dc89efc1",
   "metadata": {},
   "outputs": [
    {
     "data": {
      "text/html": [
       "<div>\n",
       "<style scoped>\n",
       "    .dataframe tbody tr th:only-of-type {\n",
       "        vertical-align: middle;\n",
       "    }\n",
       "\n",
       "    .dataframe tbody tr th {\n",
       "        vertical-align: top;\n",
       "    }\n",
       "\n",
       "    .dataframe thead th {\n",
       "        text-align: right;\n",
       "    }\n",
       "</style>\n",
       "<table border=\"1\" class=\"dataframe\">\n",
       "  <thead>\n",
       "    <tr style=\"text-align: right;\">\n",
       "      <th></th>\n",
       "      <th>a</th>\n",
       "      <th>b</th>\n",
       "      <th>c</th>\n",
       "      <th>d</th>\n",
       "    </tr>\n",
       "  </thead>\n",
       "  <tbody>\n",
       "    <tr>\n",
       "      <th>one</th>\n",
       "      <td>Korea</td>\n",
       "      <td>300</td>\n",
       "      <td>90</td>\n",
       "      <td>20</td>\n",
       "    </tr>\n",
       "    <tr>\n",
       "      <th>two</th>\n",
       "      <td>America</td>\n",
       "      <td>200</td>\n",
       "      <td>80</td>\n",
       "      <td>10</td>\n",
       "    </tr>\n",
       "    <tr>\n",
       "      <th>three</th>\n",
       "      <td>Chaina</td>\n",
       "      <td>500</td>\n",
       "      <td>100</td>\n",
       "      <td>30</td>\n",
       "    </tr>\n",
       "    <tr>\n",
       "      <th>four</th>\n",
       "      <td>Canada</td>\n",
       "      <td>150</td>\n",
       "      <td>30</td>\n",
       "      <td>5</td>\n",
       "    </tr>\n",
       "    <tr>\n",
       "      <th>five</th>\n",
       "      <td>Italy</td>\n",
       "      <td>50</td>\n",
       "      <td>10</td>\n",
       "      <td>3</td>\n",
       "    </tr>\n",
       "  </tbody>\n",
       "</table>\n",
       "</div>"
      ],
      "text/plain": [
       "             a    b    c   d\n",
       "one      Korea  300   90  20\n",
       "two    America  200   80  10\n",
       "three   Chaina  500  100  30\n",
       "four    Canada  150   30   5\n",
       "five     Italy   50   10   3"
      ]
     },
     "execution_count": 50,
     "metadata": {},
     "output_type": "execute_result"
    }
   ],
   "source": [
    "d.index=['one','two','three','four','five']\n",
    "d.columns = ['a','b','c','d']\n",
    "d"
   ]
  },
  {
   "cell_type": "code",
   "execution_count": 51,
   "id": "d9a073b6",
   "metadata": {},
   "outputs": [
    {
     "data": {
      "text/plain": [
       "pandas.core.frame.DataFrame"
      ]
     },
     "execution_count": 51,
     "metadata": {},
     "output_type": "execute_result"
    }
   ],
   "source": [
    "#csv\n",
    "import pandas as pd\n",
    "import os\n",
    "\n",
    "csv_path = os.getenv(\"HOME\") + \"/aiffel/data_represent/data/covid19_italy_region.csv\"\n",
    "data = pd.read_csv(csv_path)\n",
    "type(data)"
   ]
  },
  {
   "cell_type": "code",
   "execution_count": 52,
   "id": "c26eacb6",
   "metadata": {},
   "outputs": [
    {
     "data": {
      "text/html": [
       "<div>\n",
       "<style scoped>\n",
       "    .dataframe tbody tr th:only-of-type {\n",
       "        vertical-align: middle;\n",
       "    }\n",
       "\n",
       "    .dataframe tbody tr th {\n",
       "        vertical-align: top;\n",
       "    }\n",
       "\n",
       "    .dataframe thead th {\n",
       "        text-align: right;\n",
       "    }\n",
       "</style>\n",
       "<table border=\"1\" class=\"dataframe\">\n",
       "  <thead>\n",
       "    <tr style=\"text-align: right;\">\n",
       "      <th></th>\n",
       "      <th>SNo</th>\n",
       "      <th>Date</th>\n",
       "      <th>Country</th>\n",
       "      <th>RegionCode</th>\n",
       "      <th>RegionName</th>\n",
       "      <th>Latitude</th>\n",
       "      <th>Longitude</th>\n",
       "      <th>HospitalizedPatients</th>\n",
       "      <th>IntensiveCarePatients</th>\n",
       "      <th>TotalHospitalizedPatients</th>\n",
       "      <th>HomeConfinement</th>\n",
       "      <th>CurrentPositiveCases</th>\n",
       "      <th>NewPositiveCases</th>\n",
       "      <th>Recovered</th>\n",
       "      <th>Deaths</th>\n",
       "      <th>TotalPositiveCases</th>\n",
       "      <th>TestsPerformed</th>\n",
       "    </tr>\n",
       "  </thead>\n",
       "  <tbody>\n",
       "    <tr>\n",
       "      <th>0</th>\n",
       "      <td>0</td>\n",
       "      <td>2020-02-24T18:00:00</td>\n",
       "      <td>ITA</td>\n",
       "      <td>13</td>\n",
       "      <td>Abruzzo</td>\n",
       "      <td>42.351222</td>\n",
       "      <td>13.398438</td>\n",
       "      <td>0</td>\n",
       "      <td>0</td>\n",
       "      <td>0</td>\n",
       "      <td>0</td>\n",
       "      <td>0</td>\n",
       "      <td>0</td>\n",
       "      <td>0</td>\n",
       "      <td>0</td>\n",
       "      <td>0</td>\n",
       "      <td>5</td>\n",
       "    </tr>\n",
       "    <tr>\n",
       "      <th>1</th>\n",
       "      <td>1</td>\n",
       "      <td>2020-02-24T18:00:00</td>\n",
       "      <td>ITA</td>\n",
       "      <td>17</td>\n",
       "      <td>Basilicata</td>\n",
       "      <td>40.639471</td>\n",
       "      <td>15.805148</td>\n",
       "      <td>0</td>\n",
       "      <td>0</td>\n",
       "      <td>0</td>\n",
       "      <td>0</td>\n",
       "      <td>0</td>\n",
       "      <td>0</td>\n",
       "      <td>0</td>\n",
       "      <td>0</td>\n",
       "      <td>0</td>\n",
       "      <td>0</td>\n",
       "    </tr>\n",
       "    <tr>\n",
       "      <th>2</th>\n",
       "      <td>2</td>\n",
       "      <td>2020-02-24T18:00:00</td>\n",
       "      <td>ITA</td>\n",
       "      <td>4</td>\n",
       "      <td>P.A. Bolzano</td>\n",
       "      <td>46.499335</td>\n",
       "      <td>11.356624</td>\n",
       "      <td>0</td>\n",
       "      <td>0</td>\n",
       "      <td>0</td>\n",
       "      <td>0</td>\n",
       "      <td>0</td>\n",
       "      <td>0</td>\n",
       "      <td>0</td>\n",
       "      <td>0</td>\n",
       "      <td>0</td>\n",
       "      <td>1</td>\n",
       "    </tr>\n",
       "    <tr>\n",
       "      <th>3</th>\n",
       "      <td>3</td>\n",
       "      <td>2020-02-24T18:00:00</td>\n",
       "      <td>ITA</td>\n",
       "      <td>18</td>\n",
       "      <td>Calabria</td>\n",
       "      <td>38.905976</td>\n",
       "      <td>16.594402</td>\n",
       "      <td>0</td>\n",
       "      <td>0</td>\n",
       "      <td>0</td>\n",
       "      <td>0</td>\n",
       "      <td>0</td>\n",
       "      <td>0</td>\n",
       "      <td>0</td>\n",
       "      <td>0</td>\n",
       "      <td>0</td>\n",
       "      <td>1</td>\n",
       "    </tr>\n",
       "    <tr>\n",
       "      <th>4</th>\n",
       "      <td>4</td>\n",
       "      <td>2020-02-24T18:00:00</td>\n",
       "      <td>ITA</td>\n",
       "      <td>15</td>\n",
       "      <td>Campania</td>\n",
       "      <td>40.839566</td>\n",
       "      <td>14.250850</td>\n",
       "      <td>0</td>\n",
       "      <td>0</td>\n",
       "      <td>0</td>\n",
       "      <td>0</td>\n",
       "      <td>0</td>\n",
       "      <td>0</td>\n",
       "      <td>0</td>\n",
       "      <td>0</td>\n",
       "      <td>0</td>\n",
       "      <td>10</td>\n",
       "    </tr>\n",
       "    <tr>\n",
       "      <th>...</th>\n",
       "      <td>...</td>\n",
       "      <td>...</td>\n",
       "      <td>...</td>\n",
       "      <td>...</td>\n",
       "      <td>...</td>\n",
       "      <td>...</td>\n",
       "      <td>...</td>\n",
       "      <td>...</td>\n",
       "      <td>...</td>\n",
       "      <td>...</td>\n",
       "      <td>...</td>\n",
       "      <td>...</td>\n",
       "      <td>...</td>\n",
       "      <td>...</td>\n",
       "      <td>...</td>\n",
       "      <td>...</td>\n",
       "      <td>...</td>\n",
       "    </tr>\n",
       "    <tr>\n",
       "      <th>793</th>\n",
       "      <td>793</td>\n",
       "      <td>2020-04-01T17:00:00</td>\n",
       "      <td>ITA</td>\n",
       "      <td>9</td>\n",
       "      <td>Toscana</td>\n",
       "      <td>43.769231</td>\n",
       "      <td>11.255889</td>\n",
       "      <td>1120</td>\n",
       "      <td>297</td>\n",
       "      <td>1417</td>\n",
       "      <td>3015</td>\n",
       "      <td>4432</td>\n",
       "      <td>259</td>\n",
       "      <td>182</td>\n",
       "      <td>253</td>\n",
       "      <td>4867</td>\n",
       "      <td>36575</td>\n",
       "    </tr>\n",
       "    <tr>\n",
       "      <th>794</th>\n",
       "      <td>794</td>\n",
       "      <td>2020-04-01T17:00:00</td>\n",
       "      <td>ITA</td>\n",
       "      <td>4</td>\n",
       "      <td>P.A. Trento</td>\n",
       "      <td>46.068935</td>\n",
       "      <td>11.121231</td>\n",
       "      <td>345</td>\n",
       "      <td>76</td>\n",
       "      <td>421</td>\n",
       "      <td>1062</td>\n",
       "      <td>1483</td>\n",
       "      <td>124</td>\n",
       "      <td>214</td>\n",
       "      <td>173</td>\n",
       "      <td>1870</td>\n",
       "      <td>7675</td>\n",
       "    </tr>\n",
       "    <tr>\n",
       "      <th>795</th>\n",
       "      <td>795</td>\n",
       "      <td>2020-04-01T17:00:00</td>\n",
       "      <td>ITA</td>\n",
       "      <td>10</td>\n",
       "      <td>Umbria</td>\n",
       "      <td>43.106758</td>\n",
       "      <td>12.388247</td>\n",
       "      <td>173</td>\n",
       "      <td>45</td>\n",
       "      <td>218</td>\n",
       "      <td>646</td>\n",
       "      <td>864</td>\n",
       "      <td>17</td>\n",
       "      <td>194</td>\n",
       "      <td>37</td>\n",
       "      <td>1095</td>\n",
       "      <td>9080</td>\n",
       "    </tr>\n",
       "    <tr>\n",
       "      <th>796</th>\n",
       "      <td>796</td>\n",
       "      <td>2020-04-01T17:00:00</td>\n",
       "      <td>ITA</td>\n",
       "      <td>2</td>\n",
       "      <td>Valle d'Aosta</td>\n",
       "      <td>45.737503</td>\n",
       "      <td>7.320149</td>\n",
       "      <td>85</td>\n",
       "      <td>27</td>\n",
       "      <td>112</td>\n",
       "      <td>428</td>\n",
       "      <td>540</td>\n",
       "      <td>3</td>\n",
       "      <td>32</td>\n",
       "      <td>59</td>\n",
       "      <td>631</td>\n",
       "      <td>1717</td>\n",
       "    </tr>\n",
       "    <tr>\n",
       "      <th>797</th>\n",
       "      <td>797</td>\n",
       "      <td>2020-04-01T17:00:00</td>\n",
       "      <td>ITA</td>\n",
       "      <td>5</td>\n",
       "      <td>Veneto</td>\n",
       "      <td>45.434905</td>\n",
       "      <td>12.338452</td>\n",
       "      <td>1718</td>\n",
       "      <td>350</td>\n",
       "      <td>2068</td>\n",
       "      <td>6156</td>\n",
       "      <td>8224</td>\n",
       "      <td>470</td>\n",
       "      <td>902</td>\n",
       "      <td>499</td>\n",
       "      <td>9625</td>\n",
       "      <td>112746</td>\n",
       "    </tr>\n",
       "  </tbody>\n",
       "</table>\n",
       "<p>798 rows × 17 columns</p>\n",
       "</div>"
      ],
      "text/plain": [
       "     SNo                 Date Country  RegionCode     RegionName   Latitude  \\\n",
       "0      0  2020-02-24T18:00:00     ITA          13        Abruzzo  42.351222   \n",
       "1      1  2020-02-24T18:00:00     ITA          17     Basilicata  40.639471   \n",
       "2      2  2020-02-24T18:00:00     ITA           4   P.A. Bolzano  46.499335   \n",
       "3      3  2020-02-24T18:00:00     ITA          18       Calabria  38.905976   \n",
       "4      4  2020-02-24T18:00:00     ITA          15       Campania  40.839566   \n",
       "..   ...                  ...     ...         ...            ...        ...   \n",
       "793  793  2020-04-01T17:00:00     ITA           9        Toscana  43.769231   \n",
       "794  794  2020-04-01T17:00:00     ITA           4    P.A. Trento  46.068935   \n",
       "795  795  2020-04-01T17:00:00     ITA          10         Umbria  43.106758   \n",
       "796  796  2020-04-01T17:00:00     ITA           2  Valle d'Aosta  45.737503   \n",
       "797  797  2020-04-01T17:00:00     ITA           5         Veneto  45.434905   \n",
       "\n",
       "     Longitude  HospitalizedPatients  IntensiveCarePatients  \\\n",
       "0    13.398438                     0                      0   \n",
       "1    15.805148                     0                      0   \n",
       "2    11.356624                     0                      0   \n",
       "3    16.594402                     0                      0   \n",
       "4    14.250850                     0                      0   \n",
       "..         ...                   ...                    ...   \n",
       "793  11.255889                  1120                    297   \n",
       "794  11.121231                   345                     76   \n",
       "795  12.388247                   173                     45   \n",
       "796   7.320149                    85                     27   \n",
       "797  12.338452                  1718                    350   \n",
       "\n",
       "     TotalHospitalizedPatients  HomeConfinement  CurrentPositiveCases  \\\n",
       "0                            0                0                     0   \n",
       "1                            0                0                     0   \n",
       "2                            0                0                     0   \n",
       "3                            0                0                     0   \n",
       "4                            0                0                     0   \n",
       "..                         ...              ...                   ...   \n",
       "793                       1417             3015                  4432   \n",
       "794                        421             1062                  1483   \n",
       "795                        218              646                   864   \n",
       "796                        112              428                   540   \n",
       "797                       2068             6156                  8224   \n",
       "\n",
       "     NewPositiveCases  Recovered  Deaths  TotalPositiveCases  TestsPerformed  \n",
       "0                   0          0       0                   0               5  \n",
       "1                   0          0       0                   0               0  \n",
       "2                   0          0       0                   0               1  \n",
       "3                   0          0       0                   0               1  \n",
       "4                   0          0       0                   0              10  \n",
       "..                ...        ...     ...                 ...             ...  \n",
       "793               259        182     253                4867           36575  \n",
       "794               124        214     173                1870            7675  \n",
       "795                17        194      37                1095            9080  \n",
       "796                 3         32      59                 631            1717  \n",
       "797               470        902     499                9625          112746  \n",
       "\n",
       "[798 rows x 17 columns]"
      ]
     },
     "execution_count": 52,
     "metadata": {},
     "output_type": "execute_result"
    }
   ],
   "source": [
    "data\n"
   ]
  },
  {
   "cell_type": "code",
   "execution_count": 53,
   "id": "2d7e8e8e",
   "metadata": {},
   "outputs": [
    {
     "data": {
      "text/html": [
       "<div>\n",
       "<style scoped>\n",
       "    .dataframe tbody tr th:only-of-type {\n",
       "        vertical-align: middle;\n",
       "    }\n",
       "\n",
       "    .dataframe tbody tr th {\n",
       "        vertical-align: top;\n",
       "    }\n",
       "\n",
       "    .dataframe thead th {\n",
       "        text-align: right;\n",
       "    }\n",
       "</style>\n",
       "<table border=\"1\" class=\"dataframe\">\n",
       "  <thead>\n",
       "    <tr style=\"text-align: right;\">\n",
       "      <th></th>\n",
       "      <th>SNo</th>\n",
       "      <th>Date</th>\n",
       "      <th>Country</th>\n",
       "      <th>RegionCode</th>\n",
       "      <th>RegionName</th>\n",
       "      <th>Latitude</th>\n",
       "      <th>Longitude</th>\n",
       "      <th>HospitalizedPatients</th>\n",
       "      <th>IntensiveCarePatients</th>\n",
       "      <th>TotalHospitalizedPatients</th>\n",
       "      <th>HomeConfinement</th>\n",
       "      <th>CurrentPositiveCases</th>\n",
       "      <th>NewPositiveCases</th>\n",
       "      <th>Recovered</th>\n",
       "      <th>Deaths</th>\n",
       "      <th>TotalPositiveCases</th>\n",
       "      <th>TestsPerformed</th>\n",
       "    </tr>\n",
       "  </thead>\n",
       "  <tbody>\n",
       "    <tr>\n",
       "      <th>0</th>\n",
       "      <td>0</td>\n",
       "      <td>2020-02-24T18:00:00</td>\n",
       "      <td>ITA</td>\n",
       "      <td>13</td>\n",
       "      <td>Abruzzo</td>\n",
       "      <td>42.351222</td>\n",
       "      <td>13.398438</td>\n",
       "      <td>0</td>\n",
       "      <td>0</td>\n",
       "      <td>0</td>\n",
       "      <td>0</td>\n",
       "      <td>0</td>\n",
       "      <td>0</td>\n",
       "      <td>0</td>\n",
       "      <td>0</td>\n",
       "      <td>0</td>\n",
       "      <td>5</td>\n",
       "    </tr>\n",
       "    <tr>\n",
       "      <th>1</th>\n",
       "      <td>1</td>\n",
       "      <td>2020-02-24T18:00:00</td>\n",
       "      <td>ITA</td>\n",
       "      <td>17</td>\n",
       "      <td>Basilicata</td>\n",
       "      <td>40.639471</td>\n",
       "      <td>15.805148</td>\n",
       "      <td>0</td>\n",
       "      <td>0</td>\n",
       "      <td>0</td>\n",
       "      <td>0</td>\n",
       "      <td>0</td>\n",
       "      <td>0</td>\n",
       "      <td>0</td>\n",
       "      <td>0</td>\n",
       "      <td>0</td>\n",
       "      <td>0</td>\n",
       "    </tr>\n",
       "    <tr>\n",
       "      <th>2</th>\n",
       "      <td>2</td>\n",
       "      <td>2020-02-24T18:00:00</td>\n",
       "      <td>ITA</td>\n",
       "      <td>4</td>\n",
       "      <td>P.A. Bolzano</td>\n",
       "      <td>46.499335</td>\n",
       "      <td>11.356624</td>\n",
       "      <td>0</td>\n",
       "      <td>0</td>\n",
       "      <td>0</td>\n",
       "      <td>0</td>\n",
       "      <td>0</td>\n",
       "      <td>0</td>\n",
       "      <td>0</td>\n",
       "      <td>0</td>\n",
       "      <td>0</td>\n",
       "      <td>1</td>\n",
       "    </tr>\n",
       "    <tr>\n",
       "      <th>3</th>\n",
       "      <td>3</td>\n",
       "      <td>2020-02-24T18:00:00</td>\n",
       "      <td>ITA</td>\n",
       "      <td>18</td>\n",
       "      <td>Calabria</td>\n",
       "      <td>38.905976</td>\n",
       "      <td>16.594402</td>\n",
       "      <td>0</td>\n",
       "      <td>0</td>\n",
       "      <td>0</td>\n",
       "      <td>0</td>\n",
       "      <td>0</td>\n",
       "      <td>0</td>\n",
       "      <td>0</td>\n",
       "      <td>0</td>\n",
       "      <td>0</td>\n",
       "      <td>1</td>\n",
       "    </tr>\n",
       "    <tr>\n",
       "      <th>4</th>\n",
       "      <td>4</td>\n",
       "      <td>2020-02-24T18:00:00</td>\n",
       "      <td>ITA</td>\n",
       "      <td>15</td>\n",
       "      <td>Campania</td>\n",
       "      <td>40.839566</td>\n",
       "      <td>14.250850</td>\n",
       "      <td>0</td>\n",
       "      <td>0</td>\n",
       "      <td>0</td>\n",
       "      <td>0</td>\n",
       "      <td>0</td>\n",
       "      <td>0</td>\n",
       "      <td>0</td>\n",
       "      <td>0</td>\n",
       "      <td>0</td>\n",
       "      <td>10</td>\n",
       "    </tr>\n",
       "  </tbody>\n",
       "</table>\n",
       "</div>"
      ],
      "text/plain": [
       "   SNo                 Date Country  RegionCode    RegionName   Latitude  \\\n",
       "0    0  2020-02-24T18:00:00     ITA          13       Abruzzo  42.351222   \n",
       "1    1  2020-02-24T18:00:00     ITA          17    Basilicata  40.639471   \n",
       "2    2  2020-02-24T18:00:00     ITA           4  P.A. Bolzano  46.499335   \n",
       "3    3  2020-02-24T18:00:00     ITA          18      Calabria  38.905976   \n",
       "4    4  2020-02-24T18:00:00     ITA          15      Campania  40.839566   \n",
       "\n",
       "   Longitude  HospitalizedPatients  IntensiveCarePatients  \\\n",
       "0  13.398438                     0                      0   \n",
       "1  15.805148                     0                      0   \n",
       "2  11.356624                     0                      0   \n",
       "3  16.594402                     0                      0   \n",
       "4  14.250850                     0                      0   \n",
       "\n",
       "   TotalHospitalizedPatients  HomeConfinement  CurrentPositiveCases  \\\n",
       "0                          0                0                     0   \n",
       "1                          0                0                     0   \n",
       "2                          0                0                     0   \n",
       "3                          0                0                     0   \n",
       "4                          0                0                     0   \n",
       "\n",
       "   NewPositiveCases  Recovered  Deaths  TotalPositiveCases  TestsPerformed  \n",
       "0                 0          0       0                   0               5  \n",
       "1                 0          0       0                   0               0  \n",
       "2                 0          0       0                   0               1  \n",
       "3                 0          0       0                   0               1  \n",
       "4                 0          0       0                   0              10  "
      ]
     },
     "execution_count": 53,
     "metadata": {},
     "output_type": "execute_result"
    }
   ],
   "source": [
    "data.head()"
   ]
  },
  {
   "cell_type": "code",
   "execution_count": 54,
   "id": "2899be14",
   "metadata": {},
   "outputs": [
    {
     "data": {
      "text/html": [
       "<div>\n",
       "<style scoped>\n",
       "    .dataframe tbody tr th:only-of-type {\n",
       "        vertical-align: middle;\n",
       "    }\n",
       "\n",
       "    .dataframe tbody tr th {\n",
       "        vertical-align: top;\n",
       "    }\n",
       "\n",
       "    .dataframe thead th {\n",
       "        text-align: right;\n",
       "    }\n",
       "</style>\n",
       "<table border=\"1\" class=\"dataframe\">\n",
       "  <thead>\n",
       "    <tr style=\"text-align: right;\">\n",
       "      <th></th>\n",
       "      <th>SNo</th>\n",
       "      <th>Date</th>\n",
       "      <th>Country</th>\n",
       "      <th>RegionCode</th>\n",
       "      <th>RegionName</th>\n",
       "      <th>Latitude</th>\n",
       "      <th>Longitude</th>\n",
       "      <th>HospitalizedPatients</th>\n",
       "      <th>IntensiveCarePatients</th>\n",
       "      <th>TotalHospitalizedPatients</th>\n",
       "      <th>HomeConfinement</th>\n",
       "      <th>CurrentPositiveCases</th>\n",
       "      <th>NewPositiveCases</th>\n",
       "      <th>Recovered</th>\n",
       "      <th>Deaths</th>\n",
       "      <th>TotalPositiveCases</th>\n",
       "      <th>TestsPerformed</th>\n",
       "    </tr>\n",
       "  </thead>\n",
       "  <tbody>\n",
       "    <tr>\n",
       "      <th>793</th>\n",
       "      <td>793</td>\n",
       "      <td>2020-04-01T17:00:00</td>\n",
       "      <td>ITA</td>\n",
       "      <td>9</td>\n",
       "      <td>Toscana</td>\n",
       "      <td>43.769231</td>\n",
       "      <td>11.255889</td>\n",
       "      <td>1120</td>\n",
       "      <td>297</td>\n",
       "      <td>1417</td>\n",
       "      <td>3015</td>\n",
       "      <td>4432</td>\n",
       "      <td>259</td>\n",
       "      <td>182</td>\n",
       "      <td>253</td>\n",
       "      <td>4867</td>\n",
       "      <td>36575</td>\n",
       "    </tr>\n",
       "    <tr>\n",
       "      <th>794</th>\n",
       "      <td>794</td>\n",
       "      <td>2020-04-01T17:00:00</td>\n",
       "      <td>ITA</td>\n",
       "      <td>4</td>\n",
       "      <td>P.A. Trento</td>\n",
       "      <td>46.068935</td>\n",
       "      <td>11.121231</td>\n",
       "      <td>345</td>\n",
       "      <td>76</td>\n",
       "      <td>421</td>\n",
       "      <td>1062</td>\n",
       "      <td>1483</td>\n",
       "      <td>124</td>\n",
       "      <td>214</td>\n",
       "      <td>173</td>\n",
       "      <td>1870</td>\n",
       "      <td>7675</td>\n",
       "    </tr>\n",
       "    <tr>\n",
       "      <th>795</th>\n",
       "      <td>795</td>\n",
       "      <td>2020-04-01T17:00:00</td>\n",
       "      <td>ITA</td>\n",
       "      <td>10</td>\n",
       "      <td>Umbria</td>\n",
       "      <td>43.106758</td>\n",
       "      <td>12.388247</td>\n",
       "      <td>173</td>\n",
       "      <td>45</td>\n",
       "      <td>218</td>\n",
       "      <td>646</td>\n",
       "      <td>864</td>\n",
       "      <td>17</td>\n",
       "      <td>194</td>\n",
       "      <td>37</td>\n",
       "      <td>1095</td>\n",
       "      <td>9080</td>\n",
       "    </tr>\n",
       "    <tr>\n",
       "      <th>796</th>\n",
       "      <td>796</td>\n",
       "      <td>2020-04-01T17:00:00</td>\n",
       "      <td>ITA</td>\n",
       "      <td>2</td>\n",
       "      <td>Valle d'Aosta</td>\n",
       "      <td>45.737503</td>\n",
       "      <td>7.320149</td>\n",
       "      <td>85</td>\n",
       "      <td>27</td>\n",
       "      <td>112</td>\n",
       "      <td>428</td>\n",
       "      <td>540</td>\n",
       "      <td>3</td>\n",
       "      <td>32</td>\n",
       "      <td>59</td>\n",
       "      <td>631</td>\n",
       "      <td>1717</td>\n",
       "    </tr>\n",
       "    <tr>\n",
       "      <th>797</th>\n",
       "      <td>797</td>\n",
       "      <td>2020-04-01T17:00:00</td>\n",
       "      <td>ITA</td>\n",
       "      <td>5</td>\n",
       "      <td>Veneto</td>\n",
       "      <td>45.434905</td>\n",
       "      <td>12.338452</td>\n",
       "      <td>1718</td>\n",
       "      <td>350</td>\n",
       "      <td>2068</td>\n",
       "      <td>6156</td>\n",
       "      <td>8224</td>\n",
       "      <td>470</td>\n",
       "      <td>902</td>\n",
       "      <td>499</td>\n",
       "      <td>9625</td>\n",
       "      <td>112746</td>\n",
       "    </tr>\n",
       "  </tbody>\n",
       "</table>\n",
       "</div>"
      ],
      "text/plain": [
       "     SNo                 Date Country  RegionCode     RegionName   Latitude  \\\n",
       "793  793  2020-04-01T17:00:00     ITA           9        Toscana  43.769231   \n",
       "794  794  2020-04-01T17:00:00     ITA           4    P.A. Trento  46.068935   \n",
       "795  795  2020-04-01T17:00:00     ITA          10         Umbria  43.106758   \n",
       "796  796  2020-04-01T17:00:00     ITA           2  Valle d'Aosta  45.737503   \n",
       "797  797  2020-04-01T17:00:00     ITA           5         Veneto  45.434905   \n",
       "\n",
       "     Longitude  HospitalizedPatients  IntensiveCarePatients  \\\n",
       "793  11.255889                  1120                    297   \n",
       "794  11.121231                   345                     76   \n",
       "795  12.388247                   173                     45   \n",
       "796   7.320149                    85                     27   \n",
       "797  12.338452                  1718                    350   \n",
       "\n",
       "     TotalHospitalizedPatients  HomeConfinement  CurrentPositiveCases  \\\n",
       "793                       1417             3015                  4432   \n",
       "794                        421             1062                  1483   \n",
       "795                        218              646                   864   \n",
       "796                        112              428                   540   \n",
       "797                       2068             6156                  8224   \n",
       "\n",
       "     NewPositiveCases  Recovered  Deaths  TotalPositiveCases  TestsPerformed  \n",
       "793               259        182     253                4867           36575  \n",
       "794               124        214     173                1870            7675  \n",
       "795                17        194      37                1095            9080  \n",
       "796                 3         32      59                 631            1717  \n",
       "797               470        902     499                9625          112746  "
      ]
     },
     "execution_count": 54,
     "metadata": {},
     "output_type": "execute_result"
    }
   ],
   "source": [
    "data.tail()\n"
   ]
  },
  {
   "cell_type": "code",
   "execution_count": 55,
   "id": "57fa23ee",
   "metadata": {},
   "outputs": [
    {
     "data": {
      "text/plain": [
       "Index(['SNo', 'Date', 'Country', 'RegionCode', 'RegionName', 'Latitude',\n",
       "       'Longitude', 'HospitalizedPatients', 'IntensiveCarePatients',\n",
       "       'TotalHospitalizedPatients', 'HomeConfinement', 'CurrentPositiveCases',\n",
       "       'NewPositiveCases', 'Recovered', 'Deaths', 'TotalPositiveCases',\n",
       "       'TestsPerformed'],\n",
       "      dtype='object')"
      ]
     },
     "execution_count": 55,
     "metadata": {},
     "output_type": "execute_result"
    }
   ],
   "source": [
    "data.columns"
   ]
  },
  {
   "cell_type": "code",
   "execution_count": 56,
   "id": "a54fbbf4",
   "metadata": {},
   "outputs": [
    {
     "name": "stdout",
     "output_type": "stream",
     "text": [
      "<class 'pandas.core.frame.DataFrame'>\n",
      "RangeIndex: 798 entries, 0 to 797\n",
      "Data columns (total 17 columns):\n",
      " #   Column                     Non-Null Count  Dtype  \n",
      "---  ------                     --------------  -----  \n",
      " 0   SNo                        798 non-null    int64  \n",
      " 1   Date                       798 non-null    object \n",
      " 2   Country                    798 non-null    object \n",
      " 3   RegionCode                 798 non-null    int64  \n",
      " 4   RegionName                 798 non-null    object \n",
      " 5   Latitude                   798 non-null    float64\n",
      " 6   Longitude                  798 non-null    float64\n",
      " 7   HospitalizedPatients       798 non-null    int64  \n",
      " 8   IntensiveCarePatients      798 non-null    int64  \n",
      " 9   TotalHospitalizedPatients  798 non-null    int64  \n",
      " 10  HomeConfinement            798 non-null    int64  \n",
      " 11  CurrentPositiveCases       798 non-null    int64  \n",
      " 12  NewPositiveCases           798 non-null    int64  \n",
      " 13  Recovered                  798 non-null    int64  \n",
      " 14  Deaths                     798 non-null    int64  \n",
      " 15  TotalPositiveCases         798 non-null    int64  \n",
      " 16  TestsPerformed             798 non-null    int64  \n",
      "dtypes: float64(2), int64(12), object(3)\n",
      "memory usage: 106.1+ KB\n"
     ]
    }
   ],
   "source": [
    "data.info()"
   ]
  },
  {
   "cell_type": "code",
   "execution_count": 57,
   "id": "890b1409",
   "metadata": {},
   "outputs": [
    {
     "data": {
      "text/html": [
       "<div>\n",
       "<style scoped>\n",
       "    .dataframe tbody tr th:only-of-type {\n",
       "        vertical-align: middle;\n",
       "    }\n",
       "\n",
       "    .dataframe tbody tr th {\n",
       "        vertical-align: top;\n",
       "    }\n",
       "\n",
       "    .dataframe thead th {\n",
       "        text-align: right;\n",
       "    }\n",
       "</style>\n",
       "<table border=\"1\" class=\"dataframe\">\n",
       "  <thead>\n",
       "    <tr style=\"text-align: right;\">\n",
       "      <th></th>\n",
       "      <th>SNo</th>\n",
       "      <th>RegionCode</th>\n",
       "      <th>Latitude</th>\n",
       "      <th>Longitude</th>\n",
       "      <th>HospitalizedPatients</th>\n",
       "      <th>IntensiveCarePatients</th>\n",
       "      <th>TotalHospitalizedPatients</th>\n",
       "      <th>HomeConfinement</th>\n",
       "      <th>CurrentPositiveCases</th>\n",
       "      <th>NewPositiveCases</th>\n",
       "      <th>Recovered</th>\n",
       "      <th>Deaths</th>\n",
       "      <th>TotalPositiveCases</th>\n",
       "      <th>TestsPerformed</th>\n",
       "    </tr>\n",
       "  </thead>\n",
       "  <tbody>\n",
       "    <tr>\n",
       "      <th>count</th>\n",
       "      <td>798.00000</td>\n",
       "      <td>798.000000</td>\n",
       "      <td>798.000000</td>\n",
       "      <td>798.000000</td>\n",
       "      <td>798.000000</td>\n",
       "      <td>798.000000</td>\n",
       "      <td>798.000000</td>\n",
       "      <td>798.000000</td>\n",
       "      <td>798.000000</td>\n",
       "      <td>798.000000</td>\n",
       "      <td>798.000000</td>\n",
       "      <td>798.000000</td>\n",
       "      <td>798.000000</td>\n",
       "      <td>798.000000</td>\n",
       "    </tr>\n",
       "    <tr>\n",
       "      <th>mean</th>\n",
       "      <td>398.50000</td>\n",
       "      <td>10.190476</td>\n",
       "      <td>43.046293</td>\n",
       "      <td>12.225955</td>\n",
       "      <td>533.058897</td>\n",
       "      <td>82.596491</td>\n",
       "      <td>615.655388</td>\n",
       "      <td>674.998747</td>\n",
       "      <td>1290.654135</td>\n",
       "      <td>138.553885</td>\n",
       "      <td>205.706767</td>\n",
       "      <td>162.677945</td>\n",
       "      <td>1659.038847</td>\n",
       "      <td>7932.164160</td>\n",
       "    </tr>\n",
       "    <tr>\n",
       "      <th>std</th>\n",
       "      <td>230.50705</td>\n",
       "      <td>5.798698</td>\n",
       "      <td>2.490342</td>\n",
       "      <td>2.660615</td>\n",
       "      <td>1532.090841</td>\n",
       "      <td>190.735985</td>\n",
       "      <td>1719.508711</td>\n",
       "      <td>1627.086600</td>\n",
       "      <td>3282.834715</td>\n",
       "      <td>327.616052</td>\n",
       "      <td>1060.433732</td>\n",
       "      <td>700.264327</td>\n",
       "      <td>4945.629053</td>\n",
       "      <td>17067.087279</td>\n",
       "    </tr>\n",
       "    <tr>\n",
       "      <th>min</th>\n",
       "      <td>0.00000</td>\n",
       "      <td>1.000000</td>\n",
       "      <td>38.115697</td>\n",
       "      <td>7.320149</td>\n",
       "      <td>0.000000</td>\n",
       "      <td>0.000000</td>\n",
       "      <td>0.000000</td>\n",
       "      <td>0.000000</td>\n",
       "      <td>0.000000</td>\n",
       "      <td>-17.000000</td>\n",
       "      <td>0.000000</td>\n",
       "      <td>0.000000</td>\n",
       "      <td>0.000000</td>\n",
       "      <td>0.000000</td>\n",
       "    </tr>\n",
       "    <tr>\n",
       "      <th>25%</th>\n",
       "      <td>199.25000</td>\n",
       "      <td>5.000000</td>\n",
       "      <td>41.125596</td>\n",
       "      <td>11.121231</td>\n",
       "      <td>5.000000</td>\n",
       "      <td>0.000000</td>\n",
       "      <td>6.000000</td>\n",
       "      <td>8.000000</td>\n",
       "      <td>14.250000</td>\n",
       "      <td>2.000000</td>\n",
       "      <td>0.000000</td>\n",
       "      <td>0.000000</td>\n",
       "      <td>14.250000</td>\n",
       "      <td>230.000000</td>\n",
       "    </tr>\n",
       "    <tr>\n",
       "      <th>50%</th>\n",
       "      <td>398.50000</td>\n",
       "      <td>10.000000</td>\n",
       "      <td>43.616760</td>\n",
       "      <td>12.388247</td>\n",
       "      <td>64.000000</td>\n",
       "      <td>16.000000</td>\n",
       "      <td>80.500000</td>\n",
       "      <td>109.000000</td>\n",
       "      <td>205.000000</td>\n",
       "      <td>32.000000</td>\n",
       "      <td>3.000000</td>\n",
       "      <td>6.000000</td>\n",
       "      <td>210.500000</td>\n",
       "      <td>1610.000000</td>\n",
       "    </tr>\n",
       "    <tr>\n",
       "      <th>75%</th>\n",
       "      <td>597.75000</td>\n",
       "      <td>15.000000</td>\n",
       "      <td>45.434905</td>\n",
       "      <td>13.768136</td>\n",
       "      <td>325.750000</td>\n",
       "      <td>71.750000</td>\n",
       "      <td>396.250000</td>\n",
       "      <td>552.750000</td>\n",
       "      <td>998.750000</td>\n",
       "      <td>117.750000</td>\n",
       "      <td>34.000000</td>\n",
       "      <td>55.750000</td>\n",
       "      <td>1110.750000</td>\n",
       "      <td>7493.000000</td>\n",
       "    </tr>\n",
       "    <tr>\n",
       "      <th>max</th>\n",
       "      <td>797.00000</td>\n",
       "      <td>20.000000</td>\n",
       "      <td>46.499335</td>\n",
       "      <td>16.867367</td>\n",
       "      <td>11927.000000</td>\n",
       "      <td>1342.000000</td>\n",
       "      <td>13269.000000</td>\n",
       "      <td>12496.000000</td>\n",
       "      <td>25765.000000</td>\n",
       "      <td>3251.000000</td>\n",
       "      <td>11415.000000</td>\n",
       "      <td>7593.000000</td>\n",
       "      <td>44773.000000</td>\n",
       "      <td>121449.000000</td>\n",
       "    </tr>\n",
       "  </tbody>\n",
       "</table>\n",
       "</div>"
      ],
      "text/plain": [
       "             SNo  RegionCode    Latitude   Longitude  HospitalizedPatients  \\\n",
       "count  798.00000  798.000000  798.000000  798.000000            798.000000   \n",
       "mean   398.50000   10.190476   43.046293   12.225955            533.058897   \n",
       "std    230.50705    5.798698    2.490342    2.660615           1532.090841   \n",
       "min      0.00000    1.000000   38.115697    7.320149              0.000000   \n",
       "25%    199.25000    5.000000   41.125596   11.121231              5.000000   \n",
       "50%    398.50000   10.000000   43.616760   12.388247             64.000000   \n",
       "75%    597.75000   15.000000   45.434905   13.768136            325.750000   \n",
       "max    797.00000   20.000000   46.499335   16.867367          11927.000000   \n",
       "\n",
       "       IntensiveCarePatients  TotalHospitalizedPatients  HomeConfinement  \\\n",
       "count             798.000000                 798.000000       798.000000   \n",
       "mean               82.596491                 615.655388       674.998747   \n",
       "std               190.735985                1719.508711      1627.086600   \n",
       "min                 0.000000                   0.000000         0.000000   \n",
       "25%                 0.000000                   6.000000         8.000000   \n",
       "50%                16.000000                  80.500000       109.000000   \n",
       "75%                71.750000                 396.250000       552.750000   \n",
       "max              1342.000000               13269.000000     12496.000000   \n",
       "\n",
       "       CurrentPositiveCases  NewPositiveCases     Recovered       Deaths  \\\n",
       "count            798.000000        798.000000    798.000000   798.000000   \n",
       "mean            1290.654135        138.553885    205.706767   162.677945   \n",
       "std             3282.834715        327.616052   1060.433732   700.264327   \n",
       "min                0.000000        -17.000000      0.000000     0.000000   \n",
       "25%               14.250000          2.000000      0.000000     0.000000   \n",
       "50%              205.000000         32.000000      3.000000     6.000000   \n",
       "75%              998.750000        117.750000     34.000000    55.750000   \n",
       "max            25765.000000       3251.000000  11415.000000  7593.000000   \n",
       "\n",
       "       TotalPositiveCases  TestsPerformed  \n",
       "count          798.000000      798.000000  \n",
       "mean          1659.038847     7932.164160  \n",
       "std           4945.629053    17067.087279  \n",
       "min              0.000000        0.000000  \n",
       "25%             14.250000      230.000000  \n",
       "50%            210.500000     1610.000000  \n",
       "75%           1110.750000     7493.000000  \n",
       "max          44773.000000   121449.000000  "
      ]
     },
     "execution_count": 57,
     "metadata": {},
     "output_type": "execute_result"
    }
   ],
   "source": [
    "data.describe()"
   ]
  },
  {
   "cell_type": "code",
   "execution_count": 58,
   "id": "29d32c4d",
   "metadata": {},
   "outputs": [
    {
     "data": {
      "text/plain": [
       "SNo                          0\n",
       "Date                         0\n",
       "Country                      0\n",
       "RegionCode                   0\n",
       "RegionName                   0\n",
       "Latitude                     0\n",
       "Longitude                    0\n",
       "HospitalizedPatients         0\n",
       "IntensiveCarePatients        0\n",
       "TotalHospitalizedPatients    0\n",
       "HomeConfinement              0\n",
       "CurrentPositiveCases         0\n",
       "NewPositiveCases             0\n",
       "Recovered                    0\n",
       "Deaths                       0\n",
       "TotalPositiveCases           0\n",
       "TestsPerformed               0\n",
       "dtype: int64"
      ]
     },
     "execution_count": 58,
     "metadata": {},
     "output_type": "execute_result"
    }
   ],
   "source": [
    "data.isnull().sum()"
   ]
  },
  {
   "cell_type": "code",
   "execution_count": 59,
   "id": "b1ca20ba",
   "metadata": {},
   "outputs": [
    {
     "data": {
      "text/plain": [
       "Abruzzo                  38\n",
       "Molise                   38\n",
       "Valle d'Aosta            38\n",
       "Umbria                   38\n",
       "P.A. Trento              38\n",
       "Toscana                  38\n",
       "Sicilia                  38\n",
       "Sardegna                 38\n",
       "Puglia                   38\n",
       "Piemonte                 38\n",
       "Marche                   38\n",
       "Basilicata               38\n",
       "Lombardia                38\n",
       "Liguria                  38\n",
       "Lazio                    38\n",
       "Friuli Venezia Giulia    38\n",
       "Emilia-Romagna           38\n",
       "Campania                 38\n",
       "Calabria                 38\n",
       "P.A. Bolzano             38\n",
       "Veneto                   38\n",
       "Name: RegionName, dtype: int64"
      ]
     },
     "execution_count": 59,
     "metadata": {},
     "output_type": "execute_result"
    }
   ],
   "source": [
    "#EDA - 통계\n",
    "data['RegionName'].value_counts()"
   ]
  },
  {
   "cell_type": "code",
   "execution_count": 60,
   "id": "91a8aa64",
   "metadata": {},
   "outputs": [
    {
     "data": {
      "text/plain": [
       "Abruzzo                  38\n",
       "Molise                   38\n",
       "Valle d'Aosta            38\n",
       "Umbria                   38\n",
       "P.A. Trento              38\n",
       "Toscana                  38\n",
       "Sicilia                  38\n",
       "Sardegna                 38\n",
       "Puglia                   38\n",
       "Piemonte                 38\n",
       "Marche                   38\n",
       "Basilicata               38\n",
       "Lombardia                38\n",
       "Liguria                  38\n",
       "Lazio                    38\n",
       "Friuli Venezia Giulia    38\n",
       "Emilia-Romagna           38\n",
       "Campania                 38\n",
       "Calabria                 38\n",
       "P.A. Bolzano             38\n",
       "Veneto                   38\n",
       "Name: RegionName, dtype: int64"
      ]
     },
     "execution_count": 60,
     "metadata": {},
     "output_type": "execute_result"
    }
   ],
   "source": [
    "data['RegionName'].value_counts()"
   ]
  },
  {
   "cell_type": "code",
   "execution_count": 61,
   "id": "a0ea28e5",
   "metadata": {},
   "outputs": [
    {
     "data": {
      "text/plain": [
       "ITA    798\n",
       "Name: Country, dtype: int64"
      ]
     },
     "execution_count": 61,
     "metadata": {},
     "output_type": "execute_result"
    }
   ],
   "source": [
    "data['Country'].value_counts()"
   ]
  },
  {
   "cell_type": "code",
   "execution_count": 62,
   "id": "5942d66d",
   "metadata": {},
   "outputs": [
    {
     "data": {
      "text/plain": [
       "798"
      ]
     },
     "execution_count": 62,
     "metadata": {},
     "output_type": "execute_result"
    }
   ],
   "source": [
    "data['RegionName'].value_counts().sum()"
   ]
  },
  {
   "cell_type": "code",
   "execution_count": 63,
   "id": "9424225b",
   "metadata": {},
   "outputs": [
    {
     "data": {
      "text/plain": [
       "798"
      ]
     },
     "execution_count": 63,
     "metadata": {},
     "output_type": "execute_result"
    }
   ],
   "source": [
    "data['Country'].value_counts().sum()"
   ]
  },
  {
   "cell_type": "code",
   "execution_count": 64,
   "id": "93d4d5ea",
   "metadata": {},
   "outputs": [
    {
     "name": "stdout",
     "output_type": "stream",
     "text": [
      "총 감염자 1323913\n",
      "전체 검사자 수 6329867\n",
      "사망자 수 129817\n",
      "회복자 수 164154\n"
     ]
    }
   ],
   "source": [
    "print(\"총 감염자\", data['TotalPositiveCases'].sum())\n",
    "print(\"전체 검사자 수\", data['TestsPerformed'].sum())\n",
    "print(\"사망자 수\", data['Deaths'].sum())\n",
    "print(\"회복자 수\", data['Recovered'].sum())"
   ]
  },
  {
   "cell_type": "code",
   "execution_count": 65,
   "id": "37c3c956",
   "metadata": {},
   "outputs": [
    {
     "data": {
      "text/plain": [
       "SNo                                                                     318003\n",
       "Date                         2020-02-24T18:00:002020-02-24T18:00:002020-02-...\n",
       "Country                      ITAITAITAITAITAITAITAITAITAITAITAITAITAITAITAI...\n",
       "RegionCode                                                                8132\n",
       "RegionName                   AbruzzoBasilicataP.A. BolzanoCalabriaCampaniaE...\n",
       "Latitude                                                          34350.941591\n",
       "Longitude                                                          9756.312476\n",
       "HospitalizedPatients                                                    425381\n",
       "IntensiveCarePatients                                                    65912\n",
       "TotalHospitalizedPatients                                               491293\n",
       "HomeConfinement                                                         538649\n",
       "CurrentPositiveCases                                                   1029942\n",
       "NewPositiveCases                                                        110566\n",
       "Recovered                                                               164154\n",
       "Deaths                                                                  129817\n",
       "TotalPositiveCases                                                     1323913\n",
       "TestsPerformed                                                         6329867\n",
       "dtype: object"
      ]
     },
     "execution_count": 65,
     "metadata": {},
     "output_type": "execute_result"
    }
   ],
   "source": [
    "data.sum()"
   ]
  },
  {
   "cell_type": "code",
   "execution_count": 66,
   "id": "a01d4ae4",
   "metadata": {},
   "outputs": [
    {
     "data": {
      "text/html": [
       "<div>\n",
       "<style scoped>\n",
       "    .dataframe tbody tr th:only-of-type {\n",
       "        vertical-align: middle;\n",
       "    }\n",
       "\n",
       "    .dataframe tbody tr th {\n",
       "        vertical-align: top;\n",
       "    }\n",
       "\n",
       "    .dataframe thead th {\n",
       "        text-align: right;\n",
       "    }\n",
       "</style>\n",
       "<table border=\"1\" class=\"dataframe\">\n",
       "  <thead>\n",
       "    <tr style=\"text-align: right;\">\n",
       "      <th></th>\n",
       "      <th>CurrentPositiveCases</th>\n",
       "      <th>NewPositiveCases</th>\n",
       "      <th>Recovered</th>\n",
       "      <th>Deaths</th>\n",
       "      <th>TotalPositiveCases</th>\n",
       "      <th>TestsPerformed</th>\n",
       "    </tr>\n",
       "  </thead>\n",
       "  <tbody>\n",
       "    <tr>\n",
       "      <th>CurrentPositiveCases</th>\n",
       "      <td>1.000000</td>\n",
       "      <td>0.892083</td>\n",
       "      <td>0.903833</td>\n",
       "      <td>0.937337</td>\n",
       "      <td>0.990303</td>\n",
       "      <td>0.886860</td>\n",
       "    </tr>\n",
       "    <tr>\n",
       "      <th>NewPositiveCases</th>\n",
       "      <td>0.892083</td>\n",
       "      <td>1.000000</td>\n",
       "      <td>0.760710</td>\n",
       "      <td>0.775184</td>\n",
       "      <td>0.865022</td>\n",
       "      <td>0.755386</td>\n",
       "    </tr>\n",
       "    <tr>\n",
       "      <th>Recovered</th>\n",
       "      <td>0.903833</td>\n",
       "      <td>0.760710</td>\n",
       "      <td>1.000000</td>\n",
       "      <td>0.986324</td>\n",
       "      <td>0.954026</td>\n",
       "      <td>0.741827</td>\n",
       "    </tr>\n",
       "    <tr>\n",
       "      <th>Deaths</th>\n",
       "      <td>0.937337</td>\n",
       "      <td>0.775184</td>\n",
       "      <td>0.986324</td>\n",
       "      <td>1.000000</td>\n",
       "      <td>0.975269</td>\n",
       "      <td>0.761221</td>\n",
       "    </tr>\n",
       "    <tr>\n",
       "      <th>TotalPositiveCases</th>\n",
       "      <td>0.990303</td>\n",
       "      <td>0.865022</td>\n",
       "      <td>0.954026</td>\n",
       "      <td>0.975269</td>\n",
       "      <td>1.000000</td>\n",
       "      <td>0.855529</td>\n",
       "    </tr>\n",
       "    <tr>\n",
       "      <th>TestsPerformed</th>\n",
       "      <td>0.886860</td>\n",
       "      <td>0.755386</td>\n",
       "      <td>0.741827</td>\n",
       "      <td>0.761221</td>\n",
       "      <td>0.855529</td>\n",
       "      <td>1.000000</td>\n",
       "    </tr>\n",
       "  </tbody>\n",
       "</table>\n",
       "</div>"
      ],
      "text/plain": [
       "                      CurrentPositiveCases  NewPositiveCases  Recovered  \\\n",
       "CurrentPositiveCases              1.000000          0.892083   0.903833   \n",
       "NewPositiveCases                  0.892083          1.000000   0.760710   \n",
       "Recovered                         0.903833          0.760710   1.000000   \n",
       "Deaths                            0.937337          0.775184   0.986324   \n",
       "TotalPositiveCases                0.990303          0.865022   0.954026   \n",
       "TestsPerformed                    0.886860          0.755386   0.741827   \n",
       "\n",
       "                        Deaths  TotalPositiveCases  TestsPerformed  \n",
       "CurrentPositiveCases  0.937337            0.990303        0.886860  \n",
       "NewPositiveCases      0.775184            0.865022        0.755386  \n",
       "Recovered             0.986324            0.954026        0.741827  \n",
       "Deaths                1.000000            0.975269        0.761221  \n",
       "TotalPositiveCases    0.975269            1.000000        0.855529  \n",
       "TestsPerformed        0.761221            0.855529        1.000000  "
      ]
     },
     "execution_count": 66,
     "metadata": {},
     "output_type": "execute_result"
    }
   ],
   "source": [
    "data.drop(['Latitude','Longitude','Country','Date','HospitalizedPatients',  'IntensiveCarePatients', 'TotalHospitalizedPatients','HomeConfinement','RegionCode','SNo'], axis=1, inplace=True)\n",
    "\n",
    "data.corr()"
   ]
  },
  {
   "cell_type": "code",
   "execution_count": null,
   "id": "a4cdafe7",
   "metadata": {},
   "outputs": [],
   "source": [
    "'''pandas 통계 관련 메서드\n",
    "이상으로 pandas에서 제공하는 통계 관련 메서드를 정리했으니 한번 확인해 보세요.\n",
    "\n",
    "count(): NA를 제외한 수를 반환합니다.\n",
    "describe(): 요약 통계를 계산합니다.\n",
    "min(), max(): 최소, 최댓값을 계산합니다.\n",
    "sum(): 합을 계산합니다.\n",
    "mean(): 평균을 계산합니다.\n",
    "median(): 중앙값을 계산합니다.\n",
    "var(): 분산을 계산합니다.\n",
    "std(): 표준편차를 계산합니다.\n",
    "argmin(), argmax(): 최소, 최댓값을 가지고 있는 값을 반환합니다.\n",
    "idxmin(), idxmax(): 최소, 최댓값을 가지고 있는 인덱스를 반환합니다.\n",
    "cumsum(): 누적 합을 계산합니다.\n",
    "'''"
   ]
  }
 ],
 "metadata": {
  "kernelspec": {
   "display_name": "Python 3 (ipykernel)",
   "language": "python",
   "name": "python3"
  },
  "language_info": {
   "codemirror_mode": {
    "name": "ipython",
    "version": 3
   },
   "file_extension": ".py",
   "mimetype": "text/x-python",
   "name": "python",
   "nbconvert_exporter": "python",
   "pygments_lexer": "ipython3",
   "version": "3.9.7"
  }
 },
 "nbformat": 4,
 "nbformat_minor": 5
}
