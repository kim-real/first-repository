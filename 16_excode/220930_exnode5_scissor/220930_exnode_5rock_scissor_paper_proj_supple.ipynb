{
 "cells": [
  {
   "cell_type": "markdown",
   "id": "c1b29606",
   "metadata": {},
   "source": [
    "    exnode 5. play rock scissor paper \n",
    "     . data 확인 : 이미지확인 , data 전처리 실시(정규화)\n",
    "           2) 데이터분리 : train, test 분리 \n",
    "             . train(1500장) : /aiffel/rock_scissor_paper/220930_exnode_5/scissors(rock,paper)\n",
    "    \n",
    "    1. 절차 \n",
    "        0) package loding\n",
    "        1) 데이터 준비 : 조원들과 함께 가위,바위,보의 이미지를 합동으로 만들었다.\n",
    "          . 이미지 : 2100장( 1명당 300장의 이미지 작성*7명 )\n",
    "            ..데이터분리 : train, test 분리 \n",
    "              ... train(1500장) : /aiffel/rock_scissor_paper/220930_exnode_5/scissors(rock,paper)\n",
    "              ... test(600장)   : /aiffel/rock_scissor_paper/220930_exnode_5/test/scissors(rock,paper)   \n",
    "        2) 데이터 사이즈 변경 : train , test\n",
    "        3) 모델설계하기 : Conv2D, MaxPooling2D, Flatten, Dense\n",
    "          . Conv2D\n",
    "          . MaxPooling2D\n",
    "          . Flatten\n",
    "          . Dense\n",
    "        4) 모델 학습 \n",
    "          . 네트워크 입력형태 만들기\n",
    "          . 학습시키기\n",
    "        5) test data 준비\n",
    "        6) 성능확인 \n",
    "          . 예측한 값과 실제 값 확인\n",
    "          . 데이터로 확인\n",
    "          . model이 추론해 낸 이미지와 실제 라벨의 값이 다른 경우\n",
    "    2. 결론 & 배운점"
   ]
  },
  {
   "cell_type": "code",
   "execution_count": 85,
   "id": "bbf0db33",
   "metadata": {},
   "outputs": [],
   "source": [
    "#0) package loding\n",
    "import tensorflow as tf\n",
    "from tensorflow import keras\n",
    "import numpy as np\n",
    "import matplotlib.pyplot as plt\n",
    "from PIL import Image\n",
    "import glob\n",
    "import os"
   ]
  },
  {
   "cell_type": "code",
   "execution_count": 86,
   "id": "b53da8a0",
   "metadata": {},
   "outputs": [
    {
     "name": "stdout",
     "output_type": "stream",
     "text": [
      "500  images to be resized.\n",
      "500  images resized.\n",
      "가위 이미지 resize 완료!\n"
     ]
    }
   ],
   "source": [
    "#2-1 데이터 사이즈 변경 : 가위 (이미지가 저장된 디렉토리 아래의 모든 jpg 파일을 읽어들여서\n",
    "def resize_images(img_path):\n",
    "    images=glob.glob(img_path + \"/*.jpg\")  \n",
    "    \n",
    "    print(len(images), \" images to be resized.\")\n",
    "    #print(images.shape)\n",
    "    # 파일마다 모두 28 사이즈로 바꾸어 저장합니다.\n",
    "    target_size=(28,28)\n",
    "    for img in images:\n",
    "        old_img=Image.open(img)\n",
    "        new_img=old_img.resize(target_size,Image.ANTIALIAS)\n",
    "        new_img.save(img, \"JPEG\")\n",
    "    \n",
    "    print(len(images), \" images resized.\")\n",
    "    \n",
    "# 가위 이미지가 저장된 디렉토리 아래의 모든 jpg 파일을 읽어들여서\n",
    "image_dir_path = os.getenv(\"HOME\") + \"/aiffel/rock_scissor_paper/220930_exnode_5/scissors\"\n",
    "resize_images(image_dir_path)\n",
    "\n",
    "print(\"가위 이미지 resize 완료!\")"
   ]
  },
  {
   "cell_type": "code",
   "execution_count": 87,
   "id": "45a4876a",
   "metadata": {},
   "outputs": [
    {
     "name": "stdout",
     "output_type": "stream",
     "text": [
      "500  images to be resized.\n",
      "500  images resized.\n",
      "바위 이미지 resize 완료!\n"
     ]
    }
   ],
   "source": [
    "#2-2 데이터 사이즈 변경 : 바위 (이미지가 저장된 디렉토리 아래의 모든 jpg 파일을 읽어들여서\n",
    "def resize_images(img_path):\n",
    "    images=glob.glob(img_path + \"/*.jpg\")  \n",
    "    \n",
    "    print(len(images), \" images to be resized.\")\n",
    "\n",
    "    # 파일마다 모두 28 사이즈로 바꾸어 저장합니다.\n",
    "    target_size=(28,28)\n",
    "    for img in images:\n",
    "        old_img=Image.open(img)\n",
    "        new_img=old_img.resize(target_size,Image.ANTIALIAS)\n",
    "        new_img.save(img, \"JPEG\")\n",
    "    \n",
    "    print(len(images), \" images resized.\")\n",
    "    \n",
    "# 바위 이미지가 저장된 디렉토리 아래의 모든 jpg 파일을 읽어들여서\n",
    "image_dir_path = os.getenv(\"HOME\") + \"/aiffel/rock_scissor_paper/220930_exnode_5/rock\"\n",
    "resize_images(image_dir_path)\n",
    "\n",
    "print(\"바위 이미지 resize 완료!\")"
   ]
  },
  {
   "cell_type": "code",
   "execution_count": 88,
   "id": "31513ab7",
   "metadata": {},
   "outputs": [
    {
     "name": "stdout",
     "output_type": "stream",
     "text": [
      "500  images to be resized.\n",
      "500  images resized.\n",
      "보 이미지 resize 완료!\n"
     ]
    }
   ],
   "source": [
    "#2-3 데이터 사이즈 변경 : 보 ( 이미지가 저장된 디렉토리 아래의 모든 jpg 파일을 읽어들여서\n",
    "def resize_images(img_path):\n",
    "    images=glob.glob(img_path + \"/*.jpg\")  \n",
    "    \n",
    "    print(len(images), \" images to be resized.\")\n",
    "\n",
    "    # 파일마다 모두 28 사이즈로 바꾸어 저장합니다.\n",
    "    target_size=(28,28)\n",
    "    for img in images:\n",
    "        old_img=Image.open(img)\n",
    "        new_img=old_img.resize(target_size,Image.ANTIALIAS)\n",
    "        new_img.save(img, \"JPEG\")\n",
    "    \n",
    "    print(len(images), \" images resized.\")\n",
    "    \n",
    "# 바위 이미지가 저장된 디렉토리 아래의 모든 jpg 파일을 읽어들여서\n",
    "image_dir_path = os.getenv(\"HOME\") + \"/aiffel/rock_scissor_paper/220930_exnode_5/paper\"\n",
    "resize_images(image_dir_path)\n",
    "\n",
    "print(\"보 이미지 resize 완료!\")"
   ]
  },
  {
   "cell_type": "code",
   "execution_count": 89,
   "id": "a5d1222b",
   "metadata": {},
   "outputs": [
    {
     "name": "stdout",
     "output_type": "stream",
     "text": [
      "학습데이터(x_train)의 이미지 개수는 1000 입니다.\n",
      "x_train shape: (1500, 28, 28, 3)\n",
      "y_train shape: (1500,)\n"
     ]
    }
   ],
   "source": [
    "#2-4) 데이터 분리 \n",
    "def load_data(img_path, number_of_data=1500):  # 가위바위보 이미지 개수 총합에 주의하세요.\n",
    "    # 가위 : 0, 바위 : 1, 보 : 2\n",
    "    img_size=28\n",
    "    color=3\n",
    "    #이미지 데이터와 라벨(가위 : 0, 바위 : 1, 보 : 2) 데이터를 담을 행렬(matrix) 영역을 생성합니다.\n",
    "    imgs=np.zeros(number_of_data*img_size*img_size*color,dtype=np.int32).reshape(number_of_data,img_size,img_size,color)\n",
    "    labels=np.zeros(number_of_data,dtype=np.int32)\n",
    "\n",
    "    idx=0\n",
    "    for file in glob.iglob(img_path+'/scissor/*.jpg'):\n",
    "        img = np.array(Image.open(file),dtype=np.int32)\n",
    "        imgs[idx,:,:,:]=img    # 데이터 영역에 이미지 행렬을 복사\n",
    "        labels[idx]=0   # 가위 : 0\n",
    "        idx=idx+1\n",
    "\n",
    "    for file in glob.iglob(img_path+'/rock/*.jpg'):\n",
    "        img = np.array(Image.open(file),dtype=np.int32)\n",
    "        imgs[idx,:,:,:]=img    # 데이터 영역에 이미지 행렬을 복사\n",
    "        labels[idx]=1   # 바위 : 1\n",
    "        idx=idx+1  \n",
    "    \n",
    "    for file in glob.iglob(img_path+'/paper/*.jpg'):\n",
    "        img = np.array(Image.open(file),dtype=np.int32)\n",
    "        imgs[idx,:,:,:]=img    # 데이터 영역에 이미지 행렬을 복사\n",
    "        labels[idx]=2   # 보 : 2\n",
    "        idx=idx+1\n",
    "        \n",
    "    print(\"학습데이터(x_train)의 이미지 개수는\", idx,\"입니다.\")\n",
    "    return imgs, labels\n",
    "\n",
    "image_dir_path = os.getenv(\"HOME\") + \"/aiffel/rock_scissor_paper/220930_exnode_5\"\n",
    "(x_train, y_train)=load_data(image_dir_path)\n",
    "#supple\n",
    "x_train_norm = x_train/255.0   # 입력은 0~1 사이의 값으로 정규화\n",
    "\n",
    "print(\"x_train shape: {}\".format(x_train.shape))\n",
    "print(\"y_train shape: {}\".format(y_train.shape))"
   ]
  },
  {
   "cell_type": "code",
   "execution_count": 90,
   "id": "e39f130e",
   "metadata": {},
   "outputs": [
    {
     "name": "stdout",
     "output_type": "stream",
     "text": [
      "라벨:  1\n"
     ]
    },
    {
     "data": {
      "image/png": "[encoded data removed]",
      "text/plain": [
       "<Figure size 432x288 with 1 Axes>"
      ]
     },
     "metadata": {
      "needs_background": "light"
     },
     "output_type": "display_data"
    }
   ],
   "source": [
    "plt.imshow(x_train[0])\n",
    "print('라벨: ', y_train[0])"
   ]
  },
  {
   "cell_type": "code",
   "execution_count": 91,
   "id": "bda9c6d4",
   "metadata": {},
   "outputs": [
    {
     "name": "stdout",
     "output_type": "stream",
     "text": [
      "Model: \"sequential_3\"\n",
      "_________________________________________________________________\n",
      "Layer (type)                 Output Shape              Param #   \n",
      "=================================================================\n",
      "conv2d_6 (Conv2D)            (None, 26, 26, 32)        896       \n",
      "_________________________________________________________________\n",
      "max_pooling2d_6 (MaxPooling2 (None, 13, 13, 32)        0         \n",
      "_________________________________________________________________\n",
      "conv2d_7 (Conv2D)            (None, 11, 11, 64)        18496     \n",
      "_________________________________________________________________\n",
      "max_pooling2d_7 (MaxPooling2 (None, 5, 5, 64)          0         \n",
      "_________________________________________________________________\n",
      "flatten_3 (Flatten)          (None, 1600)              0         \n",
      "_________________________________________________________________\n",
      "dense_6 (Dense)              (None, 32)                51232     \n",
      "_________________________________________________________________\n",
      "dense_7 (Dense)              (None, 3)                 99        \n",
      "=================================================================\n",
      "Total params: 70,723\n",
      "Trainable params: 70,723\n",
      "Non-trainable params: 0\n",
      "_________________________________________________________________\n"
     ]
    }
   ],
   "source": [
    "#3) 모델설계하기\n",
    "# Hint! model의 입력/출력부에 특히 유의해 주세요. 가위바위보 데이터셋은 MNIST 데이터셋과 어떤 점이 달라졌나요?\n",
    "n_channel_1=32\n",
    "n_channel_2=64\n",
    "n_dense=32\n",
    "n_train_epoch=30\n",
    "\n",
    "model=keras.models.Sequential()\n",
    "model.add(keras.layers.Conv2D(n_channel_1, (3,3), activation='relu', input_shape=(28,28,3)))\n",
    "model.add(keras.layers.MaxPool2D(2,2))\n",
    "model.add(keras.layers.Conv2D(n_channel_2, (3,3), activation='relu'))\n",
    "model.add(keras.layers.MaxPooling2D((2,2)))\n",
    "model.add(keras.layers.Flatten())\n",
    "model.add(keras.layers.Dense(n_dense, activation='relu'))\n",
    "model.add(keras.layers.Dense(3, activation='softmax'))\n",
    "\n",
    "\n",
    "model.summary()"
   ]
  },
  {
   "cell_type": "code",
   "execution_count": 92,
   "id": "7a6be27f",
   "metadata": {},
   "outputs": [
    {
     "name": "stdout",
     "output_type": "stream",
     "text": [
      "Epoch 1/30\n",
      "47/47 [==============================] - 0s 3ms/step - loss: 0.8166 - accuracy: 0.6107\n",
      "Epoch 2/30\n",
      "47/47 [==============================] - 0s 3ms/step - loss: 0.4949 - accuracy: 0.6753\n",
      "Epoch 3/30\n",
      "47/47 [==============================] - 0s 3ms/step - loss: 0.4657 - accuracy: 0.6740\n",
      "Epoch 4/30\n",
      "47/47 [==============================] - 0s 3ms/step - loss: 0.4567 - accuracy: 0.6947\n",
      "Epoch 5/30\n",
      "47/47 [==============================] - 0s 3ms/step - loss: 0.4303 - accuracy: 0.7833\n",
      "Epoch 6/30\n",
      "47/47 [==============================] - 0s 3ms/step - loss: 0.3751 - accuracy: 0.8367\n",
      "Epoch 7/30\n",
      "47/47 [==============================] - 0s 3ms/step - loss: 0.3220 - accuracy: 0.8653\n",
      "Epoch 8/30\n",
      "47/47 [==============================] - 0s 3ms/step - loss: 0.2859 - accuracy: 0.8733\n",
      "Epoch 9/30\n",
      "47/47 [==============================] - 0s 3ms/step - loss: 0.2464 - accuracy: 0.8980\n",
      "Epoch 10/30\n",
      "47/47 [==============================] - 0s 3ms/step - loss: 0.2390 - accuracy: 0.8860\n",
      "Epoch 11/30\n",
      "47/47 [==============================] - 0s 3ms/step - loss: 0.2246 - accuracy: 0.9073\n",
      "Epoch 12/30\n",
      "47/47 [==============================] - 0s 3ms/step - loss: 0.2080 - accuracy: 0.9113\n",
      "Epoch 13/30\n",
      "47/47 [==============================] - 0s 3ms/step - loss: 0.2023 - accuracy: 0.9133\n",
      "Epoch 14/30\n",
      "47/47 [==============================] - 0s 3ms/step - loss: 0.2034 - accuracy: 0.9113\n",
      "Epoch 15/30\n",
      "47/47 [==============================] - 0s 3ms/step - loss: 0.1912 - accuracy: 0.9160\n",
      "Epoch 16/30\n",
      "47/47 [==============================] - 0s 3ms/step - loss: 0.1824 - accuracy: 0.9267\n",
      "Epoch 17/30\n",
      "47/47 [==============================] - 0s 3ms/step - loss: 0.1680 - accuracy: 0.9293\n",
      "Epoch 18/30\n",
      "47/47 [==============================] - 0s 3ms/step - loss: 0.1575 - accuracy: 0.9360\n",
      "Epoch 19/30\n",
      "47/47 [==============================] - 0s 3ms/step - loss: 0.1459 - accuracy: 0.9420\n",
      "Epoch 20/30\n",
      "47/47 [==============================] - 0s 3ms/step - loss: 0.1450 - accuracy: 0.9493\n",
      "Epoch 21/30\n",
      "47/47 [==============================] - 0s 3ms/step - loss: 0.1346 - accuracy: 0.9473\n",
      "Epoch 22/30\n",
      "47/47 [==============================] - 0s 3ms/step - loss: 0.1326 - accuracy: 0.9493\n",
      "Epoch 23/30\n",
      "47/47 [==============================] - 0s 3ms/step - loss: 0.1244 - accuracy: 0.9533\n",
      "Epoch 24/30\n",
      "47/47 [==============================] - 0s 3ms/step - loss: 0.1156 - accuracy: 0.9593\n",
      "Epoch 25/30\n",
      "47/47 [==============================] - 0s 3ms/step - loss: 0.1249 - accuracy: 0.9587\n",
      "Epoch 26/30\n",
      "47/47 [==============================] - 0s 3ms/step - loss: 0.1137 - accuracy: 0.9573\n",
      "Epoch 27/30\n",
      "47/47 [==============================] - 0s 3ms/step - loss: 0.1001 - accuracy: 0.9667\n",
      "Epoch 28/30\n",
      "47/47 [==============================] - 0s 3ms/step - loss: 0.1088 - accuracy: 0.9547\n",
      "Epoch 29/30\n",
      "47/47 [==============================] - 0s 3ms/step - loss: 0.1017 - accuracy: 0.9620\n",
      "Epoch 30/30\n",
      "47/47 [==============================] - 0s 3ms/step - loss: 0.1036 - accuracy: 0.9600\n"
     ]
    },
    {
     "data": {
      "text/plain": [
       "<keras.callbacks.History at 0x7f090f6b9070>"
      ]
     },
     "execution_count": 92,
     "metadata": {},
     "output_type": "execute_result"
    }
   ],
   "source": [
    "#4-1) 모델 학습 : 학습시키기\n",
    "# model을 학습시키는 코드를 직접 작성해 보세요.\n",
    "# Hint! model.compile()과 model.fit()을 사용해 봅시다.\n",
    "model.compile(optimizer='adam',\n",
    "             loss='sparse_categorical_crossentropy',\n",
    "             metrics=['accuracy'])\n",
    "\n",
    "# 모델 훈련\n",
    "#model.fit(x_train_reshaped, y_train, epochs=n_train_epoch)\n",
    "\n",
    "\n",
    "model.fit(x_train_norm, y_train, epochs=n_train_epoch)"
   ]
  },
  {
   "cell_type": "code",
   "execution_count": 93,
   "id": "c969fc0a",
   "metadata": {},
   "outputs": [
    {
     "name": "stdout",
     "output_type": "stream",
     "text": [
      "200  images to be resized.\n",
      "200  images resized.\n",
      "가위 이미지 resize 완료!\n"
     ]
    }
   ],
   "source": [
    "#5) 성능확인 .. test data 준비 .. 가위 ( 이미지가 저장된 디렉토리 아래의 모든 jpg 파일을 읽어들여서\n",
    "def resize_images(img_path):\n",
    "    images=glob.glob(img_path + \"/*.jpg\")  \n",
    "    \n",
    "    print(len(images), \" images to be resized.\")\n",
    "    #print(images.shape)\n",
    "    # 파일마다 모두 112 사이즈로 바꾸어 저장합니다.\n",
    "    target_size=(28,28)\n",
    "    for img in images:\n",
    "        old_img=Image.open(img)\n",
    "        new_img=old_img.resize(target_size,Image.ANTIALIAS)\n",
    "        new_img.save(img, \"JPEG\")\n",
    "    \n",
    "    print(len(images), \" images resized.\")\n",
    "    \n",
    "# 가위 이미지가 저장된 디렉토리 아래의 모든 jpg 파일을 읽어들여서\n",
    "image_dir_path = os.getenv(\"HOME\") + \"/aiffel/rock_scissor_paper/220930_exnode_5/test/scissors\"\n",
    "resize_images(image_dir_path)\n",
    "\n",
    "print(\"가위 이미지 resize 완료!\")"
   ]
  },
  {
   "cell_type": "code",
   "execution_count": 94,
   "id": "097baeed",
   "metadata": {},
   "outputs": [
    {
     "name": "stdout",
     "output_type": "stream",
     "text": [
      "200  images to be resized.\n",
      "200  images resized.\n",
      "바위 이미지 resize 완료!\n"
     ]
    }
   ],
   "source": [
    "#5) 성능확인 .. test data 준비 .. 바위 ( 이미지가 저장된 디렉토리 아래의 모든 jpg 파일을 읽어들여서\n",
    "def resize_images(img_path):\n",
    "    images=glob.glob(img_path + \"/*.jpg\")  \n",
    "    \n",
    "    print(len(images), \" images to be resized.\")\n",
    "\n",
    "    # 파일마다 모두 112,112 사이즈로 바꾸어 저장합니다.\n",
    "    target_size=(28,28)\n",
    "    for img in images:\n",
    "        old_img=Image.open(img)\n",
    "        new_img=old_img.resize(target_size,Image.ANTIALIAS)\n",
    "        new_img.save(img, \"JPEG\")\n",
    "    \n",
    "    print(len(images), \" images resized.\")\n",
    "    \n",
    "# 바위 이미지가 저장된 디렉토리 아래의 모든 jpg 파일을 읽어들여서\n",
    "image_dir_path = os.getenv(\"HOME\") + \"/aiffel/rock_scissor_paper/220930_exnode_5/test/rock\"\n",
    "resize_images(image_dir_path)\n",
    "\n",
    "print(\"바위 이미지 resize 완료!\")"
   ]
  },
  {
   "cell_type": "code",
   "execution_count": 95,
   "id": "6e2ea7aa",
   "metadata": {},
   "outputs": [
    {
     "name": "stdout",
     "output_type": "stream",
     "text": [
      "200  images to be resized.\n",
      "200  images resized.\n",
      "보 이미지 resize 완료!\n"
     ]
    }
   ],
   "source": [
    "#5) 성능확인 .. test data 준비 .. 보( 이미지가 저장된 디렉토리 아래의 모든 jpg 파일을 읽어들여서\n",
    "def resize_images(img_path):\n",
    "    images=glob.glob(img_path + \"/*.jpg\")  \n",
    "    \n",
    "    print(len(images), \" images to be resized.\")\n",
    "\n",
    "    # 파일마다 모두 112,112사이즈로 바꾸어 저장합니다.\n",
    "    target_size=(28,28)\n",
    "    for img in images:\n",
    "        old_img=Image.open(img)\n",
    "        new_img=old_img.resize(target_size,Image.ANTIALIAS)\n",
    "        new_img.save(img, \"JPEG\")\n",
    "    \n",
    "    print(len(images), \" images resized.\")\n",
    "    \n",
    "# 바위 이미지가 저장된 디렉토리 아래의 모든 jpg 파일을 읽어들여서\n",
    "image_dir_path = os.getenv(\"HOME\") + \"/aiffel/rock_scissor_paper/220930_exnode_5/test/paper\"\n",
    "resize_images(image_dir_path)\n",
    "\n",
    "print(\"보 이미지 resize 완료!\")\n"
   ]
  },
  {
   "cell_type": "code",
   "execution_count": 96,
   "id": "3f520181",
   "metadata": {},
   "outputs": [
    {
     "name": "stdout",
     "output_type": "stream",
     "text": [
      "학습데이터(x_train)의 이미지 개수는 600 입니다.\n",
      "x_test shape: (600, 28, 28, 3)\n",
      "y_test shape: (600,)\n"
     ]
    }
   ],
   "source": [
    "#5) 성능확인 .. test data 통합\n",
    "def load_data(img_path, number_of_data=600):  # 가위바위보 이미지 개수 총합에 주의하세요.\n",
    "    # 가위 : 0, 바위 : 1, 보 : 2\n",
    "    img_size=28\n",
    "    color=3\n",
    "    #이미지 데이터와 라벨(가위 : 0, 바위 : 1, 보 : 2) 데이터를 담을 행렬(matrix) 영역을 생성합니다.\n",
    "    imgs=np.zeros(number_of_data*img_size*img_size*color,dtype=np.int32).reshape(number_of_data,img_size,img_size,color)\n",
    "    labels=np.zeros(number_of_data,dtype=np.int32)\n",
    "\n",
    "    idx=0\n",
    "    for file in glob.iglob(img_path+'/scissors/*.jpg'):\n",
    "        img = np.array(Image.open(file),dtype=np.int32)\n",
    "        imgs[idx,:,:,:]=img    # 데이터 영역에 이미지 행렬을 복사\n",
    "        labels[idx]=0   # 가위 : 0\n",
    "        idx=idx+1\n",
    "\n",
    "    for file in glob.iglob(img_path+'/rock/*.jpg'):\n",
    "        img = np.array(Image.open(file),dtype=np.int32)\n",
    "        imgs[idx,:,:,:]=img    # 데이터 영역에 이미지 행렬을 복사\n",
    "        labels[idx]=1   # 바위 : 1\n",
    "        idx=idx+1  \n",
    "    \n",
    "    for file in glob.iglob(img_path+'/paper/*.jpg'):\n",
    "        img = np.array(Image.open(file),dtype=np.int32)\n",
    "        imgs[idx,:,:,:]=img    # 데이터 영역에 이미지 행렬을 복사\n",
    "        labels[idx]=2   # 보 : 2\n",
    "        idx=idx+1\n",
    "        \n",
    "    print(\"평가데이터(x-test)의 이미지 개수는\", idx,\"입니다.\")\n",
    "    return imgs, labels\n",
    "\n",
    "image_dir_path = os.getenv(\"HOME\") + \"/aiffel/rock_scissor_paper/220930_exnode_5/test\"\n",
    "\n",
    "(x_test, y_test)=load_data(image_dir_path)\n",
    "x_test_norm = x_test/255.0   # 입력은 0~1 사이의 값으로 정규화\n",
    "\n",
    "print(\"x_test shape: {}\".format(x_test.shape))\n",
    "print(\"y_test shape: {}\".format(y_test.shape))"
   ]
  },
  {
   "cell_type": "code",
   "execution_count": 97,
   "id": "91b1ee94",
   "metadata": {},
   "outputs": [
    {
     "name": "stdout",
     "output_type": "stream",
     "text": [
      "19/19 - 0s - loss: 4.5034 - accuracy: 0.5083\n",
      "test_loss: 4.503433704376221 \n",
      "test_accuracy: 0.5083333253860474\n"
     ]
    }
   ],
   "source": [
    "#6) 성능확인\n",
    "#6-1) test data로 점수\n",
    "# model을 학습시키는 코드를 직접 작성해 보세요.\n",
    "# Hint! model.evaluate()을 사용해 봅시다.\n",
    "test_loss, test_accuracy = model.evaluate(x_test_norm, y_test, verbose=2)\n",
    "print(f\"test_loss: {test_loss} \")\n",
    "print(f\"test_accuracy: {test_accuracy}\")\n"
   ]
  },
  {
   "cell_type": "code",
   "execution_count": 98,
   "id": "6c0a33ee",
   "metadata": {},
   "outputs": [
    {
     "name": "stdout",
     "output_type": "stream",
     "text": [
      "model.predict() 결과 :  [6.5638579e-07 9.6731967e-01 3.2679569e-02]\n",
      "model이 추론한 가장 가능성이 높은 결과 :  1\n",
      "실제 데이터의 라벨 :  0\n"
     ]
    }
   ],
   "source": [
    "#6) 성능확인\n",
    "#6-2) 추론한 값들 확인 \n",
    "predicted_result = model.predict(x_test_norm)  # model이 추론한 확률값. \n",
    "predicted_labels = np.argmax(predicted_result, axis=1)\n",
    "\n",
    "idx=0  #1번째 x_test를 살펴보자. \n",
    "print('model.predict() 결과 : ', predicted_result[idx])\n",
    "print('model이 추론한 가장 가능성이 높은 결과 : ', predicted_labels[idx])\n",
    "print('실제 데이터의 라벨 : ', y_test[idx])"
   ]
  },
  {
   "cell_type": "code",
   "execution_count": 99,
   "id": "7a2491bc",
   "metadata": {},
   "outputs": [
    {
     "data": {
      "image/png": "[encoded data removed]",
      "text/plain": [
       "<Figure size 432x288 with 1 Axes>"
      ]
     },
     "metadata": {
      "needs_background": "light"
     },
     "output_type": "display_data"
    }
   ],
   "source": [
    "#6) 성능확인\n",
    "#6-3) - 데이타로 확인 \n",
    "plt.imshow(x_test[idx],cmap=plt.cm.binary)\n",
    "plt.show()"
   ]
  },
  {
   "cell_type": "code",
   "execution_count": 100,
   "id": "e7bfe74f",
   "metadata": {},
   "outputs": [],
   "source": [
    "#6) 성능확인\n",
    "#6-4)  model이 추론해 낸 숫자와 실제 라벨의 값이 다른 경우\n",
    "import random\n",
    "\n",
    "wrong_predict_list=[]\n",
    "for i, _ in enumerate(predicted_labels):\n",
    "    # i번째 test_labels과 y_test이 다른 경우만 모아 봅시다. \n",
    "    if predicted_labels[i] != y_test[i]:\n",
    "        wrong_predict_list.append(i)\n"
   ]
  },
  {
   "cell_type": "code",
   "execution_count": 101,
   "id": "1dcc0cbb",
   "metadata": {},
   "outputs": [
    {
     "name": "stdout",
     "output_type": "stream",
     "text": [
      "예측확률분포: [8.6009086e-06 2.0482813e-01 7.9516321e-01]\n",
      "라벨: 1, 예측결과: 2\n"
     ]
    },
    {
     "data": {
      "image/png": "[encoded data removed]",
      "text/plain": [
       "<Figure size 432x288 with 1 Axes>"
      ]
     },
     "metadata": {
      "needs_background": "light"
     },
     "output_type": "display_data"
    },
    {
     "name": "stdout",
     "output_type": "stream",
     "text": [
      "예측확률분포: [4.6431801e-06 6.9569546e-01 3.0429989e-01]\n",
      "라벨: 0, 예측결과: 1\n"
     ]
    },
    {
     "data": {
      "image/png": "[encoded data removed]",
      "text/plain": [
       "<Figure size 432x288 with 1 Axes>"
      ]
     },
     "metadata": {
      "needs_background": "light"
     },
     "output_type": "display_data"
    },
    {
     "name": "stdout",
     "output_type": "stream",
     "text": [
      "예측확률분포: [6.7979272e-08 9.9459743e-01 5.4024290e-03]\n",
      "라벨: 2, 예측결과: 1\n"
     ]
    },
    {
     "data": {
      "image/png": "[encoded data removed]",
      "text/plain": [
       "<Figure size 432x288 with 1 Axes>"
      ]
     },
     "metadata": {
      "needs_background": "light"
     },
     "output_type": "display_data"
    },
    {
     "name": "stdout",
     "output_type": "stream",
     "text": [
      "예측확률분포: [1.5335705e-05 6.9730955e-01 3.0267519e-01]\n",
      "라벨: 0, 예측결과: 1\n"
     ]
    },
    {
     "data": {
      "image/png": "[encoded data removed]",
      "text/plain": [
       "<Figure size 432x288 with 1 Axes>"
      ]
     },
     "metadata": {
      "needs_background": "light"
     },
     "output_type": "display_data"
    },
    {
     "name": "stdout",
     "output_type": "stream",
     "text": [
      "예측확률분포: [2.9992101e-05 1.8980776e-01 8.1016225e-01]\n",
      "라벨: 0, 예측결과: 2\n"
     ]
    },
    {
     "data": {
      "image/png": "[encoded data removed]",
      "text/plain": [
       "<Figure size 432x288 with 1 Axes>"
      ]
     },
     "metadata": {
      "needs_background": "light"
     },
     "output_type": "display_data"
    },
    {
     "name": "stdout",
     "output_type": "stream",
     "text": [
      "test_accuracy: 0.5083333253860474\n",
      "After Reshape - x_test_norm shape: (600, 28, 28, 3)\n"
     ]
    }
   ],
   "source": [
    "#6) 성능확인\n",
    "#6-5)  model이 추론해 낸 숫자와 실제 라벨의 값이 다른 경우\n",
    "# wrong_predict_list 에서 랜덤하게 5개만 뽑아봅시다.\n",
    "samples = random.choices(population=wrong_predict_list, k=5)\n",
    "\n",
    "for n in samples:\n",
    "    print(\"예측확률분포: \" + str(predicted_result[n]))\n",
    "    print(\"라벨: \" + str(y_test[n]) + \", 예측결과: \" + str(predicted_labels[n]))\n",
    "    plt.imshow(x_test[n], cmap=plt.cm.binary)\n",
    "    plt.show()\n",
    "print(f\"test_accuracy: {test_accuracy}\")\n",
    "print(f\"After Reshape - x_test_norm shape: {x_test_norm.shape}\")\n"
   ]
  }
 ],
 "metadata": {
  "kernelspec": {
   "display_name": "Python 3 (ipykernel)",
   "language": "python",
   "name": "python3"
  },
  "language_info": {
   "codemirror_mode": {
    "name": "ipython",
    "version": 3
   },
   "file_extension": ".py",
   "mimetype": "text/x-python",
   "name": "python",
   "nbconvert_exporter": "python",
   "pygments_lexer": "ipython3",
   "version": "3.9.7"
  }
 },
 "nbformat": 4,
 "nbformat_minor": 5
}
