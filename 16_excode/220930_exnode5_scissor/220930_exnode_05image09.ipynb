{
 "cells": [
  {
   "cell_type": "markdown",
   "id": "29f53c22",
   "metadata": {},
   "source": [
    "        220930_exnode_5image\n",
    "        \n",
    "        1. 데이터준비 \n",
    "        2. 네트워크 설계 \n",
    "            Sequential API는Functional API 밑바닥부터 직접 코딩하는 방법\n",
    "             tf.keras의 Sequential API를 이용하여 LeNet이라는 딥러닝 네트워크를 설계한 예\n",
    "        3. 딥러닌 학습\n",
    "            model.fit(x-train\n",
    "        4. 검증\n",
    "            x_test\n",
    "        5. 다른 방법\n",
    "        "
   ]
  },
  {
   "cell_type": "code",
   "execution_count": 7,
   "id": "f35b2c18",
   "metadata": {},
   "outputs": [
    {
     "name": "stdout",
     "output_type": "stream",
     "text": [
      "2.6.0\n",
      "60000\n"
     ]
    }
   ],
   "source": [
    "import tensorflow as tf\n",
    "from tensorflow import keras\n",
    "\n",
    "import numpy as np\n",
    "import matplotlib.pyplot as plt\n",
    "import os\n",
    "\n",
    "print(tf.__version__)\n",
    "\n",
    "mnist = keras.datasets.mnist\n",
    "\n",
    "(x_train,y_train),(x_test,y_test)= mnist.load_data()\n",
    "\n",
    "print(len(x_train))"
   ]
  },
  {
   "cell_type": "code",
   "execution_count": 9,
   "id": "8ffe5db7",
   "metadata": {},
   "outputs": [
    {
     "data": {
      "image/png": "[encoded data removed]",
      "text/plain": [
       "<Figure size 432x288 with 1 Axes>"
      ]
     },
     "metadata": {
      "needs_background": "light"
     },
     "output_type": "display_data"
    }
   ],
   "source": [
    "# MNIST 데이터셋의 X항목(위 코드에서는 x_train, x_test)은 이미지 데이터를 담은 행렬(matrix)입니다.\n",
    "plt.imshow(x_train[1],cmap=plt.cm.binary)\n",
    "plt.show()"
   ]
  },
  {
   "cell_type": "code",
   "execution_count": 10,
   "id": "60a7542d",
   "metadata": {},
   "outputs": [
    {
     "name": "stdout",
     "output_type": "stream",
     "text": [
      "0\n"
     ]
    }
   ],
   "source": [
    "# Y항목에는 어떤 값\n",
    "print(y_train[1])"
   ]
  },
  {
   "cell_type": "code",
   "execution_count": 13,
   "id": "f7c047c0",
   "metadata": {},
   "outputs": [
    {
     "data": {
      "image/png": "[encoded data removed]",
      "text/plain": [
       "<Figure size 432x288 with 1 Axes>"
      ]
     },
     "metadata": {
      "needs_background": "light"
     },
     "output_type": "display_data"
    },
    {
     "name": "stdout",
     "output_type": "stream",
     "text": [
      "10001  번째 이미지의 숫자는 바로  3 입니다.\n"
     ]
    }
   ],
   "source": [
    "# index에 0에서 59999 사이 숫자를 지정해 보세요.\n",
    "index = 10000\n",
    "plt.imshow(x_train[index],cmap=plt.cm.binary)\n",
    "plt.show()\n",
    "print( (index+1),  ' 번째 이미지의 숫자는 바로 ' , y_train[index] , '입니다.')"
   ]
  },
  {
   "cell_type": "code",
   "execution_count": 14,
   "id": "af74f1ac",
   "metadata": {},
   "outputs": [
    {
     "name": "stdout",
     "output_type": "stream",
     "text": [
      "(60000, 28, 28)\n"
     ]
    }
   ],
   "source": [
    "#학습용 데이터는 과연 몇 장\n",
    "print(x_train.shape)"
   ]
  },
  {
   "cell_type": "code",
   "execution_count": 15,
   "id": "f9f18d51",
   "metadata": {},
   "outputs": [
    {
     "name": "stdout",
     "output_type": "stream",
     "text": [
      "(10000, 28, 28)\n"
     ]
    }
   ],
   "source": [
    "#시험용 데이터의 개수를 \n",
    "print(x_test.shape)"
   ]
  },
  {
   "cell_type": "code",
   "execution_count": 17,
   "id": "449cb4eb",
   "metadata": {},
   "outputs": [
    {
     "name": "stdout",
     "output_type": "stream",
     "text": [
      "최소값: 0 최대값: 255\n"
     ]
    }
   ],
   "source": [
    "#. MNIST 데이터는 각 픽셀의 값이 0~255 사이 범위\n",
    "print('최소값:',np.min(x_train), '최대값:', np.max(x_train))"
   ]
  },
  {
   "cell_type": "code",
   "execution_count": 20,
   "id": "286c48c2",
   "metadata": {},
   "outputs": [
    {
     "name": "stdout",
     "output_type": "stream",
     "text": [
      "최소값:  0.0 최대값 :  1.0\n"
     ]
    }
   ],
   "source": [
    "#입력은 0~1 사이의 값으로 정규화\n",
    "x_train_norm, x_test_norm = x_train / 255.0 , x_test / 255.0\n",
    "print('최소값: ', np.min(x_train_norm), '최대값 : ', np.max(x_train_norm))"
   ]
  },
  {
   "cell_type": "code",
   "execution_count": 21,
   "id": "220f7301",
   "metadata": {},
   "outputs": [
    {
     "name": "stdout",
     "output_type": "stream",
     "text": [
      "model에 추가된 layre 갯수 :   7\n"
     ]
    }
   ],
   "source": [
    "#tf.keras의 Sequential API를 이용하여 LeNet이라는 딥러닝 네트워크를 설계한 예\n",
    "#    손글씨 숫자 분류기를 구현\n",
    "model = keras.models.Sequential()    # 객체화 \n",
    "model.add(keras.layers.Conv2D(16, (3,3), activation = 'relu', input_shape = (28,28,1)))\n",
    "model.add(keras.layers.MaxPool2D(2,2))\n",
    "model.add(keras.layers.Conv2D(32, (3,3), activation = 'relu', input_shape = (28,28,1)))\n",
    "model.add(keras.layers.MaxPool2D(2,2))\n",
    "model.add(keras.layers.Flatten())\n",
    "model.add(keras.layers.Dense(32,activation = 'relu'))\n",
    "model.add(keras.layers.Dense(10,activation='softmax'))\n",
    "\n",
    "print('model에 추가된 layre 갯수 :  ',len(model.layers))"
   ]
  },
  {
   "cell_type": "code",
   "execution_count": 23,
   "id": "b0c1c99e",
   "metadata": {},
   "outputs": [
    {
     "name": "stdout",
     "output_type": "stream",
     "text": [
      "Model: \"sequential\"\n",
      "_________________________________________________________________\n",
      "Layer (type)                 Output Shape              Param #   \n",
      "=================================================================\n",
      "conv2d (Conv2D)              (None, 26, 26, 16)        160       \n",
      "_________________________________________________________________\n",
      "max_pooling2d (MaxPooling2D) (None, 13, 13, 16)        0         \n",
      "_________________________________________________________________\n",
      "conv2d_1 (Conv2D)            (None, 11, 11, 32)        4640      \n",
      "_________________________________________________________________\n",
      "max_pooling2d_1 (MaxPooling2 (None, 5, 5, 32)          0         \n",
      "_________________________________________________________________\n",
      "flatten (Flatten)            (None, 800)               0         \n",
      "_________________________________________________________________\n",
      "dense (Dense)                (None, 32)                25632     \n",
      "_________________________________________________________________\n",
      "dense_1 (Dense)              (None, 10)                330       \n",
      "=================================================================\n",
      "Total params: 30,762\n",
      "Trainable params: 30,762\n",
      "Non-trainable params: 0\n",
      "_________________________________________________________________\n"
     ]
    }
   ],
   "source": [
    "model.summary()"
   ]
  },
  {
   "cell_type": "code",
   "execution_count": 25,
   "id": "94288305",
   "metadata": {},
   "outputs": [
    {
     "name": "stdout",
     "output_type": "stream",
     "text": [
      "before reshape - x_train_norm shape : (60000, 28, 28)\n",
      "before reshape - x_test_norm shape : (10000, 28, 28)\n",
      "before reshape - x_train_norm shape : (60000, 28, 28)\n",
      "before reshape - x_test_norm shape : (10000, 28, 28)\n"
     ]
    }
   ],
   "source": [
    "#(60000, 28, 28, 1) 로 만들어 주어야 합니다 \n",
    "print(f'before reshape - x_train_norm shape : {x_train_norm.shape}')\n",
    "print(f'before reshape - x_test_norm shape : {x_test_norm.shape}')\n",
    "\n",
    "x_train_reshaped = x_train_norm.reshape(-1,28,28,1)\n",
    "x_test_reshaped = x_test_norm.reshape(-1,28,28,1)\n",
    "\n",
    "print(f'before reshape - x_train_norm shape : {x_train_norm.shape}')\n",
    "print(f'before reshape - x_test_norm shape : {x_test_norm.shape}')\n",
    "\n"
   ]
  },
  {
   "cell_type": "code",
   "execution_count": 28,
   "id": "bfd51fa1",
   "metadata": {},
   "outputs": [
    {
     "name": "stdout",
     "output_type": "stream",
     "text": [
      "Epoch 1/10\n",
      "1875/1875 [==============================] - 8s 3ms/step - loss: 0.2029 - accuracy: 0.9383\n",
      "Epoch 2/10\n",
      "1875/1875 [==============================] - 5s 3ms/step - loss: 0.0676 - accuracy: 0.9792\n",
      "Epoch 3/10\n",
      "1875/1875 [==============================] - 5s 3ms/step - loss: 0.0498 - accuracy: 0.9839\n",
      "Epoch 4/10\n",
      "1875/1875 [==============================] - 5s 3ms/step - loss: 0.0394 - accuracy: 0.9874\n",
      "Epoch 5/10\n",
      "1875/1875 [==============================] - 5s 3ms/step - loss: 0.0327 - accuracy: 0.9897\n",
      "Epoch 6/10\n",
      "1875/1875 [==============================] - 5s 3ms/step - loss: 0.0273 - accuracy: 0.9915\n",
      "Epoch 7/10\n",
      "1875/1875 [==============================] - 5s 3ms/step - loss: 0.0231 - accuracy: 0.9931\n",
      "Epoch 8/10\n",
      "1875/1875 [==============================] - 5s 3ms/step - loss: 0.0199 - accuracy: 0.9935\n",
      "Epoch 9/10\n",
      "1875/1875 [==============================] - 5s 3ms/step - loss: 0.0159 - accuracy: 0.9950\n",
      "Epoch 10/10\n",
      "1875/1875 [==============================] - 5s 3ms/step - loss: 0.0144 - accuracy: 0.9951\n"
     ]
    },
    {
     "data": {
      "text/plain": [
       "<keras.callbacks.History at 0x7fc04c89a280>"
      ]
     },
     "execution_count": 28,
     "metadata": {},
     "output_type": "execute_result"
    }
   ],
   "source": [
    "#딥러닝 네트워크를 학습\n",
    "model.compile(optimizer='adam', \n",
    "              loss = 'sparse_categorical_crossentropy',\n",
    "              metrics=['accuracy'])\n",
    "\n",
    "model.fit(x_train_reshaped, y_train, epochs=10)"
   ]
  },
  {
   "cell_type": "code",
   "execution_count": 29,
   "id": "c412f297",
   "metadata": {},
   "outputs": [
    {
     "name": "stdout",
     "output_type": "stream",
     "text": [
      "313/313 - 1s - loss: 0.0331 - accuracy: 0.9901\n",
      "test_loss : 0.03312592953443527\n",
      "test_accuracy : 0.9901000261306763\n"
     ]
    }
   ],
   "source": [
    "#테스트 데이터로 성능을\n",
    "test_loss, test_accuracy = model.evaluate(x_test_reshaped, y_test, verbose=2)\n",
    "print(f'test_loss : {test_loss}')\n",
    "print(f'test_accuracy : {test_accuracy}')"
   ]
  },
  {
   "cell_type": "code",
   "execution_count": 32,
   "id": "5e120c8b",
   "metadata": {},
   "outputs": [
    {
     "name": "stdout",
     "output_type": "stream",
     "text": [
      "model.predicted() 결과 :  [6.6617760e-11 4.0940416e-09 7.5711250e-07 7.8295488e-06 5.9214238e-11\n",
      " 3.0888098e-11 2.6822491e-14 9.9999130e-01 8.9512314e-10 8.1403314e-08]\n",
      "model이 추론한 가장 가능서이 높은 결과 :  7\n",
      "실제 데이터의 라벨 :  7\n"
     ]
    }
   ],
   "source": [
    "#model.predict()를 사용하면 model이 입력값을 보고 실제로 추론한 확률분포를 출력\n",
    "predicted_result = model.predict(x_test_reshaped)\n",
    "predicted_labels = np.argmax(predicted_result,axis=1)\n",
    "\n",
    "idx=0 \n",
    "print('model.predicted() 결과 : ', predicted_result[idx])\n",
    "print('model이 추론한 가장 가능서이 높은 결과 : ' , predicted_labels[idx])\n",
    "print('실제 데이터의 라벨 : ' , y_test[idx])"
   ]
  },
  {
   "cell_type": "code",
   "execution_count": 33,
   "id": "fb039cd0",
   "metadata": {},
   "outputs": [
    {
     "data": {
      "image/png": "[encoded data removed]",
      "text/plain": [
       "<Figure size 432x288 with 1 Axes>"
      ]
     },
     "metadata": {
      "needs_background": "light"
     },
     "output_type": "display_data"
    }
   ],
   "source": [
    "#정말 숫자 7인가요?\n",
    "plt.imshow(x_test[idx],cmap=plt.cm.binary)\n",
    "plt.show()"
   ]
  },
  {
   "cell_type": "code",
   "execution_count": 37,
   "id": "db5def17",
   "metadata": {},
   "outputs": [
    {
     "name": "stdout",
     "output_type": "stream",
     "text": [
      "예측확률분포 : [1.01340454e-07 5.95544516e-05 4.35442998e-05 2.14170690e-08\n",
      " 2.26928994e-01 2.64333244e-09 6.65941457e-07 1.69282069e-03\n",
      " 7.59176314e-01 1.20979985e-02]\n",
      "라벨 : 4,예측결과: 8\n"
     ]
    },
    {
     "data": {
      "image/png": "[encoded data removed]",
      "text/plain": [
       "<Figure size 432x288 with 1 Axes>"
      ]
     },
     "metadata": {
      "needs_background": "light"
     },
     "output_type": "display_data"
    },
    {
     "name": "stdout",
     "output_type": "stream",
     "text": [
      "예측확률분포 : [1.51492696e-13 8.08976412e-01 1.58276490e-03 4.23675887e-02\n",
      " 3.64353880e-03 2.70408691e-06 2.56193244e-09 1.43138304e-01\n",
      " 1.15882714e-04 1.72897402e-04]\n",
      "라벨 : 7,예측결과: 1\n"
     ]
    },
    {
     "data": {
      "image/png": "[encoded data removed]",
      "text/plain": [
       "<Figure size 432x288 with 1 Axes>"
      ]
     },
     "metadata": {
      "needs_background": "light"
     },
     "output_type": "display_data"
    },
    {
     "name": "stdout",
     "output_type": "stream",
     "text": [
      "예측확률분포 : [5.4671958e-11 1.1334104e-07 2.5346232e-04 1.5432765e-07 6.3252124e-09\n",
      " 5.0388303e-02 1.5513085e-01 3.5467455e-11 7.9422712e-01 2.8350594e-13]\n",
      "라벨 : 6,예측결과: 8\n"
     ]
    },
    {
     "data": {
      "image/png": "[encoded data removed]",
      "text/plain": [
       "<Figure size 432x288 with 1 Axes>"
      ]
     },
     "metadata": {
      "needs_background": "light"
     },
     "output_type": "display_data"
    },
    {
     "name": "stdout",
     "output_type": "stream",
     "text": [
      "예측확률분포 : [1.01340454e-07 5.95544516e-05 4.35442998e-05 2.14170690e-08\n",
      " 2.26928994e-01 2.64333244e-09 6.65941457e-07 1.69282069e-03\n",
      " 7.59176314e-01 1.20979985e-02]\n",
      "라벨 : 4,예측결과: 8\n"
     ]
    },
    {
     "data": {
      "image/png": "[encoded data removed]",
      "text/plain": [
       "<Figure size 432x288 with 1 Axes>"
      ]
     },
     "metadata": {
      "needs_background": "light"
     },
     "output_type": "display_data"
    },
    {
     "name": "stdout",
     "output_type": "stream",
     "text": [
      "예측확률분포 : [9.00184333e-01 5.44266854e-11 1.04628384e-07 5.82153908e-11\n",
      " 1.28544037e-10 1.46662546e-06 9.97631624e-02 4.43501451e-11\n",
      " 4.97760811e-05 1.17551565e-06]\n",
      "라벨 : 6,예측결과: 0\n"
     ]
    },
    {
     "data": {
      "image/png": "[encoded data removed]",
      "text/plain": [
       "<Figure size 432x288 with 1 Axes>"
      ]
     },
     "metadata": {
      "needs_background": "light"
     },
     "output_type": "display_data"
    }
   ],
   "source": [
    "#model이 추론해 낸 숫자와 실제 라벨의 값이 다른 경우\n",
    "import random \n",
    "wrong_predict_list=[]\n",
    "for i , _ in enumerate(predicted_labels):\n",
    "    if predicted_labels[i] != y_test[i]:\n",
    "        wrong_predict_list.append(i)\n",
    "        \n",
    "samples = random.choices(population = wrong_predict_list, k=5)\n",
    "\n",
    "for n in samples:\n",
    "    print('예측확률분포 : ' + str(predicted_result[n]))\n",
    "    print('라벨 : ' + str(y_test[n]) + ',예측결과: ' + str(predicted_labels[n]))\n",
    "    plt.imshow(x_test[n], cmap = plt.cm.binary)\n",
    "    plt.show()"
   ]
  },
  {
   "cell_type": "code",
   "execution_count": null,
   "id": "2cacfe25",
   "metadata": {},
   "outputs": [],
   "source": [
    "# 바꿔 볼 수 있는 하이퍼파라미터들\n",
    "n_channel_1=16\n",
    "n_channel_2=32\n",
    "n_dense=32\n",
    "n_train_epoch=10\n",
    "\n",
    "model=keras.models.Sequential()\n",
    "model.add(keras.layers.Conv2D(n_channel_1, (3,3), activation='relu', input_shape=(28,28,1)))\n",
    "model.add(keras.layers.MaxPool2D(2,2))\n",
    "model.add(keras.layers.Conv2D(n_channel_2, (3,3), activation='relu'))\n",
    "model.add(keras.layers.MaxPooling2D((2,2)))\n",
    "model.add(keras.layers.Flatten())\n",
    "model.add(keras.layers.Dense(n_dense, activation='relu'))\n",
    "model.add(keras.layers.Dense(10, activation='softmax'))\n",
    "\n",
    "model.summary()\n",
    "model.compile(optimizer='adam',\n",
    "             loss='sparse_categorical_crossentropy',\n",
    "             metrics=['accuracy'])\n",
    "\n",
    "# 모델 훈련\n",
    "model.fit(x_train_reshaped, y_train, epochs=n_train_epoch)\n",
    "\n",
    "# 모델 시험\n",
    "test_loss, test_accuracy = model.evaluate(x_test_reshaped, y_test, verbose=2)\n",
    "print(f\"test_loss: {test_loss} \")\n",
    "print(f\"test_accuracy: {test_accuracy}\")"
   ]
  }
 ],
 "metadata": {
  "kernelspec": {
   "display_name": "Python 3 (ipykernel)",
   "language": "python",
   "name": "python3"
  },
  "language_info": {
   "codemirror_mode": {
    "name": "ipython",
    "version": 3
   },
   "file_extension": ".py",
   "mimetype": "text/x-python",
   "name": "python",
   "nbconvert_exporter": "python",
   "pygments_lexer": "ipython3",
   "version": "3.9.7"
  }
 },
 "nbformat": 4,
 "nbformat_minor": 5
}
