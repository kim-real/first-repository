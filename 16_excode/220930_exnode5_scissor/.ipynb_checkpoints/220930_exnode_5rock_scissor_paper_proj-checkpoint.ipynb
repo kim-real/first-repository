{
 "cells": [
  {
   "cell_type": "markdown",
   "id": "548f6846",
   "metadata": {},
   "source": [
    "    exnode 5. play rock scissor paper      \n",
    "         \n",
    "    1. 절차 \n",
    "        0) package loding\n",
    "        1) 데이터 준비 : 조원들과 함께 가위,바위,보의 이미지를 합동으로 만들었다.\n",
    "          . 이미지 : 2100장( 1명당 300장의 이미지 작성*7명 )\n",
    "            ..데이터분리 : train, test 분리 \n",
    "              ... train(1800장) : /aiffel/rock_scissor_paper/220930_exnode_5/scissors(rock,paper)\n",
    "              ... test(300장)   : /aiffel/rock_scissor_paper/220930_exnode_5/test/scissors(rock,paper)   \n",
    "        2) 데이터 사이즈 변경 : train , test\n",
    "          . data 확인 : 이미지확인 , data 전처리 실시(정규화)\n",
    "        3) 모델설계하기 : Conv2D, MaxPooling2D, Flatten, Dense\n",
    "          . Conv2D\n",
    "          . MaxPooling2D\n",
    "          . Flatten\n",
    "          . Dense\n",
    "        4) 모델 학습 \n",
    "          . 네트워크 입력형태 만들기\n",
    "          . 학습시키기\n",
    "        5) 이미지 분류기 모델에 대한 그래프\n",
    "          . train accuracy 는 향상되고 , train loss는 줄어듬\n",
    "          . validation accuracy는 향상되다 일정한 수준으로 수렴, \n",
    "            validation loss는 줄어들다 늘어나는 경향성( hyper parameter 조정이 필요한 듯 함)\n",
    "        6) test data 준비\n",
    "        7) 성능확인 \n",
    "          . 예측한 값과 실제 값 확인\n",
    "          . 데이터로 확인\n",
    "          . model이 추론해 낸 이미지와 실제 라벨의 값이 다른 경우\n",
    "                   \n",
    "    2. 결론 & 배운점\n",
    "        1) 이미지 분류기 모델이 성공적으로 만들어졌는가?\n",
    "           - train accuracy 는 향상되고 , train loss는 줄어듬\n",
    "           - validation accuracy는 향상되다 일정한 수준으로 수렴, \n",
    "             validation loss는 줄어들다 늘어나는 경향성( hyper parameter 조정이 필요한 듯 함)\n",
    "        2) 오버피팅을 극복하기 위한 적절한 시도가 있었는가?  \n",
    "           - DATA의 양을 늘림 ( 300 -> 2100 )\n",
    "           - train data 분할시 : 1) train data :정규화 \n",
    "                                 2) random으로 추출\n",
    "           - test data 생성시  : 1) test data :정규화\n",
    "        3) 분류모델의 test accuracy가 기준 이상 높게 나왔는가?\n",
    "           - 62% 유지\n",
    "        4) 배운점 \n",
    "           - Data측면 : \n",
    "             . Data 수집방법을 익히게 되었고 데이터량의 증가가 오버피팅 극복을 알게 되었슴.\n",
    "             . train, test data의 정규화와 랜덤화 방법을 재확인 \n",
    "           - model 측면 \n",
    "             . hyper parameter 의 변화에 따른 손실함수 감소를 알게 되었슴\n",
    "             . 최적의 파라메타를 찾기위한 시도 및 최적 파라메타 확인 \n",
    "           - 혼란스러웠던 점 \n",
    "             . 동일 모델, 동일 parameter로 동일 test data 확인 했을 때 변화되는 손실값, 정확도 (동일해야 되는데 왜?)         \n",
    "           "
   ]
  },
  {
   "cell_type": "code",
   "execution_count": 174,
   "id": "b66db79b",
   "metadata": {},
   "outputs": [],
   "source": [
    "#0) package loding\n",
    "import tensorflow as tf\n",
    "from tensorflow import keras\n",
    "import numpy as np\n",
    "import pandas as pd\n",
    "import matplotlib.pyplot as plt\n",
    "from PIL import Image\n",
    "import glob\n",
    "from sklearn.model_selection import train_test_split\n",
    "import os"
   ]
  },
  {
   "cell_type": "code",
   "execution_count": 175,
   "id": "d677c8a3",
   "metadata": {},
   "outputs": [
    {
     "name": "stdout",
     "output_type": "stream",
     "text": [
      "600  images to be resized.\n",
      "600  images resized.\n",
      "가위 이미지 resize 완료!\n"
     ]
    }
   ],
   "source": [
    "#2-1 데이터 사이즈 변경 : 가위 (이미지가 저장된 디렉토리 아래의 모든 jpg 파일을 읽어들여서\n",
    "def resize_images(img_path):\n",
    "    images=glob.glob(img_path + \"/*.jpg\")  \n",
    "    \n",
    "    print(len(images), \" images to be resized.\")\n",
    "\n",
    "    # 파일마다 모두 28 사이즈로 바꾸어 저장합니다.\n",
    "    target_size=(28,28)\n",
    "    for img in images:\n",
    "        old_img=Image.open(img)\n",
    "        new_img=old_img.resize(target_size,Image.ANTIALIAS)\n",
    "        new_img.save(img, \"JPEG\")\n",
    "    \n",
    "    print(len(images), \" images resized.\")\n",
    "    \n",
    "# 가위 이미지가 저장된 디렉토리 아래의 모든 jpg 파일을 읽어들여서\n",
    "image_dir_path = os.getenv(\"HOME\") + \"/aiffel/rock_scissor_paper/220930_exnode_5/scissors\"\n",
    "resize_images(image_dir_path)\n",
    "\n",
    "print(\"가위 이미지 resize 완료!\")"
   ]
  },
  {
   "cell_type": "code",
   "execution_count": 176,
   "id": "03840177",
   "metadata": {},
   "outputs": [
    {
     "name": "stdout",
     "output_type": "stream",
     "text": [
      "600  images to be resized.\n",
      "600  images resized.\n",
      "바위 이미지 resize 완료!\n"
     ]
    }
   ],
   "source": [
    "#2-2 데이터 사이즈 변경 : 바위 (이미지가 저장된 디렉토리 아래의 모든 jpg 파일을 읽어들여서\n",
    "def resize_images(img_path):\n",
    "    images=glob.glob(img_path + \"/*.jpg\")  \n",
    "    \n",
    "    print(len(images), \" images to be resized.\")\n",
    "\n",
    "    # 파일마다 모두 28 사이즈로 바꾸어 저장합니다.\n",
    "    target_size=(28,28)\n",
    "    for img in images:\n",
    "        old_img=Image.open(img)\n",
    "        new_img=old_img.resize(target_size,Image.ANTIALIAS)\n",
    "        new_img.save(img, \"JPEG\")\n",
    "    \n",
    "    print(len(images), \" images resized.\")\n",
    "    \n",
    "# 바위 이미지가 저장된 디렉토리 아래의 모든 jpg 파일을 읽어들여서\n",
    "image_dir_path = os.getenv(\"HOME\") + \"/aiffel/rock_scissor_paper/220930_exnode_5/rock\"\n",
    "resize_images(image_dir_path)\n",
    "\n",
    "print(\"바위 이미지 resize 완료!\")"
   ]
  },
  {
   "cell_type": "code",
   "execution_count": 177,
   "id": "9aaf4c27",
   "metadata": {},
   "outputs": [
    {
     "name": "stdout",
     "output_type": "stream",
     "text": [
      "600  images to be resized.\n",
      "600  images resized.\n",
      "보 이미지 resize 완료!\n"
     ]
    }
   ],
   "source": [
    "#2-3 데이터 사이즈 변경 : 보 ( 이미지가 저장된 디렉토리 아래의 모든 jpg 파일을 읽어들여서\n",
    "def resize_images(img_path):\n",
    "    images=glob.glob(img_path + \"/*.jpg\")  \n",
    "    \n",
    "    print(len(images), \" images to be resized.\")\n",
    "\n",
    "    # 파일마다 모두 28 사이즈로 바꾸어 저장합니다.\n",
    "    target_size=(28,28)\n",
    "    for img in images:\n",
    "        old_img=Image.open(img)\n",
    "        new_img=old_img.resize(target_size,Image.ANTIALIAS)\n",
    "        new_img.save(img, \"JPEG\")\n",
    "    \n",
    "    print(len(images), \" images resized.\")\n",
    "    \n",
    "# 바위 이미지가 저장된 디렉토리 아래의 모든 jpg 파일을 읽어들여서\n",
    "image_dir_path = os.getenv(\"HOME\") + \"/aiffel/rock_scissor_paper/220930_exnode_5/paper\"\n",
    "resize_images(image_dir_path)\n",
    "\n",
    "print(\"보 이미지 resize 완료!\")"
   ]
  },
  {
   "cell_type": "code",
   "execution_count": 178,
   "id": "4e5899f4",
   "metadata": {},
   "outputs": [
    {
     "name": "stdout",
     "output_type": "stream",
     "text": [
      "학습데이터(x_train)의 이미지 개수는 1800 입니다.\n",
      "X_train shape: (1500, 28, 28, 3)\n",
      "y_train shape: (1500,)\n",
      "X_validation shape: (300, 28, 28, 3)\n",
      "y_validation shape: (300,)\n"
     ]
    }
   ],
   "source": [
    "#2-4) 데이터 분리 \n",
    "def load_data(img_path, number_of_data=1800):  # 가위바위보 이미지 개수 총합에 주의하세요.\n",
    "    # 가위 : 0, 바위 : 1, 보 : 2\n",
    "    img_size=28\n",
    "    color=3\n",
    "    #이미지 데이터와 라벨(가위 : 0, 바위 : 1, 보 : 2) 데이터를 담을 행렬(matrix) 영역을 생성합니다.\n",
    "    imgs=np.zeros(number_of_data*img_size*img_size*color,dtype=np.int32).reshape(number_of_data,img_size,img_size,color)\n",
    "    labels=np.zeros(number_of_data,dtype=np.int32)\n",
    "\n",
    "    idx=0\n",
    "    for file in glob.iglob(img_path+'/scissors/*.jpg'): \n",
    "        img = np.array(Image.open(file),dtype=np.int32)\n",
    "        imgs[idx,:,:,:]=img    # 데이터 영역에 이미지 행렬을 복사\n",
    "        labels[idx]=0   # 가위 : 0\n",
    "        idx=idx+1\n",
    "\n",
    "    for file in glob.iglob(img_path+'/rock/*.jpg'):\n",
    "        img = np.array(Image.open(file),dtype=np.int32)\n",
    "        imgs[idx,:,:,:]=img    # 데이터 영역에 이미지 행렬을 복사\n",
    "        labels[idx]=1   # 바위 : 1\n",
    "        idx=idx+1  \n",
    "    \n",
    "    for file in glob.iglob(img_path+'/paper/*.jpg'):\n",
    "        img = np.array(Image.open(file),dtype=np.int32)\n",
    "        imgs[idx,:,:,:]=img    # 데이터 영역에 이미지 행렬을 복사\n",
    "        labels[idx]=2   # 보 : 2\n",
    "        idx=idx+1\n",
    "        \n",
    "    print(\"학습데이터(x_train)의 이미지 개수는\", idx,\"입니다.\")\n",
    "    return imgs, labels\n",
    "\n",
    "image_dir_path = os.getenv(\"HOME\") + \"/aiffel/rock_scissor_paper/220930_exnode_5\"\n",
    "\n",
    "(X_train, y_train) =load_data(image_dir_path)\n",
    "x_train_norm = X_train/255.0   # 입력은 0~1 사이의 값으로 정규화\n",
    "X_train, X_validation, y_train, y_validation = train_test_split(x_train_norm,\n",
    "                                                                y_train,\n",
    "                                                                test_size=300/1800,\n",
    "                                                                random_state=15)\n",
    "print(\"X_train shape: {}\".format(X_train.shape))\n",
    "print(\"y_train shape: {}\".format(y_train.shape))\n",
    "print(\"X_validation shape: {}\".format(X_validation.shape))\n",
    "print(\"y_validation shape: {}\".format(y_validation.shape))"
   ]
  },
  {
   "cell_type": "code",
   "execution_count": 179,
   "id": "9564f082",
   "metadata": {},
   "outputs": [
    {
     "name": "stdout",
     "output_type": "stream",
     "text": [
      "라벨:  0\n"
     ]
    },
    {
     "data": {
      "image/png": "[encoded data removed]",
      "text/plain": [
       "<Figure size 432x288 with 1 Axes>"
      ]
     },
     "metadata": {
      "needs_background": "light"
     },
     "output_type": "display_data"
    }
   ],
   "source": [
    "plt.imshow(X_train [0])\n",
    "print('라벨: ', y_train[0])"
   ]
  },
  {
   "cell_type": "code",
   "execution_count": 180,
   "id": "7e137360",
   "metadata": {},
   "outputs": [
    {
     "name": "stdout",
     "output_type": "stream",
     "text": [
      "Model: \"sequential_11\"\n",
      "_________________________________________________________________\n",
      "Layer (type)                 Output Shape              Param #   \n",
      "=================================================================\n",
      "conv2d_22 (Conv2D)           (None, 26, 26, 32)        896       \n",
      "_________________________________________________________________\n",
      "max_pooling2d_22 (MaxPooling (None, 13, 13, 32)        0         \n",
      "_________________________________________________________________\n",
      "conv2d_23 (Conv2D)           (None, 11, 11, 64)        18496     \n",
      "_________________________________________________________________\n",
      "max_pooling2d_23 (MaxPooling (None, 5, 5, 64)          0         \n",
      "_________________________________________________________________\n",
      "flatten_11 (Flatten)         (None, 1600)              0         \n",
      "_________________________________________________________________\n",
      "dense_22 (Dense)             (None, 64)                102464    \n",
      "_________________________________________________________________\n",
      "dense_23 (Dense)             (None, 3)                 195       \n",
      "=================================================================\n",
      "Total params: 122,051\n",
      "Trainable params: 122,051\n",
      "Non-trainable params: 0\n",
      "_________________________________________________________________\n"
     ]
    }
   ],
   "source": [
    "#3) 모델설계하기\n",
    "# Hint! model의 입력/출력부에 특히 유의해 주세요. 가위바위보 데이터셋은 MNIST 데이터셋과 어떤 점이 달라졌나요?\n",
    "n_channel_1=32\n",
    "n_channel_2=64\n",
    "n_dense=64\n",
    "n_train_epoch=20\n",
    "\n",
    "model=keras.models.Sequential()\n",
    "model.add(keras.layers.Conv2D(n_channel_1, (3,3), activation='relu', input_shape=(28,28,3)))\n",
    "model.add(keras.layers.MaxPool2D(2,2))\n",
    "model.add(keras.layers.Conv2D(n_channel_2, (3,3), activation='relu'))\n",
    "model.add(keras.layers.MaxPooling2D((2,2)))\n",
    "model.add(keras.layers.Flatten())\n",
    "model.add(keras.layers.Dense(n_dense, activation='relu'))\n",
    "model.add(keras.layers.Dense(3, activation='softmax'))\n",
    "\n",
    "\n",
    "model.summary()"
   ]
  },
  {
   "cell_type": "code",
   "execution_count": 181,
   "id": "08566925",
   "metadata": {},
   "outputs": [
    {
     "name": "stdout",
     "output_type": "stream",
     "text": [
      "Epoch 1/20\n",
      "47/47 [==============================] - 0s 3ms/step - loss: 1.0993 - accuracy: 0.3540\n",
      "Epoch 2/20\n",
      "47/47 [==============================] - 0s 3ms/step - loss: 1.0901 - accuracy: 0.3947\n",
      "Epoch 3/20\n",
      "47/47 [==============================] - 0s 3ms/step - loss: 1.0248 - accuracy: 0.4913\n",
      "Epoch 4/20\n",
      "47/47 [==============================] - 0s 3ms/step - loss: 0.9765 - accuracy: 0.5340\n",
      "Epoch 5/20\n",
      "47/47 [==============================] - 0s 3ms/step - loss: 0.9320 - accuracy: 0.5553\n",
      "Epoch 6/20\n",
      "47/47 [==============================] - 0s 3ms/step - loss: 0.8656 - accuracy: 0.6207\n",
      "Epoch 7/20\n",
      "47/47 [==============================] - 0s 3ms/step - loss: 0.8363 - accuracy: 0.6100\n",
      "Epoch 8/20\n",
      "47/47 [==============================] - 0s 3ms/step - loss: 0.7976 - accuracy: 0.6440\n",
      "Epoch 9/20\n",
      "47/47 [==============================] - 0s 3ms/step - loss: 0.7682 - accuracy: 0.6627\n",
      "Epoch 10/20\n",
      "47/47 [==============================] - 0s 3ms/step - loss: 0.7386 - accuracy: 0.6800\n",
      "Epoch 11/20\n",
      "47/47 [==============================] - 0s 3ms/step - loss: 0.7421 - accuracy: 0.6747\n",
      "Epoch 12/20\n",
      "47/47 [==============================] - 0s 3ms/step - loss: 0.7282 - accuracy: 0.6920\n",
      "Epoch 13/20\n",
      "47/47 [==============================] - 0s 3ms/step - loss: 0.6999 - accuracy: 0.7053\n",
      "Epoch 14/20\n",
      "47/47 [==============================] - 0s 3ms/step - loss: 0.6911 - accuracy: 0.7007\n",
      "Epoch 15/20\n",
      "47/47 [==============================] - 0s 3ms/step - loss: 0.6419 - accuracy: 0.7340\n",
      "Epoch 16/20\n",
      "47/47 [==============================] - 0s 3ms/step - loss: 0.6162 - accuracy: 0.7507\n",
      "Epoch 17/20\n",
      "47/47 [==============================] - 0s 3ms/step - loss: 0.6154 - accuracy: 0.7533\n",
      "Epoch 18/20\n",
      "47/47 [==============================] - 0s 3ms/step - loss: 0.6067 - accuracy: 0.7420\n",
      "Epoch 19/20\n",
      "47/47 [==============================] - 0s 3ms/step - loss: 0.5668 - accuracy: 0.7760\n",
      "Epoch 20/20\n",
      "47/47 [==============================] - 0s 3ms/step - loss: 0.5422 - accuracy: 0.7860\n"
     ]
    },
    {
     "data": {
      "text/plain": [
       "<keras.callbacks.History at 0x7fd7fbe478b0>"
      ]
     },
     "execution_count": 181,
     "metadata": {},
     "output_type": "execute_result"
    }
   ],
   "source": [
    "#4-1) 모델 학습 : 학습시키기\n",
    "# model을 학습시키는 코드를 직접 작성해 보세요.\n",
    "# Hint! model.compile()과 model.fit()을 사용해 봅시다.\n",
    "model.compile(optimizer='adam',\n",
    "             loss='sparse_categorical_crossentropy',\n",
    "             metrics=['accuracy'])\n",
    "\n",
    "model.fit(X_train, y_train, epochs=n_train_epoch)"
   ]
  },
  {
   "cell_type": "code",
   "execution_count": 182,
   "id": "0238a22d",
   "metadata": {},
   "outputs": [
    {
     "name": "stdout",
     "output_type": "stream",
     "text": [
      "10/10 - 0s - loss: 0.5995 - accuracy: 0.7467\n",
      "test_loss: 0.5995336174964905 \n",
      "test_accuracy: 0.746666669845581\n"
     ]
    }
   ],
   "source": [
    "#4-2)검증\n",
    "test_loss, test_accuracy = model.evaluate(X_validation, y_validation, verbose=2)\n",
    "print(f\"test_loss: {test_loss} \")\n",
    "print(f\"test_accuracy: {test_accuracy}\")"
   ]
  },
  {
   "cell_type": "code",
   "execution_count": 183,
   "id": "b914b58a",
   "metadata": {},
   "outputs": [
    {
     "name": "stdout",
     "output_type": "stream",
     "text": [
      "Epoch 1/100\n",
      "47/47 [==============================] - 0s 4ms/step - loss: 0.5802 - accuracy: 0.7773 - val_loss: 0.5328 - val_accuracy: 0.8033\n",
      "Epoch 2/100\n",
      "47/47 [==============================] - 0s 4ms/step - loss: 0.5794 - accuracy: 0.7647 - val_loss: 0.5254 - val_accuracy: 0.8100\n",
      "Epoch 3/100\n",
      "47/47 [==============================] - 0s 4ms/step - loss: 0.5337 - accuracy: 0.7920 - val_loss: 0.5157 - val_accuracy: 0.7900\n",
      "Epoch 4/100\n",
      "47/47 [==============================] - 0s 4ms/step - loss: 0.4952 - accuracy: 0.8080 - val_loss: 0.5552 - val_accuracy: 0.7433\n",
      "Epoch 5/100\n",
      "47/47 [==============================] - 0s 4ms/step - loss: 0.4861 - accuracy: 0.8173 - val_loss: 0.4832 - val_accuracy: 0.8033\n",
      "Epoch 6/100\n",
      "47/47 [==============================] - 0s 4ms/step - loss: 0.4603 - accuracy: 0.8240 - val_loss: 0.5042 - val_accuracy: 0.8167\n",
      "Epoch 7/100\n",
      "47/47 [==============================] - 0s 4ms/step - loss: 0.4665 - accuracy: 0.8187 - val_loss: 0.4779 - val_accuracy: 0.8000\n",
      "Epoch 8/100\n",
      "47/47 [==============================] - 0s 4ms/step - loss: 0.4393 - accuracy: 0.8440 - val_loss: 0.4829 - val_accuracy: 0.8100\n",
      "Epoch 9/100\n",
      "47/47 [==============================] - 0s 4ms/step - loss: 0.4215 - accuracy: 0.8313 - val_loss: 0.4746 - val_accuracy: 0.8233\n",
      "Epoch 10/100\n",
      "47/47 [==============================] - 0s 4ms/step - loss: 0.4038 - accuracy: 0.8467 - val_loss: 0.4305 - val_accuracy: 0.8167\n",
      "Epoch 11/100\n",
      "47/47 [==============================] - 0s 4ms/step - loss: 0.4143 - accuracy: 0.8480 - val_loss: 0.4250 - val_accuracy: 0.8233\n",
      "Epoch 12/100\n",
      "47/47 [==============================] - 0s 4ms/step - loss: 0.4222 - accuracy: 0.8393 - val_loss: 0.4317 - val_accuracy: 0.8333\n",
      "Epoch 13/100\n",
      "47/47 [==============================] - 0s 4ms/step - loss: 0.4002 - accuracy: 0.8380 - val_loss: 0.4622 - val_accuracy: 0.8100\n",
      "Epoch 14/100\n",
      "47/47 [==============================] - 0s 4ms/step - loss: 0.3929 - accuracy: 0.8520 - val_loss: 0.4790 - val_accuracy: 0.7900\n",
      "Epoch 15/100\n",
      "47/47 [==============================] - 0s 4ms/step - loss: 0.3699 - accuracy: 0.8633 - val_loss: 0.5267 - val_accuracy: 0.7600\n",
      "Epoch 16/100\n",
      "47/47 [==============================] - 0s 4ms/step - loss: 0.3665 - accuracy: 0.8627 - val_loss: 0.4087 - val_accuracy: 0.8267\n",
      "Epoch 17/100\n",
      "47/47 [==============================] - 0s 4ms/step - loss: 0.3455 - accuracy: 0.8687 - val_loss: 0.4176 - val_accuracy: 0.8367\n",
      "Epoch 18/100\n",
      "47/47 [==============================] - 0s 4ms/step - loss: 0.3528 - accuracy: 0.8720 - val_loss: 0.4030 - val_accuracy: 0.8400\n",
      "Epoch 19/100\n",
      "47/47 [==============================] - 0s 4ms/step - loss: 0.3347 - accuracy: 0.8780 - val_loss: 0.4126 - val_accuracy: 0.8300\n",
      "Epoch 20/100\n",
      "47/47 [==============================] - 0s 4ms/step - loss: 0.3411 - accuracy: 0.8747 - val_loss: 0.4617 - val_accuracy: 0.8100\n",
      "Epoch 21/100\n",
      "47/47 [==============================] - 0s 4ms/step - loss: 0.3077 - accuracy: 0.8940 - val_loss: 0.3811 - val_accuracy: 0.8433\n",
      "Epoch 22/100\n",
      "47/47 [==============================] - 0s 4ms/step - loss: 0.2952 - accuracy: 0.9047 - val_loss: 0.3794 - val_accuracy: 0.8333\n",
      "Epoch 23/100\n",
      "47/47 [==============================] - 0s 4ms/step - loss: 0.3156 - accuracy: 0.8860 - val_loss: 0.3830 - val_accuracy: 0.8600\n",
      "Epoch 24/100\n",
      "47/47 [==============================] - 0s 4ms/step - loss: 0.2793 - accuracy: 0.9087 - val_loss: 0.3534 - val_accuracy: 0.8567\n",
      "Epoch 25/100\n",
      "47/47 [==============================] - 0s 4ms/step - loss: 0.2687 - accuracy: 0.9013 - val_loss: 0.3639 - val_accuracy: 0.8600\n",
      "Epoch 26/100\n",
      "47/47 [==============================] - 0s 4ms/step - loss: 0.2545 - accuracy: 0.9060 - val_loss: 0.3586 - val_accuracy: 0.8400\n",
      "Epoch 27/100\n",
      "47/47 [==============================] - 0s 4ms/step - loss: 0.2459 - accuracy: 0.9140 - val_loss: 0.3816 - val_accuracy: 0.8433\n",
      "Epoch 28/100\n",
      "47/47 [==============================] - 0s 4ms/step - loss: 0.2403 - accuracy: 0.9227 - val_loss: 0.3484 - val_accuracy: 0.8633\n",
      "Epoch 29/100\n",
      "47/47 [==============================] - 0s 4ms/step - loss: 0.2353 - accuracy: 0.9147 - val_loss: 0.3489 - val_accuracy: 0.8633\n",
      "Epoch 30/100\n",
      "47/47 [==============================] - 0s 4ms/step - loss: 0.2208 - accuracy: 0.9220 - val_loss: 0.3461 - val_accuracy: 0.8567\n",
      "Epoch 31/100\n",
      "47/47 [==============================] - 0s 4ms/step - loss: 0.2114 - accuracy: 0.9280 - val_loss: 0.3752 - val_accuracy: 0.8600\n",
      "Epoch 32/100\n",
      "47/47 [==============================] - 0s 4ms/step - loss: 0.2191 - accuracy: 0.9267 - val_loss: 0.4811 - val_accuracy: 0.7967\n",
      "Epoch 33/100\n",
      "47/47 [==============================] - 0s 4ms/step - loss: 0.2404 - accuracy: 0.9060 - val_loss: 0.3807 - val_accuracy: 0.8367\n",
      "Epoch 34/100\n",
      "47/47 [==============================] - 0s 4ms/step - loss: 0.2083 - accuracy: 0.9260 - val_loss: 0.4093 - val_accuracy: 0.8233\n",
      "Epoch 35/100\n",
      "47/47 [==============================] - 0s 4ms/step - loss: 0.1939 - accuracy: 0.9373 - val_loss: 0.4057 - val_accuracy: 0.8267\n",
      "Epoch 36/100\n",
      "47/47 [==============================] - 0s 4ms/step - loss: 0.2109 - accuracy: 0.9260 - val_loss: 0.3598 - val_accuracy: 0.8567\n",
      "Epoch 37/100\n",
      "47/47 [==============================] - 0s 4ms/step - loss: 0.1858 - accuracy: 0.9347 - val_loss: 0.3697 - val_accuracy: 0.8467\n",
      "Epoch 38/100\n",
      "47/47 [==============================] - 0s 4ms/step - loss: 0.1879 - accuracy: 0.9367 - val_loss: 0.3272 - val_accuracy: 0.8667\n",
      "Epoch 39/100\n",
      "47/47 [==============================] - 0s 4ms/step - loss: 0.1686 - accuracy: 0.9453 - val_loss: 0.3485 - val_accuracy: 0.8567\n",
      "Epoch 40/100\n",
      "47/47 [==============================] - 0s 4ms/step - loss: 0.1650 - accuracy: 0.9473 - val_loss: 0.3350 - val_accuracy: 0.8667\n",
      "Epoch 41/100\n",
      "47/47 [==============================] - 0s 4ms/step - loss: 0.1699 - accuracy: 0.9407 - val_loss: 0.3823 - val_accuracy: 0.8667\n",
      "Epoch 42/100\n",
      "47/47 [==============================] - 0s 4ms/step - loss: 0.1448 - accuracy: 0.9567 - val_loss: 0.3604 - val_accuracy: 0.8667\n",
      "Epoch 43/100\n",
      "47/47 [==============================] - 0s 4ms/step - loss: 0.1484 - accuracy: 0.9560 - val_loss: 0.3101 - val_accuracy: 0.9000\n",
      "Epoch 44/100\n",
      "47/47 [==============================] - 0s 4ms/step - loss: 0.1715 - accuracy: 0.9407 - val_loss: 0.3653 - val_accuracy: 0.8433\n",
      "Epoch 45/100\n",
      "47/47 [==============================] - 0s 4ms/step - loss: 0.1497 - accuracy: 0.9513 - val_loss: 0.3575 - val_accuracy: 0.8567\n",
      "Epoch 46/100\n",
      "47/47 [==============================] - 0s 4ms/step - loss: 0.1262 - accuracy: 0.9633 - val_loss: 0.3428 - val_accuracy: 0.8700\n",
      "Epoch 47/100\n",
      "47/47 [==============================] - 0s 4ms/step - loss: 0.1335 - accuracy: 0.9587 - val_loss: 0.3033 - val_accuracy: 0.9000\n",
      "Epoch 48/100\n",
      "47/47 [==============================] - 0s 4ms/step - loss: 0.1259 - accuracy: 0.9613 - val_loss: 0.3296 - val_accuracy: 0.8767\n",
      "Epoch 49/100\n",
      "47/47 [==============================] - 0s 4ms/step - loss: 0.1261 - accuracy: 0.9600 - val_loss: 0.3055 - val_accuracy: 0.8800\n",
      "Epoch 50/100\n",
      "47/47 [==============================] - 0s 4ms/step - loss: 0.1062 - accuracy: 0.9633 - val_loss: 0.3499 - val_accuracy: 0.8667\n",
      "Epoch 51/100\n",
      "47/47 [==============================] - 0s 4ms/step - loss: 0.1016 - accuracy: 0.9720 - val_loss: 0.3056 - val_accuracy: 0.8733\n",
      "Epoch 52/100\n",
      "47/47 [==============================] - 0s 4ms/step - loss: 0.1066 - accuracy: 0.9707 - val_loss: 0.4113 - val_accuracy: 0.8433\n",
      "Epoch 53/100\n",
      "47/47 [==============================] - 0s 4ms/step - loss: 0.1317 - accuracy: 0.9513 - val_loss: 0.5269 - val_accuracy: 0.8233\n",
      "Epoch 54/100\n",
      "47/47 [==============================] - 0s 4ms/step - loss: 0.1109 - accuracy: 0.9647 - val_loss: 0.3484 - val_accuracy: 0.8833\n",
      "Epoch 55/100\n",
      "47/47 [==============================] - 0s 4ms/step - loss: 0.0989 - accuracy: 0.9627 - val_loss: 0.2966 - val_accuracy: 0.8833\n",
      "Epoch 56/100\n",
      "47/47 [==============================] - 0s 4ms/step - loss: 0.0943 - accuracy: 0.9747 - val_loss: 0.3932 - val_accuracy: 0.8367\n",
      "Epoch 57/100\n",
      "47/47 [==============================] - 0s 4ms/step - loss: 0.1526 - accuracy: 0.9493 - val_loss: 0.3949 - val_accuracy: 0.8567\n",
      "Epoch 58/100\n",
      "47/47 [==============================] - 0s 4ms/step - loss: 0.0986 - accuracy: 0.9667 - val_loss: 0.4198 - val_accuracy: 0.8467\n"
     ]
    },
    {
     "name": "stdout",
     "output_type": "stream",
     "text": [
      "Epoch 59/100\n",
      "47/47 [==============================] - 0s 4ms/step - loss: 0.0881 - accuracy: 0.9727 - val_loss: 0.2945 - val_accuracy: 0.8867\n",
      "Epoch 60/100\n",
      "47/47 [==============================] - 0s 4ms/step - loss: 0.0709 - accuracy: 0.9813 - val_loss: 0.3194 - val_accuracy: 0.8867\n",
      "Epoch 61/100\n",
      "47/47 [==============================] - 0s 4ms/step - loss: 0.0673 - accuracy: 0.9807 - val_loss: 0.3048 - val_accuracy: 0.8900\n",
      "Epoch 62/100\n",
      "47/47 [==============================] - 0s 4ms/step - loss: 0.0689 - accuracy: 0.9813 - val_loss: 0.2980 - val_accuracy: 0.8800\n",
      "Epoch 63/100\n",
      "47/47 [==============================] - 0s 4ms/step - loss: 0.0693 - accuracy: 0.9820 - val_loss: 0.4016 - val_accuracy: 0.8533\n",
      "Epoch 64/100\n",
      "47/47 [==============================] - 0s 4ms/step - loss: 0.0984 - accuracy: 0.9673 - val_loss: 0.3308 - val_accuracy: 0.8833\n",
      "Epoch 65/100\n",
      "47/47 [==============================] - 0s 4ms/step - loss: 0.0770 - accuracy: 0.9807 - val_loss: 0.3498 - val_accuracy: 0.8633\n",
      "Epoch 66/100\n",
      "47/47 [==============================] - 0s 4ms/step - loss: 0.0567 - accuracy: 0.9873 - val_loss: 0.3112 - val_accuracy: 0.8700\n",
      "Epoch 67/100\n",
      "47/47 [==============================] - 0s 4ms/step - loss: 0.0518 - accuracy: 0.9860 - val_loss: 0.3805 - val_accuracy: 0.8667\n",
      "Epoch 68/100\n",
      "47/47 [==============================] - 0s 4ms/step - loss: 0.0698 - accuracy: 0.9813 - val_loss: 0.3280 - val_accuracy: 0.8767\n",
      "Epoch 69/100\n",
      "47/47 [==============================] - 0s 4ms/step - loss: 0.0615 - accuracy: 0.9853 - val_loss: 0.3888 - val_accuracy: 0.8533\n",
      "Epoch 70/100\n",
      "47/47 [==============================] - 0s 4ms/step - loss: 0.0413 - accuracy: 0.9953 - val_loss: 0.3090 - val_accuracy: 0.8767\n",
      "Epoch 71/100\n",
      "47/47 [==============================] - 0s 4ms/step - loss: 0.0322 - accuracy: 0.9973 - val_loss: 0.3109 - val_accuracy: 0.8800\n",
      "Epoch 72/100\n",
      "47/47 [==============================] - 0s 4ms/step - loss: 0.0332 - accuracy: 0.9973 - val_loss: 0.3872 - val_accuracy: 0.8733\n",
      "Epoch 73/100\n",
      "47/47 [==============================] - 0s 4ms/step - loss: 0.0375 - accuracy: 0.9953 - val_loss: 0.3159 - val_accuracy: 0.8833\n",
      "Epoch 74/100\n",
      "47/47 [==============================] - 0s 4ms/step - loss: 0.0391 - accuracy: 0.9927 - val_loss: 0.3871 - val_accuracy: 0.8400\n",
      "Epoch 75/100\n",
      "47/47 [==============================] - 0s 4ms/step - loss: 0.0408 - accuracy: 0.9880 - val_loss: 0.2918 - val_accuracy: 0.8700\n",
      "Epoch 76/100\n",
      "47/47 [==============================] - 0s 4ms/step - loss: 0.0317 - accuracy: 0.9947 - val_loss: 0.3576 - val_accuracy: 0.8633\n",
      "Epoch 77/100\n",
      "47/47 [==============================] - 0s 4ms/step - loss: 0.0251 - accuracy: 0.9993 - val_loss: 0.3457 - val_accuracy: 0.8667\n",
      "Epoch 78/100\n",
      "47/47 [==============================] - 0s 4ms/step - loss: 0.0233 - accuracy: 0.9987 - val_loss: 0.3394 - val_accuracy: 0.8933\n",
      "Epoch 79/100\n",
      "47/47 [==============================] - 0s 4ms/step - loss: 0.0256 - accuracy: 0.9980 - val_loss: 0.3540 - val_accuracy: 0.8733\n",
      "Epoch 80/100\n",
      "47/47 [==============================] - 0s 4ms/step - loss: 0.0258 - accuracy: 0.9987 - val_loss: 0.3798 - val_accuracy: 0.8667\n",
      "Epoch 81/100\n",
      "47/47 [==============================] - 0s 4ms/step - loss: 0.0305 - accuracy: 0.9960 - val_loss: 0.3883 - val_accuracy: 0.8667\n",
      "Epoch 82/100\n",
      "47/47 [==============================] - 0s 4ms/step - loss: 0.0315 - accuracy: 0.9940 - val_loss: 0.3805 - val_accuracy: 0.8600\n",
      "Epoch 83/100\n",
      "47/47 [==============================] - 0s 4ms/step - loss: 0.0216 - accuracy: 0.9973 - val_loss: 0.3724 - val_accuracy: 0.8833\n",
      "Epoch 84/100\n",
      "47/47 [==============================] - 0s 4ms/step - loss: 0.0200 - accuracy: 0.9993 - val_loss: 0.3843 - val_accuracy: 0.8800\n",
      "Epoch 85/100\n",
      "47/47 [==============================] - 0s 4ms/step - loss: 0.0166 - accuracy: 0.9993 - val_loss: 0.3464 - val_accuracy: 0.8700\n",
      "Epoch 86/100\n",
      "47/47 [==============================] - 0s 4ms/step - loss: 0.0185 - accuracy: 1.0000 - val_loss: 0.3397 - val_accuracy: 0.8733\n",
      "Epoch 87/100\n",
      "47/47 [==============================] - 0s 4ms/step - loss: 0.0243 - accuracy: 0.9960 - val_loss: 0.4002 - val_accuracy: 0.8767\n",
      "Epoch 88/100\n",
      "47/47 [==============================] - 0s 4ms/step - loss: 0.0281 - accuracy: 0.9967 - val_loss: 0.4218 - val_accuracy: 0.8667\n",
      "Epoch 89/100\n",
      "47/47 [==============================] - 0s 4ms/step - loss: 0.0215 - accuracy: 0.9967 - val_loss: 0.3930 - val_accuracy: 0.8733\n",
      "Epoch 90/100\n",
      "47/47 [==============================] - 0s 4ms/step - loss: 0.0186 - accuracy: 0.9980 - val_loss: 0.4354 - val_accuracy: 0.8600\n",
      "Epoch 91/100\n",
      "47/47 [==============================] - 0s 4ms/step - loss: 0.0159 - accuracy: 0.9993 - val_loss: 0.3680 - val_accuracy: 0.8867\n",
      "Epoch 92/100\n",
      "47/47 [==============================] - 0s 4ms/step - loss: 0.0278 - accuracy: 0.9933 - val_loss: 0.4030 - val_accuracy: 0.8733\n",
      "Epoch 93/100\n",
      "47/47 [==============================] - 0s 4ms/step - loss: 0.0186 - accuracy: 0.9987 - val_loss: 0.3637 - val_accuracy: 0.8633\n",
      "Epoch 94/100\n",
      "47/47 [==============================] - 0s 4ms/step - loss: 0.0160 - accuracy: 0.9993 - val_loss: 0.4440 - val_accuracy: 0.8600\n",
      "Epoch 95/100\n",
      "47/47 [==============================] - 0s 4ms/step - loss: 0.0135 - accuracy: 0.9993 - val_loss: 0.3983 - val_accuracy: 0.8733\n",
      "Epoch 96/100\n",
      "47/47 [==============================] - 0s 4ms/step - loss: 0.0123 - accuracy: 1.0000 - val_loss: 0.3341 - val_accuracy: 0.8967\n",
      "Epoch 97/100\n",
      "47/47 [==============================] - 0s 4ms/step - loss: 0.0138 - accuracy: 0.9993 - val_loss: 0.4684 - val_accuracy: 0.8533\n",
      "Epoch 98/100\n",
      "47/47 [==============================] - 0s 4ms/step - loss: 0.0102 - accuracy: 1.0000 - val_loss: 0.3746 - val_accuracy: 0.8767\n",
      "Epoch 99/100\n",
      "47/47 [==============================] - 0s 4ms/step - loss: 0.0075 - accuracy: 1.0000 - val_loss: 0.3774 - val_accuracy: 0.8767\n",
      "Epoch 100/100\n",
      "47/47 [==============================] - 0s 4ms/step - loss: 0.0063 - accuracy: 1.0000 - val_loss: 0.3689 - val_accuracy: 0.8767\n"
     ]
    }
   ],
   "source": [
    "#5-1) 모델 그래프\n",
    "#hist = model.fit(X_train, y_train, epochs=20, batch_size=10, validation_data=(X_validation, y_validation))\n",
    "hist = model.fit(X_train, y_train, epochs=100,  validation_data=(X_validation, y_validation))\n",
    "#model.fit(X_train, y_train, epochs=n_train_epoch)"
   ]
  },
  {
   "cell_type": "code",
   "execution_count": 184,
   "id": "7813a48e",
   "metadata": {},
   "outputs": [
    {
     "data": {
      "image/png": "[encoded data removed]",
      "text/plain": [
       "<Figure size 432x288 with 2 Axes>"
      ]
     },
     "metadata": {
      "needs_background": "light"
     },
     "output_type": "display_data"
    }
   ],
   "source": [
    "#5-2) 모델 그래프\n",
    "%matplotlib inline\n",
    "import matplotlib.pyplot as plt\n",
    "\n",
    "fig, loss_ax = plt.subplots()\n",
    "\n",
    "acc_ax = loss_ax.twinx()\n",
    "\n",
    "loss_ax.plot(hist.history['loss'], 'y', label='train loss')\n",
    "loss_ax.plot(hist.history['val_loss'], 'r', label='val loss')\n",
    "\n",
    "acc_ax.plot(hist.history['accuracy'], 'b', label='train acc')\n",
    "acc_ax.plot(hist.history['val_accuracy'], 'g', label='val acc')\n",
    "\n",
    "loss_ax.set_xlabel('epoch')\n",
    "loss_ax.set_ylabel('loss')\n",
    "acc_ax.set_ylabel('accuray')\n",
    "\n",
    "loss_ax.legend(loc='upper left')\n",
    "acc_ax.legend(loc='lower left')\n",
    "\n",
    "plt.show()"
   ]
  },
  {
   "cell_type": "code",
   "execution_count": 185,
   "id": "bd1c45d7",
   "metadata": {},
   "outputs": [
    {
     "name": "stdout",
     "output_type": "stream",
     "text": [
      "100  images to be resized.\n",
      "100  images resized.\n",
      "가위 이미지 resize 완료!\n"
     ]
    }
   ],
   "source": [
    "#6) test data 준비 .. 가위 ( 이미지가 저장된 디렉토리 아래의 모든 jpg 파일을 읽어들여서\n",
    "def resize_images(img_path):\n",
    "    images=glob.glob(img_path + \"/*.jpg\")  \n",
    "    \n",
    "    print(len(images), \" images to be resized.\")\n",
    "    #print(images.shape)\n",
    "    # 파일마다 모두 28 사이즈로 바꾸어 저장합니다.\n",
    "    target_size=(28,28)\n",
    "    for img in images:\n",
    "        old_img=Image.open(img)\n",
    "        new_img=old_img.resize(target_size,Image.ANTIALIAS)\n",
    "        new_img.save(img, \"JPEG\")\n",
    "    \n",
    "    print(len(images), \" images resized.\")\n",
    "    \n",
    "# 가위 이미지가 저장된 디렉토리 아래의 모든 jpg 파일을 읽어들여서\n",
    "image_dir_path = os.getenv(\"HOME\") + \"/aiffel/rock_scissor_paper/220930_exnode_5/test/scissors\"\n",
    "resize_images(image_dir_path)\n",
    "\n",
    "print(\"가위 이미지 resize 완료!\")"
   ]
  },
  {
   "cell_type": "code",
   "execution_count": 186,
   "id": "56cb8150",
   "metadata": {},
   "outputs": [
    {
     "name": "stdout",
     "output_type": "stream",
     "text": [
      "100  images to be resized.\n",
      "100  images resized.\n",
      "바위 이미지 resize 완료!\n"
     ]
    }
   ],
   "source": [
    "#6) test data 준비 .. 바위 ( 이미지가 저장된 디렉토리 아래의 모든 jpg 파일을 읽어들여서\n",
    "def resize_images(img_path):\n",
    "    images=glob.glob(img_path + \"/*.jpg\")  \n",
    "    \n",
    "    print(len(images), \" images to be resized.\")\n",
    "\n",
    "    # 파일마다 모두 28,28 사이즈로 바꾸어 저장합니다.\n",
    "    target_size=(28,28)\n",
    "    for img in images:\n",
    "        old_img=Image.open(img)\n",
    "        new_img=old_img.resize(target_size,Image.ANTIALIAS)\n",
    "        new_img.save(img, \"JPEG\")\n",
    "    \n",
    "    print(len(images), \" images resized.\")\n",
    "    \n",
    "# 바위 이미지가 저장된 디렉토리 아래의 모든 jpg 파일을 읽어들여서\n",
    "image_dir_path = os.getenv(\"HOME\") + \"/aiffel/rock_scissor_paper/220930_exnode_5/test/rock\"\n",
    "resize_images(image_dir_path)\n",
    "\n",
    "print(\"바위 이미지 resize 완료!\")"
   ]
  },
  {
   "cell_type": "code",
   "execution_count": 187,
   "id": "65ec326b",
   "metadata": {},
   "outputs": [
    {
     "name": "stdout",
     "output_type": "stream",
     "text": [
      "100  images to be resized.\n",
      "100  images resized.\n",
      "보 이미지 resize 완료!\n"
     ]
    }
   ],
   "source": [
    "#6) 성능확인 .. test data 준비 .. 보( 이미지가 저장된 디렉토리 아래의 모든 jpg 파일을 읽어들여서\n",
    "def resize_images(img_path):\n",
    "    images=glob.glob(img_path + \"/*.jpg\")  \n",
    "    \n",
    "    print(len(images), \" images to be resized.\")\n",
    "\n",
    "    # 파일마다 모두 112,112사이즈로 바꾸어 저장합니다.\n",
    "    target_size=(28,28)\n",
    "    for img in images:\n",
    "        old_img=Image.open(img)\n",
    "        new_img=old_img.resize(target_size,Image.ANTIALIAS)\n",
    "        new_img.save(img, \"JPEG\")\n",
    "    \n",
    "    print(len(images), \" images resized.\")\n",
    "    \n",
    "# 바위 이미지가 저장된 디렉토리 아래의 모든 jpg 파일을 읽어들여서\n",
    "image_dir_path = os.getenv(\"HOME\") + \"/aiffel/rock_scissor_paper/220930_exnode_5/test/paper\"\n",
    "resize_images(image_dir_path)\n",
    "\n",
    "print(\"보 이미지 resize 완료!\")\n"
   ]
  },
  {
   "cell_type": "code",
   "execution_count": 188,
   "id": "5c6fd568",
   "metadata": {},
   "outputs": [
    {
     "name": "stdout",
     "output_type": "stream",
     "text": [
      "평가데이터(x-test)의 이미지 개수는 300 입니다.\n",
      "x_test shape: (300, 28, 28, 3)\n",
      "y_test shape: (300,)\n"
     ]
    }
   ],
   "source": [
    "#6) test data 통합\n",
    "def load_data(img_path, number_of_data=300):  # 가위바위보 이미지 개수 총합에 주의하세요.\n",
    "    # 가위 : 0, 바위 : 1, 보 : 2\n",
    "    img_size=28\n",
    "    color=3\n",
    "    #이미지 데이터와 라벨(가위 : 0, 바위 : 1, 보 : 2) 데이터를 담을 행렬(matrix) 영역을 생성합니다.\n",
    "    imgs=np.zeros(number_of_data*img_size*img_size*color,dtype=np.int32).reshape(number_of_data,img_size,img_size,color)\n",
    "    labels=np.zeros(number_of_data,dtype=np.int32)\n",
    "\n",
    "    idx=0\n",
    "    for file in glob.iglob(img_path+'/scissors/*.jpg'):\n",
    "        img = np.array(Image.open(file),dtype=np.int32)\n",
    "        imgs[idx,:,:,:]=img    # 데이터 영역에 이미지 행렬을 복사\n",
    "        labels[idx]=0   # 가위 : 0\n",
    "        idx=idx+1\n",
    "\n",
    "    for file in glob.iglob(img_path+'/rock/*.jpg'):\n",
    "        img = np.array(Image.open(file),dtype=np.int32)\n",
    "        imgs[idx,:,:,:]=img    # 데이터 영역에 이미지 행렬을 복사\n",
    "        labels[idx]=1   # 바위 : 1\n",
    "        idx=idx+1  \n",
    "    \n",
    "    for file in glob.iglob(img_path+'/paper/*.jpg'):\n",
    "        img = np.array(Image.open(file),dtype=np.int32)\n",
    "        imgs[idx,:,:,:]=img    # 데이터 영역에 이미지 행렬을 복사\n",
    "        labels[idx]=2   # 보 : 2\n",
    "        idx=idx+1\n",
    "        \n",
    "    print(\"평가데이터(x-test)의 이미지 개수는\", idx,\"입니다.\")\n",
    "    return imgs, labels\n",
    "\n",
    "image_dir_path = os.getenv(\"HOME\") + \"/aiffel/rock_scissor_paper/220930_exnode_5/test\"\n",
    "\n",
    "(x_test, y_test)=load_data(image_dir_path)\n",
    "x_test_norm = x_test/255.0   # 입력은 0~1 사이의 값으로 정규화\n",
    "\n",
    "print(\"x_test shape: {}\".format(x_test_norm.shape))\n",
    "print(\"y_test shape: {}\".format(y_test.shape))"
   ]
  },
  {
   "cell_type": "code",
   "execution_count": 189,
   "id": "f8649e99",
   "metadata": {},
   "outputs": [
    {
     "name": "stdout",
     "output_type": "stream",
     "text": [
      "10/10 - 0s - loss: 2.7985 - accuracy: 0.5967\n",
      "test_loss: 2.798460006713867 \n",
      "test_accuracy: 0.596666693687439\n"
     ]
    }
   ],
   "source": [
    "#7) 성능확인\n",
    "#7-1) test data로 점수\n",
    "# model을 학습시키는 코드를 직접 작성해 보세요.\n",
    "# Hint! model.evaluate()을 사용해 봅시다.\n",
    "\n",
    "test_loss, test_accuracy = model.evaluate(x_test_norm, y_test, verbose=2)\n",
    "print(f\"test_loss: {test_loss} \")\n",
    "print(f\"test_accuracy: {test_accuracy}\")\n"
   ]
  },
  {
   "cell_type": "code",
   "execution_count": 190,
   "id": "ccc47700",
   "metadata": {},
   "outputs": [
    {
     "name": "stdout",
     "output_type": "stream",
     "text": [
      "model.predict() 결과 :  [9.9959570e-01 4.0429065e-04 5.7352030e-09]\n",
      "model이 추론한 가장 가능성이 높은 결과 :  0\n",
      "실제 데이터의 라벨 :  0\n"
     ]
    }
   ],
   "source": [
    "#7) 성능확인\n",
    "#7-2) 추론한 값들 확인 \n",
    "predicted_result = model.predict(x_test_norm)  # model이 추론한 확률값. \n",
    "predicted_labels = np.argmax(predicted_result, axis=1)\n",
    "\n",
    "idx=0  #1번째 x_test를 살펴보자. \n",
    "print('model.predict() 결과 : ', predicted_result[idx])\n",
    "print('model이 추론한 가장 가능성이 높은 결과 : ', predicted_labels[idx])\n",
    "print('실제 데이터의 라벨 : ', y_test[idx])"
   ]
  },
  {
   "cell_type": "code",
   "execution_count": 191,
   "id": "72d6f4bd",
   "metadata": {},
   "outputs": [
    {
     "data": {
      "image/png": "[encoded data removed]",
      "text/plain": [
       "<Figure size 432x288 with 1 Axes>"
      ]
     },
     "metadata": {
      "needs_background": "light"
     },
     "output_type": "display_data"
    }
   ],
   "source": [
    "#7) 성능확인\n",
    "#7-3) - 데이타로 확인 \n",
    "plt.imshow(x_test_norm[idx],cmap=plt.cm.binary)\n",
    "plt.show()"
   ]
  },
  {
   "cell_type": "code",
   "execution_count": 192,
   "id": "7a58788e",
   "metadata": {},
   "outputs": [],
   "source": [
    "#7) 성능확인\n",
    "#7-4)  model이 추론해 낸 숫자와 실제 라벨의 값이 다른 경우\n",
    "import random\n",
    "\n",
    "wrong_predict_list=[]\n",
    "for i, _ in enumerate(predicted_labels):\n",
    "    # i번째 test_labels과 y_test이 다른 경우만 모아 봅시다. \n",
    "    if predicted_labels[i] != y_test[i]:\n",
    "        wrong_predict_list.append(i)\n"
   ]
  },
  {
   "cell_type": "code",
   "execution_count": 193,
   "id": "9ef0b6cf",
   "metadata": {},
   "outputs": [
    {
     "name": "stdout",
     "output_type": "stream",
     "text": [
      "예측확률분포: [9.9930930e-01 2.3833481e-05 6.6685770e-04]\n",
      "라벨: 2, 예측결과: 0\n"
     ]
    },
    {
     "data": {
      "image/png": "[encoded data removed]",
      "text/plain": [
       "<Figure size 432x288 with 1 Axes>"
      ]
     },
     "metadata": {
      "needs_background": "light"
     },
     "output_type": "display_data"
    },
    {
     "name": "stdout",
     "output_type": "stream",
     "text": [
      "예측확률분포: [0.01154672 0.9851156  0.00333773]\n",
      "라벨: 0, 예측결과: 1\n"
     ]
    },
    {
     "data": {
      "image/png": "[encoded data removed]",
      "text/plain": [
       "<Figure size 432x288 with 1 Axes>"
      ]
     },
     "metadata": {
      "needs_background": "light"
     },
     "output_type": "display_data"
    },
    {
     "name": "stdout",
     "output_type": "stream",
     "text": [
      "예측확률분포: [9.4460851e-01 3.7647708e-04 5.5015028e-02]\n",
      "라벨: 1, 예측결과: 0\n"
     ]
    },
    {
     "data": {
      "image/png": "[encoded data removed]",
      "text/plain": [
       "<Figure size 432x288 with 1 Axes>"
      ]
     },
     "metadata": {
      "needs_background": "light"
     },
     "output_type": "display_data"
    },
    {
     "name": "stdout",
     "output_type": "stream",
     "text": [
      "예측확률분포: [9.7070879e-05 9.9990296e-01 2.2440341e-08]\n",
      "라벨: 0, 예측결과: 1\n"
     ]
    },
    {
     "data": {
      "image/png": "[encoded data removed]",
      "text/plain": [
       "<Figure size 432x288 with 1 Axes>"
      ]
     },
     "metadata": {
      "needs_background": "light"
     },
     "output_type": "display_data"
    },
    {
     "name": "stdout",
     "output_type": "stream",
     "text": [
      "예측확률분포: [3.5659075e-06 8.4430479e-02 9.1556603e-01]\n",
      "라벨: 1, 예측결과: 2\n"
     ]
    },
    {
     "data": {
      "image/png": "[encoded data removed]",
      "text/plain": [
       "<Figure size 432x288 with 1 Axes>"
      ]
     },
     "metadata": {
      "needs_background": "light"
     },
     "output_type": "display_data"
    },
    {
     "name": "stdout",
     "output_type": "stream",
     "text": [
      "test_accuracy: 0.596666693687439\n",
      "After Reshape - x_test shape: (300, 28, 28, 3)\n"
     ]
    }
   ],
   "source": [
    "#7) 성능확인\n",
    "#7-5)  model이 추론해 낸 숫자와 실제 라벨의 값이 다른 경우\n",
    "# wrong_predict_list 에서 랜덤하게 5개만 뽑아봅시다.\n",
    "samples = random.choices(population=wrong_predict_list, k=5)\n",
    "\n",
    "for n in samples:\n",
    "    print(\"예측확률분포: \" + str(predicted_result[n]))\n",
    "    print(\"라벨: \" + str(y_test[n]) + \", 예측결과: \" + str(predicted_labels[n]))\n",
    "    plt.imshow(x_test_norm[n], cmap=plt.cm.binary)\n",
    "    plt.show()\n",
    "print(f\"test_accuracy: {test_accuracy}\")\n",
    "print(f\"After Reshape - x_test shape: {x_test_norm.shape}\")\n"
   ]
  }
 ],
 "metadata": {
  "kernelspec": {
   "display_name": "Python 3 (ipykernel)",
   "language": "python",
   "name": "python3"
  },
  "language_info": {
   "codemirror_mode": {
    "name": "ipython",
    "version": 3
   },
   "file_extension": ".py",
   "mimetype": "text/x-python",
   "name": "python",
   "nbconvert_exporter": "python",
   "pygments_lexer": "ipython3",
   "version": "3.9.7"
  }
 },
 "nbformat": 4,
 "nbformat_minor": 5
}
