{
 "cells": [
  {
   "cell_type": "markdown",
   "id": "fe1bc90c",
   "metadata": {},
   "source": [
    "    exnode 5. play rock scissor paper      \n",
    "         \n",
    "    1. 절차 \n",
    "        0) package loding\n",
    "        1) 데이터 준비 : 조원들과 함께 가위,바위,보의 이미지를 합동으로 만들었다.\n",
    "          . 이미지 : 2100장( 1명당 300장의 이미지 작성*7명 )\n",
    "            ..데이터분리 : train, test 분리 \n",
    "              ... train(1800장) : /aiffel/rock_scissor_paper/220930_exnode_5/scissors(rock,paper)\n",
    "              ... test(300장)   : /aiffel/rock_scissor_paper/220930_exnode_5/test/scissors(rock,paper)   \n",
    "        2) 데이터 사이즈 변경 : train , test\n",
    "          . data 확인 : 이미지확인 , data 전처리 실시(정규화)\n",
    "        3) 모델설계하기 : Conv2D, MaxPooling2D, Flatten, Dense\n",
    "          . Conv2D\n",
    "          . MaxPooling2D\n",
    "          . Flatten\n",
    "          . Dense\n",
    "        4) 모델 학습 \n",
    "          . 네트워크 입력형태 만들기\n",
    "          . 학습시키기\n",
    "        5) 이미지 분류기 모델에 대한 그래프\n",
    "          . train accuracy 는 향상되고 , train loss는 줄어듬\n",
    "          . validation accuracy는 향상되다 일정한 수준으로 수렴, \n",
    "            validation loss는 줄어들다 늘어나는 경향성( hyper parameter 조정이 필요한 듯 함)\n",
    "        6) test data 준비\n",
    "        7) 성능확인 \n",
    "          . 예측한 값과 실제 값 확인\n",
    "          . 데이터로 확인\n",
    "          . model이 추론해 낸 이미지와 실제 라벨의 값이 다른 경우\n",
    "                   \n",
    "    2. 결론 & 배운점\n",
    "        1) 이미지 분류기 모델이 성공적으로 만들어졌는가?\n",
    "           - train accuracy 는 향상되고 , train loss는 줄어듬\n",
    "           - validation accuracy는 향상되다 일정한 수준으로 수렴, \n",
    "             validation loss는 줄어들다 늘어나는 경향성( hyper parameter 조정이 필요한 듯 함)\n",
    "        2) 오버피팅을 극복하기 위한 적절한 시도가 있었는가?  \n",
    "           - DATA의 양을 늘림 ( 300 -> 2100 )\n",
    "           - train data 분할시 : 1) train data :정규화 \n",
    "                                 2) random으로 추출\n",
    "           - test data 생성시  : 1) test data :정규화\n",
    "        3) 분류모델의 test accuracy가 기준 이상 높게 나왔는가?\n",
    "           - 62% 유지\n",
    "        4) 배운점 \n",
    "           - Data측면 : \n",
    "             . Data 수집방법을 익히게 되었고 데이터량의 증가가 오버피팅 극복을 알게 되었슴.\n",
    "             . train, test data의 정규화와 랜덤화 방법을 재확인 \n",
    "           - model 측면 \n",
    "             . hyper parameter 의 변화에 따른 손실함수 감소를 알게 되었슴\n",
    "             . 최적의 파라메타를 찾기위한 시도 및 최적 파라메타 확인 \n",
    "           - 혼란스러웠던 점 \n",
    "             . 동일 모델, 동일 parameter로 동일 test data 확인 했을 때 변화되는 손실값, 정확도 (동일해야 되는데 왜?)         \n",
    "           "
   ]
  },
  {
   "cell_type": "code",
   "execution_count": 1,
   "id": "0140eff9",
   "metadata": {},
   "outputs": [],
   "source": [
    "#0) package loding\n",
    "import tensorflow as tf\n",
    "from tensorflow import keras\n",
    "import numpy as np\n",
    "import pandas as pd\n",
    "import matplotlib.pyplot as plt\n",
    "from PIL import Image\n",
    "import glob\n",
    "from sklearn.model_selection import train_test_split\n",
    "import os"
   ]
  },
  {
   "cell_type": "code",
   "execution_count": 2,
   "id": "b4332262",
   "metadata": {},
   "outputs": [
    {
     "name": "stdout",
     "output_type": "stream",
     "text": [
      "600  images to be resized.\n",
      "600  images resized.\n",
      "가위 이미지 resize 완료!\n"
     ]
    }
   ],
   "source": [
    "#2-1 데이터 사이즈 변경 : 가위 (이미지가 저장된 디렉토리 아래의 모든 jpg 파일을 읽어들여서\n",
    "def resize_images(img_path):\n",
    "    images=glob.glob(img_path + \"/*.jpg\")  \n",
    "    \n",
    "    print(len(images), \" images to be resized.\")\n",
    "\n",
    "    # 파일마다 모두 28 사이즈로 바꾸어 저장합니다.\n",
    "    target_size=(28,28)\n",
    "    for img in images:\n",
    "        old_img=Image.open(img)\n",
    "        new_img=old_img.resize(target_size,Image.ANTIALIAS)\n",
    "        new_img.save(img, \"JPEG\")\n",
    "    \n",
    "    print(len(images), \" images resized.\")\n",
    "    \n",
    "# 가위 이미지가 저장된 디렉토리 아래의 모든 jpg 파일을 읽어들여서\n",
    "image_dir_path = os.getenv(\"HOME\") + \"/aiffel/rock_scissor_paper/220930_exnode_5/scissors\"\n",
    "resize_images(image_dir_path)\n",
    "\n",
    "print(\"가위 이미지 resize 완료!\")"
   ]
  },
  {
   "cell_type": "code",
   "execution_count": 3,
   "id": "525ee6a7",
   "metadata": {},
   "outputs": [
    {
     "name": "stdout",
     "output_type": "stream",
     "text": [
      "600  images to be resized.\n",
      "600  images resized.\n",
      "바위 이미지 resize 완료!\n"
     ]
    }
   ],
   "source": [
    "#2-2 데이터 사이즈 변경 : 바위 (이미지가 저장된 디렉토리 아래의 모든 jpg 파일을 읽어들여서\n",
    "def resize_images(img_path):\n",
    "    images=glob.glob(img_path + \"/*.jpg\")  \n",
    "    \n",
    "    print(len(images), \" images to be resized.\")\n",
    "\n",
    "    # 파일마다 모두 28 사이즈로 바꾸어 저장합니다.\n",
    "    target_size=(28,28)\n",
    "    for img in images:\n",
    "        old_img=Image.open(img)\n",
    "        new_img=old_img.resize(target_size,Image.ANTIALIAS)\n",
    "        new_img.save(img, \"JPEG\")\n",
    "    \n",
    "    print(len(images), \" images resized.\")\n",
    "    \n",
    "# 바위 이미지가 저장된 디렉토리 아래의 모든 jpg 파일을 읽어들여서\n",
    "image_dir_path = os.getenv(\"HOME\") + \"/aiffel/rock_scissor_paper/220930_exnode_5/rock\"\n",
    "resize_images(image_dir_path)\n",
    "\n",
    "print(\"바위 이미지 resize 완료!\")"
   ]
  },
  {
   "cell_type": "code",
   "execution_count": 4,
   "id": "bbb71574",
   "metadata": {},
   "outputs": [
    {
     "name": "stdout",
     "output_type": "stream",
     "text": [
      "600  images to be resized.\n",
      "600  images resized.\n",
      "보 이미지 resize 완료!\n"
     ]
    }
   ],
   "source": [
    "#2-3 데이터 사이즈 변경 : 보 ( 이미지가 저장된 디렉토리 아래의 모든 jpg 파일을 읽어들여서\n",
    "def resize_images(img_path):\n",
    "    images=glob.glob(img_path + \"/*.jpg\")  \n",
    "    \n",
    "    print(len(images), \" images to be resized.\")\n",
    "\n",
    "    # 파일마다 모두 28 사이즈로 바꾸어 저장합니다.\n",
    "    target_size=(28,28)\n",
    "    for img in images:\n",
    "        old_img=Image.open(img)\n",
    "        new_img=old_img.resize(target_size,Image.ANTIALIAS)\n",
    "        new_img.save(img, \"JPEG\")\n",
    "    \n",
    "    print(len(images), \" images resized.\")\n",
    "    \n",
    "# 바위 이미지가 저장된 디렉토리 아래의 모든 jpg 파일을 읽어들여서\n",
    "image_dir_path = os.getenv(\"HOME\") + \"/aiffel/rock_scissor_paper/220930_exnode_5/paper\"\n",
    "resize_images(image_dir_path)\n",
    "\n",
    "print(\"보 이미지 resize 완료!\")"
   ]
  },
  {
   "cell_type": "code",
   "execution_count": 5,
   "id": "945a4c7e",
   "metadata": {},
   "outputs": [
    {
     "name": "stdout",
     "output_type": "stream",
     "text": [
      "학습데이터(x_train)의 이미지 개수는 1800 입니다.\n",
      "X_train shape: (1500, 28, 28, 3)\n",
      "y_train shape: (1500,)\n",
      "X_validation shape: (300, 28, 28, 3)\n",
      "y_validation shape: (300,)\n"
     ]
    }
   ],
   "source": [
    "#2-4) 데이터 분리 \n",
    "def load_data(img_path, number_of_data=1800):  # 가위바위보 이미지 개수 총합에 주의하세요.\n",
    "    # 가위 : 0, 바위 : 1, 보 : 2\n",
    "    img_size=28\n",
    "    color=3\n",
    "    #이미지 데이터와 라벨(가위 : 0, 바위 : 1, 보 : 2) 데이터를 담을 행렬(matrix) 영역을 생성합니다.\n",
    "    imgs=np.zeros(number_of_data*img_size*img_size*color,dtype=np.int32).reshape(number_of_data,img_size,img_size,color)\n",
    "    labels=np.zeros(number_of_data,dtype=np.int32)\n",
    "\n",
    "    idx=0\n",
    "    for file in glob.iglob(img_path+'/scissors/*.jpg'): \n",
    "        img = np.array(Image.open(file),dtype=np.int32)\n",
    "        imgs[idx,:,:,:]=img    # 데이터 영역에 이미지 행렬을 복사\n",
    "        labels[idx]=0   # 가위 : 0\n",
    "        idx=idx+1\n",
    "\n",
    "    for file in glob.iglob(img_path+'/rock/*.jpg'):\n",
    "        img = np.array(Image.open(file),dtype=np.int32)\n",
    "        imgs[idx,:,:,:]=img    # 데이터 영역에 이미지 행렬을 복사\n",
    "        labels[idx]=1   # 바위 : 1\n",
    "        idx=idx+1  \n",
    "    \n",
    "    for file in glob.iglob(img_path+'/paper/*.jpg'):\n",
    "        img = np.array(Image.open(file),dtype=np.int32)\n",
    "        imgs[idx,:,:,:]=img    # 데이터 영역에 이미지 행렬을 복사\n",
    "        labels[idx]=2   # 보 : 2\n",
    "        idx=idx+1\n",
    "        \n",
    "    print(\"학습데이터(x_train)의 이미지 개수는\", idx,\"입니다.\")\n",
    "    return imgs, labels\n",
    "\n",
    "image_dir_path = os.getenv(\"HOME\") + \"/aiffel/rock_scissor_paper/220930_exnode_5\"\n",
    "\n",
    "(X_train, y_train) =load_data(image_dir_path)\n",
    "x_train_norm = X_train/255.0   # 입력은 0~1 사이의 값으로 정규화\n",
    "X_train, X_validation, y_train, y_validation = train_test_split(x_train_norm,\n",
    "                                                                y_train,\n",
    "                                                                test_size=300/1800,\n",
    "                                                                random_state=15)\n",
    "print(\"X_train shape: {}\".format(X_train.shape))\n",
    "print(\"y_train shape: {}\".format(y_train.shape))\n",
    "print(\"X_validation shape: {}\".format(X_validation.shape))\n",
    "print(\"y_validation shape: {}\".format(y_validation.shape))"
   ]
  },
  {
   "cell_type": "code",
   "execution_count": 6,
   "id": "95fa03ae",
   "metadata": {},
   "outputs": [
    {
     "name": "stdout",
     "output_type": "stream",
     "text": [
      "라벨:  0\n"
     ]
    },
    {
     "data": {
      "image/png": "[encoded data removed]",
      "text/plain": [
       "<Figure size 432x288 with 1 Axes>"
      ]
     },
     "metadata": {
      "needs_background": "light"
     },
     "output_type": "display_data"
    }
   ],
   "source": [
    "plt.imshow(X_train [0])\n",
    "print('라벨: ', y_train[0])"
   ]
  },
  {
   "cell_type": "code",
   "execution_count": 7,
   "id": "35842f24",
   "metadata": {},
   "outputs": [
    {
     "name": "stdout",
     "output_type": "stream",
     "text": [
      "Model: \"sequential\"\n",
      "_________________________________________________________________\n",
      "Layer (type)                 Output Shape              Param #   \n",
      "=================================================================\n",
      "conv2d (Conv2D)              (None, 26, 26, 32)        896       \n",
      "_________________________________________________________________\n",
      "max_pooling2d (MaxPooling2D) (None, 13, 13, 32)        0         \n",
      "_________________________________________________________________\n",
      "conv2d_1 (Conv2D)            (None, 11, 11, 64)        18496     \n",
      "_________________________________________________________________\n",
      "max_pooling2d_1 (MaxPooling2 (None, 5, 5, 64)          0         \n",
      "_________________________________________________________________\n",
      "flatten (Flatten)            (None, 1600)              0         \n",
      "_________________________________________________________________\n",
      "dense (Dense)                (None, 64)                102464    \n",
      "_________________________________________________________________\n",
      "dense_1 (Dense)              (None, 3)                 195       \n",
      "=================================================================\n",
      "Total params: 122,051\n",
      "Trainable params: 122,051\n",
      "Non-trainable params: 0\n",
      "_________________________________________________________________\n"
     ]
    }
   ],
   "source": [
    "#3) 모델설계하기\n",
    "# Hint! model의 입력/출력부에 특히 유의해 주세요. 가위바위보 데이터셋은 MNIST 데이터셋과 어떤 점이 달라졌나요?\n",
    "n_channel_1=32\n",
    "n_channel_2=64\n",
    "n_dense=64\n",
    "n_train_epoch=20\n",
    "\n",
    "model=keras.models.Sequential()\n",
    "model.add(keras.layers.Conv2D(n_channel_1, (3,3), activation='relu', input_shape=(28,28,3)))\n",
    "model.add(keras.layers.MaxPool2D(2,2))\n",
    "model.add(keras.layers.Conv2D(n_channel_2, (3,3), activation='relu'))\n",
    "model.add(keras.layers.MaxPooling2D((2,2)))\n",
    "model.add(keras.layers.Flatten())\n",
    "model.add(keras.layers.Dense(n_dense, activation='relu'))\n",
    "model.add(keras.layers.Dense(3, activation='softmax'))\n",
    "\n",
    "\n",
    "model.summary()"
   ]
  },
  {
   "cell_type": "code",
   "execution_count": 8,
   "id": "28b07989",
   "metadata": {},
   "outputs": [
    {
     "name": "stdout",
     "output_type": "stream",
     "text": [
      "Epoch 1/20\n",
      "47/47 [==============================] - 3s 5ms/step - loss: 1.1022 - accuracy: 0.3407\n",
      "Epoch 2/20\n",
      "47/47 [==============================] - 0s 3ms/step - loss: 1.0814 - accuracy: 0.4033\n",
      "Epoch 3/20\n",
      "47/47 [==============================] - 0s 3ms/step - loss: 1.0111 - accuracy: 0.5233\n",
      "Epoch 4/20\n",
      "47/47 [==============================] - 0s 3ms/step - loss: 0.9770 - accuracy: 0.5460\n",
      "Epoch 5/20\n",
      "47/47 [==============================] - 0s 3ms/step - loss: 0.9171 - accuracy: 0.5833\n",
      "Epoch 6/20\n",
      "47/47 [==============================] - 0s 3ms/step - loss: 0.8707 - accuracy: 0.6160\n",
      "Epoch 7/20\n",
      "47/47 [==============================] - 0s 3ms/step - loss: 0.8408 - accuracy: 0.6220\n",
      "Epoch 8/20\n",
      "47/47 [==============================] - 0s 3ms/step - loss: 0.8047 - accuracy: 0.6393\n",
      "Epoch 9/20\n",
      "47/47 [==============================] - 0s 3ms/step - loss: 0.7866 - accuracy: 0.6540\n",
      "Epoch 10/20\n",
      "47/47 [==============================] - 0s 3ms/step - loss: 0.7362 - accuracy: 0.6813\n",
      "Epoch 11/20\n",
      "47/47 [==============================] - 0s 3ms/step - loss: 0.7044 - accuracy: 0.6913\n",
      "Epoch 12/20\n",
      "47/47 [==============================] - 0s 3ms/step - loss: 0.6675 - accuracy: 0.7140\n",
      "Epoch 13/20\n",
      "47/47 [==============================] - 0s 3ms/step - loss: 0.6545 - accuracy: 0.7267\n",
      "Epoch 14/20\n",
      "47/47 [==============================] - 0s 3ms/step - loss: 0.6127 - accuracy: 0.7567\n",
      "Epoch 15/20\n",
      "47/47 [==============================] - 0s 3ms/step - loss: 0.5882 - accuracy: 0.7587\n",
      "Epoch 16/20\n",
      "47/47 [==============================] - 0s 3ms/step - loss: 0.5862 - accuracy: 0.7687\n",
      "Epoch 17/20\n",
      "47/47 [==============================] - 0s 3ms/step - loss: 0.5513 - accuracy: 0.7967\n",
      "Epoch 18/20\n",
      "47/47 [==============================] - 0s 3ms/step - loss: 0.5568 - accuracy: 0.7720\n",
      "Epoch 19/20\n",
      "47/47 [==============================] - 0s 3ms/step - loss: 0.5155 - accuracy: 0.7993\n",
      "Epoch 20/20\n",
      "47/47 [==============================] - 0s 3ms/step - loss: 0.4904 - accuracy: 0.8093\n"
     ]
    },
    {
     "data": {
      "text/plain": [
       "<keras.callbacks.History at 0x7f4ed280eb80>"
      ]
     },
     "execution_count": 8,
     "metadata": {},
     "output_type": "execute_result"
    }
   ],
   "source": [
    "#4-1) 모델 학습 : 학습시키기\n",
    "# model을 학습시키는 코드를 직접 작성해 보세요.\n",
    "# Hint! model.compile()과 model.fit()을 사용해 봅시다.\n",
    "model.compile(optimizer='adam',\n",
    "             loss='sparse_categorical_crossentropy',\n",
    "             metrics=['accuracy'])\n",
    "\n",
    "model.fit(X_train, y_train, epochs=n_train_epoch)"
   ]
  },
  {
   "cell_type": "code",
   "execution_count": 9,
   "id": "10aa10b9",
   "metadata": {},
   "outputs": [
    {
     "name": "stdout",
     "output_type": "stream",
     "text": [
      "10/10 - 0s - loss: 0.4415 - accuracy: 0.8433\n",
      "test_loss: 0.44154906272888184 \n",
      "test_accuracy: 0.8433333039283752\n"
     ]
    }
   ],
   "source": [
    "#4-2)검증\n",
    "test_loss, test_accuracy = model.evaluate(X_validation, y_validation, verbose=2)\n",
    "print(f\"test_loss: {test_loss} \")\n",
    "print(f\"test_accuracy: {test_accuracy}\")"
   ]
  },
  {
   "cell_type": "code",
   "execution_count": 10,
   "id": "c29e2293",
   "metadata": {},
   "outputs": [
    {
     "name": "stdout",
     "output_type": "stream",
     "text": [
      "Epoch 1/100\n",
      "47/47 [==============================] - 0s 4ms/step - loss: 0.4619 - accuracy: 0.8180 - val_loss: 0.4933 - val_accuracy: 0.7933\n",
      "Epoch 2/100\n",
      "47/47 [==============================] - 0s 4ms/step - loss: 0.4483 - accuracy: 0.8347 - val_loss: 0.4722 - val_accuracy: 0.8167\n",
      "Epoch 3/100\n",
      "47/47 [==============================] - 0s 4ms/step - loss: 0.4305 - accuracy: 0.8373 - val_loss: 0.4408 - val_accuracy: 0.8467\n",
      "Epoch 4/100\n",
      "47/47 [==============================] - 0s 4ms/step - loss: 0.4484 - accuracy: 0.8313 - val_loss: 0.4487 - val_accuracy: 0.8333\n",
      "Epoch 5/100\n",
      "47/47 [==============================] - 0s 4ms/step - loss: 0.4063 - accuracy: 0.8547 - val_loss: 0.4396 - val_accuracy: 0.8433\n",
      "Epoch 6/100\n",
      "47/47 [==============================] - 0s 4ms/step - loss: 0.3830 - accuracy: 0.8627 - val_loss: 0.4142 - val_accuracy: 0.8600\n",
      "Epoch 7/100\n",
      "47/47 [==============================] - 0s 4ms/step - loss: 0.3805 - accuracy: 0.8520 - val_loss: 0.4605 - val_accuracy: 0.8167\n",
      "Epoch 8/100\n",
      "47/47 [==============================] - 0s 4ms/step - loss: 0.3707 - accuracy: 0.8567 - val_loss: 0.4254 - val_accuracy: 0.8300\n",
      "Epoch 9/100\n",
      "47/47 [==============================] - 0s 4ms/step - loss: 0.3363 - accuracy: 0.8740 - val_loss: 0.4770 - val_accuracy: 0.8300\n",
      "Epoch 10/100\n",
      "47/47 [==============================] - 0s 4ms/step - loss: 0.3100 - accuracy: 0.8827 - val_loss: 0.3673 - val_accuracy: 0.8700\n",
      "Epoch 11/100\n",
      "47/47 [==============================] - 0s 4ms/step - loss: 0.2901 - accuracy: 0.9007 - val_loss: 0.3391 - val_accuracy: 0.8767\n",
      "Epoch 12/100\n",
      "47/47 [==============================] - 0s 4ms/step - loss: 0.2923 - accuracy: 0.8993 - val_loss: 0.3592 - val_accuracy: 0.8700\n",
      "Epoch 13/100\n",
      "47/47 [==============================] - 0s 4ms/step - loss: 0.2695 - accuracy: 0.9053 - val_loss: 0.3597 - val_accuracy: 0.8533\n",
      "Epoch 14/100\n",
      "47/47 [==============================] - 0s 4ms/step - loss: 0.2698 - accuracy: 0.8953 - val_loss: 0.3709 - val_accuracy: 0.8467\n",
      "Epoch 15/100\n",
      "47/47 [==============================] - 0s 4ms/step - loss: 0.2369 - accuracy: 0.9153 - val_loss: 0.3496 - val_accuracy: 0.8600\n",
      "Epoch 16/100\n",
      "47/47 [==============================] - 0s 4ms/step - loss: 0.2351 - accuracy: 0.9273 - val_loss: 0.3701 - val_accuracy: 0.8633\n",
      "Epoch 17/100\n",
      "47/47 [==============================] - 0s 4ms/step - loss: 0.2303 - accuracy: 0.9193 - val_loss: 0.3353 - val_accuracy: 0.8667\n",
      "Epoch 18/100\n",
      "47/47 [==============================] - 0s 4ms/step - loss: 0.2221 - accuracy: 0.9173 - val_loss: 0.3431 - val_accuracy: 0.8533\n",
      "Epoch 19/100\n",
      "47/47 [==============================] - 0s 4ms/step - loss: 0.2229 - accuracy: 0.9127 - val_loss: 0.3853 - val_accuracy: 0.8433\n",
      "Epoch 20/100\n",
      "47/47 [==============================] - 0s 4ms/step - loss: 0.1996 - accuracy: 0.9313 - val_loss: 0.3212 - val_accuracy: 0.8900\n",
      "Epoch 21/100\n",
      "47/47 [==============================] - 0s 4ms/step - loss: 0.1783 - accuracy: 0.9387 - val_loss: 0.3281 - val_accuracy: 0.8767\n",
      "Epoch 22/100\n",
      "47/47 [==============================] - 0s 4ms/step - loss: 0.1716 - accuracy: 0.9407 - val_loss: 0.3405 - val_accuracy: 0.8733\n",
      "Epoch 23/100\n",
      "47/47 [==============================] - 0s 4ms/step - loss: 0.1616 - accuracy: 0.9500 - val_loss: 0.3431 - val_accuracy: 0.8800\n",
      "Epoch 24/100\n",
      "47/47 [==============================] - 0s 4ms/step - loss: 0.1905 - accuracy: 0.9280 - val_loss: 0.3787 - val_accuracy: 0.8633\n",
      "Epoch 25/100\n",
      "47/47 [==============================] - 0s 4ms/step - loss: 0.1493 - accuracy: 0.9513 - val_loss: 0.3439 - val_accuracy: 0.8700\n",
      "Epoch 26/100\n",
      "47/47 [==============================] - 0s 4ms/step - loss: 0.1459 - accuracy: 0.9547 - val_loss: 0.3098 - val_accuracy: 0.8933\n",
      "Epoch 27/100\n",
      "47/47 [==============================] - 0s 4ms/step - loss: 0.1291 - accuracy: 0.9627 - val_loss: 0.3252 - val_accuracy: 0.8800\n",
      "Epoch 28/100\n",
      "47/47 [==============================] - 0s 4ms/step - loss: 0.1442 - accuracy: 0.9507 - val_loss: 0.4210 - val_accuracy: 0.8433\n",
      "Epoch 29/100\n",
      "47/47 [==============================] - 0s 4ms/step - loss: 0.1277 - accuracy: 0.9607 - val_loss: 0.3105 - val_accuracy: 0.8900\n",
      "Epoch 30/100\n",
      "47/47 [==============================] - 0s 4ms/step - loss: 0.1079 - accuracy: 0.9653 - val_loss: 0.3055 - val_accuracy: 0.9067\n",
      "Epoch 31/100\n",
      "47/47 [==============================] - 0s 4ms/step - loss: 0.1183 - accuracy: 0.9633 - val_loss: 0.3271 - val_accuracy: 0.8767\n",
      "Epoch 32/100\n",
      "47/47 [==============================] - 0s 4ms/step - loss: 0.1276 - accuracy: 0.9580 - val_loss: 0.3798 - val_accuracy: 0.8633\n",
      "Epoch 33/100\n",
      "47/47 [==============================] - 0s 4ms/step - loss: 0.0963 - accuracy: 0.9687 - val_loss: 0.3091 - val_accuracy: 0.8900\n",
      "Epoch 34/100\n",
      "47/47 [==============================] - 0s 4ms/step - loss: 0.0986 - accuracy: 0.9673 - val_loss: 0.3167 - val_accuracy: 0.8967\n",
      "Epoch 35/100\n",
      "47/47 [==============================] - 0s 4ms/step - loss: 0.1238 - accuracy: 0.9573 - val_loss: 0.3791 - val_accuracy: 0.8833\n",
      "Epoch 36/100\n",
      "47/47 [==============================] - 0s 4ms/step - loss: 0.0847 - accuracy: 0.9753 - val_loss: 0.3158 - val_accuracy: 0.8933\n",
      "Epoch 37/100\n",
      "47/47 [==============================] - 0s 4ms/step - loss: 0.0723 - accuracy: 0.9807 - val_loss: 0.3007 - val_accuracy: 0.8933\n",
      "Epoch 38/100\n",
      "47/47 [==============================] - 0s 4ms/step - loss: 0.0659 - accuracy: 0.9867 - val_loss: 0.3166 - val_accuracy: 0.8967\n",
      "Epoch 39/100\n",
      "47/47 [==============================] - 0s 4ms/step - loss: 0.0629 - accuracy: 0.9827 - val_loss: 0.3358 - val_accuracy: 0.8900\n",
      "Epoch 40/100\n",
      "47/47 [==============================] - 0s 4ms/step - loss: 0.0577 - accuracy: 0.9887 - val_loss: 0.3699 - val_accuracy: 0.9033\n",
      "Epoch 41/100\n",
      "47/47 [==============================] - 0s 4ms/step - loss: 0.0534 - accuracy: 0.9887 - val_loss: 0.3272 - val_accuracy: 0.8800\n",
      "Epoch 42/100\n",
      "47/47 [==============================] - 0s 4ms/step - loss: 0.0670 - accuracy: 0.9813 - val_loss: 0.3722 - val_accuracy: 0.8867\n",
      "Epoch 43/100\n",
      "47/47 [==============================] - 0s 4ms/step - loss: 0.0768 - accuracy: 0.9780 - val_loss: 0.3262 - val_accuracy: 0.9000\n",
      "Epoch 44/100\n",
      "47/47 [==============================] - 0s 4ms/step - loss: 0.0501 - accuracy: 0.9900 - val_loss: 0.3334 - val_accuracy: 0.9033\n",
      "Epoch 45/100\n",
      "47/47 [==============================] - 0s 4ms/step - loss: 0.0417 - accuracy: 0.9953 - val_loss: 0.3669 - val_accuracy: 0.9000\n",
      "Epoch 46/100\n",
      "47/47 [==============================] - 0s 4ms/step - loss: 0.0411 - accuracy: 0.9940 - val_loss: 0.4680 - val_accuracy: 0.8500\n",
      "Epoch 47/100\n",
      "47/47 [==============================] - 0s 4ms/step - loss: 0.0474 - accuracy: 0.9900 - val_loss: 0.3436 - val_accuracy: 0.9100\n",
      "Epoch 48/100\n",
      "47/47 [==============================] - 0s 4ms/step - loss: 0.0361 - accuracy: 0.9953 - val_loss: 0.3303 - val_accuracy: 0.9000\n",
      "Epoch 49/100\n",
      "47/47 [==============================] - 0s 4ms/step - loss: 0.0344 - accuracy: 0.9967 - val_loss: 0.3450 - val_accuracy: 0.8933\n",
      "Epoch 50/100\n",
      "47/47 [==============================] - 0s 4ms/step - loss: 0.0357 - accuracy: 0.9927 - val_loss: 0.3546 - val_accuracy: 0.8967\n",
      "Epoch 51/100\n",
      "47/47 [==============================] - 0s 4ms/step - loss: 0.0519 - accuracy: 0.9827 - val_loss: 0.4263 - val_accuracy: 0.8800\n",
      "Epoch 52/100\n",
      "47/47 [==============================] - 0s 4ms/step - loss: 0.0501 - accuracy: 0.9873 - val_loss: 0.3645 - val_accuracy: 0.8833\n",
      "Epoch 53/100\n",
      "47/47 [==============================] - 0s 4ms/step - loss: 0.0295 - accuracy: 0.9947 - val_loss: 0.3425 - val_accuracy: 0.9033\n",
      "Epoch 54/100\n",
      "47/47 [==============================] - 0s 4ms/step - loss: 0.0200 - accuracy: 1.0000 - val_loss: 0.3580 - val_accuracy: 0.9067\n",
      "Epoch 55/100\n",
      "47/47 [==============================] - 0s 4ms/step - loss: 0.0169 - accuracy: 1.0000 - val_loss: 0.3530 - val_accuracy: 0.8967\n",
      "Epoch 56/100\n",
      "47/47 [==============================] - 0s 4ms/step - loss: 0.0209 - accuracy: 0.9973 - val_loss: 0.3850 - val_accuracy: 0.9033\n",
      "Epoch 57/100\n",
      "47/47 [==============================] - 0s 4ms/step - loss: 0.0185 - accuracy: 1.0000 - val_loss: 0.3446 - val_accuracy: 0.9133\n",
      "Epoch 58/100\n",
      "47/47 [==============================] - 0s 4ms/step - loss: 0.0187 - accuracy: 0.9993 - val_loss: 0.4189 - val_accuracy: 0.9067\n"
     ]
    },
    {
     "name": "stdout",
     "output_type": "stream",
     "text": [
      "Epoch 59/100\n",
      "47/47 [==============================] - 0s 4ms/step - loss: 0.0440 - accuracy: 0.9873 - val_loss: 0.3410 - val_accuracy: 0.9067\n",
      "Epoch 60/100\n",
      "47/47 [==============================] - 0s 4ms/step - loss: 0.0375 - accuracy: 0.9893 - val_loss: 0.4182 - val_accuracy: 0.8933\n",
      "Epoch 61/100\n",
      "47/47 [==============================] - 0s 4ms/step - loss: 0.0188 - accuracy: 1.0000 - val_loss: 0.3715 - val_accuracy: 0.9100\n",
      "Epoch 62/100\n",
      "47/47 [==============================] - 0s 4ms/step - loss: 0.0133 - accuracy: 1.0000 - val_loss: 0.3621 - val_accuracy: 0.9067\n",
      "Epoch 63/100\n",
      "47/47 [==============================] - 0s 4ms/step - loss: 0.0117 - accuracy: 1.0000 - val_loss: 0.3749 - val_accuracy: 0.9033\n",
      "Epoch 64/100\n",
      "47/47 [==============================] - 0s 4ms/step - loss: 0.0123 - accuracy: 1.0000 - val_loss: 0.3715 - val_accuracy: 0.9100\n",
      "Epoch 65/100\n",
      "47/47 [==============================] - 0s 4ms/step - loss: 0.0100 - accuracy: 1.0000 - val_loss: 0.3652 - val_accuracy: 0.8967\n",
      "Epoch 66/100\n",
      "47/47 [==============================] - 0s 4ms/step - loss: 0.0082 - accuracy: 1.0000 - val_loss: 0.3708 - val_accuracy: 0.9033\n",
      "Epoch 67/100\n",
      "47/47 [==============================] - 0s 4ms/step - loss: 0.0094 - accuracy: 1.0000 - val_loss: 0.3690 - val_accuracy: 0.9000\n",
      "Epoch 68/100\n",
      "47/47 [==============================] - 0s 4ms/step - loss: 0.0084 - accuracy: 1.0000 - val_loss: 0.3838 - val_accuracy: 0.8967\n",
      "Epoch 69/100\n",
      "47/47 [==============================] - 0s 4ms/step - loss: 0.0084 - accuracy: 1.0000 - val_loss: 0.3885 - val_accuracy: 0.8933\n",
      "Epoch 70/100\n",
      "47/47 [==============================] - 0s 4ms/step - loss: 0.0075 - accuracy: 1.0000 - val_loss: 0.3896 - val_accuracy: 0.9000\n",
      "Epoch 71/100\n",
      "47/47 [==============================] - 0s 4ms/step - loss: 0.0073 - accuracy: 1.0000 - val_loss: 0.3898 - val_accuracy: 0.8967\n",
      "Epoch 72/100\n",
      "47/47 [==============================] - 0s 4ms/step - loss: 0.0060 - accuracy: 1.0000 - val_loss: 0.3808 - val_accuracy: 0.9000\n",
      "Epoch 73/100\n",
      "47/47 [==============================] - 0s 4ms/step - loss: 0.0061 - accuracy: 1.0000 - val_loss: 0.3877 - val_accuracy: 0.8933\n",
      "Epoch 74/100\n",
      "47/47 [==============================] - 0s 4ms/step - loss: 0.0064 - accuracy: 1.0000 - val_loss: 0.3987 - val_accuracy: 0.9000\n",
      "Epoch 75/100\n",
      "47/47 [==============================] - 0s 4ms/step - loss: 0.0058 - accuracy: 1.0000 - val_loss: 0.3972 - val_accuracy: 0.9033\n",
      "Epoch 76/100\n",
      "47/47 [==============================] - 0s 4ms/step - loss: 0.0050 - accuracy: 1.0000 - val_loss: 0.4013 - val_accuracy: 0.9000\n",
      "Epoch 77/100\n",
      "47/47 [==============================] - 0s 4ms/step - loss: 0.0072 - accuracy: 1.0000 - val_loss: 0.3927 - val_accuracy: 0.9067\n",
      "Epoch 78/100\n",
      "47/47 [==============================] - 0s 4ms/step - loss: 0.0052 - accuracy: 1.0000 - val_loss: 0.3878 - val_accuracy: 0.9100\n",
      "Epoch 79/100\n",
      "47/47 [==============================] - 0s 4ms/step - loss: 0.0046 - accuracy: 1.0000 - val_loss: 0.4048 - val_accuracy: 0.9000\n",
      "Epoch 80/100\n",
      "47/47 [==============================] - 0s 4ms/step - loss: 0.0043 - accuracy: 1.0000 - val_loss: 0.4031 - val_accuracy: 0.9000\n",
      "Epoch 81/100\n",
      "47/47 [==============================] - 0s 4ms/step - loss: 0.0039 - accuracy: 1.0000 - val_loss: 0.4163 - val_accuracy: 0.9067\n",
      "Epoch 82/100\n",
      "47/47 [==============================] - 0s 4ms/step - loss: 0.0036 - accuracy: 1.0000 - val_loss: 0.4122 - val_accuracy: 0.9033\n",
      "Epoch 83/100\n",
      "47/47 [==============================] - 0s 4ms/step - loss: 0.0033 - accuracy: 1.0000 - val_loss: 0.4159 - val_accuracy: 0.9033\n",
      "Epoch 84/100\n",
      "47/47 [==============================] - 0s 4ms/step - loss: 0.0035 - accuracy: 1.0000 - val_loss: 0.4080 - val_accuracy: 0.9067\n",
      "Epoch 85/100\n",
      "47/47 [==============================] - 0s 4ms/step - loss: 0.0033 - accuracy: 1.0000 - val_loss: 0.4244 - val_accuracy: 0.9000\n",
      "Epoch 86/100\n",
      "47/47 [==============================] - 0s 4ms/step - loss: 0.0032 - accuracy: 1.0000 - val_loss: 0.4178 - val_accuracy: 0.9100\n",
      "Epoch 87/100\n",
      "47/47 [==============================] - 0s 4ms/step - loss: 0.0035 - accuracy: 1.0000 - val_loss: 0.4266 - val_accuracy: 0.8967\n",
      "Epoch 88/100\n",
      "47/47 [==============================] - 0s 4ms/step - loss: 0.0032 - accuracy: 1.0000 - val_loss: 0.4268 - val_accuracy: 0.9067\n",
      "Epoch 89/100\n",
      "47/47 [==============================] - 0s 4ms/step - loss: 0.0031 - accuracy: 1.0000 - val_loss: 0.4365 - val_accuracy: 0.8967\n",
      "Epoch 90/100\n",
      "47/47 [==============================] - 0s 4ms/step - loss: 0.0029 - accuracy: 1.0000 - val_loss: 0.4196 - val_accuracy: 0.8967\n",
      "Epoch 91/100\n",
      "47/47 [==============================] - 0s 4ms/step - loss: 0.0026 - accuracy: 1.0000 - val_loss: 0.4419 - val_accuracy: 0.9000\n",
      "Epoch 92/100\n",
      "47/47 [==============================] - 0s 4ms/step - loss: 0.0024 - accuracy: 1.0000 - val_loss: 0.4346 - val_accuracy: 0.9000\n",
      "Epoch 93/100\n",
      "47/47 [==============================] - 0s 4ms/step - loss: 0.0023 - accuracy: 1.0000 - val_loss: 0.4330 - val_accuracy: 0.9000\n",
      "Epoch 94/100\n",
      "47/47 [==============================] - 0s 4ms/step - loss: 0.0020 - accuracy: 1.0000 - val_loss: 0.4392 - val_accuracy: 0.9067\n",
      "Epoch 95/100\n",
      "47/47 [==============================] - 0s 4ms/step - loss: 0.0024 - accuracy: 1.0000 - val_loss: 0.4523 - val_accuracy: 0.8967\n",
      "Epoch 96/100\n",
      "47/47 [==============================] - 0s 4ms/step - loss: 0.0020 - accuracy: 1.0000 - val_loss: 0.4324 - val_accuracy: 0.9067\n",
      "Epoch 97/100\n",
      "47/47 [==============================] - 0s 4ms/step - loss: 0.0025 - accuracy: 1.0000 - val_loss: 0.4830 - val_accuracy: 0.9067\n",
      "Epoch 98/100\n",
      "47/47 [==============================] - 0s 4ms/step - loss: 0.0026 - accuracy: 1.0000 - val_loss: 0.4577 - val_accuracy: 0.9000\n",
      "Epoch 99/100\n",
      "47/47 [==============================] - 0s 4ms/step - loss: 0.0017 - accuracy: 1.0000 - val_loss: 0.4559 - val_accuracy: 0.8933\n",
      "Epoch 100/100\n",
      "47/47 [==============================] - 0s 4ms/step - loss: 0.0019 - accuracy: 1.0000 - val_loss: 0.4542 - val_accuracy: 0.9100\n"
     ]
    }
   ],
   "source": [
    "#5-1) 모델 그래프\n",
    "#hist = model.fit(X_train, y_train, epochs=20, batch_size=10, validation_data=(X_validation, y_validation))\n",
    "hist = model.fit(X_train, y_train, epochs=100,  validation_data=(X_validation, y_validation))\n",
    "#model.fit(X_train, y_train, epochs=n_train_epoch)"
   ]
  },
  {
   "cell_type": "code",
   "execution_count": 11,
   "id": "2bc0cb61",
   "metadata": {},
   "outputs": [
    {
     "data": {
      "image/png": "[encoded data removed]",
      "text/plain": [
       "<Figure size 432x288 with 2 Axes>"
      ]
     },
     "metadata": {
      "needs_background": "light"
     },
     "output_type": "display_data"
    }
   ],
   "source": [
    "#5-2) 모델 그래프\n",
    "%matplotlib inline\n",
    "import matplotlib.pyplot as plt\n",
    "\n",
    "fig, loss_ax = plt.subplots()\n",
    "\n",
    "acc_ax = loss_ax.twinx()\n",
    "\n",
    "loss_ax.plot(hist.history['loss'], 'y', label='train loss')\n",
    "loss_ax.plot(hist.history['val_loss'], 'r', label='val loss')\n",
    "\n",
    "acc_ax.plot(hist.history['accuracy'], 'b', label='train acc')\n",
    "acc_ax.plot(hist.history['val_accuracy'], 'g', label='val acc')\n",
    "\n",
    "loss_ax.set_xlabel('epoch')\n",
    "loss_ax.set_ylabel('loss')\n",
    "acc_ax.set_ylabel('accuray')\n",
    "\n",
    "loss_ax.legend(loc='upper left')\n",
    "acc_ax.legend(loc='lower left')\n",
    "\n",
    "plt.show()"
   ]
  },
  {
   "cell_type": "code",
   "execution_count": 12,
   "id": "e35a3657",
   "metadata": {},
   "outputs": [
    {
     "name": "stdout",
     "output_type": "stream",
     "text": [
      "100  images to be resized.\n",
      "100  images resized.\n",
      "가위 이미지 resize 완료!\n"
     ]
    }
   ],
   "source": [
    "#6) test data 준비 .. 가위 ( 이미지가 저장된 디렉토리 아래의 모든 jpg 파일을 읽어들여서\n",
    "def resize_images(img_path):\n",
    "    images=glob.glob(img_path + \"/*.jpg\")  \n",
    "    \n",
    "    print(len(images), \" images to be resized.\")\n",
    "    #print(images.shape)\n",
    "    # 파일마다 모두 28 사이즈로 바꾸어 저장합니다.\n",
    "    target_size=(28,28)\n",
    "    for img in images:\n",
    "        old_img=Image.open(img)\n",
    "        new_img=old_img.resize(target_size,Image.ANTIALIAS)\n",
    "        new_img.save(img, \"JPEG\")\n",
    "    \n",
    "    print(len(images), \" images resized.\")\n",
    "    \n",
    "# 가위 이미지가 저장된 디렉토리 아래의 모든 jpg 파일을 읽어들여서\n",
    "image_dir_path = os.getenv(\"HOME\") + \"/aiffel/rock_scissor_paper/220930_exnode_5/test/scissors\"\n",
    "resize_images(image_dir_path)\n",
    "\n",
    "print(\"가위 이미지 resize 완료!\")"
   ]
  },
  {
   "cell_type": "code",
   "execution_count": 13,
   "id": "16e0c3d9",
   "metadata": {},
   "outputs": [
    {
     "name": "stdout",
     "output_type": "stream",
     "text": [
      "100  images to be resized.\n",
      "100  images resized.\n",
      "바위 이미지 resize 완료!\n"
     ]
    }
   ],
   "source": [
    "#6) test data 준비 .. 바위 ( 이미지가 저장된 디렉토리 아래의 모든 jpg 파일을 읽어들여서\n",
    "def resize_images(img_path):\n",
    "    images=glob.glob(img_path + \"/*.jpg\")  \n",
    "    \n",
    "    print(len(images), \" images to be resized.\")\n",
    "\n",
    "    # 파일마다 모두 28,28 사이즈로 바꾸어 저장합니다.\n",
    "    target_size=(28,28)\n",
    "    for img in images:\n",
    "        old_img=Image.open(img)\n",
    "        new_img=old_img.resize(target_size,Image.ANTIALIAS)\n",
    "        new_img.save(img, \"JPEG\")\n",
    "    \n",
    "    print(len(images), \" images resized.\")\n",
    "    \n",
    "# 바위 이미지가 저장된 디렉토리 아래의 모든 jpg 파일을 읽어들여서\n",
    "image_dir_path = os.getenv(\"HOME\") + \"/aiffel/rock_scissor_paper/220930_exnode_5/test/rock\"\n",
    "resize_images(image_dir_path)\n",
    "\n",
    "print(\"바위 이미지 resize 완료!\")"
   ]
  },
  {
   "cell_type": "code",
   "execution_count": 14,
   "id": "6b334fcb",
   "metadata": {},
   "outputs": [
    {
     "name": "stdout",
     "output_type": "stream",
     "text": [
      "100  images to be resized.\n",
      "100  images resized.\n",
      "보 이미지 resize 완료!\n"
     ]
    }
   ],
   "source": [
    "#6) 성능확인 .. test data 준비 .. 보( 이미지가 저장된 디렉토리 아래의 모든 jpg 파일을 읽어들여서\n",
    "def resize_images(img_path):\n",
    "    images=glob.glob(img_path + \"/*.jpg\")  \n",
    "    \n",
    "    print(len(images), \" images to be resized.\")\n",
    "\n",
    "    # 파일마다 모두 112,112사이즈로 바꾸어 저장합니다.\n",
    "    target_size=(28,28)\n",
    "    for img in images:\n",
    "        old_img=Image.open(img)\n",
    "        new_img=old_img.resize(target_size,Image.ANTIALIAS)\n",
    "        new_img.save(img, \"JPEG\")\n",
    "    \n",
    "    print(len(images), \" images resized.\")\n",
    "    \n",
    "# 바위 이미지가 저장된 디렉토리 아래의 모든 jpg 파일을 읽어들여서\n",
    "image_dir_path = os.getenv(\"HOME\") + \"/aiffel/rock_scissor_paper/220930_exnode_5/test/paper\"\n",
    "resize_images(image_dir_path)\n",
    "\n",
    "print(\"보 이미지 resize 완료!\")\n"
   ]
  },
  {
   "cell_type": "code",
   "execution_count": 15,
   "id": "a984d4b8",
   "metadata": {},
   "outputs": [
    {
     "name": "stdout",
     "output_type": "stream",
     "text": [
      "평가데이터(x-test)의 이미지 개수는 300 입니다.\n",
      "x_test shape: (300, 28, 28, 3)\n",
      "y_test shape: (300,)\n"
     ]
    }
   ],
   "source": [
    "#6) test data 통합\n",
    "def load_data(img_path, number_of_data=300):  # 가위바위보 이미지 개수 총합에 주의하세요.\n",
    "    # 가위 : 0, 바위 : 1, 보 : 2\n",
    "    img_size=28\n",
    "    color=3\n",
    "    #이미지 데이터와 라벨(가위 : 0, 바위 : 1, 보 : 2) 데이터를 담을 행렬(matrix) 영역을 생성합니다.\n",
    "    imgs=np.zeros(number_of_data*img_size*img_size*color,dtype=np.int32).reshape(number_of_data,img_size,img_size,color)\n",
    "    labels=np.zeros(number_of_data,dtype=np.int32)\n",
    "\n",
    "    idx=0\n",
    "    for file in glob.iglob(img_path+'/scissors/*.jpg'):\n",
    "        img = np.array(Image.open(file),dtype=np.int32)\n",
    "        imgs[idx,:,:,:]=img    # 데이터 영역에 이미지 행렬을 복사\n",
    "        labels[idx]=0   # 가위 : 0\n",
    "        idx=idx+1\n",
    "\n",
    "    for file in glob.iglob(img_path+'/rock/*.jpg'):\n",
    "        img = np.array(Image.open(file),dtype=np.int32)\n",
    "        imgs[idx,:,:,:]=img    # 데이터 영역에 이미지 행렬을 복사\n",
    "        labels[idx]=1   # 바위 : 1\n",
    "        idx=idx+1  \n",
    "    \n",
    "    for file in glob.iglob(img_path+'/paper/*.jpg'):\n",
    "        img = np.array(Image.open(file),dtype=np.int32)\n",
    "        imgs[idx,:,:,:]=img    # 데이터 영역에 이미지 행렬을 복사\n",
    "        labels[idx]=2   # 보 : 2\n",
    "        idx=idx+1\n",
    "        \n",
    "    print(\"평가데이터(x-test)의 이미지 개수는\", idx,\"입니다.\")\n",
    "    return imgs, labels\n",
    "\n",
    "image_dir_path = os.getenv(\"HOME\") + \"/aiffel/rock_scissor_paper/220930_exnode_5/test\"\n",
    "\n",
    "(x_test, y_test)=load_data(image_dir_path)\n",
    "x_test_norm = x_test/255.0   # 입력은 0~1 사이의 값으로 정규화\n",
    "\n",
    "print(\"x_test shape: {}\".format(x_test_norm.shape))\n",
    "print(\"y_test shape: {}\".format(y_test.shape))"
   ]
  },
  {
   "cell_type": "code",
   "execution_count": 16,
   "id": "9b02f1a3",
   "metadata": {},
   "outputs": [
    {
     "name": "stdout",
     "output_type": "stream",
     "text": [
      "10/10 - 0s - loss: 2.4548 - accuracy: 0.6733\n",
      "test_loss: 2.4547557830810547 \n",
      "test_accuracy: 0.6733333468437195\n"
     ]
    }
   ],
   "source": [
    "#7) 성능확인\n",
    "#7-1) test data로 점수\n",
    "# model을 학습시키는 코드를 직접 작성해 보세요.\n",
    "# Hint! model.evaluate()을 사용해 봅시다.\n",
    "\n",
    "test_loss, test_accuracy = model.evaluate(x_test_norm, y_test, verbose=2)\n",
    "print(f\"test_loss: {test_loss} \")\n",
    "print(f\"test_accuracy: {test_accuracy}\")\n"
   ]
  },
  {
   "cell_type": "code",
   "execution_count": 17,
   "id": "e61d0b73",
   "metadata": {},
   "outputs": [
    {
     "name": "stdout",
     "output_type": "stream",
     "text": [
      "model.predict() 결과 :  [9.9993145e-01 6.8554538e-05 2.6444409e-08]\n",
      "model이 추론한 가장 가능성이 높은 결과 :  0\n",
      "실제 데이터의 라벨 :  0\n"
     ]
    }
   ],
   "source": [
    "#7) 성능확인\n",
    "#7-2) 추론한 값들 확인 \n",
    "predicted_result = model.predict(x_test_norm)  # model이 추론한 확률값. \n",
    "predicted_labels = np.argmax(predicted_result, axis=1)\n",
    "\n",
    "idx=0  #1번째 x_test를 살펴보자. \n",
    "print('model.predict() 결과 : ', predicted_result[idx])\n",
    "print('model이 추론한 가장 가능성이 높은 결과 : ', predicted_labels[idx])\n",
    "print('실제 데이터의 라벨 : ', y_test[idx])"
   ]
  },
  {
   "cell_type": "code",
   "execution_count": 18,
   "id": "716ddb19",
   "metadata": {},
   "outputs": [
    {
     "data": {
      "image/png": "[encoded data removed]",
      "text/plain": [
       "<Figure size 432x288 with 1 Axes>"
      ]
     },
     "metadata": {
      "needs_background": "light"
     },
     "output_type": "display_data"
    }
   ],
   "source": [
    "#7) 성능확인\n",
    "#7-3) - 데이타로 확인 \n",
    "plt.imshow(x_test_norm[idx],cmap=plt.cm.binary)\n",
    "plt.show()"
   ]
  },
  {
   "cell_type": "code",
   "execution_count": 19,
   "id": "0dfcc74b",
   "metadata": {},
   "outputs": [],
   "source": [
    "#7) 성능확인\n",
    "#7-4)  model이 추론해 낸 숫자와 실제 라벨의 값이 다른 경우\n",
    "import random\n",
    "\n",
    "wrong_predict_list=[]\n",
    "for i, _ in enumerate(predicted_labels):\n",
    "    # i번째 test_labels과 y_test이 다른 경우만 모아 봅시다. \n",
    "    if predicted_labels[i] != y_test[i]:\n",
    "        wrong_predict_list.append(i)\n"
   ]
  },
  {
   "cell_type": "code",
   "execution_count": 20,
   "id": "aa19ee5f",
   "metadata": {},
   "outputs": [
    {
     "name": "stdout",
     "output_type": "stream",
     "text": [
      "예측확률분포: [9.9999976e-01 8.1224949e-10 2.2302433e-07]\n",
      "라벨: 1, 예측결과: 0\n"
     ]
    },
    {
     "data": {
      "image/png": "[encoded data removed]",
      "text/plain": [
       "<Figure size 432x288 with 1 Axes>"
      ]
     },
     "metadata": {
      "needs_background": "light"
     },
     "output_type": "display_data"
    },
    {
     "name": "stdout",
     "output_type": "stream",
     "text": [
      "예측확률분포: [9.826099e-01 5.884228e-06 1.738416e-02]\n",
      "라벨: 1, 예측결과: 0\n"
     ]
    },
    {
     "data": {
      "image/png": "[encoded data removed]",
      "text/plain": [
       "<Figure size 432x288 with 1 Axes>"
      ]
     },
     "metadata": {
      "needs_background": "light"
     },
     "output_type": "display_data"
    },
    {
     "name": "stdout",
     "output_type": "stream",
     "text": [
      "예측확률분포: [1.5081433e-04 6.0170060e-01 3.9814857e-01]\n",
      "라벨: 2, 예측결과: 1\n"
     ]
    },
    {
     "data": {
      "image/png": "[encoded data removed]",
      "text/plain": [
       "<Figure size 432x288 with 1 Axes>"
      ]
     },
     "metadata": {
      "needs_background": "light"
     },
     "output_type": "display_data"
    },
    {
     "name": "stdout",
     "output_type": "stream",
     "text": [
      "예측확률분포: [0.81538504 0.16082814 0.02378676]\n",
      "라벨: 2, 예측결과: 0\n"
     ]
    },
    {
     "data": {
      "image/png": "[encoded data removed]",
      "text/plain": [
       "<Figure size 432x288 with 1 Axes>"
      ]
     },
     "metadata": {
      "needs_background": "light"
     },
     "output_type": "display_data"
    },
    {
     "name": "stdout",
     "output_type": "stream",
     "text": [
      "예측확률분포: [8.9263356e-01 7.8814301e-05 1.0728761e-01]\n",
      "라벨: 2, 예측결과: 0\n"
     ]
    },
    {
     "data": {
      "image/png": "[encoded data removed]",
      "text/plain": [
       "<Figure size 432x288 with 1 Axes>"
      ]
     },
     "metadata": {
      "needs_background": "light"
     },
     "output_type": "display_data"
    },
    {
     "name": "stdout",
     "output_type": "stream",
     "text": [
      "test_accuracy: 0.6733333468437195\n",
      "After Reshape - x_test shape: (300, 28, 28, 3)\n"
     ]
    }
   ],
   "source": [
    "#7) 성능확인\n",
    "#7-5)  model이 추론해 낸 숫자와 실제 라벨의 값이 다른 경우\n",
    "# wrong_predict_list 에서 랜덤하게 5개만 뽑아봅시다.\n",
    "samples = random.choices(population=wrong_predict_list, k=5)\n",
    "\n",
    "for n in samples:\n",
    "    print(\"예측확률분포: \" + str(predicted_result[n]))\n",
    "    print(\"라벨: \" + str(y_test[n]) + \", 예측결과: \" + str(predicted_labels[n]))\n",
    "    plt.imshow(x_test_norm[n], cmap=plt.cm.binary)\n",
    "    plt.show()\n",
    "print(f\"test_accuracy: {test_accuracy}\")\n",
    "print(f\"After Reshape - x_test shape: {x_test_norm.shape}\")\n"
   ]
  }
 ],
 "metadata": {
  "kernelspec": {
   "display_name": "Python 3 (ipykernel)",
   "language": "python",
   "name": "python3"
  },
  "language_info": {
   "codemirror_mode": {
    "name": "ipython",
    "version": 3
   },
   "file_extension": ".py",
   "mimetype": "text/x-python",
   "name": "python",
   "nbconvert_exporter": "python",
   "pygments_lexer": "ipython3",
   "version": "3.9.7"
  }
 },
 "nbformat": 4,
 "nbformat_minor": 5
}
