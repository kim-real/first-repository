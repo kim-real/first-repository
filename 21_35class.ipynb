{
 "cells": [
  {
   "cell_type": "code",
   "execution_count": 1,
   "id": "d4230e75",
   "metadata": {},
   "outputs": [
    {
     "name": "stdout",
     "output_type": "stream",
     "text": [
      "['책', '열쇠']\n",
      "['책', '열쇠']\n"
     ]
    }
   ],
   "source": [
    "#35.1 클래스 속성과 인스턴스 속성 알아보기\n",
    "class Person:\n",
    "    bag = []\n",
    " \n",
    "    def put_bag(self, stuff):\n",
    "        self.bag.append(stuff)\n",
    "\n",
    "james = Person()\n",
    "james.put_bag('책')\n",
    " \n",
    "maria = Person()\n",
    "maria.put_bag('열쇠')\n",
    " \n",
    "print(james.bag)\n",
    "print(maria.bag)"
   ]
  },
  {
   "cell_type": "code",
   "execution_count": 2,
   "id": "ac877980",
   "metadata": {},
   "outputs": [
    {
     "name": "stdout",
     "output_type": "stream",
     "text": [
      "['책']\n",
      "['열쇠']\n"
     ]
    }
   ],
   "source": [
    "#35.1.2  인스턴스 속성 사용하기\n",
    "class Person:\n",
    "    def __init__(self):\n",
    "        self.bag = []\n",
    " \n",
    "    def put_bag(self, stuff):\n",
    "        self.bag.append(stuff)\n",
    "        \n",
    "james = Person()\n",
    "james.put_bag('책')\n",
    " \n",
    "maria = Person()\n",
    "maria.put_bag('열쇠')\n",
    " \n",
    "print(james.bag)\n",
    "print(maria.bag)"
   ]
  },
  {
   "cell_type": "code",
   "execution_count": 4,
   "id": "e24486eb",
   "metadata": {},
   "outputs": [
    {
     "name": "stdout",
     "output_type": "stream",
     "text": [
      "10\n"
     ]
    }
   ],
   "source": [
    "#35.1.3  비공개 클래스 속성 사용하기\n",
    "class Knight:\n",
    "    __item_limit = 10    # 비공개 클래스 속성\n",
    " \n",
    "    def print_item_limit(self):\n",
    "        print(Knight.__item_limit)    # 클래스 안에서만 접근할 수 있음\n",
    " \n",
    " \n",
    "x = Knight()\n",
    "x.print_item_limit()    # 10\n",
    " \n",
    "#print(Knight.__item_limit)    # 클래스 바깥에서는 접근할 수 없음"
   ]
  },
  {
   "cell_type": "code",
   "execution_count": 5,
   "id": "a17fea06",
   "metadata": {},
   "outputs": [
    {
     "name": "stdout",
     "output_type": "stream",
     "text": [
      "사람 클래스입니다.\n",
      "인사 메서드입니다.\n",
      "인사 메서드입니다.\n"
     ]
    }
   ],
   "source": [
    "#클래스.__doc__ 형식으로 사용하고, 메서드의 독스트링은 \n",
    "#클래스.메서드.__doc__ 또는 인스턴스.메서드.__doc__ 형식으로 사용\n",
    "class Person:\n",
    "    '''사람 클래스입니다.'''\n",
    "    \n",
    "    def greeting(self):\n",
    "        '''인사 메서드입니다.'''\n",
    "        print('Hello')\n",
    "\n",
    "print(Person.__doc__)             # 사람 클래스입니다.\n",
    "print(Person.greeting.__doc__)    # 인사 메서드입니다.\n",
    " \n",
    "maria = Person()\n",
    "print(maria.greeting.__doc__)     # 인사 메서드입니다."
   ]
  },
  {
   "cell_type": "code",
   "execution_count": null,
   "id": "944ecbb8",
   "metadata": {},
   "outputs": [],
   "source": [
    "#35.2 정적 메서드 사용하기\n",
    "#정적 메서드는 self를 받지 않으므로 인스턴스 속성에는 접근할 수 없습니다. \n",
    "# 정적 메서드는 인스턴스 속성, 인스턴스 메서드가 필요 없을 때 사용합니다.\n",
    "class Calc:\n",
    "    @staticmethod\n",
    "    def add(a, b):\n",
    "        print(a + b)\n",
    " \n",
    "    @staticmethod\n",
    "    def mul(a, b):\n",
    "        print(a * b)\n",
    "        \n",
    "Calc.add(10, 20)    # 클래스에서 바로 메서드 호출\n",
    "Calc.mul(10, 20)    # 클래스에서 바로 메서드 호출"
   ]
  },
  {
   "cell_type": "code",
   "execution_count": 7,
   "id": "533df267",
   "metadata": {},
   "outputs": [
    {
     "name": "stdout",
     "output_type": "stream",
     "text": [
      "2명 생성되었습니다.\n"
     ]
    }
   ],
   "source": [
    "#35.3 클래스 메서드 사용하기\n",
    "class Person:\n",
    "    count = 0    # 클래스 속성\n",
    " \n",
    "    def __init__(self):\n",
    "        Person.count += 1    # 인스턴스가 만들어질 때\n",
    "                             # 클래스 속성 count에 1을 더함\n",
    " \n",
    "    @classmethod\n",
    "    def print_count(cls):\n",
    "        print('{0}명 생성되었습니다.'.format(cls.count))    # cls로 클래스 속성에 접근\n",
    "        \n",
    "    @classmethod\n",
    "    def create(cls):\n",
    "        p = cls()    # cls()로 인스턴스 생성\n",
    "        return p\n",
    "        \n",
    "james = Person()\n",
    "maria = Person()\n",
    " \n",
    "Person.print_count()    # 2명 생성되었습니다.\n",
    "\n"
   ]
  },
  {
   "cell_type": "code",
   "execution_count": 8,
   "id": "c27f0d92",
   "metadata": {},
   "outputs": [
    {
     "name": "stdout",
     "output_type": "stream",
     "text": [
      "올바른 날짜 형식입니다.\n"
     ]
    }
   ],
   "source": [
    "#35.5 연습문제: 날짜 클래스 만들기\n",
    "class Date:\n",
    "    @staticmethod\n",
    "    def is_date_valid(date_string):\n",
    "        year, month, day = map(int, date_string.split('-'))\n",
    "        return month <= 12 and day <= 31\n",
    "                                                                \n",
    "if Date.is_date_valid('2000-10-31'):\n",
    "    print('올바른 날짜 형식입니다.')\n",
    "else:\n",
    "    print('잘못된 날짜 형식입니다.')"
   ]
  },
  {
   "cell_type": "code",
   "execution_count": 10,
   "id": "0d12e07b",
   "metadata": {},
   "outputs": [
    {
     "name": "stdout",
     "output_type": "stream",
     "text": [
      "23 10 10\n"
     ]
    },
    {
     "ename": "AttributeError",
     "evalue": "type object 'Time' has no attribute 'from_string'",
     "output_type": "error",
     "traceback": [
      "\u001b[0;31m---------------------------------------------------------------------------\u001b[0m",
      "\u001b[0;31mAttributeError\u001b[0m                            Traceback (most recent call last)",
      "\u001b[0;32m/tmp/ipykernel_79/1625741218.py\u001b[0m in \u001b[0;36m<module>\u001b[0;34m\u001b[0m\n\u001b[1;32m     12\u001b[0m \u001b[0;34m\u001b[0m\u001b[0m\n\u001b[1;32m     13\u001b[0m \u001b[0;32mif\u001b[0m \u001b[0mTime\u001b[0m\u001b[0;34m.\u001b[0m\u001b[0mis_time_valid\u001b[0m\u001b[0;34m(\u001b[0m\u001b[0mtime_string\u001b[0m\u001b[0;34m)\u001b[0m\u001b[0;34m:\u001b[0m\u001b[0;34m\u001b[0m\u001b[0;34m\u001b[0m\u001b[0m\n\u001b[0;32m---> 14\u001b[0;31m     \u001b[0mt\u001b[0m \u001b[0;34m=\u001b[0m \u001b[0mTime\u001b[0m\u001b[0;34m.\u001b[0m\u001b[0mfrom_string\u001b[0m\u001b[0;34m(\u001b[0m\u001b[0mtime_string\u001b[0m\u001b[0;34m)\u001b[0m\u001b[0;34m\u001b[0m\u001b[0;34m\u001b[0m\u001b[0m\n\u001b[0m\u001b[1;32m     15\u001b[0m     \u001b[0mprint\u001b[0m\u001b[0;34m(\u001b[0m\u001b[0mt\u001b[0m\u001b[0;34m.\u001b[0m\u001b[0mhour\u001b[0m\u001b[0;34m,\u001b[0m \u001b[0mt\u001b[0m\u001b[0;34m.\u001b[0m\u001b[0mminute\u001b[0m\u001b[0;34m,\u001b[0m \u001b[0mt\u001b[0m\u001b[0;34m.\u001b[0m\u001b[0msecond\u001b[0m\u001b[0;34m)\u001b[0m\u001b[0;34m\u001b[0m\u001b[0;34m\u001b[0m\u001b[0m\n\u001b[1;32m     16\u001b[0m \u001b[0;32melse\u001b[0m\u001b[0;34m:\u001b[0m\u001b[0;34m\u001b[0m\u001b[0;34m\u001b[0m\u001b[0m\n",
      "\u001b[0;31mAttributeError\u001b[0m: type object 'Time' has no attribute 'from_string'"
     ]
    }
   ],
   "source": [
    "#35.6 심사문제: 시간 클래스 만들기\n",
    "class Time:\n",
    "    def __init__(self, hour, minute, second):\n",
    "        self.hour = hour\n",
    "        self.minute = minute\n",
    "        self.second = second\n",
    "        \n",
    "    def is_time_valid(time_string):\n",
    "        hour, minute, second = map(int, time_string.split())\n",
    "        return hour <= 24 and minute <= 60 and second <= 60\n",
    "    \n",
    "    def from_string(time_string):\n",
    "        \n",
    "\n",
    "time_string = input()\n",
    " \n",
    "if Time.is_time_valid(time_string):\n",
    "    t = Time.from_string(time_string)\n",
    "    print(t.hour, t.minute, t.second)\n",
    "else:\n",
    "    print('잘못된 시간 형식입니다.')"
   ]
  },
  {
   "cell_type": "code",
   "execution_count": 13,
   "id": "9260f8b1",
   "metadata": {},
   "outputs": [
    {
     "name": "stdout",
     "output_type": "stream",
     "text": [
      "안녕하세요.\n",
      "공부하기\n"
     ]
    },
    {
     "data": {
      "text/plain": [
       "True"
      ]
     },
     "execution_count": 13,
     "metadata": {},
     "output_type": "execute_result"
    }
   ],
   "source": [
    "#Unit 36. 클래스 상속 사용하기\n",
    "class Person:\n",
    "    def greeting(self):\n",
    "        print('안녕하세요.')\n",
    "\n",
    "class Student(Person):\n",
    "    def study(self):\n",
    "        print('공부하기')\n",
    "\n",
    "james = Student()\n",
    "james.greeting()    # 안녕하세요.: 기반 클래스 Person의 메서드 호출\n",
    "james.study()       # 공부하기: 파생 클래스 Student에 추가한 study 메서드\n",
    "issubclass(Student, Person)"
   ]
  },
  {
   "cell_type": "code",
   "execution_count": 14,
   "id": "052b7d91",
   "metadata": {},
   "outputs": [],
   "source": [
    "#36.2.2  포함 관계\n",
    "class Person:\n",
    "    def greeting(self):\n",
    "        print('안녕하세요.')\n",
    "class PersonList:\n",
    "    def __init__(self):\n",
    "        self.person_list = []    # 리스트 속성에 Person 인스턴스를 넣어서 관리\n",
    " \n",
    "    def append_person(self, person):    # 리스트 속성에 Person 인스턴스를 추가하는 함수\n",
    "        self.person_list.append(person)"
   ]
  },
  {
   "cell_type": "code",
   "execution_count": 15,
   "id": "1e30e618",
   "metadata": {},
   "outputs": [
    {
     "name": "stdout",
     "output_type": "stream",
     "text": [
      "Student __init__\n",
      "Person __init__\n",
      "파이썬 코딩 도장\n",
      "안녕하세요.\n"
     ]
    }
   ],
   "source": [
    "#36.3 기반 클래스의 속성 사용하기\n",
    "class Person:\n",
    "    def __init__(self):\n",
    "        print('Person __init__')\n",
    "        self.hello = '안녕하세요.'\n",
    "\n",
    "class Student(Person):\n",
    "    def __init__(self):\n",
    "        print('Student __init__')\n",
    "        super().__init__()                # super()로 기반 클래스의 __init__ 메서드 호출\n",
    "        self.school = '파이썬 코딩 도장'\n",
    "        \n",
    "james = Student()\n",
    "print(james.school)\n",
    "print(james.hello)"
   ]
  },
  {
   "cell_type": "code",
   "execution_count": 16,
   "id": "bedd4c1e",
   "metadata": {},
   "outputs": [
    {
     "name": "stdout",
     "output_type": "stream",
     "text": [
      "안녕하세요.\n",
      "저는 파이썬 코딩 도장 학생입니다.\n"
     ]
    }
   ],
   "source": [
    "#36.4 메서드 오버라이딩 사용하기\n",
    "class Person:\n",
    "    def greeting(self):\n",
    "        print('안녕하세요.')\n",
    "\n",
    "class Student(Person):\n",
    "    def greeting(self):\n",
    "        super().greeting()    # 기반 클래스의 메서드 호출하여 중복을 줄임\n",
    "        print('저는 파이썬 코딩 도장 학생입니다.')\n",
    "\n",
    "james = Student()\n",
    "james.greeting()"
   ]
  },
  {
   "cell_type": "code",
   "execution_count": null,
   "id": "1d8c3ae4",
   "metadata": {},
   "outputs": [],
   "source": [
    "#36.5 다중 상속 사용하기\n",
    "class Person:\n",
    "    def greeting(self):\n",
    "        print('안녕하세요.')\n",
    "        \n",
    "class University:\n",
    "    def manage_credit(self):\n",
    "        print('학점 관리')\n",
    "\n",
    "        class Undergraduate(Person, University):\n",
    "    def study(self):\n",
    "        print('공부하기')\n",
    "\n",
    "james = Undergraduate()\n",
    "james.greeting()         # 안녕하세요.: 기반 클래스 Person의 메서드 호출\n",
    "james.manage_credit()    # 학점 관리: 기반 클래스 University의 메서드 호출\n",
    "james.study()            # 공부하기: 파생 클래스 Undergraduate에 추가한 study 메서드"
   ]
  },
  {
   "cell_type": "code",
   "execution_count": 17,
   "id": "1daacf22",
   "metadata": {},
   "outputs": [
    {
     "name": "stdout",
     "output_type": "stream",
     "text": [
      "안녕하세요. B입니다.\n"
     ]
    },
    {
     "data": {
      "text/plain": [
       "[__main__.D, __main__.B, __main__.C, __main__.A, object]"
      ]
     },
     "execution_count": 17,
     "metadata": {},
     "output_type": "execute_result"
    }
   ],
   "source": [
    "#36.5.1  다이아몬드 상속\n",
    "#36.5.2  메서드 탐색 순서 확인하기\n",
    "class A:\n",
    "    def greeting(self):\n",
    "        print('안녕하세요. A입니다.')\n",
    "\n",
    "class B(A):\n",
    "    def greeting(self):\n",
    "        print('안녕하세요. B입니다.')\n",
    "\n",
    "class C(A):\n",
    "    def greeting(self):\n",
    "        print('안녕하세요. C입니다.')\n",
    "\n",
    "class D(B, C):\n",
    "    pass\n",
    " \n",
    "x = D()\n",
    "x.greeting()    # 안녕하세요. B입니다.\n",
    "\n",
    "D.mro()      #클래스.mro()"
   ]
  },
  {
   "cell_type": "code",
   "execution_count": null,
   "id": "4ad74496",
   "metadata": {},
   "outputs": [],
   "source": []
  }
 ],
 "metadata": {
  "kernelspec": {
   "display_name": "Python 3 (ipykernel)",
   "language": "python",
   "name": "python3"
  },
  "language_info": {
   "codemirror_mode": {
    "name": "ipython",
    "version": 3
   },
   "file_extension": ".py",
   "mimetype": "text/x-python",
   "name": "python",
   "nbconvert_exporter": "python",
   "pygments_lexer": "ipython3",
   "version": "3.9.7"
  }
 },
 "nbformat": 4,
 "nbformat_minor": 5
}
