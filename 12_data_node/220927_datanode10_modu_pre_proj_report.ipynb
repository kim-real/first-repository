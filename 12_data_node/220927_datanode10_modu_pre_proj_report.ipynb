{
 "cells": [
  {
   "cell_type": "markdown",
   "id": "47e475ff",
   "metadata": {},
   "source": [
    "    Data Node 10. 모두카페 프로젝트\n",
    "        0. 라이브러리 준비\n",
    "        1. 데이터 준비\n",
    "        2. 데이터 이해 \n",
    "           2-1) 입장권 기준정보 data : 34행 4열\n",
    "           2-2) 입장권 이용현황 data : 22555행 8열(22개 요금제명 확인 , 요금제명 null 284행, 금액 0 1449행) \n",
    "           2-3) 상품 기준정보 DATA   : 174행 4열\n",
    "           2-4) 상품 판매 data       : 7105행 8열 \n",
    "        3. 데이터 현황 분석\n",
    "           3-1) 필수 문제1 : 월별 매출액 추세 \n",
    "                - data 전처리 : sales_data : date(yyyy-mm) , payment(결제금액 > int 변환)\n",
    "                - 월별 매출액 집계 및 시각화 \n",
    "           3-2) 필수 문제2: 가장 인기 있는 음식/음료(salses_data를 이용합니다.)\n",
    "                - 판매개수로 시각화 \n",
    "                - 판매금액으로 시각화 \n",
    "           3-3) 필수 문제3: 가장 많이 팔린 입장권 종류 \n",
    "                - data 전처리 : entry_data(금액 > int 변환)\n",
    "                - 입장권 집계 및 시각화 \n",
    "                \n",
    "        4. 내가 정의한 문제 해결하기 \n",
    "            4-1) 데이터 전처리\n",
    "            4-2) 진단 분석 \n",
    "                - 입장권과 상품판매 비율 분석 \n",
    "                - 고객별 매출현황 분석 : 대학생고객과 일반고객 매출 비율 분석\n",
    "                - 시즌별 매출현황 분석 : 시즌에 따른 매출비율 분석\n",
    "                ㅡ고객별 상품판매 비율 분석 \n",
    "            4-3) 매출 전략 제시 \n",
    "                - 입장권과 상품 : 입장권 판매비율이 81.5%  차지, 입장권에 대한 분석이 중요시 됨\n",
    "                - 대학생 고객의 매출이 60%를 차지하여 대학생 매출 분석이 필요\n",
    "                - 대학생 학기중 매출 비율이 82.9% 차지 , 비시즌(방학 중) 대책 마련 필요\n",
    "                - 고객별 상품 매출 분석 : 차이가 없으며 김치볶음밥 매출이 수위\n",
    "                - 전략 제시 \n",
    "                  . 비시즌(방학 중) 대학생에게 할인을 적용하여 판매 유도 ( 할인율 10% : 매출,관리비용,이익 고려 판단 필요)\n",
    "                  . 비시즌(방학 중) 일반 매출 확보 전략 수립 필요 ( 할인율 5%  )\n",
    "                  . 상품은 전체 매출 중 17%를 점유하고 있으며 상품 개발을 통한 매출 비율 높이도록 함 (20%, 볶음밥 종류)   \n",
    "         5. 배운 점\n",
    "             - 처음 고객별 분석을 통해 전처리 부분을 생각하고 진행했는데 중간 부분 지나면서 너무 많은 코드에 혼란 느낌\n",
    "             - 파이썬 코딩 능력 부족으로 명령 찾는데 많은 시간 허비 .. lamda 코드 역량 확보가 필요\n",
    "             - 마지막으로 내가 프로그램을 한 건지 파이썬이 나를 조정한 건지 ... 지금도 멍합니다"
   ]
  },
  {
   "cell_type": "code",
   "execution_count": 298,
   "id": "a769e908",
   "metadata": {},
   "outputs": [],
   "source": [
    "#0) 라이브러리 준비\n",
    "import numpy as np \n",
    "import pandas as pd\n",
    "import datetime as dt\n",
    "import matplotlib.pyplot as plt \n",
    "import seaborn as sns\n",
    "import warnings\n",
    "warnings.filterwarnings('ignore')\n"
   ]
  },
  {
   "cell_type": "code",
   "execution_count": 299,
   "id": "497a1c06",
   "metadata": {},
   "outputs": [],
   "source": [
    "#1) 데이터 준비 \n",
    "entry_data = pd.read_csv('~/aiffel/data_analysis_basic/data/entry_data.csv')\n",
    "sales_data = pd.read_csv('~/aiffel/data_analysis_basic/data/sales_data.csv')\n",
    "item_data = pd.read_csv('~/aiffel/data_analysis_basic/data/item_data.csv')\n",
    "item_entry_data = pd.read_csv('~/aiffel/data_analysis_basic/data/item_entry_data.csv')"
   ]
  },
  {
   "cell_type": "code",
   "execution_count": 300,
   "id": "d423ba75",
   "metadata": {},
   "outputs": [
    {
     "data": {
      "text/html": [
       "<div>\n",
       "<style scoped>\n",
       "    .dataframe tbody tr th:only-of-type {\n",
       "        vertical-align: middle;\n",
       "    }\n",
       "\n",
       "    .dataframe tbody tr th {\n",
       "        vertical-align: top;\n",
       "    }\n",
       "\n",
       "    .dataframe thead th {\n",
       "        text-align: right;\n",
       "    }\n",
       "</style>\n",
       "<table border=\"1\" class=\"dataframe\">\n",
       "  <thead>\n",
       "    <tr style=\"text-align: right;\">\n",
       "      <th></th>\n",
       "      <th>순위</th>\n",
       "      <th>분류</th>\n",
       "      <th>상품명</th>\n",
       "      <th>판매금액</th>\n",
       "    </tr>\n",
       "  </thead>\n",
       "  <tbody>\n",
       "    <tr>\n",
       "      <th>0</th>\n",
       "      <td>1</td>\n",
       "      <td>한국대생</td>\n",
       "      <td>한국대생 요금제</td>\n",
       "      <td>2,000원</td>\n",
       "    </tr>\n",
       "    <tr>\n",
       "      <th>1</th>\n",
       "      <td>2</td>\n",
       "      <td>심야-조조</td>\n",
       "      <td>심야-조조 요금제</td>\n",
       "      <td>5,000원</td>\n",
       "    </tr>\n",
       "    <tr>\n",
       "      <th>2</th>\n",
       "      <td>3</td>\n",
       "      <td>일반인</td>\n",
       "      <td>일반요금제</td>\n",
       "      <td>2,500원</td>\n",
       "    </tr>\n",
       "    <tr>\n",
       "      <th>3</th>\n",
       "      <td>4</td>\n",
       "      <td>한국대생</td>\n",
       "      <td>한국대생 요금제</td>\n",
       "      <td>2,500원</td>\n",
       "    </tr>\n",
       "    <tr>\n",
       "      <th>4</th>\n",
       "      <td>5</td>\n",
       "      <td>일반인</td>\n",
       "      <td>일반요금제</td>\n",
       "      <td>2,000원</td>\n",
       "    </tr>\n",
       "  </tbody>\n",
       "</table>\n",
       "</div>"
      ],
      "text/plain": [
       "   순위     분류        상품명    판매금액\n",
       "0   1   한국대생   한국대생 요금제  2,000원\n",
       "1   2  심야-조조  심야-조조 요금제  5,000원\n",
       "2   3    일반인      일반요금제  2,500원\n",
       "3   4   한국대생   한국대생 요금제  2,500원\n",
       "4   5    일반인      일반요금제  2,000원"
      ]
     },
     "execution_count": 300,
     "metadata": {},
     "output_type": "execute_result"
    }
   ],
   "source": [
    "#2-1) 입장권 기준정보 data 34행 4열\n",
    "item_entry_data.head()"
   ]
  },
  {
   "cell_type": "code",
   "execution_count": 301,
   "id": "e9adeb2a",
   "metadata": {},
   "outputs": [
    {
     "data": {
      "text/html": [
       "<div>\n",
       "<style scoped>\n",
       "    .dataframe tbody tr th:only-of-type {\n",
       "        vertical-align: middle;\n",
       "    }\n",
       "\n",
       "    .dataframe tbody tr th {\n",
       "        vertical-align: top;\n",
       "    }\n",
       "\n",
       "    .dataframe thead th {\n",
       "        text-align: right;\n",
       "    }\n",
       "</style>\n",
       "<table border=\"1\" class=\"dataframe\">\n",
       "  <thead>\n",
       "    <tr style=\"text-align: right;\">\n",
       "      <th></th>\n",
       "      <th>요금제명</th>\n",
       "      <th>입실</th>\n",
       "      <th>퇴실</th>\n",
       "      <th>이용</th>\n",
       "      <th>위치</th>\n",
       "      <th>금액</th>\n",
       "      <th>구분</th>\n",
       "      <th>고객</th>\n",
       "    </tr>\n",
       "  </thead>\n",
       "  <tbody>\n",
       "    <tr>\n",
       "      <th>0</th>\n",
       "      <td>시간요금제(1시간)</td>\n",
       "      <td>2022-04-01 23:39</td>\n",
       "      <td>2022-04-02 0:39</td>\n",
       "      <td>오전 1:00:00</td>\n",
       "      <td>선불기2</td>\n",
       "      <td>3000</td>\n",
       "      <td>퇴실</td>\n",
       "      <td>customer263717</td>\n",
       "    </tr>\n",
       "    <tr>\n",
       "      <th>1</th>\n",
       "      <td>시간요금제(1시간)</td>\n",
       "      <td>2022-04-01 23:39</td>\n",
       "      <td>2022-04-02 0:39</td>\n",
       "      <td>오전 1:00:00</td>\n",
       "      <td>선불기2</td>\n",
       "      <td>3000</td>\n",
       "      <td>퇴실</td>\n",
       "      <td>customer263717</td>\n",
       "    </tr>\n",
       "    <tr>\n",
       "      <th>2</th>\n",
       "      <td>무제한 입장권</td>\n",
       "      <td>2022-04-01 20:55</td>\n",
       "      <td>2022-04-01 21:41</td>\n",
       "      <td>오전 12:46:00</td>\n",
       "      <td>선불기2</td>\n",
       "      <td>7400</td>\n",
       "      <td>퇴실</td>\n",
       "      <td>customer247263</td>\n",
       "    </tr>\n",
       "    <tr>\n",
       "      <th>3</th>\n",
       "      <td>무제한 입장권</td>\n",
       "      <td>2022-04-01 20:55</td>\n",
       "      <td>2022-04-01 21:41</td>\n",
       "      <td>오전 12:46:00</td>\n",
       "      <td>선불기2</td>\n",
       "      <td>7400</td>\n",
       "      <td>퇴실</td>\n",
       "      <td>customer247263</td>\n",
       "    </tr>\n",
       "    <tr>\n",
       "      <th>4</th>\n",
       "      <td>한국대생 무제한 입장권</td>\n",
       "      <td>2022-04-01 19:54</td>\n",
       "      <td>2022-04-01 22:28</td>\n",
       "      <td>오전 2:33:00</td>\n",
       "      <td>선불기2</td>\n",
       "      <td>7400</td>\n",
       "      <td>퇴실</td>\n",
       "      <td>customer388928</td>\n",
       "    </tr>\n",
       "  </tbody>\n",
       "</table>\n",
       "</div>"
      ],
      "text/plain": [
       "           요금제명                입실                퇴실           이용    위치    금액  \\\n",
       "0    시간요금제(1시간)  2022-04-01 23:39   2022-04-02 0:39   오전 1:00:00  선불기2  3000   \n",
       "1    시간요금제(1시간)  2022-04-01 23:39   2022-04-02 0:39   오전 1:00:00  선불기2  3000   \n",
       "2       무제한 입장권  2022-04-01 20:55  2022-04-01 21:41  오전 12:46:00  선불기2  7400   \n",
       "3       무제한 입장권  2022-04-01 20:55  2022-04-01 21:41  오전 12:46:00  선불기2  7400   \n",
       "4  한국대생 무제한 입장권  2022-04-01 19:54  2022-04-01 22:28   오전 2:33:00  선불기2  7400   \n",
       "\n",
       "   구분              고객  \n",
       "0  퇴실  customer263717  \n",
       "1  퇴실  customer263717  \n",
       "2  퇴실  customer247263  \n",
       "3  퇴실  customer247263  \n",
       "4  퇴실  customer388928  "
      ]
     },
     "execution_count": 301,
     "metadata": {},
     "output_type": "execute_result"
    }
   ],
   "source": [
    "#2-2) 입장권 이용현황 파일 , 22555행 8열, 금액 zero 1447행 ,요금제명 null \n",
    "entry_data.head()"
   ]
  },
  {
   "cell_type": "code",
   "execution_count": 302,
   "id": "22259b9b",
   "metadata": {},
   "outputs": [
    {
     "data": {
      "text/html": [
       "<div>\n",
       "<style scoped>\n",
       "    .dataframe tbody tr th:only-of-type {\n",
       "        vertical-align: middle;\n",
       "    }\n",
       "\n",
       "    .dataframe tbody tr th {\n",
       "        vertical-align: top;\n",
       "    }\n",
       "\n",
       "    .dataframe thead th {\n",
       "        text-align: right;\n",
       "    }\n",
       "</style>\n",
       "<table border=\"1\" class=\"dataframe\">\n",
       "  <thead>\n",
       "    <tr style=\"text-align: right;\">\n",
       "      <th></th>\n",
       "      <th>구분</th>\n",
       "      <th>분류</th>\n",
       "      <th>상품명</th>\n",
       "      <th>판매금액</th>\n",
       "    </tr>\n",
       "  </thead>\n",
       "  <tbody>\n",
       "    <tr>\n",
       "      <th>0</th>\n",
       "      <td>1</td>\n",
       "      <td>게임&amp;TV</td>\n",
       "      <td>이어폰(커널형)</td>\n",
       "      <td>3,000원</td>\n",
       "    </tr>\n",
       "    <tr>\n",
       "      <th>1</th>\n",
       "      <td>2</td>\n",
       "      <td>디저트</td>\n",
       "      <td>초코머핀</td>\n",
       "      <td>3,500원</td>\n",
       "    </tr>\n",
       "    <tr>\n",
       "      <th>2</th>\n",
       "      <td>3</td>\n",
       "      <td>디저트</td>\n",
       "      <td>쿠키(초코칩)</td>\n",
       "      <td>1,500원</td>\n",
       "    </tr>\n",
       "    <tr>\n",
       "      <th>3</th>\n",
       "      <td>4</td>\n",
       "      <td>디저트</td>\n",
       "      <td>쿠키(마카다미아)</td>\n",
       "      <td>1,500원</td>\n",
       "    </tr>\n",
       "    <tr>\n",
       "      <th>4</th>\n",
       "      <td>5</td>\n",
       "      <td>디저트</td>\n",
       "      <td>미니마카롱(3개)</td>\n",
       "      <td>2,000원</td>\n",
       "    </tr>\n",
       "  </tbody>\n",
       "</table>\n",
       "</div>"
      ],
      "text/plain": [
       "   구분     분류        상품명    판매금액\n",
       "0   1  게임&TV   이어폰(커널형)  3,000원\n",
       "1   2    디저트       초코머핀  3,500원\n",
       "2   3    디저트    쿠키(초코칩)  1,500원\n",
       "3   4    디저트  쿠키(마카다미아)  1,500원\n",
       "4   5    디저트  미니마카롱(3개)  2,000원"
      ]
     },
     "execution_count": 302,
     "metadata": {},
     "output_type": "execute_result"
    }
   ],
   "source": [
    "#2-3) 상품 기준정보 DATA , 174, 4열\n",
    "item_data.head()"
   ]
  },
  {
   "cell_type": "code",
   "execution_count": 303,
   "id": "aa2d3539",
   "metadata": {},
   "outputs": [
    {
     "data": {
      "text/html": [
       "<div>\n",
       "<style scoped>\n",
       "    .dataframe tbody tr th:only-of-type {\n",
       "        vertical-align: middle;\n",
       "    }\n",
       "\n",
       "    .dataframe tbody tr th {\n",
       "        vertical-align: top;\n",
       "    }\n",
       "\n",
       "    .dataframe thead th {\n",
       "        text-align: right;\n",
       "    }\n",
       "</style>\n",
       "<table border=\"1\" class=\"dataframe\">\n",
       "  <thead>\n",
       "    <tr style=\"text-align: right;\">\n",
       "      <th></th>\n",
       "      <th>결제일시</th>\n",
       "      <th>판매위치</th>\n",
       "      <th>상품명</th>\n",
       "      <th>결제방식</th>\n",
       "      <th>비고</th>\n",
       "      <th>판매수량</th>\n",
       "      <th>결제금액</th>\n",
       "      <th>고객</th>\n",
       "    </tr>\n",
       "  </thead>\n",
       "  <tbody>\n",
       "    <tr>\n",
       "      <th>0</th>\n",
       "      <td>2022-04-01 19:41</td>\n",
       "      <td>선불기1</td>\n",
       "      <td>치킨카라아케 6pc</td>\n",
       "      <td>신용카드</td>\n",
       "      <td>결제완료</td>\n",
       "      <td>1</td>\n",
       "      <td>4,500</td>\n",
       "      <td>customer275507</td>\n",
       "    </tr>\n",
       "    <tr>\n",
       "      <th>1</th>\n",
       "      <td>2022-04-01 19:41</td>\n",
       "      <td>선불기1</td>\n",
       "      <td>짜장라면(계란추가)</td>\n",
       "      <td>신용카드</td>\n",
       "      <td>결제완료</td>\n",
       "      <td>1</td>\n",
       "      <td>5,500</td>\n",
       "      <td>customer275507</td>\n",
       "    </tr>\n",
       "    <tr>\n",
       "      <th>2</th>\n",
       "      <td>2022-04-01 19:41</td>\n",
       "      <td>선불기1</td>\n",
       "      <td>라면</td>\n",
       "      <td>신용카드</td>\n",
       "      <td>결제완료</td>\n",
       "      <td>1</td>\n",
       "      <td>4,000</td>\n",
       "      <td>customer275507</td>\n",
       "    </tr>\n",
       "    <tr>\n",
       "      <th>3</th>\n",
       "      <td>2022-04-01 19:41</td>\n",
       "      <td>선불기1</td>\n",
       "      <td>비엔나소세지(토핑)</td>\n",
       "      <td>신용카드</td>\n",
       "      <td>결제완료</td>\n",
       "      <td>1</td>\n",
       "      <td>1,000</td>\n",
       "      <td>customer275507</td>\n",
       "    </tr>\n",
       "    <tr>\n",
       "      <th>4</th>\n",
       "      <td>2022-04-01 19:41</td>\n",
       "      <td>선불기1</td>\n",
       "      <td>라면(계란/치즈추가)</td>\n",
       "      <td>신용카드</td>\n",
       "      <td>결제완료</td>\n",
       "      <td>1</td>\n",
       "      <td>5,000</td>\n",
       "      <td>customer275507</td>\n",
       "    </tr>\n",
       "  </tbody>\n",
       "</table>\n",
       "</div>"
      ],
      "text/plain": [
       "               결제일시  판매위치          상품명  결제방식    비고  판매수량   결제금액  \\\n",
       "0  2022-04-01 19:41  선불기1   치킨카라아케 6pc  신용카드  결제완료     1  4,500   \n",
       "1  2022-04-01 19:41  선불기1   짜장라면(계란추가)  신용카드  결제완료     1  5,500   \n",
       "2  2022-04-01 19:41  선불기1           라면  신용카드  결제완료     1  4,000   \n",
       "3  2022-04-01 19:41  선불기1   비엔나소세지(토핑)  신용카드  결제완료     1  1,000   \n",
       "4  2022-04-01 19:41  선불기1  라면(계란/치즈추가)  신용카드  결제완료     1  5,000   \n",
       "\n",
       "               고객  \n",
       "0  customer275507  \n",
       "1  customer275507  \n",
       "2  customer275507  \n",
       "3  customer275507  \n",
       "4  customer275507  "
      ]
     },
     "execution_count": 303,
     "metadata": {},
     "output_type": "execute_result"
    }
   ],
   "source": [
    "#2-4) 판매 파일 7105행 8열 \n",
    "sales_data.head()"
   ]
  },
  {
   "cell_type": "code",
   "execution_count": 304,
   "id": "25984f5a",
   "metadata": {},
   "outputs": [
    {
     "data": {
      "text/html": [
       "<div>\n",
       "<style scoped>\n",
       "    .dataframe tbody tr th:only-of-type {\n",
       "        vertical-align: middle;\n",
       "    }\n",
       "\n",
       "    .dataframe tbody tr th {\n",
       "        vertical-align: top;\n",
       "    }\n",
       "\n",
       "    .dataframe thead th {\n",
       "        text-align: right;\n",
       "    }\n",
       "</style>\n",
       "<table border=\"1\" class=\"dataframe\">\n",
       "  <thead>\n",
       "    <tr style=\"text-align: right;\">\n",
       "      <th></th>\n",
       "      <th>요금제명</th>\n",
       "      <th>입실</th>\n",
       "      <th>퇴실</th>\n",
       "      <th>이용</th>\n",
       "      <th>위치</th>\n",
       "      <th>금액</th>\n",
       "      <th>구분</th>\n",
       "      <th>고객</th>\n",
       "    </tr>\n",
       "  </thead>\n",
       "  <tbody>\n",
       "    <tr>\n",
       "      <th>15</th>\n",
       "      <td>기간권</td>\n",
       "      <td>2022-04-01 17:57</td>\n",
       "      <td>2022-04-02 2:00</td>\n",
       "      <td>오전 8:03:00</td>\n",
       "      <td>선불기2</td>\n",
       "      <td>0</td>\n",
       "      <td>퇴실</td>\n",
       "      <td>customer300766</td>\n",
       "    </tr>\n",
       "    <tr>\n",
       "      <th>43</th>\n",
       "      <td>기간권</td>\n",
       "      <td>2022-04-01 12:24</td>\n",
       "      <td>2022-04-01 18:09</td>\n",
       "      <td>오전 5:45:00</td>\n",
       "      <td>선불기2</td>\n",
       "      <td>0</td>\n",
       "      <td>퇴실</td>\n",
       "      <td>customer827023</td>\n",
       "    </tr>\n",
       "    <tr>\n",
       "      <th>50</th>\n",
       "      <td>기간권</td>\n",
       "      <td>2022-04-01 8:56</td>\n",
       "      <td>2022-04-01 18:05</td>\n",
       "      <td>오전 9:09:00</td>\n",
       "      <td>선불기2</td>\n",
       "      <td>0</td>\n",
       "      <td>퇴실</td>\n",
       "      <td>customer392176</td>\n",
       "    </tr>\n",
       "    <tr>\n",
       "      <th>59</th>\n",
       "      <td>기간권</td>\n",
       "      <td>2022-03-31 18:00</td>\n",
       "      <td>2022-03-31 22:01</td>\n",
       "      <td>오전 4:01:00</td>\n",
       "      <td>선불기2</td>\n",
       "      <td>0</td>\n",
       "      <td>퇴실</td>\n",
       "      <td>customer475199</td>\n",
       "    </tr>\n",
       "    <tr>\n",
       "      <th>60</th>\n",
       "      <td>기간권</td>\n",
       "      <td>2022-03-31 17:57</td>\n",
       "      <td>2022-04-01 2:01</td>\n",
       "      <td>오전 8:04:00</td>\n",
       "      <td>선불기2</td>\n",
       "      <td>0</td>\n",
       "      <td>퇴실</td>\n",
       "      <td>customer300766</td>\n",
       "    </tr>\n",
       "    <tr>\n",
       "      <th>...</th>\n",
       "      <td>...</td>\n",
       "      <td>...</td>\n",
       "      <td>...</td>\n",
       "      <td>...</td>\n",
       "      <td>...</td>\n",
       "      <td>...</td>\n",
       "      <td>...</td>\n",
       "      <td>...</td>\n",
       "    </tr>\n",
       "    <tr>\n",
       "      <th>22541</th>\n",
       "      <td>시간권</td>\n",
       "      <td>2021-02-17 13:23</td>\n",
       "      <td>2021-02-17 14:20</td>\n",
       "      <td>오전 12:56:00</td>\n",
       "      <td>선불기2</td>\n",
       "      <td>0</td>\n",
       "      <td>퇴실</td>\n",
       "      <td>customer428382</td>\n",
       "    </tr>\n",
       "    <tr>\n",
       "      <th>22542</th>\n",
       "      <td>시간권</td>\n",
       "      <td>2021-02-17 13:21</td>\n",
       "      <td>2021-02-17 13:23</td>\n",
       "      <td>오전 12:02:00</td>\n",
       "      <td>선불기1</td>\n",
       "      <td>0</td>\n",
       "      <td>퇴실</td>\n",
       "      <td>customer428382</td>\n",
       "    </tr>\n",
       "    <tr>\n",
       "      <th>22543</th>\n",
       "      <td>시간권</td>\n",
       "      <td>2021-02-17 13:16</td>\n",
       "      <td>2021-02-17 13:20</td>\n",
       "      <td>오전 12:04:00</td>\n",
       "      <td>선불기2</td>\n",
       "      <td>0</td>\n",
       "      <td>퇴실</td>\n",
       "      <td>customer428382</td>\n",
       "    </tr>\n",
       "    <tr>\n",
       "      <th>22547</th>\n",
       "      <td>시간권</td>\n",
       "      <td>2021-02-17 13:14</td>\n",
       "      <td>2021-02-17 13:21</td>\n",
       "      <td>오전 12:07:00</td>\n",
       "      <td>선불기2</td>\n",
       "      <td>0</td>\n",
       "      <td>퇴실</td>\n",
       "      <td>customer715819</td>\n",
       "    </tr>\n",
       "    <tr>\n",
       "      <th>22548</th>\n",
       "      <td>시간권</td>\n",
       "      <td>2021-02-17 13:11</td>\n",
       "      <td>2021-02-17 13:14</td>\n",
       "      <td>오전 12:02:00</td>\n",
       "      <td>선불기2</td>\n",
       "      <td>0</td>\n",
       "      <td>퇴실</td>\n",
       "      <td>customer715819</td>\n",
       "    </tr>\n",
       "  </tbody>\n",
       "</table>\n",
       "<p>1449 rows × 8 columns</p>\n",
       "</div>"
      ],
      "text/plain": [
       "      요금제명                입실                퇴실           이용    위치  금액  구분  \\\n",
       "15     기간권  2022-04-01 17:57   2022-04-02 2:00   오전 8:03:00  선불기2   0  퇴실   \n",
       "43     기간권  2022-04-01 12:24  2022-04-01 18:09   오전 5:45:00  선불기2   0  퇴실   \n",
       "50     기간권   2022-04-01 8:56  2022-04-01 18:05   오전 9:09:00  선불기2   0  퇴실   \n",
       "59     기간권  2022-03-31 18:00  2022-03-31 22:01   오전 4:01:00  선불기2   0  퇴실   \n",
       "60     기간권  2022-03-31 17:57   2022-04-01 2:01   오전 8:04:00  선불기2   0  퇴실   \n",
       "...    ...               ...               ...          ...   ...  ..  ..   \n",
       "22541  시간권  2021-02-17 13:23  2021-02-17 14:20  오전 12:56:00  선불기2   0  퇴실   \n",
       "22542  시간권  2021-02-17 13:21  2021-02-17 13:23  오전 12:02:00  선불기1   0  퇴실   \n",
       "22543  시간권  2021-02-17 13:16  2021-02-17 13:20  오전 12:04:00  선불기2   0  퇴실   \n",
       "22547  시간권  2021-02-17 13:14  2021-02-17 13:21  오전 12:07:00  선불기2   0  퇴실   \n",
       "22548  시간권  2021-02-17 13:11  2021-02-17 13:14  오전 12:02:00  선불기2   0  퇴실   \n",
       "\n",
       "                   고객  \n",
       "15     customer300766  \n",
       "43     customer827023  \n",
       "50     customer392176  \n",
       "59     customer475199  \n",
       "60     customer300766  \n",
       "...               ...  \n",
       "22541  customer428382  \n",
       "22542  customer428382  \n",
       "22543  customer428382  \n",
       "22547  customer715819  \n",
       "22548  customer715819  \n",
       "\n",
       "[1449 rows x 8 columns]"
      ]
     },
     "execution_count": 304,
     "metadata": {},
     "output_type": "execute_result"
    }
   ],
   "source": [
    "#2-5) 입장권 데이터 확인 : 22개 요금제명 확인 , 요금제명 null 284행, 금액 0 1449행 \n",
    "entry_data.head()\n",
    "#entry_data['요금제명'].value_counts()\n",
    "#entry_data[entry_data.isnull().any(axis=1)]\n",
    "entry_data[entry_data['금액'] == 0 ]"
   ]
  },
  {
   "cell_type": "code",
   "execution_count": 305,
   "id": "2a0a0c50",
   "metadata": {},
   "outputs": [
    {
     "data": {
      "text/plain": [
       "결제일시    7105\n",
       "판매위치    7105\n",
       "상품명     7105\n",
       "결제방식    7105\n",
       "비고      7105\n",
       "판매수량    7105\n",
       "결제금액    7105\n",
       "고객      6300\n",
       "dtype: int64"
      ]
     },
     "execution_count": 305,
     "metadata": {},
     "output_type": "execute_result"
    }
   ],
   "source": [
    "#2-5) 상품판매 데이터 확인 : 고객 null 805행 , 결제금액 0 108행 \n",
    "sales_data.count()\n",
    "#sales_data[sales_data['결제금액'] == 0 ]"
   ]
  },
  {
   "cell_type": "code",
   "execution_count": 306,
   "id": "852cce50",
   "metadata": {},
   "outputs": [],
   "source": [
    "#3-1) 월별 매출액 추세 \n",
    "# 데이터 현황 분석 .. 준비 ... 데이터(sales_data)를 temp_var로 정의하기\n",
    "temp_var = sales_data"
   ]
  },
  {
   "cell_type": "code",
   "execution_count": 307,
   "id": "b5d4b4e7",
   "metadata": {},
   "outputs": [],
   "source": [
    "#3-1) 월별 매출액 추세 \n",
    "# 데이터 현황 분석 .. 준비 ... date열을 만들고, sales_date의 결제일시 중 앞에서 7번째 값까지 할당\n",
    "temp_var['date'] = sales_data['결제일시'].str[:7]"
   ]
  },
  {
   "cell_type": "code",
   "execution_count": 308,
   "id": "764a1086",
   "metadata": {},
   "outputs": [],
   "source": [
    "#3-1) 월별 매출액 추세 \n",
    "# 데이터 현황 분석 .. 준비 ...salse_data의 결제금액에 포함된 쉼표(,) 지우기\n",
    "sales_data['결제금액'] = sales_data['결제금액'].str.replace(',', '')"
   ]
  },
  {
   "cell_type": "code",
   "execution_count": 309,
   "id": "cb4bf3dc",
   "metadata": {},
   "outputs": [],
   "source": [
    "# 3-1) 월별 매출액 추세 \n",
    "# 데이터 현황 분석 .. 준비 ...salse_data의 결제금액을 숫자형태로 바꾸기\n",
    "temp_var['payment'] = sales_data['결제금액'].astype(int)"
   ]
  },
  {
   "cell_type": "code",
   "execution_count": 310,
   "id": "c93a7dea",
   "metadata": {},
   "outputs": [
    {
     "data": {
      "text/plain": [
       "date\n",
       "2021-02       7000\n",
       "2021-03    2104500\n",
       "2021-04    3116600\n",
       "2021-05    2537000\n",
       "2021-06    3621500\n",
       "2021-07    1215000\n",
       "2021-08    1229000\n",
       "2021-09    1197500\n",
       "2021-10    2138500\n",
       "2021-11    2748500\n",
       "2021-12    3290000\n",
       "2022-01    1430500\n",
       "2022-02    1181500\n",
       "2022-03    1870900\n",
       "2022-04      49900\n",
       "Name: payment, dtype: int64"
      ]
     },
     "execution_count": 310,
     "metadata": {},
     "output_type": "execute_result"
    }
   ],
   "source": [
    "# 3-1) 월별 매출액 추세 \n",
    "# 월별 매출액 집계 ...temp_var의 payment열을 date 기준으로 집계하기\n",
    "payment_data = temp_var['payment'].groupby(temp_var['date']).sum()\n",
    "payment_data"
   ]
  },
  {
   "cell_type": "code",
   "execution_count": 311,
   "id": "742a68ef",
   "metadata": {},
   "outputs": [
    {
     "data": {
      "image/png": "[encoded data removed]",
      "text/plain": [
       "<Figure size 1152x576 with 1 Axes>"
      ]
     },
     "metadata": {
      "needs_background": "light"
     },
     "output_type": "display_data"
    }
   ],
   "source": [
    "# 3-1) 월별 매출액 추세 \n",
    "# 월별 매출액 집계 ...결과를 시각화하기  .. ax변경\n",
    "\n",
    "plt.figure(figsize=(16,8))\n",
    "\n",
    "ax = plt.bar(payment_data.index, payment_data)\n",
    "plt.ticklabel_format(axis='y',  style = 'plain')\n",
    "plt.bar_label(ax, labels=[f'{x:,.0f}' for x in ax.datavalues], label_type='center',fontsize=12)\n",
    "plt.title('Sales By Months')\n",
    "plt.xlabel('Month')\n",
    "plt.ylabel('Sales')\n",
    "plt.show()"
   ]
  },
  {
   "cell_type": "code",
   "execution_count": 312,
   "id": "bd7bdd2b",
   "metadata": {},
   "outputs": [
    {
     "data": {
      "text/plain": [
       "결제일시              판매위치  상품명         결제방식  비고    판매수량  결제금액  고객              date     payment\n",
       "2021-10-05 13:33  선불기1  치즈추가        현금    결제완료  1     500   customer803089  2021-10  500        4\n",
       "                        라면          현금    결제완료  1     4000  customer803089  2021-10  4000       4\n",
       "2021-10-07 10:05  선불기1  시럽추가        신용카드  결제완료  1     500   customer777135  2021-10  500        4\n",
       "2021-06-19 21:02  선불기1  라면          신용카드  결제완료  1     4000  customer283589  2021-06  4000       4\n",
       "2021-06-14 11:37  선불기1  치즈추가        신용카드  결제완료  1     500   customer950393  2021-06  500        3\n",
       "                                                                                               ..\n",
       "2021-06-13 12:59  선불기1  계란추가        신용카드  결제완료  1     500   customer339447  2021-06  500        1\n",
       "2021-06-13 11:46  선불기1  새우볶음밥       신용카드  결제완료  1     5000  customer950393  2021-06  5000       1\n",
       "2021-06-13 10:33  선불기1  김치볶음밥       신용카드  결제완료  1     5000  customer983308  2021-06  5000       1\n",
       "2021-06-13 10:00  선불기1  김치볶음밥       신용카드  결제완료  1     5000  customer258946  2021-06  5000       1\n",
       "2022-04-01 19:41  선불기1  치킨카라아케 6pc  신용카드  결제완료  1     4500  customer275507  2022-04  4500       1\n",
       "Length: 5988, dtype: int64"
      ]
     },
     "execution_count": 312,
     "metadata": {},
     "output_type": "execute_result"
    }
   ],
   "source": [
    "#3-2) 가장 인기 있는 음식/음료 \n",
    "#temp_var의 상품명을 value_counts를 이용해 집계하기\n",
    "items_count = temp_var[temp_var['판매수량']!=-1].value_counts()\n",
    "items_count"
   ]
  },
  {
   "cell_type": "code",
   "execution_count": 313,
   "id": "3507bfeb",
   "metadata": {},
   "outputs": [
    {
     "data": {
      "text/html": [
       "<div>\n",
       "<style scoped>\n",
       "    .dataframe tbody tr th:only-of-type {\n",
       "        vertical-align: middle;\n",
       "    }\n",
       "\n",
       "    .dataframe tbody tr th {\n",
       "        vertical-align: top;\n",
       "    }\n",
       "\n",
       "    .dataframe thead th {\n",
       "        text-align: right;\n",
       "    }\n",
       "</style>\n",
       "<table border=\"1\" class=\"dataframe\">\n",
       "  <thead>\n",
       "    <tr style=\"text-align: right;\">\n",
       "      <th></th>\n",
       "      <th></th>\n",
       "      <th></th>\n",
       "      <th></th>\n",
       "      <th></th>\n",
       "      <th></th>\n",
       "      <th></th>\n",
       "      <th></th>\n",
       "      <th></th>\n",
       "      <th></th>\n",
       "      <th>0</th>\n",
       "    </tr>\n",
       "    <tr>\n",
       "      <th>결제일시</th>\n",
       "      <th>판매위치</th>\n",
       "      <th>상품명</th>\n",
       "      <th>결제방식</th>\n",
       "      <th>비고</th>\n",
       "      <th>판매수량</th>\n",
       "      <th>결제금액</th>\n",
       "      <th>고객</th>\n",
       "      <th>date</th>\n",
       "      <th>payment</th>\n",
       "      <th></th>\n",
       "    </tr>\n",
       "  </thead>\n",
       "  <tbody>\n",
       "    <tr>\n",
       "      <th rowspan=\"2\" valign=\"top\">2021-10-05 13:33</th>\n",
       "      <th rowspan=\"2\" valign=\"top\">선불기1</th>\n",
       "      <th>치즈추가</th>\n",
       "      <th>현금</th>\n",
       "      <th>결제완료</th>\n",
       "      <th>1</th>\n",
       "      <th>500</th>\n",
       "      <th>customer803089</th>\n",
       "      <th>2021-10</th>\n",
       "      <th>500</th>\n",
       "      <td>4</td>\n",
       "    </tr>\n",
       "    <tr>\n",
       "      <th>라면</th>\n",
       "      <th>현금</th>\n",
       "      <th>결제완료</th>\n",
       "      <th>1</th>\n",
       "      <th>4000</th>\n",
       "      <th>customer803089</th>\n",
       "      <th>2021-10</th>\n",
       "      <th>4000</th>\n",
       "      <td>4</td>\n",
       "    </tr>\n",
       "    <tr>\n",
       "      <th>2021-10-07 10:05</th>\n",
       "      <th>선불기1</th>\n",
       "      <th>시럽추가</th>\n",
       "      <th>신용카드</th>\n",
       "      <th>결제완료</th>\n",
       "      <th>1</th>\n",
       "      <th>500</th>\n",
       "      <th>customer777135</th>\n",
       "      <th>2021-10</th>\n",
       "      <th>500</th>\n",
       "      <td>4</td>\n",
       "    </tr>\n",
       "    <tr>\n",
       "      <th>2021-06-19 21:02</th>\n",
       "      <th>선불기1</th>\n",
       "      <th>라면</th>\n",
       "      <th>신용카드</th>\n",
       "      <th>결제완료</th>\n",
       "      <th>1</th>\n",
       "      <th>4000</th>\n",
       "      <th>customer283589</th>\n",
       "      <th>2021-06</th>\n",
       "      <th>4000</th>\n",
       "      <td>4</td>\n",
       "    </tr>\n",
       "    <tr>\n",
       "      <th>2021-06-14 11:37</th>\n",
       "      <th>선불기1</th>\n",
       "      <th>치즈추가</th>\n",
       "      <th>신용카드</th>\n",
       "      <th>결제완료</th>\n",
       "      <th>1</th>\n",
       "      <th>500</th>\n",
       "      <th>customer950393</th>\n",
       "      <th>2021-06</th>\n",
       "      <th>500</th>\n",
       "      <td>3</td>\n",
       "    </tr>\n",
       "    <tr>\n",
       "      <th>2021-03-23 13:41</th>\n",
       "      <th>선불기1</th>\n",
       "      <th>계란추가</th>\n",
       "      <th>신용카드</th>\n",
       "      <th>결제완료</th>\n",
       "      <th>1</th>\n",
       "      <th>500</th>\n",
       "      <th>customer556974</th>\n",
       "      <th>2021-03</th>\n",
       "      <th>500</th>\n",
       "      <td>3</td>\n",
       "    </tr>\n",
       "    <tr>\n",
       "      <th>2021-11-29 19:20</th>\n",
       "      <th>선불기1</th>\n",
       "      <th>김치볶음밥</th>\n",
       "      <th>신용카드</th>\n",
       "      <th>결제완료</th>\n",
       "      <th>1</th>\n",
       "      <th>5000</th>\n",
       "      <th>customer975556</th>\n",
       "      <th>2021-11</th>\n",
       "      <th>5000</th>\n",
       "      <td>3</td>\n",
       "    </tr>\n",
       "    <tr>\n",
       "      <th>2021-06-16 12:17</th>\n",
       "      <th>선불기1</th>\n",
       "      <th>라면</th>\n",
       "      <th>신용카드</th>\n",
       "      <th>결제완료</th>\n",
       "      <th>1</th>\n",
       "      <th>4000</th>\n",
       "      <th>customer996256</th>\n",
       "      <th>2021-06</th>\n",
       "      <th>4000</th>\n",
       "      <td>3</td>\n",
       "    </tr>\n",
       "    <tr>\n",
       "      <th>2021-08-22 17:12</th>\n",
       "      <th>선불기1</th>\n",
       "      <th>라면</th>\n",
       "      <th>신용카드</th>\n",
       "      <th>결제완료</th>\n",
       "      <th>1</th>\n",
       "      <th>4000</th>\n",
       "      <th>customer439220</th>\n",
       "      <th>2021-08</th>\n",
       "      <th>4000</th>\n",
       "      <td>3</td>\n",
       "    </tr>\n",
       "    <tr>\n",
       "      <th>2021-04-25 18:31</th>\n",
       "      <th>선불기1</th>\n",
       "      <th>김치볶음밥</th>\n",
       "      <th>신용카드</th>\n",
       "      <th>결제완료</th>\n",
       "      <th>1</th>\n",
       "      <th>5000</th>\n",
       "      <th>customer304481</th>\n",
       "      <th>2021-04</th>\n",
       "      <th>5000</th>\n",
       "      <td>3</td>\n",
       "    </tr>\n",
       "  </tbody>\n",
       "</table>\n",
       "</div>"
      ],
      "text/plain": [
       "                                                                                0\n",
       "결제일시             판매위치 상품명   결제방식 비고   판매수량 결제금액 고객             date    payment   \n",
       "2021-10-05 13:33 선불기1 치즈추가  현금   결제완료 1    500  customer803089 2021-10 500      4\n",
       "                      라면    현금   결제완료 1    4000 customer803089 2021-10 4000     4\n",
       "2021-10-07 10:05 선불기1 시럽추가  신용카드 결제완료 1    500  customer777135 2021-10 500      4\n",
       "2021-06-19 21:02 선불기1 라면    신용카드 결제완료 1    4000 customer283589 2021-06 4000     4\n",
       "2021-06-14 11:37 선불기1 치즈추가  신용카드 결제완료 1    500  customer950393 2021-06 500      3\n",
       "2021-03-23 13:41 선불기1 계란추가  신용카드 결제완료 1    500  customer556974 2021-03 500      3\n",
       "2021-11-29 19:20 선불기1 김치볶음밥 신용카드 결제완료 1    5000 customer975556 2021-11 5000     3\n",
       "2021-06-16 12:17 선불기1 라면    신용카드 결제완료 1    4000 customer996256 2021-06 4000     3\n",
       "2021-08-22 17:12 선불기1 라면    신용카드 결제완료 1    4000 customer439220 2021-08 4000     3\n",
       "2021-04-25 18:31 선불기1 김치볶음밥 신용카드 결제완료 1    5000 customer304481 2021-04 5000     3"
      ]
     },
     "execution_count": 313,
     "metadata": {},
     "output_type": "execute_result"
    }
   ],
   "source": [
    "#3-2) 가장 인기 있는 음식/음료 \n",
    "# 집계 결과를 데이터프레임으로 변환하고, 상위 10개 선정하기\n",
    "items_count = pd.DataFrame(items_count)\n",
    "items_count[:10]"
   ]
  },
  {
   "cell_type": "code",
   "execution_count": 314,
   "id": "d67c7261",
   "metadata": {},
   "outputs": [
    {
     "name": "stdout",
     "output_type": "stream",
     "text": [
      "완료!\n"
     ]
    }
   ],
   "source": [
    "#3-2) 가장 인기 있는 음식/음료 \n",
    "# 한글이 포함된 시각화를 위해 Matplotlib 설정\n",
    "import matplotlib as mpl\n",
    "import matplotlib.pyplot as plt\n",
    "import matplotlib.font_manager as fm\n",
    "fontpath = '/usr/share/fonts/truetype/nanum/NanumBarunGothic.ttf'\n",
    "font = fm.FontProperties(fname=fontpath, size=9)\n",
    "plt.rc('font', family='NanumBarunGothic') \n",
    "mpl.font_manager.findfont(font)\n",
    "print(\"완료!\")"
   ]
  },
  {
   "cell_type": "code",
   "execution_count": 315,
   "id": "5cb78441",
   "metadata": {},
   "outputs": [
    {
     "data": {
      "image/png": "[encoded data removed]",
      "text/plain": [
       "<Figure size 1152x576 with 1 Axes>"
      ]
     },
     "metadata": {
      "needs_background": "light"
     },
     "output_type": "display_data"
    }
   ],
   "source": [
    "#3-2) 가장 인기 있는 음식/음료 \n",
    "# 집계 결과를 시각화하기\n",
    "items_count[:10].plot(kind='bar',figsize=(16,8))\n",
    "plt.ylabel('개')\n",
    "plt.title('판매 개수')\n",
    "plt.show()"
   ]
  },
  {
   "cell_type": "code",
   "execution_count": 316,
   "id": "89b5690e",
   "metadata": {},
   "outputs": [
    {
     "data": {
      "text/plain": [
       "상품명\n",
       "(면)계란추가-국물라면           5000\n",
       "(면)계란후라이 추가-불닭/짜장     20000\n",
       "(면)치즈추가               10500\n",
       "(밥)계란후라이 추가            3000\n",
       "(밥)슈레드치즈추가             4500\n",
       "                      ...  \n",
       "한돈간장불고기덮밥            112500\n",
       "한돈고추장불고기덮밥           127500\n",
       "허니밀크쉐이크              114000\n",
       "헤이즐넛라떼(HOT)            9000\n",
       "헤이즐넛라떼(ICE)           67500\n",
       "Name: payment, Length: 100, dtype: int64"
      ]
     },
     "execution_count": 316,
     "metadata": {},
     "output_type": "execute_result"
    }
   ],
   "source": [
    "#3-2) 가장 인기 있는 음식/음료 \n",
    "# temp_var의 payment열을 상품명을 기준으로 집계하기\n",
    "items_payment = temp_var['payment'].groupby(temp_var['상품명'][temp_var['판매수량']!=-1]).sum()\n",
    "items_payment"
   ]
  },
  {
   "cell_type": "code",
   "execution_count": 317,
   "id": "047ee72d",
   "metadata": {},
   "outputs": [
    {
     "data": {
      "text/plain": [
       "상품명\n",
       "김치볶음밥         6004400\n",
       "라면            2941500\n",
       "치즈불고기볶음밥      2292600\n",
       "짜장라면          2038500\n",
       "낙지볶음밥         1710700\n",
       "새우볶음밥         1539800\n",
       "치즈감자튀김        1354200\n",
       "감자튀김          1083800\n",
       "아메리카노(ICE)    1058100\n",
       "불닭볶음면          693000\n",
       "Name: payment, dtype: int64"
      ]
     },
     "execution_count": 317,
     "metadata": {},
     "output_type": "execute_result"
    }
   ],
   "source": [
    "#3-2) 가장 인기 있는 음식/음료 \n",
    "# item_payment의 값을 내림차순으로 정렬하고 상위 10개 도출하기\n",
    "items_payment = items_payment.sort_values(ascending=False)\n",
    "items_payment[:10]"
   ]
  },
  {
   "cell_type": "code",
   "execution_count": 318,
   "id": "52afab2b",
   "metadata": {},
   "outputs": [
    {
     "data": {
      "image/png": "[encoded data removed]",
      "text/plain": [
       "<Figure size 1152x576 with 1 Axes>"
      ]
     },
     "metadata": {
      "needs_background": "light"
     },
     "output_type": "display_data"
    }
   ],
   "source": [
    "#3-2) 가장 인기 있는 음식/음료 \n",
    "# 집계 결과 시각화하기\n",
    "#items_payment[:10].plot(kind='bar')  >>> ax로 변경 \n",
    "\n",
    "plt.figure(figsize=(16,8))\n",
    "\n",
    "ax = plt.bar(items_payment[:10].index, items_payment[:10])\n",
    "plt.ticklabel_format(axis='y',  style = 'plain')\n",
    "plt.bar_label(ax, labels=[f'{x:,.0f}' for x in ax.datavalues], label_type='center',fontsize=14)\n",
    "plt.ylabel('원')\n",
    "plt.title('판매 금액')\n",
    "plt.show()"
   ]
  },
  {
   "cell_type": "code",
   "execution_count": 319,
   "id": "36f56815",
   "metadata": {},
   "outputs": [
    {
     "data": {
      "text/html": [
       "<div>\n",
       "<style scoped>\n",
       "    .dataframe tbody tr th:only-of-type {\n",
       "        vertical-align: middle;\n",
       "    }\n",
       "\n",
       "    .dataframe tbody tr th {\n",
       "        vertical-align: top;\n",
       "    }\n",
       "\n",
       "    .dataframe thead th {\n",
       "        text-align: right;\n",
       "    }\n",
       "</style>\n",
       "<table border=\"1\" class=\"dataframe\">\n",
       "  <thead>\n",
       "    <tr style=\"text-align: right;\">\n",
       "      <th></th>\n",
       "      <th>요금제명</th>\n",
       "      <th>입실</th>\n",
       "      <th>퇴실</th>\n",
       "      <th>이용</th>\n",
       "      <th>위치</th>\n",
       "      <th>금액</th>\n",
       "      <th>구분</th>\n",
       "      <th>고객</th>\n",
       "    </tr>\n",
       "  </thead>\n",
       "  <tbody>\n",
       "    <tr>\n",
       "      <th>0</th>\n",
       "      <td>시간요금제(1시간)</td>\n",
       "      <td>2022-04-01 23:39</td>\n",
       "      <td>2022-04-02 0:39</td>\n",
       "      <td>오전 1:00:00</td>\n",
       "      <td>선불기2</td>\n",
       "      <td>3000</td>\n",
       "      <td>퇴실</td>\n",
       "      <td>customer263717</td>\n",
       "    </tr>\n",
       "    <tr>\n",
       "      <th>1</th>\n",
       "      <td>시간요금제(1시간)</td>\n",
       "      <td>2022-04-01 23:39</td>\n",
       "      <td>2022-04-02 0:39</td>\n",
       "      <td>오전 1:00:00</td>\n",
       "      <td>선불기2</td>\n",
       "      <td>3000</td>\n",
       "      <td>퇴실</td>\n",
       "      <td>customer263717</td>\n",
       "    </tr>\n",
       "    <tr>\n",
       "      <th>2</th>\n",
       "      <td>무제한 입장권</td>\n",
       "      <td>2022-04-01 20:55</td>\n",
       "      <td>2022-04-01 21:41</td>\n",
       "      <td>오전 12:46:00</td>\n",
       "      <td>선불기2</td>\n",
       "      <td>7400</td>\n",
       "      <td>퇴실</td>\n",
       "      <td>customer247263</td>\n",
       "    </tr>\n",
       "    <tr>\n",
       "      <th>3</th>\n",
       "      <td>무제한 입장권</td>\n",
       "      <td>2022-04-01 20:55</td>\n",
       "      <td>2022-04-01 21:41</td>\n",
       "      <td>오전 12:46:00</td>\n",
       "      <td>선불기2</td>\n",
       "      <td>7400</td>\n",
       "      <td>퇴실</td>\n",
       "      <td>customer247263</td>\n",
       "    </tr>\n",
       "    <tr>\n",
       "      <th>4</th>\n",
       "      <td>한국대생 무제한 입장권</td>\n",
       "      <td>2022-04-01 19:54</td>\n",
       "      <td>2022-04-01 22:28</td>\n",
       "      <td>오전 2:33:00</td>\n",
       "      <td>선불기2</td>\n",
       "      <td>7400</td>\n",
       "      <td>퇴실</td>\n",
       "      <td>customer388928</td>\n",
       "    </tr>\n",
       "    <tr>\n",
       "      <th>...</th>\n",
       "      <td>...</td>\n",
       "      <td>...</td>\n",
       "      <td>...</td>\n",
       "      <td>...</td>\n",
       "      <td>...</td>\n",
       "      <td>...</td>\n",
       "      <td>...</td>\n",
       "      <td>...</td>\n",
       "    </tr>\n",
       "    <tr>\n",
       "      <th>22550</th>\n",
       "      <td>종일요금제</td>\n",
       "      <td>2021-02-17 13:09</td>\n",
       "      <td>2021-02-17 14:19</td>\n",
       "      <td>오전 1:10:00</td>\n",
       "      <td>선불기1</td>\n",
       "      <td>6500</td>\n",
       "      <td>퇴실</td>\n",
       "      <td>customer774105</td>\n",
       "    </tr>\n",
       "    <tr>\n",
       "      <th>22551</th>\n",
       "      <td>종일요금제</td>\n",
       "      <td>2021-02-17 13:09</td>\n",
       "      <td>2021-02-17 14:19</td>\n",
       "      <td>오전 1:10:00</td>\n",
       "      <td>선불기1</td>\n",
       "      <td>6500</td>\n",
       "      <td>퇴실</td>\n",
       "      <td>customer774105</td>\n",
       "    </tr>\n",
       "    <tr>\n",
       "      <th>22552</th>\n",
       "      <td>종일요금제</td>\n",
       "      <td>2021-02-17 13:06</td>\n",
       "      <td>2021-02-17 14:19</td>\n",
       "      <td>오전 1:13:00</td>\n",
       "      <td>선불기1</td>\n",
       "      <td>7000</td>\n",
       "      <td>퇴실</td>\n",
       "      <td>customer774105</td>\n",
       "    </tr>\n",
       "    <tr>\n",
       "      <th>22553</th>\n",
       "      <td>종일요금제</td>\n",
       "      <td>2021-02-17 13:06</td>\n",
       "      <td>2021-02-17 14:19</td>\n",
       "      <td>오전 1:13:00</td>\n",
       "      <td>선불기1</td>\n",
       "      <td>7000</td>\n",
       "      <td>퇴실</td>\n",
       "      <td>customer774105</td>\n",
       "    </tr>\n",
       "    <tr>\n",
       "      <th>22554</th>\n",
       "      <td>종일요금제</td>\n",
       "      <td>2021-02-17 12:58</td>\n",
       "      <td>2021-02-17 14:19</td>\n",
       "      <td>오전 1:21:00</td>\n",
       "      <td>선불기1</td>\n",
       "      <td>7000</td>\n",
       "      <td>퇴실</td>\n",
       "      <td>customer774105</td>\n",
       "    </tr>\n",
       "  </tbody>\n",
       "</table>\n",
       "<p>22555 rows × 8 columns</p>\n",
       "</div>"
      ],
      "text/plain": [
       "               요금제명                입실                퇴실           이용    위치  \\\n",
       "0        시간요금제(1시간)  2022-04-01 23:39   2022-04-02 0:39   오전 1:00:00  선불기2   \n",
       "1        시간요금제(1시간)  2022-04-01 23:39   2022-04-02 0:39   오전 1:00:00  선불기2   \n",
       "2           무제한 입장권  2022-04-01 20:55  2022-04-01 21:41  오전 12:46:00  선불기2   \n",
       "3           무제한 입장권  2022-04-01 20:55  2022-04-01 21:41  오전 12:46:00  선불기2   \n",
       "4      한국대생 무제한 입장권  2022-04-01 19:54  2022-04-01 22:28   오전 2:33:00  선불기2   \n",
       "...             ...               ...               ...          ...   ...   \n",
       "22550         종일요금제  2021-02-17 13:09  2021-02-17 14:19   오전 1:10:00  선불기1   \n",
       "22551         종일요금제  2021-02-17 13:09  2021-02-17 14:19   오전 1:10:00  선불기1   \n",
       "22552         종일요금제  2021-02-17 13:06  2021-02-17 14:19   오전 1:13:00  선불기1   \n",
       "22553         종일요금제  2021-02-17 13:06  2021-02-17 14:19   오전 1:13:00  선불기1   \n",
       "22554         종일요금제  2021-02-17 12:58  2021-02-17 14:19   오전 1:21:00  선불기1   \n",
       "\n",
       "         금액  구분              고객  \n",
       "0      3000  퇴실  customer263717  \n",
       "1      3000  퇴실  customer263717  \n",
       "2      7400  퇴실  customer247263  \n",
       "3      7400  퇴실  customer247263  \n",
       "4      7400  퇴실  customer388928  \n",
       "...     ...  ..             ...  \n",
       "22550  6500  퇴실  customer774105  \n",
       "22551  6500  퇴실  customer774105  \n",
       "22552  7000  퇴실  customer774105  \n",
       "22553  7000  퇴실  customer774105  \n",
       "22554  7000  퇴실  customer774105  \n",
       "\n",
       "[22555 rows x 8 columns]"
      ]
     },
     "execution_count": 319,
     "metadata": {},
     "output_type": "execute_result"
    }
   ],
   "source": [
    "#3-3) 필수 문제3: 가장 많이 팔린 입장권 종류  ..data 준비\n",
    "# 활용할 데이터(entry_data)를 temp_var로 정의하기\n",
    "temp_var = entry_data\n",
    "temp_var"
   ]
  },
  {
   "cell_type": "code",
   "execution_count": 320,
   "id": "2a3ebf75",
   "metadata": {},
   "outputs": [],
   "source": [
    "#3-3) 필수 문제3: 가장 많이 팔린 입장권 종류  ..data 전처리\n",
    "# temp_var의 금액을 숫자형태로 변환하기\n",
    "temp_var['금액'] = temp_var['금액'].astype(int)"
   ]
  },
  {
   "cell_type": "code",
   "execution_count": 321,
   "id": "29456172",
   "metadata": {},
   "outputs": [
    {
     "data": {
      "text/plain": [
       "요금제명\n",
       "18시이후 무제한           1330500\n",
       "1시간                   90000\n",
       "1시간 요금제               14000\n",
       "3시간                   21000\n",
       "기간권                       0\n",
       "무제한 입장권             1568600\n",
       "무제한(일반요금)              6000\n",
       "무제한(한국대생)             14000\n",
       "시간 요금제(1시간당)          25000\n",
       "시간권                       0\n",
       "시간요금제                 12300\n",
       "시간요금제(1시간)          2665500\n",
       "시간요금제(1시간당)           22500\n",
       "시간요금제(3시간)          2042000\n",
       "심야-조조무제한            6221000\n",
       "심야-조조무제한(06시까지)    11600000\n",
       "이용권                       0\n",
       "입장권(종일권)           23570500\n",
       "조조무제한                693000\n",
       "종일요금제                233000\n",
       "한국대생 무제한 입장권        5207500\n",
       "한국대생 입장권(종일권)      70037000\n",
       "Name: 금액, dtype: int64"
      ]
     },
     "execution_count": 321,
     "metadata": {},
     "output_type": "execute_result"
    }
   ],
   "source": [
    "#3-3) 필수 문제3: 가장 많이 팔린 입장권 종류  .. 집계 \n",
    "# temp_var의 금액을 요금제명을 기준으로 집계하기\n",
    "tickets = temp_var['금액'].groupby(temp_var['요금제명']).sum()\n",
    "tickets"
   ]
  },
  {
   "cell_type": "code",
   "execution_count": 322,
   "id": "76dfb240",
   "metadata": {},
   "outputs": [
    {
     "data": {
      "text/plain": [
       "요금제명\n",
       "한국대생 입장권(종일권)      70037000\n",
       "입장권(종일권)           23570500\n",
       "심야-조조무제한(06시까지)    11600000\n",
       "심야-조조무제한            6221000\n",
       "한국대생 무제한 입장권        5207500\n",
       "시간요금제(1시간)          2665500\n",
       "시간요금제(3시간)          2042000\n",
       "무제한 입장권             1568600\n",
       "18시이후 무제한           1330500\n",
       "조조무제한                693000\n",
       "Name: 금액, dtype: int64"
      ]
     },
     "execution_count": 322,
     "metadata": {},
     "output_type": "execute_result"
    }
   ],
   "source": [
    "#3-3) 필수 문제3: 가장 많이 팔린 입장권 종류  .. top 10\n",
    "# tickets의 값을 내림차순으로 정렬하고 상위 10개 도출하기\n",
    "tickets = tickets.sort_values(ascending=False)\n",
    "tickets[:10]"
   ]
  },
  {
   "cell_type": "code",
   "execution_count": 323,
   "id": "730dc04d",
   "metadata": {},
   "outputs": [
    {
     "data": {
      "image/png": "[encoded data removed]",
      "text/plain": [
       "<Figure size 1152x576 with 1 Axes>"
      ]
     },
     "metadata": {
      "needs_background": "light"
     },
     "output_type": "display_data"
    }
   ],
   "source": [
    "#3-3) 필수 문제3: 가장 많이 팔린 입장권 종류  .. 시각화 \n",
    "# 집계 결과 시각화하기\n",
    "#tickets[:10].plot(kind='bar')\n",
    "\n",
    "plt.figure(figsize=(16,8))\n",
    "\n",
    "ax = plt.bar(tickets[:10].index, tickets[:10])\n",
    "plt.ticklabel_format(axis='y',  style = 'plain')\n",
    "plt.bar_label(ax, labels=[f'{x:,.0f}' for x in ax.datavalues], label_type='center',fontsize=14)\n",
    "plt.ylabel('원')\n",
    "plt.title('입장권별 판매금액')\n",
    "plt.show()"
   ]
  },
  {
   "cell_type": "markdown",
   "id": "faebabb0",
   "metadata": {},
   "source": [
    "    내가 정의한 문제 해결하기-"
   ]
  },
  {
   "cell_type": "code",
   "execution_count": 324,
   "id": "ccc0b060",
   "metadata": {},
   "outputs": [],
   "source": [
    "#-------------------------------------------------------------------------------------------------------------------------"
   ]
  },
  {
   "cell_type": "code",
   "execution_count": 325,
   "id": "79770b50",
   "metadata": {},
   "outputs": [],
   "source": [
    "#4) data전처리 실시를 위한 temp data 생성\n",
    "temp_entry = entry_data\n",
    "temp_sale = sales_data"
   ]
  },
  {
   "cell_type": "code",
   "execution_count": 326,
   "id": "39c565d0",
   "metadata": {},
   "outputs": [],
   "source": [
    "#4-1) data 전처리 entry_data 요금제 null 삭제 .. 금액도 0이므로 분석에 영향 없음 \n",
    "temp_entry.dropna(how='all', subset=['요금제명'], inplace=True)"
   ]
  },
  {
   "cell_type": "code",
   "execution_count": 327,
   "id": "c2e61757",
   "metadata": {},
   "outputs": [
    {
     "data": {
      "text/plain": [
       "한국대생    12013\n",
       "일반      10279\n",
       "Name: class, dtype: int64"
      ]
     },
     "execution_count": 327,
     "metadata": {},
     "output_type": "execute_result"
    }
   ],
   "source": [
    "#4-1) data 전처리 entry_data class 생성 ...일반,한국대생 class 분리하여 분석 예정 \n",
    "temp_entry_rs = temp_entry[temp_entry['요금제명'].str.contains('한국대생')]\n",
    "temp_entry_rs['class'] = '한국대생'    #warning 발생 \n",
    "temp_entry['class'] = temp_entry_rs['class']\n",
    "#1) 한국대생 나머지 필드 nan : 일반으로 저장 \n",
    "temp_entry['class'] = temp_entry['class'].fillna('일반')\n",
    "#lambda 명령으로 변경할 것을 추천 함 .. l\n",
    "temp_entry['class'].value_counts()\n",
    "#한국대생    12013 ,일반      10279"
   ]
  },
  {
   "cell_type": "code",
   "execution_count": 328,
   "id": "e012c785",
   "metadata": {},
   "outputs": [
    {
     "data": {
      "text/plain": [
       "peak    18250\n",
       "off      4042\n",
       "Name: season, dtype: int64"
      ]
     },
     "execution_count": 328,
     "metadata": {},
     "output_type": "execute_result"
    }
   ],
   "source": [
    "#4-1) data 전처리 entry_data ..입실,퇴실,비수기 구분 ,  out_date 기준 정리 \n",
    "temp_entry['indate'] = temp_entry['입실'].str[:7]\n",
    "temp_entry['outdate'] = temp_entry['퇴실'].str[:7]\n",
    "#전일 입실하여 다음날 퇴실 143건 정도 .. out_date 기준 활용(다음 날 퇴실시간이 많음)\n",
    "temp_entry[(temp_entry['indate'] != temp_entry['outdate'])]  \n",
    "temp_entry_season = temp_entry[(temp_entry['outdate'] == '2021-07')|(temp_entry['outdate'] == '2021-08')|(temp_entry['outdate'] == '2021-09')|(temp_entry['outdate'] == '2022-01')|(temp_entry['outdate'] == '2022-02')]\n",
    "temp_entry_season['season'] = 'off'\n",
    "temp_entry['season'] = temp_entry_season['season']\n",
    "temp_entry['season'] = temp_entry['season'].fillna('peak')\n",
    "temp_entry['season'].value_counts()\n",
    "#peak 18250 ,off  4042"
   ]
  },
  {
   "cell_type": "code",
   "execution_count": 329,
   "id": "cf80d8c5",
   "metadata": {},
   "outputs": [
    {
     "data": {
      "text/html": [
       "<div>\n",
       "<style scoped>\n",
       "    .dataframe tbody tr th:only-of-type {\n",
       "        vertical-align: middle;\n",
       "    }\n",
       "\n",
       "    .dataframe tbody tr th {\n",
       "        vertical-align: top;\n",
       "    }\n",
       "\n",
       "    .dataframe thead th {\n",
       "        text-align: right;\n",
       "    }\n",
       "</style>\n",
       "<table border=\"1\" class=\"dataframe\">\n",
       "  <thead>\n",
       "    <tr style=\"text-align: right;\">\n",
       "      <th></th>\n",
       "      <th>요금제명</th>\n",
       "      <th>입실</th>\n",
       "      <th>퇴실</th>\n",
       "      <th>이용</th>\n",
       "      <th>위치</th>\n",
       "      <th>금액</th>\n",
       "      <th>구분</th>\n",
       "      <th>고객</th>\n",
       "      <th>class</th>\n",
       "      <th>indate</th>\n",
       "      <th>outdate</th>\n",
       "      <th>season</th>\n",
       "    </tr>\n",
       "  </thead>\n",
       "  <tbody>\n",
       "  </tbody>\n",
       "</table>\n",
       "</div>"
      ],
      "text/plain": [
       "Empty DataFrame\n",
       "Columns: [요금제명, 입실, 퇴실, 이용, 위치, 금액, 구분, 고객, class, indate, outdate, season]\n",
       "Index: []"
      ]
     },
     "execution_count": 329,
     "metadata": {},
     "output_type": "execute_result"
    }
   ],
   "source": [
    "#4-1) entry data 삭제 .. 2021-02, 2022-04 .. 사업 시작 및 data 수집 종료 시점으로 data가 적고 분석에 장애\n",
    "del_index_02 = temp_entry[(temp_entry['outdate'] == '2021-02')].index\n",
    "del_index_04 = temp_entry[(temp_entry['outdate'] == '2022-04')].index\n",
    "temp_entry.drop(del_index_02,inplace = True)\n",
    "temp_entry.drop(del_index_04, inplace = True)\n",
    "temp_entry[(temp_entry['outdate'] == '2021-02')]   \n",
    "temp_entry[(temp_entry['outdate'] == '2022-04')]   "
   ]
  },
  {
   "cell_type": "code",
   "execution_count": 330,
   "id": "eefa6085",
   "metadata": {},
   "outputs": [],
   "source": [
    "#4-1) sale data 삭제 .. 2021-02, 2022-04 .. 사업 시작 및 data 수집 종료 시점으로 data가 적고 분석에 장애\n",
    "# temp_sale의 date열을 만들고, sales_date의 결제일시 중 앞에서 7번째 값까지 할당\n",
    "temp_sale['date'] = temp_sale['결제일시'].str[:7]\n",
    "## temp_sale의 payment열 만들고, 결제금액 정수화\n",
    "temp_sale['payment'] = temp_sale.결제금액.str.replace(',', '').astype('int64')\n",
    "temp_sale = temp_sale[(temp_sale['판매수량']!=-1)]"
   ]
  },
  {
   "cell_type": "code",
   "execution_count": 331,
   "id": "461339cc",
   "metadata": {},
   "outputs": [],
   "source": [
    "#4-1) data 전처리 temp_sale .. class 추가 .. 고객별 상품 분석 시 활용 할 예정 \n",
    "cnt = 0 \n",
    "for i in temp_sale['고객']:\n",
    "    for j in temp_entry['고객']:\n",
    "        if i == j:\n",
    "            temp_sale['class'] = temp_entry['class']\n",
    "            cnt += 1\n",
    "      "
   ]
  },
  {
   "cell_type": "code",
   "execution_count": 332,
   "id": "9e27e894",
   "metadata": {},
   "outputs": [
    {
     "data": {
      "text/plain": [
       "한국대생    3786\n",
       "일반      3051\n",
       "Name: class, dtype: int64"
      ]
     },
     "execution_count": 332,
     "metadata": {},
     "output_type": "execute_result"
    }
   ],
   "source": [
    "#4-1) data 전처리 temp_sale\n",
    "temp_sale['class'].value_counts()"
   ]
  },
  {
   "cell_type": "code",
   "execution_count": 333,
   "id": "7116c3bd",
   "metadata": {},
   "outputs": [
    {
     "name": "stdout",
     "output_type": "stream",
     "text": [
      "124704000\n",
      "28319800\n"
     ]
    }
   ],
   "source": [
    "#4-2) 입장권과 상품판매 비율 분석 \n",
    "entry_amt = temp_entry['금액'].sum()\n",
    "sales_amt = temp_sale['payment'].sum()\n",
    "# 입장권 124,704,000 , 상품 278,319,800 (판매 취소 -581,900)\n",
    "print(entry_amt)\n",
    "print(sales_amt)"
   ]
  },
  {
   "cell_type": "code",
   "execution_count": 334,
   "id": "3af1efb6",
   "metadata": {},
   "outputs": [
    {
     "data": {
      "image/png": "[encoded data removed]",
      "text/plain": [
       "<Figure size 720x432 with 1 Axes>"
      ]
     },
     "metadata": {},
     "output_type": "display_data"
    }
   ],
   "source": [
    "#4-2) 입장권과 상품판매 비율 분석 .. 시각화\n",
    "\n",
    "plt.figure(figsize=(10,6))\n",
    "total_sales = (sales_amt/(sales_amt+entry_amt))*100\n",
    "total_entry = (entry_amt/(sales_amt+entry_amt))*100\n",
    "grouped_series = pd.Series([total_sales, total_entry], index = ['상품', '입장권'])\n",
    "plt.pie(grouped_series, labels = grouped_series.index, autopct = '%.1f%%',textprops = {'fontsize' :16},counterclock= False)\n",
    "plt.show()\n",
    "#입장권 매출이 81.5% 차지"
   ]
  },
  {
   "cell_type": "code",
   "execution_count": 335,
   "id": "8a954f80",
   "metadata": {},
   "outputs": [
    {
     "data": {
      "text/plain": [
       "class\n",
       "일반      49759700\n",
       "한국대생    74944300\n",
       "Name: 금액, dtype: int64"
      ]
     },
     "execution_count": 335,
     "metadata": {},
     "output_type": "execute_result"
    }
   ],
   "source": [
    "#4-2) 고객별 매출현황 분석 : 대학생고객과 일반고객 매출 비율 집계\n",
    "grouped_class = temp_entry['금액'].groupby(temp_entry['class']).sum()\n",
    "grouped_class"
   ]
  },
  {
   "cell_type": "code",
   "execution_count": 336,
   "id": "52ac206c",
   "metadata": {},
   "outputs": [
    {
     "data": {
      "image/png": "[encoded data removed]",
      "text/plain": [
       "<Figure size 720x432 with 1 Axes>"
      ]
     },
     "metadata": {},
     "output_type": "display_data"
    }
   ],
   "source": [
    "#4-2) 고객별 매출현황 분석 : 대학생고객과 일반고객 매출 비율 시각화\n",
    "\n",
    "\n",
    "plt.figure(figsize=(10,6)) \n",
    "grouped_class_gener = (grouped_class[0]/(grouped_class[0]+grouped_class[1]))*100\n",
    "grouped_class_univer = (grouped_class[1]/(grouped_class[0]+grouped_class[1]))*100\n",
    "\n",
    "grouped_series = pd.Series([grouped_class_gener, grouped_class_univer], index = ['일반고객', '한국대생'])\n",
    "plt.pie(grouped_series, labels = grouped_series.index, autopct = '%.1f%%',textprops = {'fontsize' :16}, counterclock= False)\n",
    "plt.show()\n",
    "# 모두까페의 매출의 60%를 한국대생이 차지하고 있다 "
   ]
  },
  {
   "cell_type": "code",
   "execution_count": 337,
   "id": "4adeb8f0",
   "metadata": {},
   "outputs": [],
   "source": [
    "#4-2) 고객별 매출현황 분석 : 대학생고객과 일반고객 매출 비율 시각화\n",
    "\n",
    "grouped = temp_entry['금액'].groupby([temp_entry['outdate'], temp_entry['class']]).sum()\n"
   ]
  },
  {
   "cell_type": "code",
   "execution_count": 338,
   "id": "1a3f7c72",
   "metadata": {},
   "outputs": [
    {
     "data": {
      "image/png": "[encoded data removed]",
      "text/plain": [
       "<Figure size 1152x576 with 1 Axes>"
      ]
     },
     "metadata": {
      "needs_background": "light"
     },
     "output_type": "display_data"
    }
   ],
   "source": [
    "#4-2) 고객별 매출현황 분석 : 대학생고객과 일반고객 매출 비율 시각화\n",
    "\n",
    "plt.figure(figsize=(16,8))\n",
    "\n",
    "ax = sns.barplot(data=grouped.reset_index(), x='outdate', y='금액', hue='class')\n",
    "\n",
    "containers = ax.containers[-1]\n",
    "containers0 = ax.containers[0]\n",
    "plt.ticklabel_format(axis='y',  style = 'plain')\n",
    "ax.bar_label(containers, labels=[f'{x:,.0f}' for x in containers.datavalues], label_type='center')\n",
    "ax.bar_label(containers0, labels=[f'{x:,.0f}' for x in containers0.datavalues], label_type='center',fontsize=10)\n",
    "\n",
    "plt.title('entry sale By Month')\n",
    "plt.show()\n",
    "#한국대생 학기중 모두까페 매출이 일반보다 많았슴"
   ]
  },
  {
   "cell_type": "code",
   "execution_count": 339,
   "id": "c7d581f4",
   "metadata": {},
   "outputs": [
    {
     "data": {
      "text/plain": [
       "season\n",
       "off      21321000\n",
       "peak    103383000\n",
       "Name: 금액, dtype: int64"
      ]
     },
     "execution_count": 339,
     "metadata": {},
     "output_type": "execute_result"
    }
   ],
   "source": [
    "#4-2) 시즌별 매출현황 분석 : 시즌에 따른 매출비율 분석\n",
    "#grouped['class'].value_counts()\n",
    "grouped_season = temp_entry['금액'].groupby(temp_entry['season']).sum()\n",
    "grouped_season"
   ]
  },
  {
   "cell_type": "code",
   "execution_count": 340,
   "id": "b04cce43",
   "metadata": {},
   "outputs": [
    {
     "data": {
      "image/png": "[encoded data removed]",
      "text/plain": [
       "<Figure size 720x432 with 1 Axes>"
      ]
     },
     "metadata": {},
     "output_type": "display_data"
    }
   ],
   "source": [
    "#4-2) 시즌별 매출현황 분석 : 시즌에 따른 매출비율 분석\n",
    "\n",
    "plt.figure(figsize=(10,6))\n",
    "grouped_class_peak = (grouped_season[1]/(grouped_season[0]+grouped_season[1]))*100\n",
    "grouped_class_off = (grouped_season[0]/(grouped_season[0]+grouped_season[1]))*100\n",
    "grouped_series = pd.Series([grouped_class_off, grouped_class_peak], index = ['방학시즌', '학기시즌'])\n",
    "plt.pie(grouped_series, labels = grouped_series.index, autopct = '%.1f%%',textprops = {'fontsize' :16},counterclock= False)\n",
    "plt.show()\n",
    "# 모두까페의 매출의 83%를 한국대의 학기중에 발생되고 있다. "
   ]
  },
  {
   "cell_type": "code",
   "execution_count": 341,
   "id": "c6a67469",
   "metadata": {},
   "outputs": [
    {
     "data": {
      "text/plain": [
       "한국대생    3786\n",
       "일반      3051\n",
       "Name: class, dtype: int64"
      ]
     },
     "execution_count": 341,
     "metadata": {},
     "output_type": "execute_result"
    }
   ],
   "source": [
    "#4-2) 고객별 상품판매 비율 분석\n",
    "temp_sale['class'].value_counts()"
   ]
  },
  {
   "cell_type": "code",
   "execution_count": 342,
   "id": "89c48add",
   "metadata": {},
   "outputs": [
    {
     "data": {
      "text/plain": [
       "class\n",
       "일반      12399300\n",
       "한국대생    15439200\n",
       "Name: payment, dtype: int64"
      ]
     },
     "execution_count": 342,
     "metadata": {},
     "output_type": "execute_result"
    }
   ],
   "source": [
    "#4-2) 고객별 상품판매 비율 분석 .. class별 상품 집계\n",
    "grouped_sales_class = temp_sale['payment'].groupby([temp_sale['class']]).sum()\n",
    "grouped_sales_class"
   ]
  },
  {
   "cell_type": "code",
   "execution_count": 343,
   "id": "038fcf0f",
   "metadata": {},
   "outputs": [
    {
     "data": {
      "image/png": "[encoded data removed]",
      "text/plain": [
       "<Figure size 720x432 with 1 Axes>"
      ]
     },
     "metadata": {},
     "output_type": "display_data"
    }
   ],
   "source": [
    "#4-2) 고객별 상품판매 비율 분석 .. class별 상품 집계\n",
    "\n",
    "plt.figure(figsize=(10,6))\n",
    "grouped_sales_class_gen = (grouped_sales_class[0]/(grouped_sales_class[0]+grouped_sales_class[1]))*100\n",
    "grouped_sales_class_uni = (grouped_sales_class[1]/(grouped_sales_class[0]+grouped_sales_class[1]))*100\n",
    "grouped_series = pd.Series([grouped_sales_class_gen, grouped_sales_class_uni], index = ['일반', '한국대생'])\n",
    "plt.pie(grouped_series, labels = grouped_series.index, autopct = '%.1f%%',textprops = {'fontsize' :16},counterclock= False)\n",
    "plt.show()\n",
    "# 대학생 매출 비율이 55.5% 점유, 입장권에 비해 대학생의 상품비율은 다소 떨어짐 "
   ]
  },
  {
   "cell_type": "code",
   "execution_count": 344,
   "id": "214aba1a",
   "metadata": {},
   "outputs": [
    {
     "data": {
      "text/plain": [
       "15439200"
      ]
     },
     "execution_count": 344,
     "metadata": {},
     "output_type": "execute_result"
    }
   ],
   "source": [
    "#4-2) 고객별 상품판매 비율 분석 .. 대학생의 상품 집계\n",
    "temp_sales_class_uni = temp_sale_class[(temp_sale_class['class'] == '한국대생')]\n",
    "temp_sales_class_uni['payment'].sum()"
   ]
  },
  {
   "cell_type": "code",
   "execution_count": 345,
   "id": "ea7a45f7",
   "metadata": {},
   "outputs": [
    {
     "data": {
      "text/plain": [
       "상품명\n",
       "김치볶음밥         3299100\n",
       "라면            1616000\n",
       "치즈불고기볶음밥      1276300\n",
       "짜장라면          1150500\n",
       "낙지볶음밥          970900\n",
       "새우볶음밥          747100\n",
       "치즈감자튀김         726400\n",
       "감자튀김           587000\n",
       "아메리카노(ICE)     538800\n",
       "불닭볶음면          396000\n",
       "Name: payment, dtype: int64"
      ]
     },
     "execution_count": 345,
     "metadata": {},
     "output_type": "execute_result"
    }
   ],
   "source": [
    "#4-2) 고객별 상품판매 비율 분석 .. 대학생 top10\n",
    "temp_sales_class_uni_top10 = temp_sales_class_uni['payment'].groupby(temp_sales_class_uni['상품명']).sum()\n",
    "temp_sales_class_uni_top10 = temp_sales_class_uni_top10.sort_values(ascending=False)\n",
    "temp_sales_class_uni_top10[:10]"
   ]
  },
  {
   "cell_type": "code",
   "execution_count": 346,
   "id": "a6f90899",
   "metadata": {
    "scrolled": true
   },
   "outputs": [
    {
     "data": {
      "image/png": "[encoded data removed]",
      "text/plain": [
       "<Figure size 1152x576 with 1 Axes>"
      ]
     },
     "metadata": {
      "needs_background": "light"
     },
     "output_type": "display_data"
    }
   ],
   "source": [
    "#4-2) 고객별 상품판매 비율 분석 .. 대학생 top10 시각화\n",
    "\n",
    "plt.figure(figsize=(16,8))\n",
    "\n",
    "ax = plt.bar(temp_sales_class_uni_top10[:10].index, temp_sales_class_uni_top10[:10])\n",
    "plt.ticklabel_format(axis='y',  style = 'plain')\n",
    "plt.bar_label(ax, labels=[f'{x:,.0f}' for x in ax.datavalues], label_type='center',fontsize=14)\n",
    "plt.ylabel('원')\n",
    "plt.title('한국대생 판매 금액')\n",
    "plt.show()"
   ]
  },
  {
   "cell_type": "code",
   "execution_count": 347,
   "id": "ed261853",
   "metadata": {},
   "outputs": [
    {
     "data": {
      "text/plain": [
       "12399300"
      ]
     },
     "execution_count": 347,
     "metadata": {},
     "output_type": "execute_result"
    }
   ],
   "source": [
    "#4-2) 고객별 상품판매 비율 분석 .. 일반 집계\n",
    "temp_sales_class_gen = temp_sale_class[(temp_sale_class['class'] == '일반')]\n",
    "temp_sales_class_gen['payment'].sum()"
   ]
  },
  {
   "cell_type": "code",
   "execution_count": 348,
   "id": "e10f1b71",
   "metadata": {},
   "outputs": [
    {
     "data": {
      "text/plain": [
       "상품명\n",
       "김치볶음밥         2613100\n",
       "라면            1261500\n",
       "치즈불고기볶음밥       994300\n",
       "짜장라면           864000\n",
       "새우볶음밥          781800\n",
       "낙지볶음밥          728800\n",
       "치즈감자튀김         622300\n",
       "아메리카노(ICE)     510500\n",
       "감자튀김           464500\n",
       "만두라면           323000\n",
       "Name: payment, dtype: int64"
      ]
     },
     "execution_count": 348,
     "metadata": {},
     "output_type": "execute_result"
    }
   ],
   "source": [
    "#4-2) 고객별 상품판매 비율 분석 .. 일반top10\n",
    "temp_sales_class_gen_top10 = temp_sales_class_gen['payment'].groupby(temp_sales_class_gen['상품명']).sum()\n",
    "temp_sales_class_gen_top10 = temp_sales_class_gen_top10.sort_values(ascending=False)\n",
    "temp_sales_class_gen_top10[:10]"
   ]
  },
  {
   "cell_type": "code",
   "execution_count": 349,
   "id": "46a2202b",
   "metadata": {},
   "outputs": [
    {
     "data": {
      "image/png": "[encoded data removed]",
      "text/plain": [
       "<Figure size 1152x576 with 1 Axes>"
      ]
     },
     "metadata": {
      "needs_background": "light"
     },
     "output_type": "display_data"
    }
   ],
   "source": [
    "#4-2) 고객별 상품판매 비율 분석 .. 일반top10 시각화 \n",
    "\n",
    "plt.figure(figsize=(16,8))\n",
    "\n",
    "ax = plt.bar(temp_sales_class_gen_top10[:10].index, temp_sales_class_gen_top10[:10])\n",
    "plt.ticklabel_format(axis='y',  style = 'plain')\n",
    "plt.bar_label(ax, labels=[f'{x:,.0f}' for x in ax.datavalues], label_type='center',fontsize=14)\n",
    "plt.ylabel('원')\n",
    "plt.title('일반 판매 금액')\n",
    "plt.show()"
   ]
  },
  {
   "cell_type": "code",
   "execution_count": null,
   "id": "aa686e89",
   "metadata": {},
   "outputs": [],
   "source": [
    "\n"
   ]
  }
 ],
 "metadata": {
  "kernelspec": {
   "display_name": "Python 3 (ipykernel)",
   "language": "python",
   "name": "python3"
  },
  "language_info": {
   "codemirror_mode": {
    "name": "ipython",
    "version": 3
   },
   "file_extension": ".py",
   "mimetype": "text/x-python",
   "name": "python",
   "nbconvert_exporter": "python",
   "pygments_lexer": "ipython3",
   "version": "3.9.7"
  }
 },
 "nbformat": 4,
 "nbformat_minor": 5
}
