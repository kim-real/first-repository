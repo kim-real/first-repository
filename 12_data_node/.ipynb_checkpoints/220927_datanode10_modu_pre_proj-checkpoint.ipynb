{
 "cells": [
  {
   "cell_type": "markdown",
   "id": "013d96ae",
   "metadata": {},
   "source": [
    "    Data Node 10. 모두카페 프로젝트\n",
    "        0. 라이브러리 준비\n",
    "        1. 데이터 준비\n",
    "        2. 데이터 이해 \n",
    "           2-1) 입장권 기준정보 data : 34행 4열\n",
    "           2-2) 입장권 이용현황 data : 22555행 8열(22개 요금제명 확인 , 요금제명 null 284행, 금액 0 1449행) \n",
    "           2-3) 상품 기준정보 DATA   : 174행 4열\n",
    "           2-4) 상품 판매 data       : 7105행 8열 \n",
    "        3. 데이터 현황 분석\n",
    "           3-1) 필수 문제1 : 월별 매출액 추세 \n",
    "                - data 전처리 : sales_data : date(yyyy-mm) , payment(결제금액 > int 변환)\n",
    "                - 월별 매출액 집계 및 시각화 \n",
    "           3-2) 필수 문제2: 가장 인기 있는 음식/음료(salses_data를 이용합니다.)\n",
    "                - 판매개수로 시각화 \n",
    "                - 판매금액으로 시각화 \n",
    "           3-3) 필수 문제3: 가장 많이 팔린 입장권 종류 \n",
    "                - data 전처리 : entry_data(금액 > int 변환)\n",
    "                - 입장권 집계 및 시각화 "
   ]
  },
  {
   "cell_type": "code",
   "execution_count": 321,
   "id": "09ba44d0",
   "metadata": {},
   "outputs": [],
   "source": [
    "#0) 라이브러리 준비\n",
    "import numpy as np \n",
    "import pandas as pd\n",
    "import datetime as dt\n",
    "import matplotlib.pyplot as plt \n",
    "import seaborn as sns"
   ]
  },
  {
   "cell_type": "code",
   "execution_count": 322,
   "id": "ce19b56b",
   "metadata": {},
   "outputs": [],
   "source": [
    "#1) 데이터 준비 \n",
    "entry_data = pd.read_csv('~/aiffel/data_analysis_basic/data/entry_data.csv')\n",
    "sales_data = pd.read_csv('~/aiffel/data_analysis_basic/data/sales_data.csv')\n",
    "item_data = pd.read_csv('~/aiffel/data_analysis_basic/data/item_data.csv')\n",
    "item_entry_data = pd.read_csv('~/aiffel/data_analysis_basic/data/item_entry_data.csv')"
   ]
  },
  {
   "cell_type": "code",
   "execution_count": 323,
   "id": "956fc4bb",
   "metadata": {},
   "outputs": [
    {
     "data": {
      "text/html": [
       "<div>\n",
       "<style scoped>\n",
       "    .dataframe tbody tr th:only-of-type {\n",
       "        vertical-align: middle;\n",
       "    }\n",
       "\n",
       "    .dataframe tbody tr th {\n",
       "        vertical-align: top;\n",
       "    }\n",
       "\n",
       "    .dataframe thead th {\n",
       "        text-align: right;\n",
       "    }\n",
       "</style>\n",
       "<table border=\"1\" class=\"dataframe\">\n",
       "  <thead>\n",
       "    <tr style=\"text-align: right;\">\n",
       "      <th></th>\n",
       "      <th>순위</th>\n",
       "      <th>분류</th>\n",
       "      <th>상품명</th>\n",
       "      <th>판매금액</th>\n",
       "    </tr>\n",
       "  </thead>\n",
       "  <tbody>\n",
       "    <tr>\n",
       "      <th>0</th>\n",
       "      <td>1</td>\n",
       "      <td>한국대생</td>\n",
       "      <td>한국대생 요금제</td>\n",
       "      <td>2,000원</td>\n",
       "    </tr>\n",
       "    <tr>\n",
       "      <th>1</th>\n",
       "      <td>2</td>\n",
       "      <td>심야-조조</td>\n",
       "      <td>심야-조조 요금제</td>\n",
       "      <td>5,000원</td>\n",
       "    </tr>\n",
       "    <tr>\n",
       "      <th>2</th>\n",
       "      <td>3</td>\n",
       "      <td>일반인</td>\n",
       "      <td>일반요금제</td>\n",
       "      <td>2,500원</td>\n",
       "    </tr>\n",
       "    <tr>\n",
       "      <th>3</th>\n",
       "      <td>4</td>\n",
       "      <td>한국대생</td>\n",
       "      <td>한국대생 요금제</td>\n",
       "      <td>2,500원</td>\n",
       "    </tr>\n",
       "    <tr>\n",
       "      <th>4</th>\n",
       "      <td>5</td>\n",
       "      <td>일반인</td>\n",
       "      <td>일반요금제</td>\n",
       "      <td>2,000원</td>\n",
       "    </tr>\n",
       "  </tbody>\n",
       "</table>\n",
       "</div>"
      ],
      "text/plain": [
       "   순위     분류        상품명    판매금액\n",
       "0   1   한국대생   한국대생 요금제  2,000원\n",
       "1   2  심야-조조  심야-조조 요금제  5,000원\n",
       "2   3    일반인      일반요금제  2,500원\n",
       "3   4   한국대생   한국대생 요금제  2,500원\n",
       "4   5    일반인      일반요금제  2,000원"
      ]
     },
     "execution_count": 323,
     "metadata": {},
     "output_type": "execute_result"
    }
   ],
   "source": [
    "#2-1) 입장권 기준정보 data 34행 4열\n",
    "item_entry_data.head()"
   ]
  },
  {
   "cell_type": "code",
   "execution_count": 324,
   "id": "62d7ae2e",
   "metadata": {},
   "outputs": [
    {
     "data": {
      "text/html": [
       "<div>\n",
       "<style scoped>\n",
       "    .dataframe tbody tr th:only-of-type {\n",
       "        vertical-align: middle;\n",
       "    }\n",
       "\n",
       "    .dataframe tbody tr th {\n",
       "        vertical-align: top;\n",
       "    }\n",
       "\n",
       "    .dataframe thead th {\n",
       "        text-align: right;\n",
       "    }\n",
       "</style>\n",
       "<table border=\"1\" class=\"dataframe\">\n",
       "  <thead>\n",
       "    <tr style=\"text-align: right;\">\n",
       "      <th></th>\n",
       "      <th>요금제명</th>\n",
       "      <th>입실</th>\n",
       "      <th>퇴실</th>\n",
       "      <th>이용</th>\n",
       "      <th>위치</th>\n",
       "      <th>금액</th>\n",
       "      <th>구분</th>\n",
       "      <th>고객</th>\n",
       "    </tr>\n",
       "  </thead>\n",
       "  <tbody>\n",
       "    <tr>\n",
       "      <th>0</th>\n",
       "      <td>시간요금제(1시간)</td>\n",
       "      <td>2022-04-01 23:39</td>\n",
       "      <td>2022-04-02 0:39</td>\n",
       "      <td>오전 1:00:00</td>\n",
       "      <td>선불기2</td>\n",
       "      <td>3000</td>\n",
       "      <td>퇴실</td>\n",
       "      <td>customer263717</td>\n",
       "    </tr>\n",
       "    <tr>\n",
       "      <th>1</th>\n",
       "      <td>시간요금제(1시간)</td>\n",
       "      <td>2022-04-01 23:39</td>\n",
       "      <td>2022-04-02 0:39</td>\n",
       "      <td>오전 1:00:00</td>\n",
       "      <td>선불기2</td>\n",
       "      <td>3000</td>\n",
       "      <td>퇴실</td>\n",
       "      <td>customer263717</td>\n",
       "    </tr>\n",
       "    <tr>\n",
       "      <th>2</th>\n",
       "      <td>무제한 입장권</td>\n",
       "      <td>2022-04-01 20:55</td>\n",
       "      <td>2022-04-01 21:41</td>\n",
       "      <td>오전 12:46:00</td>\n",
       "      <td>선불기2</td>\n",
       "      <td>7400</td>\n",
       "      <td>퇴실</td>\n",
       "      <td>customer247263</td>\n",
       "    </tr>\n",
       "    <tr>\n",
       "      <th>3</th>\n",
       "      <td>무제한 입장권</td>\n",
       "      <td>2022-04-01 20:55</td>\n",
       "      <td>2022-04-01 21:41</td>\n",
       "      <td>오전 12:46:00</td>\n",
       "      <td>선불기2</td>\n",
       "      <td>7400</td>\n",
       "      <td>퇴실</td>\n",
       "      <td>customer247263</td>\n",
       "    </tr>\n",
       "    <tr>\n",
       "      <th>4</th>\n",
       "      <td>한국대생 무제한 입장권</td>\n",
       "      <td>2022-04-01 19:54</td>\n",
       "      <td>2022-04-01 22:28</td>\n",
       "      <td>오전 2:33:00</td>\n",
       "      <td>선불기2</td>\n",
       "      <td>7400</td>\n",
       "      <td>퇴실</td>\n",
       "      <td>customer388928</td>\n",
       "    </tr>\n",
       "  </tbody>\n",
       "</table>\n",
       "</div>"
      ],
      "text/plain": [
       "           요금제명                입실                퇴실           이용    위치    금액  \\\n",
       "0    시간요금제(1시간)  2022-04-01 23:39   2022-04-02 0:39   오전 1:00:00  선불기2  3000   \n",
       "1    시간요금제(1시간)  2022-04-01 23:39   2022-04-02 0:39   오전 1:00:00  선불기2  3000   \n",
       "2       무제한 입장권  2022-04-01 20:55  2022-04-01 21:41  오전 12:46:00  선불기2  7400   \n",
       "3       무제한 입장권  2022-04-01 20:55  2022-04-01 21:41  오전 12:46:00  선불기2  7400   \n",
       "4  한국대생 무제한 입장권  2022-04-01 19:54  2022-04-01 22:28   오전 2:33:00  선불기2  7400   \n",
       "\n",
       "   구분              고객  \n",
       "0  퇴실  customer263717  \n",
       "1  퇴실  customer263717  \n",
       "2  퇴실  customer247263  \n",
       "3  퇴실  customer247263  \n",
       "4  퇴실  customer388928  "
      ]
     },
     "execution_count": 324,
     "metadata": {},
     "output_type": "execute_result"
    }
   ],
   "source": [
    "#2-2) 입장권 이용현황 파일 , 22555행 8열, 금액 zero 1447행 ,요금제명 null \n",
    "entry_data.head()"
   ]
  },
  {
   "cell_type": "code",
   "execution_count": 325,
   "id": "e0251332",
   "metadata": {},
   "outputs": [
    {
     "data": {
      "text/html": [
       "<div>\n",
       "<style scoped>\n",
       "    .dataframe tbody tr th:only-of-type {\n",
       "        vertical-align: middle;\n",
       "    }\n",
       "\n",
       "    .dataframe tbody tr th {\n",
       "        vertical-align: top;\n",
       "    }\n",
       "\n",
       "    .dataframe thead th {\n",
       "        text-align: right;\n",
       "    }\n",
       "</style>\n",
       "<table border=\"1\" class=\"dataframe\">\n",
       "  <thead>\n",
       "    <tr style=\"text-align: right;\">\n",
       "      <th></th>\n",
       "      <th>구분</th>\n",
       "      <th>분류</th>\n",
       "      <th>상품명</th>\n",
       "      <th>판매금액</th>\n",
       "    </tr>\n",
       "  </thead>\n",
       "  <tbody>\n",
       "    <tr>\n",
       "      <th>0</th>\n",
       "      <td>1</td>\n",
       "      <td>게임&amp;TV</td>\n",
       "      <td>이어폰(커널형)</td>\n",
       "      <td>3,000원</td>\n",
       "    </tr>\n",
       "    <tr>\n",
       "      <th>1</th>\n",
       "      <td>2</td>\n",
       "      <td>디저트</td>\n",
       "      <td>초코머핀</td>\n",
       "      <td>3,500원</td>\n",
       "    </tr>\n",
       "    <tr>\n",
       "      <th>2</th>\n",
       "      <td>3</td>\n",
       "      <td>디저트</td>\n",
       "      <td>쿠키(초코칩)</td>\n",
       "      <td>1,500원</td>\n",
       "    </tr>\n",
       "    <tr>\n",
       "      <th>3</th>\n",
       "      <td>4</td>\n",
       "      <td>디저트</td>\n",
       "      <td>쿠키(마카다미아)</td>\n",
       "      <td>1,500원</td>\n",
       "    </tr>\n",
       "    <tr>\n",
       "      <th>4</th>\n",
       "      <td>5</td>\n",
       "      <td>디저트</td>\n",
       "      <td>미니마카롱(3개)</td>\n",
       "      <td>2,000원</td>\n",
       "    </tr>\n",
       "  </tbody>\n",
       "</table>\n",
       "</div>"
      ],
      "text/plain": [
       "   구분     분류        상품명    판매금액\n",
       "0   1  게임&TV   이어폰(커널형)  3,000원\n",
       "1   2    디저트       초코머핀  3,500원\n",
       "2   3    디저트    쿠키(초코칩)  1,500원\n",
       "3   4    디저트  쿠키(마카다미아)  1,500원\n",
       "4   5    디저트  미니마카롱(3개)  2,000원"
      ]
     },
     "execution_count": 325,
     "metadata": {},
     "output_type": "execute_result"
    }
   ],
   "source": [
    "#2-3) 상품 기준정보 DATA , 174, 4열\n",
    "item_data.head()"
   ]
  },
  {
   "cell_type": "code",
   "execution_count": 326,
   "id": "6d83eb27",
   "metadata": {},
   "outputs": [
    {
     "data": {
      "text/html": [
       "<div>\n",
       "<style scoped>\n",
       "    .dataframe tbody tr th:only-of-type {\n",
       "        vertical-align: middle;\n",
       "    }\n",
       "\n",
       "    .dataframe tbody tr th {\n",
       "        vertical-align: top;\n",
       "    }\n",
       "\n",
       "    .dataframe thead th {\n",
       "        text-align: right;\n",
       "    }\n",
       "</style>\n",
       "<table border=\"1\" class=\"dataframe\">\n",
       "  <thead>\n",
       "    <tr style=\"text-align: right;\">\n",
       "      <th></th>\n",
       "      <th>결제일시</th>\n",
       "      <th>판매위치</th>\n",
       "      <th>상품명</th>\n",
       "      <th>결제방식</th>\n",
       "      <th>비고</th>\n",
       "      <th>판매수량</th>\n",
       "      <th>결제금액</th>\n",
       "      <th>고객</th>\n",
       "    </tr>\n",
       "  </thead>\n",
       "  <tbody>\n",
       "    <tr>\n",
       "      <th>0</th>\n",
       "      <td>2022-04-01 19:41</td>\n",
       "      <td>선불기1</td>\n",
       "      <td>치킨카라아케 6pc</td>\n",
       "      <td>신용카드</td>\n",
       "      <td>결제완료</td>\n",
       "      <td>1</td>\n",
       "      <td>4,500</td>\n",
       "      <td>customer275507</td>\n",
       "    </tr>\n",
       "    <tr>\n",
       "      <th>1</th>\n",
       "      <td>2022-04-01 19:41</td>\n",
       "      <td>선불기1</td>\n",
       "      <td>짜장라면(계란추가)</td>\n",
       "      <td>신용카드</td>\n",
       "      <td>결제완료</td>\n",
       "      <td>1</td>\n",
       "      <td>5,500</td>\n",
       "      <td>customer275507</td>\n",
       "    </tr>\n",
       "    <tr>\n",
       "      <th>2</th>\n",
       "      <td>2022-04-01 19:41</td>\n",
       "      <td>선불기1</td>\n",
       "      <td>라면</td>\n",
       "      <td>신용카드</td>\n",
       "      <td>결제완료</td>\n",
       "      <td>1</td>\n",
       "      <td>4,000</td>\n",
       "      <td>customer275507</td>\n",
       "    </tr>\n",
       "    <tr>\n",
       "      <th>3</th>\n",
       "      <td>2022-04-01 19:41</td>\n",
       "      <td>선불기1</td>\n",
       "      <td>비엔나소세지(토핑)</td>\n",
       "      <td>신용카드</td>\n",
       "      <td>결제완료</td>\n",
       "      <td>1</td>\n",
       "      <td>1,000</td>\n",
       "      <td>customer275507</td>\n",
       "    </tr>\n",
       "    <tr>\n",
       "      <th>4</th>\n",
       "      <td>2022-04-01 19:41</td>\n",
       "      <td>선불기1</td>\n",
       "      <td>라면(계란/치즈추가)</td>\n",
       "      <td>신용카드</td>\n",
       "      <td>결제완료</td>\n",
       "      <td>1</td>\n",
       "      <td>5,000</td>\n",
       "      <td>customer275507</td>\n",
       "    </tr>\n",
       "  </tbody>\n",
       "</table>\n",
       "</div>"
      ],
      "text/plain": [
       "               결제일시  판매위치          상품명  결제방식    비고  판매수량   결제금액  \\\n",
       "0  2022-04-01 19:41  선불기1   치킨카라아케 6pc  신용카드  결제완료     1  4,500   \n",
       "1  2022-04-01 19:41  선불기1   짜장라면(계란추가)  신용카드  결제완료     1  5,500   \n",
       "2  2022-04-01 19:41  선불기1           라면  신용카드  결제완료     1  4,000   \n",
       "3  2022-04-01 19:41  선불기1   비엔나소세지(토핑)  신용카드  결제완료     1  1,000   \n",
       "4  2022-04-01 19:41  선불기1  라면(계란/치즈추가)  신용카드  결제완료     1  5,000   \n",
       "\n",
       "               고객  \n",
       "0  customer275507  \n",
       "1  customer275507  \n",
       "2  customer275507  \n",
       "3  customer275507  \n",
       "4  customer275507  "
      ]
     },
     "execution_count": 326,
     "metadata": {},
     "output_type": "execute_result"
    }
   ],
   "source": [
    "#2-4) 판매 파일 7105행 8열 \n",
    "sales_data.head()"
   ]
  },
  {
   "cell_type": "code",
   "execution_count": 327,
   "id": "f9947346",
   "metadata": {},
   "outputs": [
    {
     "data": {
      "text/html": [
       "<div>\n",
       "<style scoped>\n",
       "    .dataframe tbody tr th:only-of-type {\n",
       "        vertical-align: middle;\n",
       "    }\n",
       "\n",
       "    .dataframe tbody tr th {\n",
       "        vertical-align: top;\n",
       "    }\n",
       "\n",
       "    .dataframe thead th {\n",
       "        text-align: right;\n",
       "    }\n",
       "</style>\n",
       "<table border=\"1\" class=\"dataframe\">\n",
       "  <thead>\n",
       "    <tr style=\"text-align: right;\">\n",
       "      <th></th>\n",
       "      <th>요금제명</th>\n",
       "      <th>입실</th>\n",
       "      <th>퇴실</th>\n",
       "      <th>이용</th>\n",
       "      <th>위치</th>\n",
       "      <th>금액</th>\n",
       "      <th>구분</th>\n",
       "      <th>고객</th>\n",
       "    </tr>\n",
       "  </thead>\n",
       "  <tbody>\n",
       "    <tr>\n",
       "      <th>15</th>\n",
       "      <td>기간권</td>\n",
       "      <td>2022-04-01 17:57</td>\n",
       "      <td>2022-04-02 2:00</td>\n",
       "      <td>오전 8:03:00</td>\n",
       "      <td>선불기2</td>\n",
       "      <td>0</td>\n",
       "      <td>퇴실</td>\n",
       "      <td>customer300766</td>\n",
       "    </tr>\n",
       "    <tr>\n",
       "      <th>43</th>\n",
       "      <td>기간권</td>\n",
       "      <td>2022-04-01 12:24</td>\n",
       "      <td>2022-04-01 18:09</td>\n",
       "      <td>오전 5:45:00</td>\n",
       "      <td>선불기2</td>\n",
       "      <td>0</td>\n",
       "      <td>퇴실</td>\n",
       "      <td>customer827023</td>\n",
       "    </tr>\n",
       "    <tr>\n",
       "      <th>50</th>\n",
       "      <td>기간권</td>\n",
       "      <td>2022-04-01 8:56</td>\n",
       "      <td>2022-04-01 18:05</td>\n",
       "      <td>오전 9:09:00</td>\n",
       "      <td>선불기2</td>\n",
       "      <td>0</td>\n",
       "      <td>퇴실</td>\n",
       "      <td>customer392176</td>\n",
       "    </tr>\n",
       "    <tr>\n",
       "      <th>59</th>\n",
       "      <td>기간권</td>\n",
       "      <td>2022-03-31 18:00</td>\n",
       "      <td>2022-03-31 22:01</td>\n",
       "      <td>오전 4:01:00</td>\n",
       "      <td>선불기2</td>\n",
       "      <td>0</td>\n",
       "      <td>퇴실</td>\n",
       "      <td>customer475199</td>\n",
       "    </tr>\n",
       "    <tr>\n",
       "      <th>60</th>\n",
       "      <td>기간권</td>\n",
       "      <td>2022-03-31 17:57</td>\n",
       "      <td>2022-04-01 2:01</td>\n",
       "      <td>오전 8:04:00</td>\n",
       "      <td>선불기2</td>\n",
       "      <td>0</td>\n",
       "      <td>퇴실</td>\n",
       "      <td>customer300766</td>\n",
       "    </tr>\n",
       "    <tr>\n",
       "      <th>...</th>\n",
       "      <td>...</td>\n",
       "      <td>...</td>\n",
       "      <td>...</td>\n",
       "      <td>...</td>\n",
       "      <td>...</td>\n",
       "      <td>...</td>\n",
       "      <td>...</td>\n",
       "      <td>...</td>\n",
       "    </tr>\n",
       "    <tr>\n",
       "      <th>22541</th>\n",
       "      <td>시간권</td>\n",
       "      <td>2021-02-17 13:23</td>\n",
       "      <td>2021-02-17 14:20</td>\n",
       "      <td>오전 12:56:00</td>\n",
       "      <td>선불기2</td>\n",
       "      <td>0</td>\n",
       "      <td>퇴실</td>\n",
       "      <td>customer428382</td>\n",
       "    </tr>\n",
       "    <tr>\n",
       "      <th>22542</th>\n",
       "      <td>시간권</td>\n",
       "      <td>2021-02-17 13:21</td>\n",
       "      <td>2021-02-17 13:23</td>\n",
       "      <td>오전 12:02:00</td>\n",
       "      <td>선불기1</td>\n",
       "      <td>0</td>\n",
       "      <td>퇴실</td>\n",
       "      <td>customer428382</td>\n",
       "    </tr>\n",
       "    <tr>\n",
       "      <th>22543</th>\n",
       "      <td>시간권</td>\n",
       "      <td>2021-02-17 13:16</td>\n",
       "      <td>2021-02-17 13:20</td>\n",
       "      <td>오전 12:04:00</td>\n",
       "      <td>선불기2</td>\n",
       "      <td>0</td>\n",
       "      <td>퇴실</td>\n",
       "      <td>customer428382</td>\n",
       "    </tr>\n",
       "    <tr>\n",
       "      <th>22547</th>\n",
       "      <td>시간권</td>\n",
       "      <td>2021-02-17 13:14</td>\n",
       "      <td>2021-02-17 13:21</td>\n",
       "      <td>오전 12:07:00</td>\n",
       "      <td>선불기2</td>\n",
       "      <td>0</td>\n",
       "      <td>퇴실</td>\n",
       "      <td>customer715819</td>\n",
       "    </tr>\n",
       "    <tr>\n",
       "      <th>22548</th>\n",
       "      <td>시간권</td>\n",
       "      <td>2021-02-17 13:11</td>\n",
       "      <td>2021-02-17 13:14</td>\n",
       "      <td>오전 12:02:00</td>\n",
       "      <td>선불기2</td>\n",
       "      <td>0</td>\n",
       "      <td>퇴실</td>\n",
       "      <td>customer715819</td>\n",
       "    </tr>\n",
       "  </tbody>\n",
       "</table>\n",
       "<p>1449 rows × 8 columns</p>\n",
       "</div>"
      ],
      "text/plain": [
       "      요금제명                입실                퇴실           이용    위치  금액  구분  \\\n",
       "15     기간권  2022-04-01 17:57   2022-04-02 2:00   오전 8:03:00  선불기2   0  퇴실   \n",
       "43     기간권  2022-04-01 12:24  2022-04-01 18:09   오전 5:45:00  선불기2   0  퇴실   \n",
       "50     기간권   2022-04-01 8:56  2022-04-01 18:05   오전 9:09:00  선불기2   0  퇴실   \n",
       "59     기간권  2022-03-31 18:00  2022-03-31 22:01   오전 4:01:00  선불기2   0  퇴실   \n",
       "60     기간권  2022-03-31 17:57   2022-04-01 2:01   오전 8:04:00  선불기2   0  퇴실   \n",
       "...    ...               ...               ...          ...   ...  ..  ..   \n",
       "22541  시간권  2021-02-17 13:23  2021-02-17 14:20  오전 12:56:00  선불기2   0  퇴실   \n",
       "22542  시간권  2021-02-17 13:21  2021-02-17 13:23  오전 12:02:00  선불기1   0  퇴실   \n",
       "22543  시간권  2021-02-17 13:16  2021-02-17 13:20  오전 12:04:00  선불기2   0  퇴실   \n",
       "22547  시간권  2021-02-17 13:14  2021-02-17 13:21  오전 12:07:00  선불기2   0  퇴실   \n",
       "22548  시간권  2021-02-17 13:11  2021-02-17 13:14  오전 12:02:00  선불기2   0  퇴실   \n",
       "\n",
       "                   고객  \n",
       "15     customer300766  \n",
       "43     customer827023  \n",
       "50     customer392176  \n",
       "59     customer475199  \n",
       "60     customer300766  \n",
       "...               ...  \n",
       "22541  customer428382  \n",
       "22542  customer428382  \n",
       "22543  customer428382  \n",
       "22547  customer715819  \n",
       "22548  customer715819  \n",
       "\n",
       "[1449 rows x 8 columns]"
      ]
     },
     "execution_count": 327,
     "metadata": {},
     "output_type": "execute_result"
    }
   ],
   "source": [
    "#2-5) 입장권 데이터 확인 : 22개 요금제명 확인 , 요금제명 null 284행, 금액 0 1449행 \n",
    "entry_data.head()\n",
    "#entry_data['요금제명'].value_counts()\n",
    "#entry_data[entry_data.isnull().any(axis=1)]\n",
    "entry_data[entry_data['금액'] == 0 ]"
   ]
  },
  {
   "cell_type": "code",
   "execution_count": 328,
   "id": "1d43d25c",
   "metadata": {},
   "outputs": [
    {
     "data": {
      "text/plain": [
       "결제일시    7105\n",
       "판매위치    7105\n",
       "상품명     7105\n",
       "결제방식    7105\n",
       "비고      7105\n",
       "판매수량    7105\n",
       "결제금액    7105\n",
       "고객      6300\n",
       "dtype: int64"
      ]
     },
     "execution_count": 328,
     "metadata": {},
     "output_type": "execute_result"
    }
   ],
   "source": [
    "#2-5) 상품판매 데이터 확인 : 고객 null 805행 , 결제금액 0 108행 \n",
    "sales_data.count()\n",
    "#sales_data[sales_data['결제금액'] == 0 ]"
   ]
  },
  {
   "cell_type": "code",
   "execution_count": 329,
   "id": "90c0c815",
   "metadata": {},
   "outputs": [],
   "source": [
    "#3-1) 월별 매출액 추세 \n",
    "# 데이터 현황 분석 .. 준비 ... 데이터(sales_data)를 temp_var로 정의하기\n",
    "temp_var = sales_data"
   ]
  },
  {
   "cell_type": "code",
   "execution_count": 330,
   "id": "0c1debd7",
   "metadata": {},
   "outputs": [],
   "source": [
    "#3-1) 월별 매출액 추세 \n",
    "# 데이터 현황 분석 .. 준비 ... date열을 만들고, sales_date의 결제일시 중 앞에서 7번째 값까지 할당\n",
    "temp_var['date'] = sales_data['결제일시'].str[:7]"
   ]
  },
  {
   "cell_type": "code",
   "execution_count": 331,
   "id": "8a51d0da",
   "metadata": {},
   "outputs": [],
   "source": [
    "#3-1) 월별 매출액 추세 \n",
    "# 데이터 현황 분석 .. 준비 ...salse_data의 결제금액에 포함된 쉼표(,) 지우기\n",
    "sales_data['결제금액'] = sales_data['결제금액'].str.replace(',', '')"
   ]
  },
  {
   "cell_type": "code",
   "execution_count": 332,
   "id": "16cbccd8",
   "metadata": {},
   "outputs": [],
   "source": [
    "# 3-1) 월별 매출액 추세 \n",
    "# 데이터 현황 분석 .. 준비 ...salse_data의 결제금액을 숫자형태로 바꾸기\n",
    "temp_var['payment'] = sales_data['결제금액'].astype(int)"
   ]
  },
  {
   "cell_type": "code",
   "execution_count": 333,
   "id": "0195e7b7",
   "metadata": {},
   "outputs": [
    {
     "data": {
      "text/plain": [
       "date\n",
       "2021-02       7000\n",
       "2021-03    2104500\n",
       "2021-04    3116600\n",
       "2021-05    2537000\n",
       "2021-06    3621500\n",
       "2021-07    1215000\n",
       "2021-08    1229000\n",
       "2021-09    1197500\n",
       "2021-10    2138500\n",
       "2021-11    2748500\n",
       "2021-12    3290000\n",
       "2022-01    1430500\n",
       "2022-02    1181500\n",
       "2022-03    1870900\n",
       "2022-04      49900\n",
       "Name: payment, dtype: int64"
      ]
     },
     "execution_count": 333,
     "metadata": {},
     "output_type": "execute_result"
    }
   ],
   "source": [
    "# 3-1) 월별 매출액 추세 \n",
    "# 월별 매출액 집계 ...temp_var의 payment열을 date 기준으로 집계하기\n",
    "payment_data = temp_var['payment'].groupby(temp_var['date']).sum()\n",
    "payment_data"
   ]
  },
  {
   "cell_type": "code",
   "execution_count": 348,
   "id": "8187d788",
   "metadata": {},
   "outputs": [
    {
     "data": {
      "image/png": "[encoded data removed]",
      "text/plain": [
       "<Figure size 1152x576 with 1 Axes>"
      ]
     },
     "metadata": {
      "needs_background": "light"
     },
     "output_type": "display_data"
    }
   ],
   "source": [
    "# 3-1) 월별 매출액 추세 \n",
    "# 월별 매출액 집계 ...결과를 시각화하기  .. ax변경\n",
    "\n",
    "plt.figure(figsize=(16,8))\n",
    "\n",
    "ax = plt.bar(payment_data.index, payment_data)\n",
    "plt.ticklabel_format(axis='y',  style = 'plain')\n",
    "plt.bar_label(ax, labels=[f'{x:,.0f}' for x in ax.datavalues], label_type='center',fontsize=12)\n",
    "plt.title('Sales By Months')\n",
    "plt.xlabel('Month')\n",
    "plt.ylabel('Sales')\n",
    "plt.show()"
   ]
  },
  {
   "cell_type": "code",
   "execution_count": 15,
   "id": "8a68ac8b",
   "metadata": {},
   "outputs": [
    {
     "data": {
      "text/plain": [
       "결제일시              판매위치  상품명         결제방식  비고    판매수량  결제금액  고객              date     payment\n",
       "2021-10-05 13:33  선불기1  치즈추가        현금    결제완료  1     500   customer803089  2021-10  500        4\n",
       "                        라면          현금    결제완료  1     4000  customer803089  2021-10  4000       4\n",
       "2021-10-07 10:05  선불기1  시럽추가        신용카드  결제완료  1     500   customer777135  2021-10  500        4\n",
       "2021-06-19 21:02  선불기1  라면          신용카드  결제완료  1     4000  customer283589  2021-06  4000       4\n",
       "2021-06-14 11:37  선불기1  치즈추가        신용카드  결제완료  1     500   customer950393  2021-06  500        3\n",
       "                                                                                               ..\n",
       "2021-06-13 12:59  선불기1  계란추가        신용카드  결제완료  1     500   customer339447  2021-06  500        1\n",
       "2021-06-13 11:46  선불기1  새우볶음밥       신용카드  결제완료  1     5000  customer950393  2021-06  5000       1\n",
       "2021-06-13 10:33  선불기1  김치볶음밥       신용카드  결제완료  1     5000  customer983308  2021-06  5000       1\n",
       "2021-06-13 10:00  선불기1  김치볶음밥       신용카드  결제완료  1     5000  customer258946  2021-06  5000       1\n",
       "2022-04-01 19:41  선불기1  치킨카라아케 6pc  신용카드  결제완료  1     4500  customer275507  2022-04  4500       1\n",
       "Length: 5988, dtype: int64"
      ]
     },
     "execution_count": 15,
     "metadata": {},
     "output_type": "execute_result"
    }
   ],
   "source": [
    "#3-2) 가장 인기 있는 음식/음료 \n",
    "#temp_var의 상품명을 value_counts를 이용해 집계하기\n",
    "items_count = temp_var[temp_var['판매수량']!=-1].value_counts()\n",
    "items_count"
   ]
  },
  {
   "cell_type": "code",
   "execution_count": 16,
   "id": "1ea98065",
   "metadata": {},
   "outputs": [
    {
     "data": {
      "text/html": [
       "<div>\n",
       "<style scoped>\n",
       "    .dataframe tbody tr th:only-of-type {\n",
       "        vertical-align: middle;\n",
       "    }\n",
       "\n",
       "    .dataframe tbody tr th {\n",
       "        vertical-align: top;\n",
       "    }\n",
       "\n",
       "    .dataframe thead th {\n",
       "        text-align: right;\n",
       "    }\n",
       "</style>\n",
       "<table border=\"1\" class=\"dataframe\">\n",
       "  <thead>\n",
       "    <tr style=\"text-align: right;\">\n",
       "      <th></th>\n",
       "      <th></th>\n",
       "      <th></th>\n",
       "      <th></th>\n",
       "      <th></th>\n",
       "      <th></th>\n",
       "      <th></th>\n",
       "      <th></th>\n",
       "      <th></th>\n",
       "      <th></th>\n",
       "      <th>0</th>\n",
       "    </tr>\n",
       "    <tr>\n",
       "      <th>결제일시</th>\n",
       "      <th>판매위치</th>\n",
       "      <th>상품명</th>\n",
       "      <th>결제방식</th>\n",
       "      <th>비고</th>\n",
       "      <th>판매수량</th>\n",
       "      <th>결제금액</th>\n",
       "      <th>고객</th>\n",
       "      <th>date</th>\n",
       "      <th>payment</th>\n",
       "      <th></th>\n",
       "    </tr>\n",
       "  </thead>\n",
       "  <tbody>\n",
       "    <tr>\n",
       "      <th rowspan=\"2\" valign=\"top\">2021-10-05 13:33</th>\n",
       "      <th rowspan=\"2\" valign=\"top\">선불기1</th>\n",
       "      <th>치즈추가</th>\n",
       "      <th>현금</th>\n",
       "      <th>결제완료</th>\n",
       "      <th>1</th>\n",
       "      <th>500</th>\n",
       "      <th>customer803089</th>\n",
       "      <th>2021-10</th>\n",
       "      <th>500</th>\n",
       "      <td>4</td>\n",
       "    </tr>\n",
       "    <tr>\n",
       "      <th>라면</th>\n",
       "      <th>현금</th>\n",
       "      <th>결제완료</th>\n",
       "      <th>1</th>\n",
       "      <th>4000</th>\n",
       "      <th>customer803089</th>\n",
       "      <th>2021-10</th>\n",
       "      <th>4000</th>\n",
       "      <td>4</td>\n",
       "    </tr>\n",
       "    <tr>\n",
       "      <th>2021-10-07 10:05</th>\n",
       "      <th>선불기1</th>\n",
       "      <th>시럽추가</th>\n",
       "      <th>신용카드</th>\n",
       "      <th>결제완료</th>\n",
       "      <th>1</th>\n",
       "      <th>500</th>\n",
       "      <th>customer777135</th>\n",
       "      <th>2021-10</th>\n",
       "      <th>500</th>\n",
       "      <td>4</td>\n",
       "    </tr>\n",
       "    <tr>\n",
       "      <th>2021-06-19 21:02</th>\n",
       "      <th>선불기1</th>\n",
       "      <th>라면</th>\n",
       "      <th>신용카드</th>\n",
       "      <th>결제완료</th>\n",
       "      <th>1</th>\n",
       "      <th>4000</th>\n",
       "      <th>customer283589</th>\n",
       "      <th>2021-06</th>\n",
       "      <th>4000</th>\n",
       "      <td>4</td>\n",
       "    </tr>\n",
       "    <tr>\n",
       "      <th>2021-06-14 11:37</th>\n",
       "      <th>선불기1</th>\n",
       "      <th>치즈추가</th>\n",
       "      <th>신용카드</th>\n",
       "      <th>결제완료</th>\n",
       "      <th>1</th>\n",
       "      <th>500</th>\n",
       "      <th>customer950393</th>\n",
       "      <th>2021-06</th>\n",
       "      <th>500</th>\n",
       "      <td>3</td>\n",
       "    </tr>\n",
       "    <tr>\n",
       "      <th>2021-03-23 13:41</th>\n",
       "      <th>선불기1</th>\n",
       "      <th>계란추가</th>\n",
       "      <th>신용카드</th>\n",
       "      <th>결제완료</th>\n",
       "      <th>1</th>\n",
       "      <th>500</th>\n",
       "      <th>customer556974</th>\n",
       "      <th>2021-03</th>\n",
       "      <th>500</th>\n",
       "      <td>3</td>\n",
       "    </tr>\n",
       "    <tr>\n",
       "      <th>2021-11-29 19:20</th>\n",
       "      <th>선불기1</th>\n",
       "      <th>김치볶음밥</th>\n",
       "      <th>신용카드</th>\n",
       "      <th>결제완료</th>\n",
       "      <th>1</th>\n",
       "      <th>5000</th>\n",
       "      <th>customer975556</th>\n",
       "      <th>2021-11</th>\n",
       "      <th>5000</th>\n",
       "      <td>3</td>\n",
       "    </tr>\n",
       "    <tr>\n",
       "      <th>2021-06-16 12:17</th>\n",
       "      <th>선불기1</th>\n",
       "      <th>라면</th>\n",
       "      <th>신용카드</th>\n",
       "      <th>결제완료</th>\n",
       "      <th>1</th>\n",
       "      <th>4000</th>\n",
       "      <th>customer996256</th>\n",
       "      <th>2021-06</th>\n",
       "      <th>4000</th>\n",
       "      <td>3</td>\n",
       "    </tr>\n",
       "    <tr>\n",
       "      <th>2021-08-22 17:12</th>\n",
       "      <th>선불기1</th>\n",
       "      <th>라면</th>\n",
       "      <th>신용카드</th>\n",
       "      <th>결제완료</th>\n",
       "      <th>1</th>\n",
       "      <th>4000</th>\n",
       "      <th>customer439220</th>\n",
       "      <th>2021-08</th>\n",
       "      <th>4000</th>\n",
       "      <td>3</td>\n",
       "    </tr>\n",
       "    <tr>\n",
       "      <th>2021-04-25 18:31</th>\n",
       "      <th>선불기1</th>\n",
       "      <th>김치볶음밥</th>\n",
       "      <th>신용카드</th>\n",
       "      <th>결제완료</th>\n",
       "      <th>1</th>\n",
       "      <th>5000</th>\n",
       "      <th>customer304481</th>\n",
       "      <th>2021-04</th>\n",
       "      <th>5000</th>\n",
       "      <td>3</td>\n",
       "    </tr>\n",
       "  </tbody>\n",
       "</table>\n",
       "</div>"
      ],
      "text/plain": [
       "                                                                                0\n",
       "결제일시             판매위치 상품명   결제방식 비고   판매수량 결제금액 고객             date    payment   \n",
       "2021-10-05 13:33 선불기1 치즈추가  현금   결제완료 1    500  customer803089 2021-10 500      4\n",
       "                      라면    현금   결제완료 1    4000 customer803089 2021-10 4000     4\n",
       "2021-10-07 10:05 선불기1 시럽추가  신용카드 결제완료 1    500  customer777135 2021-10 500      4\n",
       "2021-06-19 21:02 선불기1 라면    신용카드 결제완료 1    4000 customer283589 2021-06 4000     4\n",
       "2021-06-14 11:37 선불기1 치즈추가  신용카드 결제완료 1    500  customer950393 2021-06 500      3\n",
       "2021-03-23 13:41 선불기1 계란추가  신용카드 결제완료 1    500  customer556974 2021-03 500      3\n",
       "2021-11-29 19:20 선불기1 김치볶음밥 신용카드 결제완료 1    5000 customer975556 2021-11 5000     3\n",
       "2021-06-16 12:17 선불기1 라면    신용카드 결제완료 1    4000 customer996256 2021-06 4000     3\n",
       "2021-08-22 17:12 선불기1 라면    신용카드 결제완료 1    4000 customer439220 2021-08 4000     3\n",
       "2021-04-25 18:31 선불기1 김치볶음밥 신용카드 결제완료 1    5000 customer304481 2021-04 5000     3"
      ]
     },
     "execution_count": 16,
     "metadata": {},
     "output_type": "execute_result"
    }
   ],
   "source": [
    "#3-2) 가장 인기 있는 음식/음료 \n",
    "# 집계 결과를 데이터프레임으로 변환하고, 상위 10개 선정하기\n",
    "items_count = pd.DataFrame(items_count)\n",
    "items_count[:10]"
   ]
  },
  {
   "cell_type": "code",
   "execution_count": 17,
   "id": "2f7f1db5",
   "metadata": {},
   "outputs": [
    {
     "name": "stdout",
     "output_type": "stream",
     "text": [
      "완료!\n"
     ]
    }
   ],
   "source": [
    "#3-2) 가장 인기 있는 음식/음료 \n",
    "# 한글이 포함된 시각화를 위해 Matplotlib 설정\n",
    "import matplotlib as mpl\n",
    "import matplotlib.pyplot as plt\n",
    "import matplotlib.font_manager as fm\n",
    "fontpath = '/usr/share/fonts/truetype/nanum/NanumBarunGothic.ttf'\n",
    "font = fm.FontProperties(fname=fontpath, size=9)\n",
    "plt.rc('font', family='NanumBarunGothic') \n",
    "mpl.font_manager.findfont(font)\n",
    "print(\"완료!\")"
   ]
  },
  {
   "cell_type": "code",
   "execution_count": 18,
   "id": "79322cfd",
   "metadata": {},
   "outputs": [
    {
     "data": {
      "image/png": "[encoded data removed]",
      "text/plain": [
       "<Figure size 1152x576 with 1 Axes>"
      ]
     },
     "metadata": {
      "needs_background": "light"
     },
     "output_type": "display_data"
    }
   ],
   "source": [
    "#3-2) 가장 인기 있는 음식/음료 \n",
    "# 집계 결과를 시각화하기\n",
    "items_count[:10].plot(kind='bar',figsize=(16,8))\n",
    "plt.ylabel('개')\n",
    "plt.title('판매 개수')\n",
    "plt.show()"
   ]
  },
  {
   "cell_type": "code",
   "execution_count": 19,
   "id": "a883a751",
   "metadata": {},
   "outputs": [
    {
     "data": {
      "text/plain": [
       "상품명\n",
       "(면)계란추가-국물라면           5000\n",
       "(면)계란후라이 추가-불닭/짜장     20000\n",
       "(면)치즈추가               10500\n",
       "(밥)계란후라이 추가            3000\n",
       "(밥)슈레드치즈추가             4500\n",
       "                      ...  \n",
       "한돈간장불고기덮밥            112500\n",
       "한돈고추장불고기덮밥           127500\n",
       "허니밀크쉐이크              114000\n",
       "헤이즐넛라떼(HOT)            9000\n",
       "헤이즐넛라떼(ICE)           67500\n",
       "Name: payment, Length: 100, dtype: int64"
      ]
     },
     "execution_count": 19,
     "metadata": {},
     "output_type": "execute_result"
    }
   ],
   "source": [
    "#3-2) 가장 인기 있는 음식/음료 \n",
    "# temp_var의 payment열을 상품명을 기준으로 집계하기\n",
    "items_payment = temp_var['payment'].groupby(temp_var['상품명'][temp_var['판매수량']!=-1]).sum()\n",
    "items_payment"
   ]
  },
  {
   "cell_type": "code",
   "execution_count": 20,
   "id": "afaabd9c",
   "metadata": {},
   "outputs": [
    {
     "data": {
      "text/plain": [
       "상품명\n",
       "김치볶음밥         6004400\n",
       "라면            2941500\n",
       "치즈불고기볶음밥      2292600\n",
       "짜장라면          2038500\n",
       "낙지볶음밥         1710700\n",
       "새우볶음밥         1539800\n",
       "치즈감자튀김        1354200\n",
       "감자튀김          1083800\n",
       "아메리카노(ICE)    1058100\n",
       "불닭볶음면          693000\n",
       "Name: payment, dtype: int64"
      ]
     },
     "execution_count": 20,
     "metadata": {},
     "output_type": "execute_result"
    }
   ],
   "source": [
    "#3-2) 가장 인기 있는 음식/음료 \n",
    "# item_payment의 값을 내림차순으로 정렬하고 상위 10개 도출하기\n",
    "items_payment = items_payment.sort_values(ascending=False)\n",
    "items_payment[:10]"
   ]
  },
  {
   "cell_type": "code",
   "execution_count": 346,
   "id": "5274a89b",
   "metadata": {},
   "outputs": [
    {
     "data": {
      "image/png": "[encoded data removed]",
      "text/plain": [
       "<Figure size 1152x576 with 1 Axes>"
      ]
     },
     "metadata": {
      "needs_background": "light"
     },
     "output_type": "display_data"
    }
   ],
   "source": [
    "#3-2) 가장 인기 있는 음식/음료 \n",
    "# 집계 결과 시각화하기\n",
    "#items_payment[:10].plot(kind='bar')  >>> ax로 변경 \n",
    "\n",
    "plt.figure(figsize=(16,8))\n",
    "\n",
    "ax = plt.bar(items_payment[:10].index, items_payment[:10])\n",
    "plt.ticklabel_format(axis='y',  style = 'plain')\n",
    "plt.bar_label(ax, labels=[f'{x:,.0f}' for x in ax.datavalues], label_type='center',fontsize=14)\n",
    "plt.ylabel('원')\n",
    "plt.title('판매 금액')\n",
    "plt.show()"
   ]
  },
  {
   "cell_type": "code",
   "execution_count": 22,
   "id": "1cb9fd08",
   "metadata": {},
   "outputs": [
    {
     "data": {
      "text/html": [
       "<div>\n",
       "<style scoped>\n",
       "    .dataframe tbody tr th:only-of-type {\n",
       "        vertical-align: middle;\n",
       "    }\n",
       "\n",
       "    .dataframe tbody tr th {\n",
       "        vertical-align: top;\n",
       "    }\n",
       "\n",
       "    .dataframe thead th {\n",
       "        text-align: right;\n",
       "    }\n",
       "</style>\n",
       "<table border=\"1\" class=\"dataframe\">\n",
       "  <thead>\n",
       "    <tr style=\"text-align: right;\">\n",
       "      <th></th>\n",
       "      <th>요금제명</th>\n",
       "      <th>입실</th>\n",
       "      <th>퇴실</th>\n",
       "      <th>이용</th>\n",
       "      <th>위치</th>\n",
       "      <th>금액</th>\n",
       "      <th>구분</th>\n",
       "      <th>고객</th>\n",
       "    </tr>\n",
       "  </thead>\n",
       "  <tbody>\n",
       "    <tr>\n",
       "      <th>0</th>\n",
       "      <td>시간요금제(1시간)</td>\n",
       "      <td>2022-04-01 23:39</td>\n",
       "      <td>2022-04-02 0:39</td>\n",
       "      <td>오전 1:00:00</td>\n",
       "      <td>선불기2</td>\n",
       "      <td>3000</td>\n",
       "      <td>퇴실</td>\n",
       "      <td>customer263717</td>\n",
       "    </tr>\n",
       "    <tr>\n",
       "      <th>1</th>\n",
       "      <td>시간요금제(1시간)</td>\n",
       "      <td>2022-04-01 23:39</td>\n",
       "      <td>2022-04-02 0:39</td>\n",
       "      <td>오전 1:00:00</td>\n",
       "      <td>선불기2</td>\n",
       "      <td>3000</td>\n",
       "      <td>퇴실</td>\n",
       "      <td>customer263717</td>\n",
       "    </tr>\n",
       "    <tr>\n",
       "      <th>2</th>\n",
       "      <td>무제한 입장권</td>\n",
       "      <td>2022-04-01 20:55</td>\n",
       "      <td>2022-04-01 21:41</td>\n",
       "      <td>오전 12:46:00</td>\n",
       "      <td>선불기2</td>\n",
       "      <td>7400</td>\n",
       "      <td>퇴실</td>\n",
       "      <td>customer247263</td>\n",
       "    </tr>\n",
       "    <tr>\n",
       "      <th>3</th>\n",
       "      <td>무제한 입장권</td>\n",
       "      <td>2022-04-01 20:55</td>\n",
       "      <td>2022-04-01 21:41</td>\n",
       "      <td>오전 12:46:00</td>\n",
       "      <td>선불기2</td>\n",
       "      <td>7400</td>\n",
       "      <td>퇴실</td>\n",
       "      <td>customer247263</td>\n",
       "    </tr>\n",
       "    <tr>\n",
       "      <th>4</th>\n",
       "      <td>한국대생 무제한 입장권</td>\n",
       "      <td>2022-04-01 19:54</td>\n",
       "      <td>2022-04-01 22:28</td>\n",
       "      <td>오전 2:33:00</td>\n",
       "      <td>선불기2</td>\n",
       "      <td>7400</td>\n",
       "      <td>퇴실</td>\n",
       "      <td>customer388928</td>\n",
       "    </tr>\n",
       "    <tr>\n",
       "      <th>...</th>\n",
       "      <td>...</td>\n",
       "      <td>...</td>\n",
       "      <td>...</td>\n",
       "      <td>...</td>\n",
       "      <td>...</td>\n",
       "      <td>...</td>\n",
       "      <td>...</td>\n",
       "      <td>...</td>\n",
       "    </tr>\n",
       "    <tr>\n",
       "      <th>22550</th>\n",
       "      <td>종일요금제</td>\n",
       "      <td>2021-02-17 13:09</td>\n",
       "      <td>2021-02-17 14:19</td>\n",
       "      <td>오전 1:10:00</td>\n",
       "      <td>선불기1</td>\n",
       "      <td>6500</td>\n",
       "      <td>퇴실</td>\n",
       "      <td>customer774105</td>\n",
       "    </tr>\n",
       "    <tr>\n",
       "      <th>22551</th>\n",
       "      <td>종일요금제</td>\n",
       "      <td>2021-02-17 13:09</td>\n",
       "      <td>2021-02-17 14:19</td>\n",
       "      <td>오전 1:10:00</td>\n",
       "      <td>선불기1</td>\n",
       "      <td>6500</td>\n",
       "      <td>퇴실</td>\n",
       "      <td>customer774105</td>\n",
       "    </tr>\n",
       "    <tr>\n",
       "      <th>22552</th>\n",
       "      <td>종일요금제</td>\n",
       "      <td>2021-02-17 13:06</td>\n",
       "      <td>2021-02-17 14:19</td>\n",
       "      <td>오전 1:13:00</td>\n",
       "      <td>선불기1</td>\n",
       "      <td>7000</td>\n",
       "      <td>퇴실</td>\n",
       "      <td>customer774105</td>\n",
       "    </tr>\n",
       "    <tr>\n",
       "      <th>22553</th>\n",
       "      <td>종일요금제</td>\n",
       "      <td>2021-02-17 13:06</td>\n",
       "      <td>2021-02-17 14:19</td>\n",
       "      <td>오전 1:13:00</td>\n",
       "      <td>선불기1</td>\n",
       "      <td>7000</td>\n",
       "      <td>퇴실</td>\n",
       "      <td>customer774105</td>\n",
       "    </tr>\n",
       "    <tr>\n",
       "      <th>22554</th>\n",
       "      <td>종일요금제</td>\n",
       "      <td>2021-02-17 12:58</td>\n",
       "      <td>2021-02-17 14:19</td>\n",
       "      <td>오전 1:21:00</td>\n",
       "      <td>선불기1</td>\n",
       "      <td>7000</td>\n",
       "      <td>퇴실</td>\n",
       "      <td>customer774105</td>\n",
       "    </tr>\n",
       "  </tbody>\n",
       "</table>\n",
       "<p>22555 rows × 8 columns</p>\n",
       "</div>"
      ],
      "text/plain": [
       "               요금제명                입실                퇴실           이용    위치  \\\n",
       "0        시간요금제(1시간)  2022-04-01 23:39   2022-04-02 0:39   오전 1:00:00  선불기2   \n",
       "1        시간요금제(1시간)  2022-04-01 23:39   2022-04-02 0:39   오전 1:00:00  선불기2   \n",
       "2           무제한 입장권  2022-04-01 20:55  2022-04-01 21:41  오전 12:46:00  선불기2   \n",
       "3           무제한 입장권  2022-04-01 20:55  2022-04-01 21:41  오전 12:46:00  선불기2   \n",
       "4      한국대생 무제한 입장권  2022-04-01 19:54  2022-04-01 22:28   오전 2:33:00  선불기2   \n",
       "...             ...               ...               ...          ...   ...   \n",
       "22550         종일요금제  2021-02-17 13:09  2021-02-17 14:19   오전 1:10:00  선불기1   \n",
       "22551         종일요금제  2021-02-17 13:09  2021-02-17 14:19   오전 1:10:00  선불기1   \n",
       "22552         종일요금제  2021-02-17 13:06  2021-02-17 14:19   오전 1:13:00  선불기1   \n",
       "22553         종일요금제  2021-02-17 13:06  2021-02-17 14:19   오전 1:13:00  선불기1   \n",
       "22554         종일요금제  2021-02-17 12:58  2021-02-17 14:19   오전 1:21:00  선불기1   \n",
       "\n",
       "         금액  구분              고객  \n",
       "0      3000  퇴실  customer263717  \n",
       "1      3000  퇴실  customer263717  \n",
       "2      7400  퇴실  customer247263  \n",
       "3      7400  퇴실  customer247263  \n",
       "4      7400  퇴실  customer388928  \n",
       "...     ...  ..             ...  \n",
       "22550  6500  퇴실  customer774105  \n",
       "22551  6500  퇴실  customer774105  \n",
       "22552  7000  퇴실  customer774105  \n",
       "22553  7000  퇴실  customer774105  \n",
       "22554  7000  퇴실  customer774105  \n",
       "\n",
       "[22555 rows x 8 columns]"
      ]
     },
     "execution_count": 22,
     "metadata": {},
     "output_type": "execute_result"
    }
   ],
   "source": [
    "#3-3) 필수 문제3: 가장 많이 팔린 입장권 종류  ..data 준비\n",
    "# 활용할 데이터(entry_data)를 temp_var로 정의하기\n",
    "temp_var = entry_data\n",
    "temp_var"
   ]
  },
  {
   "cell_type": "code",
   "execution_count": 23,
   "id": "6211bf67",
   "metadata": {},
   "outputs": [],
   "source": [
    "#3-3) 필수 문제3: 가장 많이 팔린 입장권 종류  ..data 전처리\n",
    "# temp_var의 금액을 숫자형태로 변환하기\n",
    "temp_var['금액'] = temp_var['금액'].astype(int)"
   ]
  },
  {
   "cell_type": "code",
   "execution_count": 24,
   "id": "eab6a53b",
   "metadata": {},
   "outputs": [
    {
     "data": {
      "text/plain": [
       "요금제명\n",
       "18시이후 무제한           1330500\n",
       "1시간                   90000\n",
       "1시간 요금제               14000\n",
       "3시간                   21000\n",
       "기간권                       0\n",
       "무제한 입장권             1568600\n",
       "무제한(일반요금)              6000\n",
       "무제한(한국대생)             14000\n",
       "시간 요금제(1시간당)          25000\n",
       "시간권                       0\n",
       "시간요금제                 12300\n",
       "시간요금제(1시간)          2665500\n",
       "시간요금제(1시간당)           22500\n",
       "시간요금제(3시간)          2042000\n",
       "심야-조조무제한            6221000\n",
       "심야-조조무제한(06시까지)    11600000\n",
       "이용권                       0\n",
       "입장권(종일권)           23570500\n",
       "조조무제한                693000\n",
       "종일요금제                233000\n",
       "한국대생 무제한 입장권        5207500\n",
       "한국대생 입장권(종일권)      70037000\n",
       "Name: 금액, dtype: int64"
      ]
     },
     "execution_count": 24,
     "metadata": {},
     "output_type": "execute_result"
    }
   ],
   "source": [
    "#3-3) 필수 문제3: 가장 많이 팔린 입장권 종류  .. 집계 \n",
    "# temp_var의 금액을 요금제명을 기준으로 집계하기\n",
    "tickets = temp_var['금액'].groupby(temp_var['요금제명']).sum()\n",
    "tickets"
   ]
  },
  {
   "cell_type": "code",
   "execution_count": 25,
   "id": "e535619e",
   "metadata": {},
   "outputs": [
    {
     "data": {
      "text/plain": [
       "요금제명\n",
       "한국대생 입장권(종일권)      70037000\n",
       "입장권(종일권)           23570500\n",
       "심야-조조무제한(06시까지)    11600000\n",
       "심야-조조무제한            6221000\n",
       "한국대생 무제한 입장권        5207500\n",
       "시간요금제(1시간)          2665500\n",
       "시간요금제(3시간)          2042000\n",
       "무제한 입장권             1568600\n",
       "18시이후 무제한           1330500\n",
       "조조무제한                693000\n",
       "Name: 금액, dtype: int64"
      ]
     },
     "execution_count": 25,
     "metadata": {},
     "output_type": "execute_result"
    }
   ],
   "source": [
    "#3-3) 필수 문제3: 가장 많이 팔린 입장권 종류  .. top 10\n",
    "# tickets의 값을 내림차순으로 정렬하고 상위 10개 도출하기\n",
    "tickets = tickets.sort_values(ascending=False)\n",
    "tickets[:10]"
   ]
  },
  {
   "cell_type": "code",
   "execution_count": 350,
   "id": "4f4745b0",
   "metadata": {},
   "outputs": [
    {
     "data": {
      "image/png": "[encoded data removed]",
      "text/plain": [
       "<Figure size 1152x576 with 1 Axes>"
      ]
     },
     "metadata": {
      "needs_background": "light"
     },
     "output_type": "display_data"
    }
   ],
   "source": [
    "#3-3) 필수 문제3: 가장 많이 팔린 입장권 종류  .. 시각화 \n",
    "# 집계 결과 시각화하기\n",
    "#tickets[:10].plot(kind='bar')\n",
    "\n",
    "plt.figure(figsize=(16,8))\n",
    "\n",
    "ax = plt.bar(tickets[:10].index, tickets[:10])\n",
    "plt.ticklabel_format(axis='y',  style = 'plain')\n",
    "plt.bar_label(ax, labels=[f'{x:,.0f}' for x in ax.datavalues], label_type='center',fontsize=14)\n",
    "plt.ylabel('원')\n",
    "plt.title('입장권별 판매금액')\n",
    "plt.show()"
   ]
  },
  {
   "cell_type": "code",
   "execution_count": null,
   "id": "2fb6d7bd",
   "metadata": {},
   "outputs": [],
   "source": [
    "# 내가 결정 한 곳 "
   ]
  },
  {
   "cell_type": "code",
   "execution_count": null,
   "id": "1fed3e0c",
   "metadata": {},
   "outputs": [],
   "source": []
  },
  {
   "cell_type": "code",
   "execution_count": null,
   "id": "eb39250c",
   "metadata": {},
   "outputs": [],
   "source": []
  },
  {
   "cell_type": "code",
   "execution_count": null,
   "id": "2255e6e3",
   "metadata": {},
   "outputs": [],
   "source": []
  },
  {
   "cell_type": "code",
   "execution_count": 51,
   "id": "d52643a6",
   "metadata": {},
   "outputs": [],
   "source": [
    "#0) data전처리 실시를 위한 temp data 생성\n",
    "temp_entry = entry_data\n",
    "temp_sale = sales_data"
   ]
  },
  {
   "cell_type": "code",
   "execution_count": 164,
   "id": "ad442c4c",
   "metadata": {},
   "outputs": [
    {
     "name": "stdout",
     "output_type": "stream",
     "text": [
      "<class 'pandas.core.frame.DataFrame'>\n",
      "Int64Index: 22292 entries, 0 to 22554\n",
      "Data columns (total 12 columns):\n",
      " #   Column   Non-Null Count  Dtype \n",
      "---  ------   --------------  ----- \n",
      " 0   요금제명     22292 non-null  object\n",
      " 1   입실       22292 non-null  object\n",
      " 2   퇴실       22292 non-null  object\n",
      " 3   이용       22271 non-null  object\n",
      " 4   위치       22292 non-null  object\n",
      " 5   금액       22292 non-null  int64 \n",
      " 6   구분       22292 non-null  object\n",
      " 7   고객       22292 non-null  object\n",
      " 8   class    22292 non-null  object\n",
      " 9   indate   22292 non-null  object\n",
      " 10  outdate  22292 non-null  object\n",
      " 11  season   22292 non-null  object\n",
      "dtypes: int64(1), object(11)\n",
      "memory usage: 2.7+ MB\n"
     ]
    }
   ],
   "source": [
    "temp_entry.info()"
   ]
  },
  {
   "cell_type": "code",
   "execution_count": 186,
   "id": "833f48d2",
   "metadata": {},
   "outputs": [
    {
     "data": {
      "text/html": [
       "<div>\n",
       "<style scoped>\n",
       "    .dataframe tbody tr th:only-of-type {\n",
       "        vertical-align: middle;\n",
       "    }\n",
       "\n",
       "    .dataframe tbody tr th {\n",
       "        vertical-align: top;\n",
       "    }\n",
       "\n",
       "    .dataframe thead th {\n",
       "        text-align: right;\n",
       "    }\n",
       "</style>\n",
       "<table border=\"1\" class=\"dataframe\">\n",
       "  <thead>\n",
       "    <tr style=\"text-align: right;\">\n",
       "      <th></th>\n",
       "      <th>요금제명</th>\n",
       "      <th>입실</th>\n",
       "      <th>퇴실</th>\n",
       "      <th>이용</th>\n",
       "      <th>위치</th>\n",
       "      <th>금액</th>\n",
       "      <th>구분</th>\n",
       "      <th>고객</th>\n",
       "      <th>class</th>\n",
       "      <th>indate</th>\n",
       "      <th>outdate</th>\n",
       "      <th>season</th>\n",
       "    </tr>\n",
       "  </thead>\n",
       "  <tbody>\n",
       "  </tbody>\n",
       "</table>\n",
       "</div>"
      ],
      "text/plain": [
       "Empty DataFrame\n",
       "Columns: [요금제명, 입실, 퇴실, 이용, 위치, 금액, 구분, 고객, class, indate, outdate, season]\n",
       "Index: []"
      ]
     },
     "execution_count": 186,
     "metadata": {},
     "output_type": "execute_result"
    }
   ],
   "source": [
    "#0) entry data 삭제 .. 2021-02, 2022-04\n",
    "#del_index_02 = temp_entry[(temp_entry['outdate'] == '2021-02')].index\n",
    "#del_index_04 = temp_entry[(temp_entry['outdate'] == '2022-04')].index\n",
    "#temp_entry.drop(del_index_02,inplace = True)\n",
    "#temp_entry.drop(del_index_04, inplace = True)\n",
    "#temp_entry[(temp_entry['outdate'] == '2021-02')]\n",
    "temp_entry[(temp_entry['outdate'] == '2022-04')]"
   ]
  },
  {
   "cell_type": "code",
   "execution_count": 27,
   "id": "ab99beb3",
   "metadata": {},
   "outputs": [],
   "source": [
    "#1) data 전처리 entry_data 요금제 null 삭제 \n",
    "temp_entry.dropna(how='all', subset=['요금제명'], inplace=True)"
   ]
  },
  {
   "cell_type": "code",
   "execution_count": null,
   "id": "c6603aef",
   "metadata": {},
   "outputs": [],
   "source": [
    "#1) data 전처리 entry_data 요금제 null 삭제 "
   ]
  },
  {
   "cell_type": "code",
   "execution_count": 45,
   "id": "d07e3631",
   "metadata": {},
   "outputs": [],
   "source": [
    "#1) data 전처리 entry_data class 생성 ...일반,한국대생\n",
    "#temp_entry_rs = temp_entry[temp_entry['요금제명'].str.contains('한국대생')]\n",
    "#temp_entry_rs['class'] = '한국대생'\n",
    "#temp_entry['class'] = temp_entry_rs['class']\n",
    "#3) 한국대생 나머지 필드 nan : 일반으로 저장 \n",
    "temp_entry['class'] = temp_entry['class'].fillna('일반')\n",
    "#temp_entry['class'] = limba[x:x for i in temp_entry['요금제명'] if i.str.contains('한국대생') == True '한국대생', '일반']"
   ]
  },
  {
   "cell_type": "code",
   "execution_count": 90,
   "id": "0c48532f",
   "metadata": {},
   "outputs": [],
   "source": [
    "#1) data 전처리 entry_data ..입실,퇴실,비수기 구분 ,  out_date 기준 정리 \n",
    "#temp_entry['indate'] = temp_entry['입실'].str[:7]\n",
    "#temp_entry['outdate'] = temp_entry['퇴실'].str[:7]\n",
    "#temp_entry[(temp_entry['indate'] != temp_entry['outdate'])]\n",
    "#temp_entry_season = temp_entry[(temp_entry['outdate'] == '2021-07')|(temp_entry['outdate'] == '2021-08')|(temp_entry['outdate'] == '2021-09')|(temp_entry['outdate'] == '2022-01')|(temp_entry['outdate'] == '2022-02')]\n",
    "#temp_entry_season['season'] = 'off'\n",
    "#temp_entry['season'] = temp_entry_season['season']\n",
    "#temp_entry['season'] = temp_entry['season'].fillna('peak')"
   ]
  },
  {
   "cell_type": "code",
   "execution_count": 118,
   "id": "67176132",
   "metadata": {},
   "outputs": [
    {
     "data": {
      "text/plain": [
       "한국대생    3911\n",
       "일반      3143\n",
       "Name: class, dtype: int64"
      ]
     },
     "execution_count": 118,
     "metadata": {},
     "output_type": "execute_result"
    }
   ],
   "source": [
    "#2) data 전처리 temp_sale\n",
    "# temp_var의 date열을 만들고, sales_date의 결제일시 중 앞에서 7번째 값까지 할당\n",
    "#temp_sale['date'] = sales_data['결제일시'].str[:7]\n",
    "# salse_data의 결제금액에 포함된 쉼표(,) 지우기\n",
    "#temp_sale['결제금액'] = temp_sale.결제금액.str.replace(',', '').astype('int64')\n",
    "#temp_sale[temp_sale['결제금액'] == 0 ]\n",
    "temp_sale_class['class'].value_counts()"
   ]
  },
  {
   "cell_type": "code",
   "execution_count": 116,
   "id": "0b648ffc",
   "metadata": {},
   "outputs": [
    {
     "name": "stdout",
     "output_type": "stream",
     "text": [
      "고객 5875\n"
     ]
    }
   ],
   "source": [
    "#2) data 전처리 temp_sale .. class 추가 \n",
    "#temp_sale_class = temp_sale\n",
    "#cnt = 0 \n",
    "#for i in temp_sale['고객']:\n",
    "#    for j in temp_entry['고객']:\n",
    "#        if i == j:\n",
    "#            temp_sale_class['class'] = temp_entry['class']\n",
    "#            cnt += 1\n",
    "#            break\n",
    "#print('고객', cnt)        "
   ]
  },
  {
   "cell_type": "code",
   "execution_count": 187,
   "id": "4cfd41cf",
   "metadata": {},
   "outputs": [
    {
     "data": {
      "text/plain": [
       "class\n",
       "일반      49759700\n",
       "한국대생    74944300\n",
       "Name: 금액, dtype: int64"
      ]
     },
     "execution_count": 187,
     "metadata": {},
     "output_type": "execute_result"
    }
   ],
   "source": [
    "#3) 분석그래프 .. 3-1class별 매출현황\n",
    "#grouped['class'].value_counts()\n",
    "grouped_class = temp_entry['금액'].groupby(temp_entry['class']).sum()\n",
    "grouped_class"
   ]
  },
  {
   "cell_type": "code",
   "execution_count": 188,
   "id": "de9b611d",
   "metadata": {},
   "outputs": [
    {
     "data": {
      "image/png": "[encoded data removed]",
      "text/plain": [
       "<Figure size 720x432 with 1 Axes>"
      ]
     },
     "metadata": {},
     "output_type": "display_data"
    }
   ],
   "source": [
    "#3) 분석그래프 .. 3-1)class별 매출현황\n",
    "import matplotlib.pyplot as plt\n",
    "import pandas as pd\n",
    "\n",
    "plt.figure(figsize=(10,6)) \n",
    "grouped_class_gener = (grouped_class[0]/(grouped_class[0]+grouped_class[1]))*100\n",
    "grouped_class_univer = (grouped_class[1]/(grouped_class[0]+grouped_class[1]))*100\n",
    "\n",
    "grouped_series = pd.Series([grouped_class_gener, grouped_class_univer], index = ['일반고객', '한국대생'])\n",
    "plt.pie(grouped_series, labels = grouped_series.index, autopct = '%.1f%%',textprops = {'fontsize' :16}, counterclock= False)\n",
    "plt.show()\n",
    "# 모두까페의 매출의 60%를 한국대생이 차지하고 있다 "
   ]
  },
  {
   "cell_type": "code",
   "execution_count": 205,
   "id": "0eaddc53",
   "metadata": {},
   "outputs": [],
   "source": [
    "##3) 분석그래프 .. 3-3)class별 date 별 매출현황\n",
    "\n",
    "grouped = temp_entry['금액'].groupby([temp_entry['outdate'], temp_entry['class']]).sum()\n"
   ]
  },
  {
   "cell_type": "code",
   "execution_count": 190,
   "id": "c46a3b47",
   "metadata": {},
   "outputs": [
    {
     "data": {
      "image/png": "[encoded data removed]",
      "text/plain": [
       "<Figure size 1152x576 with 1 Axes>"
      ]
     },
     "metadata": {
      "needs_background": "light"
     },
     "output_type": "display_data"
    }
   ],
   "source": [
    "##3) 분석그래프 .. 3-3) class별 date 별 매출현황\n",
    "\n",
    "plt.figure(figsize=(16,8))\n",
    "\n",
    "ax = sns.barplot(data=grouped.reset_index(), x='outdate', y='금액', hue='class')\n",
    "\n",
    "containers = ax.containers[-1]\n",
    "containers0 = ax.containers[0]\n",
    "plt.ticklabel_format(axis='y',  style = 'plain')\n",
    "ax.bar_label(containers, labels=[f'{x:,.0f}' for x in containers.datavalues], label_type='center')\n",
    "ax.bar_label(containers0, labels=[f'{x:,.0f}' for x in containers0.datavalues], label_type='center')\n",
    "\n",
    "plt.title('entry sale By Month')\n",
    "plt.show()\n",
    "#한국대생 학기중 모두까페 매출이 일반보다 많았으며, 월별 매출의 % 차지함 "
   ]
  },
  {
   "cell_type": "code",
   "execution_count": 191,
   "id": "8cdfab94",
   "metadata": {},
   "outputs": [
    {
     "data": {
      "text/plain": [
       "season\n",
       "off      21321000\n",
       "peak    103383000\n",
       "Name: 금액, dtype: int64"
      ]
     },
     "execution_count": 191,
     "metadata": {},
     "output_type": "execute_result"
    }
   ],
   "source": [
    "#3) 분석그래프 .. 3-2) season별 매출현황 집계 \n",
    "#grouped['class'].value_counts()\n",
    "grouped_season = temp_entry['금액'].groupby(temp_entry['season']).sum()\n",
    "grouped_season"
   ]
  },
  {
   "cell_type": "code",
   "execution_count": 192,
   "id": "2c508a06",
   "metadata": {},
   "outputs": [
    {
     "data": {
      "image/png": "[encoded data removed]",
      "text/plain": [
       "<Figure size 720x432 with 1 Axes>"
      ]
     },
     "metadata": {},
     "output_type": "display_data"
    }
   ],
   "source": [
    "#3) 분석그래프 .. 3-1)seasonquf 매출현황\n",
    "\n",
    "plt.figure(figsize=(10,6))\n",
    "grouped_class_peak = (grouped_season[1]/(grouped_season[0]+grouped_season[1]))*100\n",
    "grouped_class_off = (grouped_season[0]/(grouped_season[0]+grouped_season[1]))*100\n",
    "grouped_series = pd.Series([grouped_class_off, grouped_class_peak], index = ['방학시즌', '학기시즌'])\n",
    "plt.pie(grouped_series, labels = grouped_series.index, autopct = '%.1f%%',textprops = {'fontsize' :16},counterclock= False)\n",
    "plt.show()\n",
    "# 모두까페의 매출의 83%를 한국대의 학기중에 발생되고 있다. "
   ]
  },
  {
   "cell_type": "code",
   "execution_count": 262,
   "id": "2cd15a1f",
   "metadata": {},
   "outputs": [
    {
     "data": {
      "text/html": [
       "<div>\n",
       "<style scoped>\n",
       "    .dataframe tbody tr th:only-of-type {\n",
       "        vertical-align: middle;\n",
       "    }\n",
       "\n",
       "    .dataframe tbody tr th {\n",
       "        vertical-align: top;\n",
       "    }\n",
       "\n",
       "    .dataframe thead th {\n",
       "        text-align: right;\n",
       "    }\n",
       "</style>\n",
       "<table border=\"1\" class=\"dataframe\">\n",
       "  <thead>\n",
       "    <tr style=\"text-align: right;\">\n",
       "      <th></th>\n",
       "      <th>결제일시</th>\n",
       "      <th>판매위치</th>\n",
       "      <th>상품명</th>\n",
       "      <th>결제방식</th>\n",
       "      <th>비고</th>\n",
       "      <th>판매수량</th>\n",
       "      <th>결제금액</th>\n",
       "      <th>고객</th>\n",
       "      <th>date</th>\n",
       "      <th>payment</th>\n",
       "      <th>class</th>\n",
       "    </tr>\n",
       "  </thead>\n",
       "  <tbody>\n",
       "    <tr>\n",
       "      <th>0</th>\n",
       "      <td>2022-04-01 19:41</td>\n",
       "      <td>선불기1</td>\n",
       "      <td>치킨카라아케 6pc</td>\n",
       "      <td>신용카드</td>\n",
       "      <td>결제완료</td>\n",
       "      <td>1</td>\n",
       "      <td>4500</td>\n",
       "      <td>customer275507</td>\n",
       "      <td>2022-04</td>\n",
       "      <td>4500</td>\n",
       "      <td>일반</td>\n",
       "    </tr>\n",
       "    <tr>\n",
       "      <th>1</th>\n",
       "      <td>2022-04-01 19:41</td>\n",
       "      <td>선불기1</td>\n",
       "      <td>짜장라면(계란추가)</td>\n",
       "      <td>신용카드</td>\n",
       "      <td>결제완료</td>\n",
       "      <td>1</td>\n",
       "      <td>5500</td>\n",
       "      <td>customer275507</td>\n",
       "      <td>2022-04</td>\n",
       "      <td>5500</td>\n",
       "      <td>일반</td>\n",
       "    </tr>\n",
       "    <tr>\n",
       "      <th>2</th>\n",
       "      <td>2022-04-01 19:41</td>\n",
       "      <td>선불기1</td>\n",
       "      <td>라면</td>\n",
       "      <td>신용카드</td>\n",
       "      <td>결제완료</td>\n",
       "      <td>1</td>\n",
       "      <td>4000</td>\n",
       "      <td>customer275507</td>\n",
       "      <td>2022-04</td>\n",
       "      <td>4000</td>\n",
       "      <td>일반</td>\n",
       "    </tr>\n",
       "    <tr>\n",
       "      <th>3</th>\n",
       "      <td>2022-04-01 19:41</td>\n",
       "      <td>선불기1</td>\n",
       "      <td>비엔나소세지(토핑)</td>\n",
       "      <td>신용카드</td>\n",
       "      <td>결제완료</td>\n",
       "      <td>1</td>\n",
       "      <td>1000</td>\n",
       "      <td>customer275507</td>\n",
       "      <td>2022-04</td>\n",
       "      <td>1000</td>\n",
       "      <td>일반</td>\n",
       "    </tr>\n",
       "    <tr>\n",
       "      <th>4</th>\n",
       "      <td>2022-04-01 19:41</td>\n",
       "      <td>선불기1</td>\n",
       "      <td>라면(계란/치즈추가)</td>\n",
       "      <td>신용카드</td>\n",
       "      <td>결제완료</td>\n",
       "      <td>1</td>\n",
       "      <td>5000</td>\n",
       "      <td>customer275507</td>\n",
       "      <td>2022-04</td>\n",
       "      <td>5000</td>\n",
       "      <td>한국대생</td>\n",
       "    </tr>\n",
       "    <tr>\n",
       "      <th>...</th>\n",
       "      <td>...</td>\n",
       "      <td>...</td>\n",
       "      <td>...</td>\n",
       "      <td>...</td>\n",
       "      <td>...</td>\n",
       "      <td>...</td>\n",
       "      <td>...</td>\n",
       "      <td>...</td>\n",
       "      <td>...</td>\n",
       "      <td>...</td>\n",
       "      <td>...</td>\n",
       "    </tr>\n",
       "    <tr>\n",
       "      <th>7100</th>\n",
       "      <td>2021-02-17 14:21</td>\n",
       "      <td>카운터</td>\n",
       "      <td>아메리카노(HOT)</td>\n",
       "      <td>현금</td>\n",
       "      <td>결제취소</td>\n",
       "      <td>-1</td>\n",
       "      <td>-3500</td>\n",
       "      <td>NaN</td>\n",
       "      <td>2021-02</td>\n",
       "      <td>-3500</td>\n",
       "      <td>한국대생</td>\n",
       "    </tr>\n",
       "    <tr>\n",
       "      <th>7101</th>\n",
       "      <td>2021-02-17 13:51</td>\n",
       "      <td>선불기2</td>\n",
       "      <td>카페모카(HOT)</td>\n",
       "      <td>신용카드</td>\n",
       "      <td>결제완료</td>\n",
       "      <td>1</td>\n",
       "      <td>4500</td>\n",
       "      <td>NaN</td>\n",
       "      <td>2021-02</td>\n",
       "      <td>4500</td>\n",
       "      <td>한국대생</td>\n",
       "    </tr>\n",
       "    <tr>\n",
       "      <th>7102</th>\n",
       "      <td>2021-02-17 13:51</td>\n",
       "      <td>선불기2</td>\n",
       "      <td>카페모카(HOT)</td>\n",
       "      <td>신용카드</td>\n",
       "      <td>판매취소</td>\n",
       "      <td>-1</td>\n",
       "      <td>-4500</td>\n",
       "      <td>NaN</td>\n",
       "      <td>2021-02</td>\n",
       "      <td>-4500</td>\n",
       "      <td>한국대생</td>\n",
       "    </tr>\n",
       "    <tr>\n",
       "      <th>7103</th>\n",
       "      <td>2021-02-17 13:26</td>\n",
       "      <td>카운터</td>\n",
       "      <td>카페라떼(HOT)</td>\n",
       "      <td>신용카드</td>\n",
       "      <td>결제완료</td>\n",
       "      <td>1</td>\n",
       "      <td>4000</td>\n",
       "      <td>NaN</td>\n",
       "      <td>2021-02</td>\n",
       "      <td>4000</td>\n",
       "      <td>한국대생</td>\n",
       "    </tr>\n",
       "    <tr>\n",
       "      <th>7104</th>\n",
       "      <td>2021-02-17 13:27</td>\n",
       "      <td>카운터</td>\n",
       "      <td>카페라떼(HOT)</td>\n",
       "      <td>신용카드</td>\n",
       "      <td>판매취소</td>\n",
       "      <td>-1</td>\n",
       "      <td>-4000</td>\n",
       "      <td>NaN</td>\n",
       "      <td>2021-02</td>\n",
       "      <td>-4000</td>\n",
       "      <td>한국대생</td>\n",
       "    </tr>\n",
       "  </tbody>\n",
       "</table>\n",
       "<p>7105 rows × 11 columns</p>\n",
       "</div>"
      ],
      "text/plain": [
       "                  결제일시  판매위치          상품명  결제방식    비고  판매수량   결제금액  \\\n",
       "0     2022-04-01 19:41  선불기1   치킨카라아케 6pc  신용카드  결제완료     1   4500   \n",
       "1     2022-04-01 19:41  선불기1   짜장라면(계란추가)  신용카드  결제완료     1   5500   \n",
       "2     2022-04-01 19:41  선불기1           라면  신용카드  결제완료     1   4000   \n",
       "3     2022-04-01 19:41  선불기1   비엔나소세지(토핑)  신용카드  결제완료     1   1000   \n",
       "4     2022-04-01 19:41  선불기1  라면(계란/치즈추가)  신용카드  결제완료     1   5000   \n",
       "...                ...   ...          ...   ...   ...   ...    ...   \n",
       "7100  2021-02-17 14:21   카운터   아메리카노(HOT)    현금  결제취소    -1  -3500   \n",
       "7101  2021-02-17 13:51  선불기2    카페모카(HOT)  신용카드  결제완료     1   4500   \n",
       "7102  2021-02-17 13:51  선불기2    카페모카(HOT)  신용카드  판매취소    -1  -4500   \n",
       "7103  2021-02-17 13:26   카운터    카페라떼(HOT)  신용카드  결제완료     1   4000   \n",
       "7104  2021-02-17 13:27   카운터    카페라떼(HOT)  신용카드  판매취소    -1  -4000   \n",
       "\n",
       "                  고객     date  payment class  \n",
       "0     customer275507  2022-04     4500    일반  \n",
       "1     customer275507  2022-04     5500    일반  \n",
       "2     customer275507  2022-04     4000    일반  \n",
       "3     customer275507  2022-04     1000    일반  \n",
       "4     customer275507  2022-04     5000  한국대생  \n",
       "...              ...      ...      ...   ...  \n",
       "7100             NaN  2021-02    -3500  한국대생  \n",
       "7101             NaN  2021-02     4500  한국대생  \n",
       "7102             NaN  2021-02    -4500  한국대생  \n",
       "7103             NaN  2021-02     4000  한국대생  \n",
       "7104             NaN  2021-02    -4000  한국대생  \n",
       "\n",
       "[7105 rows x 11 columns]"
      ]
     },
     "execution_count": 262,
     "metadata": {},
     "output_type": "execute_result"
    }
   ],
   "source": [
    "temp_sale"
   ]
  },
  {
   "cell_type": "code",
   "execution_count": 266,
   "id": "6ddfdda5",
   "metadata": {},
   "outputs": [],
   "source": [
    "grouped_sales_class = temp_sale['payment'].groupby([temp_sale['상품명'], temp_sale['class']]).sum()"
   ]
  },
  {
   "cell_type": "code",
   "execution_count": 270,
   "id": "f5b2c4cb",
   "metadata": {},
   "outputs": [
    {
     "data": {
      "text/plain": [
       "class\n",
       "일반      12173100\n",
       "한국대생    15354900\n",
       "Name: payment, dtype: int64"
      ]
     },
     "execution_count": 270,
     "metadata": {},
     "output_type": "execute_result"
    }
   ],
   "source": [
    "temp_sale_class = temp_sale[(temp_sale['판매수량']!=-1)]"
   ]
  },
  {
   "cell_type": "code",
   "execution_count": 274,
   "id": "64c9a65b",
   "metadata": {},
   "outputs": [
    {
     "data": {
      "text/plain": [
       "판매수량\n",
       "False     -581900\n",
       "True     28319800\n",
       "Name: payment, dtype: int64"
      ]
     },
     "execution_count": 274,
     "metadata": {},
     "output_type": "execute_result"
    }
   ],
   "source": [
    "#temp_sale['payment'].sum()\n",
    "temp_sale['payment'].groupby([temp_sale['판매수량']!=-1]).sum()"
   ]
  },
  {
   "cell_type": "code",
   "execution_count": 277,
   "id": "dfcef4b3",
   "metadata": {},
   "outputs": [],
   "source": [
    "temp_sale_class = temp_sale[(temp_sale['판매수량']!=-1)]"
   ]
  },
  {
   "cell_type": "code",
   "execution_count": 282,
   "id": "7fe285dc",
   "metadata": {},
   "outputs": [
    {
     "data": {
      "text/html": [
       "<div>\n",
       "<style scoped>\n",
       "    .dataframe tbody tr th:only-of-type {\n",
       "        vertical-align: middle;\n",
       "    }\n",
       "\n",
       "    .dataframe tbody tr th {\n",
       "        vertical-align: top;\n",
       "    }\n",
       "\n",
       "    .dataframe thead th {\n",
       "        text-align: right;\n",
       "    }\n",
       "</style>\n",
       "<table border=\"1\" class=\"dataframe\">\n",
       "  <thead>\n",
       "    <tr style=\"text-align: right;\">\n",
       "      <th></th>\n",
       "      <th>결제일시</th>\n",
       "      <th>판매위치</th>\n",
       "      <th>상품명</th>\n",
       "      <th>결제방식</th>\n",
       "      <th>비고</th>\n",
       "      <th>판매수량</th>\n",
       "      <th>결제금액</th>\n",
       "      <th>고객</th>\n",
       "      <th>date</th>\n",
       "      <th>payment</th>\n",
       "      <th>class</th>\n",
       "    </tr>\n",
       "  </thead>\n",
       "  <tbody>\n",
       "    <tr>\n",
       "      <th>0</th>\n",
       "      <td>2022-04-01 19:41</td>\n",
       "      <td>선불기1</td>\n",
       "      <td>치킨카라아케 6pc</td>\n",
       "      <td>신용카드</td>\n",
       "      <td>결제완료</td>\n",
       "      <td>1</td>\n",
       "      <td>4500</td>\n",
       "      <td>customer275507</td>\n",
       "      <td>2022-04</td>\n",
       "      <td>4500</td>\n",
       "      <td>일반</td>\n",
       "    </tr>\n",
       "    <tr>\n",
       "      <th>1</th>\n",
       "      <td>2022-04-01 19:41</td>\n",
       "      <td>선불기1</td>\n",
       "      <td>짜장라면(계란추가)</td>\n",
       "      <td>신용카드</td>\n",
       "      <td>결제완료</td>\n",
       "      <td>1</td>\n",
       "      <td>5500</td>\n",
       "      <td>customer275507</td>\n",
       "      <td>2022-04</td>\n",
       "      <td>5500</td>\n",
       "      <td>일반</td>\n",
       "    </tr>\n",
       "    <tr>\n",
       "      <th>2</th>\n",
       "      <td>2022-04-01 19:41</td>\n",
       "      <td>선불기1</td>\n",
       "      <td>라면</td>\n",
       "      <td>신용카드</td>\n",
       "      <td>결제완료</td>\n",
       "      <td>1</td>\n",
       "      <td>4000</td>\n",
       "      <td>customer275507</td>\n",
       "      <td>2022-04</td>\n",
       "      <td>4000</td>\n",
       "      <td>일반</td>\n",
       "    </tr>\n",
       "    <tr>\n",
       "      <th>3</th>\n",
       "      <td>2022-04-01 19:41</td>\n",
       "      <td>선불기1</td>\n",
       "      <td>비엔나소세지(토핑)</td>\n",
       "      <td>신용카드</td>\n",
       "      <td>결제완료</td>\n",
       "      <td>1</td>\n",
       "      <td>1000</td>\n",
       "      <td>customer275507</td>\n",
       "      <td>2022-04</td>\n",
       "      <td>1000</td>\n",
       "      <td>일반</td>\n",
       "    </tr>\n",
       "    <tr>\n",
       "      <th>4</th>\n",
       "      <td>2022-04-01 19:41</td>\n",
       "      <td>선불기1</td>\n",
       "      <td>라면(계란/치즈추가)</td>\n",
       "      <td>신용카드</td>\n",
       "      <td>결제완료</td>\n",
       "      <td>1</td>\n",
       "      <td>5000</td>\n",
       "      <td>customer275507</td>\n",
       "      <td>2022-04</td>\n",
       "      <td>5000</td>\n",
       "      <td>한국대생</td>\n",
       "    </tr>\n",
       "    <tr>\n",
       "      <th>...</th>\n",
       "      <td>...</td>\n",
       "      <td>...</td>\n",
       "      <td>...</td>\n",
       "      <td>...</td>\n",
       "      <td>...</td>\n",
       "      <td>...</td>\n",
       "      <td>...</td>\n",
       "      <td>...</td>\n",
       "      <td>...</td>\n",
       "      <td>...</td>\n",
       "      <td>...</td>\n",
       "    </tr>\n",
       "    <tr>\n",
       "      <th>7097</th>\n",
       "      <td>2021-02-17 13:48</td>\n",
       "      <td>선불기2</td>\n",
       "      <td>카페모카(HOT)</td>\n",
       "      <td>현금</td>\n",
       "      <td>결제완료</td>\n",
       "      <td>1</td>\n",
       "      <td>4500</td>\n",
       "      <td>NaN</td>\n",
       "      <td>2021-02</td>\n",
       "      <td>4500</td>\n",
       "      <td>한국대생</td>\n",
       "    </tr>\n",
       "    <tr>\n",
       "      <th>7098</th>\n",
       "      <td>2021-02-17 13:50</td>\n",
       "      <td>선불기2</td>\n",
       "      <td>카페모카(HOT)</td>\n",
       "      <td>현금</td>\n",
       "      <td>결제완료</td>\n",
       "      <td>1</td>\n",
       "      <td>4500</td>\n",
       "      <td>NaN</td>\n",
       "      <td>2021-02</td>\n",
       "      <td>4500</td>\n",
       "      <td>일반</td>\n",
       "    </tr>\n",
       "    <tr>\n",
       "      <th>7099</th>\n",
       "      <td>2021-02-17 13:46</td>\n",
       "      <td>카운터</td>\n",
       "      <td>아메리카노(HOT)</td>\n",
       "      <td>현금</td>\n",
       "      <td>결제완료</td>\n",
       "      <td>1</td>\n",
       "      <td>3500</td>\n",
       "      <td>NaN</td>\n",
       "      <td>2021-02</td>\n",
       "      <td>3500</td>\n",
       "      <td>일반</td>\n",
       "    </tr>\n",
       "    <tr>\n",
       "      <th>7101</th>\n",
       "      <td>2021-02-17 13:51</td>\n",
       "      <td>선불기2</td>\n",
       "      <td>카페모카(HOT)</td>\n",
       "      <td>신용카드</td>\n",
       "      <td>결제완료</td>\n",
       "      <td>1</td>\n",
       "      <td>4500</td>\n",
       "      <td>NaN</td>\n",
       "      <td>2021-02</td>\n",
       "      <td>4500</td>\n",
       "      <td>한국대생</td>\n",
       "    </tr>\n",
       "    <tr>\n",
       "      <th>7103</th>\n",
       "      <td>2021-02-17 13:26</td>\n",
       "      <td>카운터</td>\n",
       "      <td>카페라떼(HOT)</td>\n",
       "      <td>신용카드</td>\n",
       "      <td>결제완료</td>\n",
       "      <td>1</td>\n",
       "      <td>4000</td>\n",
       "      <td>NaN</td>\n",
       "      <td>2021-02</td>\n",
       "      <td>4000</td>\n",
       "      <td>한국대생</td>\n",
       "    </tr>\n",
       "  </tbody>\n",
       "</table>\n",
       "<p>6945 rows × 11 columns</p>\n",
       "</div>"
      ],
      "text/plain": [
       "                  결제일시  판매위치          상품명  결제방식    비고  판매수량  결제금액  \\\n",
       "0     2022-04-01 19:41  선불기1   치킨카라아케 6pc  신용카드  결제완료     1  4500   \n",
       "1     2022-04-01 19:41  선불기1   짜장라면(계란추가)  신용카드  결제완료     1  5500   \n",
       "2     2022-04-01 19:41  선불기1           라면  신용카드  결제완료     1  4000   \n",
       "3     2022-04-01 19:41  선불기1   비엔나소세지(토핑)  신용카드  결제완료     1  1000   \n",
       "4     2022-04-01 19:41  선불기1  라면(계란/치즈추가)  신용카드  결제완료     1  5000   \n",
       "...                ...   ...          ...   ...   ...   ...   ...   \n",
       "7097  2021-02-17 13:48  선불기2    카페모카(HOT)    현금  결제완료     1  4500   \n",
       "7098  2021-02-17 13:50  선불기2    카페모카(HOT)    현금  결제완료     1  4500   \n",
       "7099  2021-02-17 13:46   카운터   아메리카노(HOT)    현금  결제완료     1  3500   \n",
       "7101  2021-02-17 13:51  선불기2    카페모카(HOT)  신용카드  결제완료     1  4500   \n",
       "7103  2021-02-17 13:26   카운터    카페라떼(HOT)  신용카드  결제완료     1  4000   \n",
       "\n",
       "                  고객     date  payment class  \n",
       "0     customer275507  2022-04     4500    일반  \n",
       "1     customer275507  2022-04     5500    일반  \n",
       "2     customer275507  2022-04     4000    일반  \n",
       "3     customer275507  2022-04     1000    일반  \n",
       "4     customer275507  2022-04     5000  한국대생  \n",
       "...              ...      ...      ...   ...  \n",
       "7097             NaN  2021-02     4500  한국대생  \n",
       "7098             NaN  2021-02     4500    일반  \n",
       "7099             NaN  2021-02     3500    일반  \n",
       "7101             NaN  2021-02     4500  한국대생  \n",
       "7103             NaN  2021-02     4000  한국대생  \n",
       "\n",
       "[6945 rows x 11 columns]"
      ]
     },
     "execution_count": 282,
     "metadata": {},
     "output_type": "execute_result"
    }
   ],
   "source": [
    "temp_sale_class"
   ]
  },
  {
   "cell_type": "code",
   "execution_count": 283,
   "id": "3cb9f79d",
   "metadata": {},
   "outputs": [],
   "source": [
    "grouped_sales_class = temp_sale_class['payment'].groupby([temp_sale_class['상품명'], temp_sale_class['class']]).sum()"
   ]
  },
  {
   "cell_type": "code",
   "execution_count": 284,
   "id": "d6901ca0",
   "metadata": {},
   "outputs": [
    {
     "data": {
      "text/plain": [
       "상품명                class\n",
       "(면)계란추가-국물라면       일반        3500\n",
       "                   한국대생      1500\n",
       "(면)계란후라이 추가-불닭/짜장  일반        7000\n",
       "                   한국대생     12000\n",
       "(면)치즈추가            일반        6000\n",
       "                            ...  \n",
       "허니밀크쉐이크            한국대생     64500\n",
       "헤이즐넛라떼(HOT)        일반        4500\n",
       "                   한국대생      4500\n",
       "헤이즐넛라떼(ICE)        일반       42500\n",
       "                   한국대생     25000\n",
       "Name: payment, Length: 191, dtype: int64"
      ]
     },
     "execution_count": 284,
     "metadata": {},
     "output_type": "execute_result"
    }
   ],
   "source": [
    "grouped_sales_class."
   ]
  },
  {
   "cell_type": "code",
   "execution_count": 286,
   "id": "9f12a7c0",
   "metadata": {},
   "outputs": [],
   "source": [
    "grouped_sales_class_1 = temp_sale_class['payment'].groupby(temp_sale_class['class']).sum()"
   ]
  },
  {
   "cell_type": "code",
   "execution_count": 287,
   "id": "ef2d7a1e",
   "metadata": {},
   "outputs": [
    {
     "data": {
      "text/plain": [
       "class\n",
       "일반      12467600\n",
       "한국대생    15642300\n",
       "Name: payment, dtype: int64"
      ]
     },
     "execution_count": 287,
     "metadata": {},
     "output_type": "execute_result"
    }
   ],
   "source": [
    "grouped_sales_class_1"
   ]
  },
  {
   "cell_type": "code",
   "execution_count": 289,
   "id": "93953c96",
   "metadata": {},
   "outputs": [
    {
     "data": {
      "image/png": "[encoded data removed]",
      "text/plain": [
       "<Figure size 720x432 with 1 Axes>"
      ]
     },
     "metadata": {},
     "output_type": "display_data"
    }
   ],
   "source": [
    "#3) 분석그래프 .. 3-1)seasonquf 매출현황\n",
    "\n",
    "plt.figure(figsize=(10,6))\n",
    "grouped_sales_class_gen = (grouped_sales_class_1[0]/(grouped_sales_class_1[0]+grouped_sales_class_1[1]))*100\n",
    "grouped_sales_class_uni = (grouped_sales_class_1[1]/(grouped_sales_class_1[0]+grouped_sales_class_1[1]))*100\n",
    "grouped_series = pd.Series([grouped_sales_class_gen, grouped_sales_class_uni], index = ['일반', '한국대생'])\n",
    "plt.pie(grouped_series, labels = grouped_series.index, autopct = '%.1f%%',textprops = {'fontsize' :16},counterclock= False)\n",
    "plt.show()"
   ]
  },
  {
   "cell_type": "code",
   "execution_count": 294,
   "id": "0ed5db81",
   "metadata": {},
   "outputs": [],
   "source": [
    "#한국대생만\n",
    "temp_sales_class_uni = temp_sale_class[(temp_sale_class['class'] == '한국대생')]"
   ]
  },
  {
   "cell_type": "code",
   "execution_count": 301,
   "id": "7d39157f",
   "metadata": {},
   "outputs": [
    {
     "data": {
      "text/plain": [
       "15642300"
      ]
     },
     "execution_count": 301,
     "metadata": {},
     "output_type": "execute_result"
    }
   ],
   "source": [
    "temp_sales_class_uni['payment'].sum()"
   ]
  },
  {
   "cell_type": "code",
   "execution_count": 299,
   "id": "a021bf08",
   "metadata": {},
   "outputs": [
    {
     "data": {
      "text/plain": [
       "상품명\n",
       "(면)계란추가-국물라면           1500\n",
       "(면)계란후라이 추가-불닭/짜장     12000\n",
       "(면)치즈추가                4500\n",
       "(밥)계란후라이 추가            1000\n",
       "(밥)체다치즈추가               500\n",
       "2인라면                    900\n",
       "2인불닭                   3500\n",
       "2인짜장라면                 6500\n",
       "감자튀김                 596800\n",
       "계란추가                  88500\n",
       "Name: payment, dtype: int64"
      ]
     },
     "execution_count": 299,
     "metadata": {},
     "output_type": "execute_result"
    }
   ],
   "source": [
    "#한국대학생 top10\n",
    "temp_sales_class_uni_top10 = temp_sales_class_uni['payment'].groupby(temp_sales_class_uni['상품명']).sum()\n"
   ]
  },
  {
   "cell_type": "code",
   "execution_count": 300,
   "id": "11478cde",
   "metadata": {},
   "outputs": [
    {
     "data": {
      "text/plain": [
       "상품명\n",
       "김치볶음밥         3334500\n",
       "라면            1628000\n",
       "치즈불고기볶음밥      1276300\n",
       "짜장라면          1168500\n",
       "낙지볶음밥          970900\n",
       "새우볶음밥          747100\n",
       "치즈감자튀김         726400\n",
       "감자튀김           596800\n",
       "아메리카노(ICE)     547600\n",
       "불닭볶음면          396000\n",
       "Name: payment, dtype: int64"
      ]
     },
     "execution_count": 300,
     "metadata": {},
     "output_type": "execute_result"
    }
   ],
   "source": [
    "temp_sales_class_uni_top10 = temp_sales_class_uni_top10.sort_values(ascending=False)\n",
    "temp_sales_class_uni_top10[:10]"
   ]
  },
  {
   "cell_type": "code",
   "execution_count": 304,
   "id": "ab4f7d03",
   "metadata": {},
   "outputs": [
    {
     "data": {
      "image/png": "[encoded data removed]",
      "text/plain": [
       "<Figure size 1152x576 with 1 Axes>"
      ]
     },
     "metadata": {
      "needs_background": "light"
     },
     "output_type": "display_data"
    }
   ],
   "source": [
    "#? 한국대학생 가장 인기 있는 음식/음료 \n",
    "# 집계 결과 시각화하기\n",
    "#items_payment[:10].plot(kind='bar')  >>> ax로 변경 \n",
    "\n",
    "plt.figure(figsize=(16,8))\n",
    "\n",
    "ax = plt.bar(temp_sales_class_uni_top10[:10].index, temp_sales_class_uni_top10[:10])\n",
    "plt.ticklabel_format(axis='y',  style = 'plain')\n",
    "plt.bar_label(ax, labels=[f'{x:,.0f}' for x in ax.datavalues], label_type='center')\n",
    "plt.ylabel('원')\n",
    "plt.title('한국대생 판매 금액')\n",
    "plt.show()"
   ]
  },
  {
   "cell_type": "code",
   "execution_count": 305,
   "id": "ea343bca",
   "metadata": {},
   "outputs": [],
   "source": [
    "#일반\n",
    "temp_sales_class_gen = temp_sale_class[(temp_sale_class['class'] == '일반')]"
   ]
  },
  {
   "cell_type": "code",
   "execution_count": 306,
   "id": "b604c935",
   "metadata": {},
   "outputs": [
    {
     "data": {
      "text/plain": [
       "12467600"
      ]
     },
     "execution_count": 306,
     "metadata": {},
     "output_type": "execute_result"
    }
   ],
   "source": [
    "temp_sales_class_gen['payment'].sum()"
   ]
  },
  {
   "cell_type": "code",
   "execution_count": 307,
   "id": "75fe3b4b",
   "metadata": {},
   "outputs": [],
   "source": [
    "#일반top10\n",
    "temp_sales_class_gen_top10 = temp_sales_class_gen['payment'].groupby(temp_sales_class_gen['상품명']).sum()"
   ]
  },
  {
   "cell_type": "code",
   "execution_count": 309,
   "id": "c9ae7288",
   "metadata": {},
   "outputs": [
    {
     "data": {
      "text/plain": [
       "상품명\n",
       "김치볶음밥         2619000\n",
       "라면            1281500\n",
       "치즈불고기볶음밥       994300\n",
       "짜장라면           864000\n",
       "새우볶음밥          787700\n",
       "낙지볶음밥          728800\n",
       "치즈감자튀김         622300\n",
       "아메리카노(ICE)     510500\n",
       "감자튀김           464500\n",
       "만두라면           328000\n",
       "Name: payment, dtype: int64"
      ]
     },
     "execution_count": 309,
     "metadata": {},
     "output_type": "execute_result"
    }
   ],
   "source": [
    "temp_sales_class_gen_top10 = temp_sales_class_gen_top10.sort_values(ascending=False)\n",
    "temp_sales_class_gen_top10[:10]"
   ]
  },
  {
   "cell_type": "code",
   "execution_count": 310,
   "id": "80d9cc31",
   "metadata": {},
   "outputs": [
    {
     "data": {
      "image/png": "[encoded data removed]",
      "text/plain": [
       "<Figure size 1152x576 with 1 Axes>"
      ]
     },
     "metadata": {
      "needs_background": "light"
     },
     "output_type": "display_data"
    }
   ],
   "source": [
    "#? 한국대학생 가장 인기 있는 음식/음료 \n",
    "# 집계 결과 시각화하기\n",
    "#items_payment[:10].plot(kind='bar')  >>> ax로 변경 \n",
    "\n",
    "plt.figure(figsize=(16,8))\n",
    "\n",
    "ax = plt.bar(temp_sales_class_gen_top10[:10].index, temp_sales_class_gen_top10[:10])\n",
    "plt.ticklabel_format(axis='y',  style = 'plain')\n",
    "plt.bar_label(ax, labels=[f'{x:,.0f}' for x in ax.datavalues], label_type='center')\n",
    "plt.ylabel('원')\n",
    "plt.title('일반 판매 금액')\n",
    "plt.show()"
   ]
  },
  {
   "cell_type": "code",
   "execution_count": null,
   "id": "ef2e5558",
   "metadata": {},
   "outputs": [],
   "source": [
    "# top상ㅍ무의 차이가 없어 상품은 지금의 상태를 유지.. \n",
    "# 한국대생 방학중 매출전략을 새롭게 구성 \n",
    "# 방학중 매출전략 1) 방학중 할인 제시 방학에도 : 한국대생과 일반 차별화하여 제세할 수 있도록 함 \n",
    "#                2) 새로운 상ㅍ무의 개발로 상품 매출 비율 20% 올릴 수 있도록 함 .. 간편음식 종류 개발 필요 볶음밥 종류 ??\n"
   ]
  },
  {
   "cell_type": "code",
   "execution_count": 317,
   "id": "70a02f03",
   "metadata": {},
   "outputs": [],
   "source": [
    "#) 전체 비율\n",
    "entry_amt = temp_var['금액'].sum()\n",
    "sales_amt = items_payment.sum()"
   ]
  },
  {
   "cell_type": "code",
   "execution_count": 319,
   "id": "b4ea15c2",
   "metadata": {},
   "outputs": [
    {
     "data": {
      "image/png": "[encoded data removed]",
      "text/plain": [
       "<Figure size 720x432 with 1 Axes>"
      ]
     },
     "metadata": {},
     "output_type": "display_data"
    }
   ],
   "source": [
    "#3) 분석그래프 ..전체비율 \n",
    "\n",
    "plt.figure(figsize=(10,6))\n",
    "total_sales = (sales_amt/(sales_amt+entry_amt))*100\n",
    "total_entry = (entry_amt/(sales_amt+entry_amt))*100\n",
    "grouped_series = pd.Series([total_sales, total_entry], index = ['상품', '입장권'])\n",
    "plt.pie(grouped_series, labels = grouped_series.index, autopct = '%.1f%%',textprops = {'fontsize' :16},counterclock= False)\n",
    "plt.show()"
   ]
  },
  {
   "cell_type": "code",
   "execution_count": null,
   "id": "8e7bfa62",
   "metadata": {},
   "outputs": [],
   "source": []
  }
 ],
 "metadata": {
  "kernelspec": {
   "display_name": "Python 3 (ipykernel)",
   "language": "python",
   "name": "python3"
  },
  "language_info": {
   "codemirror_mode": {
    "name": "ipython",
    "version": 3
   },
   "file_extension": ".py",
   "mimetype": "text/x-python",
   "name": "python",
   "nbconvert_exporter": "python",
   "pygments_lexer": "ipython3",
   "version": "3.9.7"
  }
 },
 "nbformat": 4,
 "nbformat_minor": 5
}
