{
 "cells": [
  {
   "cell_type": "code",
   "execution_count": null,
   "id": "329ef7f1",
   "metadata": {},
   "outputs": [],
   "source": [
    "# pandas를 pd이름으로 호출\n",
    "import pandas as pd\n",
    "\n",
    "# customer_lib_1.csv 파일을 불러와서 변수 customer_1 값으로 할당\n",
    "customer_1 = pd.read_csv('~/aiffel/data_analysis_basic/data/customer_lib_1.csv')\n",
    "\n",
    "# customer_lib_2.csv 파일을 불러와서 변수 customer_2 값으로 할당\n",
    "customer_2 = pd.read_csv('~/aiffel/data_analysis_basic/data/customer_lib_2.csv')\n",
    "\n",
    "# 할당된 customer_1 변수 호출\n",
    "customer_1"
   ]
  },
  {
   "cell_type": "code",
   "execution_count": null,
   "id": "c4ae5d7d",
   "metadata": {},
   "outputs": [],
   "source": [
    "# 할당된 customer_2 변수 호출\n",
    "customer_2"
   ]
  },
  {
   "cell_type": "code",
   "execution_count": null,
   "id": "58b6e1b3",
   "metadata": {},
   "outputs": [],
   "source": [
    "# 데이터프레임 헤드 부분 읽어오기\n",
    "customer_1.head()"
   ]
  },
  {
   "cell_type": "code",
   "execution_count": null,
   "id": "9c5fa9ec",
   "metadata": {},
   "outputs": [],
   "source": [
    "# 데이터프레임 테일 부분 읽어오기\n",
    "customer_2.tail()"
   ]
  },
  {
   "cell_type": "code",
   "execution_count": null,
   "id": "9c2cd55c",
   "metadata": {},
   "outputs": [],
   "source": [
    "#DataFrame의 정보확인하기\n",
    "#데이터프레임이 갖고 있는 다양한 정보를 확인하는 것은 중요합니다.\n",
    "#.columns, .dtypes, info(), describe()\n",
    "# 데이터프레임 열이름(컬럼) 확인하기\n",
    "customer_1.columns"
   ]
  },
  {
   "cell_type": "code",
   "execution_count": null,
   "id": "f7c5e1fa",
   "metadata": {},
   "outputs": [],
   "source": [
    "# 데이터프레임 개별 값의 자료형태 확인하기\n",
    "customer_1.dtypes"
   ]
  },
  {
   "cell_type": "code",
   "execution_count": null,
   "id": "66712a46",
   "metadata": {},
   "outputs": [],
   "source": [
    "# 데이터프레임의 종합 정보 확인하기\n",
    "customer_1.info()"
   ]
  },
  {
   "cell_type": "code",
   "execution_count": null,
   "id": "ea22247a",
   "metadata": {},
   "outputs": [],
   "source": [
    "# 데이터프레임의 기술 통계량 확인하기\n",
    "customer_2.describe()"
   ]
  },
  {
   "cell_type": "code",
   "execution_count": null,
   "id": "b2af4b72",
   "metadata": {},
   "outputs": [],
   "source": [
    "# 데이터프레임의 특정 열(Name) 선택하기\n",
    "customer_1['Name']"
   ]
  },
  {
   "cell_type": "code",
   "execution_count": null,
   "id": "309d7bed",
   "metadata": {},
   "outputs": [],
   "source": [
    "# 데이터프레임의 여러 열(Name, Email) 선택하기\n",
    "customer_1[['Name', 'Email']]"
   ]
  },
  {
   "cell_type": "code",
   "execution_count": null,
   "id": "dc71b9ff",
   "metadata": {},
   "outputs": [],
   "source": [
    "# OS열값이 Android인 행들만 선택하기\n",
    "customer_1[customer_1['OS'] == 'Android']"
   ]
  },
  {
   "cell_type": "code",
   "execution_count": null,
   "id": "678369ac",
   "metadata": {},
   "outputs": [],
   "source": [
    "# OS열값이 Android이고 MobileCompany열값이 SKT인 행들만 선택하기\n",
    "customer_1[(customer_1['OS']=='Android') & (customer_1['MobileCompany']=='SKT')]"
   ]
  },
  {
   "cell_type": "code",
   "execution_count": null,
   "id": "44ff98ca",
   "metadata": {},
   "outputs": [],
   "source": [
    "#행 값을 기준으로 인덱싱 하기 iloc()과 loc()을 사\n",
    "# 인덱스 11인 행 값 불러오기\n",
    "customer_1.iloc[11]"
   ]
  },
  {
   "cell_type": "code",
   "execution_count": null,
   "id": "ba30876d",
   "metadata": {},
   "outputs": [],
   "source": [
    "# 인덱스 11인 행 값 중 3번째 열까지 불러오기\n",
    "customer_1.iloc[11, :3]"
   ]
  },
  {
   "cell_type": "code",
   "execution_count": null,
   "id": "80c98479",
   "metadata": {},
   "outputs": [],
   "source": [
    "# 인덱스명이 11인 행 값 불러오기\n",
    "customer_1.loc[11]"
   ]
  },
  {
   "cell_type": "code",
   "execution_count": null,
   "id": "79c0d6cd",
   "metadata": {},
   "outputs": [],
   "source": [
    "# 인덱스 이름이 11인 값 중 열 이름 'Customer_Id','Name','Nickname'에 대한 값 불러오기\n",
    "customer_1.loc[11,['Customer_Id','Name','Nickname']]"
   ]
  },
  {
   "cell_type": "code",
   "execution_count": null,
   "id": "1c8059f3",
   "metadata": {},
   "outputs": [],
   "source": [
    "# HP 열 값과 MP 열 값을 더하기\n",
    "customer_2['HP'] + customer_2['MP']"
   ]
  },
  {
   "cell_type": "code",
   "execution_count": null,
   "id": "3c1cd608",
   "metadata": {},
   "outputs": [],
   "source": [
    "# Avg열을 만들고 HP 열 값과 MP 열 값의 평균값으로 채우기\n",
    "customer_2['Avg'] = (customer_2['HP'] + customer_2['MP']) / 2\n",
    "customer_2"
   ]
  },
  {
   "cell_type": "code",
   "execution_count": null,
   "id": "ee738582",
   "metadata": {},
   "outputs": [],
   "source": [
    "# 데이터프레임 customer_1과 customer_2를 세로 방향으로 결합하기\n",
    "pd.concat([customer_1, customer_2])"
   ]
  },
  {
   "cell_type": "code",
   "execution_count": null,
   "id": "636be939",
   "metadata": {},
   "outputs": [],
   "source": [
    "# 데이터프레임 customer_1과 customer_2를 가로 방향으로 결합하기\n",
    "pd.concat([customer_1, customer_2], axis=1).head()"
   ]
  },
  {
   "cell_type": "code",
   "execution_count": null,
   "id": "9cf0e7e4",
   "metadata": {},
   "outputs": [],
   "source": [
    "# 데이터프레임 customer_1의 오른쪽에 customer_2를 결합하기\n",
    "customer = pd.merge(customer_1, customer_2)\n",
    "customer"
   ]
  },
  {
   "cell_type": "code",
   "execution_count": null,
   "id": "2ad8d674",
   "metadata": {},
   "outputs": [],
   "source": [
    "# Password와 C.P.열을 삭제한 데이터프레임을 기존 데이터프레임에 저장하기\n",
    "customer = customer.drop(['Password', 'C.P.'], axis=1)\n",
    "customer"
   ]
  },
  {
   "cell_type": "code",
   "execution_count": null,
   "id": "e4c7763b",
   "metadata": {},
   "outputs": [],
   "source": [
    "# Avg열값을 내림차순으로 정렬하기\n",
    "customer.sort_values(by=['Avg'], ascending=False)"
   ]
  },
  {
   "cell_type": "code",
   "execution_count": null,
   "id": "ffe6713a",
   "metadata": {},
   "outputs": [],
   "source": [
    "# Avg열값 중 가장 큰 값의 인덱스 찾기\n",
    "customer['Avg'].idxmax(axis=0)"
   ]
  },
  {
   "cell_type": "code",
   "execution_count": null,
   "id": "d49ea0ae",
   "metadata": {},
   "outputs": [],
   "source": [
    "# 데이터프레임 중 인덱스명 306 찾기\n",
    "customer.loc[306]"
   ]
  },
  {
   "cell_type": "code",
   "execution_count": null,
   "id": "fc60e699",
   "metadata": {},
   "outputs": [],
   "source": [
    "# Numpy를 np이름으로 호출하기\n",
    "import numpy as np"
   ]
  },
  {
   "cell_type": "code",
   "execution_count": null,
   "id": "73c02c62",
   "metadata": {},
   "outputs": [],
   "source": [
    "# Customer 데이터프레임 중 20개를 샘플링해보기\n",
    "customer.sample(n=20)"
   ]
  },
  {
   "cell_type": "code",
   "execution_count": null,
   "id": "26274756",
   "metadata": {},
   "outputs": [],
   "source": [
    "# Customer 데이터프레임 중 10%를 샘플링하고 customer_sample로 저장하기\n",
    "customer_sample = customer.sample(frac=0.1)\n",
    "customer_sample.info()"
   ]
  },
  {
   "cell_type": "code",
   "execution_count": null,
   "id": "bc3869a9",
   "metadata": {},
   "outputs": [],
   "source": [
    "#customer_sample에서 HP와 Defense 간 상관계수 도출하기\n",
    "np.corrcoef(customer_sample['HP'], customer_sample['Defense'])"
   ]
  },
  {
   "cell_type": "code",
   "execution_count": null,
   "id": "dc179265",
   "metadata": {},
   "outputs": [],
   "source": [
    "# matplotlib.pyplot을 plt이름으로 호출하기\n",
    "import matplotlib.pyplot as plt"
   ]
  },
  {
   "cell_type": "code",
   "execution_count": null,
   "id": "61e61ab7",
   "metadata": {},
   "outputs": [],
   "source": [
    "# customer_sample의 HP열값을 내림차순으로 정렬하기\n",
    "customer_sample = customer_sample.sort_values(by=['HP'], ascending=False)\n",
    "\n",
    "# customer_sample의 인덱스 정렬하기\n",
    "customer_sample = customer_sample.reset_index(drop=True)"
   ]
  },
  {
   "cell_type": "code",
   "execution_count": null,
   "id": "eeb2d601",
   "metadata": {},
   "outputs": [],
   "source": [
    "# 선그래프 그리기\n",
    "plt.plot(customer_sample['HP'])\n",
    "plt.show()"
   ]
  },
  {
   "cell_type": "code",
   "execution_count": null,
   "id": "b986f269",
   "metadata": {},
   "outputs": [],
   "source": [
    "# 수직 막대 그래프 그리기\n",
    "plt.bar(customer_sample.index, customer_sample['HP'])\n",
    "plt.show()"
   ]
  },
  {
   "cell_type": "code",
   "execution_count": null,
   "id": "aaa8f2a7",
   "metadata": {},
   "outputs": [],
   "source": [
    "# 히스토그램 그리기\n",
    "plt.hist(customer_sample['HP'])\n",
    "plt.show()"
   ]
  },
  {
   "cell_type": "code",
   "execution_count": null,
   "id": "4b758309",
   "metadata": {},
   "outputs": [],
   "source": [
    "# 박스플롯 그리기\n",
    "plt.boxplot(customer_sample[\"HP\"])\n",
    "plt.show()"
   ]
  },
  {
   "cell_type": "code",
   "execution_count": null,
   "id": "b2bba2c0",
   "metadata": {},
   "outputs": [],
   "source": [
    "# 산점도 그리기\n",
    "plt.scatter(customer_sample['HP'], customer_sample['Defense'])"
   ]
  },
  {
   "cell_type": "code",
   "execution_count": null,
   "id": "0edb291b",
   "metadata": {},
   "outputs": [],
   "source": [
    "# MobileCompany를 기준으로 DataFrame 구분하기\n",
    "pie_data = customer_sample.groupby(['MobileCompany']).count().Name\n",
    "\n",
    "# 파이그래프 그리기\n",
    "plt.pie(pie_data, labels=pie_data.index, autopct ='%1.1f%%')\n",
    "plt.show()"
   ]
  },
  {
   "cell_type": "code",
   "execution_count": null,
   "id": "3b0ce30b",
   "metadata": {},
   "outputs": [],
   "source": [
    "'''조인트 플롯(Joint Plot)\n",
    "산점도와 히스토그램을 함께 표현합니다. 두 데이터 간의 관계를 표현하기 적합합니다.\n",
    "박스 플롯(Box Plot)\n",
    "박스 플롯은 데이터가 갖고 있는 분포를 사분위수로 표현합니다.\n",
    "막대 그래프(Bar Plot)\n",
    "막대 그래프는 각 데이터를 막대(bar)로 표현합니다.\n",
    "회귀 선(Regression Line)\n",
    "회귀분석을 통한 두 데이터 간의 관계를 표현합니다.\n",
    "히스토그램(Histogram)\n",
    "히스토그램은 데이터 집단이 갖고 있는 분포를 표현하기 적합합니다.\n",
    "히트맵(Heatmap)\n",
    "상관분석을 통한 두 데 데이터 간의 관계(상관관계)를 표현합니다. 색이 짙을 수록 두 데이터는 상호 관련성이 높습니다.'''"
   ]
  },
  {
   "cell_type": "code",
   "execution_count": null,
   "id": "39403b88",
   "metadata": {},
   "outputs": [],
   "source": [
    "# seaborn을 sns 이름으로 호출하기\n",
    "import seaborn as sns"
   ]
  },
  {
   "cell_type": "code",
   "execution_count": null,
   "id": "665a3337",
   "metadata": {},
   "outputs": [],
   "source": [
    "# 스타일 지정하기\n",
    "sns.set_style(\"whitegrid\")"
   ]
  },
  {
   "cell_type": "code",
   "execution_count": null,
   "id": "844cbe22",
   "metadata": {},
   "outputs": [],
   "source": [
    "# joint plot 그리기\n",
    "sns.jointplot(data=customer_sample, x='HP', y='Defense')\n",
    "plt.show()"
   ]
  },
  {
   "cell_type": "code",
   "execution_count": null,
   "id": "aafa0119",
   "metadata": {},
   "outputs": [],
   "source": [
    "# Boxplot 그리기\n",
    "sns.boxplot(data=customer_sample, x='Class', y='HP')\n",
    "plt.show()"
   ]
  },
  {
   "cell_type": "code",
   "execution_count": null,
   "id": "98d70d69",
   "metadata": {},
   "outputs": [],
   "source": [
    "# barplot 그리기\n",
    "sns.barplot(data=customer_sample[['Defense', 'HP', 'int', 'MP', 'Avg']])\n",
    "plt.show()"
   ]
  },
  {
   "cell_type": "code",
   "execution_count": null,
   "id": "81b284f9",
   "metadata": {},
   "outputs": [],
   "source": [
    "# customer_sample 데이터로 회귀선 그려보기\n",
    "sns.lmplot(data=customer_sample, x='HP', y='Defense')\n",
    "\n",
    "# customer 데이터로 회귀선 그려보기\n",
    "sns.lmplot(data=customer, x='HP', y='Defense')\n",
    "plt.show()"
   ]
  },
  {
   "cell_type": "code",
   "execution_count": null,
   "id": "35aaa4d1",
   "metadata": {},
   "outputs": [],
   "source": [
    "# 히스토그램 그리기\n",
    "sns.histplot(customer_sample['HP'])\n",
    "plt.show()"
   ]
  },
  {
   "cell_type": "code",
   "execution_count": null,
   "id": "475e60a1",
   "metadata": {},
   "outputs": [],
   "source": [
    "# heatMap 그리기\n",
    "sns.heatmap(customer_sample.corr(), annot=True)\n",
    "plt.show()"
   ]
  }
 ],
 "metadata": {
  "kernelspec": {
   "display_name": "Python 3 (ipykernel)",
   "language": "python",
   "name": "python3"
  },
  "language_info": {
   "codemirror_mode": {
    "name": "ipython",
    "version": 3
   },
   "file_extension": ".py",
   "mimetype": "text/x-python",
   "name": "python",
   "nbconvert_exporter": "python",
   "pygments_lexer": "ipython3",
   "version": "3.9.7"
  }
 },
 "nbformat": 4,
 "nbformat_minor": 5
}
