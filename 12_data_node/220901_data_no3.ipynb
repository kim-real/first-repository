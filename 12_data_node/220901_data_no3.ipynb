{
 "cells": [
  {
   "cell_type": "code",
   "execution_count": 2,
   "id": "c84c29f6",
   "metadata": {},
   "outputs": [
    {
     "name": "stdout",
     "output_type": "stream",
     "text": [
      "Requirement already satisfied: ColabTurtle in /opt/conda/lib/python3.9/site-packages (2.1.0)\n",
      "\u001b[33mWARNING: Running pip as the 'root' user can result in broken permissions and conflicting behaviour with the system package manager. It is recommended to use a virtual environment instead: https://pip.pypa.io/warnings/venv\u001b[0m\u001b[33m\n",
      "\u001b[0m"
     ]
    }
   ],
   "source": [
    "# 거북이 라이브러리 설치하기\n",
    "!pip install ColabTurtle"
   ]
  },
  {
   "cell_type": "code",
   "execution_count": 5,
   "id": "bfef899b",
   "metadata": {},
   "outputs": [
    {
     "data": {
      "text/html": [
       "\n",
       "      <svg width=\"800\" height=\"500\">\n",
       "        <rect width=\"100%\" height=\"100%\" fill=\"black\"/>\n",
       "        \n",
       "        <g visibility=visible transform=\"rotate(360,400,250) translate(382, 232)\">\n",
       "<path style=\" stroke:none;fill-rule:evenodd;fill:white;fill-opacity:1;\" d=\"M 18.214844 0.632812 C 16.109375 1.800781 15.011719 4.074219 15.074219 7.132812 L 15.085938 7.652344 L 14.785156 7.496094 C 13.476562 6.824219 11.957031 6.671875 10.40625 7.066406 C 8.46875 7.550781 6.515625 9.15625 4.394531 11.992188 C 3.0625 13.777344 2.679688 14.636719 3.042969 15.027344 L 3.15625 15.152344 L 3.519531 15.152344 C 4.238281 15.152344 4.828125 14.886719 8.1875 13.039062 C 9.386719 12.378906 10.371094 11.839844 10.378906 11.839844 C 10.386719 11.839844 10.355469 11.929688 10.304688 12.035156 C 9.832031 13.09375 9.257812 14.820312 8.96875 16.078125 C 7.914062 20.652344 8.617188 24.53125 11.070312 27.660156 C 11.351562 28.015625 11.363281 27.914062 10.972656 28.382812 C 8.925781 30.84375 7.945312 33.28125 8.238281 35.1875 C 8.289062 35.527344 8.28125 35.523438 8.917969 35.523438 C 10.941406 35.523438 13.074219 34.207031 15.136719 31.6875 C 15.359375 31.417969 15.328125 31.425781 15.5625 31.574219 C 16.292969 32.042969 18.023438 32.964844 18.175781 32.964844 C 18.335938 32.964844 19.941406 32.210938 20.828125 31.71875 C 20.996094 31.625 21.136719 31.554688 21.136719 31.558594 C 21.203125 31.664062 21.898438 32.414062 22.222656 32.730469 C 23.835938 34.300781 25.5625 35.132812 27.582031 35.300781 C 27.90625 35.328125 27.9375 35.308594 28.007812 34.984375 C 28.382812 33.242188 27.625 30.925781 25.863281 28.425781 L 25.542969 27.96875 L 25.699219 27.785156 C 28.945312 23.960938 29.132812 18.699219 26.257812 11.96875 L 26.207031 11.84375 L 27.945312 12.703125 C 31.53125 14.476562 32.316406 14.800781 33.03125 14.800781 C 33.976562 14.800781 33.78125 13.9375 32.472656 12.292969 C 28.519531 7.355469 25.394531 5.925781 21.921875 7.472656 L 21.558594 7.636719 L 21.578125 7.542969 C 21.699219 6.992188 21.761719 5.742188 21.699219 5.164062 C 21.496094 3.296875 20.664062 1.964844 19.003906 0.855469 C 18.480469 0.503906 18.457031 0.5 18.214844 0.632812\"/>\n",
       "</g>\n",
       "      </svg>\n",
       "    "
      ],
      "text/plain": [
       "<IPython.core.display.HTML object>"
      ]
     },
     "metadata": {},
     "output_type": "display_data"
    }
   ],
   "source": [
    "#거북이를 파이썬쉘에 띄워보기\n",
    "from ColabTurtle.Turtle import *\n",
    "import ColabTurtle.Turtle as t\n",
    "initializeTurtle()   #객체 생성 \n",
    "#t.shape('turtle')     # 모양 확정"
   ]
  },
  {
   "cell_type": "code",
   "execution_count": 6,
   "id": "ff089ac5",
   "metadata": {},
   "outputs": [
    {
     "data": {
      "text/html": [
       "\n",
       "      <svg width=\"800\" height=\"500\">\n",
       "        <rect width=\"100%\" height=\"100%\" fill=\"black\"/>\n",
       "        <line x1=\"400\" y1=\"250\" x2=\"400.0\" y2=\"200.0\" stroke-linecap=\"round\" style=\"stroke:white;stroke-width:4\"/><line x1=\"400.0\" y1=\"200.0\" x2=\"450.0\" y2=\"200.0\" stroke-linecap=\"round\" style=\"stroke:white;stroke-width:4\"/><line x1=\"450.0\" y1=\"200.0\" x2=\"450.0\" y2=\"250.0\" stroke-linecap=\"round\" style=\"stroke:white;stroke-width:4\"/><line x1=\"450.0\" y1=\"250.0\" x2=\"400.0\" y2=\"250.0\" stroke-linecap=\"round\" style=\"stroke:white;stroke-width:4\"/>\n",
       "        <g visibility=visible transform=\"rotate(270,400.0,250.0) translate(382.0, 232.0)\">\n",
       "<path style=\" stroke:none;fill-rule:evenodd;fill:white;fill-opacity:1;\" d=\"M 18.214844 0.632812 C 16.109375 1.800781 15.011719 4.074219 15.074219 7.132812 L 15.085938 7.652344 L 14.785156 7.496094 C 13.476562 6.824219 11.957031 6.671875 10.40625 7.066406 C 8.46875 7.550781 6.515625 9.15625 4.394531 11.992188 C 3.0625 13.777344 2.679688 14.636719 3.042969 15.027344 L 3.15625 15.152344 L 3.519531 15.152344 C 4.238281 15.152344 4.828125 14.886719 8.1875 13.039062 C 9.386719 12.378906 10.371094 11.839844 10.378906 11.839844 C 10.386719 11.839844 10.355469 11.929688 10.304688 12.035156 C 9.832031 13.09375 9.257812 14.820312 8.96875 16.078125 C 7.914062 20.652344 8.617188 24.53125 11.070312 27.660156 C 11.351562 28.015625 11.363281 27.914062 10.972656 28.382812 C 8.925781 30.84375 7.945312 33.28125 8.238281 35.1875 C 8.289062 35.527344 8.28125 35.523438 8.917969 35.523438 C 10.941406 35.523438 13.074219 34.207031 15.136719 31.6875 C 15.359375 31.417969 15.328125 31.425781 15.5625 31.574219 C 16.292969 32.042969 18.023438 32.964844 18.175781 32.964844 C 18.335938 32.964844 19.941406 32.210938 20.828125 31.71875 C 20.996094 31.625 21.136719 31.554688 21.136719 31.558594 C 21.203125 31.664062 21.898438 32.414062 22.222656 32.730469 C 23.835938 34.300781 25.5625 35.132812 27.582031 35.300781 C 27.90625 35.328125 27.9375 35.308594 28.007812 34.984375 C 28.382812 33.242188 27.625 30.925781 25.863281 28.425781 L 25.542969 27.96875 L 25.699219 27.785156 C 28.945312 23.960938 29.132812 18.699219 26.257812 11.96875 L 26.207031 11.84375 L 27.945312 12.703125 C 31.53125 14.476562 32.316406 14.800781 33.03125 14.800781 C 33.976562 14.800781 33.78125 13.9375 32.472656 12.292969 C 28.519531 7.355469 25.394531 5.925781 21.921875 7.472656 L 21.558594 7.636719 L 21.578125 7.542969 C 21.699219 6.992188 21.761719 5.742188 21.699219 5.164062 C 21.496094 3.296875 20.664062 1.964844 19.003906 0.855469 C 18.480469 0.503906 18.457031 0.5 18.214844 0.632812\"/>\n",
       "</g>\n",
       "      </svg>\n",
       "    "
      ],
      "text/plain": [
       "<IPython.core.display.HTML object>"
      ]
     },
     "metadata": {},
     "output_type": "display_data"
    }
   ],
   "source": [
    "#거북이를 움직여보기\n",
    "t.initializeTurtle()\n",
    "\n",
    "t.forward(50) # 거북이를 앞으로 50만큼 이동시킵니다. \n",
    "t.right(90) # 거북이를 오른쪽으로 90도 회전시킵니다.\n",
    "t.forward(50)\n",
    "t.right(90)\n",
    "t.forward(50)\n",
    "t.right(90)\n",
    "t.forward(50)"
   ]
  },
  {
   "cell_type": "code",
   "execution_count": 7,
   "id": "eed36b76",
   "metadata": {},
   "outputs": [
    {
     "data": {
      "text/html": [
       "\n",
       "      <svg width=\"800\" height=\"500\">\n",
       "        <rect width=\"100%\" height=\"100%\" fill=\"black\"/>\n",
       "        <line x1=\"400\" y1=\"250\" x2=\"400.0\" y2=\"240.0\" stroke-linecap=\"round\" style=\"stroke:white;stroke-width:4\"/><line x1=\"400.0\" y1=\"240.0\" x2=\"398.955\" y2=\"230.055\" stroke-linecap=\"round\" style=\"stroke:white;stroke-width:4\"/><line x1=\"398.955\" y1=\"230.055\" x2=\"396.876\" y2=\"220.274\" stroke-linecap=\"round\" style=\"stroke:white;stroke-width:4\"/><line x1=\"396.876\" y1=\"220.274\" x2=\"393.786\" y2=\"210.763\" stroke-linecap=\"round\" style=\"stroke:white;stroke-width:4\"/><line x1=\"393.786\" y1=\"210.763\" x2=\"389.719\" y2=\"201.628\" stroke-linecap=\"round\" style=\"stroke:white;stroke-width:4\"/><line x1=\"389.719\" y1=\"201.628\" x2=\"384.719\" y2=\"192.968\" stroke-linecap=\"round\" style=\"stroke:white;stroke-width:4\"/><line x1=\"384.719\" y1=\"192.968\" x2=\"378.841\" y2=\"184.878\" stroke-linecap=\"round\" style=\"stroke:white;stroke-width:4\"/><line x1=\"378.841\" y1=\"184.878\" x2=\"372.15\" y2=\"177.447\" stroke-linecap=\"round\" style=\"stroke:white;stroke-width:4\"/><line x1=\"372.15\" y1=\"177.447\" x2=\"364.719\" y2=\"170.756\" stroke-linecap=\"round\" style=\"stroke:white;stroke-width:4\"/><line x1=\"364.719\" y1=\"170.756\" x2=\"356.629\" y2=\"164.878\" stroke-linecap=\"round\" style=\"stroke:white;stroke-width:4\"/><line x1=\"356.629\" y1=\"164.878\" x2=\"347.969\" y2=\"159.878\" stroke-linecap=\"round\" style=\"stroke:white;stroke-width:4\"/><line x1=\"347.969\" y1=\"159.878\" x2=\"338.834\" y2=\"155.811\" stroke-linecap=\"round\" style=\"stroke:white;stroke-width:4\"/><line x1=\"338.834\" y1=\"155.811\" x2=\"329.323\" y2=\"152.721\" stroke-linecap=\"round\" style=\"stroke:white;stroke-width:4\"/><line x1=\"329.323\" y1=\"152.721\" x2=\"319.542\" y2=\"150.642\" stroke-linecap=\"round\" style=\"stroke:white;stroke-width:4\"/><line x1=\"319.542\" y1=\"150.642\" x2=\"309.597\" y2=\"149.597\" stroke-linecap=\"round\" style=\"stroke:white;stroke-width:4\"/><line x1=\"309.597\" y1=\"149.597\" x2=\"299.597\" y2=\"149.597\" stroke-linecap=\"round\" style=\"stroke:white;stroke-width:4\"/><line x1=\"299.597\" y1=\"149.597\" x2=\"289.652\" y2=\"150.642\" stroke-linecap=\"round\" style=\"stroke:white;stroke-width:4\"/><line x1=\"289.652\" y1=\"150.642\" x2=\"279.871\" y2=\"152.721\" stroke-linecap=\"round\" style=\"stroke:white;stroke-width:4\"/><line x1=\"279.871\" y1=\"152.721\" x2=\"270.36\" y2=\"155.811\" stroke-linecap=\"round\" style=\"stroke:white;stroke-width:4\"/><line x1=\"270.36\" y1=\"155.811\" x2=\"261.225\" y2=\"159.878\" stroke-linecap=\"round\" style=\"stroke:white;stroke-width:4\"/><line x1=\"261.225\" y1=\"159.878\" x2=\"252.565\" y2=\"164.878\" stroke-linecap=\"round\" style=\"stroke:white;stroke-width:4\"/><line x1=\"252.565\" y1=\"164.878\" x2=\"244.475\" y2=\"170.756\" stroke-linecap=\"round\" style=\"stroke:white;stroke-width:4\"/><line x1=\"244.475\" y1=\"170.756\" x2=\"237.044\" y2=\"177.447\" stroke-linecap=\"round\" style=\"stroke:white;stroke-width:4\"/><line x1=\"237.044\" y1=\"177.447\" x2=\"230.353\" y2=\"184.878\" stroke-linecap=\"round\" style=\"stroke:white;stroke-width:4\"/><line x1=\"230.353\" y1=\"184.878\" x2=\"224.475\" y2=\"192.968\" stroke-linecap=\"round\" style=\"stroke:white;stroke-width:4\"/><line x1=\"224.475\" y1=\"192.968\" x2=\"219.475\" y2=\"201.628\" stroke-linecap=\"round\" style=\"stroke:white;stroke-width:4\"/><line x1=\"219.475\" y1=\"201.628\" x2=\"215.408\" y2=\"210.763\" stroke-linecap=\"round\" style=\"stroke:white;stroke-width:4\"/><line x1=\"215.408\" y1=\"210.763\" x2=\"212.318\" y2=\"220.274\" stroke-linecap=\"round\" style=\"stroke:white;stroke-width:4\"/><line x1=\"212.318\" y1=\"220.274\" x2=\"210.239\" y2=\"230.055\" stroke-linecap=\"round\" style=\"stroke:white;stroke-width:4\"/><line x1=\"210.239\" y1=\"230.055\" x2=\"209.194\" y2=\"240.0\" stroke-linecap=\"round\" style=\"stroke:white;stroke-width:4\"/><line x1=\"209.194\" y1=\"240.0\" x2=\"209.194\" y2=\"250.0\" stroke-linecap=\"round\" style=\"stroke:white;stroke-width:4\"/><line x1=\"209.194\" y1=\"250.0\" x2=\"210.239\" y2=\"259.945\" stroke-linecap=\"round\" style=\"stroke:white;stroke-width:4\"/><line x1=\"210.239\" y1=\"259.945\" x2=\"212.318\" y2=\"269.726\" stroke-linecap=\"round\" style=\"stroke:white;stroke-width:4\"/><line x1=\"212.318\" y1=\"269.726\" x2=\"215.408\" y2=\"279.237\" stroke-linecap=\"round\" style=\"stroke:white;stroke-width:4\"/><line x1=\"215.408\" y1=\"279.237\" x2=\"219.475\" y2=\"288.372\" stroke-linecap=\"round\" style=\"stroke:white;stroke-width:4\"/><line x1=\"219.475\" y1=\"288.372\" x2=\"224.475\" y2=\"297.032\" stroke-linecap=\"round\" style=\"stroke:white;stroke-width:4\"/><line x1=\"224.475\" y1=\"297.032\" x2=\"230.353\" y2=\"305.122\" stroke-linecap=\"round\" style=\"stroke:white;stroke-width:4\"/><line x1=\"230.353\" y1=\"305.122\" x2=\"237.044\" y2=\"312.553\" stroke-linecap=\"round\" style=\"stroke:white;stroke-width:4\"/><line x1=\"237.044\" y1=\"312.553\" x2=\"244.475\" y2=\"319.244\" stroke-linecap=\"round\" style=\"stroke:white;stroke-width:4\"/><line x1=\"244.475\" y1=\"319.244\" x2=\"252.565\" y2=\"325.122\" stroke-linecap=\"round\" style=\"stroke:white;stroke-width:4\"/><line x1=\"252.565\" y1=\"325.122\" x2=\"261.225\" y2=\"330.122\" stroke-linecap=\"round\" style=\"stroke:white;stroke-width:4\"/><line x1=\"261.225\" y1=\"330.122\" x2=\"270.36\" y2=\"334.189\" stroke-linecap=\"round\" style=\"stroke:white;stroke-width:4\"/><line x1=\"270.36\" y1=\"334.189\" x2=\"279.871\" y2=\"337.279\" stroke-linecap=\"round\" style=\"stroke:white;stroke-width:4\"/><line x1=\"279.871\" y1=\"337.279\" x2=\"289.652\" y2=\"339.358\" stroke-linecap=\"round\" style=\"stroke:white;stroke-width:4\"/><line x1=\"289.652\" y1=\"339.358\" x2=\"299.597\" y2=\"340.403\" stroke-linecap=\"round\" style=\"stroke:white;stroke-width:4\"/><line x1=\"299.597\" y1=\"340.403\" x2=\"309.597\" y2=\"340.403\" stroke-linecap=\"round\" style=\"stroke:white;stroke-width:4\"/><line x1=\"309.597\" y1=\"340.403\" x2=\"319.542\" y2=\"339.358\" stroke-linecap=\"round\" style=\"stroke:white;stroke-width:4\"/><line x1=\"319.542\" y1=\"339.358\" x2=\"329.323\" y2=\"337.279\" stroke-linecap=\"round\" style=\"stroke:white;stroke-width:4\"/><line x1=\"329.323\" y1=\"337.279\" x2=\"338.834\" y2=\"334.189\" stroke-linecap=\"round\" style=\"stroke:white;stroke-width:4\"/><line x1=\"338.834\" y1=\"334.189\" x2=\"347.969\" y2=\"330.122\" stroke-linecap=\"round\" style=\"stroke:white;stroke-width:4\"/><line x1=\"347.969\" y1=\"330.122\" x2=\"356.629\" y2=\"325.122\" stroke-linecap=\"round\" style=\"stroke:white;stroke-width:4\"/><line x1=\"356.629\" y1=\"325.122\" x2=\"364.719\" y2=\"319.244\" stroke-linecap=\"round\" style=\"stroke:white;stroke-width:4\"/><line x1=\"364.719\" y1=\"319.244\" x2=\"372.15\" y2=\"312.553\" stroke-linecap=\"round\" style=\"stroke:white;stroke-width:4\"/><line x1=\"372.15\" y1=\"312.553\" x2=\"378.841\" y2=\"305.122\" stroke-linecap=\"round\" style=\"stroke:white;stroke-width:4\"/><line x1=\"378.841\" y1=\"305.122\" x2=\"384.719\" y2=\"297.032\" stroke-linecap=\"round\" style=\"stroke:white;stroke-width:4\"/><line x1=\"384.719\" y1=\"297.032\" x2=\"389.719\" y2=\"288.372\" stroke-linecap=\"round\" style=\"stroke:white;stroke-width:4\"/><line x1=\"389.719\" y1=\"288.372\" x2=\"393.786\" y2=\"279.237\" stroke-linecap=\"round\" style=\"stroke:white;stroke-width:4\"/><line x1=\"393.786\" y1=\"279.237\" x2=\"396.876\" y2=\"269.726\" stroke-linecap=\"round\" style=\"stroke:white;stroke-width:4\"/><line x1=\"396.876\" y1=\"269.726\" x2=\"398.955\" y2=\"259.945\" stroke-linecap=\"round\" style=\"stroke:white;stroke-width:4\"/><line x1=\"398.955\" y1=\"259.945\" x2=\"400.0\" y2=\"250.0\" stroke-linecap=\"round\" style=\"stroke:white;stroke-width:4\"/>\n",
       "        <g visibility=visible transform=\"rotate(360.0,400.0,250.0) translate(382.0, 232.0)\">\n",
       "<path style=\" stroke:none;fill-rule:evenodd;fill:white;fill-opacity:1;\" d=\"M 18.214844 0.632812 C 16.109375 1.800781 15.011719 4.074219 15.074219 7.132812 L 15.085938 7.652344 L 14.785156 7.496094 C 13.476562 6.824219 11.957031 6.671875 10.40625 7.066406 C 8.46875 7.550781 6.515625 9.15625 4.394531 11.992188 C 3.0625 13.777344 2.679688 14.636719 3.042969 15.027344 L 3.15625 15.152344 L 3.519531 15.152344 C 4.238281 15.152344 4.828125 14.886719 8.1875 13.039062 C 9.386719 12.378906 10.371094 11.839844 10.378906 11.839844 C 10.386719 11.839844 10.355469 11.929688 10.304688 12.035156 C 9.832031 13.09375 9.257812 14.820312 8.96875 16.078125 C 7.914062 20.652344 8.617188 24.53125 11.070312 27.660156 C 11.351562 28.015625 11.363281 27.914062 10.972656 28.382812 C 8.925781 30.84375 7.945312 33.28125 8.238281 35.1875 C 8.289062 35.527344 8.28125 35.523438 8.917969 35.523438 C 10.941406 35.523438 13.074219 34.207031 15.136719 31.6875 C 15.359375 31.417969 15.328125 31.425781 15.5625 31.574219 C 16.292969 32.042969 18.023438 32.964844 18.175781 32.964844 C 18.335938 32.964844 19.941406 32.210938 20.828125 31.71875 C 20.996094 31.625 21.136719 31.554688 21.136719 31.558594 C 21.203125 31.664062 21.898438 32.414062 22.222656 32.730469 C 23.835938 34.300781 25.5625 35.132812 27.582031 35.300781 C 27.90625 35.328125 27.9375 35.308594 28.007812 34.984375 C 28.382812 33.242188 27.625 30.925781 25.863281 28.425781 L 25.542969 27.96875 L 25.699219 27.785156 C 28.945312 23.960938 29.132812 18.699219 26.257812 11.96875 L 26.207031 11.84375 L 27.945312 12.703125 C 31.53125 14.476562 32.316406 14.800781 33.03125 14.800781 C 33.976562 14.800781 33.78125 13.9375 32.472656 12.292969 C 28.519531 7.355469 25.394531 5.925781 21.921875 7.472656 L 21.558594 7.636719 L 21.578125 7.542969 C 21.699219 6.992188 21.761719 5.742188 21.699219 5.164062 C 21.496094 3.296875 20.664062 1.964844 19.003906 0.855469 C 18.480469 0.503906 18.457031 0.5 18.214844 0.632812\"/>\n",
       "</g>\n",
       "      </svg>\n",
       "    "
      ],
      "text/plain": [
       "<IPython.core.display.HTML object>"
      ]
     },
     "metadata": {},
     "output_type": "display_data"
    }
   ],
   "source": [
    "#거북이로 원 그리기\n",
    "def Circle(length, n): # def는 definition의 약자로 함수를 만들때 사용합니다. \n",
    "    for x in range(n): # for는 무엇인가를 반복시킬 때 사용합니다.\n",
    "        t.forward(length)\n",
    "        t.left(360 / n)\n",
    "\n",
    "t.initializeTurtle()\n",
    "t.speed(7)\n",
    "\n",
    "Circle(10, 60)"
   ]
  },
  {
   "cell_type": "code",
   "execution_count": 9,
   "id": "50840b7d",
   "metadata": {},
   "outputs": [
    {
     "data": {
      "text/html": [
       "\n",
       "      <svg width=\"800\" height=\"500\">\n",
       "        <rect width=\"100%\" height=\"100%\" fill=\"black\"/>\n",
       "        <line x1=\"400\" y1=\"250\" x2=\"400.0\" y2=\"240.0\" stroke-linecap=\"round\" style=\"stroke:white;stroke-width:4\"/><line x1=\"400.0\" y1=\"240.0\" x2=\"398.955\" y2=\"230.055\" stroke-linecap=\"round\" style=\"stroke:red;stroke-width:4\"/><line x1=\"398.955\" y1=\"230.055\" x2=\"396.876\" y2=\"220.274\" stroke-linecap=\"round\" style=\"stroke:yellow;stroke-width:4\"/><line x1=\"396.876\" y1=\"220.274\" x2=\"393.786\" y2=\"210.763\" stroke-linecap=\"round\" style=\"stroke:purple;stroke-width:4\"/><line x1=\"393.786\" y1=\"210.763\" x2=\"389.719\" y2=\"201.628\" stroke-linecap=\"round\" style=\"stroke:red;stroke-width:4\"/><line x1=\"389.719\" y1=\"201.628\" x2=\"384.719\" y2=\"192.968\" stroke-linecap=\"round\" style=\"stroke:yellow;stroke-width:4\"/><line x1=\"384.719\" y1=\"192.968\" x2=\"378.841\" y2=\"184.878\" stroke-linecap=\"round\" style=\"stroke:purple;stroke-width:4\"/><line x1=\"378.841\" y1=\"184.878\" x2=\"372.15\" y2=\"177.447\" stroke-linecap=\"round\" style=\"stroke:red;stroke-width:4\"/><line x1=\"372.15\" y1=\"177.447\" x2=\"364.719\" y2=\"170.756\" stroke-linecap=\"round\" style=\"stroke:yellow;stroke-width:4\"/><line x1=\"364.719\" y1=\"170.756\" x2=\"356.629\" y2=\"164.878\" stroke-linecap=\"round\" style=\"stroke:purple;stroke-width:4\"/><line x1=\"356.629\" y1=\"164.878\" x2=\"347.969\" y2=\"159.878\" stroke-linecap=\"round\" style=\"stroke:red;stroke-width:4\"/><line x1=\"347.969\" y1=\"159.878\" x2=\"338.834\" y2=\"155.811\" stroke-linecap=\"round\" style=\"stroke:yellow;stroke-width:4\"/><line x1=\"338.834\" y1=\"155.811\" x2=\"329.323\" y2=\"152.721\" stroke-linecap=\"round\" style=\"stroke:purple;stroke-width:4\"/><line x1=\"329.323\" y1=\"152.721\" x2=\"319.542\" y2=\"150.642\" stroke-linecap=\"round\" style=\"stroke:red;stroke-width:4\"/><line x1=\"319.542\" y1=\"150.642\" x2=\"309.597\" y2=\"149.597\" stroke-linecap=\"round\" style=\"stroke:yellow;stroke-width:4\"/><line x1=\"309.597\" y1=\"149.597\" x2=\"299.597\" y2=\"149.597\" stroke-linecap=\"round\" style=\"stroke:purple;stroke-width:4\"/><line x1=\"299.597\" y1=\"149.597\" x2=\"289.652\" y2=\"150.642\" stroke-linecap=\"round\" style=\"stroke:red;stroke-width:4\"/><line x1=\"289.652\" y1=\"150.642\" x2=\"279.871\" y2=\"152.721\" stroke-linecap=\"round\" style=\"stroke:yellow;stroke-width:4\"/><line x1=\"279.871\" y1=\"152.721\" x2=\"270.36\" y2=\"155.811\" stroke-linecap=\"round\" style=\"stroke:purple;stroke-width:4\"/><line x1=\"270.36\" y1=\"155.811\" x2=\"261.225\" y2=\"159.878\" stroke-linecap=\"round\" style=\"stroke:red;stroke-width:4\"/><line x1=\"261.225\" y1=\"159.878\" x2=\"252.565\" y2=\"164.878\" stroke-linecap=\"round\" style=\"stroke:yellow;stroke-width:4\"/><line x1=\"252.565\" y1=\"164.878\" x2=\"244.475\" y2=\"170.756\" stroke-linecap=\"round\" style=\"stroke:purple;stroke-width:4\"/><line x1=\"244.475\" y1=\"170.756\" x2=\"237.044\" y2=\"177.447\" stroke-linecap=\"round\" style=\"stroke:red;stroke-width:4\"/><line x1=\"237.044\" y1=\"177.447\" x2=\"230.353\" y2=\"184.878\" stroke-linecap=\"round\" style=\"stroke:yellow;stroke-width:4\"/><line x1=\"230.353\" y1=\"184.878\" x2=\"224.475\" y2=\"192.968\" stroke-linecap=\"round\" style=\"stroke:purple;stroke-width:4\"/><line x1=\"224.475\" y1=\"192.968\" x2=\"219.475\" y2=\"201.628\" stroke-linecap=\"round\" style=\"stroke:red;stroke-width:4\"/><line x1=\"219.475\" y1=\"201.628\" x2=\"215.408\" y2=\"210.763\" stroke-linecap=\"round\" style=\"stroke:yellow;stroke-width:4\"/><line x1=\"215.408\" y1=\"210.763\" x2=\"212.318\" y2=\"220.274\" stroke-linecap=\"round\" style=\"stroke:purple;stroke-width:4\"/><line x1=\"212.318\" y1=\"220.274\" x2=\"210.239\" y2=\"230.055\" stroke-linecap=\"round\" style=\"stroke:red;stroke-width:4\"/><line x1=\"210.239\" y1=\"230.055\" x2=\"209.194\" y2=\"240.0\" stroke-linecap=\"round\" style=\"stroke:yellow;stroke-width:4\"/><line x1=\"209.194\" y1=\"240.0\" x2=\"209.194\" y2=\"250.0\" stroke-linecap=\"round\" style=\"stroke:purple;stroke-width:4\"/><line x1=\"209.194\" y1=\"250.0\" x2=\"210.239\" y2=\"259.945\" stroke-linecap=\"round\" style=\"stroke:red;stroke-width:4\"/><line x1=\"210.239\" y1=\"259.945\" x2=\"212.318\" y2=\"269.726\" stroke-linecap=\"round\" style=\"stroke:yellow;stroke-width:4\"/><line x1=\"212.318\" y1=\"269.726\" x2=\"215.408\" y2=\"279.237\" stroke-linecap=\"round\" style=\"stroke:purple;stroke-width:4\"/><line x1=\"215.408\" y1=\"279.237\" x2=\"219.475\" y2=\"288.372\" stroke-linecap=\"round\" style=\"stroke:red;stroke-width:4\"/><line x1=\"219.475\" y1=\"288.372\" x2=\"224.475\" y2=\"297.032\" stroke-linecap=\"round\" style=\"stroke:yellow;stroke-width:4\"/><line x1=\"224.475\" y1=\"297.032\" x2=\"230.353\" y2=\"305.122\" stroke-linecap=\"round\" style=\"stroke:purple;stroke-width:4\"/><line x1=\"230.353\" y1=\"305.122\" x2=\"237.044\" y2=\"312.553\" stroke-linecap=\"round\" style=\"stroke:red;stroke-width:4\"/><line x1=\"237.044\" y1=\"312.553\" x2=\"244.475\" y2=\"319.244\" stroke-linecap=\"round\" style=\"stroke:yellow;stroke-width:4\"/><line x1=\"244.475\" y1=\"319.244\" x2=\"252.565\" y2=\"325.122\" stroke-linecap=\"round\" style=\"stroke:purple;stroke-width:4\"/><line x1=\"252.565\" y1=\"325.122\" x2=\"261.225\" y2=\"330.122\" stroke-linecap=\"round\" style=\"stroke:red;stroke-width:4\"/><line x1=\"261.225\" y1=\"330.122\" x2=\"270.36\" y2=\"334.189\" stroke-linecap=\"round\" style=\"stroke:yellow;stroke-width:4\"/><line x1=\"270.36\" y1=\"334.189\" x2=\"279.871\" y2=\"337.279\" stroke-linecap=\"round\" style=\"stroke:purple;stroke-width:4\"/><line x1=\"279.871\" y1=\"337.279\" x2=\"289.652\" y2=\"339.358\" stroke-linecap=\"round\" style=\"stroke:red;stroke-width:4\"/><line x1=\"289.652\" y1=\"339.358\" x2=\"299.597\" y2=\"340.403\" stroke-linecap=\"round\" style=\"stroke:yellow;stroke-width:4\"/><line x1=\"299.597\" y1=\"340.403\" x2=\"309.597\" y2=\"340.403\" stroke-linecap=\"round\" style=\"stroke:purple;stroke-width:4\"/><line x1=\"309.597\" y1=\"340.403\" x2=\"319.542\" y2=\"339.358\" stroke-linecap=\"round\" style=\"stroke:red;stroke-width:4\"/><line x1=\"319.542\" y1=\"339.358\" x2=\"329.323\" y2=\"337.279\" stroke-linecap=\"round\" style=\"stroke:yellow;stroke-width:4\"/><line x1=\"329.323\" y1=\"337.279\" x2=\"338.834\" y2=\"334.189\" stroke-linecap=\"round\" style=\"stroke:purple;stroke-width:4\"/><line x1=\"338.834\" y1=\"334.189\" x2=\"347.969\" y2=\"330.122\" stroke-linecap=\"round\" style=\"stroke:red;stroke-width:4\"/><line x1=\"347.969\" y1=\"330.122\" x2=\"356.629\" y2=\"325.122\" stroke-linecap=\"round\" style=\"stroke:yellow;stroke-width:4\"/><line x1=\"356.629\" y1=\"325.122\" x2=\"364.719\" y2=\"319.244\" stroke-linecap=\"round\" style=\"stroke:purple;stroke-width:4\"/><line x1=\"364.719\" y1=\"319.244\" x2=\"372.15\" y2=\"312.553\" stroke-linecap=\"round\" style=\"stroke:red;stroke-width:4\"/><line x1=\"372.15\" y1=\"312.553\" x2=\"378.841\" y2=\"305.122\" stroke-linecap=\"round\" style=\"stroke:yellow;stroke-width:4\"/><line x1=\"378.841\" y1=\"305.122\" x2=\"384.719\" y2=\"297.032\" stroke-linecap=\"round\" style=\"stroke:purple;stroke-width:4\"/><line x1=\"384.719\" y1=\"297.032\" x2=\"389.719\" y2=\"288.372\" stroke-linecap=\"round\" style=\"stroke:red;stroke-width:4\"/><line x1=\"389.719\" y1=\"288.372\" x2=\"393.786\" y2=\"279.237\" stroke-linecap=\"round\" style=\"stroke:yellow;stroke-width:4\"/><line x1=\"393.786\" y1=\"279.237\" x2=\"396.876\" y2=\"269.726\" stroke-linecap=\"round\" style=\"stroke:purple;stroke-width:4\"/><line x1=\"396.876\" y1=\"269.726\" x2=\"398.955\" y2=\"259.945\" stroke-linecap=\"round\" style=\"stroke:red;stroke-width:4\"/><line x1=\"398.955\" y1=\"259.945\" x2=\"400.0\" y2=\"250.0\" stroke-linecap=\"round\" style=\"stroke:yellow;stroke-width:4\"/>\n",
       "        <g visibility=visible transform=\"rotate(360.0,400.0,250.0) translate(382.0, 232.0)\">\n",
       "<path style=\" stroke:none;fill-rule:evenodd;fill:purple;fill-opacity:1;\" d=\"M 18.214844 0.632812 C 16.109375 1.800781 15.011719 4.074219 15.074219 7.132812 L 15.085938 7.652344 L 14.785156 7.496094 C 13.476562 6.824219 11.957031 6.671875 10.40625 7.066406 C 8.46875 7.550781 6.515625 9.15625 4.394531 11.992188 C 3.0625 13.777344 2.679688 14.636719 3.042969 15.027344 L 3.15625 15.152344 L 3.519531 15.152344 C 4.238281 15.152344 4.828125 14.886719 8.1875 13.039062 C 9.386719 12.378906 10.371094 11.839844 10.378906 11.839844 C 10.386719 11.839844 10.355469 11.929688 10.304688 12.035156 C 9.832031 13.09375 9.257812 14.820312 8.96875 16.078125 C 7.914062 20.652344 8.617188 24.53125 11.070312 27.660156 C 11.351562 28.015625 11.363281 27.914062 10.972656 28.382812 C 8.925781 30.84375 7.945312 33.28125 8.238281 35.1875 C 8.289062 35.527344 8.28125 35.523438 8.917969 35.523438 C 10.941406 35.523438 13.074219 34.207031 15.136719 31.6875 C 15.359375 31.417969 15.328125 31.425781 15.5625 31.574219 C 16.292969 32.042969 18.023438 32.964844 18.175781 32.964844 C 18.335938 32.964844 19.941406 32.210938 20.828125 31.71875 C 20.996094 31.625 21.136719 31.554688 21.136719 31.558594 C 21.203125 31.664062 21.898438 32.414062 22.222656 32.730469 C 23.835938 34.300781 25.5625 35.132812 27.582031 35.300781 C 27.90625 35.328125 27.9375 35.308594 28.007812 34.984375 C 28.382812 33.242188 27.625 30.925781 25.863281 28.425781 L 25.542969 27.96875 L 25.699219 27.785156 C 28.945312 23.960938 29.132812 18.699219 26.257812 11.96875 L 26.207031 11.84375 L 27.945312 12.703125 C 31.53125 14.476562 32.316406 14.800781 33.03125 14.800781 C 33.976562 14.800781 33.78125 13.9375 32.472656 12.292969 C 28.519531 7.355469 25.394531 5.925781 21.921875 7.472656 L 21.558594 7.636719 L 21.578125 7.542969 C 21.699219 6.992188 21.761719 5.742188 21.699219 5.164062 C 21.496094 3.296875 20.664062 1.964844 19.003906 0.855469 C 18.480469 0.503906 18.457031 0.5 18.214844 0.632812\"/>\n",
       "</g>\n",
       "      </svg>\n",
       "    "
      ],
      "text/plain": [
       "<IPython.core.display.HTML object>"
      ]
     },
     "metadata": {},
     "output_type": "display_data"
    }
   ],
   "source": [
    "#거북이로 원 그리기 (색깔 부여하기)\n",
    "colors=[\"red\", \"yellow\", \"purple\"] # 사용할 색깔 정의하기\n",
    "\n",
    "def Circle(length, n):\n",
    "    for x in range(n):\n",
    "        t.forward(length)\n",
    "        t.color(colors[x%3]) # %는 나눗셈을 한 나머지를 구할 수 있습니다.\n",
    "        t.left(360 / n)\n",
    "\n",
    "t.initializeTurtle()\n",
    "t.speed(12)   # 1-13\n",
    "\n",
    "Circle(10, 60)"
   ]
  },
  {
   "cell_type": "code",
   "execution_count": 10,
   "id": "79808dfb",
   "metadata": {},
   "outputs": [
    {
     "data": {
      "text/html": [
       "\n",
       "      <svg width=\"800\" height=\"500\">\n",
       "        <rect width=\"100%\" height=\"100%\" fill=\"black\"/>\n",
       "        <line x1=\"400\" y1=\"250\" x2=\"400.0\" y2=\"204.0\" stroke-linecap=\"round\" style=\"stroke:white;stroke-width:4\"/><line x1=\"400.0\" y1=\"204.0\" x2=\"332.59\" y2=\"171.122\" stroke-linecap=\"round\" style=\"stroke:red;stroke-width:4\"/><line x1=\"332.59\" y1=\"171.122\" x2=\"375.854\" y2=\"152.758\" stroke-linecap=\"round\" style=\"stroke:yellow;stroke-width:4\"/><line x1=\"375.854\" y1=\"152.758\" x2=\"355.716\" y2=\"177.627\" stroke-linecap=\"round\" style=\"stroke:purple;stroke-width:4\"/><line x1=\"355.716\" y1=\"177.627\" x2=\"375.576\" y2=\"235.304\" stroke-linecap=\"round\" style=\"stroke:red;stroke-width:4\"/><line x1=\"375.576\" y1=\"235.304\" x2=\"444.43\" y2=\"214.253\" stroke-linecap=\"round\" style=\"stroke:yellow;stroke-width:4\"/><line x1=\"444.43\" y1=\"214.253\" x2=\"475.244\" y2=\"199.884\" stroke-linecap=\"round\" style=\"stroke:purple;stroke-width:4\"/><line x1=\"475.244\" y1=\"199.884\" x2=\"547.233\" y2=\"198.627\" stroke-linecap=\"round\" style=\"stroke:red;stroke-width:4\"/><line x1=\"547.233\" y1=\"198.627\" x2=\"536.482\" y2=\"226.634\" stroke-linecap=\"round\" style=\"stroke:yellow;stroke-width:4\"/><line x1=\"536.482\" y1=\"226.634\" x2=\"488.938\" y2=\"214.78\" stroke-linecap=\"round\" style=\"stroke:purple;stroke-width:4\"/><line x1=\"488.938\" y1=\"214.78\" x2=\"497.647\" y2=\"249.711\" stroke-linecap=\"round\" style=\"stroke:red;stroke-width:4\"/><line x1=\"497.647\" y1=\"249.711\" x2=\"537.011\" y2=\"204.428\" stroke-linecap=\"round\" style=\"stroke:yellow;stroke-width:4\"/><line x1=\"537.011\" y1=\"204.428\" x2=\"450.497\" y2=\"179.621\" stroke-linecap=\"round\" style=\"stroke:purple;stroke-width:4\"/><line x1=\"450.497\" y1=\"179.621\" x2=\"503.872\" y2=\"261.811\" stroke-linecap=\"round\" style=\"stroke:red;stroke-width:4\"/><line x1=\"503.872\" y1=\"261.811\" x2=\"580.773\" y2=\"283.862\" stroke-linecap=\"round\" style=\"stroke:yellow;stroke-width:4\"/><line x1=\"580.773\" y1=\"283.862\" x2=\"651.25\" y2=\"258.21\" stroke-linecap=\"round\" style=\"stroke:purple;stroke-width:4\"/><line x1=\"651.25\" y1=\"258.21\" x2=\"589.23\" y2=\"280.783\" stroke-linecap=\"round\" style=\"stroke:red;stroke-width:4\"/><line x1=\"589.23\" y1=\"280.783\" x2=\"607.343\" y2=\"296.528\" stroke-linecap=\"round\" style=\"stroke:yellow;stroke-width:4\"/><line x1=\"607.343\" y1=\"296.528\" x2=\"645.078\" y2=\"263.725\" stroke-linecap=\"round\" style=\"stroke:purple;stroke-width:4\"/><line x1=\"645.078\" y1=\"263.725\" x2=\"636.755\" y2=\"299.777\" stroke-linecap=\"round\" style=\"stroke:red;stroke-width:4\"/><line x1=\"636.755\" y1=\"299.777\" x2=\"625.344\" y2=\"324.247\" stroke-linecap=\"round\" style=\"stroke:yellow;stroke-width:4\"/><line x1=\"625.344\" y1=\"324.247\" x2=\"601.961\" y2=\"337.747\" stroke-linecap=\"round\" style=\"stroke:purple;stroke-width:4\"/><line x1=\"601.961\" y1=\"337.747\" x2=\"590.526\" y2=\"391.545\" stroke-linecap=\"round\" style=\"stroke:red;stroke-width:4\"/><line x1=\"590.526\" y1=\"391.545\" x2=\"619.672\" y2=\"438.188\" stroke-linecap=\"round\" style=\"stroke:yellow;stroke-width:4\"/><line x1=\"619.672\" y1=\"438.188\" x2=\"557.71\" y2=\"440.352\" stroke-linecap=\"round\" style=\"stroke:purple;stroke-width:4\"/><line x1=\"557.71\" y1=\"440.352\" x2=\"596.914\" y2=\"420.376\" stroke-linecap=\"round\" style=\"stroke:red;stroke-width:4\"/><line x1=\"596.914\" y1=\"420.376\" x2=\"605.832\" y2=\"412.346\" stroke-linecap=\"round\" style=\"stroke:yellow;stroke-width:4\"/><line x1=\"605.832\" y1=\"412.346\" x2=\"654.128\" y2=\"399.405\" stroke-linecap=\"round\" style=\"stroke:purple;stroke-width:4\"/><line x1=\"654.128\" y1=\"399.405\" x2=\"619.149\" y2=\"384.557\" stroke-linecap=\"round\" style=\"stroke:red;stroke-width:4\"/><line x1=\"619.149\" y1=\"384.557\" x2=\"632.649\" y2=\"407.94\" stroke-linecap=\"round\" style=\"stroke:yellow;stroke-width:4\"/><line x1=\"632.649\" y1=\"407.94\" x2=\"642.848\" y2=\"372.373\" stroke-linecap=\"round\" style=\"stroke:purple;stroke-width:4\"/><line x1=\"642.848\" y1=\"372.373\" x2=\"716.209\" y2=\"356.78\" stroke-linecap=\"round\" style=\"stroke:red;stroke-width:4\"/><line x1=\"716.209\" y1=\"356.78\" x2=\"807.7\" y2=\"391.9\" stroke-linecap=\"round\" style=\"stroke:yellow;stroke-width:4\"/><line x1=\"807.7\" y1=\"391.9\" x2=\"735.107\" y2=\"432.139\" stroke-linecap=\"round\" style=\"stroke:purple;stroke-width:4\"/><line x1=\"735.107\" y1=\"432.139\" x2=\"720.26\" y2=\"496.447\" stroke-linecap=\"round\" style=\"stroke:red;stroke-width:4\"/><line x1=\"720.26\" y1=\"496.447\" x2=\"677.517\" y2=\"461.834\" stroke-linecap=\"round\" style=\"stroke:yellow;stroke-width:4\"/><line x1=\"677.517\" y1=\"461.834\" x2=\"635.678\" y2=\"551.558\" stroke-linecap=\"round\" style=\"stroke:purple;stroke-width:4\"/><line x1=\"635.678\" y1=\"551.558\" x2=\"588.294\" y2=\"624.522\" stroke-linecap=\"round\" style=\"stroke:red;stroke-width:4\"/><line x1=\"588.294\" y1=\"624.522\" x2=\"551.793\" y2=\"579.448\" stroke-linecap=\"round\" style=\"stroke:yellow;stroke-width:4\"/><line x1=\"551.793\" y1=\"579.448\" x2=\"512.775\" y2=\"531.265\" stroke-linecap=\"round\" style=\"stroke:purple;stroke-width:4\"/><line x1=\"512.775\" y1=\"531.265\" x2=\"473.374\" y2=\"562.048\" stroke-linecap=\"round\" style=\"stroke:red;stroke-width:4\"/><line x1=\"473.374\" y1=\"562.048\" x2=\"415.717\" y2=\"621.753\" stroke-linecap=\"round\" style=\"stroke:yellow;stroke-width:4\"/><line x1=\"415.717\" y1=\"621.753\" x2=\"476.393\" y2=\"577.669\" stroke-linecap=\"round\" style=\"stroke:purple;stroke-width:4\"/><line x1=\"476.393\" y1=\"577.669\" x2=\"397.23\" y2=\"544.066\" stroke-linecap=\"round\" style=\"stroke:red;stroke-width:4\"/><line x1=\"397.23\" y1=\"544.066\" x2=\"397.91\" y2=\"557.048\" stroke-linecap=\"round\" style=\"stroke:yellow;stroke-width:4\"/><line x1=\"397.91\" y1=\"557.048\" x2=\"397.387\" y2=\"572.039\" stroke-linecap=\"round\" style=\"stroke:purple;stroke-width:4\"/><line x1=\"397.387\" y1=\"572.039\" x2=\"357.484\" y2=\"569.249\" stroke-linecap=\"round\" style=\"stroke:red;stroke-width:4\"/><line x1=\"357.484\" y1=\"569.249\" x2=\"326.474\" y2=\"580.536\" stroke-linecap=\"round\" style=\"stroke:yellow;stroke-width:4\"/><line x1=\"326.474\" y1=\"580.536\" x2=\"309.116\" y2=\"595.625\" stroke-linecap=\"round\" style=\"stroke:purple;stroke-width:4\"/><line x1=\"309.116\" y1=\"595.625\" x2=\"241.129\" y2=\"631.774\" stroke-linecap=\"round\" style=\"stroke:red;stroke-width:4\"/>\n",
       "        <g visibility=visible transform=\"rotate(293,241.129,631.774) translate(223.129, 613.774)\">\n",
       "<path style=\" stroke:none;fill-rule:evenodd;fill:yellow;fill-opacity:1;\" d=\"M 18.214844 0.632812 C 16.109375 1.800781 15.011719 4.074219 15.074219 7.132812 L 15.085938 7.652344 L 14.785156 7.496094 C 13.476562 6.824219 11.957031 6.671875 10.40625 7.066406 C 8.46875 7.550781 6.515625 9.15625 4.394531 11.992188 C 3.0625 13.777344 2.679688 14.636719 3.042969 15.027344 L 3.15625 15.152344 L 3.519531 15.152344 C 4.238281 15.152344 4.828125 14.886719 8.1875 13.039062 C 9.386719 12.378906 10.371094 11.839844 10.378906 11.839844 C 10.386719 11.839844 10.355469 11.929688 10.304688 12.035156 C 9.832031 13.09375 9.257812 14.820312 8.96875 16.078125 C 7.914062 20.652344 8.617188 24.53125 11.070312 27.660156 C 11.351562 28.015625 11.363281 27.914062 10.972656 28.382812 C 8.925781 30.84375 7.945312 33.28125 8.238281 35.1875 C 8.289062 35.527344 8.28125 35.523438 8.917969 35.523438 C 10.941406 35.523438 13.074219 34.207031 15.136719 31.6875 C 15.359375 31.417969 15.328125 31.425781 15.5625 31.574219 C 16.292969 32.042969 18.023438 32.964844 18.175781 32.964844 C 18.335938 32.964844 19.941406 32.210938 20.828125 31.71875 C 20.996094 31.625 21.136719 31.554688 21.136719 31.558594 C 21.203125 31.664062 21.898438 32.414062 22.222656 32.730469 C 23.835938 34.300781 25.5625 35.132812 27.582031 35.300781 C 27.90625 35.328125 27.9375 35.308594 28.007812 34.984375 C 28.382812 33.242188 27.625 30.925781 25.863281 28.425781 L 25.542969 27.96875 L 25.699219 27.785156 C 28.945312 23.960938 29.132812 18.699219 26.257812 11.96875 L 26.207031 11.84375 L 27.945312 12.703125 C 31.53125 14.476562 32.316406 14.800781 33.03125 14.800781 C 33.976562 14.800781 33.78125 13.9375 32.472656 12.292969 C 28.519531 7.355469 25.394531 5.925781 21.921875 7.472656 L 21.558594 7.636719 L 21.578125 7.542969 C 21.699219 6.992188 21.761719 5.742188 21.699219 5.164062 C 21.496094 3.296875 20.664062 1.964844 19.003906 0.855469 C 18.480469 0.503906 18.457031 0.5 18.214844 0.632812\"/>\n",
       "</g>\n",
       "      </svg>\n",
       "    "
      ],
      "text/plain": [
       "<IPython.core.display.HTML object>"
      ]
     },
     "metadata": {},
     "output_type": "display_data"
    }
   ],
   "source": [
    "#랜덤으로 움직이는 거북이\n",
    "import random\n",
    "colors=[\"red\", \"yellow\", \"purple\"]\n",
    "\n",
    "def moving(n):\n",
    "    for x in range(n):\n",
    "        t.forward(random.randint(10, 100)) # 임의로 10~100사이의 값만큼 앞으로 갑니다.\n",
    "        t.color(colors[x%3])\n",
    "        t.left(random.randint(1, 360)) # 임의로 1~360도 사이의 값만큼 회전합니다.\n",
    "\n",
    "t.initializeTurtle()\n",
    "t.speed(7)\n",
    "\n",
    "moving(50)"
   ]
  },
  {
   "cell_type": "code",
   "execution_count": null,
   "id": "35ce5721",
   "metadata": {},
   "outputs": [],
   "source": []
  }
 ],
 "metadata": {
  "kernelspec": {
   "display_name": "Python 3 (ipykernel)",
   "language": "python",
   "name": "python3"
  },
  "language_info": {
   "codemirror_mode": {
    "name": "ipython",
    "version": 3
   },
   "file_extension": ".py",
   "mimetype": "text/x-python",
   "name": "python",
   "nbconvert_exporter": "python",
   "pygments_lexer": "ipython3",
   "version": "3.9.7"
  }
 },
 "nbformat": 4,
 "nbformat_minor": 5
}
