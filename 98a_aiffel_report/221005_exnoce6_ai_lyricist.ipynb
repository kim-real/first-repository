{
 "cells": [
  {
   "cell_type": "markdown",
   "id": "0adf69e5",
   "metadata": {},
   "source": [
    "    6. exnode AI writer creation\n",
    "        1) library import\n",
    "        2) data read\n",
    "        3) data refine(정제)\n",
    "        4) data tokenize\n",
    "            - tensor 확인 : 156013\n",
    "        5) train, test data 생성\n",
    "            - source, tarket data 생성\n",
    "            - train, validation data 생성 : validation data 20%\n",
    "        6) 모델 생성 \n",
    "        7) 모델 검증 "
   ]
  },
  {
   "cell_type": "code",
   "execution_count": 2,
   "id": "47dcc15b",
   "metadata": {},
   "outputs": [],
   "source": [
    "#1) library import\n",
    "import numpy as np\n",
    "import tensorflow as tf\n",
    "import glob\n",
    "import os\n"
   ]
  },
  {
   "cell_type": "code",
   "execution_count": 3,
   "id": "d3ed4f03",
   "metadata": {},
   "outputs": [
    {
     "name": "stdout",
     "output_type": "stream",
     "text": [
      "데이터 크기: 187088\n",
      "Examples:\n",
      " [\"Now I've heard there was a secret chord\", 'That David played, and it pleased the Lord', \"But you don't really care for music, do you?\"]\n"
     ]
    }
   ],
   "source": [
    "#2) data read\n",
    "\n",
    "# 경로 지정\n",
    "txt_file_path = os.getenv('HOME')+'/aiffel/lyricist/data/lyrics/*'\n",
    "\n",
    "# 해당 경로 폴더의 모든 하위 폴더까지 탐색하여 txt_list에 넣음\n",
    "txt_list = glob.glob(txt_file_path)\n",
    "\n",
    "raw_corpus = []\n",
    "\n",
    "# 여러개의 txt 파일을 모두 읽어서 raw_corpus 에 담습니다.\n",
    "for txt_file in txt_list:\n",
    "    with open(txt_file, \"r\") as f:\n",
    "        raw = f.read().splitlines()\n",
    "        raw_corpus.extend(raw)\n",
    "\n",
    "print(\"데이터 크기:\", len(raw_corpus))\n",
    "print(\"Examples:\\n\", raw_corpus[:3])"
   ]
  },
  {
   "cell_type": "code",
   "execution_count": 4,
   "id": "81261078",
   "metadata": {},
   "outputs": [
    {
     "name": "stdout",
     "output_type": "stream",
     "text": [
      "Now I've heard there was a secret chord\n",
      "That David played, and it pleased the Lord\n",
      "But you don't really care for music, do you?\n",
      "It goes like this\n",
      "The fourth, the fifth\n",
      "The minor fall, the major lift\n",
      "The baffled king composing Hallelujah Hallelujah\n",
      "Hallelujah\n",
      "Hallelujah\n",
      "Hallelujah Your faith was strong but you needed proof\n",
      "You saw her bathing on the roof\n"
     ]
    }
   ],
   "source": [
    "#2) data read 확인\n",
    "for idx, sentence in enumerate(raw_corpus):\n",
    "    if len(sentence) == 0: continue   # 길이가 0인 문장은 건너뜁니다.\n",
    "    if sentence[-1] == \":\": continue  # 문장의 끝이 : 인 문장은 건너뜁니다.\n",
    "\n",
    "    if idx > 10: break   # 일단 문장 10개만 확인해 볼 겁니다.\n",
    "        \n",
    "    print(sentence)"
   ]
  },
  {
   "cell_type": "code",
   "execution_count": 5,
   "id": "7f1a1dbf",
   "metadata": {},
   "outputs": [],
   "source": [
    "#3) data refine ... define refine 함수\n",
    "import re \n",
    "\n",
    "def preprocess_sentence(sentence):\n",
    "    sentence = sentence.lower().strip() # 1\n",
    "    sentence = re.sub(r\"([?.!,¿])\", r\" \\1 \", sentence) # 2\n",
    "    sentence = re.sub(r'[\" \"]+', \" \", sentence) # 3\n",
    "    sentence = re.sub(r\"[^a-zA-Z?.!,¿]+\", \" \", sentence) # 4\n",
    "    sentence = sentence.strip() # 5\n",
    "    sentence = '<start> ' + sentence + ' <end>' # 6\n",
    "    return sentence"
   ]
  },
  {
   "cell_type": "code",
   "execution_count": 6,
   "id": "0512725c",
   "metadata": {},
   "outputs": [
    {
     "data": {
      "text/plain": [
       "['<start> now i ve heard there was a secret chord <end>']"
      ]
     },
     "execution_count": 6,
     "metadata": {},
     "output_type": "execute_result"
    }
   ],
   "source": [
    "#3) data refine\n",
    "corpus = [] #정제된 문장 모으는 곳\n",
    "\n",
    "# 문장 없는 레코드, 긴 문장, ':'문장 없애기\n",
    "for sentence in raw_corpus:\n",
    "    if len(sentence) == 0: continue\n",
    "    if len(sentence) > 100: continue \n",
    "    if sentence[-1] == \":\": continue\n",
    "    \n",
    "#refine 함수로 data 정제\n",
    "    preprocessed_sentence = preprocess_sentence(sentence)\n",
    "\n",
    "    \n",
    "# 토큰의 개수가 15개를 넘어가는 문장은 제외\n",
    "    if len(preprocessed_sentence.split()) > 15: continue        \n",
    "    \n",
    "#  정제된 문장 \n",
    "    corpus.append(preprocessed_sentence)\n",
    "    \n",
    "# 정제된 결과 확인\n",
    "corpus[:1]"
   ]
  },
  {
   "cell_type": "code",
   "execution_count": 7,
   "id": "2fb6344b",
   "metadata": {},
   "outputs": [
    {
     "name": "stdout",
     "output_type": "stream",
     "text": [
      "[[   2   50    4 ...    0    0    0]\n",
      " [   2   15 2967 ...    0    0    0]\n",
      " [   2   33    7 ...   46    3    0]\n",
      " ...\n",
      " [   2    4  118 ...    0    0    0]\n",
      " [   2  258  194 ...   12    3    0]\n",
      " [   2    7   34 ...    0    0    0]] <keras_preprocessing.text.Tokenizer object at 0x7fe92b92e910>\n"
     ]
    }
   ],
   "source": [
    "#4) data tokenize\n",
    "def tokenize(corpus):\n",
    "\n",
    "    tokenizer = tf.keras.preprocessing.text.Tokenizer(\n",
    "        num_words=12000, \n",
    "        filters=' ',\n",
    "        oov_token=\"<unk>\"\n",
    "    )\n",
    "    # corpus를 이용해 tokenizer 내부의 단어장을 완성합니다\n",
    "    tokenizer.fit_on_texts(corpus)\n",
    "    \n",
    "    # 준비한 tokenizer를 이용해 corpus를 Tensor로 변환합니다\n",
    "    tensor = tokenizer.texts_to_sequences(corpus)   \n",
    "    \n",
    "    # 입력 데이터의 시퀀스 길이를 일정하게 맞춰줍니다\n",
    "    # 만약 시퀀스가 짧다면 문장 뒤에 패딩을 붙여 길이를 맞춰줍니다.\n",
    "    # 문장 앞에 패딩을 붙여 길이를 맞추고 싶다면 padding='pre'를 사용합니다\n",
    "    tensor = tf.keras.preprocessing.sequence.pad_sequences(tensor, padding='post', maxlen=15)  \n",
    "    \n",
    "    print(tensor, tokenizer)\n",
    "    return tensor, tokenizer\n",
    "\n",
    "tensor, tokenizer = tokenize(corpus)"
   ]
  },
  {
   "cell_type": "code",
   "execution_count": 8,
   "id": "edbceb3c",
   "metadata": {},
   "outputs": [
    {
     "name": "stdout",
     "output_type": "stream",
     "text": [
      "[[   2   50    4   95  303   62   53    9  946 6263    3    0    0    0\n",
      "     0]\n",
      " [   2   15 2967  871    5    8   11 5739    6  374    3    0    0    0\n",
      "     0]\n",
      " [   2   33    7   40   16  164  288   28  333    5   48    7   46    3\n",
      "     0]\n",
      " [   2   11  335   23   41    3    0    0    0    0    0    0    0    0\n",
      "     0]\n",
      " [   2    6 4486    5    6 2039    3    0    0    0    0    0    0    0\n",
      "     0]]\n"
     ]
    }
   ],
   "source": [
    "#4) data tokenize 확인\n",
    "print(tensor[:5, :]) "
   ]
  },
  {
   "cell_type": "code",
   "execution_count": 9,
   "id": "1e076eb1",
   "metadata": {},
   "outputs": [
    {
     "name": "stdout",
     "output_type": "stream",
     "text": [
      "156013 156013\n"
     ]
    }
   ],
   "source": [
    "#4) data tokenize 확인   .... tensor 확인 \n",
    "print(len(tensor), len(corpus))"
   ]
  },
  {
   "cell_type": "code",
   "execution_count": 10,
   "id": "0f7ca9a4",
   "metadata": {},
   "outputs": [
    {
     "name": "stdout",
     "output_type": "stream",
     "text": [
      "1 : <unk>\n",
      "2 : <start>\n",
      "3 : <end>\n",
      "4 : i\n",
      "5 : ,\n",
      "6 : the\n",
      "7 : you\n",
      "8 : and\n",
      "9 : a\n",
      "10 : to\n"
     ]
    }
   ],
   "source": [
    "#4) data tokenize 확인   .... 단어장 확인 \n",
    "for idx in tokenizer.index_word:\n",
    "    print(idx, \":\", tokenizer.index_word[idx])\n",
    "\n",
    "    if idx >= 10: break"
   ]
  },
  {
   "cell_type": "code",
   "execution_count": 11,
   "id": "077159b7",
   "metadata": {},
   "outputs": [
    {
     "name": "stdout",
     "output_type": "stream",
     "text": [
      "[   2   50    4   95  303   62   53    9  946 6263    3    0    0    0]\n",
      "[  50    4   95  303   62   53    9  946 6263    3    0    0    0    0]\n"
     ]
    }
   ],
   "source": [
    "#5) train, test data 생성   .... source, tarket data 생성\n",
    "# 마지막 토큰은 <end>가 아니라 <pad>일 가능성이 높습니다.\n",
    "src_input = tensor[:, :-1]  \n",
    "# tensor에서 <start>를 잘라내서 타겟 문장을 생성합니다.\n",
    "tgt_input = tensor[:, 1:]    \n",
    "\n",
    "print(src_input[0])\n",
    "print(tgt_input[0])"
   ]
  },
  {
   "cell_type": "code",
   "execution_count": 12,
   "id": "89dbc6f5",
   "metadata": {},
   "outputs": [
    {
     "name": "stdout",
     "output_type": "stream",
     "text": [
      "Source Train: (124810, 14)\n",
      "Target Train: (124810, 14)\n"
     ]
    }
   ],
   "source": [
    "#5) train, validation data 생성   .... train, validation data 생성  # 20%를 평가용\n",
    "\n",
    "from sklearn.model_selection import train_test_split\n",
    "enc_train, enc_val, dec_train, dec_val = train_test_split(src_input, \n",
    "                                                    tgt_input, \n",
    "                                                    test_size=0.2, \n",
    "                                                    random_state=42)\n",
    "print(\"Source Train:\", enc_train.shape)\n",
    "print(\"Target Train:\", dec_train.shape)"
   ]
  },
  {
   "cell_type": "code",
   "execution_count": 13,
   "id": "df9bffaa",
   "metadata": {},
   "outputs": [
    {
     "name": "stdout",
     "output_type": "stream",
     "text": [
      "<BatchDataset shapes: ((256, 14), (256, 14)), types: (tf.int32, tf.int32)>\n",
      "<BatchDataset shapes: ((256, 14), (256, 14)), types: (tf.int32, tf.int32)>\n"
     ]
    }
   ],
   "source": [
    "#5) train, validation data 생성   .... train, test data 생성  \n",
    "\n",
    "BUFFER_SIZE = len(src_input)\n",
    "BATCH_SIZE = 256\n",
    "steps_per_epoch = len(src_input) // BATCH_SIZE\n",
    "\n",
    "VOCAB_SIZE = tokenizer.num_words + 1   \n",
    "\n",
    "# train 데이터셋\n",
    "train_dataset = tf.data.Dataset.from_tensor_slices((enc_train, dec_train))\n",
    "train_dataset = train_dataset.shuffle(BUFFER_SIZE)\n",
    "train_dataset = train_dataset.batch(BATCH_SIZE, drop_remainder=True)\n",
    "print(train_dataset)\n",
    "\n",
    "# test 데이터셋\n",
    "test_dataset = tf.data.Dataset.from_tensor_slices((enc_val, dec_val))\n",
    "test_dataset = test_dataset.shuffle(BUFFER_SIZE)\n",
    "test_dataset = test_dataset.batch(BATCH_SIZE, drop_remainder=True)\n",
    "print(test_dataset)"
   ]
  },
  {
   "cell_type": "code",
   "execution_count": 14,
   "id": "ee96e847",
   "metadata": {},
   "outputs": [],
   "source": [
    "#6) 모델 생성  \n",
    "\n",
    "class TextGenerator(tf.keras.Model):\n",
    "    def __init__(self, vocab_size, embedding_size, hidden_size):\n",
    "        super().__init__()\n",
    "        \n",
    "        self.embedding = tf.keras.layers.Embedding(vocab_size, embedding_size)\n",
    "        self.rnn_1 = tf.keras.layers.LSTM(hidden_size, return_sequences=True)\n",
    "        self.rnn_2 = tf.keras.layers.LSTM(hidden_size, return_sequences=True)\n",
    "        self.linear = tf.keras.layers.Dense(vocab_size)\n",
    "        \n",
    "    def call(self, x):\n",
    "        out = self.embedding(x)\n",
    "        out = self.rnn_1(out)\n",
    "        out = self.rnn_2(out)\n",
    "        out = self.linear(out)\n",
    "        \n",
    "        return out\n",
    "    \n",
    "embedding_size = 256  # 값이 커질수록 단어의 추상적인 특징들을 더 잡아낼 수 있지만, 데이터 양이 충분해야함\n",
    "hidden_size = 1024   # 모델에 얼마나 많은 일꾼을 둘 것인가, 충분한 데이터가 주어져야 배가 산으로 가지 않음\n",
    "model = TextGenerator(tokenizer.num_words + 1, embedding_size , hidden_size)"
   ]
  },
  {
   "cell_type": "code",
   "execution_count": 15,
   "id": "5a06dc96",
   "metadata": {},
   "outputs": [
    {
     "data": {
      "text/plain": [
       "<tf.Tensor: shape=(256, 14, 12001), dtype=float32, numpy=\n",
       "array([[[-2.74995509e-05, -1.80320494e-04, -1.21953279e-04, ...,\n",
       "         -8.82767126e-05, -1.37558178e-04, -3.42023013e-05],\n",
       "        [-9.57825341e-06, -2.39125555e-04,  1.19950542e-04, ...,\n",
       "          1.78039227e-05, -3.67643457e-04,  1.09745515e-05],\n",
       "        [ 1.01028993e-04, -2.29073790e-04,  3.81587975e-04, ...,\n",
       "         -1.08420361e-04, -6.72303198e-04,  3.16068763e-04],\n",
       "        ...,\n",
       "        [-1.66981801e-04,  1.18584570e-03,  7.74725981e-04, ...,\n",
       "         -9.09806869e-04,  2.77662533e-03,  6.24085602e-04],\n",
       "        [-1.77620706e-04,  1.17154233e-03,  8.64443486e-04, ...,\n",
       "         -1.00749207e-03,  3.09734861e-03,  7.01257610e-04],\n",
       "        [-1.86291232e-04,  1.16351177e-03,  9.60359466e-04, ...,\n",
       "         -1.11131941e-03,  3.33919842e-03,  7.87424331e-04]],\n",
       "\n",
       "       [[-2.74995509e-05, -1.80320494e-04, -1.21953279e-04, ...,\n",
       "         -8.82767126e-05, -1.37558178e-04, -3.42023013e-05],\n",
       "        [-2.47373042e-04, -3.62511870e-04,  9.41700346e-05, ...,\n",
       "         -1.09392706e-04, -1.79176757e-04, -5.74984770e-05],\n",
       "        [-4.06105246e-04, -5.30421152e-04,  2.04970827e-04, ...,\n",
       "         -2.35843225e-04, -3.14871082e-04, -1.23140737e-04],\n",
       "        ...,\n",
       "        [-9.28503519e-04,  1.21674861e-03,  6.25365530e-04, ...,\n",
       "         -4.96977009e-04,  1.79594732e-03,  1.38681731e-04],\n",
       "        [-8.07975477e-04,  1.26431196e-03,  6.40158018e-04, ...,\n",
       "         -5.42220077e-04,  2.30919570e-03,  2.04336859e-04],\n",
       "        [-6.89854496e-04,  1.26839837e-03,  6.83267775e-04, ...,\n",
       "         -6.15304045e-04,  2.74069072e-03,  3.05651425e-04]],\n",
       "\n",
       "       [[-2.74995509e-05, -1.80320494e-04, -1.21953279e-04, ...,\n",
       "         -8.82767126e-05, -1.37558178e-04, -3.42023013e-05],\n",
       "        [-7.32212720e-05,  1.85327317e-05, -1.94905253e-04, ...,\n",
       "         -1.82711708e-04, -1.23691207e-04, -4.22183035e-07],\n",
       "        [ 2.19637004e-04,  2.71544588e-04, -1.60642696e-04, ...,\n",
       "         -5.19284877e-05,  2.34635649e-04,  4.77584799e-05],\n",
       "        ...,\n",
       "        [-1.83786295e-04,  1.39775930e-03,  5.32689912e-04, ...,\n",
       "         -6.13373180e-04,  2.80766259e-03,  4.14874434e-04],\n",
       "        [-1.84284407e-04,  1.35752058e-03,  6.73646049e-04, ...,\n",
       "         -7.40837306e-04,  3.11859208e-03,  5.29368117e-04],\n",
       "        [-1.77353970e-04,  1.31564052e-03,  8.13053513e-04, ...,\n",
       "         -8.72340694e-04,  3.35544650e-03,  6.53263880e-04]],\n",
       "\n",
       "       ...,\n",
       "\n",
       "       [[-2.74995509e-05, -1.80320494e-04, -1.21953279e-04, ...,\n",
       "         -8.82767126e-05, -1.37558178e-04, -3.42023013e-05],\n",
       "        [-1.47094412e-04, -2.52089871e-04,  3.68709079e-05, ...,\n",
       "         -1.11655994e-04, -4.32700588e-04,  1.05061285e-04],\n",
       "        [-2.11459905e-04, -3.98529693e-04, -7.69948892e-05, ...,\n",
       "         -3.92534203e-05, -7.59385352e-04, -1.86062098e-05],\n",
       "        ...,\n",
       "        [-9.47054534e-04,  9.25976492e-04, -7.13621499e-04, ...,\n",
       "         -4.31321765e-04, -1.01045902e-04, -4.13603761e-04],\n",
       "        [-9.66210268e-04,  1.08911307e-03, -6.54129777e-04, ...,\n",
       "         -5.45453746e-04,  4.27948456e-04, -4.03262093e-04],\n",
       "        [-9.25190456e-04,  1.19365728e-03, -5.34266233e-04, ...,\n",
       "         -6.38984377e-04,  1.00117899e-03, -3.70530906e-04]],\n",
       "\n",
       "       [[-2.74995509e-05, -1.80320494e-04, -1.21953279e-04, ...,\n",
       "         -8.82767126e-05, -1.37558178e-04, -3.42023013e-05],\n",
       "        [-2.47373042e-04, -3.62511870e-04,  9.41700346e-05, ...,\n",
       "         -1.09392706e-04, -1.79176757e-04, -5.74984770e-05],\n",
       "        [-5.52189187e-04, -4.32001427e-04,  1.39644195e-04, ...,\n",
       "         -8.32787118e-05, -3.38501617e-04, -1.01905629e-04],\n",
       "        ...,\n",
       "        [ 2.46411684e-04, -4.82936419e-04,  1.62125085e-04, ...,\n",
       "         -7.91487924e-04, -5.95934282e-04,  1.27976539e-03],\n",
       "        [ 5.55976039e-05, -8.50777542e-06,  4.04498394e-04, ...,\n",
       "         -8.88152863e-04, -3.37434671e-04,  1.30608561e-03],\n",
       "        [-8.18818371e-05,  4.43291414e-04,  5.36285806e-04, ...,\n",
       "         -9.40252794e-04,  1.86003192e-04,  1.12880755e-03]],\n",
       "\n",
       "       [[-2.74995509e-05, -1.80320494e-04, -1.21953279e-04, ...,\n",
       "         -8.82767126e-05, -1.37558178e-04, -3.42023013e-05],\n",
       "        [-3.05081223e-04, -3.48991307e-04, -3.58992838e-05, ...,\n",
       "         -3.00826621e-04, -1.37614727e-04, -3.50452145e-04],\n",
       "        [-6.71811868e-04, -5.22857299e-04,  1.13486756e-04, ...,\n",
       "         -5.68740536e-04, -4.07673870e-05, -7.68332684e-04],\n",
       "        ...,\n",
       "        [-6.53059920e-04,  7.37754861e-04,  2.51610909e-04, ...,\n",
       "         -1.15806889e-03,  3.18323332e-03, -2.36765292e-04],\n",
       "        [-5.37684478e-04,  8.26846750e-04,  3.54884367e-04, ...,\n",
       "         -1.16525101e-03,  3.45852925e-03, -7.25576174e-05],\n",
       "        [-4.40604315e-04,  9.04623827e-04,  4.79013572e-04, ...,\n",
       "         -1.19666697e-03,  3.66111542e-03,  1.01867481e-04]]],\n",
       "      dtype=float32)>"
      ]
     },
     "execution_count": 15,
     "metadata": {},
     "output_type": "execute_result"
    }
   ],
   "source": [
    "#6) 모델 생성  ... 모델 생성  test\n",
    "for src_sample, tgt_sample in train_dataset.take(1): break\n",
    "\n",
    "# 한 배치만 불러온 데이터를 모델에 넣어봅니다\n",
    "model(src_sample)"
   ]
  },
  {
   "cell_type": "code",
   "execution_count": 16,
   "id": "169a2796",
   "metadata": {},
   "outputs": [
    {
     "name": "stdout",
     "output_type": "stream",
     "text": [
      "Model: \"text_generator\"\n",
      "_________________________________________________________________\n",
      "Layer (type)                 Output Shape              Param #   \n",
      "=================================================================\n",
      "embedding (Embedding)        multiple                  3072256   \n",
      "_________________________________________________________________\n",
      "lstm (LSTM)                  multiple                  5246976   \n",
      "_________________________________________________________________\n",
      "lstm_1 (LSTM)                multiple                  8392704   \n",
      "_________________________________________________________________\n",
      "dense (Dense)                multiple                  12301025  \n",
      "=================================================================\n",
      "Total params: 29,012,961\n",
      "Trainable params: 29,012,961\n",
      "Non-trainable params: 0\n",
      "_________________________________________________________________\n"
     ]
    }
   ],
   "source": [
    "#6) 모델 생성  ...    모델 확인 \n",
    "model.summary()"
   ]
  },
  {
   "cell_type": "code",
   "execution_count": 17,
   "id": "7b18641d",
   "metadata": {},
   "outputs": [
    {
     "name": "stdout",
     "output_type": "stream",
     "text": [
      "Epoch 1/20\n",
      "487/487 [==============================] - 96s 192ms/step - loss: 3.5230 - accuracy: 0.4822 - val_loss: 3.1739 - val_accuracy: 0.5086\n",
      "Epoch 2/20\n",
      "487/487 [==============================] - 93s 191ms/step - loss: 3.0299 - accuracy: 0.5213 - val_loss: 2.9585 - val_accuracy: 0.5253\n",
      "Epoch 3/20\n",
      "487/487 [==============================] - 93s 191ms/step - loss: 2.8576 - accuracy: 0.5319 - val_loss: 2.8470 - val_accuracy: 0.5334\n",
      "Epoch 4/20\n",
      "487/487 [==============================] - 93s 191ms/step - loss: 2.7327 - accuracy: 0.5402 - val_loss: 2.7684 - val_accuracy: 0.5401\n",
      "Epoch 5/20\n",
      "487/487 [==============================] - 93s 191ms/step - loss: 2.6268 - accuracy: 0.5476 - val_loss: 2.7062 - val_accuracy: 0.5454\n",
      "Epoch 6/20\n",
      "487/487 [==============================] - 93s 191ms/step - loss: 2.5308 - accuracy: 0.5549 - val_loss: 2.6525 - val_accuracy: 0.5515\n",
      "Epoch 7/20\n",
      "487/487 [==============================] - 93s 191ms/step - loss: 2.4414 - accuracy: 0.5628 - val_loss: 2.6082 - val_accuracy: 0.5572\n",
      "Epoch 8/20\n",
      "487/487 [==============================] - 93s 191ms/step - loss: 2.3584 - accuracy: 0.5708 - val_loss: 2.5723 - val_accuracy: 0.5631\n",
      "Epoch 9/20\n",
      "487/487 [==============================] - 93s 191ms/step - loss: 2.2793 - accuracy: 0.5792 - val_loss: 2.5400 - val_accuracy: 0.5682\n",
      "Epoch 10/20\n",
      "487/487 [==============================] - 93s 191ms/step - loss: 2.2034 - accuracy: 0.5883 - val_loss: 2.5150 - val_accuracy: 0.5731\n",
      "Epoch 11/20\n",
      "487/487 [==============================] - 93s 191ms/step - loss: 2.1312 - accuracy: 0.5975 - val_loss: 2.4904 - val_accuracy: 0.5785\n",
      "Epoch 12/20\n",
      "487/487 [==============================] - 93s 191ms/step - loss: 2.0610 - accuracy: 0.6075 - val_loss: 2.4705 - val_accuracy: 0.5836\n",
      "Epoch 13/20\n",
      "487/487 [==============================] - 93s 191ms/step - loss: 1.9935 - accuracy: 0.6175 - val_loss: 2.4547 - val_accuracy: 0.5885\n",
      "Epoch 14/20\n",
      "487/487 [==============================] - 93s 191ms/step - loss: 1.9268 - accuracy: 0.6278 - val_loss: 2.4386 - val_accuracy: 0.5932\n",
      "Epoch 15/20\n",
      "487/487 [==============================] - 93s 191ms/step - loss: 1.8626 - accuracy: 0.6383 - val_loss: 2.4268 - val_accuracy: 0.5979\n",
      "Epoch 16/20\n",
      "487/487 [==============================] - 93s 191ms/step - loss: 1.7997 - accuracy: 0.6491 - val_loss: 2.4173 - val_accuracy: 0.6027\n",
      "Epoch 17/20\n",
      "487/487 [==============================] - 93s 191ms/step - loss: 1.7382 - accuracy: 0.6597 - val_loss: 2.4100 - val_accuracy: 0.6075\n",
      "Epoch 18/20\n",
      "487/487 [==============================] - 93s 191ms/step - loss: 1.6783 - accuracy: 0.6707 - val_loss: 2.4063 - val_accuracy: 0.6117\n",
      "Epoch 19/20\n",
      "487/487 [==============================] - 93s 191ms/step - loss: 1.6200 - accuracy: 0.6816 - val_loss: 2.3987 - val_accuracy: 0.6160\n",
      "Epoch 20/20\n",
      "487/487 [==============================] - 93s 191ms/step - loss: 1.5647 - accuracy: 0.6923 - val_loss: 2.3986 - val_accuracy: 0.6196\n"
     ]
    }
   ],
   "source": [
    "#6) 모델 생성   .. 모델 학습\n",
    "optimizer = tf.keras.optimizers.Adam()\n",
    "\n",
    "#Loss\n",
    "loss = tf.keras.losses.SparseCategoricalCrossentropy(\n",
    "    from_logits=True,\n",
    "    reduction='none'\n",
    ")\n",
    "\n",
    "# 모델 compile  \n",
    "model.compile(loss=loss, \n",
    "                     optimizer=optimizer, \n",
    "                     metrics=['accuracy']) \n",
    "\n",
    "# 모델 fit  \n",
    "model_history = model.fit(train_dataset, \n",
    "                                  validation_data=test_dataset, # 평가 데이터\n",
    "                                  epochs=20)"
   ]
  },
  {
   "cell_type": "code",
   "execution_count": 18,
   "id": "bc40f4fd",
   "metadata": {},
   "outputs": [],
   "source": [
    "#7) 모델 검증  \n",
    "def generate_text(lyricist, tokenizer, init_sentence=\"<start>\", max_len=20):\n",
    "    # 테스트를 위해서 입력받은 init_sentence도 텐서로 변환합니다\n",
    "    test_input = tokenizer.texts_to_sequences([init_sentence])\n",
    "    test_tensor = tf.convert_to_tensor(test_input, dtype=tf.int64)\n",
    "    end_token = tokenizer.word_index[\"<end>\"]\n",
    "\n",
    "    # 단어 하나씩 예측해 문장을 만듭니다\n",
    "    #    1. 입력받은 문장의 텐서를 입력합니다\n",
    "    #    2. 예측된 값 중 가장 높은 확률인 word index를 뽑아냅니다\n",
    "    #    3. 2에서 예측된 word index를 문장 뒤에 붙입니다\n",
    "    #    4. 모델이 <end>를 예측했거나, max_len에 도달했다면 문장 생성을 마칩니다\n",
    "    while True:\n",
    "        # 1\n",
    "        predict = model(test_tensor) \n",
    "        # 2\n",
    "        predict_word = tf.argmax(tf.nn.softmax(predict, axis=-1), axis=-1)[:, -1] \n",
    "        # 3 \n",
    "        test_tensor = tf.concat([test_tensor, tf.expand_dims(predict_word, axis=0)], axis=-1)\n",
    "        # 4\n",
    "        if predict_word.numpy()[0] == end_token: break\n",
    "        if test_tensor.shape[1] >= max_len: break\n",
    "\n",
    "    generated = \"\"\n",
    "    # tokenizer를 이용해 word index를 단어로 하나씩 변환합니다 \n",
    "    for word_index in test_tensor[0].numpy():\n",
    "        generated += tokenizer.index_word[word_index] + \" \"\n",
    "\n",
    "    return generated"
   ]
  },
  {
   "cell_type": "code",
   "execution_count": 19,
   "id": "19fd6adf",
   "metadata": {},
   "outputs": [
    {
     "data": {
      "text/plain": [
       "'<start> you know i m bad , i m bad you know it <end> '"
      ]
     },
     "execution_count": 19,
     "metadata": {},
     "output_type": "execute_result"
    }
   ],
   "source": [
    "#7) 모델 검증 \n",
    "generate_text(model, tokenizer, init_sentence=\"<start> you \", max_len=20)"
   ]
  },
  {
   "cell_type": "code",
   "execution_count": null,
   "id": "61d75b98",
   "metadata": {},
   "outputs": [],
   "source": []
  }
 ],
 "metadata": {
  "kernelspec": {
   "display_name": "Python 3 (ipykernel)",
   "language": "python",
   "name": "python3"
  },
  "language_info": {
   "codemirror_mode": {
    "name": "ipython",
    "version": 3
   },
   "file_extension": ".py",
   "mimetype": "text/x-python",
   "name": "python",
   "nbconvert_exporter": "python",
   "pygments_lexer": "ipython3",
   "version": "3.9.7"
  }
 },
 "nbformat": 4,
 "nbformat_minor": 5
}
