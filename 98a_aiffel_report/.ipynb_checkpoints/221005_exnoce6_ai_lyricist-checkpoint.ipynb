{
 "cells": [
  {
   "cell_type": "markdown",
   "id": "a8913c3f",
   "metadata": {},
   "source": [
    "    6. exnode AI writer creation\n",
    "        1) library import\n",
    "        2) data read\n",
    "        3) data refine(정제)\n",
    "        4) data tokenize\n",
    "            - tensor 확인 : 156013\n",
    "        5) train, test data 생성\n",
    "            - source, tarket data 생성\n",
    "            - train, validation data 생성 : validation data 20%\n",
    "        6) 모델 생성 \n",
    "        7) 모델 검증 "
   ]
  },
  {
   "cell_type": "code",
   "execution_count": null,
   "id": "2fa5cf62",
   "metadata": {},
   "outputs": [],
   "source": [
    "#1) library import\n",
    "import numpy as np\n",
    "import tensorflow as tf\n",
    "import glob\n",
    "import os\n",
    "\n",
    "print(tensorflow.__version__)"
   ]
  },
  {
   "cell_type": "code",
   "execution_count": 21,
   "id": "a1098935",
   "metadata": {},
   "outputs": [
    {
     "name": "stdout",
     "output_type": "stream",
     "text": [
      "데이터 크기: 187088\n",
      "Examples:\n",
      " [\"Now I've heard there was a secret chord\", 'That David played, and it pleased the Lord', \"But you don't really care for music, do you?\"]\n"
     ]
    }
   ],
   "source": [
    "#2) data read\n",
    "\n",
    "# 경로 지정\n",
    "txt_file_path = os.getenv('HOME')+'/aiffel/lyricist/data/lyrics/*'\n",
    "\n",
    "# 해당 경로 폴더의 모든 하위 폴더까지 탐색하여 txt_list에 넣음\n",
    "txt_list = glob.glob(txt_file_path)\n",
    "\n",
    "raw_corpus = []\n",
    "\n",
    "# 여러개의 txt 파일을 모두 읽어서 raw_corpus 에 담습니다.\n",
    "for txt_file in txt_list:\n",
    "    with open(txt_file, \"r\") as f:\n",
    "        raw = f.read().splitlines()\n",
    "        raw_corpus.extend(raw)\n",
    "\n",
    "print(\"데이터 크기:\", len(raw_corpus))\n",
    "print(\"Examples:\\n\", raw_corpus[:3])"
   ]
  },
  {
   "cell_type": "code",
   "execution_count": 25,
   "id": "1e61d894",
   "metadata": {},
   "outputs": [
    {
     "name": "stdout",
     "output_type": "stream",
     "text": [
      "Now I've heard there was a secret chord\n",
      "That David played, and it pleased the Lord\n",
      "But you don't really care for music, do you?\n",
      "It goes like this\n",
      "The fourth, the fifth\n",
      "The minor fall, the major lift\n",
      "The baffled king composing Hallelujah Hallelujah\n",
      "Hallelujah\n",
      "Hallelujah\n",
      "Hallelujah Your faith was strong but you needed proof\n",
      "You saw her bathing on the roof\n"
     ]
    }
   ],
   "source": [
    "#2) data read 확인\n",
    "for idx, sentence in enumerate(raw_corpus):\n",
    "    if len(sentence) == 0: continue   # 길이가 0인 문장은 건너뜁니다.\n",
    "    if sentence[-1] == \":\": continue  # 문장의 끝이 : 인 문장은 건너뜁니다.\n",
    "\n",
    "    if idx > 10: break   # 일단 문장 10개만 확인해 볼 겁니다.\n",
    "        \n",
    "    print(sentence)"
   ]
  },
  {
   "cell_type": "code",
   "execution_count": 22,
   "id": "a07bbb8d",
   "metadata": {},
   "outputs": [],
   "source": [
    "#3) data refine ... define refine 함수\n",
    "import re \n",
    "\n",
    "def preprocess_sentence(sentence):\n",
    "    sentence = sentence.lower().strip() # 1\n",
    "    sentence = re.sub(r\"([?.!,¿])\", r\" \\1 \", sentence) # 2\n",
    "    sentence = re.sub(r'[\" \"]+', \" \", sentence) # 3\n",
    "    sentence = re.sub(r\"[^a-zA-Z?.!,¿]+\", \" \", sentence) # 4\n",
    "    sentence = sentence.strip() # 5\n",
    "    sentence = '<start> ' + sentence + ' <end>' # 6\n",
    "    return sentence"
   ]
  },
  {
   "cell_type": "code",
   "execution_count": 23,
   "id": "60533048",
   "metadata": {},
   "outputs": [
    {
     "data": {
      "text/plain": [
       "['<start> now i ve heard there was a secret chord <end>']"
      ]
     },
     "execution_count": 23,
     "metadata": {},
     "output_type": "execute_result"
    }
   ],
   "source": [
    "#3) data refine\n",
    "corpus = [] #정제된 문장 모으는 곳\n",
    "\n",
    "# 문장 없는 레코드, 긴 문장, ':'문장 없애기\n",
    "for sentence in raw_corpus:\n",
    "    if len(sentence) == 0: continue\n",
    "    if len(sentence) > 100: continue \n",
    "    if sentence[-1] == \":\": continue\n",
    "    \n",
    "#refine 함수로 data 정제\n",
    "    preprocessed_sentence = preprocess_sentence(sentence)\n",
    "\n",
    "    \n",
    "# 토큰의 개수가 15개를 넘어가는 문장은 제외\n",
    "    if len(preprocessed_sentence.split()) > 15: continue        \n",
    "    \n",
    "#  정제된 문장 \n",
    "    corpus.append(preprocessed_sentence)\n",
    "    \n",
    "# 정제된 결과 확인\n",
    "corpus[:1]"
   ]
  },
  {
   "cell_type": "code",
   "execution_count": 24,
   "id": "bb8b9d02",
   "metadata": {},
   "outputs": [
    {
     "name": "stdout",
     "output_type": "stream",
     "text": [
      "[[   2   50    4 ...    0    0    0]\n",
      " [   2   15 2967 ...    0    0    0]\n",
      " [   2   33    7 ...   46    3    0]\n",
      " ...\n",
      " [   2    4  118 ...    0    0    0]\n",
      " [   2  258  194 ...   12    3    0]\n",
      " [   2    7   34 ...    0    0    0]] <keras_preprocessing.text.Tokenizer object at 0x7f8868ef7640>\n"
     ]
    }
   ],
   "source": [
    "#4) data tokenize\n",
    "def tokenize(corpus):\n",
    "\n",
    "    tokenizer = tf.keras.preprocessing.text.Tokenizer(\n",
    "        num_words=12000, \n",
    "        filters=' ',\n",
    "        oov_token=\"<unk>\"\n",
    "    )\n",
    "    # corpus를 이용해 tokenizer 내부의 단어장을 완성합니다\n",
    "    tokenizer.fit_on_texts(corpus)\n",
    "    \n",
    "    # 준비한 tokenizer를 이용해 corpus를 Tensor로 변환합니다\n",
    "    tensor = tokenizer.texts_to_sequences(corpus)   \n",
    "    \n",
    "    # 입력 데이터의 시퀀스 길이를 일정하게 맞춰줍니다\n",
    "    # 만약 시퀀스가 짧다면 문장 뒤에 패딩을 붙여 길이를 맞춰줍니다.\n",
    "    # 문장 앞에 패딩을 붙여 길이를 맞추고 싶다면 padding='pre'를 사용합니다\n",
    "    tensor = tf.keras.preprocessing.sequence.pad_sequences(tensor, padding='post', maxlen=15)  \n",
    "    \n",
    "    print(tensor, tokenizer)\n",
    "    return tensor, tokenizer\n",
    "\n",
    "tensor, tokenizer = tokenize(corpus)"
   ]
  },
  {
   "cell_type": "code",
   "execution_count": 26,
   "id": "50c41fc9",
   "metadata": {},
   "outputs": [
    {
     "name": "stdout",
     "output_type": "stream",
     "text": [
      "[[   2   50    4   95  303   62   53    9  946 6263    3    0    0    0\n",
      "     0]\n",
      " [   2   15 2967  871    5    8   11 5739    6  374    3    0    0    0\n",
      "     0]\n",
      " [   2   33    7   40   16  164  288   28  333    5   48    7   46    3\n",
      "     0]\n",
      " [   2   11  335   23   41    3    0    0    0    0    0    0    0    0\n",
      "     0]\n",
      " [   2    6 4486    5    6 2039    3    0    0    0    0    0    0    0\n",
      "     0]]\n"
     ]
    }
   ],
   "source": [
    "#4) data tokenize 확인\n",
    "print(tensor[:5, :]) "
   ]
  },
  {
   "cell_type": "code",
   "execution_count": 27,
   "id": "27094161",
   "metadata": {},
   "outputs": [
    {
     "name": "stdout",
     "output_type": "stream",
     "text": [
      "156013 156013\n"
     ]
    }
   ],
   "source": [
    "#4) data tokenize 확인   .... tensor 확인 \n",
    "print(len(tensor), len(corpus))"
   ]
  },
  {
   "cell_type": "code",
   "execution_count": 28,
   "id": "ece23cf2",
   "metadata": {},
   "outputs": [
    {
     "name": "stdout",
     "output_type": "stream",
     "text": [
      "1 : <unk>\n",
      "2 : <start>\n",
      "3 : <end>\n",
      "4 : i\n",
      "5 : ,\n",
      "6 : the\n",
      "7 : you\n",
      "8 : and\n",
      "9 : a\n",
      "10 : to\n"
     ]
    }
   ],
   "source": [
    "#4) data tokenize 확인   .... 단어장 확인 \n",
    "for idx in tokenizer.index_word:\n",
    "    print(idx, \":\", tokenizer.index_word[idx])\n",
    "\n",
    "    if idx >= 10: break"
   ]
  },
  {
   "cell_type": "code",
   "execution_count": 29,
   "id": "d329e8ac",
   "metadata": {},
   "outputs": [
    {
     "name": "stdout",
     "output_type": "stream",
     "text": [
      "[   2   50    4   95  303   62   53    9  946 6263    3    0    0    0]\n",
      "[  50    4   95  303   62   53    9  946 6263    3    0    0    0    0]\n"
     ]
    }
   ],
   "source": [
    "#5) train, test data 생성   .... source, tarket data 생성\n",
    "# 마지막 토큰은 <end>가 아니라 <pad>일 가능성이 높습니다.\n",
    "src_input = tensor[:, :-1]  \n",
    "# tensor에서 <start>를 잘라내서 타겟 문장을 생성합니다.\n",
    "tgt_input = tensor[:, 1:]    \n",
    "\n",
    "print(src_input[0])\n",
    "print(tgt_input[0])"
   ]
  },
  {
   "cell_type": "code",
   "execution_count": 30,
   "id": "05762331",
   "metadata": {},
   "outputs": [
    {
     "name": "stdout",
     "output_type": "stream",
     "text": [
      "Source Train: (124810, 14)\n",
      "Target Train: (124810, 14)\n"
     ]
    }
   ],
   "source": [
    "#5) train, validation data 생성   .... train, validation data 생성  # 20%를 평가용\n",
    "\n",
    "from sklearn.model_selection import train_test_split\n",
    "enc_train, enc_val, dec_train, dec_val = train_test_split(src_input, \n",
    "                                                    tgt_input, \n",
    "                                                    test_size=0.2, \n",
    "                                                    random_state=42)\n",
    "print(\"Source Train:\", enc_train.shape)\n",
    "print(\"Target Train:\", dec_train.shape)"
   ]
  },
  {
   "cell_type": "code",
   "execution_count": 31,
   "id": "d5616be2",
   "metadata": {},
   "outputs": [
    {
     "name": "stdout",
     "output_type": "stream",
     "text": [
      "<BatchDataset shapes: ((256, 14), (256, 14)), types: (tf.int32, tf.int32)>\n",
      "<BatchDataset shapes: ((256, 14), (256, 14)), types: (tf.int32, tf.int32)>\n"
     ]
    }
   ],
   "source": [
    "#5) train, validation data 생성   .... train, test data 생성  \n",
    "\n",
    "BUFFER_SIZE = len(src_input)\n",
    "BATCH_SIZE = 256\n",
    "steps_per_epoch = len(src_input) // BATCH_SIZE\n",
    "\n",
    "VOCAB_SIZE = tokenizer.num_words + 1   \n",
    "\n",
    "# train 데이터셋\n",
    "train_dataset = tf.data.Dataset.from_tensor_slices((enc_train, dec_train))\n",
    "train_dataset = train_dataset.shuffle(BUFFER_SIZE)\n",
    "train_dataset = train_dataset.batch(BATCH_SIZE, drop_remainder=True)\n",
    "print(train_dataset)\n",
    "\n",
    "# test 데이터셋\n",
    "test_dataset = tf.data.Dataset.from_tensor_slices((enc_val, dec_val))\n",
    "test_dataset = test_dataset.shuffle(BUFFER_SIZE)\n",
    "test_dataset = test_dataset.batch(BATCH_SIZE, drop_remainder=True)\n",
    "print(test_dataset)"
   ]
  },
  {
   "cell_type": "code",
   "execution_count": 32,
   "id": "a2dd56b8",
   "metadata": {},
   "outputs": [],
   "source": [
    "#6) 모델 생성  \n",
    "\n",
    "class TextGenerator(tf.keras.Model):\n",
    "    def __init__(self, vocab_size, embedding_size, hidden_size):\n",
    "        super().__init__()\n",
    "        \n",
    "        self.embedding = tf.keras.layers.Embedding(vocab_size, embedding_size)\n",
    "        self.rnn_1 = tf.keras.layers.LSTM(hidden_size, return_sequences=True)\n",
    "        self.rnn_2 = tf.keras.layers.LSTM(hidden_size, return_sequences=True)\n",
    "        self.linear = tf.keras.layers.Dense(vocab_size)\n",
    "        \n",
    "    def call(self, x):\n",
    "        out = self.embedding(x)\n",
    "        out = self.rnn_1(out)\n",
    "        out = self.rnn_2(out)\n",
    "        out = self.linear(out)\n",
    "        \n",
    "        return out\n",
    "    \n",
    "embedding_size = 256  # 값이 커질수록 단어의 추상적인 특징들을 더 잡아낼 수 있지만, 데이터 양이 충분해야함\n",
    "hidden_size = 1024   # 모델에 얼마나 많은 일꾼을 둘 것인가, 충분한 데이터가 주어져야 배가 산으로 가지 않음\n",
    "model = TextGenerator(tokenizer.num_words + 1, embedding_size , hidden_size)"
   ]
  },
  {
   "cell_type": "code",
   "execution_count": 33,
   "id": "e1c7ea61",
   "metadata": {},
   "outputs": [
    {
     "data": {
      "text/plain": [
       "<tf.Tensor: shape=(256, 14, 12001), dtype=float32, numpy=\n",
       "array([[[ 5.67365860e-05, -1.27252250e-04, -3.24389002e-05, ...,\n",
       "          2.12889136e-04, -7.92805258e-06, -7.64822616e-05],\n",
       "        [-1.40270986e-05, -3.26252863e-04, -2.55894643e-04, ...,\n",
       "          2.49933742e-04, -6.21656056e-07,  9.87157837e-05],\n",
       "        [-2.98618572e-04, -5.48029901e-04, -3.57290672e-04, ...,\n",
       "          3.57817917e-04,  5.55129118e-05,  1.10784553e-04],\n",
       "        ...,\n",
       "        [ 7.44498611e-05, -1.04797502e-04, -1.32750301e-03, ...,\n",
       "          2.44676624e-03,  8.11436912e-04,  1.79166580e-03],\n",
       "        [ 2.32783816e-04, -7.84087388e-05, -1.36213563e-03, ...,\n",
       "          2.66247313e-03,  9.19811544e-04,  2.22048629e-03],\n",
       "        [ 3.92319926e-04, -6.58578865e-05, -1.35534967e-03, ...,\n",
       "          2.85962713e-03,  1.05168496e-03,  2.62142206e-03]],\n",
       "\n",
       "       [[ 5.67365860e-05, -1.27252250e-04, -3.24389002e-05, ...,\n",
       "          2.12889136e-04, -7.92805258e-06, -7.64822616e-05],\n",
       "        [-4.04487619e-05, -1.83289667e-04,  1.61819771e-04, ...,\n",
       "          2.55498715e-04, -2.76988110e-04,  2.59361695e-04],\n",
       "        [-1.19892051e-04,  3.60376253e-05,  3.10117786e-04, ...,\n",
       "          1.98182403e-04, -3.58232734e-04,  6.60322956e-04],\n",
       "        ...,\n",
       "        [ 3.32317461e-04,  1.19735836e-03, -1.56185462e-03, ...,\n",
       "          2.16616248e-03,  4.20371885e-04,  2.63331877e-03],\n",
       "        [ 4.39796713e-04,  1.08424469e-03, -1.58932700e-03, ...,\n",
       "          2.44081416e-03,  5.79346844e-04,  2.92909448e-03],\n",
       "        [ 5.54425409e-04,  9.63954953e-04, -1.57122151e-03, ...,\n",
       "          2.68213334e-03,  7.49777711e-04,  3.21672158e-03]],\n",
       "\n",
       "       [[ 5.67365860e-05, -1.27252250e-04, -3.24389002e-05, ...,\n",
       "          2.12889136e-04, -7.92805258e-06, -7.64822616e-05],\n",
       "        [ 1.57968534e-04,  8.49431817e-05, -7.27242150e-05, ...,\n",
       "          2.96362326e-04,  1.10038905e-04, -1.24304628e-04],\n",
       "        [ 3.59838392e-04, -3.69745685e-05, -3.44113389e-04, ...,\n",
       "          5.47892356e-04,  2.26607563e-06, -5.82940193e-05],\n",
       "        ...,\n",
       "        [ 6.33445452e-04, -5.55860461e-04, -5.91554330e-04, ...,\n",
       "          1.64965296e-03,  8.66179587e-04,  1.41407119e-03],\n",
       "        [ 6.12023403e-04, -5.22597344e-04, -7.66751822e-04, ...,\n",
       "          1.96846854e-03,  8.33773869e-04,  1.79601565e-03],\n",
       "        [ 6.10597956e-04, -4.98685287e-04, -9.03179112e-04, ...,\n",
       "          2.26546288e-03,  8.45623494e-04,  2.16987287e-03]],\n",
       "\n",
       "       ...,\n",
       "\n",
       "       [[ 5.67365860e-05, -1.27252250e-04, -3.24389002e-05, ...,\n",
       "          2.12889136e-04, -7.92805258e-06, -7.64822616e-05],\n",
       "        [ 2.41008835e-04, -3.45123350e-04, -3.10422503e-04, ...,\n",
       "          5.79003652e-04, -1.96037377e-04,  9.02625345e-07],\n",
       "        [ 3.09301453e-04, -5.71319310e-04, -1.46364648e-04, ...,\n",
       "          8.08420766e-04, -6.84776984e-04, -3.71990696e-04],\n",
       "        ...,\n",
       "        [ 1.60537765e-03, -1.13861321e-03,  1.31021588e-04, ...,\n",
       "          3.06625356e-04, -4.19022370e-04,  1.03200444e-04],\n",
       "        [ 1.96624896e-03, -1.01967691e-03,  1.09474538e-04, ...,\n",
       "         -6.53448369e-05, -4.01390826e-05,  1.54208203e-04],\n",
       "        [ 2.25961814e-03, -6.67899440e-04,  1.47322149e-04, ...,\n",
       "         -2.31623053e-04,  5.43177186e-04,  1.79339972e-04]],\n",
       "\n",
       "       [[ 5.67365860e-05, -1.27252250e-04, -3.24389002e-05, ...,\n",
       "          2.12889136e-04, -7.92805258e-06, -7.64822616e-05],\n",
       "        [ 7.43919882e-05, -1.97108049e-04, -2.96964776e-04, ...,\n",
       "          3.10738804e-04,  9.90477383e-06,  2.47795891e-04],\n",
       "        [-5.94092235e-05, -3.28922732e-04, -3.07404407e-04, ...,\n",
       "          3.31159041e-04, -2.36209584e-04,  4.73612832e-04],\n",
       "        ...,\n",
       "        [ 2.31799931e-04,  3.95136914e-04, -8.17052380e-04, ...,\n",
       "          1.86241244e-03, -2.55739142e-04,  1.81261450e-03],\n",
       "        [ 3.24064313e-04,  3.73543036e-04, -9.67775530e-04, ...,\n",
       "          2.13567773e-03, -4.64397599e-05,  2.20966153e-03],\n",
       "        [ 4.32389788e-04,  3.41230974e-04, -1.06994540e-03, ...,\n",
       "          2.38997745e-03,  1.83071796e-04,  2.58950144e-03]],\n",
       "\n",
       "       [[ 5.67365860e-05, -1.27252250e-04, -3.24389002e-05, ...,\n",
       "          2.12889136e-04, -7.92805258e-06, -7.64822616e-05],\n",
       "        [-1.93778411e-04, -2.43160484e-05, -1.60988813e-04, ...,\n",
       "          2.11492981e-04, -1.46147097e-04, -4.55596819e-05],\n",
       "        [-4.54341411e-04, -5.19080240e-05, -3.60548671e-04, ...,\n",
       "          3.48831993e-04, -2.56164756e-04, -1.45269703e-04],\n",
       "        ...,\n",
       "        [-4.31043678e-04,  2.64593022e-04, -9.12522490e-04, ...,\n",
       "          4.52777982e-04,  2.89916963e-04,  1.26229983e-03],\n",
       "        [-2.64321978e-04,  2.48524128e-04, -1.05476193e-03, ...,\n",
       "          8.16225191e-04,  3.47383990e-04,  1.69639720e-03],\n",
       "        [-9.31674658e-05,  2.23392752e-04, -1.14839210e-03, ...,\n",
       "          1.17533398e-03,  4.46627440e-04,  2.11845152e-03]]],\n",
       "      dtype=float32)>"
      ]
     },
     "execution_count": 33,
     "metadata": {},
     "output_type": "execute_result"
    }
   ],
   "source": [
    "#6) 모델 생성  ... 모델 생성  test\n",
    "for src_sample, tgt_sample in train_dataset.take(1): break\n",
    "\n",
    "# 한 배치만 불러온 데이터를 모델에 넣어봅니다\n",
    "model(src_sample)"
   ]
  },
  {
   "cell_type": "code",
   "execution_count": 34,
   "id": "6c3fc5ad",
   "metadata": {},
   "outputs": [
    {
     "name": "stdout",
     "output_type": "stream",
     "text": [
      "Model: \"text_generator_1\"\n",
      "_________________________________________________________________\n",
      "Layer (type)                 Output Shape              Param #   \n",
      "=================================================================\n",
      "embedding_1 (Embedding)      multiple                  3072256   \n",
      "_________________________________________________________________\n",
      "lstm_2 (LSTM)                multiple                  5246976   \n",
      "_________________________________________________________________\n",
      "lstm_3 (LSTM)                multiple                  8392704   \n",
      "_________________________________________________________________\n",
      "dense_1 (Dense)              multiple                  12301025  \n",
      "=================================================================\n",
      "Total params: 29,012,961\n",
      "Trainable params: 29,012,961\n",
      "Non-trainable params: 0\n",
      "_________________________________________________________________\n"
     ]
    }
   ],
   "source": [
    "#6) 모델 생성  ...    모델 확인 \n",
    "model.summary()"
   ]
  },
  {
   "cell_type": "code",
   "execution_count": 40,
   "id": "4ec03006",
   "metadata": {},
   "outputs": [
    {
     "name": "stdout",
     "output_type": "stream",
     "text": [
      "Epoch 1/20\n",
      "487/487 [==============================] - 100s 201ms/step - loss: 2.5843 - accuracy: 0.5530 - val_loss: 2.6834 - val_accuracy: 0.5505\n",
      "Epoch 2/20\n",
      "487/487 [==============================] - 97s 200ms/step - loss: 2.4424 - accuracy: 0.5617 - val_loss: 2.6414 - val_accuracy: 0.5574\n",
      "Epoch 3/20\n",
      "487/487 [==============================] - 97s 199ms/step - loss: 2.3323 - accuracy: 0.5718 - val_loss: 2.6081 - val_accuracy: 0.5640\n",
      "Epoch 4/20\n",
      "487/487 [==============================] - 97s 199ms/step - loss: 2.2293 - accuracy: 0.5830 - val_loss: 2.5811 - val_accuracy: 0.5713\n",
      "Epoch 5/20\n",
      "487/487 [==============================] - 97s 198ms/step - loss: 2.1332 - accuracy: 0.5948 - val_loss: 2.5624 - val_accuracy: 0.5781\n",
      "Epoch 6/20\n",
      "487/487 [==============================] - 97s 199ms/step - loss: 2.0432 - accuracy: 0.6070 - val_loss: 2.5469 - val_accuracy: 0.5840\n",
      "Epoch 7/20\n",
      "487/487 [==============================] - 97s 198ms/step - loss: 1.9593 - accuracy: 0.6190 - val_loss: 2.5284 - val_accuracy: 0.5902\n",
      "Epoch 8/20\n",
      "487/487 [==============================] - 97s 198ms/step - loss: 1.8814 - accuracy: 0.6312 - val_loss: 2.5127 - val_accuracy: 0.5963\n",
      "Epoch 9/20\n",
      "487/487 [==============================] - 96s 198ms/step - loss: 1.8086 - accuracy: 0.6431 - val_loss: 2.5074 - val_accuracy: 0.6013\n",
      "Epoch 10/20\n",
      "487/487 [==============================] - 96s 198ms/step - loss: 1.7396 - accuracy: 0.6549 - val_loss: 2.5018 - val_accuracy: 0.6066\n",
      "Epoch 11/20\n",
      "487/487 [==============================] - 96s 198ms/step - loss: 1.6745 - accuracy: 0.6669 - val_loss: 2.4953 - val_accuracy: 0.6117\n",
      "Epoch 12/20\n",
      "487/487 [==============================] - 96s 198ms/step - loss: 1.6126 - accuracy: 0.6785 - val_loss: 2.4909 - val_accuracy: 0.6162\n",
      "Epoch 13/20\n",
      "487/487 [==============================] - 97s 198ms/step - loss: 1.5535 - accuracy: 0.6899 - val_loss: 2.4959 - val_accuracy: 0.6205\n",
      "Epoch 14/20\n",
      "487/487 [==============================] - 97s 198ms/step - loss: 1.4975 - accuracy: 0.7012 - val_loss: 2.4924 - val_accuracy: 0.6239\n",
      "Epoch 15/20\n",
      "487/487 [==============================] - 97s 198ms/step - loss: 1.4446 - accuracy: 0.7116 - val_loss: 2.4935 - val_accuracy: 0.6287\n",
      "Epoch 16/20\n",
      "487/487 [==============================] - 96s 198ms/step - loss: 1.3947 - accuracy: 0.7220 - val_loss: 2.5023 - val_accuracy: 0.6318\n",
      "Epoch 17/20\n",
      "487/487 [==============================] - 96s 198ms/step - loss: 1.3478 - accuracy: 0.7317 - val_loss: 2.5057 - val_accuracy: 0.6356\n",
      "Epoch 18/20\n",
      "487/487 [==============================] - 96s 198ms/step - loss: 1.3028 - accuracy: 0.7410 - val_loss: 2.5166 - val_accuracy: 0.6390\n",
      "Epoch 19/20\n",
      "487/487 [==============================] - 97s 198ms/step - loss: 1.2617 - accuracy: 0.7497 - val_loss: 2.5281 - val_accuracy: 0.6425\n",
      "Epoch 20/20\n",
      "487/487 [==============================] - 97s 198ms/step - loss: 1.2231 - accuracy: 0.7578 - val_loss: 2.5395 - val_accuracy: 0.6457\n"
     ]
    }
   ],
   "source": [
    "#6) 모델 생성   .. 모델 학습\n",
    "optimizer = tf.keras.optimizers.Adam()\n",
    "\n",
    "#Loss\n",
    "loss = tf.keras.losses.SparseCategoricalCrossentropy(\n",
    "    from_logits=True,\n",
    "    reduction='none'\n",
    ")\n",
    "\n",
    "# 모델 compile  \n",
    "model.compile(loss=loss, \n",
    "                     optimizer=optimizer, \n",
    "                     metrics=['accuracy']) \n",
    "\n",
    "# 모델 fit  \n",
    "model_history = model.fit(train_dataset, \n",
    "                                  validation_data=test_dataset, # 평가 데이터\n",
    "                                  epochs=20)"
   ]
  },
  {
   "cell_type": "code",
   "execution_count": 41,
   "id": "8cc82449",
   "metadata": {},
   "outputs": [],
   "source": [
    "#7) 모델 검증  \n",
    "def generate_text(lyricist, tokenizer, init_sentence=\"<start>\", max_len=20):\n",
    "    # 테스트를 위해서 입력받은 init_sentence도 텐서로 변환합니다\n",
    "    test_input = tokenizer.texts_to_sequences([init_sentence])\n",
    "    test_tensor = tf.convert_to_tensor(test_input, dtype=tf.int64)\n",
    "    end_token = tokenizer.word_index[\"<end>\"]\n",
    "\n",
    "    # 단어 하나씩 예측해 문장을 만듭니다\n",
    "    #    1. 입력받은 문장의 텐서를 입력합니다\n",
    "    #    2. 예측된 값 중 가장 높은 확률인 word index를 뽑아냅니다\n",
    "    #    3. 2에서 예측된 word index를 문장 뒤에 붙입니다\n",
    "    #    4. 모델이 <end>를 예측했거나, max_len에 도달했다면 문장 생성을 마칩니다\n",
    "    while True:\n",
    "        # 1\n",
    "        predict = model(test_tensor) \n",
    "        # 2\n",
    "        predict_word = tf.argmax(tf.nn.softmax(predict, axis=-1), axis=-1)[:, -1] \n",
    "        # 3 \n",
    "        test_tensor = tf.concat([test_tensor, tf.expand_dims(predict_word, axis=0)], axis=-1)\n",
    "        # 4\n",
    "        if predict_word.numpy()[0] == end_token: break\n",
    "        if test_tensor.shape[1] >= max_len: break\n",
    "\n",
    "    generated = \"\"\n",
    "    # tokenizer를 이용해 word index를 단어로 하나씩 변환합니다 \n",
    "    for word_index in test_tensor[0].numpy():\n",
    "        generated += tokenizer.index_word[word_index] + \" \"\n",
    "\n",
    "    return generated"
   ]
  },
  {
   "cell_type": "code",
   "execution_count": 49,
   "id": "b76a79c2",
   "metadata": {},
   "outputs": [
    {
     "data": {
      "text/plain": [
       "'<start> that s how long i been on ya <end> '"
      ]
     },
     "execution_count": 49,
     "metadata": {},
     "output_type": "execute_result"
    }
   ],
   "source": [
    "#7) 모델 검증 \n",
    "generate_text(model, tokenizer, init_sentence=\"<start> that \", max_len=20)"
   ]
  },
  {
   "cell_type": "code",
   "execution_count": null,
   "id": "6cc78e5d",
   "metadata": {},
   "outputs": [],
   "source": []
  }
 ],
 "metadata": {
  "kernelspec": {
   "display_name": "Python 3 (ipykernel)",
   "language": "python",
   "name": "python3"
  },
  "language_info": {
   "codemirror_mode": {
    "name": "ipython",
    "version": 3
   },
   "file_extension": ".py",
   "mimetype": "text/x-python",
   "name": "python",
   "nbconvert_exporter": "python",
   "pygments_lexer": "ipython3",
   "version": "3.9.7"
  }
 },
 "nbformat": 4,
 "nbformat_minor": 5
}
