{
 "cells": [
  {
   "cell_type": "code",
   "execution_count": 1,
   "id": "1ce0cea5",
   "metadata": {},
   "outputs": [
    {
     "name": "stdout",
     "output_type": "stream",
     "text": [
      "20\n",
      "20\n"
     ]
    }
   ],
   "source": [
    "#33.1.1  함수 안에서 전역 변수 변경하기\n",
    "# 전역 변수 x가 없는 상태\n",
    "def foo():\n",
    "    global x    # x를 전역 변수로 만듦\n",
    "    x = 20      # x는 전역 변수\n",
    "    print(x)    # 전역 변수 출력\n",
    "\n",
    "foo()\n",
    "print(x)        # 전역 변수 출력"
   ]
  },
  {
   "cell_type": "code",
   "execution_count": 2,
   "id": "8d0d2d65",
   "metadata": {},
   "outputs": [
    {
     "name": "stdout",
     "output_type": "stream",
     "text": [
      "{'x': 10}\n"
     ]
    }
   ],
   "source": [
    "#네임스페이스 .. 함수 안에서 locals를 사용\n",
    "def foo():\n",
    "    x = 10\n",
    "    print(locals())   #locals()\n",
    "\n",
    "foo()\n",
    "\n",
    "\n",
    "\n",
    "#locals()\n"
   ]
  },
  {
   "cell_type": "code",
   "execution_count": 3,
   "id": "a3c1289c",
   "metadata": {},
   "outputs": [
    {
     "name": "stdout",
     "output_type": "stream",
     "text": [
      "Hello, world!\n"
     ]
    }
   ],
   "source": [
    "#33.2 함수 안에서 함수 만들기\n",
    "# 실제로 동작하려면 바깥쪽에 있는 print_hello를 호출\n",
    "# print_hello > print_message 순으로 실행\n",
    "def print_hello():\n",
    "    hello = 'Hello, world!'\n",
    "    def print_message():\n",
    "        print(hello)\n",
    "    print_message()\n",
    "\n",
    "print_hello()"
   ]
  },
  {
   "cell_type": "code",
   "execution_count": 4,
   "id": "612d3d42",
   "metadata": {},
   "outputs": [
    {
     "name": "stdout",
     "output_type": "stream",
     "text": [
      "20\n"
     ]
    }
   ],
   "source": [
    "#33.2.2  지역 변수 변경하기\n",
    "#지역 변수의 값을 변경하려면 nonlocal 키워드를 사용\n",
    "def A():\n",
    "    x = 10        # A의 지역 변수 x\n",
    "    def B():\n",
    "        nonlocal x    # 현재 함수의 바깥쪽에 있는 지역 변수 사용   암기 ------------------------\n",
    "        x = 20        # A의 지역 변수 x에 20 할당\n",
    "    B()\n",
    "    print(x)      # A의 지역 변수 x 출력\n",
    "A()"
   ]
  },
  {
   "cell_type": "code",
   "execution_count": 15,
   "id": "d69bf485",
   "metadata": {},
   "outputs": [
    {
     "name": "stdout",
     "output_type": "stream",
     "text": [
      "50\n",
      "400\n"
     ]
    }
   ],
   "source": [
    "#33.2.3  nonlocal이 변수를 찾는 순서\n",
    "def A():\n",
    "    x = 10\n",
    "    y = 100\n",
    "    def B():\n",
    "        x = 20\n",
    "        def C():\n",
    "            nonlocal x\n",
    "            nonlocal y\n",
    "            x = x + 30\n",
    "            y = y + 300\n",
    "            print(x)\n",
    "            print(y)\n",
    "        C()                   #호출 헤야만 되나?\n",
    "    B()\n",
    "\n",
    "A()"
   ]
  },
  {
   "cell_type": "code",
   "execution_count": 16,
   "id": "76e509fc",
   "metadata": {},
   "outputs": [
    {
     "name": "stdout",
     "output_type": "stream",
     "text": [
      "31\n"
     ]
    }
   ],
   "source": [
    "#33.2.4  global로 전역 변수 사용하기\n",
    "#특히, 함수가 몇 단계든 상관없이 global 키워드를 사용하면 무조건 전역 변수를 사용하게 됩니다.\n",
    "#전역 변수는 가급적이면 사용하지 않는 것을 권장합니다. 암기---------------------------------------\n",
    "x = 1\n",
    "def A():\n",
    "    x = 10\n",
    "    def B():\n",
    "        x = 20\n",
    "        def C():\n",
    "            global x\n",
    "            x = x + 30\n",
    "            print(x)\n",
    "        C()\n",
    "    B()\n",
    "\n",
    "A()"
   ]
  },
  {
   "cell_type": "code",
   "execution_count": 8,
   "id": "eb9a5e68",
   "metadata": {},
   "outputs": [
    {
     "name": "stdout",
     "output_type": "stream",
     "text": [
      "8 11 14 17 20\n"
     ]
    }
   ],
   "source": [
    "#클로져\n",
    "def calc():\n",
    "    a = 3\n",
    "    b = 5\n",
    "    def mul_add(x):\n",
    "        return a * x + b    # 함수 바깥쪽에 있는 지역 변수 a, b를 사용하여 계산\n",
    "    return mul_add          # mul_add 함수를 반환\n",
    " \n",
    "c = calc()\n",
    "print(c(1), c(2), c(3), c(4), c(5))"
   ]
  },
  {
   "cell_type": "code",
   "execution_count": 9,
   "id": "cd2738bc",
   "metadata": {},
   "outputs": [
    {
     "name": "stdout",
     "output_type": "stream",
     "text": [
      "8\n",
      "19\n",
      "33\n"
     ]
    }
   ],
   "source": [
    "#클로져 지연변수 변경\n",
    "def calc():\n",
    "    a = 3\n",
    "    b = 5\n",
    "    total = 0\n",
    "    def mul_add(x):\n",
    "        nonlocal total\n",
    "        total = total + a * x + b\n",
    "        print(total)\n",
    "    return mul_add\n",
    " \n",
    "c = calc()\n",
    "c(1)\n",
    "c(2)\n",
    "c(3)"
   ]
  },
  {
   "cell_type": "code",
   "execution_count": 12,
   "id": "19b41b4e",
   "metadata": {},
   "outputs": [
    {
     "name": "stdout",
     "output_type": "stream",
     "text": [
      "1 2 3 4 5 6 7 8 9 10 "
     ]
    }
   ],
   "source": [
    "#/ ►33.5 연습문제: 호출 횟수를 세는 함수 만들기\n",
    "def counter():\n",
    "    i = 0\n",
    "    def count():\n",
    "        nonlocal i\n",
    "        i += 1\n",
    "        return i\n",
    "    return count          \n",
    "            \n",
    "\n",
    "c = counter()\n",
    "for i in range(10):\n",
    "    print(c(), end=' ')"
   ]
  },
  {
   "cell_type": "code",
   "execution_count": 17,
   "id": "87e84290",
   "metadata": {},
   "outputs": [
    {
     "name": "stdout",
     "output_type": "stream",
     "text": [
      "5\n",
      "4 3 2 1 0 "
     ]
    }
   ],
   "source": [
    "# / ►33.6 심사문제: 카운트다운 함수 만들기\n",
    "def countdown(n):\n",
    "    i = n\n",
    "    def count():\n",
    "        nonlocal i\n",
    "        i -= 1\n",
    "        return i\n",
    "    return count\n",
    "\n",
    "\n",
    "n = int(input())\n",
    " \n",
    "c = countdown(n)\n",
    "for i in range(n):\n",
    "    print(c(), end=' ')"
   ]
  },
  {
   "cell_type": "code",
   "execution_count": null,
   "id": "6e83e40a",
   "metadata": {},
   "outputs": [],
   "source": []
  }
 ],
 "metadata": {
  "kernelspec": {
   "display_name": "Python 3 (ipykernel)",
   "language": "python",
   "name": "python3"
  },
  "language_info": {
   "codemirror_mode": {
    "name": "ipython",
    "version": 3
   },
   "file_extension": ".py",
   "mimetype": "text/x-python",
   "name": "python",
   "nbconvert_exporter": "python",
   "pygments_lexer": "ipython3",
   "version": "3.9.7"
  }
 },
 "nbformat": 4,
 "nbformat_minor": 5
}
