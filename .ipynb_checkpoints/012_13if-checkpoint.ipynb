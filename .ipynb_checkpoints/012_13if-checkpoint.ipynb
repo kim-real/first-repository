{
 "cells": [
  {
   "cell_type": "code",
   "execution_count": null,
   "id": "62b382dd",
   "metadata": {},
   "outputs": [],
   "source": []
  },
  {
   "cell_type": "code",
   "execution_count": null,
   "id": "4b800381",
   "metadata": {},
   "outputs": [],
   "source": [
    "#"
   ]
  },
  {
   "cell_type": "code",
   "execution_count": null,
   "id": "571d31e5",
   "metadata": {},
   "outputs": [],
   "source": [
    "age = int(input())\n",
    "\n",
    "balance = 9000    \n",
    "if 0< age < 7:\n",
    "    balance -= 0\n",
    "elif 7<= age <= 12:\n",
    "    balance -= 650\n",
    "elif 13<= age <= 18:\n",
    "    balance -= 1050\n",
    "elif age >= 19:\n",
    "    balance -= 1250\n",
    "else:\n",
    "    print('나이오류')\n",
    "\n",
    "print(balance)"
   ]
  },
  {
   "cell_type": "code",
   "execution_count": null,
   "id": "d86af627",
   "metadata": {},
   "outputs": [],
   "source": [
    "a=tuple()\n",
    "b=list()\n",
    "c=dict()\n",
    "\n",
    "if a:\n",
    "    print('참')    \n",
    "else:\n",
    "    print('거짓')\n",
    "\n",
    "if b:\n",
    "    print('참')\n",
    "else:\n",
    "    print('거짓')    \n",
    " \n",
    "if c:\n",
    "    print('참')\n",
    "else:\n",
    "    print('거짓')"
   ]
  },
  {
   "cell_type": "code",
   "execution_count": null,
   "id": "187920e4",
   "metadata": {},
   "outputs": [],
   "source": [
    "a=tuple()\n",
    "b=tuple()\n",
    "c=dict()\n",
    "\n",
    "if a==b:\n",
    "    print('참')    \n",
    "else:\n",
    "    print('거짓')\n",
    "\n",
    "if b:\n",
    "    print('참')\n",
    "else:\n",
    "    print('거짓')    \n",
    " \n",
    "if c:\n",
    "    print('참')\n",
    "else:\n",
    "    print('거짓') "
   ]
  },
  {
   "cell_type": "code",
   "execution_count": null,
   "id": "ceede681",
   "metadata": {},
   "outputs": [],
   "source": [
    "age = int(input())\n",
    "\n",
    "balance = 9000    \n",
    "if 0< age < 7:\n",
    "    balance -= 0\n",
    "elif 7<= age <= 12:\n",
    "    balance -= 650\n",
    "elif 13<= age <= 18:\n",
    "    balance -= 1050\n",
    "else:\n",
    "    balance -= 1250\n",
    "\n",
    "print(balance)"
   ]
  },
  {
   "cell_type": "code",
   "execution_count": null,
   "id": "75727e12",
   "metadata": {},
   "outputs": [],
   "source": [
    "age = int(input())\n",
    "\n",
    "balance = 9000    \n",
    "if 0< age < 7:\n",
    "    balance -= 0\n",
    "elif 7<= age <= 12:\n",
    "    balance -= 650\n",
    "elif 13<= age <= 18:\n",
    "    balance -= 1050\n",
    "else:\n",
    "    balance -= 1250\n",
    "\n",
    "print(balance)"
   ]
  },
  {
   "cell_type": "code",
   "execution_count": null,
   "id": "a8362ca2",
   "metadata": {},
   "outputs": [],
   "source": [
    "for i in range(3):\n",
    "    print('Hello, world!', i)"
   ]
  },
  {
   "cell_type": "code",
   "execution_count": null,
   "id": "8068d10d",
   "metadata": {},
   "outputs": [],
   "source": []
  }
 ],
 "metadata": {
  "kernelspec": {
   "display_name": "Python 3 (ipykernel)",
   "language": "python",
   "name": "python3"
  },
  "language_info": {
   "codemirror_mode": {
    "name": "ipython",
    "version": 3
   },
   "file_extension": ".py",
   "mimetype": "text/x-python",
   "name": "python",
   "nbconvert_exporter": "python",
   "pygments_lexer": "ipython3",
   "version": "3.9.7"
  },
  "widgets": {
   "application/vnd.jupyter.widget-state+json": {
    "state": {},
    "version_major": 2,
    "version_minor": 0
   }
  }
 },
 "nbformat": 4,
 "nbformat_minor": 5
}
