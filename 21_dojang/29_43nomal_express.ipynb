{
 "cells": [
  {
   "cell_type": "code",
   "execution_count": 3,
   "id": "9da5bd2e",
   "metadata": {},
   "outputs": [
    {
     "data": {
      "text/plain": [
       "<re.Match object; span=(0, 5), match='Hello'>"
      ]
     },
     "execution_count": 3,
     "metadata": {},
     "output_type": "execute_result"
    }
   ],
   "source": [
    "#문자열 판단 'Hello, world!'.find('Hello') 대체\n",
    "#특정한 규칙으로 된 문자열을 검색한 뒤 추출하거나 바꿀 때 사용\n",
    "#문자열이 정해진 규칙에 맞는지 판단\n",
    "import re\n",
    "re.match('Hello', 'Hello, world!')     # 문자열이 있으므로 정규표현식 매치 객체가 반환됨\n",
    "#re.match('Python', 'Hello, world!')    # 문자열이 없으므로 아무것도 반환되지 않음"
   ]
  },
  {
   "cell_type": "code",
   "execution_count": 5,
   "id": "91147ba3",
   "metadata": {},
   "outputs": [
    {
     "data": {
      "text/plain": [
       "<re.Match object; span=(0, 5), match='Hello'>"
      ]
     },
     "execution_count": 5,
     "metadata": {},
     "output_type": "execute_result"
    }
   ],
   "source": [
    "#43.1.1  문자열이 맨 앞에 오는지 맨 뒤에 오는지 판단하기\n",
    "re.search('^Hello', 'Hello, world!')     # Hello로 시작하므로 패턴에 매칭됨\n",
    "#re.search('world!$', 'Hello, world!')    # world!로 끝나므로 패턴에 매칭됨\n"
   ]
  },
  {
   "cell_type": "code",
   "execution_count": 6,
   "id": "f20c0341",
   "metadata": {},
   "outputs": [
    {
     "data": {
      "text/plain": [
       "<re.Match object; span=(0, 5), match='hello'>"
      ]
     },
     "execution_count": 6,
     "metadata": {},
     "output_type": "execute_result"
    }
   ],
   "source": [
    "#43.1.2  지정된 문자열이 하나라도 포함되는지 판단하기>>> \n",
    "re.match('hello|world', 'hello')    # hello 또는 world가 있으므로 패턴에 매칭됨\n"
   ]
  },
  {
   "cell_type": "code",
   "execution_count": 9,
   "id": "6897128c",
   "metadata": {},
   "outputs": [
    {
     "data": {
      "text/plain": [
       "<re.Match object; span=(0, 4), match='1234'>"
      ]
     },
     "execution_count": 9,
     "metadata": {},
     "output_type": "execute_result"
    }
   ],
   "source": [
    "#43.2 범위 판단하기\n",
    "re.match('[0-9]*', '1234')    # 1234는 0부터 9까지 숫자가 0개 이상 있으므로 패턴에 매칭됨\n",
    "#re.match('[0-9]+', '1234')    # 1234는 0부터 9까지 숫자가 1개 이상 있으므로 패턴에 매칭됨\n",
    "\n",
    "#re.match('[0-9]+', 'abcd')    # abcd는 0부터 9까지 숫자가 1개 이상 없으므로 패턴에 매칭되지 않음"
   ]
  },
  {
   "cell_type": "code",
   "execution_count": 15,
   "id": "9c728aca",
   "metadata": {},
   "outputs": [
    {
     "data": {
      "text/plain": [
       "<re.Match object; span=(0, 3), match='aab'>"
      ]
     },
     "execution_count": 15,
     "metadata": {},
     "output_type": "execute_result"
    }
   ],
   "source": [
    "#re.match('a*b', 'b')      # b에는 a가 0개 이상 있으므로 패턴에 매칭됨\n",
    "#re.match('a+b', 'b')      # b에는 a가 1개 이상 없으므로 패턴에 매칭되지 않음\n",
    "#re.match('a*b', 'aab')    # aab에는 a가 0개 이상 있으므로 패턴에 매칭됨\n",
    "re.match('a+b', 'aab')    # aab에는 a가 1개 이상 있으므로 패턴에 매칭됨"
   ]
  },
  {
   "cell_type": "code",
   "execution_count": 19,
   "id": "de12e970",
   "metadata": {},
   "outputs": [
    {
     "data": {
      "text/plain": [
       "<re.Match object; span=(0, 4), match='abxd'>"
      ]
     },
     "execution_count": 19,
     "metadata": {},
     "output_type": "execute_result"
    }
   ],
   "source": [
    "#43.2.1  문자가 한 개만 있는지 판단하기\n",
    "#re.match('abc?d', 'abd')         # abd에서 c 위치에 c가 0개 있으므로 패턴에 매칭됨\n",
    "#re.match('ab[0-9]?c', 'ab3c')    # [0-9] 위치에 숫자가 1개 있으므로 패턴에 매칭됨\n",
    "re.match('ab.d', 'abxd')         # .이 있는 위치에 문자가 1개 있으므로 패턴에 매칭됨"
   ]
  },
  {
   "cell_type": "code",
   "execution_count": 23,
   "id": "f106b98f",
   "metadata": {},
   "outputs": [],
   "source": [
    "#43.2.2  문자 개수 판단하기\n",
    "#re.match('h{3}', 'hhhello')\n",
    "re.match('h{3}', 'hellohhhhhhhh')\n",
    "#re.match('(hello){3}', 'hellohellohelloworld')"
   ]
  },
  {
   "cell_type": "code",
   "execution_count": 24,
   "id": "117ebe14",
   "metadata": {},
   "outputs": [
    {
     "data": {
      "text/plain": [
       "<re.Match object; span=(0, 13), match='010-1000-1000'>"
      ]
     },
     "execution_count": 24,
     "metadata": {},
     "output_type": "execute_result"
    }
   ],
   "source": [
    "#휴대폰 형식\n",
    "re.match('[0-9]{3}-[0-9]{4}-[0-9]{4}', '010-1000-1000')    # 숫자 3개-4개-4개 패턴에 매칭됨\n",
    "#re.match('[0-9]{3}-[0-9]{4}-[0-9]{4}', '010-1000-100')   # 숫자 3개-4개-4개 패턴에 매칭되지 않음"
   ]
  },
  {
   "cell_type": "code",
   "execution_count": 25,
   "id": "7cfaa635",
   "metadata": {},
   "outputs": [
    {
     "data": {
      "text/plain": [
       "<re.Match object; span=(0, 11), match='02-100-1000'>"
      ]
     },
     "execution_count": 25,
     "metadata": {},
     "output_type": "execute_result"
    }
   ],
   "source": [
    "#일반전화\n",
    "re.match('[0-9]{2,3}-[0-9]{3,4}-[0-9]{4}', '02-100-1000')    # 2~3개-3~4개-4개 패턴에 매칭됨\n",
    "#re.match('[0-9]{2,3}-[0-9]{3,4}-[0-9]{4}', '02-10-1000')  # 2~3개-3~4개-4개 패턴에 매칭되지 않음"
   ]
  },
  {
   "cell_type": "code",
   "execution_count": 27,
   "id": "f5ff2f9d",
   "metadata": {},
   "outputs": [
    {
     "data": {
      "text/plain": [
       "<re.Match object; span=(0, 9), match='Hello1234'>"
      ]
     },
     "execution_count": 27,
     "metadata": {},
     "output_type": "execute_result"
    }
   ],
   "source": [
    "#43.2.3  숫자와 영문 문자를 조합해서 판단하기\n",
    "re.match('[a-zA-Z0-9]+', 'Hello1234')    # a부터 z, A부터 Z, 0부터 9까지 1개 이상 있으므로\n",
    "#re.match('[A-Z0-9]+', 'hello')    # 대문자, 숫자는 없고 소문자만 있으므로 패턴에 매칭되지 않음"
   ]
  },
  {
   "cell_type": "code",
   "execution_count": 28,
   "id": "54b75d50",
   "metadata": {},
   "outputs": [
    {
     "data": {
      "text/plain": [
       "<re.Match object; span=(0, 3), match='홍길동'>"
      ]
     },
     "execution_count": 28,
     "metadata": {},
     "output_type": "execute_result"
    }
   ],
   "source": [
    "re.match('[가-힣]+', '홍길동')    # 가부터 힣까지 1개 이상 있으므로 패턴에 매칭됨\n"
   ]
  },
  {
   "cell_type": "code",
   "execution_count": 32,
   "id": "6fc7a42d",
   "metadata": {},
   "outputs": [
    {
     "data": {
      "text/plain": [
       "<re.Match object; span=(0, 5), match='hello'>"
      ]
     },
     "execution_count": 32,
     "metadata": {},
     "output_type": "execute_result"
    }
   ],
   "source": [
    "#43.2.4  특정 문자 범위에 포함되지 않는지 판단하기\n",
    "#re.match('[^A-Z]+', 'Hello')    # 대문자를 제외. 대문자가 있으므로 패턴에 매칭되지 않음\n",
    "\n",
    "re.match('[^A-Z]+', 'hello')    # 대문자를 제외. 대문자가 없으므로 패턴에 매칭됨\n"
   ]
  },
  {
   "cell_type": "code",
   "execution_count": 33,
   "id": "69668a05",
   "metadata": {},
   "outputs": [
    {
     "data": {
      "text/plain": [
       "<re.Match object; span=(5, 9), match='1234'>"
      ]
     },
     "execution_count": 33,
     "metadata": {},
     "output_type": "execute_result"
    }
   ],
   "source": [
    "re.search('[0-9]+$', 'Hello1234')    # 숫자로 끝나므로 패턴에 매칭됨\n"
   ]
  },
  {
   "cell_type": "code",
   "execution_count": 35,
   "id": "855363cf",
   "metadata": {},
   "outputs": [
    {
     "data": {
      "text/plain": [
       "<re.Match object; span=(0, 11), match='$(document)'>"
      ]
     },
     "execution_count": 35,
     "metadata": {},
     "output_type": "execute_result"
    }
   ],
   "source": [
    "#43.2.5  특수 문자 판단하기\n",
    "#re.search('\\*+', '1 ** 2')                    # *이 들어있는지 판단\n",
    "re.match('[$()a-zA-Z0-9]+', '$(document)')    # $, (, )와 문자, 숫자가 들어있는지 판단\n"
   ]
  },
  {
   "cell_type": "code",
   "execution_count": 37,
   "id": "016c3134",
   "metadata": {},
   "outputs": [
    {
     "data": {
      "text/plain": [
       "<re.Match object; span=(0, 5), match='Hello'>"
      ]
     },
     "execution_count": 37,
     "metadata": {},
     "output_type": "execute_result"
    }
   ],
   "source": [
    "#re.match('\\d+', '1234')          # 모든 숫자이므로 패턴에 매칭됨\n",
    "re.match('\\D+', 'Hello')         # 숫자를 제외한 모든 문자이므로 패턴에 매칭됨\n",
    "#re.match('\\w+', 'Hello_1234')    # 영문 대소문자, 숫자, 밑줄 문자이므로 패턴에 매칭됨\n",
    "#re.match('\\W+', '(:)')    # 영문 대소문자, 숫자, 밑줄문자를 제외한 모든 문자이므로 패턴에 매칭됨\n"
   ]
  },
  {
   "cell_type": "code",
   "execution_count": 38,
   "id": "b4264f34",
   "metadata": {},
   "outputs": [
    {
     "data": {
      "text/plain": [
       "<re.Match object; span=(0, 10), match='Hello 1234'>"
      ]
     },
     "execution_count": 38,
     "metadata": {},
     "output_type": "execute_result"
    }
   ],
   "source": [
    "#43.2.6  공백 처리하기\n",
    "re.match('[a-zA-Z0-9 ]+', 'Hello 1234')     # ' '로 공백 표현\n",
    "#re.match('[a-zA-Z0-9\\s]+', 'Hello 1234')    # \\s로 공백 표현\n"
   ]
  },
  {
   "cell_type": "code",
   "execution_count": 40,
   "id": "96e21a4a",
   "metadata": {},
   "outputs": [],
   "source": [
    "#같은 정규표현식 패턴을 자주 사용할 때\n",
    "p = re.compile('[0-9]+')    # 정규표현식 패턴을 객체로 만듦\n",
    "#p.match('1234')             # 정규표현식 패턴 객체에서 match 메서드 사용\n",
    "p.search('hello')           # 정규표현식 패턴 객체에서 search 메서드 사용"
   ]
  },
  {
   "cell_type": "code",
   "execution_count": 42,
   "id": "2228af0f",
   "metadata": {},
   "outputs": [
    {
     "data": {
      "text/plain": [
       "'10'"
      ]
     },
     "execution_count": 42,
     "metadata": {},
     "output_type": "execute_result"
    }
   ],
   "source": [
    "#43.3 그룹 사용하기\n",
    "m = re.match('([0-9]+) ([0-9]+)', '10 295')\n",
    "m.group(1)    # 첫 번째 그룹(그룹 1)에 매칭된 문자열을 반환\n",
    "#m.group(2)    # 두 번째 그룹(그룹 2)에 매칭된 문자열을 반환\n",
    "#m.group()     # 매칭된 문자열을 한꺼번에 반환\n",
    "#m.group(0)    # 매칭된 문자열을 한꺼번에 반환\n"
   ]
  },
  {
   "cell_type": "code",
   "execution_count": 43,
   "id": "78edd4be",
   "metadata": {},
   "outputs": [
    {
     "data": {
      "text/plain": [
       "'print'"
      ]
     },
     "execution_count": 43,
     "metadata": {},
     "output_type": "execute_result"
    }
   ],
   "source": [
    "#이름으로 만들기\n",
    "m = re.match('(?P<func>[a-zA-Z_][a-zA-Z0-9_]+)\\((?P<arg>\\w+)\\)', 'print(1234)')\n",
    "m.group('func')    # 그룹 이름으로 매칭된 문자열 출력\n",
    "#m.group('arg')     # 그룹 이름으로 매칭된 문자열 출력\n"
   ]
  },
  {
   "cell_type": "code",
   "execution_count": 44,
   "id": "79c122de",
   "metadata": {},
   "outputs": [
    {
     "data": {
      "text/plain": [
       "<re.Match object; span=(0, 5), match='hello'>"
      ]
     },
     "execution_count": 44,
     "metadata": {},
     "output_type": "execute_result"
    }
   ],
   "source": [
    "# *, +와 그룹 활용하기\n",
    "re.match('[a-z]+(.[a-z]+)*$', 'hello.world')    # .world는 문자열이므로 패턴에 매칭됨\n",
    "re.match('[a-z]+(.[a-z]+)*$', 'hello.1234')     # .1234는 숫자이므로 패턴에 매칭되지 않음\n",
    "re.match('[a-z]+(.[a-z]+)*$', 'hello')          # .뒤에 문자열이 없어도 패턴에 매칭됨\n"
   ]
  },
  {
   "cell_type": "code",
   "execution_count": null,
   "id": "0b8fcca8",
   "metadata": {},
   "outputs": [],
   "source": [
    "#43.4 문자열 바꾸기\n",
    ">>> re.sub('apple|orange', 'fruit', 'apple box orange tree')    # apple 또는 orange를 fruit로 바꿈\n",
    "'fruit box fruit tree'"
   ]
  },
  {
   "cell_type": "code",
   "execution_count": null,
   "id": "b4de821e",
   "metadata": {},
   "outputs": [],
   "source": [
    "#숫자\n",
    ">>> re.sub('[0-9]+', 'n', '1 2 Fizz 4 Buzz Fizz 7 8')    # 숫자만 찾아서 n으로 바꿈\n",
    "'n n Fizz n Buzz Fizz n n'"
   ]
  },
  {
   "cell_type": "code",
   "execution_count": 45,
   "id": "8443669e",
   "metadata": {},
   "outputs": [
    {
     "data": {
      "text/plain": [
       "'10 20 Fizz 40 Buzz Fizz 70 80'"
      ]
     },
     "execution_count": 45,
     "metadata": {},
     "output_type": "execute_result"
    }
   ],
   "source": [
    "#함수\n",
    "def multiple10(m):        # 매개변수로 매치 객체를 받음\n",
    "    n = int(m.group())    # 매칭된 문자열을 가져와서 정수로 변환\n",
    "    return str(n * 10)    # 숫자에 10을 곱한 뒤 문자열로 변환해서 반환\n",
    "\n",
    "re.sub('[0-9]+', multiple10, '1 2 Fizz 4 Buzz Fizz 7 8')\n"
   ]
  },
  {
   "cell_type": "code",
   "execution_count": 46,
   "id": "dcd541ee",
   "metadata": {},
   "outputs": [
    {
     "data": {
      "text/plain": [
       "'1234 hello 1234 hello'"
      ]
     },
     "execution_count": 46,
     "metadata": {},
     "output_type": "execute_result"
    }
   ],
   "source": [
    "#43.4.1  찾은 문자열을 결과에 다시 사용하기\n",
    "re.sub('([a-z]+) ([0-9]+)', '\\\\2 \\\\1 \\\\2 \\\\1', 'hello 1234')    # 그룹 2, 1, 2, 1 순으로 바꿈\n"
   ]
  },
  {
   "cell_type": "code",
   "execution_count": 47,
   "id": "89df5a5c",
   "metadata": {},
   "outputs": [
    {
     "data": {
      "text/plain": [
       "'<name>james</name>'"
      ]
     },
     "execution_count": 47,
     "metadata": {},
     "output_type": "execute_result"
    }
   ],
   "source": [
    "re.sub('({\\s*)\"(\\w+)\":\\s*\"(\\w+)\"(\\s*})', '<\\\\2>\\\\3</\\\\2>', '{ \"name\": \"james\" }')\n"
   ]
  },
  {
   "cell_type": "code",
   "execution_count": 48,
   "id": "3fb963de",
   "metadata": {},
   "outputs": [
    {
     "data": {
      "text/plain": [
       "'<name>james</name>'"
      ]
     },
     "execution_count": 48,
     "metadata": {},
     "output_type": "execute_result"
    }
   ],
   "source": [
    "re.sub('({\\s*)\"(?P<key>\\w+)\":\\s*\"(?P<value>\\w+)\"(\\s*})', '<\\\\g<key>>\\\\g<value></\\\\g<key>>', '{ \"name\": \"james\" }')\n"
   ]
  },
  {
   "cell_type": "code",
   "execution_count": 49,
   "id": "c963fb57",
   "metadata": {},
   "outputs": [
    {
     "data": {
      "text/plain": [
       "'<name>james</name>'"
      ]
     },
     "execution_count": 49,
     "metadata": {},
     "output_type": "execute_result"
    }
   ],
   "source": [
    "# raw 문자열 사용하기\n",
    "re.sub('({\\s*)\"(\\w+)\":\\s*\"(\\w+)\"(\\s*})', r'<\\2>\\3</\\2>', '{ \"name\": \"james\" }')\n"
   ]
  },
  {
   "cell_type": "code",
   "execution_count": 53,
   "id": "4f786c68",
   "metadata": {},
   "outputs": [
    {
     "name": "stdout",
     "output_type": "stream",
     "text": [
      "True True True True True False False False "
     ]
    }
   ],
   "source": [
    "#43.5 연습문제: 이메일 주소 검사하기\n",
    "import re\n",
    "p = re.compile('^[a-zA-Z0-9+-_.]+@[a-zA-Z0-9-]+\\.[a-zA-Z0-9-.]+$')  \n",
    "\n",
    "emails = ['python@mail.example.com', 'python+kr@example.com',              # 올바른 형식\n",
    "          'python-dojang@example.co.kr', 'python_10@example.info',         # 올바른 형식\n",
    "          'python.dojang@e-xample.com',                                    # 올바른 형식\n",
    "          '@example.com', 'python@example', 'python@example-com']          # 잘못된 형식\n",
    " \n",
    "for email in emails:\n",
    "    print(p.match(email) != None, end=' ')"
   ]
  },
  {
   "cell_type": "code",
   "execution_count": null,
   "id": "892caa76",
   "metadata": {},
   "outputs": [],
   "source": []
  }
 ],
 "metadata": {
  "kernelspec": {
   "display_name": "Python 3 (ipykernel)",
   "language": "python",
   "name": "python3"
  },
  "language_info": {
   "codemirror_mode": {
    "name": "ipython",
    "version": 3
   },
   "file_extension": ".py",
   "mimetype": "text/x-python",
   "name": "python",
   "nbconvert_exporter": "python",
   "pygments_lexer": "ipython3",
   "version": "3.9.7"
  }
 },
 "nbformat": 4,
 "nbformat_minor": 5
}
