{
 "cells": [
  {
   "cell_type": "code",
   "execution_count": 1,
   "id": "e5b42b93",
   "metadata": {},
   "outputs": [
    {
     "data": {
      "text/plain": [
       "3.141592653589793"
      ]
     },
     "execution_count": 1,
     "metadata": {},
     "output_type": "execute_result"
    }
   ],
   "source": [
    "#Unit 44. 모듈과 패키지 사용하기 \n",
    "#import 모듈\n",
    "#import 모듈1, 모듈2\n",
    "#모듈.변수\n",
    "#모듈.함수()\n",
    "#모듈.클래스()\n",
    "#모듈.변수 형식\n",
    "import math\n",
    "math.pi"
   ]
  },
  {
   "cell_type": "code",
   "execution_count": 2,
   "id": "2b3894bb",
   "metadata": {},
   "outputs": [
    {
     "data": {
      "text/plain": [
       "2.0"
      ]
     },
     "execution_count": 2,
     "metadata": {},
     "output_type": "execute_result"
    }
   ],
   "source": [
    "import math\n",
    "math.sqrt(4.0)"
   ]
  },
  {
   "cell_type": "code",
   "execution_count": 3,
   "id": "9b68d530",
   "metadata": {},
   "outputs": [
    {
     "data": {
      "text/plain": [
       "2.0"
      ]
     },
     "execution_count": 3,
     "metadata": {},
     "output_type": "execute_result"
    }
   ],
   "source": [
    "#44.1.1  import as로 모듈 이름 지정하기\n",
    "import math as m    # math 모듈을 가져오면서 이름을 m으로 지정\n",
    "m.sqrt(4.0) "
   ]
  },
  {
   "cell_type": "code",
   "execution_count": 4,
   "id": "d011630d",
   "metadata": {},
   "outputs": [
    {
     "data": {
      "text/plain": [
       "3.141592653589793"
      ]
     },
     "execution_count": 4,
     "metadata": {},
     "output_type": "execute_result"
    }
   ],
   "source": [
    "#44.1.2  from import로 모듈의 일부만 가져오기\n",
    "from math import pi    # math 모듈에서 변수 pi만 가져옴\n",
    "pi"
   ]
  },
  {
   "cell_type": "code",
   "execution_count": 5,
   "id": "1269f4eb",
   "metadata": {},
   "outputs": [
    {
     "data": {
      "text/plain": [
       "2.0"
      ]
     },
     "execution_count": 5,
     "metadata": {},
     "output_type": "execute_result"
    }
   ],
   "source": [
    "#from 모듈 import 함수\n",
    "#from 모듈 import 클래스\n",
    "from math import sqrt    # math 모듈에서 sqrt 함수만 가져옴\n",
    "sqrt(4.0) "
   ]
  },
  {
   "cell_type": "code",
   "execution_count": 6,
   "id": "8b59666e",
   "metadata": {},
   "outputs": [
    {
     "data": {
      "text/plain": [
       "2.0"
      ]
     },
     "execution_count": 6,
     "metadata": {},
     "output_type": "execute_result"
    }
   ],
   "source": [
    "#from 모듈 import 변수, 함수, 클래스\n",
    "from math import pi, sqrt    # math 모듈에서 pi, sqrt를 가져옴\n",
    "pi  \n",
    "sqrt(4.0)"
   ]
  },
  {
   "cell_type": "code",
   "execution_count": 8,
   "id": "98632377",
   "metadata": {},
   "outputs": [
    {
     "data": {
      "text/plain": [
       "3.141592653589793"
      ]
     },
     "execution_count": 8,
     "metadata": {},
     "output_type": "execute_result"
    }
   ],
   "source": [
    "#from 모듈 import *\n",
    "from math import *    # math 모듈의 모든 변수, 함수, 클래스를 가져옴\n",
    "pi    \n",
    "#sqrt(4.0)"
   ]
  },
  {
   "cell_type": "code",
   "execution_count": 9,
   "id": "c408f92d",
   "metadata": {},
   "outputs": [
    {
     "data": {
      "text/plain": [
       "2.0"
      ]
     },
     "execution_count": 9,
     "metadata": {},
     "output_type": "execute_result"
    }
   ],
   "source": [
    "#44.1.3  from import로 모듈의 일부를 가져온 뒤 이름 지정하기\n",
    "from math import sqrt as s    # math 모듈에서 sqrt 함수를 가져오면서 이름을 s로 지정\n",
    "s(4.0)    "
   ]
  },
  {
   "cell_type": "code",
   "execution_count": 10,
   "id": "e9114b0b",
   "metadata": {},
   "outputs": [
    {
     "data": {
      "text/plain": [
       "2.0"
      ]
     },
     "execution_count": 10,
     "metadata": {},
     "output_type": "execute_result"
    }
   ],
   "source": [
    "#from 모듈 import 변수 as 이름1, 함수 as 이름2, 클래스 as 이름3\n",
    "from math import pi as p, sqrt as s\n",
    "p      \n",
    "s(4.0) "
   ]
  },
  {
   "cell_type": "code",
   "execution_count": 11,
   "id": "8b4e55b2",
   "metadata": {},
   "outputs": [],
   "source": [
    "#가져온 모듈 해제하기, 다시 가져오기\n",
    "import math\n",
    "del math"
   ]
  },
  {
   "cell_type": "code",
   "execution_count": 12,
   "id": "3e500278",
   "metadata": {},
   "outputs": [
    {
     "data": {
      "text/plain": [
       "<module 'math' from '/opt/conda/lib/python3.9/lib-dynload/math.cpython-39-x86_64-linux-gnu.so'>"
      ]
     },
     "execution_count": 12,
     "metadata": {},
     "output_type": "execute_result"
    }
   ],
   "source": [
    "# importlib.reload를 사용합니다.\n",
    "\n",
    "import importlib\n",
    "import math\n",
    "importlib.reload(math)"
   ]
  },
  {
   "cell_type": "code",
   "execution_count": 13,
   "id": "b794c997",
   "metadata": {},
   "outputs": [
    {
     "data": {
      "text/plain": [
       "200"
      ]
     },
     "execution_count": 13,
     "metadata": {},
     "output_type": "execute_result"
    }
   ],
   "source": [
    "#44.2 import로 패키지 가져오기\n",
    "#import 패키지.모듈\n",
    "#import 패키지.모듈1, 패키지.모듈2\n",
    "#패키지.모듈.변수\n",
    "#패키지.모듈.함수()\n",
    "#패키지.모듈.클래스()\n",
    "import urllib.request\n",
    "response = urllib.request.urlopen('http://www.google.co.kr')\n",
    "response.status"
   ]
  },
  {
   "cell_type": "code",
   "execution_count": 14,
   "id": "5531339f",
   "metadata": {},
   "outputs": [
    {
     "data": {
      "text/plain": [
       "200"
      ]
     },
     "execution_count": 14,
     "metadata": {},
     "output_type": "execute_result"
    }
   ],
   "source": [
    "#44.2.1  import as로 패키지 모듈 이름 지정하기\n",
    "##import 패키지.모듈 as 이름\n",
    "import urllib.request as r    # urllib 패키지의 request 모듈을 가져오면서 이름을 r로 지정\n",
    "response = r.urlopen('http://www.google.co.kr')    # r로 urlopen 함수 사용\n",
    "response.status"
   ]
  },
  {
   "cell_type": "code",
   "execution_count": 15,
   "id": "d6dad4c9",
   "metadata": {},
   "outputs": [
    {
     "data": {
      "text/plain": [
       "200"
      ]
     },
     "execution_count": 15,
     "metadata": {},
     "output_type": "execute_result"
    }
   ],
   "source": [
    "#44.2.2  from import로 패키지의 모듈에서 일부만 가져오기\n",
    "#from 패키지.모듈 import 변수\n",
    "#from 패키지.모듈 import 함수\n",
    "#from 패키지.모듈 import 클래스\n",
    "#from 패키지.모듈 import 변수, 함수, 클래스\n",
    "from urllib.request import Request, urlopen    # urlopen 함수, Request 클래스를 가져옴\n",
    "req = Request('http://www.google.co.kr')       # Request 클래스를 사용하여 req 생성\n",
    "response = urlopen(req)                        # urlopen 함수 사용\n",
    "response.status"
   ]
  },
  {
   "cell_type": "code",
   "execution_count": 16,
   "id": "4d5fcba8",
   "metadata": {},
   "outputs": [
    {
     "data": {
      "text/plain": [
       "200"
      ]
     },
     "execution_count": 16,
     "metadata": {},
     "output_type": "execute_result"
    }
   ],
   "source": [
    "#from 패키지.모듈 import *\n",
    "from urllib.request import *     # urllib의 request 모듈에서 모든 변수, 함수, 클래스를 가져옴\n",
    "req = Request('http://www.google.co.kr')    # Request를 사용하여 req 생성\n",
    "response = urlopen(req)                     # urlopen 함수 사용\n",
    "response.status"
   ]
  },
  {
   "cell_type": "code",
   "execution_count": 17,
   "id": "d8233a97",
   "metadata": {},
   "outputs": [
    {
     "data": {
      "text/plain": [
       "200"
      ]
     },
     "execution_count": 17,
     "metadata": {},
     "output_type": "execute_result"
    }
   ],
   "source": [
    "#44.2.3  from import로 패키지의 모듈의 일부를 가져온 뒤 이름 지정하기\n",
    "from urllib.request import Request as r, urlopen as u\n",
    "req = r('http://www.google.co.kr')    # r로 Request 클래스 사용\n",
    "response = u(req)                     # u로 urlopen 함수 사용\n",
    "response.status"
   ]
  },
  {
   "cell_type": "code",
   "execution_count": null,
   "id": "4a85491c",
   "metadata": {},
   "outputs": [],
   "source": [
    "#44.3 파이썬 패키지 인덱스에서 패키지 설치하기\n",
    "#44.3.1  pip 설치하기\n",
    "#curl -O https://bootstrap.pypa.io/get-pip.py\n",
    "#sudo python3 get-pip.py"
   ]
  },
  {
   "cell_type": "code",
   "execution_count": null,
   "id": "319a1081",
   "metadata": {},
   "outputs": [],
   "source": [
    "#curl 설치\n",
    "#sudo apt-get install curl"
   ]
  },
  {
   "cell_type": "code",
   "execution_count": null,
   "id": "e85c594a",
   "metadata": {},
   "outputs": [],
   "source": [
    "#44.3.2  pip로 패키지 설치하기\n",
    "#pip install requests"
   ]
  }
 ],
 "metadata": {
  "kernelspec": {
   "display_name": "Python 3 (ipykernel)",
   "language": "python",
   "name": "python3"
  },
  "language_info": {
   "codemirror_mode": {
    "name": "ipython",
    "version": 3
   },
   "file_extension": ".py",
   "mimetype": "text/x-python",
   "name": "python",
   "nbconvert_exporter": "python",
   "pygments_lexer": "ipython3",
   "version": "3.9.7"
  }
 },
 "nbformat": 4,
 "nbformat_minor": 5
}
