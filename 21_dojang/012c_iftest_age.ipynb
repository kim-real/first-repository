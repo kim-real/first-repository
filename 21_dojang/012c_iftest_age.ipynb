{
 "cells": [
  {
   "cell_type": "code",
   "execution_count": 1,
   "id": "2aad8c2f",
   "metadata": {},
   "outputs": [
    {
     "name": "stdout",
     "output_type": "stream",
     "text": [
      "오늘날짜:yyyy mm dd  2022 09 01\n",
      "아이유생일:yyyy mm dd  1977 07 07\n"
     ]
    },
    {
     "ename": "SystemExit",
     "evalue": "아이유 아닌데요!",
     "output_type": "error",
     "traceback": [
      "An exception has occurred, use %tb to see the full traceback.\n",
      "\u001b[0;31mSystemExit\u001b[0m\u001b[0;31m:\u001b[0m 아이유 아닌데요!\n"
     ]
    },
    {
     "name": "stderr",
     "output_type": "stream",
     "text": [
      "/opt/conda/lib/python3.9/site-packages/IPython/core/interactiveshell.py:3452: UserWarning: To exit: use 'exit', 'quit', or Ctrl-D.\n",
      "  warn(\"To exit: use 'exit', 'quit', or Ctrl-D.\", stacklevel=1)\n"
     ]
    }
   ],
   "source": [
    "import sys\n",
    "from datetime import datetime\n",
    "\n",
    "now_year = list(map(int,input('오늘날짜:yyyy mm dd  ').split()))\n",
    "iyou_year = list(map(int,input('아이유생일:yyyy mm dd  ').split()))\n",
    "\n",
    "if iyou_year[0] != 1993 and iyou_year[1] != 5 and iyou_year[2] !=16:\n",
    "    sys.exit('아이유 아닌데요!')\n",
    "\n",
    "x = datetime.now()  \n",
    "\n",
    "if now_year[0] != x.year and now_year[1] != x.month and now_year[2] != x.day:\n",
    "    sys.exit('오늘 아닌데요!')\n",
    "\n",
    "nai = 0\n",
    "\n",
    "if iyou_year[1] > now_year[1]:\n",
    "    nai = now_year[0] -iyou_year[0] - 1\n",
    "elif iyou_year[1] == now_year[1]:\n",
    "    if iyou_year[2] > now_year[2]:\n",
    "        nai = now_year[0] -iyou_year[0] - 1     # day가 크면 -1\n",
    "    else:\n",
    "        nai = now_year[0] -iyou_year[0]         #day가 작거나 같으면 \n",
    "else:\n",
    "    nai = now_year[0] -iyou_year[0]             # month 작으면\n",
    "    \n",
    "\n",
    "if nai != 0:\n",
    "    print();print()\n",
    "    print('오늘 날짜는 %04d/%02d/%02d' %(now_year[0], now_year[1], now_year[2]))\n",
    "    print('아이유의 생일은 %04d/%02d/%02d' %(iyou_year[0], iyou_year[1], iyou_year[2]))\n",
    "    print('아이유의 만나이는 %02d' %(nai))"
   ]
  },
  {
   "cell_type": "code",
   "execution_count": null,
   "id": "2fcdaf85",
   "metadata": {},
   "outputs": [],
   "source": [
    "import sys\n",
    "from datetime import datetime\n",
    "\n",
    "# 입력부문\n",
    "birth_name = input('이름을 입력: ')\n",
    "birth_day = list(map(int,input('생년월일(yyyy mm dd): ').split()))\n",
    "\n",
    "age = 0                                      # 만나이 변수 \n",
    "x = datetime.now()                           #오늘 날짜\n",
    "\n",
    "# 입력data 정제 \n",
    "if 1900 > birth_day[0] or birth_day[0] > x.year:\n",
    "    sys.exit('1900 ~ 2022년 입력')\n",
    "elif 0 > birth_day[1] or birth_day[1] > 12:\n",
    "    sys.exit('1~12월 입력')\n",
    "elif 0> birth_day[2] or birth_day[2] > 31:\n",
    "    sys.exit('1~31일 입력')                  #월별 check는 안함\n",
    "\n",
    "\n",
    "if birth_day[0] == x.year:\n",
    "    if birth_day[1] > x.month:\n",
    "        sys.exit('나이계산 안됨')\n",
    "    elif birth_day[1] == x.month:\n",
    "        if birth_day[1] > x.day:\n",
    "            sys.exit('나이계산 안됨')\n",
    "        else:\n",
    "            pass                # 작거나 같은 일\n",
    "    else:                       # 작은 월\n",
    "        pass\n",
    "else:                           # 작은 해                         \n",
    "     pass\n",
    "\n",
    "#만 나이 계산\n",
    "if birth_day[0] < x.year:\n",
    "    age = x.year - birth_day[0]         #년이 작은때 -1\n",
    "else:\n",
    "    if birth_day[1] < x.month:           #년 같고 month작을때\n",
    "        age = x.year - birth_day[0]\n",
    "    else:                             \n",
    "        if birth_day[2] <= x.day:         #년 같고 month같고 일이 작거나 같을때\n",
    "            age = x.year - birth_day[0]\n",
    "        else:\n",
    "            age = x.year - birth_day[0] - 1  #나머지\n",
    "\n",
    "# 출력문장\n",
    "if age != 0:\n",
    "    print(); print()\n",
    "    print('당신의 이름   :', birth_name)\n",
    "    print('오늘 날짜     : %04d/%02d/%02d' %(x.year, x.month, x.day))\n",
    "    print('당신의 생일   : %04d/%02d/%02d' %(birth_day[0], birth_day[1], birth_day[2]))\n",
    "    print('당신의 만나이 : %02d ' %(age))"
   ]
  },
  {
   "cell_type": "code",
   "execution_count": null,
   "id": "b1d1267a",
   "metadata": {},
   "outputs": [],
   "source": [
    "import sys\n",
    "from datetime import datetime\n",
    "\n",
    "# 입력부문\n",
    "birth_name = input('이름을 입력: ')\n",
    "birth_day = list(map(int,input('생년월일(yyyy mm dd): ').split()))\n",
    "\n",
    "age = 0                                      # 만나이 변수 \n",
    "\n",
    "# 입력data 정제 \n",
    "if 1900 > birth_day[0] or birth_day[0] > 2022:\n",
    "    sys.exit('1900 ~ 2022년 입력')\n",
    "elif 0 > birth_day[1] or birth_day[1] > 12:\n",
    "    sys.exit('1~12월 입력')\n",
    "elif 0> birth_day[2] or birth_day[2] > 31:\n",
    "    sys.exit('1~31일 입력')                  #월별 check는 안함\n",
    "\n",
    "\n",
    "\n",
    "x = datetime.now()                           #오늘 날짜\n",
    "\n",
    "#만 나이 계산\n",
    "if birth_day[1] <= x.month and birth_day[2] <= x.day:\n",
    "        age = x.year - birth_day[0]\n",
    "else:\n",
    "        age = x.year - birth_day[0] - 1\n",
    "\n",
    "# 출력문장\n",
    "if age != 0:\n",
    "    print(); print()\n",
    "    print('당신의 이름   :', birth_name)\n",
    "    print('오늘 날짜     : %04d/%02d/%02d' %(x.year, x.month, x.day))\n",
    "    print('당신의 생일   : %04d/%02d/%02d' %(birth_day[0], birth_day[1], birth_day[2]))\n",
    "    print('당신의 만나이 : %02d ' %(age))\n"
   ]
  },
  {
   "cell_type": "code",
   "execution_count": null,
   "id": "f81f7f09",
   "metadata": {},
   "outputs": [],
   "source": []
  }
 ],
 "metadata": {
  "kernelspec": {
   "display_name": "Python 3 (ipykernel)",
   "language": "python",
   "name": "python3"
  },
  "language_info": {
   "codemirror_mode": {
    "name": "ipython",
    "version": 3
   },
   "file_extension": ".py",
   "mimetype": "text/x-python",
   "name": "python",
   "nbconvert_exporter": "python",
   "pygments_lexer": "ipython3",
   "version": "3.9.7"
  }
 },
 "nbformat": 4,
 "nbformat_minor": 5
}
