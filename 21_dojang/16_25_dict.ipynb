{
 "cells": [
  {
   "cell_type": "code",
   "execution_count": 4,
   "id": "b233ffac",
   "metadata": {},
   "outputs": [
    {
     "data": {
      "text/plain": [
       "{'a': 10, 'b': 20, 'c': 30, 'd': 40, 'e': None, 'f': 100}"
      ]
     },
     "execution_count": 4,
     "metadata": {},
     "output_type": "execute_result"
    }
   ],
   "source": [
    "#25.1 딕셔너리 조작하기\n",
    "x = {'a': 10, 'b': 20, 'c': 30, 'd': 40}\n",
    "x.setdefault('e')\n",
    "x.setdefault('f', 100)    #setdefault는 키-값 쌍 추가만\n",
    "x.setdefault('b', 100)    #실행 안함\n",
    "x"
   ]
  },
  {
   "cell_type": "code",
   "execution_count": 1,
   "id": "a39bafb7",
   "metadata": {},
   "outputs": [
    {
     "data": {
      "text/plain": [
       "{1: 'one', 2: 'two'}"
      ]
     },
     "execution_count": 1,
     "metadata": {},
     "output_type": "execute_result"
    }
   ],
   "source": [
    "#25.1.3  딕셔너리에서 키의 값 수정하기\n",
    "x = {'a': 10, 'b': 20, 'c': 30, 'd': 40}\n",
    "#x.update(a=90)        # update는 키가 문자열  키-값 쌍 추가와 값 수정이 가능\n",
    "#x.update(e=50)\n",
    "#x.update(a=900, f=60)\n",
    "y = {1: 'one', 2: 'two'}\n",
    "#y.update({1: 'ONE', 3: 'THREE'})    # update는 키가 숫자열시  디셔러리 현태로 update\n",
    "#y.update([[2, 'TWO'], [4, 'FOUR']])  #키가 숫자\n",
    "y.update(zip([1, 2], ['one', 'two'])) #키가 숫자시 zip\n",
    "y"
   ]
  },
  {
   "cell_type": "code",
   "execution_count": null,
   "id": "be7041bf",
   "metadata": {},
   "outputs": [],
   "source": [
    "#25.1.4  딕셔너리에서 키-값 쌍 삭제하기\n",
    "x = {'a': 10, 'b': 20, 'c': 30, 'd': 40}\n",
    "x.pop('a')\n",
    "x\n",
    "x = {'a': 10, 'b': 20, 'c': 30, 'd': 40}\n",
    "del x['a']"
   ]
  },
  {
   "cell_type": "code",
   "execution_count": null,
   "id": "caade684",
   "metadata": {},
   "outputs": [],
   "source": [
    "#25.1.5  딕셔너리에서 임의의 키-값 쌍 삭제하기\n",
    "x = {'a': 10, 'b': 20, 'c': 30, 'd': 40}\n",
    "x.popitem()                                  #마지막"
   ]
  },
  {
   "cell_type": "code",
   "execution_count": null,
   "id": "5dafa70b",
   "metadata": {},
   "outputs": [],
   "source": [
    "#25.1.6  딕셔너리의 모든 키-값 쌍을 삭제하기\n",
    "x = {'a': 10, 'b': 20, 'c': 30, 'd': 40}\n",
    "x.clear()\n",
    "x"
   ]
  },
  {
   "cell_type": "code",
   "execution_count": null,
   "id": "b658b053",
   "metadata": {},
   "outputs": [],
   "source": [
    "#25.1.7  딕셔너리에서 키의 값을 가져오기\n",
    "x = {'a': 10, 'b': 20, 'c': 30, 'd': 40}\n",
    "x.get('a')"
   ]
  },
  {
   "cell_type": "code",
   "execution_count": null,
   "id": "b42c0a91",
   "metadata": {},
   "outputs": [],
   "source": [
    "#25.1.8  딕셔너리에서 키-값 쌍을 모두 가져오기\n",
    "x = {'a': 10, 'b': 20, 'c': 30, 'd': 40}\n",
    "x.items()\n",
    "x.keys()\n",
    "x.values()"
   ]
  },
  {
   "cell_type": "code",
   "execution_count": null,
   "id": "42afdbae",
   "metadata": {},
   "outputs": [],
   "source": [
    "#25.1.9  리스트와 튜플로 딕셔너리 만들기  \n",
    "# defaultdict(기본값생성함수)  : from collections import defaultdict \n",
    "keys = ['a', 'b', 'c', 'd']\n",
    "x = dict.fromkeys(keys)\n",
    "x\n",
    "y = dict.fromkeys(keys, 100)\n",
    ">>> y"
   ]
  },
  {
   "cell_type": "code",
   "execution_count": 9,
   "id": "b3244bbc",
   "metadata": {},
   "outputs": [
    {
     "name": "stdout",
     "output_type": "stream",
     "text": [
      "a b c d \n",
      "a 10\n",
      "b 20\n",
      "c 30\n",
      "d 40\n"
     ]
    }
   ],
   "source": [
    "#반복문으로 딕셔너리의 키-값 쌍을 모두 출력하기\n",
    "x = {'a': 10, 'b': 20, 'c': 30, 'd': 40}\n",
    "for i in x:\n",
    "    print(i, end=' ')\n",
    "print()\n",
    "x = {'a': 10, 'b': 20, 'c': 30, 'd': 40}\n",
    "for key, value in x.items():\n",
    "    print(key, value)"
   ]
  },
  {
   "cell_type": "code",
   "execution_count": 11,
   "id": "83caa3c6",
   "metadata": {},
   "outputs": [
    {
     "name": "stdout",
     "output_type": "stream",
     "text": [
      "a b c d \n",
      "10 20 30 40 "
     ]
    }
   ],
   "source": [
    "#25.2.1  딕셔너리의 키만 출력하기\n",
    "x = {'a': 10, 'b': 20, 'c': 30, 'd': 40}\n",
    "for key in x.keys():\n",
    "    print(key, end=' ')\n",
    "print()\n",
    "x = {'a': 10, 'b': 20, 'c': 30, 'd': 40}\n",
    "for value in x.values():\n",
    "    print(value, end=' ')"
   ]
  },
  {
   "cell_type": "code",
   "execution_count": 16,
   "id": "4b5fbf0e",
   "metadata": {},
   "outputs": [
    {
     "data": {
      "text/plain": [
       "{10: 'a', 20: 'b', 30: 'c', 40: 'd'}"
      ]
     },
     "execution_count": 16,
     "metadata": {},
     "output_type": "execute_result"
    }
   ],
   "source": [
    "#25.3 딕셔너리 표현식 사용하기\n",
    "#keys = ['a', 'b', 'c', 'd']\n",
    "#x = {key: value for key, value in dict.fromkeys(keys).items()}\n",
    "#x\n",
    "\n",
    "#{key: 0 for key in dict.fromkeys(['a', 'b', 'c', 'd']).keys()}               # 키만 가져옴\n",
    "\n",
    "#{value: 0 for value in {'a': 10, 'b': 20, 'c': 30, 'd': 40}.values()}        # 값을 키로 사용\n",
    "\n",
    "{value: key for key, value in {'a': 10, 'b': 20, 'c': 30, 'd': 40}.items()}  # 키-값 자리를 바꿈\n"
   ]
  },
  {
   "cell_type": "code",
   "execution_count": 18,
   "id": "1a530bfb",
   "metadata": {},
   "outputs": [
    {
     "data": {
      "text/plain": [
       "{'a': 10, 'c': 30, 'd': 40}"
      ]
     },
     "execution_count": 18,
     "metadata": {},
     "output_type": "execute_result"
    }
   ],
   "source": [
    "#25.3.1  딕셔너리 표현식에서 if 조건문 사용하기\n",
    "x = {'a': 10, 'b': 20, 'c': 30, 'd': 40}\n",
    " \n",
    "#for key, value in x.items():\n",
    "#    if value == 20: \n",
    "#        del x[key]     # 키-값 쌍 삭제\n",
    "#        \n",
    "#print(x)\n",
    "\n",
    "x = {'a': 10, 'b': 20, 'c': 30, 'd': 40}\n",
    "x = {key: value for key, value in x.items() if value != 20}\n",
    "x"
   ]
  },
  {
   "cell_type": "code",
   "execution_count": 19,
   "id": "2eabd9b7",
   "metadata": {},
   "outputs": [
    {
     "name": "stdout",
     "output_type": "stream",
     "text": [
      "6051.8\n"
     ]
    }
   ],
   "source": [
    "#25.4 딕셔너리 안에서 딕셔너리 사용하기\n",
    "terrestrial_planet = {\n",
    "    'Mercury': {\n",
    "        'mean_radius': 2439.7,\n",
    "        'mass': 3.3022E+23,\n",
    "        'orbital_period': 87.969\n",
    "    },\n",
    "    'Venus': {\n",
    "        'mean_radius': 6051.8,\n",
    "        'mass': 4.8676E+24,\n",
    "        'orbital_period': 224.70069,\n",
    "    },\n",
    "    'Earth': {\n",
    "        'mean_radius': 6371.0,\n",
    "        'mass': 5.97219E+24,\n",
    "        'orbital_period': 365.25641,\n",
    "    },\n",
    "    'Mars': {\n",
    "        'mean_radius': 3389.5,\n",
    "        'mass': 6.4185E+23,\n",
    "        'orbital_period': 686.9600,\n",
    "    }\n",
    "}\n",
    " \n",
    "print(terrestrial_planet['Venus']['mean_radius'])    # 6051.8"
   ]
  },
  {
   "cell_type": "code",
   "execution_count": 24,
   "id": "faa88067",
   "metadata": {},
   "outputs": [
    {
     "data": {
      "text/plain": [
       "{'a': 99, 'b': 0, 'c': 0, 'd': 0}"
      ]
     },
     "execution_count": 24,
     "metadata": {},
     "output_type": "execute_result"
    }
   ],
   "source": [
    "#25.5 딕셔너리의 할당과 복사\n",
    "x = {'a': 0, 'b': 0, 'c': 0, 'd': 0}\n",
    "y = x\n",
    "x is y\n",
    "True\n",
    "y['a'] = 99\n",
    "x\n",
    "y\n",
    "    "
   ]
  },
  {
   "cell_type": "code",
   "execution_count": 23,
   "id": "6aa3fcdf",
   "metadata": {},
   "outputs": [
    {
     "data": {
      "text/plain": [
       "{'a': {'python': '2.7.15'}, 'b': {'python': '3.6'}}"
      ]
     },
     "execution_count": 23,
     "metadata": {},
     "output_type": "execute_result"
    }
   ],
   "source": [
    "#25.5.1  중첩 딕셔너리의 할당과 복사 알아보기\n",
    "#x = {'a': 0, 'b': 0, 'c': 0, 'd': 0}\n",
    "#y = x.copy()                 #copy.deepcopy(x) 비교\n",
    "x = {'a': {'python': '2.7'}, 'b': {'python': '3.6'}}\n",
    "import copy             # copy 모듈을 가져옴\n",
    "y = copy.deepcopy(x)    # copy.deepcopy 함수를 사용하여 깊은 복사\n",
    "y['a']['python'] = '2.7.15'\n",
    "#x\n",
    "y"
   ]
  },
  {
   "cell_type": "code",
   "execution_count": null,
   "id": "e2c8a774",
   "metadata": {},
   "outputs": [],
   "source": [
    "\n"
   ]
  },
  {
   "cell_type": "code",
   "execution_count": 26,
   "id": "7bbd950a",
   "metadata": {},
   "outputs": [
    {
     "name": "stdout",
     "output_type": "stream",
     "text": [
      "89.25\n"
     ]
    }
   ],
   "source": [
    "#25.7 연습문제: 평균 점수 구하기\n",
    "maria = {'korean': 94, 'english': 91, 'mathematics': 89, 'science': 83}\n",
    "average = sum(maria.values())/len(maria)                                         \n",
    "print(average)"
   ]
  },
  {
   "cell_type": "code",
   "execution_count": 35,
   "id": "25e9f73c",
   "metadata": {},
   "outputs": [
    {
     "name": "stdout",
     "output_type": "stream",
     "text": [
      "alpha bravo charlie delta\n",
      "10 20 30 40\n",
      "{'alpha': 10, 'bravo': 20}\n"
     ]
    }
   ],
   "source": [
    "keys = input().split()\n",
    "values = map(int, input().split())\n",
    " \n",
    "x = dict(zip(keys, values))\n",
    " \n",
    "x = {key: value for key, value in x.items() if value != 30 }\n",
    "x = {key: value for key, value in x.items() if key != 'delta' }\n",
    "\n",
    " \n",
    "print(x)"
   ]
  },
  {
   "cell_type": "code",
   "execution_count": null,
   "id": "6afffd74",
   "metadata": {},
   "outputs": [],
   "source": []
  }
 ],
 "metadata": {
  "kernelspec": {
   "display_name": "Python 3 (ipykernel)",
   "language": "python",
   "name": "python3"
  },
  "language_info": {
   "codemirror_mode": {
    "name": "ipython",
    "version": 3
   },
   "file_extension": ".py",
   "mimetype": "text/x-python",
   "name": "python",
   "nbconvert_exporter": "python",
   "pygments_lexer": "ipython3",
   "version": "3.9.7"
  }
 },
 "nbformat": 4,
 "nbformat_minor": 5
}
