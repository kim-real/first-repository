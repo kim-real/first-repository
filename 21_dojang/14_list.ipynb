{
 "cells": [
  {
   "cell_type": "code",
   "execution_count": 1,
   "id": "e7011cb2",
   "metadata": {},
   "outputs": [
    {
     "name": "stdout",
     "output_type": "stream",
     "text": [
      "[10, 20, 30, 500]\n",
      "[10, 20, 30, [500, 600]]\n",
      "[10, 20, 30, 500, 600]\n",
      "[10, 20, 500, 30]\n",
      "[10, 500, 600, 20, 30]\n",
      "[10, 20]\n",
      "[10, 30]\n",
      "[10, 30]\n",
      "[10, 30]\n"
     ]
    },
    {
     "data": {
      "text/plain": [
       "2"
      ]
     },
     "execution_count": 1,
     "metadata": {},
     "output_type": "execute_result"
    }
   ],
   "source": [
    " # 22.1 리스트 조작하기\n",
    "a = [10, 20, 30]\n",
    "a.append(500)\n",
    "print(a)\n",
    "\n",
    "a = [10, 20, 30]\n",
    "a.append([500, 600])\n",
    "print(a)\n",
    "\n",
    "a = [10, 20, 30]\n",
    "a.extend([500, 600])\n",
    "print(a)\n",
    "\n",
    "a = [10, 20, 30]\n",
    "a.insert(2, 500)\n",
    "print(a)\n",
    "\n",
    "a = [10, 20, 30]\n",
    "a[1:1] = [500, 600]\n",
    "print(a)\n",
    "\n",
    "a = [10, 20, 30]\n",
    "a.pop()\n",
    "print(a)\n",
    "\n",
    "a = [10, 20, 30]\n",
    "a.pop(1)\n",
    "print(a)\n",
    "\n",
    "a = [10, 20, 30]\n",
    "del a[1]\n",
    "print(a)\n",
    "\n",
    "a = [10, 20, 30]\n",
    "a.remove(20)\n",
    "print(a)\n",
    "\n",
    "\n",
    "b = [10, 20, 30, 15, 20, 40]\n",
    "b.index(20)\n",
    "\n",
    "a = [10, 20, 30, 15, 20, 40]\n",
    "a.count(20)\n"
   ]
  },
  {
   "cell_type": "code",
   "execution_count": 13,
   "id": "c619dda2",
   "metadata": {},
   "outputs": [
    {
     "name": "stdout",
     "output_type": "stream",
     "text": [
      "[40, 20, 15, 30, 20, 10]\n",
      "[10, 15, 20, 20, 30, 40]\n",
      "[10, 15, 20, 20, 30, 40]\n",
      "[10, 20, 30, 15, 20, 40]\n",
      "[]\n",
      "[]\n",
      "[10, 20, 30, 500]\n",
      "[10, 20, 30, 500, 600]\n"
     ]
    }
   ],
   "source": [
    "a = [10, 20, 30, 15, 20, 40]\n",
    "a.reverse()\n",
    "print(a)\n",
    "\n",
    "a = [10, 20, 30, 15, 20, 40]\n",
    "a.sort()\n",
    "print(a)\n",
    "\n",
    "a = [10, 20, 30, 15, 20, 40]\n",
    "a.sort()    # a의 내용을 변경하여 정렬\n",
    "print(a)\n",
    "\n",
    "b = [10, 20, 30, 15, 20, 40]\n",
    "sorted(b)    # 정렬된 새 리스트를 생성\n",
    "print(b)\n",
    "\n",
    "\n",
    "a = [10, 20, 30]\n",
    "a.clear()\n",
    "print(a)\n",
    "\n",
    "a = [10, 20, 30]\n",
    "del a[:]\n",
    "print(a)\n",
    "\n",
    "\n",
    "a = [10, 20, 30]\n",
    "a[len(a):] = [500]\n",
    "print(a)\n",
    "\n",
    "a = [10, 20, 30]\n",
    "a[len(a):] = [500, 600]\n",
    "print(a)"
   ]
  },
  {
   "cell_type": "code",
   "execution_count": 29,
   "id": "59e666d0",
   "metadata": {},
   "outputs": [
    {
     "name": "stdout",
     "output_type": "stream",
     "text": [
      "[10, 20, 30, 60]\n",
      "[10, 300, 400, 500, 600, 20, 30, 40, 50, 60]\n",
      "[10, 300, 400, 500, 600, 30, 40, 50, 60]\n",
      "[10, 300, 400, 500, 600, 40, 50, 60]\n",
      "[10, 300, 400, 500, 600, 50, 60]\n"
     ]
    }
   ],
   "source": [
    "a = [10, 20, 30, 40, 50, 60]\n",
    "del a[3:5]\n",
    "print(a)\n",
    "\n",
    "a = [10, 20, 30, 40, 50, 60]\n",
    "a[1:1]=[300,400,500,600]\n",
    "print(a)\n",
    "\n",
    "a = [10, 20, 30, 40, 50, 60]\n",
    "a[1:2]=[300,400,500,600]\n",
    "print(a)\n",
    "\n",
    "a = [10, 20, 30, 40, 50, 60]\n",
    "a[1:3]=[300,400,500,600]\n",
    "print(a)\n",
    "\n",
    "a = [10, 20, 30, 40, 50, 60]\n",
    "a[1:4]=[300,400,500,600]\n",
    "print(a)"
   ]
  },
  {
   "cell_type": "code",
   "execution_count": 16,
   "id": "d77f3424",
   "metadata": {},
   "outputs": [
    {
     "name": "stdout",
     "output_type": "stream",
     "text": [
      "[1, 1000, 4, 5]\n",
      "[1, 1000, 4, 5]\n",
      "[1, 2, 3, 4, 5]\n"
     ]
    }
   ],
   "source": [
    "#22.2 리스트의 할당과 복사 알아보기\n",
    "a= [1,2,3,4,5]\n",
    "b=a[:]\n",
    "c=a\n",
    "a[1:3]=[1000]\n",
    "print(a);print(c);print(b)\n",
    "\n",
    "a= [1,2,3,4,5]\n",
    "b=a.copy()"
   ]
  },
  {
   "cell_type": "code",
   "execution_count": 28,
   "id": "d81a8c8b",
   "metadata": {
    "scrolled": true
   },
   "outputs": [
    {
     "name": "stdout",
     "output_type": "stream",
     "text": [
      "1\n",
      "2\n",
      "3\n",
      "4\n",
      "5\n",
      "1 1\n",
      "2 2\n",
      "3 3\n",
      "4 4\n",
      "5 5\n",
      "38\n",
      "21\n",
      "53\n",
      "62\n",
      "19\n"
     ]
    }
   ],
   "source": [
    "#22.3 반복문으로 리스트의 요소를 모두 출력하기\n",
    "a=[1,2,3,4,5]\n",
    "for i in a:    #for i in [1,2,3,4,5]:  값을 직접 가능\n",
    "    print(i)\n",
    "\n",
    "#22.3.2  인덱스와 요소를 함께 출력하기\n",
    "for index, value in enumerate(a,1):      # in enumerate(a):  , in enumerate(a,start=1): \n",
    "    print(index, value)                 # print(index+1, value)\n",
    "\n",
    "a = [38, 21, 53, 62, 19]\n",
    "i = 0\n",
    "while i < len(a):\n",
    "    print(a[i])\n",
    "    i += 1"
   ]
  },
  {
   "cell_type": "code",
   "execution_count": 6,
   "id": "b46cd86f",
   "metadata": {},
   "outputs": [
    {
     "data": {
      "text/plain": [
       "[0, 2, 4, 6, 8]"
      ]
     },
     "execution_count": 6,
     "metadata": {},
     "output_type": "execute_result"
    }
   ],
   "source": [
    "#22.5 리스트 표현식 사용하기\n",
    "b=[i*2 for i in range(10)]\n",
    "b\n",
    "\n",
    "a = [i for i in range(10) if i % 2 == 0]    # 0~9 숫자 중 2의 배수인 숫자(짝수)로 리스트 생성\n",
    "a"
   ]
  },
  {
   "cell_type": "code",
   "execution_count": 7,
   "id": "59716c90",
   "metadata": {},
   "outputs": [
    {
     "name": "stdout",
     "output_type": "stream",
     "text": [
      "19\n"
     ]
    }
   ],
   "source": [
    "a = [38, 21, 53, 62, 19]\n",
    "smallest = a[0]\n",
    "for i in a:\n",
    "    if i < smallest:\n",
    "        smallest = i\n",
    "print(smallest)"
   ]
  },
  {
   "cell_type": "code",
   "execution_count": null,
   "id": "c95dfc8b",
   "metadata": {},
   "outputs": [],
   "source": []
  }
 ],
 "metadata": {
  "kernelspec": {
   "display_name": "Python 3 (ipykernel)",
   "language": "python",
   "name": "python3"
  },
  "language_info": {
   "codemirror_mode": {
    "name": "ipython",
    "version": 3
   },
   "file_extension": ".py",
   "mimetype": "text/x-python",
   "name": "python",
   "nbconvert_exporter": "python",
   "pygments_lexer": "ipython3",
   "version": "3.9.7"
  }
 },
 "nbformat": 4,
 "nbformat_minor": 5
}
