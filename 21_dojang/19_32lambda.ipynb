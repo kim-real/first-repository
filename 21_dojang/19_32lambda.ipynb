{
 "cells": [
  {
   "cell_type": "code",
   "execution_count": 2,
   "id": "9f4fd9b6",
   "metadata": {},
   "outputs": [
    {
     "data": {
      "text/plain": [
       "11"
      ]
     },
     "execution_count": 2,
     "metadata": {},
     "output_type": "execute_result"
    }
   ],
   "source": [
    "#32.1 람다 표현식으로 함수 만들기\n",
    "#lambda로 만든 익명 함수를 호출하려면 다음과 같이 람다 표현식을 변수에 할당\n",
    "plus_ten = lambda x: x + 10\n",
    "plus_ten(1)\n",
    "             \n",
    "#32.1.1  람다 표현식 자체를 호출하기\n",
    "(lambda x: x + 10)(1)    #(lambda 매개변수들: 식)(인수들)"
   ]
  },
  {
   "cell_type": "code",
   "execution_count": 1,
   "id": "dffc2dbc",
   "metadata": {},
   "outputs": [
    {
     "data": {
      "text/plain": [
       "[21, 22, 23]"
      ]
     },
     "execution_count": 1,
     "metadata": {},
     "output_type": "execute_result"
    }
   ],
   "source": [
    "#32.1.3  람다 표현식을 인수로 사용하기\n",
    "def plus_ten(x):\n",
    "    return x + 10\n",
    "\n",
    "#list(map(plus_ten, [1, 2, 3]))\n",
    "\n",
    "list(map(lambda y: y + 20, [1, 2, 3]))   #암기-------------------------------\n"
   ]
  },
  {
   "cell_type": "code",
   "execution_count": 11,
   "id": "93077c85",
   "metadata": {},
   "outputs": [
    {
     "data": {
      "text/plain": [
       "[1, 2, '3', 4, 5, '6', 7, 8, '9', 10]"
      ]
     },
     "execution_count": 11,
     "metadata": {},
     "output_type": "execute_result"
    }
   ],
   "source": [
    "#32.2.1  람다 표현식에 조건부 표현식 사용하기\n",
    "a = [1, 2, 3, 4, 5, 6, 7, 8, 9, 10]\n",
    "list(map(lambda x: str(x) if x % 3 == 0 else x, a))   #암기-------------------------------"
   ]
  },
  {
   "cell_type": "code",
   "execution_count": 12,
   "id": "b785c232",
   "metadata": {},
   "outputs": [
    {
     "data": {
      "text/plain": [
       "['1', 2.0, 13, 14, 15, 16, 17, 18, 19, 20]"
      ]
     },
     "execution_count": 12,
     "metadata": {},
     "output_type": "execute_result"
    }
   ],
   "source": [
    "#1은 문자열로 변환하고, 2는 실수로 변환, 3 이상은 10을 더하는 식\n",
    "a = [1, 2, 3, 4, 5, 6, 7, 8, 9, 10]\n",
    "list(map(lambda x: str(x) if x == 1 else float(x) if x == 2 else x + 10, a))  "
   ]
  },
  {
   "cell_type": "code",
   "execution_count": null,
   "id": "5e56a62e",
   "metadata": {},
   "outputs": [],
   "source": [
    "#32.2.2  map에 객체를 여러 개 넣기\n",
    "a = [1, 2, 3, 4, 5]\n",
    "b = [2, 4, 6, 8, 10]\n",
    "list(map(lambda x, y: x * y, a, b))   # 변수에 맞게 리스트를 콤파로 구분 넣어주기  "
   ]
  },
  {
   "cell_type": "code",
   "execution_count": 14,
   "id": "5e209cb3",
   "metadata": {},
   "outputs": [
    {
     "data": {
      "text/plain": [
       "[8, 7, 9]"
      ]
     },
     "execution_count": 14,
     "metadata": {},
     "output_type": "execute_result"
    }
   ],
   "source": [
    "#32.2.3  filter 사용하기    #filter(함수, 반복가능한객체)\n",
    "#5보다 크면서 10보다 작은 숫자\n",
    "def f(x):\n",
    "    return x > 5 and x < 10\n",
    "\n",
    "a = [8, 3, 2, 10, 15, 7, 1, 9, 0, 11]\n",
    "list(filter(f, a))\n",
    "#람다 사용\n",
    "a = [8, 3, 2, 10, 15, 7, 1, 9, 0, 11]\n",
    "list(filter(lambda x: x > 5 and x < 10, a))  #암기-----------------------"
   ]
  },
  {
   "cell_type": "code",
   "execution_count": 15,
   "id": "58cd83c0",
   "metadata": {},
   "outputs": [
    {
     "data": {
      "text/plain": [
       "15"
      ]
     },
     "execution_count": 15,
     "metadata": {},
     "output_type": "execute_result"
    }
   ],
   "source": [
    "#32.2.4  reduce 사용하기 반복 가능한 객체의 각 요소를 지정된 함수로 처리한 뒤 이전 결과와 누적해서 반환하는 함수\n",
    "#from functools import reduce\n",
    "#reduce(함수, 반복가능한객체)\n",
    "from functools import reduce\n",
    "def f(x, y):\n",
    "     return x + y\n",
    "a = [1, 2, 3, 4, 5]\n",
    "reduce(f, a)\n",
    "#람다\n",
    "a = [1, 2, 3, 4, 5]\n",
    "from functools import reduce\n",
    "reduce(lambda x, y: x + y, a)                 #암기-----------------------"
   ]
  },
  {
   "cell_type": "code",
   "execution_count": 16,
   "id": "3dbdf16b",
   "metadata": {},
   "outputs": [
    {
     "data": {
      "text/plain": [
       "[8, 7, 9]"
      ]
     },
     "execution_count": 16,
     "metadata": {},
     "output_type": "execute_result"
    }
   ],
   "source": [
    "# map, filter와 람다 표현식 대신 리스트 표현식\n",
    "a = [8, 3, 2, 10, 15, 7, 1, 9, 0, 11]\n",
    "[i for i in a if i > 5 and i < 10]   #암기 ----------------------------"
   ]
  },
  {
   "cell_type": "code",
   "execution_count": 19,
   "id": "b8828f15",
   "metadata": {},
   "outputs": [
    {
     "data": {
      "text/plain": [
       "['1.png', '10.jpg', '2.jpg', '3.png']"
      ]
     },
     "execution_count": 19,
     "metadata": {},
     "output_type": "execute_result"
    }
   ],
   "source": [
    "#32.4 연습문제: 이미지 파일만 가져오기 \n",
    "#.jpg, .png인 이미지 파일만 출력\n",
    "files = ['font', '1.png', '10.jpg', '11.gif', '2.jpg', '3.png', 'table.xslx', 'spec.docx']\n",
    "list(filter(lambda x: x.find('.jpg') != -1 or x.find('.png') != -1, files))"
   ]
  },
  {
   "cell_type": "code",
   "execution_count": 2,
   "id": "d179706c",
   "metadata": {},
   "outputs": [
    {
     "ename": "SyntaxError",
     "evalue": "leading zeros in decimal integer literals are not permitted; use an 0o prefix for octal integers (379518502.py, line 2)",
     "output_type": "error",
     "traceback": [
      "\u001b[0;36m  File \u001b[0;32m\"/tmp/ipykernel_90/379518502.py\"\u001b[0;36m, line \u001b[0;32m2\u001b[0m\n\u001b[0;31m    files = list(map(lambda x: {0:03d,input().split())\u001b[0m\n\u001b[0m                                   ^\u001b[0m\n\u001b[0;31mSyntaxError\u001b[0m\u001b[0;31m:\u001b[0m leading zeros in decimal integer literals are not permitted; use an 0o prefix for octal integers\n"
     ]
    }
   ],
   "source": [
    "#/ ►32.5 심사문제: 파일 이름을 한꺼번에 바꾸기\n",
    "files = list(map(lambda x: {0:03d,input().split())\n",
    "\n",
    "#for i in range(files):\n",
    "#    files[i]=str()\n",
    "#print(' {:3d}'.format(lambda x: x > 5 and x < 10))"
   ]
  },
  {
   "cell_type": "code",
   "execution_count": null,
   "id": "86f1b5ec",
   "metadata": {},
   "outputs": [],
   "source": []
  }
 ],
 "metadata": {
  "kernelspec": {
   "display_name": "Python 3 (ipykernel)",
   "language": "python",
   "name": "python3"
  },
  "language_info": {
   "codemirror_mode": {
    "name": "ipython",
    "version": 3
   },
   "file_extension": ".py",
   "mimetype": "text/x-python",
   "name": "python",
   "nbconvert_exporter": "python",
   "pygments_lexer": "ipython3",
   "version": "3.9.7"
  }
 },
 "nbformat": 4,
 "nbformat_minor": 5
}
