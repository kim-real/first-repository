{
 "cells": [
  {
   "cell_type": "code",
   "execution_count": 1,
   "id": "fe7f3793",
   "metadata": {},
   "outputs": [
    {
     "name": "stdout",
     "output_type": "stream",
     "text": [
      "10입니다\n",
      "x=\n",
      "x=\n",
      "10입니다\n",
      "x=\n",
      "10입니다\n"
     ]
    }
   ],
   "source": [
    "#13.1 if조건문\n",
    "x=10\n",
    "if x == 10:            # = 할당, ==비교, : 찍는 것 주의\n",
    "    print(\"10입니다\")  #들여쓰기 주의\n",
    "    \n",
    "#2)f 조건문에 코드 생략 \n",
    "x=10\n",
    "if x == 10:\n",
    "    pass             # 실행 생략 : pass\n",
    "\n",
    "#13.2 if조건문과 들여쓰기\n",
    "x=10\n",
    "if x == 10:         \n",
    "    print(\"x=\")\n",
    "#     print(\"10입니다\")   # indent error\n",
    "    \n",
    "# 옳은 형태\n",
    "x=10\n",
    "if x == 10:         \n",
    "    print(\"x=\")\n",
    "    print(\"10입니다\")   \n",
    "    \n",
    "# 마지막 항상 출력\n",
    "x=5\n",
    "if x == 5:         \n",
    "    print(\"x=\")\n",
    "print(\"10입니다\")        #if조건문과 무관"
   ]
  },
  {
   "cell_type": "code",
   "execution_count": 16,
   "id": "17a0a035",
   "metadata": {},
   "outputs": [
    {
     "name": "stdout",
     "output_type": "stream",
     "text": [
      "10이상입니다\n",
      "15입니다.\n",
      "20\n",
      "20입니다\n"
     ]
    }
   ],
   "source": [
    "#13.3 중첩 if문 사용\n",
    "x=15\n",
    "if x >= 10:         \n",
    "    print(\"10이상입니다\")\n",
    "    if x==15:\n",
    "        print('15입니다.')\n",
    "    if x==20:\n",
    "        print('20입니다.')\n",
    "        \n",
    "#13.4사용자가 입력한 값에 if문 조건 사용하기\n",
    "x=int(input())\n",
    "\n",
    "if x== 10:\n",
    "    print('10입니다')\n",
    "\n",
    "if x == 20:\n",
    "    print('20입니다')\n",
    "    "
   ]
  },
  {
   "cell_type": "code",
   "execution_count": 17,
   "id": "f3eb1d65",
   "metadata": {},
   "outputs": [
    {
     "name": "stdout",
     "output_type": "stream",
     "text": [
      "22000\n",
      "Cash3000\n",
      "19000\n"
     ]
    }
   ],
   "source": [
    "#13.7 심사문제: 온라인 할인 쿠폰 시스템 만들기\n",
    "a=int(input())\n",
    "b=input()\n",
    "if b == 'Cash3000':\n",
    "    a = a - 3000\n",
    "elif b == 'Cash5000':\n",
    "    a = a - 5000\n",
    "else:\n",
    "    print('쿠폰이 없습니다.')\n",
    "print(a)"
   ]
  },
  {
   "cell_type": "code",
   "execution_count": 14,
   "id": "4eb595db",
   "metadata": {},
   "outputs": [
    {
     "name": "stdout",
     "output_type": "stream",
     "text": [
      "10\n",
      "8350\n"
     ]
    }
   ],
   "source": [
    "age = int(input())\n",
    "\n",
    "balance = 9000    \n",
    "if 0< age < 7:\n",
    "    balance -= 0\n",
    "elif 7<= age <= 12:\n",
    "    balance -= 650\n",
    "elif 13<= age <= 18:\n",
    "    balance -= 1050\n",
    "elif age >= 19:\n",
    "    balance -= 1250\n",
    "else:\n",
    "    print('나이오류')\n",
    "\n",
    "print(balance)"
   ]
  },
  {
   "cell_type": "code",
   "execution_count": 19,
   "id": "9d543b71",
   "metadata": {},
   "outputs": [
    {
     "name": "stdout",
     "output_type": "stream",
     "text": [
      "10입니다\n",
      "10입니다\n",
      "10이 아닙니다\n",
      "거짓\n",
      "거짓\n",
      "거짓\n"
     ]
    }
   ],
   "source": [
    "#Unit 14. else를 사용하여 두 방향으로 분기하기\n",
    "#14-1else 사용하기 \n",
    "x = 10\n",
    "if x == 10:\n",
    "    print('10입니다')\n",
    "else:\n",
    "    print('10이 아닙니다')\n",
    "    \n",
    "# 14-2 들여쓰기\n",
    "x = 10\n",
    "if x == 10:\n",
    "    print('10입니다')\n",
    "else:\n",
    "    print('x의 값은 :')\n",
    "print('10이 아닙니다')     #들여쓰기 아님 \n",
    "\n",
    "#14.3 if 조건문의 동작 방식 알아보기  , 수 : 0은 거짓 , 문자열 : 빈문자열 거짓 , list : 빈list 거짓\n",
    "a=tuple();b=list();c=dict()\n",
    "\n",
    "if a:\n",
    "    print('참')    \n",
    "else:\n",
    "    print('거짓')\n",
    "if b:\n",
    "    print('참')\n",
    "else:\n",
    "    print('거짓')    \n",
    "if c:\n",
    "    print('참')\n",
    "else:\n",
    "    print('거짓')\n",
    "    \n",
    "# 14.4 조건식을 여러 개 지정하기"
   ]
  },
  {
   "cell_type": "code",
   "execution_count": null,
   "id": "2fda46bc",
   "metadata": {},
   "outputs": [],
   "source": [
    "#14.7 심사문제: 합격 여부 판단하기\n",
    "a, b, c, d = map(int,input().split())\n",
    "if 0<=a<=100 and 0<=b<=100 and 0<=c<=100 and 0<=d<=100:\n",
    "    if ((a+b+c+d)/4) >= 80:\n",
    "        print('합격')\n",
    "    else:\n",
    "        print('불합격')\n",
    "else:\n",
    "    print('잘못된 점수')"
   ]
  },
  {
   "cell_type": "code",
   "execution_count": null,
   "id": "2e972fb0",
   "metadata": {},
   "outputs": [],
   "source": [
    "age = int(input())\n",
    "\n",
    "balance = 9000    \n",
    "if 0< age < 7:\n",
    "    balance -= 0\n",
    "elif 7<= age <= 12:\n",
    "    balance -= 650\n",
    "elif 13<= age <= 18:\n",
    "    balance -= 1050\n",
    "else:\n",
    "    balance -= 1250\n",
    "\n",
    "print(balance)"
   ]
  }
 ],
 "metadata": {
  "kernelspec": {
   "display_name": "Python 3 (ipykernel)",
   "language": "python",
   "name": "python3"
  },
  "language_info": {
   "codemirror_mode": {
    "name": "ipython",
    "version": 3
   },
   "file_extension": ".py",
   "mimetype": "text/x-python",
   "name": "python",
   "nbconvert_exporter": "python",
   "pygments_lexer": "ipython3",
   "version": "3.9.7"
  },
  "widgets": {
   "application/vnd.jupyter.widget-state+json": {
    "state": {},
    "version_major": 2,
    "version_minor": 0
   }
  }
 },
 "nbformat": 4,
 "nbformat_minor": 5
}
