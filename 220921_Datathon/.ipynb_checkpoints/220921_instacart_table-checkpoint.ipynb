{
 "cells": [
  {
   "cell_type": "markdown",
   "id": "daf4a8ec",
   "metadata": {},
   "source": [
    "    orders\n",
    "    ## Observations: 3,421,083\n",
    "    ## Variables: 7\n",
    "    ## $ order_id               <int> 2539329, 2398795, 473747, 2254736, 4315...\n",
    "     ## $ user_id                <int> 1, 1, 1, 1, 1, 1, 1, 1, 1, 1, 1, 2, 2, ...\n",
    "    ## $ eval_set               <chr> \"prior\", \"prior\", \"prior\", \"prior\", \"pr...\n",
    "    ## $ order_number           <int> 1, 2, 3, 4, 5, 6, 7, 8, 9, 10, 11, 1, 2...\n",
    "    ## $ order_dow              <int> 2, 3, 3, 4, 4, 2, 1, 1, 1, 4, 4, 2, 5, ...\n",
    "    ## $ order_hour_of_day      <int> 8, 7, 12, 7, 15, 7, 9, 14, 16, 8, 8, 11...\n",
    "    ## $ days_since_prior_order <dbl> NA, 15, 21, 29, 28, 19, 20, 14, 0, 30, ...\n",
    "\n",
    "    (order_products 주문과 제품 연결\n",
    "    ## Observations: 1,384,617\n",
    "    ## Variables: 4\n",
    "    ## $ order_id          <int> 1, 1, 1, 1, 1, 1, 1, 1, 36, 36, 36, 36, 36, ...\n",
    "    ## $ product_id        <int> 49302, 11109, 10246, 49683, 43633, 13176, 47...\n",
    "    ## $ add_to_cart_order <int> 1, 2, 3, 4, 5, 6, 7, 8, 1, 2, 3, 4, 5, 6, 7,...\n",
    "    ## $ reordered         <int> 1, 1, 0, 0, 1, 0, 0, 1, 0, 1, 0, 1, 1, 1, 1,...\n",
    "\n",
    "    제품\n",
    "    ## Observations: 49,688\n",
    "    ## Variables: 4\n",
    "    ## $ product_id    <int> 1, 2, 3, 4, 5, 6, 7, 8, 9, 10, 11, 12, 13, 14, 1...\n",
    "    ## $ product_name  <chr> \"Chocolate Sandwich Cookies\", \"All-Seasons Salt\"...\n",
    "    ## $ aisle_id      <int> 61, 104, 94, 38, 5, 11, 98, 116, 120, 115, 31, 1...\n",
    "    ## $ department_id <int> 19, 13, 7, 1, 13, 11, 7, 1, 16, 7, 7, 1, 11, 17,...\n",
    "\n",
    "\n",
    "    주문별 제품별 cart order (+재주문율\n",
    "    ## Observations: 32,434,489\n",
    "    ## Variables: 4\n",
    "    ## $ order_id          <int> 2, 2, 2, 2, 2, 2, 2, 2, 2, 3, 3, 3, 3, 3, 3,...\n",
    "    ## $ product_id        <int> 33120, 28985, 9327, 45918, 30035, 17794, 401...\n",
    "    ## $ add_to_cart_order <int> 1, 2, 3, 4, 5, 6, 7, 8, 9, 1, 2, 3, 4, 5, 6,...\n",
    "    ## $ reordered         <int> 1, 1, 0, 1, 0, 1, 1, 1, 0, 1, 1, 1, 1, 1, 1,...\n",
    "\n",
    "    식품류\n",
    "    ## Observations: 134\n",
    "    ## Variables: 2\n",
    "    ## $ aisle_id <int> 1, 2, 3, 4, 5, 6, 7, 8, 9, 10, 11, 12, 13, 14, 15, 16...\n",
    "    ## $ aisle    <chr> \"prepared soups salads\", \"specialty cheeses\", \"energy...\n",
    "\n",
    "\n",
    "    주문master\n",
    "    ## Observations: 21\n",
    "    ## Variables: 2\n",
    "    ## $ department_id <int> 1, 2, 3, 4, 5, 6, 7, 8, 9, 10, 11, 12, 13, 14, 1...\n",
    "    ## $ department    <chr> \"frozen\", \"other\", \"bakery\", \"produce\", \"alcohol..."
   ]
  }
 ],
 "metadata": {
  "kernelspec": {
   "display_name": "Python 3 (ipykernel)",
   "language": "python",
   "name": "python3"
  },
  "language_info": {
   "codemirror_mode": {
    "name": "ipython",
    "version": 3
   },
   "file_extension": ".py",
   "mimetype": "text/x-python",
   "name": "python",
   "nbconvert_exporter": "python",
   "pygments_lexer": "ipython3",
   "version": "3.9.7"
  }
 },
 "nbformat": 4,
 "nbformat_minor": 5
}
