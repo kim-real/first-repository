{
 "cells": [
  {
   "cell_type": "markdown",
   "id": "932053c6",
   "metadata": {},
   "source": [
    "여러분 모두를 환영하고 Instacart Market Basket 대회에서 행운을 빕니다!\n",
    "여기 경쟁 데이터 세트에 대한 첫 번째 탐색적 분석이 있다. 인스타카트는 홈페이지에서 사용자에게 다시 구매할 수 있는 아이템을 추천해 주는 추천 기능이 있다. 우리의 과제는 다음 주문 시 어떤 품목이 재주문될지 예측하는 것입니다.\n",
    "\n",
    "데이터 세트는 6csv 파일에 분산된 340만 개의 식료품 주문에 대한 정보로 구성된다."
   ]
  },
  {
   "cell_type": "code",
   "execution_count": null,
   "id": "7461d659",
   "metadata": {},
   "outputs": [],
   "source": [
    "#order read\n",
    "kable(head(orders,12))"
   ]
  },
  {
   "cell_type": "code",
   "execution_count": null,
   "id": "e94a6ca0",
   "metadata": {},
   "outputs": [],
   "source": [
    "glimpse(orders)"
   ]
  },
  {
   "cell_type": "code",
   "execution_count": null,
   "id": "5f0a6a60",
   "metadata": {},
   "outputs": [],
   "source": [
    "#We should do some recoding and convert character variables to factors.\n",
    "orders \n",
    "mutate(order_hour_of_day = as.numeric(order_hour_of_day), eval_set = as.factor(eval_set))\n",
    "products \n",
    "mutate(product_name = as.factor(product_name))\n",
    "aisles \n",
    "mutate(aisle = as.factor(aisle))\n",
    "departments \n",
    "mutate(department = as.factor(department))"
   ]
  },
  {
   "cell_type": "code",
   "execution_count": null,
   "id": "72d6dbf4",
   "metadata": {},
   "outputs": [],
   "source": [
    "#주문량에 대한 하루의 시간의 분명한 효과가 있다. 대부분의 주문은 8.00-18.00 사이입니다.\n",
    "#Let’s have a look when people buy groceries online.\n",
    "orders\n",
    "ggplot(aes(x=order_hour_of_day)) + \n",
    "geom_histogram(stat=\"count\",fill=\"red\")"
   ]
  },
  {
   "cell_type": "code",
   "execution_count": null,
   "id": "3751e199",
   "metadata": {},
   "outputs": [],
   "source": [
    "#요일\n",
    "#요일의 효과가 뚜렷하다. 대부분의 주문은 0일과 1일에 있습니다. \n",
    "#안타깝게도 어떤 값이 어떤 요일을 나타내는지에 대한 정보는 없지만 오늘이 주말이라고 가정할 수 있습니다.\n",
    "orders \n",
    "ggplot(aes(x=order_dow)) + \n",
    "geom_histogram(stat=\"count\",fill=\"red\")"
   ]
  },
  {
   "cell_type": "code",
   "execution_count": null,
   "id": "43dddc85",
   "metadata": {},
   "outputs": [],
   "source": [
    "#When do they order again? 재주문 1주일\n",
    "#People seem to order more often after exactly 1 week.\n",
    "orders \n",
    "ggplot(aes(x=days_since_prior_order)) + \n",
    "geom_histogram(stat=\"count\",fill=\"red\")"
   ]
  },
  {
   "cell_type": "code",
   "execution_count": null,
   "id": "5d5f73e0",
   "metadata": {},
   "outputs": [],
   "source": [
    "#How many prior orders are there?  사전주문 3\n",
    "#We can see that there are always at least 3 prior orders.\n",
    "orders \n",
    "filter(eval_set==\"prior\") \n",
    "count(order_number) \n",
    "ggplot(aes(order_number,n)) + geom_line(color=\"red\", size=1)+geom_point(size=2, color=\"red\")"
   ]
  },
  {
   "cell_type": "code",
   "execution_count": null,
   "id": "7cf0df23",
   "metadata": {},
   "outputs": [],
   "source": [
    "#How many items do people buy?  5개 정도 산다\n",
    "#Let’s have a look how many items are in the orders. \n",
    "#We can see that people most often order around 5 items. The distributions are comparable between the train and prior order set.\n",
    "order_products\n",
    "group_by(order_id) \n",
    "summarize(n_items = last(add_to_cart_order)) \n",
    "ggplot(aes(x=n_items))+\n",
    "geom_histogram(stat=\"count\",fill=\"red\") + geom_rug()+ coord_cartesian(xlim=c(0,80))"
   ]
  },
  {
   "cell_type": "code",
   "execution_count": null,
   "id": "30357a15",
   "metadata": {},
   "outputs": [],
   "source": [
    "#estsellers 가장 잘 팔리는 거\n",
    "#Let’s have a look which products are sold most often (top10). And the clear winner is: Bananas\n",
    "tmp <- order_products\n",
    "group_by(product_id)  \n",
    "summarize(count = n())  \n",
    "top_n(10, wt = count) \n",
    "left_join(select(products,product_id,product_name),by=\"product_id\") \n",
    "arrange(desc(count)) \n",
    "kable(tmp)\n",
    "\n",
    "tmp\n",
    "ggplot(aes(x=reorder(product_name,-count), y=count))+\n",
    "geom_bar(stat=\"identity\",fill=\"red\")+\n",
    "theme(axis.text.x=element_text(angle=90, hjust=1),axis.title.x = element_blank())\n"
   ]
  },
  {
   "cell_type": "code",
   "execution_count": null,
   "id": "6b047765",
   "metadata": {},
   "outputs": [],
   "source": [
    "#How often do people order the same items again? 재주문율\n",
    "#59% of the ordered items are reorders.\n",
    "tmp <- order_products\n",
    "group_by(reordered)  \n",
    "summarize(count = n())\n",
    "mutate(reordered = as.factor(reordered)) \n",
    "mutate(proportion = count/sum(count))\n",
    "\n",
    "kable(tmp)\n",
    "ggplot(aes(x=reordered,y=count,fill=reordered))+\n",
    "geom_bar(stat=\"identity\")"
   ]
  },
  {
   "cell_type": "code",
   "execution_count": null,
   "id": "83cbe063",
   "metadata": {},
   "outputs": [],
   "source": [
    "#Most often reordered 10가지 재주문\n",
    "#Now here it becomes really interesting. These 10 products have the highest probability of being reordered.\n",
    "tmp <-order_products \n",
    "group_by(product_id) \n",
    "summarize(proportion_reordered = mean(reordered), n=n()) \n",
    "filter(n>40) \n",
    "top_n(10,wt=proportion_reordered) \n",
    "arrange(desc(proportion_reordered)) \n",
    "left_join(products,by=\"product_id\")\n",
    "\n",
    "kable(tmp)\n",
    "\n",
    "tmp\n",
    "ggplot(aes(x=reorder(product_name,-proportion_reordered), y=proportion_reordered))+\n",
    "geom_bar(stat=\"identity\",fill=\"red\")+\n",
    "theme(axis.text.x=element_text(angle=90, hjust=1),axis.title.x = element_blank())+coord_cartesian(ylim=c(0.85,0.95))"
   ]
  },
  {
   "cell_type": "code",
   "execution_count": null,
   "id": "7b5e0666",
   "metadata": {},
   "outputs": [],
   "source": [
    "#Which item do people put into the cart first? 어느 물건 먼저 cart\n",
    "#People seem to be quite certain about Multifold Towels and if they buy them, put them into their cart first in 66% of the time.\n",
    "tmp <- order_products  \n",
    "group_by(product_id, add_to_cart_order) \n",
    "summarize(count = n()) \n",
    "mutate(pct=count/sum(count)) \n",
    "filter(add_to_cart_order == 1, count>10) \n",
    "arrange(desc(pct)) \n",
    "left_join(products,by=\"product_id\") \n",
    "select(product_name, pct, count) \n",
    "ungroup() \n",
    "top_n(10, wt=pct)\n",
    "\n",
    "kable(tmp)\n",
    "\n",
    "tmp \n",
    "ggplot(aes(x=reorder(product_name,-pct), y=pct))+\n",
    "geom_bar(stat=\"identity\",fill=\"red\")+\n",
    "theme(axis.text.x=element_text(angle=90, hjust=1),axis.title.x = element_blank())+coord_cartesian(ylim=c(0.4,0.7))"
   ]
  },
  {
   "cell_type": "code",
   "execution_count": null,
   "id": "7640ddeb",
   "metadata": {},
   "outputs": [],
   "source": [
    "#ssociation between time of last order and probability of reorder 같은 날 주문시 같은 제품 주문\n",
    "#This is interesting: We can see that if people order again on the same day, \n",
    "#    they order the same product more often. Whereas when 30 days have passed, they tend to try out new things in their order.\n",
    "    \n",
    "order_products\n",
    "left_join(orders,by=\"order_id\")  \n",
    "group_by(days_since_prior_order) \n",
    "summarize(mean_reorder = mean(reordered)) \n",
    "ggplot(aes(x=days_since_prior_order,y=mean_reorder))+\n",
    "geom_bar(stat=\"identity\",fill=\"red\")"
   ]
  },
  {
   "cell_type": "code",
   "execution_count": null,
   "id": "09bb228f",
   "metadata": {},
   "outputs": [],
   "source": [
    "#Association between number of orders and probability of reordering 주문률이 많은 젓은 재주문이 많다\n",
    "#Products with a high number of orders are naturally more likely to be reordered. However, there seems to be a ceiling effect.\n",
    "order_products  \n",
    "group_by(product_id)  \n",
    "summarize(proportion_reordered = mean(reordered), n=n()) \n",
    "ggplot(aes(x=n,y=proportion_reordered))+\n",
    "geom_point()+\n",
    "geom_smooth(color=\"red\")+\n",
    "coord_cartesian(xlim=c(0,2000))\n",
    "\n",
    "tmp  \n",
    "ggplot(aes(x=organic,y=count, fill=organic))+\n",
    "geom_bar(stat=\"identity\")"
   ]
  },
  {
   "cell_type": "code",
   "execution_count": null,
   "id": "183c12db",
   "metadata": {},
   "outputs": [],
   "source": [
    "#Reordering Organic vs Non-Organic  유기농 제품 더 \n",
    "#People more often reorder organic products vs non-organic products.\n",
    "tmp \n",
    "order_products  left_join(products,by=\"product_id\")  group_by(organic)  summarize(mean_reordered = mean(reordered))\n",
    "kable(tmp)\n",
    "\n",
    "tmp  \n",
    "  ggplot(aes(x=organic,fill=organic,y=mean_reordered))+geom_bar(stat=\"identity\")"
   ]
  },
  {
   "cell_type": "code",
   "execution_count": null,
   "id": "8751babf",
   "metadata": {},
   "outputs": [],
   "source": [
    "#Visualizing the Product Portfolio  포트폴리오 시각화\n",
    "#Here is use to treemap package to visualize the structure of\n",
    "#instacarts product portfolio. In total there are 21 departments containing 134 aisles.\n",
    "library(treemap)\n",
    "\n",
    "tmp <- products  group_by(department_id, aisle_id)  summarize(n=n())\n",
    "tmp <- tmp  left_join(departments,by=\"department_id\")\n",
    "tmp <- tmp %>% left_join(aisles,by=\"aisle_id\")\n",
    "\n",
    "tmp2<-order_products \n",
    "group_by(product_id) \n",
    "summarize(count=n()) \n",
    "left_join(products,by=\"product_id\")  \n",
    "ungroup()  \n",
    "group_by(department_id,aisle_id)  \n",
    "summarize(sumcount = sum(count))  \n",
    "left_join(tmp, by = c(\"department_id\", \"aisle_id\"))  \n",
    "mutate(onesize = 1)"
   ]
  },
  {
   "cell_type": "code",
   "execution_count": null,
   "id": "7631b2d0",
   "metadata": {},
   "outputs": [],
   "source": [
    "#How are aisles organized within departments?\n",
    "treemap(tmp2,index=c(\"department\",\"aisle\"),vSize=\"onesize\",vColor=\"department\",palette=\"Set3\",title=\"\",\n",
    "        sortID=\"-sumcount\", border.col=\"#FFFFFF\",type=\"categorical\", fontsize.legend = 0,bg.labels = \"#FFFFFF\")"
   ]
  },
  {
   "cell_type": "code",
   "execution_count": null,
   "id": "74ec2e14",
   "metadata": {},
   "outputs": [],
   "source": [
    "#How many unique products are offered in each department/aisle?\n",
    "#The size of the boxes shows the number of products in each category.\n",
    "treemap(tmp,index=c(\"department\",\"aisle\"),vSize=\"n\",title=\"\",palette=\"Set3\",border.col=\"#FFFFFF\")"
   ]
  },
  {
   "cell_type": "code",
   "execution_count": null,
   "id": "4b2fdb57",
   "metadata": {},
   "outputs": [],
   "source": [
    "#How often are products from the department/aisle sold?\n",
    "#The size of the boxes shows the number of sales.\n",
    "treemap(tmp2,index=c(\"department\",\"aisle\"),vSize=\"sumcount\",title=\"\",palette=\"Set3\",border.col=\"#FFFFFF\")"
   ]
  },
  {
   "cell_type": "code",
   "execution_count": null,
   "id": "42725dcd",
   "metadata": {},
   "outputs": [],
   "source": [
    "#Exploring Customer Habits  항상 재주분 고객\n",
    "#Here i look for customers who just reorder the same products again all the time. To search those I look at all orders\n",
    "#(excluding the first order), where the percentage of reordered items is exactly 1 \n",
    "#(This can easily be adapted to look at more lenient thresholds). \n",
    "#We can see there are in fact 3,487 customers, just always reordering products.\\tmp <- order_products_prior %>% \n",
    "group_by(order_id)  \n",
    "summarize(m = mean(reordered),n=n())  \n",
    "right_join(filter(orders,order_number>2), by=\"order_id\")\n",
    "\n",
    "tmp2 <- tmp  \n",
    "filter(eval_set ==\"prior\")  \n",
    "group_by(user_id)  \n",
    "summarize(n_equal = sum(m==1,na.rm=T), percent_equal = n_equal/n())  \n",
    "filter(percent_equal == 1)  \n",
    "arrange(desc(n_equal))\n",
    "\n",
    "datatable(tmp2, class=\"table-condensed\", style=\"bootstrap\", options = list(dom = 'tp'))"
   ]
  },
  {
   "cell_type": "code",
   "execution_count": null,
   "id": "5851029c",
   "metadata": {},
   "outputs": [],
   "source": [
    "#The customer with the strongest habit\n",
    "#The coolest customer is id #99753,\n",
    "#having 97 orders with only reordered items. That’s what I call a strong habit. She/he seems to like Organic Milk :-)\n",
    "uniqueorders <- filter(tmp, user_id == 99753)\n",
    "order_id\n",
    "tmp <- order_products_prior  \n",
    "filter(order_id %in% uniqueorders)  \n",
    "left_join(products, by=\"product_id\")\n",
    "\n",
    "datatable(select(tmp,-aisle_id,-department_id,-organic), style=\"bootstrap\", class=\"table-condensed\", options = list(dom = 'tp'))"
   ]
  },
  {
   "cell_type": "code",
   "execution_count": null,
   "id": "bf073c4e",
   "metadata": {},
   "outputs": [],
   "source": [
    "#Let’s look at his order in the train set. One would assume that he would buy \n",
    "#“Organic Whole Milk” and “Organic Reduced Fat Milk”:\n",
    "    \n",
    "tmp <- orders  filter(user_id==99753, eval_set == \"train\")\n",
    "tmp2 <- order_products   \n",
    "filter(order_id == tmp$order_id)  \n",
    "left_join(products, by=\"product_id\")\n",
    "\n",
    "datatable(select(tmp2,-aisle_id,-department_id,-organic), style=\"bootstrap\", class=\"table-condensed\", options = list(dom = 't'))"
   ]
  }
 ],
 "metadata": {
  "kernelspec": {
   "display_name": "Python 3 (ipykernel)",
   "language": "python",
   "name": "python3"
  },
  "language_info": {
   "codemirror_mode": {
    "name": "ipython",
    "version": 3
   },
   "file_extension": ".py",
   "mimetype": "text/x-python",
   "name": "python",
   "nbconvert_exporter": "python",
   "pygments_lexer": "ipython3",
   "version": "3.9.7"
  }
 },
 "nbformat": 4,
 "nbformat_minor": 5
}
