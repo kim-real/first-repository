{
 "cells": [
  {
   "cell_type": "code",
   "execution_count": 1,
   "id": "1747771d",
   "metadata": {},
   "outputs": [
    {
     "name": "stdout",
     "output_type": "stream",
     "text": [
      "42.42640687119285\n"
     ]
    }
   ],
   "source": [
    "#37.1 두 점 사이의 거리 구하기\n",
    "import math\n",
    " \n",
    "class Point2D:\n",
    "    def __init__(self, x, y):\n",
    "        self.x = x\n",
    "        self.y = y\n",
    "\n",
    "p1 = Point2D(x=30, y=20)    # 점1\n",
    "p2 = Point2D(x=60, y=50)    # 점2\n",
    " \n",
    "a = p2.x - p1.x    # 선 a의 길이\n",
    "b = p2.y - p1.y    # 선 b의 길이\n",
    " \n",
    "c = math.sqrt((a * a) + (b * b))    # (a * a) + (b * b)의 제곱근을 구함 \n",
    "#c = math.sqrt(math.pow(a, 2) + math.pow(b, 2))   # pow 함수\n",
    "print(c)    # 42.42640687119285"
   ]
  },
  {
   "cell_type": "code",
   "execution_count": 3,
   "id": "1ac9e7c4",
   "metadata": {},
   "outputs": [
    {
     "data": {
      "text/plain": [
       "1"
      ]
     },
     "execution_count": 3,
     "metadata": {},
     "output_type": "execute_result"
    }
   ],
   "source": [
    "#절댓값 함수  abs(값) , 정수는 절댓값을 정수로 반환, 실수는 절댓값을 실수로 반환\n",
    "\n",
    "abs(-1)\n",
    "#math.fabs(-10)     #절댓값을 실수로 반환"
   ]
  },
  {
   "cell_type": "code",
   "execution_count": null,
   "id": "f5204ab4",
   "metadata": {},
   "outputs": [],
   "source": [
    "#namedtuple 사용하기\n",
    "import math\n",
    "import collections\n",
    " \n",
    "Point2D = collections.namedtuple('Point2D', ['x', 'y'])    # namedtuple로 점 표현  함수가 아닌 것이 함수 구글링???????????\n",
    " \n",
    "p1 = Point2D(x=30, y=20)    # 점1\n",
    "p2 = Point2D(x=60, y=50)    # 점2\n",
    " \n",
    "a = p1.x - p2.x    # 선 a의 길이\n",
    "b = p1.y - p2.y    # 선 b의 길이\n",
    " \n",
    "c = math.sqrt((a * a) + (b * b))\n",
    "print(c)    # 42.42640687119285"
   ]
  },
  {
   "cell_type": "code",
   "execution_count": 1,
   "id": "b8ab8bfe",
   "metadata": {},
   "outputs": [
    {
     "data": {
      "text/plain": [
       "200"
      ]
     },
     "execution_count": 1,
     "metadata": {},
     "output_type": "execute_result"
    }
   ],
   "source": [
    "#37.2 연습문제: 사각형의 넓이 구하기\n",
    "class Rectangle:\n",
    "    def __init__(self, x1, y1, x2, y2):\n",
    "        self.x1 = x1\n",
    "        self.y1 = y1\n",
    "        self.x2 = x2\n",
    "        self.y2 = y2\n",
    "    def area(self):\n",
    "        area= abs((self.x1-self.x2))*abs((self.y1-self.y2))\n",
    "        return area\n",
    "\n",
    "rect = Rectangle(x1=20, y1=20, x2=40, y2=30)\n",
    "rect.area()\n",
    "                             \n",
    "#print(area)"
   ]
  },
  {
   "cell_type": "code",
   "execution_count": 6,
   "id": "7442bf0d",
   "metadata": {},
   "outputs": [
    {
     "name": "stdout",
     "output_type": "stream",
     "text": [
      "1 1 2 1 2 2 1 2\n",
      "13.416407864998739\n"
     ]
    }
   ],
   "source": [
    "#37.3 심사문제: 두 점 사이의 거리 구하기\n",
    "import math\n",
    " \n",
    "class Point2D:\n",
    "    def __init__(self, x=0, y=0):\n",
    "        self.x = x\n",
    "        self.y = y\n",
    "        \n",
    "length = 0.0\n",
    "p = [Point2D(), Point2D(), Point2D(), Point2D()]\n",
    "p[0].x, p[0].y, p[1].x, p[1].y, p[2].x, p[2].y, p[3].x, p[3].y = map(int, input().split())\n",
    "\n",
    "for i in range(len(p)):\n",
    "    if i != 3:\n",
    "        length += math.sqrt(pow(p[i].x * p[i+1].x,2) + pow(p[i].y * p[i+1].y,2))\n",
    "    else:\n",
    "        length += math.sqrt(pow(p[i].x * p[0].x,2) + pow(p[i].y * p[0].y,2))\n",
    "        \n",
    "print(length)"
   ]
  },
  {
   "cell_type": "code",
   "execution_count": null,
   "id": "54ac9f2e",
   "metadata": {},
   "outputs": [],
   "source": []
  }
 ],
 "metadata": {
  "kernelspec": {
   "display_name": "Python 3 (ipykernel)",
   "language": "python",
   "name": "python3"
  },
  "language_info": {
   "codemirror_mode": {
    "name": "ipython",
    "version": 3
   },
   "file_extension": ".py",
   "mimetype": "text/x-python",
   "name": "python",
   "nbconvert_exporter": "python",
   "pygments_lexer": "ipython3",
   "version": "3.9.7"
  }
 },
 "nbformat": 4,
 "nbformat_minor": 5
}
