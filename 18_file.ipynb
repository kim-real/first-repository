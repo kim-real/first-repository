{
 "cells": [
  {
   "cell_type": "code",
   "execution_count": 1,
   "id": "97d528e2",
   "metadata": {},
   "outputs": [
    {
     "name": "stdout",
     "output_type": "stream",
     "text": [
      "Hello, world!\n",
      "Hello, world!\n"
     ]
    }
   ],
   "source": [
    "#27.1 파일에 문자열 쓰기, 읽기\n",
    "file = open('hello.txt', 'w')    # hello.txt 파일을 쓰기 모드(w)로 열기. 파일 객체 반환\n",
    "file.write('Hello, world!')      # 파일에 문자열 저장\n",
    "file.close()                     # 파일 객체 닫기\n",
    "#27.1.2  파일에서 문자열 읽기\n",
    "file = open('hello.txt', 'r')    # hello.txt 파일을 읽기 모드(r)로 열기. 파일 객체 반환\n",
    "s = file.read()                  # 파일에서 문자열 읽기\n",
    "print(s)                         # Hello, world!\n",
    "file.close()                     # 파일 객체 닫기\n",
    "\n",
    "# 7.1.3  자동으로 파일 객체 닫기\n",
    "with open('hello.txt', 'r') as file:    # hello.txt 파일을 읽기 모드(r)로 열기\n",
    "    s = file.read()                     # 파일에서 문자열 읽기\n",
    "    print(s)                            # Hello, world!\n"
   ]
  },
  {
   "cell_type": "code",
   "execution_count": 9,
   "id": "2e86d0d0",
   "metadata": {},
   "outputs": [
    {
     "name": "stdout",
     "output_type": "stream",
     "text": [
      "['Hello, world! 0\\n', 'Hello, world! 1\\n', 'Hello, world! 2\\n']\n",
      "Hello, world! 0\n",
      "\n",
      "Hello, world! 1\n",
      "\n",
      "Hello, world! 2\n",
      "\n",
      "\n"
     ]
    }
   ],
   "source": [
    "#27.2 문자열 여러 줄을 파일에 쓰기, 읽기\n",
    "#lines = ['안녕하세요.\\n', '파이썬\\n', '코딩 도장입니다.\\n']\n",
    "#with open('hello.txt', 'w') as file:    # hello.txt 파일을 쓰기 모드(w)로 열기\n",
    "#    for i in range(3):\n",
    "#        file.write('Hello, world! {0}\\n'.format(i))\n",
    "        \n",
    "\n",
    "#27.2.2  리스트에 들어있는 문자열을 파일에 쓰기\n",
    "#lines = ['안녕하세요.\\n', '파이썬\\n', '코딩 도장입니다.\\n']\n",
    "#with open('hello.txt', 'w') as file:    # hello.txt 파일을 쓰기 모드(w)로 열기\n",
    "#    file.writelines(lines)\n",
    "    \n",
    "#27.2.3  파일의 내용을 한 줄씩 리스트로 가져오기\n",
    "with open('hello.txt', 'r') as file:    # hello.txt 파일을 읽기 모드(r)로 열기\n",
    "    lines = file.readlines()\n",
    "    print(lines)\n",
    "    \n",
    "#27.2.4  파일의 내용을 한 줄씩 읽기  암기 --------------------------------------------------------------------------------\n",
    "with open('hello.txt', 'r') as file:    # hello.txt 파일을 읽기 모드(r)로 열기\n",
    "    line = None    # 변수 line을 None으로 초기화\n",
    "    while line != '':\n",
    "        line = file.readline().strip('\\n')\n",
    "        print(line)    # 파일에서 읽어온 문자열에서 \\n 삭제하여 출력\n",
    "        \n",
    "#27.2.5  for 반복문으로 파일의 내용을 줄 단위로 읽기\n",
    "#with open('hello.txt', 'r') as file:    # hello.txt 파일을 읽기 모드(r)로 열기\n",
    "#    for line in file:    # for에 파일 객체를 지정하면 파일의 내용을 한 줄씩 읽어서 변수에 저장함\n",
    "#        print(line.strip('\\n'))    # 파일에서 읽어온 문자열에서 \\n 삭제하여 출력"
   ]
  },
  {
   "cell_type": "code",
   "execution_count": 11,
   "id": "54c43b6c",
   "metadata": {},
   "outputs": [
    {
     "name": "stdout",
     "output_type": "stream",
     "text": [
      "james\n",
      "17\n",
      "서울시 서초구 반포동\n",
      "{'korean': 90, 'english': 95, 'mathematics': 85, 'science': 82}\n"
     ]
    }
   ],
   "source": [
    "#27.3 파이썬 객체를 파일에 저장하기, 가져오기  암기--------------------------------------\n",
    "import pickle\n",
    " \n",
    "name = 'james'\n",
    "age = 17\n",
    "address = '서울시 서초구 반포동'\n",
    "scores = {'korean': 90, 'english': 95, 'mathematics': 85, 'science': 82}\n",
    " \n",
    "with open('james.p', 'wb') as file:    # james.p 파일을 바이너리 쓰기 모드(wb)로 열기\n",
    "    pickle.dump(name, file)\n",
    "    pickle.dump(age, file)\n",
    "    pickle.dump(address, file)\n",
    "    pickle.dump(scores, file)\n",
    "    \n",
    "#--- 읽어보기    -------------------------------암기\n",
    "import pickle\n",
    " \n",
    "with open('james.p', 'rb') as file:    # james.p 파일을 바이너리 읽기 모드(rb)로 열기\n",
    "    name = pickle.load(file)\n",
    "    age = pickle.load(file)\n",
    "    address = pickle.load(file)\n",
    "    scores = pickle.load(file)\n",
    "    print(name)\n",
    "    print(age)\n",
    "    print(address)\n",
    "    print(scores)"
   ]
  },
  {
   "cell_type": "code",
   "execution_count": 13,
   "id": "e7ca6d15",
   "metadata": {},
   "outputs": [
    {
     "name": "stdout",
     "output_type": "stream",
     "text": [
      "단어수 :  4\n"
     ]
    }
   ],
   "source": [
    "#27.5 연습문제: 파일에서 10자 이하인 단어 개수 세기\n",
    "with open('words.txt','r') as file:\n",
    "    line = None\n",
    "    count = 0\n",
    "    while line != '':\n",
    "        line=file.readline().strip('\\n')\n",
    "        if len(line) < 10:\n",
    "            count += 1\n",
    "    print('단어수 : ',count)"
   ]
  },
  {
   "cell_type": "code",
   "execution_count": 35,
   "id": "756b4644",
   "metadata": {},
   "outputs": [
    {
     "name": "stdout",
     "output_type": "stream",
     "text": [
      "dictator\n",
      "subjects\n",
      "change\n",
      "costume\n",
      "elegance\n",
      "accepted\n"
     ]
    }
   ],
   "source": [
    "#27.6 심사문제: 특정 문자가 들어있는 단어 찾기\n",
    "with open('words.txt','r') as file:\n",
    "    s=file.read()\n",
    "    list_s=list(s.split(' '))\n",
    "\n",
    "    for i in range(len(list_s)):\n",
    "        chk=''\n",
    "        for j in range(len(list_s[i])):\n",
    "            if list_s[i][j] == 'c':\n",
    "                chk='y'\n",
    "        if chk == 'y':\n",
    "            print(list_s[i].strip(',.'))\n",
    "\n",
    "\n",
    "     "
   ]
  },
  {
   "cell_type": "code",
   "execution_count": null,
   "id": "e7f44467",
   "metadata": {},
   "outputs": [],
   "source": [
    "#Unit 28. 회문 판별과 N-gram 만들기\n",
    "word = input('단어를 입력하세요: ')\n",
    " \n",
    "is_palindrome = True                 # 회문 판별값을 저장할 변수, 초깃값은 True\n",
    "for i in range(len(word) // 2):      # 0부터 문자열 길이의 절반만큼 반복\n",
    "    if word[i] != word[-1 - i]:      # 왼쪽 문자와 오른쪽 문자를 비교하여 문자가 다르면\n",
    "        is_palindrome = False        # 회문이 아님\n",
    "        break\n",
    " \n",
    "print(is_palindrome)         "
   ]
  },
  {
   "cell_type": "code",
   "execution_count": 37,
   "id": "4370b12a",
   "metadata": {},
   "outputs": [
    {
     "data": {
      "text/plain": [
       "True"
      ]
     },
     "execution_count": 37,
     "metadata": {},
     "output_type": "execute_result"
    }
   ],
   "source": [
    "#회문2  암기 ----------------------------------------------------------------------------\n",
    "#word = 'level'\n",
    "#print(word == word[::-1])    # 원래 문자열과 반대로 뒤집은 문자열을 비교\n",
    "\n",
    "#회문3\n",
    "word = 'level'\n",
    "list(word) == list(reversed(word))\n",
    "\n",
    "#회문4\n",
    "#word = 'level'\n",
    "#word == ''.join(reversed(word))"
   ]
  },
  {
   "cell_type": "code",
   "execution_count": 38,
   "id": "35907b28",
   "metadata": {},
   "outputs": [
    {
     "name": "stdout",
     "output_type": "stream",
     "text": [
      "He\n",
      "el\n",
      "ll\n",
      "lo\n",
      "this is\n",
      "is python\n",
      "python script\n"
     ]
    }
   ],
   "source": [
    "#28.2 N-gram 만들기\n",
    "#28.2.1  반복문으로 N-gram 출력하기\n",
    "text = 'Hello'\n",
    "for i in range(len(text) - 1):             # 2-gram이므로 문자열의 끝에서 한 글자 앞까지만 반복함\n",
    "    print(text[i], text[i + 1], sep='')    # 현재 문자와 그다음 문자 출력\n",
    "#3그램\n",
    "text = 'this is python script'\n",
    "words = text.split()                 # 공백을 기준으로 문자열을 분리하여 리스트로 만듦\n",
    " \n",
    "for i in range(len(words) - 1):      # 2-gram이므로 리스트의 마지막에서 요소 한 개 앞까지만 반복함\n",
    "    print(words[i], words[i + 1])    # 현재 문자열과 그다음 문자열 출력"
   ]
  },
  {
   "cell_type": "code",
   "execution_count": 39,
   "id": "d0b98831",
   "metadata": {},
   "outputs": [
    {
     "name": "stdout",
     "output_type": "stream",
     "text": [
      "he\n",
      "el\n",
      "ll\n",
      "lo\n"
     ]
    },
    {
     "data": {
      "text/plain": [
       "[('this', 'is'), ('is', 'python'), ('python', 'script')]"
      ]
     },
     "execution_count": 39,
     "metadata": {},
     "output_type": "execute_result"
    }
   ],
   "source": [
    "#28.2.2  zip으로 2-gram 만들기\n",
    "text = 'hello'\n",
    " \n",
    "two_gram = zip(text, text[1:])\n",
    "for i in two_gram:\n",
    "    print(i[0], i[1], sep='')\n",
    "\n",
    "text = 'this is python script'\n",
    "words = text.split()\n",
    "list(zip(words, words[1:]))\n"
   ]
  },
  {
   "cell_type": "code",
   "execution_count": 40,
   "id": "23273272",
   "metadata": {},
   "outputs": [
    {
     "data": {
      "text/plain": [
       "['hello', 'ello', 'llo']"
      ]
     },
     "execution_count": 40,
     "metadata": {},
     "output_type": "execute_result"
    }
   ],
   "source": [
    "#28.2.3  zip과 리스트 표현식으로 N-gram 만들기  암기-------------------------------------------------------------------------\n",
    "text = 'hello'\n",
    "[text[i:] for i in range(3)]\n"
   ]
  },
  {
   "cell_type": "code",
   "execution_count": 41,
   "id": "a608febe",
   "metadata": {},
   "outputs": [
    {
     "name": "stdout",
     "output_type": "stream",
     "text": [
      "30\n",
      "200\n"
     ]
    }
   ],
   "source": [
    "#29 함수 호출 스택 개념\n",
    "def mul(a, b):\n",
    "    c = a * b\n",
    "    return c\n",
    " \n",
    "def add(a, b):\n",
    "    c = a + b\n",
    "    print(c)\n",
    "    d = mul(a, b)\n",
    "    print(d)\n",
    "\n",
    "x = 10\n",
    "y = 20\n",
    "add(x, y)"
   ]
  },
  {
   "cell_type": "code",
   "execution_count": 44,
   "id": "8b2a837b",
   "metadata": {},
   "outputs": [
    {
     "name": "stdout",
     "output_type": "stream",
     "text": [
      "큰 수, 작은 수 입력 : 100 5\n",
      "몫: 20, 나머지: 0\n"
     ]
    }
   ],
   "source": [
    "#29.3 연습문제: 몫과 나머지를 구하는 함수 만들기\n",
    "x, y = map(int,input('큰 수, 작은 수 입력 : ').split())\n",
    "\n",
    "def get_quotient_remainder(x, y):\n",
    "    mok = x // y\n",
    "    nam = x % y\n",
    "    return mok, nam\n",
    "                                 \n",
    "                                 \n",
    "quotient, remainder = get_quotient_remainder(x, y)\n",
    "print('몫: {0}, 나머지: {1}'.format(quotient, remainder))"
   ]
  },
  {
   "cell_type": "code",
   "execution_count": 47,
   "id": "3d3e99da",
   "metadata": {},
   "outputs": [
    {
     "name": "stdout",
     "output_type": "stream",
     "text": [
      "9 4\n",
      "덧셈: 13, 뺄셈: 5, 곱셈: 36, 나눗셈: 2.25\n"
     ]
    }
   ],
   "source": [
    "#/ ►29.4 심사문제: 사칙 연산 함수 만들기\n",
    "\n",
    "x, y = map(int, input().split())\n",
    "\n",
    "def calc(x,y):\n",
    "    return x+y, x-y, x*y, x/y\n",
    "\n",
    "a, s, m, d = calc(x, y)\n",
    "print('덧셈: {0}, 뺄셈: {1}, 곱셈: {2}, 나눗셈: {3}'.format(a, s, m, d))"
   ]
  },
  {
   "cell_type": "code",
   "execution_count": 49,
   "id": "1163efb0",
   "metadata": {},
   "outputs": [
    {
     "name": "stdout",
     "output_type": "stream",
     "text": [
      "10\n",
      "10\n",
      "20\n",
      "30\n"
     ]
    }
   ],
   "source": [
    "#30.1 위치 인수와 리스트 언패킹 사용하기\n",
    "\n",
    "#가변인수   암기 ----------------------------------\n",
    "def print_numbers(*args):\n",
    "    for arg in args:\n",
    "        print(arg)\n",
    "        \n",
    "print_numbers(10)\n",
    "print_numbers(10,20,30)"
   ]
  },
  {
   "cell_type": "code",
   "execution_count": 50,
   "id": "3669f835",
   "metadata": {},
   "outputs": [
    {
     "name": "stdout",
     "output_type": "stream",
     "text": [
      "이름:  홍길동\n",
      "나이:  30\n",
      "주소:  서울시 용산구 이촌동\n",
      "이름:  홍길동\n",
      "나이:  30\n",
      "주소:  서울시 용산구 이촌동\n"
     ]
    }
   ],
   "source": [
    "#30.2 키워드 인수 사용하기\n",
    "def personal_info(name, age, address):\n",
    "    print('이름: ', name)\n",
    "    print('나이: ', age)\n",
    "    print('주소: ', address)\n",
    "\n",
    "personal_info(name='홍길동', age=30, address='서울시 용산구 이촌동')\n",
    "personal_info(age=30, address='서울시 용산구 이촌동', name='홍길동')\n",
    "\n",
    "#30.3 키워드 인수와 딕셔너리 언패킹 사용하기\n",
    "x = {'name': '홍길동', 'age': 30, 'address': '서울시 용산구 이촌동'}\n",
    ">>> personal_info(**x)"
   ]
  },
  {
   "cell_type": "code",
   "execution_count": 52,
   "id": "f799886c",
   "metadata": {},
   "outputs": [],
   "source": [
    "#30.3.2  키워드 인수를 사용하는 가변 인수 함수 만들기\n",
    "def personal_info(**kwargs):\n",
    "    for kw, arg in kwargs.items():\n",
    "        print(kw, ': ', arg, sep='')\n",
    "\n",
    "def personal_info(**kwargs):\n",
    "    if 'name' in kwargs:    # in으로 딕셔너리 안에 특정 키가 있는지 확인\n",
    "        print('이름: ', kwargs['name'])\n",
    "    if 'age' in kwargs:\n",
    "        print('나이: ', kwargs['age'])\n",
    "    if 'address' in kwargs:\n",
    "        print('주소: ', kwargs['address'])"
   ]
  },
  {
   "cell_type": "code",
   "execution_count": null,
   "id": "21462eeb",
   "metadata": {},
   "outputs": [],
   "source": [
    "#30.4 매개변수에 초깃값 지정하기\n",
    "def personal_info(name, age, address='비공개'):\n",
    "    print('이름: ', name)\n",
    "    print('나이: ', age)\n",
    "    print('주소: ', address)"
   ]
  },
  {
   "cell_type": "code",
   "execution_count": 54,
   "id": "ae42b2de",
   "metadata": {},
   "outputs": [
    {
     "name": "stdout",
     "output_type": "stream",
     "text": [
      "높은 점수: 100\n",
      "높은 점수: 87\n"
     ]
    }
   ],
   "source": [
    "#30.6 연습문제: 가장 높은 점수를 구하는 함수 만들기\n",
    "korean, english, mathematics, science = 100, 86, 81, 91\n",
    "\n",
    "def get_max_score(*args):\n",
    "    max_score = max(*args)\n",
    "    return max_score\n",
    "\n",
    "max_score = get_max_score(korean, english, mathematics, science)\n",
    "print('높은 점수:', max_score)\n",
    " \n",
    "english,  science = 87, 86\n",
    "max_score = get_max_score(english, science)\n",
    "print('높은 점수:', max_score)"
   ]
  },
  {
   "cell_type": "code",
   "execution_count": 61,
   "id": "595e8263",
   "metadata": {},
   "outputs": [
    {
     "name": "stdout",
     "output_type": "stream",
     "text": [
      "89 92 73 83\n",
      "낮은 점수: 73.00, 높은 점수: 92.00, 평균 점수: 84.25\n",
      "낮은 점수: 83.00, 높은 점수: 92.00, 평균 점수: 87.50\n"
     ]
    }
   ],
   "source": [
    "#/ ►30.7 심사문제: 가장 낮은 점수, 높은 점수와 평균 점수를 구하는 함수 만들기\n",
    "korean, english, mathematics, science = map(int, input().split())\n",
    "\n",
    "def get_min_max_score(*args):\n",
    "    min_score = min(*args)\n",
    "    max_score = max(*args)\n",
    "    return min_score, max_score\n",
    "    \n",
    "def get_average(**kwargs):\n",
    "    total = sum(kwargs.values())\n",
    "    avg = total / len(kwargs)\n",
    "    return avg\n",
    "\n",
    "min_score, max_score = get_min_max_score(korean, english, mathematics, science)\n",
    "average_score = get_average(korean=korean, english=english,\n",
    "                            mathematics=mathematics, science=science)\n",
    "print('낮은 점수: {0:.2f}, 높은 점수: {1:.2f}, 평균 점수: {2:.2f}'\n",
    "      .format(min_score, max_score, average_score))\n",
    " \n",
    "min_score, max_score = get_min_max_score(english, science)\n",
    "average_score = get_average(english=english, science=science)\n",
    "print('낮은 점수: {0:.2f}, 높은 점수: {1:.2f}, 평균 점수: {2:.2f}'\n",
    "      .format(min_score, max_score, average_score))"
   ]
  },
  {
   "cell_type": "code",
   "execution_count": 62,
   "id": "ab022a59",
   "metadata": {},
   "outputs": [
    {
     "name": "stdout",
     "output_type": "stream",
     "text": [
      "Hello, world! 6\n",
      "Hello, world! 5\n",
      "Hello, world! 4\n",
      "Hello, world! 3\n",
      "Hello, world! 2\n",
      "Hello, world! 1\n"
     ]
    }
   ],
   "source": [
    "# 31.1 재귀호출 사용하기\n",
    "def hello(count):\n",
    "    if count == 0:    # 종료 조건을 만듦. count가 0이면 다시 hello 함수를 호출하지 않고 끝냄\n",
    "        return    \n",
    "    print('Hello, world!', count)    \n",
    "    count -= 1      # count를 1 감소시킨 뒤\n",
    "    hello(count)    # 다시 hello에 넣음\n",
    "    \n",
    "hello(6)"
   ]
  },
  {
   "cell_type": "code",
   "execution_count": 63,
   "id": "88735c54",
   "metadata": {},
   "outputs": [
    {
     "name": "stdout",
     "output_type": "stream",
     "text": [
      "120\n"
     ]
    }
   ],
   "source": [
    "#31.2 재귀호출로 팩토리얼 구하기\n",
    "def factorial(n):\n",
    "    if n == 1:      # n이 1일 때\n",
    "        return 1    # 1을 반환하고 재귀호출을 끝냄\n",
    "    return n * factorial(n - 1)    # n과 factorial 함수에 n - 1을 넣어서 반환된 값을 곱함\n",
    " \n",
    "print(factorial(5))"
   ]
  },
  {
   "cell_type": "code",
   "execution_count": 64,
   "id": "4e7f274e",
   "metadata": {},
   "outputs": [
    {
     "name": "stdout",
     "output_type": "stream",
     "text": [
      "False\n",
      "True\n"
     ]
    }
   ],
   "source": [
    "#31.4 연습문제: 재귀호출로 회문 판별하기\n",
    "def is_palindrome(word):\n",
    "    if len(word) < 2:\n",
    "        return True\n",
    "    if word[0] != word[-1]:\n",
    "        return False\n",
    "    return is_palindrome(word[1:-1])\n",
    "                                    \n",
    "\n",
    "print(is_palindrome('hello'))\n",
    "print(is_palindrome('level'))"
   ]
  },
  {
   "cell_type": "code",
   "execution_count": 67,
   "id": "b90cc1ca",
   "metadata": {},
   "outputs": [
    {
     "name": "stdout",
     "output_type": "stream",
     "text": [
      "3\n",
      "2\n"
     ]
    }
   ],
   "source": [
    "#31.4 연습문제: 재귀호출로 회문 판별하기핵심 정리 ▶︎\n",
    "def fib(n):\n",
    "    if n==1 or n==2:\n",
    "        return 1\n",
    "    else:\n",
    "        return fib(n-1) + fib(n-2)\n",
    "\n",
    "n=int(input())\n",
    "print(fib(n))"
   ]
  },
  {
   "cell_type": "code",
   "execution_count": null,
   "id": "bfcbc864",
   "metadata": {},
   "outputs": [],
   "source": []
  },
  {
   "cell_type": "code",
   "execution_count": null,
   "id": "40e32c6c",
   "metadata": {},
   "outputs": [],
   "source": []
  }
 ],
 "metadata": {
  "kernelspec": {
   "display_name": "Python 3 (ipykernel)",
   "language": "python",
   "name": "python3"
  },
  "language_info": {
   "codemirror_mode": {
    "name": "ipython",
    "version": 3
   },
   "file_extension": ".py",
   "mimetype": "text/x-python",
   "name": "python",
   "nbconvert_exporter": "python",
   "pygments_lexer": "ipython3",
   "version": "3.9.7"
  }
 },
 "nbformat": 4,
 "nbformat_minor": 5
}
