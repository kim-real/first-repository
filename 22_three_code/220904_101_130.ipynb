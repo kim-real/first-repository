{
 "cells": [
  {
   "cell_type": "code",
   "execution_count": 1,
   "id": "81be5731",
   "metadata": {},
   "outputs": [
    {
     "name": "stdout",
     "output_type": "stream",
     "text": [
      "3\n",
      "5\n"
     ]
    }
   ],
   "source": [
    "#출력 결과를 예상\n",
    "if True :\n",
    "    if False:\n",
    "        print(\"1\")\n",
    "        print(\"2\")\n",
    "    else:\n",
    "        print(\"3\")\n",
    "else :\n",
    "    print(\"4\")\n",
    "print(\"5\")"
   ]
  },
  {
   "cell_type": "code",
   "execution_count": 2,
   "id": "6239ff8c",
   "metadata": {},
   "outputs": [
    {
     "name": "stdout",
     "output_type": "stream",
     "text": [
      "안녕하세요\n",
      "안녕하세요안녕하세요\n"
     ]
    }
   ],
   "source": [
    "#문자열을 두 번 출력\n",
    "a=input()\n",
    "print(a*2)"
   ]
  },
  {
   "cell_type": "code",
   "execution_count": 4,
   "id": "2d363dd6",
   "metadata": {},
   "outputs": [
    {
     "name": "stdout",
     "output_type": "stream",
     "text": [
      "10\n",
      "20\n"
     ]
    }
   ],
   "source": [
    "#입력 10더해출력\n",
    "a=int(input())\n",
    "print(a+10)"
   ]
  },
  {
   "cell_type": "code",
   "execution_count": 6,
   "id": "e2762424",
   "metadata": {},
   "outputs": [
    {
     "name": "stdout",
     "output_type": "stream",
     "text": [
      "5\n",
      "홀수\n"
     ]
    }
   ],
   "source": [
    "#숫자를 입력 받고 짝수/홀수를 판별\n",
    "a=int(input())\n",
    "if a % 2 == 0:\n",
    "    print('짝수')\n",
    "else:\n",
    "    print('홀수')"
   ]
  },
  {
   "cell_type": "code",
   "execution_count": 8,
   "id": "b7be7f8f",
   "metadata": {},
   "outputs": [
    {
     "name": "stdout",
     "output_type": "stream",
     "text": [
      "240\n",
      "255\n"
     ]
    }
   ],
   "source": [
    "#입력한 값과 20을 더한 계산 값이 255를 초과\n",
    "a=int(input())\n",
    "if (a+20) > 255:\n",
    "    print(255)\n",
    "else:\n",
    "    print(a+20)"
   ]
  },
  {
   "cell_type": "code",
   "execution_count": 11,
   "id": "997b5481",
   "metadata": {},
   "outputs": [
    {
     "name": "stdout",
     "output_type": "stream",
     "text": [
      "100\n",
      "80\n"
     ]
    }
   ],
   "source": [
    "#해당 값에 20을 뺀 값을 출력하라\n",
    "a=int(input())\n",
    "if (a-20) < 0:\n",
    "    print(0)\n",
    "elif (a-20) > 255:\n",
    "    print(255)\n",
    "else:\n",
    "    print(a-20)"
   ]
  },
  {
   "cell_type": "code",
   "execution_count": 14,
   "id": "b2b23478",
   "metadata": {},
   "outputs": [
    {
     "name": "stdout",
     "output_type": "stream",
     "text": [
      "02:10\n",
      "정각 아님\n"
     ]
    }
   ],
   "source": [
    "#시간이 정각인지 판별\n",
    "a=input()\n",
    "if a[-2:] == '00':\n",
    "    print('정각')\n",
    "else:\n",
    "    print('정각 아님')"
   ]
  },
  {
   "cell_type": "code",
   "execution_count": 18,
   "id": "29548e76",
   "metadata": {},
   "outputs": [
    {
     "name": "stdout",
     "output_type": "stream",
     "text": [
      "오이\n",
      "오답\n"
     ]
    }
   ],
   "source": [
    "#포함되었다면 \"정답입니\n",
    "a=input()\n",
    "\n",
    "fruit = [\"사과\", \"포도\", \"홍시\"]\n",
    "if a in fruit:\n",
    "    print('정답입니다')\n",
    "else:\n",
    "    print('오답')"
   ]
  },
  {
   "cell_type": "code",
   "execution_count": 21,
   "id": "29f24d93",
   "metadata": {},
   "outputs": [
    {
     "name": "stdout",
     "output_type": "stream",
     "text": [
      "달력\n",
      "아님\n"
     ]
    }
   ],
   "source": [
    "#포함되었다면 표시\n",
    "a=input()\n",
    "warn_investment_list = [\"Microsoft\", \"Google\", \"Naver\", \"Kakao\", \"SAMSUNG\", \"LG\"]\n",
    "if a in warn_investment_list:\n",
    "    print('투자경고')\n",
    "else:\n",
    "    print('아님')"
   ]
  },
  {
   "cell_type": "code",
   "execution_count": 26,
   "id": "a10b50c3",
   "metadata": {},
   "outputs": [
    {
     "name": "stdout",
     "output_type": "stream",
     "text": [
      "봄\n",
      "정답\n"
     ]
    }
   ],
   "source": [
    "#포함되었다면 표시\n",
    "a=input()\n",
    "fruit = {\"봄\" : \"딸기\", \"여름\" : \"토마토\", \"가을\" : \"사과\"}\n",
    "if a in fruit:\n",
    "    print('정답')\n",
    "else:\n",
    "    print('오답')"
   ]
  },
  {
   "cell_type": "code",
   "execution_count": 25,
   "id": "251663e4",
   "metadata": {},
   "outputs": [
    {
     "name": "stdout",
     "output_type": "stream",
     "text": [
      "딸기\n",
      "정답\n"
     ]
    }
   ],
   "source": [
    "#포함되었다면 표시\n",
    "a=input()\n",
    "fruit = {\"봄\" : \"딸기\", \"여름\" : \"토마토\", \"가을\" : \"사과\"}\n",
    "if a in fruit.values():\n",
    "    print('정답')\n",
    "else:\n",
    "    print('오답')"
   ]
  },
  {
   "cell_type": "code",
   "execution_count": 29,
   "id": "091bf069",
   "metadata": {},
   "outputs": [
    {
     "name": "stdout",
     "output_type": "stream",
     "text": [
      "A\n",
      "a\n"
     ]
    }
   ],
   "source": [
    "# 소문자일 경우 대문자로, 대문자 일 경우, 소문자로 변경해서 출력\n",
    "a=input()\n",
    "if a.islower():\n",
    "    print(a.upper())\n",
    "else:\n",
    "    print(a.lower())"
   ]
  },
  {
   "cell_type": "code",
   "execution_count": 32,
   "id": "3ba4024f",
   "metadata": {},
   "outputs": [
    {
     "name": "stdout",
     "output_type": "stream",
     "text": [
      "101\n",
      "점수 오류\n"
     ]
    }
   ],
   "source": [
    "#학점 출력\n",
    "a=int(input())\n",
    "if 81 <= a <= 100:\n",
    "    print('A')\n",
    "elif 61<= a <= 80:\n",
    "    print('B')\n",
    "elif 41 <= a <= 60:\n",
    "    print('C')\n",
    "elif 21 <= a <= 40:\n",
    "    print('D')\n",
    "elif 0 <= a <=20:\n",
    "    print('E')\n",
    "else:\n",
    "    print('점수 오류')"
   ]
  },
  {
   "cell_type": "code",
   "execution_count": 40,
   "id": "b24c1620",
   "metadata": {},
   "outputs": [
    {
     "name": "stdout",
     "output_type": "stream",
     "text": [
      "입력: 100 엔\n",
      " 100.96 원 \n"
     ]
    }
   ],
   "source": [
    "#입력를 원으로 변환하는 프로그램\n",
    "a, b = list(map(str,input('입력: ').split()))\n",
    "\n",
    "change={'달러': 1167, '엔':1.0096, '유로':1268, '위안':171}\n",
    "\n",
    "if b in change:\n",
    "    print(' %0.2f 원 ' % (float(a)*change[b]))\n",
    "else:\n",
    "    print('환율에러')"
   ]
  },
  {
   "cell_type": "code",
   "execution_count": 44,
   "id": "58d60010",
   "metadata": {},
   "outputs": [
    {
     "name": "stdout",
     "output_type": "stream",
     "text": [
      "input number1: 2\n",
      "input number2: 3\n",
      "input number3: 4\n",
      "4\n"
     ]
    }
   ],
   "source": [
    "#세 개의 숫자를 입력 받은 후 가장 큰 숫자\n",
    "a=int(input('input number1: '))\n",
    "b=int(input('input number2: '))\n",
    "c=int(input('input number3: '))\n",
    "\n",
    "print(max(a,b,c))"
   ]
  },
  {
   "cell_type": "code",
   "execution_count": 49,
   "id": "6a7e8517",
   "metadata": {},
   "outputs": [
    {
     "name": "stdout",
     "output_type": "stream",
     "text": [
      "016\n",
      "당신은 KT 사용자입니다.\n"
     ]
    }
   ],
   "source": [
    "#휴대전화 번호를 입력 받고, 통신사를 출력\n",
    "change={'011':'SKT' , '016':'KT', '019':'LGU', '010':'알수없음'}\n",
    "\n",
    "a=input()\n",
    "\n",
    "if a in change:\n",
    "    print('당신은 %s 사용자입니다.' % change[a])\n",
    "else:\n",
    "    print('없는 통신사입니다')"
   ]
  },
  {
   "cell_type": "code",
   "execution_count": 13,
   "id": "a255057e",
   "metadata": {},
   "outputs": [
    {
     "name": "stdout",
     "output_type": "stream",
     "text": [
      "02000\n",
      "없는 우편번호\n"
     ]
    }
   ],
   "source": [
    "#사용자로 부터 5자리 우편번호를 입력받고 구를 판별\n",
    "a=input()\n",
    "\n",
    "gu = {'010':'강북구', '011':'강북구', '012':'강북구', '013':'도봉구', '014':'도봉구', '015':'도봉구', '016':'노원구', '017':'노원구', '018':'노원구', '019':'노원구'}\n",
    "\n",
    "if len(a) == 5:\n",
    "    if a[:3] in gu:\n",
    "        print(gu[a[:3]])\n",
    "    else:\n",
    "        print('없는 우편번호')\n",
    "else:\n",
    "    print('우편번호 형식오류')\n",
    " "
   ]
  },
  {
   "cell_type": "code",
   "execution_count": 21,
   "id": "6413669b",
   "metadata": {},
   "outputs": [
    {
     "name": "stdout",
     "output_type": "stream",
     "text": [
      "주민번호: 600415-600415\n",
      "2번호 오류\n"
     ]
    }
   ],
   "source": [
    "#주민번호\n",
    "a=input('주민번호: ')\n",
    "\n",
    "b, c = a.split('-')\n",
    "\n",
    "if len(a) == 14 and a[6] == '-':\n",
    "    if c[0] == '1' or c[0] == '3':\n",
    "        print('남자')\n",
    "    elif c[0] == '2' or c[0] == '4':\n",
    "        print('여자')\n",
    "    else:\n",
    "        print('1번호 오류')\n",
    "else:\n",
    "    print('2번호 오류')\n",
    "        "
   ]
  },
  {
   "cell_type": "code",
   "execution_count": 26,
   "id": "6a85d375",
   "metadata": {},
   "outputs": [
    {
     "name": "stdout",
     "output_type": "stream",
     "text": [
      "주민번호: 600415-1207114\n",
      "지역 오류\n"
     ]
    }
   ],
   "source": [
    "# 출생지\n",
    "a=input('주민번호: ')\n",
    "\n",
    "b, c = a.split('-')\n",
    "\n",
    "if len(a) == 14 and a[6] == '-':\n",
    "    if '00' <= c[1:3] <= '08':\n",
    "        print('서울입니다')\n",
    "    elif '09' <= c[1:3] <= '12':\n",
    "        print('부산입니다')\n",
    "    else:\n",
    "        print('지역 오류')\n",
    "else:\n",
    "    print('번호 오류')"
   ]
  },
  {
   "cell_type": "code",
   "execution_count": 41,
   "id": "a7b190c1",
   "metadata": {},
   "outputs": [
    {
     "name": "stdout",
     "output_type": "stream",
     "text": [
      "상승장\n"
     ]
    }
   ],
   "source": [
    "import requests\n",
    "btc = requests.get(\"https://api.bithumb.com/public/ticker/\").json()['data']\n",
    "\n",
    "a=int(btc['max_price']) - int(btc['min_price'])\n",
    "b=int(btc['opening_price']) + a\n",
    "if b > int(btc['max_price']):\n",
    "    print('상승장')\n",
    "else:\n",
    "    print('하락장')"
   ]
  },
  {
   "cell_type": "code",
   "execution_count": null,
   "id": "bb57a955",
   "metadata": {},
   "outputs": [],
   "source": []
  }
 ],
 "metadata": {
  "kernelspec": {
   "display_name": "Python 3 (ipykernel)",
   "language": "python",
   "name": "python3"
  },
  "language_info": {
   "codemirror_mode": {
    "name": "ipython",
    "version": 3
   },
   "file_extension": ".py",
   "mimetype": "text/x-python",
   "name": "python",
   "nbconvert_exporter": "python",
   "pygments_lexer": "ipython3",
   "version": "3.9.7"
  }
 },
 "nbformat": 4,
 "nbformat_minor": 5
}
