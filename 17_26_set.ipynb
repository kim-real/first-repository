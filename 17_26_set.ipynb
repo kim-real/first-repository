{
 "cells": [
  {
   "cell_type": "code",
   "execution_count": 1,
   "id": "f8fbb9bb",
   "metadata": {},
   "outputs": [
    {
     "data": {
      "text/plain": [
       "{'cherry', 'grape', 'orange', 'pineapple', 'strawberry'}"
      ]
     },
     "execution_count": 1,
     "metadata": {},
     "output_type": "execute_result"
    }
   ],
   "source": [
    "#26.1 세트 만들기\n",
    "fruits = {'strawberry', 'grape', 'orange', 'pineapple', 'cherry'}  #세트 = {값1, 값2, 값3}\n",
    "fruits"
   ]
  },
  {
   "cell_type": "code",
   "execution_count": 3,
   "id": "22cbba0b",
   "metadata": {},
   "outputs": [
    {
     "data": {
      "text/plain": [
       "False"
      ]
     },
     "execution_count": 3,
     "metadata": {},
     "output_type": "execute_result"
    }
   ],
   "source": [
    "#26.1.1  세트에 특정 값이 있는지 확인하기\n",
    "fruits = {'strawberry', 'grape', 'orange', 'pineapple', 'cherry'}\n",
    "#'orange' in fruits\n",
    "'orange' not in fruits"
   ]
  },
  {
   "cell_type": "code",
   "execution_count": 13,
   "id": "1a921d6d",
   "metadata": {},
   "outputs": [
    {
     "data": {
      "text/plain": [
       "frozenset({frozenset({3, 4}), frozenset({1, 2})})"
      ]
     },
     "execution_count": 13,
     "metadata": {},
     "output_type": "execute_result"
    }
   ],
   "source": [
    "#26.1.2  set를 사용하여 세트 만들기\n",
    "\n",
    "#a = set('apple')   #set(반복가능한객체)\n",
    "#a\n",
    "#b = set(range(5))\n",
    "#b\n",
    "#c = set()\n",
    "#c\n",
    "#d = frozenset(range(10))    #프로즌세트 = frozenset(반복가능한객체)\n",
    "#d\n",
    "e=frozenset({frozenset({1, 2}), frozenset({3, 4})})\n",
    "e"
   ]
  },
  {
   "cell_type": "code",
   "execution_count": 21,
   "id": "73b63fd3",
   "metadata": {},
   "outputs": [
    {
     "data": {
      "text/plain": [
       "{1, 2, 5, 6}"
      ]
     },
     "execution_count": 21,
     "metadata": {},
     "output_type": "execute_result"
    }
   ],
   "source": [
    "#26.2 집합 연산 사용하기\n",
    "a = {1, 2, 3, 4}\n",
    "b = {3, 4, 5, 6}\n",
    "#a | b                #세트1 | 세트2\n",
    "#set.union(a, b)          #set.union(세트1, 세트2)\n",
    "#a & b                         #세트1 & 세트2\n",
    "#set.intersection(a, b)   #set.intersection(a, b)\n",
    "#a - b                   #세트1 - 세트2\n",
    "#set.difference(a, b)  #set.difference(세트1, 세트2)\n",
    "#a ^ b                         #세트1 ^ 세트2\n",
    "set.symmetric_difference(a, b)  # set.symmetric_difference(세트1, 세트2)"
   ]
  },
  {
   "cell_type": "code",
   "execution_count": 30,
   "id": "6709f9b1",
   "metadata": {},
   "outputs": [
    {
     "data": {
      "text/plain": [
       "{1, 2, 5, 6}"
      ]
     },
     "execution_count": 30,
     "metadata": {},
     "output_type": "execute_result"
    }
   ],
   "source": [
    "#26.2.1  집합 연산 후 할당 연산자 사용하기\n",
    "a = {1, 2, 3, 4}\n",
    "#a |= {5}\n",
    "#a.update({5})\n",
    "#a &= {0, 1, 2, 3, 4}\n",
    "#a.intersection_update({0, 1, 2, 3, 4})\n",
    "#a -= {3}\n",
    "#a.difference_update({3})\n",
    "#a ^= {3, 4, 5, 6}\n",
    "a.symmetric_difference_update({3, 4, 5, 6})\n",
    "a"
   ]
  },
  {
   "cell_type": "code",
   "execution_count": null,
   "id": "f110225d",
   "metadata": {},
   "outputs": [],
   "source": [
    "#26.2.2  부분 집합과 상위집합 확인하기\n",
    ">>> a = {1, 2, 3, 4}\n",
    ">>> a <= {1, 2, 3, 4}\n",
    "True\n",
    ">>> a.issubset({1, 2, 3, 4, 5})\n",
    "True\n",
    ">>> a = {1, 2, 3, 4}\n",
    ">>> a < {1, 2, 3, 4, 5}\n",
    "True\n",
    ">>> a = {1, 2, 3, 4}\n",
    ">>> a >= {1, 2, 3, 4}\n",
    "True\n",
    ">>> a.issuperset({1, 2, 3, 4})\n",
    "True\n",
    ">>> a = {1, 2, 3, 4}\n",
    ">>> a > {1, 2, 3}\n",
    "True"
   ]
  },
  {
   "cell_type": "code",
   "execution_count": null,
   "id": "5b1b91f7",
   "metadata": {},
   "outputs": [],
   "source": [
    "#26.2.3  세트가 같은지 다른지 확인하기\n",
    ">>> a = {1, 2, 3, 4}\n",
    ">>> a == {1, 2, 3, 4}\n",
    "True\n",
    ">>> a == {4, 2, 1, 3}\n",
    "True\n",
    ">>> a = {1, 2, 3, 4}\n",
    ">>> a != {1, 2, 3}\n",
    "True"
   ]
  },
  {
   "cell_type": "code",
   "execution_count": null,
   "id": "6235b17d",
   "metadata": {},
   "outputs": [],
   "source": [
    "#26.2.4  세트가 겹치지 않는지 확인하기\n",
    ">>> a = {1, 2, 3, 4}\n",
    ">>> a.isdisjoint({5, 6, 7, 8})       # 겹치는 요소가 없음\n",
    "True\n",
    ">>> a.isdisjoint({3, 4, 5, 6})    # a와 3, 4가 겹침\n",
    "False"
   ]
  },
  {
   "cell_type": "code",
   "execution_count": null,
   "id": "b4e4c19b",
   "metadata": {},
   "outputs": [],
   "source": [
    "#26.3.1  세트에 요소 추가하기\n",
    "a = {1, 2, 3, 4}\n",
    ">>> a.add(5)"
   ]
  },
  {
   "cell_type": "code",
   "execution_count": null,
   "id": "d07946aa",
   "metadata": {},
   "outputs": [],
   "source": [
    "#26.3.2  세트에서 특정 요소를 삭제하기\n",
    " a.remove(3)\n",
    ">>> a\n",
    " a.discard(2)\n",
    ">>> a\n",
    "{1, 4, 5}\n",
    ">>> a.discard(3)\n",
    ">>> a"
   ]
  },
  {
   "cell_type": "code",
   "execution_count": null,
   "id": "04212592",
   "metadata": {},
   "outputs": [],
   "source": [
    "#26.3.3  세트에서 임의의 요소 삭제하기\n",
    "a = {1, 2, 3, 4}\n",
    ">>> a.pop()\n",
    ">>> a.clear()\n",
    ">>> a\n",
    "a = {1, 2, 3, 4}\n",
    ">>> len(a)"
   ]
  },
  {
   "cell_type": "code",
   "execution_count": null,
   "id": "78490eb4",
   "metadata": {},
   "outputs": [],
   "source": [
    "#26.4 세트의 할당과 복사\n",
    "a = {1, 2, 3, 4}\n",
    ">>> b = a\n",
    "a = {1, 2, 3, 4}\n",
    ">>> b = a.copy()\n",
    ">>> a is b\n",
    "False\n",
    ">>> a == b\n",
    "True"
   ]
  },
  {
   "cell_type": "code",
   "execution_count": null,
   "id": "938e2b32",
   "metadata": {},
   "outputs": [],
   "source": [
    "#26.6 세트 표현식 사용하기\n",
    " a = {i for i in 'apple'}\n",
    ">>> a\n",
    "{'l', 'p', 'e', 'a'}\n",
    "#26.6.1  세트 표현식에 if 조건문 사용하기\n",
    "a = {i for i in 'pineapple' if i not in 'apl'}\n",
    ">>> a"
   ]
  },
  {
   "cell_type": "code",
   "execution_count": null,
   "id": "25669a40",
   "metadata": {},
   "outputs": [],
   "source": [
    "#26.8 연습문제: 공배수 구하기\n",
    "a={i for i range(1:101) if i % 3 == 0}"
   ]
  }
 ],
 "metadata": {
  "kernelspec": {
   "display_name": "Python 3 (ipykernel)",
   "language": "python",
   "name": "python3"
  },
  "language_info": {
   "codemirror_mode": {
    "name": "ipython",
    "version": 3
   },
   "file_extension": ".py",
   "mimetype": "text/x-python",
   "name": "python",
   "nbconvert_exporter": "python",
   "pygments_lexer": "ipython3",
   "version": "3.9.7"
  }
 },
 "nbformat": 4,
 "nbformat_minor": 5
}
