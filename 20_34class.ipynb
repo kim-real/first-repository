{
 "cells": [
  {
   "cell_type": "code",
   "execution_count": 1,
   "id": "d103e393",
   "metadata": {},
   "outputs": [
    {
     "name": "stdout",
     "output_type": "stream",
     "text": [
      "Hello\n"
     ]
    }
   ],
   "source": [
    "#Unit 34. 클래스 사용하기\n",
    "#34.1 클래스와 메서드 만들기\n",
    "class Person:\n",
    "     def greeting(self):\n",
    "        print('Hello')\n",
    "james = Person()\n",
    "#34.1.1  메서드 호출하기\n",
    "james.greeting()"
   ]
  },
  {
   "cell_type": "code",
   "execution_count": 2,
   "id": "54767a94",
   "metadata": {},
   "outputs": [
    {
     "data": {
      "text/plain": [
       "[0, 1, 2, 3, 4, 5, 6, 7, 8, 9, 20]"
      ]
     },
     "execution_count": 2,
     "metadata": {},
     "output_type": "execute_result"
    }
   ],
   "source": [
    "#34.1.2  파이썬에서 흔히 볼 수 있는 클래스\n",
    "b = list(range(10))  #list는 클래스 , range는 instance\n",
    "b.append(20)          #append는 메소드\n",
    "b"
   ]
  },
  {
   "cell_type": "code",
   "execution_count": null,
   "id": "78d1cf42",
   "metadata": {},
   "outputs": [],
   "source": [
    "#34.1.3  인스턴스와 객체의 차이점?\n",
    "#메서드 안에서 메서드 호출하기\n",
    "class Person:\n",
    "    def greeting(self):\n",
    "        print('Hello')\n",
    " \n",
    "    def hello(self):\n",
    "        self.greeting()    # self.메서드() 형식으로 클래스 안의 메서드를 호출\n",
    "\n",
    "james = Person()\n",
    "james.hello()    # Hello"
   ]
  },
  {
   "cell_type": "code",
   "execution_count": 6,
   "id": "b7af6caf",
   "metadata": {},
   "outputs": [
    {
     "name": "stdout",
     "output_type": "stream",
     "text": [
      "5\n",
      "120\n"
     ]
    }
   ],
   "source": [
    "#isinstance(인스턴스, 클래스)\n",
    "class Person:\n",
    "     pass\n",
    "james = Person()\n",
    "isinstance(james, Person)\n",
    "\n",
    "#isinstance는 주로 객체의 자료형을 판단\n",
    "n=int(input())\n",
    "def factorial(n):\n",
    "    if not isinstance(n, int) or n < 0:    # n이 정수가 아니거나 음수이면 함수를 끝냄\n",
    "        return None\n",
    "    if n == 1:\n",
    "        return 1\n",
    "    return n * factorial(n - 1)\n",
    "print(factorial(n))"
   ]
  },
  {
   "cell_type": "code",
   "execution_count": 8,
   "id": "0e593f8e",
   "metadata": {},
   "outputs": [
    {
     "name": "stdout",
     "output_type": "stream",
     "text": [
      "안녕하세요.\n"
     ]
    }
   ],
   "source": [
    "#34.2 속성 사용하기\n",
    "#class 클래스이름:\n",
    "#    def __init__(self):\n",
    "#        self.속성 = 값\n",
    "class Person:\n",
    "    def __init__(self):                 #self는 인스턴스 자기 자신을 의미\n",
    "        self.hello = '안녕하세요.'\n",
    " \n",
    "    def greeting(self):\n",
    "        print(self.hello)\n",
    "\n",
    "james = Person()\n",
    "james.greeting()    # 안녕하세요."
   ]
  },
  {
   "cell_type": "code",
   "execution_count": 1,
   "id": "64054385",
   "metadata": {},
   "outputs": [
    {
     "name": "stdout",
     "output_type": "stream",
     "text": [
      "안녕하세요. 저는 마리아입니다.\n",
      "이름: 마리아\n",
      "나이: 20\n",
      "주소: 서울시 서초구 반포동\n"
     ]
    }
   ],
   "source": [
    "#34.2.2  인스턴스를 만들 때 값 받기\n",
    "#class 클래스이름:\n",
    "#    def __init__(self, 매개변수1, 매개변수2):\n",
    "#        self.속성1 = 매개변수1\n",
    "#        self.속성2 = 매개변수2\n",
    "\n",
    "class Person:\n",
    "    def __init__(self, name, age, address):                 \n",
    "        self.hello = '안녕하세요.'\n",
    "        self.name = name\n",
    "        self.age = age\n",
    "        self.address = address\n",
    " \n",
    "    def greeting(self):\n",
    "        print('{0} 저는 {1}입니다.'.format(self.hello, self.name))\n",
    "\n",
    "maria = Person('마리아', 20, '서울시 서초구 반포동')            #인스턴스를 통해 접근하는 속성을 인스턴스 속성\n",
    "maria.greeting()    # 안녕하세요. 저는 마리아입니다.\n",
    "print('이름:', maria.name)       # 마리아\n",
    "print('나이:', maria.age)        # 20\n",
    "print('주소:', maria.address)    # 서울시 서초구 반포동"
   ]
  },
  {
   "cell_type": "code",
   "execution_count": null,
   "id": "fdb054ce",
   "metadata": {},
   "outputs": [],
   "source": [
    "# 위치 인수와 키워드 인수\n",
    "class Person:\n",
    "    def __init__(self, *args):  #위치함수\n",
    "        self.name = args[0]\n",
    "        self.age = args[1]\n",
    "        self.address = args[2]\n",
    " \n",
    "maria = Person(*['마리아', 20, '서울시 서초구 반포동'])\n",
    "\n",
    "class Person:\n",
    "    def __init__(self, **kwargs):    # 키워드 인수\n",
    "        self.name = kwargs['name']\n",
    "        self.age = kwargs['age']\n",
    "        self.address = kwargs['address']\n",
    " \n",
    "maria1 = Person(name='마리아', age=20, address='서울시 서초구 반포동')\n",
    "maria2 = Person(**{'name': '마리아', 'age': 20, 'address': '서울시 서초구 반포동'})"
   ]
  },
  {
   "cell_type": "code",
   "execution_count": null,
   "id": "23d3f376",
   "metadata": {},
   "outputs": [],
   "source": [
    "#인스턴스를 생성한 뒤에 속성 추가하기, 특정 속성만 허용하기\n",
    "class Person:\n",
    "    def greeting(self):\n",
    "         self.hello = '안녕하세요'    # greeting 메서드에서 hello 속성 추가\n",
    "\n",
    "maria = Person()\n",
    "maria.hello    # 아직 hello 속성이 없음\n",
    "\n",
    "maria.greeting()    # greeting 메서드를 호출해야\n",
    "maria.hello         # hello 속성이 생성됨\n",
    "\n",
    "#  속성만 허용하기\n",
    "class Person:\n",
    "     __slots__ = ['name', 'age']    # name, age만 허용(다른 속성은 생성 제한)\n",
    "\n",
    "maria = Person()\n",
    "maria.name = '마리아'                     # 허용된 속성\n",
    "maria.age = 20                            # 허용된 속성\n",
    "maria.address = '서울시 서초구 반포동'    # 허용되지 않은 속성은 추가할 때 에러가 발생함\n"
   ]
  },
  {
   "cell_type": "code",
   "execution_count": 4,
   "id": "16ada5e2",
   "metadata": {},
   "outputs": [
    {
     "name": "stdout",
     "output_type": "stream",
     "text": [
      "542.4 210.3 38\n",
      "베기\n"
     ]
    }
   ],
   "source": [
    "#34.5 연습문제: 게임 캐릭터 클래스 만들기\n",
    "class Knight:\n",
    "    def __init__(self,health,mana,armor):\n",
    "        self.health = health\n",
    "        self.mana = mana\n",
    "        self.armor = armor\n",
    "        \n",
    "    def slash(self):\n",
    "        print('베기')\n",
    "\n",
    "    \n",
    "x = Knight(health=542.4, mana=210.3, armor=38)\n",
    "print(x.health, x.mana, x.armor)\n",
    "x.slash()"
   ]
  },
  {
   "cell_type": "code",
   "execution_count": 8,
   "id": "3d709c9f",
   "metadata": {},
   "outputs": [
    {
     "name": "stdout",
     "output_type": "stream",
     "text": [
      "1803.68 1184.0 645\n",
      "티버 : 피해량 819.25\n"
     ]
    }
   ],
   "source": [
    "class Annie:\n",
    "    def __init__(self,health,mana,ability_power):\n",
    "        self.health = health\n",
    "        self.mana = mana\n",
    "        self.ability_power = ability_power\n",
    "        \n",
    "    def tibbers(self):\n",
    "        self.health = self.ability_power * 0.65 + 400\n",
    "        \n",
    "    def get_health(self):\n",
    "        return self.health\n",
    "    \n",
    "\n",
    "health, mana, ability_power = map(float, input().split())\n",
    " \n",
    "x = Annie(health=health, mana=mana, ability_power=ability_power)\n",
    "x.tibbers()\n",
    "print('티버 : 피해량', x.get_health())"
   ]
  },
  {
   "cell_type": "code",
   "execution_count": 9,
   "id": "4202f5a3",
   "metadata": {},
   "outputs": [
    {
     "name": "stdout",
     "output_type": "stream",
     "text": [
      "1803.68 1184.0 645\n",
      "티버:피해량  819.25\n"
     ]
    }
   ],
   "source": [
    "class Annie:\n",
    "    def __init__(self,health,mana,ability_power):\n",
    "        self.health=health\n",
    "        self.mana=mana\n",
    "        self.ability_power=ability_power\n",
    "  \n",
    "    def tibbers(self):\n",
    "        a = self.ability_power*0.65 + 400\n",
    "        print(\"티버:피해량 \",a)    \n",
    "    \n",
    "    \n",
    "health, mana, ability_power = map(float, input().split())\n",
    " \n",
    "x = Annie(health=health, mana=mana, ability_power=ability_power)\n",
    "x.tibbers()"
   ]
  },
  {
   "cell_type": "code",
   "execution_count": null,
   "id": "8c15b4ab",
   "metadata": {},
   "outputs": [],
   "source": []
  }
 ],
 "metadata": {
  "kernelspec": {
   "display_name": "Python 3 (ipykernel)",
   "language": "python",
   "name": "python3"
  },
  "language_info": {
   "codemirror_mode": {
    "name": "ipython",
    "version": 3
   },
   "file_extension": ".py",
   "mimetype": "text/x-python",
   "name": "python",
   "nbconvert_exporter": "python",
   "pygments_lexer": "ipython3",
   "version": "3.9.7"
  }
 },
 "nbformat": 4,
 "nbformat_minor": 5
}
